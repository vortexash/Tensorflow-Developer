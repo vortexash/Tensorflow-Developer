{
  "nbformat": 4,
  "nbformat_minor": 0,
  "metadata": {
    "colab": {
      "name": "04-transfer-learning-in-tensorflow-part-1-feature-extraction-video.ipynb",
      "provenance": [],
      "authorship_tag": "ABX9TyMoEvC4wpojP8nz8MW+YuOu",
      "include_colab_link": true
    },
    "kernelspec": {
      "name": "python3",
      "display_name": "Python 3"
    },
    "language_info": {
      "name": "python"
    },
    "accelerator": "GPU"
  },
  "cells": [
    {
      "cell_type": "markdown",
      "metadata": {
        "id": "view-in-github",
        "colab_type": "text"
      },
      "source": [
        "<a href=\"https://colab.research.google.com/github/vortexash/Tensorflow-Developer/blob/main/04_transfer_learning_in_tensorflow_part_1_feature_extraction_video.ipynb\" target=\"_parent\"><img src=\"https://colab.research.google.com/assets/colab-badge.svg\" alt=\"Open In Colab\"/></a>"
      ]
    },
    {
      "cell_type": "markdown",
      "metadata": {
        "id": "maBvDIRON3J9"
      },
      "source": [
        "# Transfer Learning with Tensorflow Part 1: Feature Extraction\n",
        "\n",
        "Transfer learning is leveraging a working model's existing architecture and learned patterns for our own problem.\n",
        "\n",
        "There are two main benifits:\n",
        "1. Can leverage neural network architecture proven to work on problems similar to our own.\n",
        "2. Can leverage working neural network architecture which has already learned patterns on similar data to our own, then we can adapt those patterns to ourr own data."
      ]
    },
    {
      "cell_type": "code",
      "metadata": {
        "colab": {
          "base_uri": "https://localhost:8080/"
        },
        "id": "DFkK8pZqShuQ",
        "outputId": "94bc0383-6642-4db3-bf61-9d1dbc0f8b48"
      },
      "source": [
        "# Are we using a GPU?\n",
        "!nvidia-smi"
      ],
      "execution_count": 1,
      "outputs": [
        {
          "output_type": "stream",
          "name": "stdout",
          "text": [
            "Sun Oct  3 13:15:06 2021       \n",
            "+-----------------------------------------------------------------------------+\n",
            "| NVIDIA-SMI 470.74       Driver Version: 460.32.03    CUDA Version: 11.2     |\n",
            "|-------------------------------+----------------------+----------------------+\n",
            "| GPU  Name        Persistence-M| Bus-Id        Disp.A | Volatile Uncorr. ECC |\n",
            "| Fan  Temp  Perf  Pwr:Usage/Cap|         Memory-Usage | GPU-Util  Compute M. |\n",
            "|                               |                      |               MIG M. |\n",
            "|===============================+======================+======================|\n",
            "|   0  Tesla K80           Off  | 00000000:00:04.0 Off |                    0 |\n",
            "| N/A   36C    P8    27W / 149W |      0MiB / 11441MiB |      0%      Default |\n",
            "|                               |                      |                  N/A |\n",
            "+-------------------------------+----------------------+----------------------+\n",
            "                                                                               \n",
            "+-----------------------------------------------------------------------------+\n",
            "| Processes:                                                                  |\n",
            "|  GPU   GI   CI        PID   Type   Process name                  GPU Memory |\n",
            "|        ID   ID                                                   Usage      |\n",
            "|=============================================================================|\n",
            "|  No running processes found                                                 |\n",
            "+-----------------------------------------------------------------------------+\n"
          ]
        }
      ]
    },
    {
      "cell_type": "markdown",
      "metadata": {
        "id": "MrYhkgSaS31k"
      },
      "source": [
        "## Downloading and becoming one with the data"
      ]
    },
    {
      "cell_type": "code",
      "metadata": {
        "colab": {
          "base_uri": "https://localhost:8080/"
        },
        "id": "viKjbmIdSzMr",
        "outputId": "df951ac9-349d-4efa-9b7a-476d3570ef63"
      },
      "source": [
        "# Get data(10% of 10 data food classes from Food101)\n",
        "import zipfile\n",
        "\n",
        "# Download the data\n",
        "!wget https://storage.googleapis.com/ztm_tf_course/food_vision/10_food_classes_10_percent.zip\n",
        "\n",
        "# Unzip the downloaded file\n",
        "zip_ref = zipfile.ZipFile(\"10_food_classes_10_percent.zip\")\n",
        "zip_ref.extractall()\n",
        "zip_ref.close()"
      ],
      "execution_count": 2,
      "outputs": [
        {
          "output_type": "stream",
          "name": "stdout",
          "text": [
            "--2021-10-03 13:19:31--  https://storage.googleapis.com/ztm_tf_course/food_vision/10_food_classes_10_percent.zip\n",
            "Resolving storage.googleapis.com (storage.googleapis.com)... 142.250.103.128, 108.177.120.128, 142.250.128.128, ...\n",
            "Connecting to storage.googleapis.com (storage.googleapis.com)|142.250.103.128|:443... connected.\n",
            "HTTP request sent, awaiting response... 200 OK\n",
            "Length: 168546183 (161M) [application/zip]\n",
            "Saving to: ‘10_food_classes_10_percent.zip’\n",
            "\n",
            "10_food_classes_10_ 100%[===================>] 160.74M   165MB/s    in 1.0s    \n",
            "\n",
            "2021-10-03 13:19:32 (165 MB/s) - ‘10_food_classes_10_percent.zip’ saved [168546183/168546183]\n",
            "\n"
          ]
        }
      ]
    },
    {
      "cell_type": "code",
      "metadata": {
        "colab": {
          "base_uri": "https://localhost:8080/"
        },
        "id": "j9DJG3cFTz4M",
        "outputId": "911905aa-b1fb-4185-8656-ccf11189ac28"
      },
      "source": [
        "# How many images in each folder?\n",
        "import os\n",
        "\n",
        "# Walk through 10 percent data directory and list number of files\n",
        "for dirpath, dirnames, filenames in os.walk(\"10_food_classes_10_percent\"):\n",
        "  print(f\"There are {len(dirnames)} directories and {len(filenames)} image in '{dirpath}'.\")"
      ],
      "execution_count": 3,
      "outputs": [
        {
          "output_type": "stream",
          "name": "stdout",
          "text": [
            "There are 2 directories and 0 image in '10_food_classes_10_percent'.\n",
            "There are 10 directories and 0 image in '10_food_classes_10_percent/train'.\n",
            "There are 0 directories and 75 image in '10_food_classes_10_percent/train/chicken_curry'.\n",
            "There are 0 directories and 75 image in '10_food_classes_10_percent/train/steak'.\n",
            "There are 0 directories and 75 image in '10_food_classes_10_percent/train/sushi'.\n",
            "There are 0 directories and 75 image in '10_food_classes_10_percent/train/ice_cream'.\n",
            "There are 0 directories and 75 image in '10_food_classes_10_percent/train/hamburger'.\n",
            "There are 0 directories and 75 image in '10_food_classes_10_percent/train/fried_rice'.\n",
            "There are 0 directories and 75 image in '10_food_classes_10_percent/train/grilled_salmon'.\n",
            "There are 0 directories and 75 image in '10_food_classes_10_percent/train/ramen'.\n",
            "There are 0 directories and 75 image in '10_food_classes_10_percent/train/chicken_wings'.\n",
            "There are 0 directories and 75 image in '10_food_classes_10_percent/train/pizza'.\n",
            "There are 10 directories and 0 image in '10_food_classes_10_percent/test'.\n",
            "There are 0 directories and 250 image in '10_food_classes_10_percent/test/chicken_curry'.\n",
            "There are 0 directories and 250 image in '10_food_classes_10_percent/test/steak'.\n",
            "There are 0 directories and 250 image in '10_food_classes_10_percent/test/sushi'.\n",
            "There are 0 directories and 250 image in '10_food_classes_10_percent/test/ice_cream'.\n",
            "There are 0 directories and 250 image in '10_food_classes_10_percent/test/hamburger'.\n",
            "There are 0 directories and 250 image in '10_food_classes_10_percent/test/fried_rice'.\n",
            "There are 0 directories and 250 image in '10_food_classes_10_percent/test/grilled_salmon'.\n",
            "There are 0 directories and 250 image in '10_food_classes_10_percent/test/ramen'.\n",
            "There are 0 directories and 250 image in '10_food_classes_10_percent/test/chicken_wings'.\n",
            "There are 0 directories and 250 image in '10_food_classes_10_percent/test/pizza'.\n"
          ]
        }
      ]
    },
    {
      "cell_type": "markdown",
      "metadata": {
        "id": "H-v2-ZNcUigf"
      },
      "source": [
        "## Creating data loaders (preparing the data)\n",
        "\n",
        "we'll use the **`ImageDataGenerator`** class to load in our images in batches"
      ]
    },
    {
      "cell_type": "code",
      "metadata": {
        "colab": {
          "base_uri": "https://localhost:8080/"
        },
        "id": "FUIFc4uOVN2_",
        "outputId": "c648e3c9-cba8-4b65-a511-f4cf207a6d93"
      },
      "source": [
        "# Setup data inputs\n",
        "from tensorflow.keras.preprocessing.image import ImageDataGenerator\n",
        "\n",
        "IMAGE_SHAPE = (224, 224)\n",
        "BATCH_SIZE = 32\n",
        "\n",
        "train_dir =\"10_food_classes_10_percent/train/\"\n",
        "test_dir = \"10_food_classes_10_percent/test/\"\n",
        "\n",
        "train_datagen = ImageDataGenerator(rescale =1/255.)\n",
        "test_datagen = ImageDataGenerator(rescale =1/255.)\n",
        "\n",
        "print(\"Training images:\")\n",
        "train_data_10_percent = train_datagen.flow_from_directory(train_dir,\n",
        "                                                          target_size =IMAGE_SHAPE,\n",
        "                                                          batch_size = BATCH_SIZE,\n",
        "                                                          class_mode = \"categorical\")\n",
        "\n",
        "print(\"Testing images:\")\n",
        "test_data_10_percent = test_datagen.flow_from_directory(test_dir,\n",
        "                                                          target_size =IMAGE_SHAPE,\n",
        "                                                          batch_size = BATCH_SIZE,\n",
        "                                                          class_mode = \"categorical\")"
      ],
      "execution_count": 4,
      "outputs": [
        {
          "output_type": "stream",
          "name": "stdout",
          "text": [
            "Training images:\n",
            "Found 750 images belonging to 10 classes.\n",
            "Testing images:\n",
            "Found 2500 images belonging to 10 classes.\n"
          ]
        }
      ]
    },
    {
      "cell_type": "markdown",
      "metadata": {
        "id": "t-R_mYgaWhQE"
      },
      "source": [
        "## Setting up callbacks (things to run while our model trains)\n",
        "\n",
        "Callbacks are extra functionality you can add to our models to be performed during or after training. Some of the mmost popular callbacks:\n",
        "\n",
        "* Tracking experiments with the TensorBoard callback\n",
        "* Model checkpoint with the ModelCheckpoint callback\n",
        "* Stopping a model from training (before it trains too long and overfits) with Earlystopping "
      ]
    },
    {
      "cell_type": "code",
      "metadata": {
        "id": "wZCPzHSfY1ta"
      },
      "source": [
        "# Create TensorBoard callback (functionized  because we need to create a new one for each model)\n",
        "import datetime\n",
        "\n",
        "def create_tensorboard_callback(dir_name, experiment_name):\n",
        "  log_dir = dir_name + \"/\" + experiment_name + \"/\" + datetime.datetime.now().strftime(\"%Y%m%d-%H%M%S\")\n",
        "  tensorboard_callback = tf.keras.callbacks.TensorBoard(log_dir=log_dir)\n",
        "  print(f\"Saving TensorBoard log files to: {log_dir}\")\n",
        "  return tensorboard_callback"
      ],
      "execution_count": 5,
      "outputs": []
    },
    {
      "cell_type": "markdown",
      "metadata": {
        "id": "Vm-KY1lia2WN"
      },
      "source": [
        "**Note:** We can customize the directory where our TensorBoard logs (model training metrics) get saved to wherever we like. The **`log_dir`** parameter we've created above is only one option."
      ]
    },
    {
      "cell_type": "markdown",
      "metadata": {
        "id": "wJ3XmvI5aiYk"
      },
      "source": [
        "## Creating models using TensorFlow Hub\n",
        "\n",
        "In  the past we have use tensorflow to create our own models layer by layer from scratch.\n",
        "\n",
        "Now we're going to do a similar process, except the majority of our model's layers are going to come from Tensorflow Hub.\n",
        "\n",
        "We can access pre-trained model on https://tfhub.dev/\n",
        "\n",
        "Browsing the Tensorflow Hub page and sorting for image classification, we found the following feature vector model link: https://tfhub.dev/tensorflow/efficientnet/b0/feature-vector/1\n",
        "\n",
        "\n",
        "\n",
        "\n"
      ]
    },
    {
      "cell_type": "code",
      "metadata": {
        "id": "nICVKc2dbXnb"
      },
      "source": [
        "# Let's compare the following two models\n",
        "\n",
        "resnet_url = \"https://tfhub.dev/google/imagenet/resnet_v2_50/feature_vector/5\"\n",
        "\n",
        "efficientnet_url = \"https://tfhub.dev/tensorflow/efficientnet/b0/feature-vector/1\""
      ],
      "execution_count": 6,
      "outputs": []
    },
    {
      "cell_type": "code",
      "metadata": {
        "id": "FJ3P4SnFiVJJ"
      },
      "source": [
        "# Import dependencies\n",
        "import tensorflow as tf\n",
        "import tensorflow_hub as hub\n",
        "from tensorflow.keras import layers"
      ],
      "execution_count": 10,
      "outputs": []
    },
    {
      "cell_type": "code",
      "metadata": {
        "id": "zhOFZ58Nik9S"
      },
      "source": [
        "# Let's make a create_model() function to create a model from a URL\n",
        "def create_model(model_url, num_classes=10):\n",
        "  \"\"\"\n",
        "  Takes a Tensorflow Hub URL and creates a Keras Sequential model with it.\n",
        "\n",
        "  Args: \n",
        "    model_url (str): A tensorflow Hub feature extraction URL.\n",
        "    num_classes (int): Number of output neurons in the output layer,\n",
        "    should be equal to number of target classes, default 10.\n",
        "\n",
        "  Returns:\n",
        "    An uncompiled Keras Sequential model with model_url ad feature extractor\n",
        "    layer and Dense output layer with num_classes output neurons.\n",
        "  \"\"\"\n",
        "  # Download the pretrained model and save it as a keras layer\n",
        "  feature_extractor_layer = hub.KerasLayer(model_url,\n",
        "                                           trainable=False,# freeze the already learned patterns\n",
        "                                           name=\"feature_extraction_layer\",\n",
        "                                           input_shape=IMAGE_SHAPE+(3,)) \n",
        "  # Create our own model\n",
        "  model = tf.keras.Sequential([\n",
        "                              feature_extractor_layer,\n",
        "                              layers.Dense(num_classes, activation=\"softmax\", name=\"output_layer\")\n",
        "  ])\n",
        "\n",
        "  return model"
      ],
      "execution_count": 13,
      "outputs": []
    },
    {
      "cell_type": "markdown",
      "metadata": {
        "id": "uOJoDdqwlARe"
      },
      "source": [
        "### Creating and Testing ResNet TensorFlow Hub Feature Extraction model"
      ]
    },
    {
      "cell_type": "code",
      "metadata": {
        "id": "-RmC2xgkk51H"
      },
      "source": [
        "# Create Resnet model\n",
        "resnet_model = create_model(resnet_url,\n",
        "                            num_classes=train_data_10_percent.num_classes)"
      ],
      "execution_count": 14,
      "outputs": []
    },
    {
      "cell_type": "code",
      "metadata": {
        "colab": {
          "base_uri": "https://localhost:8080/"
        },
        "id": "-1u6W7I7lZQd",
        "outputId": "fca1e9a4-13f2-4468-9b0a-f33f5e7bb04e"
      },
      "source": [
        "resnet_model.summary()"
      ],
      "execution_count": 15,
      "outputs": [
        {
          "output_type": "stream",
          "name": "stdout",
          "text": [
            "Model: \"sequential\"\n",
            "_________________________________________________________________\n",
            "Layer (type)                 Output Shape              Param #   \n",
            "=================================================================\n",
            "feature_extraction_layer (Ke (None, 2048)              23564800  \n",
            "_________________________________________________________________\n",
            "output_layer (Dense)         (None, 10)                20490     \n",
            "=================================================================\n",
            "Total params: 23,585,290\n",
            "Trainable params: 20,490\n",
            "Non-trainable params: 23,564,800\n",
            "_________________________________________________________________\n"
          ]
        }
      ]
    },
    {
      "cell_type": "code",
      "metadata": {
        "id": "7DppEJMvlvW4"
      },
      "source": [
        "# Compile our resent model\n",
        "resnet_model.compile(loss=\"categorical_crossentropy\",\n",
        "                     optimizer=tf.keras.optimizers.Adam(),\n",
        "                     metrics=[\"accuracy\"]) "
      ],
      "execution_count": 16,
      "outputs": []
    },
    {
      "cell_type": "code",
      "metadata": {
        "colab": {
          "base_uri": "https://localhost:8080/"
        },
        "id": "0zvSgSpAmRCM",
        "outputId": "49865801-1fc2-4682-844e-650f3370cdcb"
      },
      "source": [
        "# Fit the model\n",
        "resnet_history = resnet_model.fit(train_data_10_percent,\n",
        "                 epochs=5, \n",
        "                 steps_per_epoch =len(train_data_10_percent),\n",
        "                 validation_data = test_data_10_percent,\n",
        "                 validation_steps=len(test_data_10_percent),\n",
        "                 callbacks=[create_tensorboard_callback(dir_name=\"tensorflow_hub\",\n",
        "                                                        experiment_name=\"resnet50V2\")])"
      ],
      "execution_count": 21,
      "outputs": [
        {
          "output_type": "stream",
          "name": "stdout",
          "text": [
            "Saving TensorBoard log files to: tensorflow_hub/resnet50V2/20211003-144612\n",
            "Epoch 1/5\n",
            "24/24 [==============================] - 59s 1s/step - loss: 2.0740 - accuracy: 0.3173 - val_loss: 1.2935 - val_accuracy: 0.5808\n",
            "Epoch 2/5\n",
            "24/24 [==============================] - 20s 877ms/step - loss: 0.9676 - accuracy: 0.7027 - val_loss: 0.9350 - val_accuracy: 0.6848\n",
            "Epoch 3/5\n",
            "24/24 [==============================] - 20s 878ms/step - loss: 0.6636 - accuracy: 0.8120 - val_loss: 0.7739 - val_accuracy: 0.7520\n",
            "Epoch 4/5\n",
            "24/24 [==============================] - 21s 878ms/step - loss: 0.4957 - accuracy: 0.8627 - val_loss: 0.7363 - val_accuracy: 0.7676\n",
            "Epoch 5/5\n",
            "24/24 [==============================] - 21s 885ms/step - loss: 0.3926 - accuracy: 0.9120 - val_loss: 0.6909 - val_accuracy: 0.7816\n"
          ]
        }
      ]
    },
    {
      "cell_type": "markdown",
      "metadata": {
        "id": "qMOOMwT8o3A9"
      },
      "source": [
        "That.Is.Incredible Our transfer learning feature extractor model out performed All of the previous model we build by hand...(substantially)\n",
        "and in a quicker training time AND with only 10% of the training examples."
      ]
    },
    {
      "cell_type": "code",
      "metadata": {
        "id": "OCksxl_smQY9"
      },
      "source": [
        "# Let's create a function to plot our loss curves..\n",
        "# Tidbit: we could put a function like this into a script called \"helper.py\" and import when we need it.\n",
        "import matplotlib.pyplot as plt\n",
        "\n",
        "# Plot the validation and teraining curves\n",
        "def plot_loss_curves(history):\n",
        "  \"\"\"\n",
        "  Returns seperate  loss curves for training and validation metrics.\n",
        "\n",
        "  Args:\n",
        "    history\" Tensorflow History object.\n",
        "\n",
        "  Return:\n",
        "    Plots of training/validation loss and accuracy metrics.\n",
        "  \"\"\"\n",
        "  loss = history.history[\"loss\"]\n",
        "  val_loss = history.history[\"val_loss\"]\n",
        "\n",
        "  accuracy = history.history[\"accuracy\"]\n",
        "  val_accuracy = history.history[\"val_accuracy\"]\n",
        "\n",
        "  epochs = range(len(history.history[\"loss\"]))\n",
        "\n",
        "  # Plot loss\n",
        "  plt.plot(epochs, loss, label=\"training_loss\")\n",
        "  plt.plot(epochs, val_loss, label=\"val_loss\")\n",
        "  plt.title(\"Loss\")\n",
        "  plt.xlabel(\"Epochs\")\n",
        "  plt.legend()\n",
        "\n",
        "  # Plot accuracy\n",
        "  plt.figure()\n",
        "  plt.plot(epochs, accuracy, label=\"training_accuracy\")\n",
        "  plt.plot(epochs, val_accuracy, label=\"val_accuracy\")\n",
        "  plt.title(\"Accuracy\")\n",
        "  plt.xlabel(\"Epochs\")\n",
        "  plt.legend();\n"
      ],
      "execution_count": 28,
      "outputs": []
    },
    {
      "cell_type": "code",
      "metadata": {
        "colab": {
          "base_uri": "https://localhost:8080/",
          "height": 573
        },
        "id": "b6yjc2eQrozB",
        "outputId": "09603a83-4233-42c0-efa4-19ffe7f8cb0c"
      },
      "source": [
        "plot_loss_curves(resnet_history)"
      ],
      "execution_count": 29,
      "outputs": [
        {
          "output_type": "display_data",
          "data": {
            "image/png": "[encoded data removed]",
            "text/plain": [
              "<Figure size 432x288 with 1 Axes>"
            ]
          },
          "metadata": {
            "needs_background": "light"
          }
        },
        {
          "output_type": "display_data",
          "data": {
            "image/png": "[encoded data removed]",
            "text/plain": [
              "<Figure size 432x288 with 1 Axes>"
            ]
          },
          "metadata": {
            "needs_background": "light"
          }
        }
      ]
    },
    {
      "cell_type": "markdown",
      "metadata": {
        "id": "Kww2HwcOsOx0"
      },
      "source": [
        "### Creating and Testing EfficientNetB0 TensorFlow Hub Feature Extraction model"
      ]
    },
    {
      "cell_type": "code",
      "metadata": {
        "id": "-22lSCearrbe"
      },
      "source": [
        "# Create EfficientNetB0 feature extractor\n",
        "efficientnet_model = create_model(efficientnet_url,\n",
        "                            num_classes=train_data_10_percent.num_classes)"
      ],
      "execution_count": 30,
      "outputs": []
    },
    {
      "cell_type": "code",
      "metadata": {
        "colab": {
          "base_uri": "https://localhost:8080/"
        },
        "id": "HY_C9LSmsjfm",
        "outputId": "1409c3fd-3657-4603-b2e7-dba407d480f6"
      },
      "source": [
        "#Summary of EfficientNetB0\n",
        "efficientnet_model.summary()"
      ],
      "execution_count": 31,
      "outputs": [
        {
          "output_type": "stream",
          "name": "stdout",
          "text": [
            "Model: \"sequential_1\"\n",
            "_________________________________________________________________\n",
            "Layer (type)                 Output Shape              Param #   \n",
            "=================================================================\n",
            "feature_extraction_layer (Ke (None, 1280)              4049564   \n",
            "_________________________________________________________________\n",
            "output_layer (Dense)         (None, 10)                12810     \n",
            "=================================================================\n",
            "Total params: 4,062,374\n",
            "Trainable params: 12,810\n",
            "Non-trainable params: 4,049,564\n",
            "_________________________________________________________________\n"
          ]
        }
      ]
    },
    {
      "cell_type": "code",
      "metadata": {
        "id": "hohnCzSMspD6"
      },
      "source": [
        "# Compile our resent model\n",
        "efficientnet_model.compile(loss=\"categorical_crossentropy\",\n",
        "                     optimizer=tf.keras.optimizers.Adam(),\n",
        "                     metrics=[\"accuracy\"]) "
      ],
      "execution_count": 32,
      "outputs": []
    },
    {
      "cell_type": "code",
      "metadata": {
        "colab": {
          "base_uri": "https://localhost:8080/"
        },
        "id": "yE2io1jPs3XO",
        "outputId": "33cd6b4f-dd60-4869-9292-316054e90d87"
      },
      "source": [
        "# Fit the model\n",
        "efficientnet_history = efficientnet_model.fit(train_data_10_percent,\n",
        "                 epochs=5,\n",
        "                 steps_per_epoch =len(train_data_10_percent),\n",
        "                 validation_data = test_data_10_percent,\n",
        "                 validation_steps=len(test_data_10_percent),\n",
        "                 callbacks=[create_tensorboard_callback(dir_name=\"tensorflow_hub\",\n",
        "                                                        experiment_name=\"EfficientNetB0)\")])"
      ],
      "execution_count": 33,
      "outputs": [
        {
          "output_type": "stream",
          "name": "stdout",
          "text": [
            "Saving TensorBoard log files to: tensorflow_hub/EfficientNetB0)/20211003-151002\n",
            "Epoch 1/5\n",
            "24/24 [==============================] - 34s 991ms/step - loss: 1.8648 - accuracy: 0.4387 - val_loss: 1.3069 - val_accuracy: 0.7228\n",
            "Epoch 2/5\n",
            "24/24 [==============================] - 19s 801ms/step - loss: 1.0762 - accuracy: 0.7653 - val_loss: 0.8744 - val_accuracy: 0.8116\n",
            "Epoch 3/5\n",
            "24/24 [==============================] - 19s 799ms/step - loss: 0.7709 - accuracy: 0.8347 - val_loss: 0.7031 - val_accuracy: 0.8460\n",
            "Epoch 4/5\n",
            "24/24 [==============================] - 19s 801ms/step - loss: 0.6200 - accuracy: 0.8600 - val_loss: 0.6144 - val_accuracy: 0.8516\n",
            "Epoch 5/5\n",
            "24/24 [==============================] - 19s 799ms/step - loss: 0.5207 - accuracy: 0.8827 - val_loss: 0.5601 - val_accuracy: 0.8576\n"
          ]
        }
      ]
    },
    {
      "cell_type": "code",
      "metadata": {
        "colab": {
          "base_uri": "https://localhost:8080/",
          "height": 573
        },
        "id": "UJlCjoLUtG4C",
        "outputId": "5be87978-2bf8-462d-878c-b1b7255f3921"
      },
      "source": [
        "plot_loss_curves(resnet_history)"
      ],
      "execution_count": 34,
      "outputs": [
        {
          "output_type": "display_data",
          "data": {
            "image/png": "[encoded data removed]",
            "text/plain": [
              "<Figure size 432x288 with 1 Axes>"
            ]
          },
          "metadata": {
            "needs_background": "light"
          }
        },
        {
          "output_type": "display_data",
          "data": {
            "image/png": "[encoded data removed]",
            "text/plain": [
              "<Figure size 432x288 with 1 Axes>"
            ]
          },
          "metadata": {
            "needs_background": "light"
          }
        }
      ]
    },
    {
      "cell_type": "code",
      "metadata": {
        "colab": {
          "base_uri": "https://localhost:8080/"
        },
        "id": "EkXWnv7OxSXN",
        "outputId": "12c6fe06-093a-4bfd-893a-92a4b9a74777"
      },
      "source": [
        "# How many layers does our efficientnetb0 feature extractor have?\n",
        "len(efficientnet_model.layers[0].weights)"
      ],
      "execution_count": 37,
      "outputs": [
        {
          "output_type": "execute_result",
          "data": {
            "text/plain": [
              "309"
            ]
          },
          "metadata": {},
          "execution_count": 37
        }
      ]
    },
    {
      "cell_type": "markdown",
      "metadata": {
        "id": "WT88WtNWtgBG"
      },
      "source": [
        "## Differerent types of transfer learning\n",
        "\n",
        "* **\"As is\"** transfer learning - using an existing model with no change what so ever(e.g using ImageNet model on 1000 ImageNet classes, none of our own).\n",
        "* **\"Feature extraction\"** transfer learning - use the prelearned patterns of an existing model(e.g EfficientNetB0 trained on Image Net) and adjust the output layer for your own problem(e.g. 100 classes -> 10 classes of food)\n",
        "* **\"Fine-tuning\"**  transfer learning - use the prelearned patterns of an existing model and \"fine-tune\" many or all of the underlying layers(including new output layers)"
      ]
    },
    {
      "cell_type": "markdown",
      "metadata": {
        "id": "tN8b4E5oxIKi"
      },
      "source": [
        "## Comparing our model using TensorBoard\n",
        "\n",
        "**Note:** When we upload things to TensorBoard .dev, our experiments are public . So if we're running private experiments (things we don't want other to see) do not upload them to TensorBoard.dev"
      ]
    },
    {
      "cell_type": "code",
      "metadata": {
        "colab": {
          "base_uri": "https://localhost:8080/"
        },
        "id": "6YIYYNUyy7h8",
        "outputId": "1892e8fd-92b4-41d6-b41a-ed16543a3cc0"
      },
      "source": [
        "# Upload Tensorboard dev records\n",
        "!tensorboard dev upload --logdir ./tensorflow_hub/ \\\n",
        " --name \"EfficientNetB0 vs. ResNet50V2\" \\\n",
        " --description \"Comparing two different TF Hub feature extraction model architecture using 10% of the training data\" \\\n",
        " --one_shot"
      ],
      "execution_count": 39,
      "outputs": [
        {
          "output_type": "stream",
          "name": "stdout",
          "text": [
            "2021-10-03 15:45:59.070171: I tensorflow/stream_executor/cuda/cuda_gpu_executor.cc:937] successful NUMA node read from SysFS had negative value (-1), but there must be at least one NUMA node, so returning NUMA node zero\n",
            "2021-10-03 15:45:59.096501: I tensorflow/stream_executor/cuda/cuda_gpu_executor.cc:937] successful NUMA node read from SysFS had negative value (-1), but there must be at least one NUMA node, so returning NUMA node zero\n",
            "2021-10-03 15:45:59.096999: I tensorflow/stream_executor/cuda/cuda_gpu_executor.cc:937] successful NUMA node read from SysFS had negative value (-1), but there must be at least one NUMA node, so returning NUMA node zero\n",
            "\n",
            "***** TensorBoard Uploader *****\n",
            "\n",
            "This will upload your TensorBoard logs to https://tensorboard.dev/ from\n",
            "the following directory:\n",
            "\n",
            "./tensorflow_hub/\n",
            "\n",
            "This TensorBoard will be visible to everyone. Do not upload sensitive\n",
            "data.\n",
            "\n",
            "Your use of this service is subject to Google's Terms of Service\n",
            "<https://policies.google.com/terms> and Privacy Policy\n",
            "<https://policies.google.com/privacy>, and TensorBoard.dev's Terms of Service\n",
            "<https://tensorboard.dev/policy/terms/>.\n",
            "\n",
            "This notice will not be shown again while you are logged into the uploader.\n",
            "To log out, run `tensorboard dev auth revoke`.\n",
            "\n",
            "Continue? (yes/NO) yes\n",
            "\n",
            "Please visit this URL to authorize this application: https://accounts.google.com/o/oauth2/auth?response_type=code&client_id=373649185512-8v619h5kft38l4456nm2dj4ubeqsrvh6.apps.googleusercontent.com&redirect_uri=urn%3Aietf%3Awg%3Aoauth%3A2.0%3Aoob&scope=openid+https%3A%2F%2Fwww.googleapis.com%2Fauth%2Fuserinfo.email&state=eGJRAvjYhgnc1WQrPLYtDXWGBFuitw&prompt=consent&access_type=offline\n",
            "Enter the authorization code: 4/1AX4XfWh-tLNDwMePM-bsVEjUFuyme35e_gwV7Ngn0Xls-F8nfRynNdB-P8c\n",
            "\n",
            "\n",
            "New experiment created. View your TensorBoard at: https://tensorboard.dev/experiment/QsAdB4ahRu62VK4FqSV16g/\n",
            "\n",
            "\u001b[1m[2021-10-03T15:46:35]\u001b[0m Started scanning logdir.\n",
            "\u001b[1m[2021-10-03T15:46:37]\u001b[0m Total uploaded: 60 scalars, 0 tensors, 2 binary objects (5.7 MB)\n",
            "\u001b[1m[2021-10-03T15:46:37]\u001b[0m Done scanning logdir.\n",
            "\n",
            "\n",
            "Done. View your TensorBoard at https://tensorboard.dev/experiment/QsAdB4ahRu62VK4FqSV16g/\n"
          ]
        }
      ]
    },
    {
      "cell_type": "markdown",
      "metadata": {
        "id": "iClV9Q3p1RvA"
      },
      "source": [
        "Our TensorBoard experiments are uploaded publically https://tensorboard.dev/experiment/QsAdB4ahRu62VK4FqSV16g/"
      ]
    },
    {
      "cell_type": "code",
      "metadata": {
        "colab": {
          "base_uri": "https://localhost:8080/"
        },
        "id": "8Sl3UxrI2Tqn",
        "outputId": "8b639c60-aca2-4d82-dcc2-8a771ada93bd"
      },
      "source": [
        "# Check out what TensorBoard experiments we have\n",
        "!tensorboard dev list"
      ],
      "execution_count": 40,
      "outputs": [
        {
          "output_type": "stream",
          "name": "stdout",
          "text": [
            "2021-10-03 15:50:49.176827: I tensorflow/stream_executor/cuda/cuda_gpu_executor.cc:937] successful NUMA node read from SysFS had negative value (-1), but there must be at least one NUMA node, so returning NUMA node zero\n",
            "2021-10-03 15:50:49.186433: I tensorflow/stream_executor/cuda/cuda_gpu_executor.cc:937] successful NUMA node read from SysFS had negative value (-1), but there must be at least one NUMA node, so returning NUMA node zero\n",
            "2021-10-03 15:50:49.186925: I tensorflow/stream_executor/cuda/cuda_gpu_executor.cc:937] successful NUMA node read from SysFS had negative value (-1), but there must be at least one NUMA node, so returning NUMA node zero\n",
            "https://tensorboard.dev/experiment/QsAdB4ahRu62VK4FqSV16g/\n",
            "\tName                 EfficientNetB0 vs. ResNet50V2\n",
            "\tDescription          Comparing two different TF Hub feature extraction model architecture using 10% of the training data\n",
            "\tId                   QsAdB4ahRu62VK4FqSV16g\n",
            "\tCreated              2021-10-03 15:46:35 (4 minutes ago)\n",
            "\tUpdated              2021-10-03 15:46:37 (4 minutes ago)\n",
            "\tRuns                 4\n",
            "\tTags                 5\n",
            "\tScalars              60\n",
            "\tTensor bytes         0\n",
            "\tBinary object bytes  5962613\n",
            "Total: 1 experiment(s)\n"
          ]
        }
      ]
    },
    {
      "cell_type": "code",
      "metadata": {
        "id": "h_79Ail_2bev"
      },
      "source": [
        "# Delete an experiment\n",
        "#!tensorboard dev delete --experiment_id QsAdB4ahRu62VK4FqSV16g"
      ],
      "execution_count": null,
      "outputs": []
    },
    {
      "cell_type": "code",
      "metadata": {
        "colab": {
          "base_uri": "https://localhost:8080/"
        },
        "id": "EcNtaL3l21CR",
        "outputId": "1f5622a7-8e78-4ed0-f251-f6beab8895ec"
      },
      "source": [
        "# Confirm the deletion by re-checking what experiments we have left\n",
        "!tensorboard dev list"
      ],
      "execution_count": 41,
      "outputs": [
        {
          "output_type": "stream",
          "name": "stdout",
          "text": [
            "2021-10-03 15:53:22.007181: I tensorflow/stream_executor/cuda/cuda_gpu_executor.cc:937] successful NUMA node read from SysFS had negative value (-1), but there must be at least one NUMA node, so returning NUMA node zero\n",
            "2021-10-03 15:53:22.015370: I tensorflow/stream_executor/cuda/cuda_gpu_executor.cc:937] successful NUMA node read from SysFS had negative value (-1), but there must be at least one NUMA node, so returning NUMA node zero\n",
            "2021-10-03 15:53:22.015827: I tensorflow/stream_executor/cuda/cuda_gpu_executor.cc:937] successful NUMA node read from SysFS had negative value (-1), but there must be at least one NUMA node, so returning NUMA node zero\n",
            "https://tensorboard.dev/experiment/QsAdB4ahRu62VK4FqSV16g/\n",
            "\tName                 EfficientNetB0 vs. ResNet50V2\n",
            "\tDescription          Comparing two different TF Hub feature extraction model architecture using 10% of the training data\n",
            "\tId                   QsAdB4ahRu62VK4FqSV16g\n",
            "\tCreated              2021-10-03 15:46:35 (6 minutes ago)\n",
            "\tUpdated              2021-10-03 15:46:37 (6 minutes ago)\n",
            "\tRuns                 4\n",
            "\tTags                 5\n",
            "\tScalars              60\n",
            "\tTensor bytes         0\n",
            "\tBinary object bytes  5962613\n",
            "Total: 1 experiment(s)\n"
          ]
        }
      ]
    },
    {
      "cell_type": "code",
      "metadata": {
        "id": "JFo4Pfxd3A-p"
      },
      "source": [
        ""
      ],
      "execution_count": null,
      "outputs": []
    }
  ]
}