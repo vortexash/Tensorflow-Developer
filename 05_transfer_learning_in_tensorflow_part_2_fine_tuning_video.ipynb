{
  "nbformat": 4,
  "nbformat_minor": 0,
  "metadata": {
    "colab": {
      "name": "05_transfer_learning_in_tensorflow_part_2_fine_tuning_video.ipynb",
      "provenance": [],
      "collapsed_sections": [],
      "authorship_tag": "ABX9TyPLUzUznG5v+rW/OPx8Tgg/",
      "include_colab_link": true
    },
    "kernelspec": {
      "name": "python3",
      "display_name": "Python 3"
    },
    "language_info": {
      "name": "python"
    },
    "accelerator": "GPU"
  },
  "cells": [
    {
      "cell_type": "markdown",
      "metadata": {
        "id": "view-in-github",
        "colab_type": "text"
      },
      "source": [
        "<a href=\"https://colab.research.google.com/github/vortexash/Tensorflow-Developer/blob/main/05_transfer_learning_in_tensorflow_part_2_fine_tuning_video.ipynb\" target=\"_parent\"><img src=\"https://colab.research.google.com/assets/colab-badge.svg\" alt=\"Open In Colab\"/></a>"
      ]
    },
    {
      "cell_type": "markdown",
      "metadata": {
        "id": "tUMbIEbKZk2p"
      },
      "source": [
        "# Transfer Learning with Tensorflow Part 2: Fine-tuning\n",
        "\n",
        "In the previous notebook, we covered transfer learning feature extraction, now it's time to learn about new kind of transfer learning: fine-tuning"
      ]
    },
    {
      "cell_type": "code",
      "metadata": {
        "colab": {
          "base_uri": "https://localhost:8080/"
        },
        "id": "UAuVg3gxdHqS",
        "outputId": "4b56c6db-6518-4816-db35-7880ade7807c"
      },
      "source": [
        "# Check if we're using a GPU\n",
        "!nvidia-smi"
      ],
      "execution_count": 1,
      "outputs": [
        {
          "output_type": "stream",
          "name": "stdout",
          "text": [
            "Sun Nov 28 16:19:32 2021       \n",
            "+-----------------------------------------------------------------------------+\n",
            "| NVIDIA-SMI 495.44       Driver Version: 460.32.03    CUDA Version: 11.2     |\n",
            "|-------------------------------+----------------------+----------------------+\n",
            "| GPU  Name        Persistence-M| Bus-Id        Disp.A | Volatile Uncorr. ECC |\n",
            "| Fan  Temp  Perf  Pwr:Usage/Cap|         Memory-Usage | GPU-Util  Compute M. |\n",
            "|                               |                      |               MIG M. |\n",
            "|===============================+======================+======================|\n",
            "|   0  Tesla K80           Off  | 00000000:00:04.0 Off |                    0 |\n",
            "| N/A   73C    P8    34W / 149W |      0MiB / 11441MiB |      0%      Default |\n",
            "|                               |                      |                  N/A |\n",
            "+-------------------------------+----------------------+----------------------+\n",
            "                                                                               \n",
            "+-----------------------------------------------------------------------------+\n",
            "| Processes:                                                                  |\n",
            "|  GPU   GI   CI        PID   Type   Process name                  GPU Memory |\n",
            "|        ID   ID                                                   Usage      |\n",
            "|=============================================================================|\n",
            "|  No running processes found                                                 |\n",
            "+-----------------------------------------------------------------------------+\n"
          ]
        }
      ]
    },
    {
      "cell_type": "markdown",
      "metadata": {
        "id": "JaqBcoWCdNAb"
      },
      "source": [
        "## Creating helper functions\n",
        "\n",
        "In previous notebook we've create a bunch of helper functions, now we could rewrite them all,however,this is tedious.\n",
        "\n",
        "So, it's a good idea to put functions we'll want to use again in ascript we can download and import into our notebooks(or elsewhere).\n",
        "\n",
        "We've done this for some of the functions we've using previously https://raw.githubusercontent.com/vortexash/tensorflow-deep-learning/main/extras/helper_functions.py"
      ]
    },
    {
      "cell_type": "code",
      "metadata": {
        "colab": {
          "base_uri": "https://localhost:8080/"
        },
        "id": "21xrtaXvehqn",
        "outputId": "ec27f505-8d83-4bc6-885c-6b87711f7974"
      },
      "source": [
        "!wget https://raw.githubusercontent.com/vortexash/tensorflow-deep-learning/main/extras/helper_functions.py"
      ],
      "execution_count": 2,
      "outputs": [
        {
          "output_type": "stream",
          "name": "stdout",
          "text": [
            "--2021-11-28 16:19:35--  https://raw.githubusercontent.com/vortexash/tensorflow-deep-learning/main/extras/helper_functions.py\n",
            "Resolving raw.githubusercontent.com (raw.githubusercontent.com)... 185.199.108.133, 185.199.109.133, 185.199.110.133, ...\n",
            "Connecting to raw.githubusercontent.com (raw.githubusercontent.com)|185.199.108.133|:443... connected.\n",
            "HTTP request sent, awaiting response... 200 OK\n",
            "Length: 10246 (10K) [text/plain]\n",
            "Saving to: ‘helper_functions.py’\n",
            "\n",
            "helper_functions.py 100%[===================>]  10.01K  --.-KB/s    in 0s      \n",
            "\n",
            "2021-11-28 16:19:35 (83.0 MB/s) - ‘helper_functions.py’ saved [10246/10246]\n",
            "\n"
          ]
        }
      ]
    },
    {
      "cell_type": "code",
      "metadata": {
        "id": "3yNfLXVOfYRU"
      },
      "source": [
        "# Import helper function we're going to use in this notebook\n",
        "from helper_functions import create_tensorboard_callback, plot_loss_curves, unzip_data, walk_through_dir"
      ],
      "execution_count": 3,
      "outputs": []
    },
    {
      "cell_type": "markdown",
      "metadata": {
        "id": "ca0zLKIQgWsr"
      },
      "source": [
        "**Note:** If we're running this notebook in google colab, when it times out colab will delete `helper_functions.py`, so you'll have to re-download it if we want to access ti our helper functions."
      ]
    },
    {
      "cell_type": "markdown",
      "metadata": {
        "id": "HrefIcPrgLW2"
      },
      "source": [
        "## Let's get some data\n",
        "\n",
        "This time we're are going to see how we can use the pre-trained models within tf.keras.applications and apply then to our own problem (recognizing images of food).\n",
        "\n",
        "link:https://www.tensorflow.org/api_docs/python/tf/keras/applications\n"
      ]
    },
    {
      "cell_type": "code",
      "metadata": {
        "colab": {
          "base_uri": "https://localhost:8080/"
        },
        "id": "3EdB0yNMhtWL",
        "outputId": "af819d22-e921-4ad9-b44e-c36bc05db457"
      },
      "source": [
        "# Get 10% of training data of 10 classes of Food101\n",
        "!wget https://storage.googleapis.com/ztm_tf_course/food_vision/10_food_classes_10_percent.zip\n",
        "\n",
        "# Unzip the downloaded file\n",
        "unzip_data(\"10_food_classes_10_percent.zip\")"
      ],
      "execution_count": 4,
      "outputs": [
        {
          "output_type": "stream",
          "name": "stdout",
          "text": [
            "--2021-11-28 16:19:38--  https://storage.googleapis.com/ztm_tf_course/food_vision/10_food_classes_10_percent.zip\n",
            "Resolving storage.googleapis.com (storage.googleapis.com)... 74.125.140.128, 108.177.15.128, 173.194.76.128, ...\n",
            "Connecting to storage.googleapis.com (storage.googleapis.com)|74.125.140.128|:443... connected.\n",
            "HTTP request sent, awaiting response... 200 OK\n",
            "Length: 168546183 (161M) [application/zip]\n",
            "Saving to: ‘10_food_classes_10_percent.zip’\n",
            "\n",
            "10_food_classes_10_ 100%[===================>] 160.74M  60.2MB/s    in 2.7s    \n",
            "\n",
            "2021-11-28 16:19:41 (60.2 MB/s) - ‘10_food_classes_10_percent.zip’ saved [168546183/168546183]\n",
            "\n"
          ]
        }
      ]
    },
    {
      "cell_type": "code",
      "metadata": {
        "colab": {
          "base_uri": "https://localhost:8080/"
        },
        "id": "DN5cfwCKitka",
        "outputId": "f9f2f495-b45b-4744-e7c0-70fe70741cf1"
      },
      "source": [
        "# Check out how many images and sub-directories are in our dataset\n",
        "walk_through_dir(\"/content/10_food_classes_10_percent\")"
      ],
      "execution_count": 5,
      "outputs": [
        {
          "output_type": "stream",
          "name": "stdout",
          "text": [
            "There are 2 directories and 0 images in '/content/10_food_classes_10_percent'.\n",
            "There are 10 directories and 0 images in '/content/10_food_classes_10_percent/train'.\n",
            "There are 0 directories and 75 images in '/content/10_food_classes_10_percent/train/sushi'.\n",
            "There are 0 directories and 75 images in '/content/10_food_classes_10_percent/train/pizza'.\n",
            "There are 0 directories and 75 images in '/content/10_food_classes_10_percent/train/fried_rice'.\n",
            "There are 0 directories and 75 images in '/content/10_food_classes_10_percent/train/chicken_curry'.\n",
            "There are 0 directories and 75 images in '/content/10_food_classes_10_percent/train/steak'.\n",
            "There are 0 directories and 75 images in '/content/10_food_classes_10_percent/train/grilled_salmon'.\n",
            "There are 0 directories and 75 images in '/content/10_food_classes_10_percent/train/ice_cream'.\n",
            "There are 0 directories and 75 images in '/content/10_food_classes_10_percent/train/hamburger'.\n",
            "There are 0 directories and 75 images in '/content/10_food_classes_10_percent/train/chicken_wings'.\n",
            "There are 0 directories and 75 images in '/content/10_food_classes_10_percent/train/ramen'.\n",
            "There are 10 directories and 0 images in '/content/10_food_classes_10_percent/test'.\n",
            "There are 0 directories and 250 images in '/content/10_food_classes_10_percent/test/sushi'.\n",
            "There are 0 directories and 250 images in '/content/10_food_classes_10_percent/test/pizza'.\n",
            "There are 0 directories and 250 images in '/content/10_food_classes_10_percent/test/fried_rice'.\n",
            "There are 0 directories and 250 images in '/content/10_food_classes_10_percent/test/chicken_curry'.\n",
            "There are 0 directories and 250 images in '/content/10_food_classes_10_percent/test/steak'.\n",
            "There are 0 directories and 250 images in '/content/10_food_classes_10_percent/test/grilled_salmon'.\n",
            "There are 0 directories and 250 images in '/content/10_food_classes_10_percent/test/ice_cream'.\n",
            "There are 0 directories and 250 images in '/content/10_food_classes_10_percent/test/hamburger'.\n",
            "There are 0 directories and 250 images in '/content/10_food_classes_10_percent/test/chicken_wings'.\n",
            "There are 0 directories and 250 images in '/content/10_food_classes_10_percent/test/ramen'.\n"
          ]
        }
      ]
    },
    {
      "cell_type": "code",
      "metadata": {
        "id": "TDLVy-eti5np"
      },
      "source": [
        "# Create and training and test directory paths\n",
        "train_dir = \"/content/10_food_classes_10_percent/train\"\n",
        "test_dir = \"/content/10_food_classes_10_percent/test\""
      ],
      "execution_count": 6,
      "outputs": []
    },
    {
      "cell_type": "markdown",
      "metadata": {
        "id": "V3jdJ1l1mJ2B"
      },
      "source": [
        "https://www.tensorflow.org/api_docs/python/tf/keras/utils/image_dataset_from_directory"
      ]
    },
    {
      "cell_type": "code",
      "metadata": {
        "colab": {
          "base_uri": "https://localhost:8080/"
        },
        "id": "sEfdliYojQZ7",
        "outputId": "dd1c32d9-bf6c-43be-a4eb-3cc674dbdeb5"
      },
      "source": [
        "import tensorflow as tf\n",
        "\n",
        "IMG_SIZE = (224,224)\n",
        "BATCH_SIZE = 32\n",
        "train_data_10_percent = tf.keras.preprocessing.image_dataset_from_directory(directory = train_dir,\n",
        "                                                                           image_size = IMG_SIZE,\n",
        "                                                                           label_mode = 'categorical',\n",
        "                                                                           batch_size = BATCH_SIZE)\n",
        "\n",
        "test_data = tf.keras.preprocessing.image_dataset_from_directory(directory = test_dir,\n",
        "                                                               image_size = IMG_SIZE,\n",
        "                                                               label_mode = 'categorical',\n",
        "                                                               batch_size = BATCH_SIZE)\n"
      ],
      "execution_count": 7,
      "outputs": [
        {
          "output_type": "stream",
          "name": "stdout",
          "text": [
            "Found 750 files belonging to 10 classes.\n",
            "Found 2500 files belonging to 10 classes.\n"
          ]
        }
      ]
    },
    {
      "cell_type": "code",
      "metadata": {
        "colab": {
          "base_uri": "https://localhost:8080/"
        },
        "id": "l33ehAFRjwWK",
        "outputId": "ea51d3ea-9795-40f1-ab84-fd7f520853a2"
      },
      "source": [
        "train_data_10_percent"
      ],
      "execution_count": 8,
      "outputs": [
        {
          "output_type": "execute_result",
          "data": {
            "text/plain": [
              "<BatchDataset shapes: ((None, 224, 224, 3), (None, 10)), types: (tf.float32, tf.float32)>"
            ]
          },
          "metadata": {},
          "execution_count": 8
        }
      ]
    },
    {
      "cell_type": "code",
      "metadata": {
        "colab": {
          "base_uri": "https://localhost:8080/"
        },
        "id": "x32Rkn2Xk6CM",
        "outputId": "25a77826-5da3-45c0-b4d9-ad30f65189f5"
      },
      "source": [
        "# Check out the class names of the dataset\n",
        "train_data_10_percent.class_names"
      ],
      "execution_count": 9,
      "outputs": [
        {
          "output_type": "execute_result",
          "data": {
            "text/plain": [
              "['chicken_curry',\n",
              " 'chicken_wings',\n",
              " 'fried_rice',\n",
              " 'grilled_salmon',\n",
              " 'hamburger',\n",
              " 'ice_cream',\n",
              " 'pizza',\n",
              " 'ramen',\n",
              " 'steak',\n",
              " 'sushi']"
            ]
          },
          "metadata": {},
          "execution_count": 9
        }
      ]
    },
    {
      "cell_type": "code",
      "metadata": {
        "colab": {
          "base_uri": "https://localhost:8080/"
        },
        "id": "eQ7kP5-0lgi0",
        "outputId": "42bdc6b0-1830-4e55-ff9d-b2e2c056c648"
      },
      "source": [
        "# Seeing an example of a batch of data\n",
        "for images,labels in train_data_10_percent.take(1):\n",
        "  print(images,labels)\n"
      ],
      "execution_count": 10,
      "outputs": [
        {
          "output_type": "stream",
          "name": "stdout",
          "text": [
            "tf.Tensor(\n",
            "[[[[2.47000000e+02 2.34000000e+02 2.18000000e+02]\n",
            "   [2.47000000e+02 2.34000000e+02 2.18000000e+02]\n",
            "   [2.47000000e+02 2.34000000e+02 2.18000000e+02]\n",
            "   ...\n",
            "   [2.47000000e+02 2.34000000e+02 2.18000000e+02]\n",
            "   [2.47000000e+02 2.34000000e+02 2.18000000e+02]\n",
            "   [2.47000000e+02 2.34000000e+02 2.18000000e+02]]\n",
            "\n",
            "  [[2.47000000e+02 2.34000000e+02 2.18000000e+02]\n",
            "   [2.47000000e+02 2.34000000e+02 2.18000000e+02]\n",
            "   [2.47000000e+02 2.34000000e+02 2.18000000e+02]\n",
            "   ...\n",
            "   [2.47000000e+02 2.34000000e+02 2.18000000e+02]\n",
            "   [2.47000000e+02 2.34000000e+02 2.18000000e+02]\n",
            "   [2.47000000e+02 2.34000000e+02 2.18000000e+02]]\n",
            "\n",
            "  [[2.47000000e+02 2.34000000e+02 2.18000000e+02]\n",
            "   [2.47000000e+02 2.34000000e+02 2.18000000e+02]\n",
            "   [2.47000000e+02 2.34000000e+02 2.18000000e+02]\n",
            "   ...\n",
            "   [2.47000000e+02 2.34000000e+02 2.18000000e+02]\n",
            "   [2.47000000e+02 2.34000000e+02 2.18000000e+02]\n",
            "   [2.47000000e+02 2.34000000e+02 2.18000000e+02]]\n",
            "\n",
            "  ...\n",
            "\n",
            "  [[2.47000000e+02 2.34000000e+02 2.18000000e+02]\n",
            "   [2.47000000e+02 2.34000000e+02 2.18000000e+02]\n",
            "   [2.47000000e+02 2.34000000e+02 2.18000000e+02]\n",
            "   ...\n",
            "   [2.47000000e+02 2.34000000e+02 2.18000000e+02]\n",
            "   [2.47000000e+02 2.34000000e+02 2.18000000e+02]\n",
            "   [2.47000000e+02 2.34000000e+02 2.18000000e+02]]\n",
            "\n",
            "  [[2.47000000e+02 2.34000000e+02 2.18000000e+02]\n",
            "   [2.47000000e+02 2.34000000e+02 2.18000000e+02]\n",
            "   [2.47000000e+02 2.34000000e+02 2.18000000e+02]\n",
            "   ...\n",
            "   [2.47000000e+02 2.34000000e+02 2.18000000e+02]\n",
            "   [2.47000000e+02 2.34000000e+02 2.18000000e+02]\n",
            "   [2.47000000e+02 2.34000000e+02 2.18000000e+02]]\n",
            "\n",
            "  [[2.47000000e+02 2.34000000e+02 2.18000000e+02]\n",
            "   [2.47000000e+02 2.34000000e+02 2.18000000e+02]\n",
            "   [2.47000000e+02 2.34000000e+02 2.18000000e+02]\n",
            "   ...\n",
            "   [2.47000000e+02 2.34000000e+02 2.18000000e+02]\n",
            "   [2.47000000e+02 2.34000000e+02 2.18000000e+02]\n",
            "   [2.47000000e+02 2.34000000e+02 2.18000000e+02]]]\n",
            "\n",
            "\n",
            " [[[1.61438782e+02 1.37438782e+02 1.12724487e+02]\n",
            "   [1.64535706e+02 1.38535706e+02 1.12821426e+02]\n",
            "   [1.68566330e+02 1.42632660e+02 1.14285713e+02]\n",
            "   ...\n",
            "   [3.21275749e+01 1.85561028e+01 8.91331005e+00]\n",
            "   [3.50459671e+01 1.60459652e+01 9.04596615e+00]\n",
            "   [3.96887398e+01 2.06887379e+01 1.36887379e+01]]\n",
            "\n",
            "  [[1.62448975e+02 1.39520401e+02 1.07163269e+02]\n",
            "   [1.72096939e+02 1.49168381e+02 1.16811234e+02]\n",
            "   [1.69887756e+02 1.45887756e+02 1.11602043e+02]\n",
            "   ...\n",
            "   [3.24031219e+01 1.60459137e+01 7.40312195e+00]\n",
            "   [3.80051422e+01 1.90051422e+01 1.20051422e+01]\n",
            "   [3.98570366e+01 1.98570385e+01 1.28570385e+01]]\n",
            "\n",
            "  [[1.72321426e+02 1.52678574e+02 1.10964287e+02]\n",
            "   [1.73178574e+02 1.53535706e+02 1.12607140e+02]\n",
            "   [1.72188766e+02 1.49760193e+02 1.09403061e+02]\n",
            "   ...\n",
            "   [3.75459366e+01 1.94489479e+01 1.15918713e+01]\n",
            "   [3.98877869e+01 2.01020737e+01 1.31020727e+01]\n",
            "   [4.17906837e+01 1.94335423e+01 1.32192554e+01]]\n",
            "\n",
            "  ...\n",
            "\n",
            "  [[2.31846939e+02 2.13566330e+02 1.78408157e+02]\n",
            "   [2.30959183e+02 2.12959183e+02 1.75102036e+02]\n",
            "   [2.30729568e+02 2.13234680e+02 1.73066299e+02]\n",
            "   ...\n",
            "   [2.05066406e+02 1.84897995e+02 1.13897934e+02]\n",
            "   [2.13744858e+02 1.92316269e+02 1.24816261e+02]\n",
            "   [2.06459000e+02 1.84535477e+02 1.22316177e+02]]\n",
            "\n",
            "  [[2.28622391e+02 2.10622391e+02 1.73428482e+02]\n",
            "   [2.30076508e+02 2.12076508e+02 1.72362183e+02]\n",
            "   [2.29612244e+02 2.12540833e+02 1.69755066e+02]\n",
            "   ...\n",
            "   [2.06693863e+02 1.85122391e+02 1.10693748e+02]\n",
            "   [2.01913193e+02 1.79841782e+02 1.05341721e+02]\n",
            "   [2.05979355e+02 1.82907944e+02 1.15576279e+02]]\n",
            "\n",
            "  [[2.26015320e+02 2.06015320e+02 1.69015320e+02]\n",
            "   [2.27596954e+02 2.09596954e+02 1.69647964e+02]\n",
            "   [2.31020416e+02 2.14020416e+02 1.70882660e+02]\n",
            "   ...\n",
            "   [1.96892807e+02 1.75397919e+02 9.80968552e+01]\n",
            "   [2.06178543e+02 1.83153030e+02 1.05346947e+02]\n",
            "   [1.95193771e+02 1.70836594e+02 1.01908127e+02]]]\n",
            "\n",
            "\n",
            " [[[8.36989822e+01 8.36989822e+01 8.16989822e+01]\n",
            "   [8.69030609e+01 8.69030609e+01 8.49030609e+01]\n",
            "   [8.62193909e+01 8.62193909e+01 8.42193909e+01]\n",
            "   ...\n",
            "   [1.06571404e+02 1.02571404e+02 1.01571404e+02]\n",
            "   [1.06357140e+02 1.02357140e+02 1.01357140e+02]\n",
            "   [1.06714287e+02 1.02714287e+02 1.01714287e+02]]\n",
            "\n",
            "  [[8.05000000e+01 8.05000000e+01 7.85000000e+01]\n",
            "   [8.46428604e+01 8.46428604e+01 8.26428604e+01]\n",
            "   [8.78724518e+01 8.78724518e+01 8.58724518e+01]\n",
            "   ...\n",
            "   [1.07928574e+02 1.03928574e+02 1.02928574e+02]\n",
            "   [1.07933678e+02 1.03933678e+02 1.02933678e+02]\n",
            "   [1.08954086e+02 1.04954086e+02 1.03954086e+02]]\n",
            "\n",
            "  [[7.76326523e+01 7.76326523e+01 7.56326523e+01]\n",
            "   [8.02857208e+01 8.02857208e+01 7.82857208e+01]\n",
            "   [8.44744873e+01 8.44744873e+01 8.24744873e+01]\n",
            "   ...\n",
            "   [1.06214287e+02 1.02214287e+02 1.01214287e+02]\n",
            "   [1.05500015e+02 1.01500015e+02 1.00500015e+02]\n",
            "   [1.06785751e+02 1.02785751e+02 1.01785751e+02]]\n",
            "\n",
            "  ...\n",
            "\n",
            "  [[1.39000000e+02 1.60000000e+02 1.79000000e+02]\n",
            "   [1.39000000e+02 1.60000000e+02 1.79000000e+02]\n",
            "   [1.38831635e+02 1.57663269e+02 1.75168381e+02]\n",
            "   ...\n",
            "   [1.79045883e+02 2.05045883e+02 2.32045883e+02]\n",
            "   [1.77000000e+02 2.03000000e+02 2.30000000e+02]\n",
            "   [1.78357178e+02 2.04357178e+02 2.31357178e+02]]\n",
            "\n",
            "  [[1.39000000e+02 1.60000000e+02 1.80857178e+02]\n",
            "   [1.39000000e+02 1.60000000e+02 1.79000000e+02]\n",
            "   [1.38270386e+02 1.58673508e+02 1.77301041e+02]\n",
            "   ...\n",
            "   [1.78229568e+02 2.04229568e+02 2.31229568e+02]\n",
            "   [1.77000000e+02 2.03000000e+02 2.30000000e+02]\n",
            "   [1.77428589e+02 2.03428589e+02 2.30428589e+02]]\n",
            "\n",
            "  [[1.39642853e+02 1.60642853e+02 1.81642853e+02]\n",
            "   [1.39642853e+02 1.60642853e+02 1.81642853e+02]\n",
            "   [1.39352036e+02 1.59785721e+02 1.78770401e+02]\n",
            "   ...\n",
            "   [1.78581635e+02 2.04581635e+02 2.31581635e+02]\n",
            "   [1.77928558e+02 2.03928558e+02 2.30928558e+02]\n",
            "   [1.76770386e+02 2.02770386e+02 2.29770386e+02]]]\n",
            "\n",
            "\n",
            " ...\n",
            "\n",
            "\n",
            " [[[2.63571415e+01 1.83571415e+01 5.35714293e+00]\n",
            "   [2.90459175e+01 2.10459175e+01 8.04591846e+00]\n",
            "   [2.96428566e+01 2.16428566e+01 8.64285755e+00]\n",
            "   ...\n",
            "   [2.22571442e+02 2.26357147e+02 2.08928558e+02]\n",
            "   [2.23622452e+02 2.26622452e+02 2.07622452e+02]\n",
            "   [2.19127563e+02 2.22127563e+02 2.03127563e+02]]\n",
            "\n",
            "  [[2.73571434e+01 1.93571434e+01 6.35714293e+00]\n",
            "   [3.00051022e+01 2.20051022e+01 9.00510216e+00]\n",
            "   [3.00153065e+01 2.20153065e+01 9.01530647e+00]\n",
            "   ...\n",
            "   [2.23142868e+02 2.26928574e+02 2.09499985e+02]\n",
            "   [2.25785751e+02 2.28785751e+02 2.09785751e+02]\n",
            "   [2.23117355e+02 2.26117355e+02 2.07117355e+02]]\n",
            "\n",
            "  [[2.77857151e+01 1.93571434e+01 8.57142830e+00]\n",
            "   [2.94132652e+01 2.09846935e+01 1.01989794e+01]\n",
            "   [2.85969391e+01 2.01683674e+01 9.38265324e+00]\n",
            "   ...\n",
            "   [2.26831635e+02 2.30617340e+02 2.13188751e+02]\n",
            "   [2.26270401e+02 2.29270401e+02 2.10270401e+02]\n",
            "   [2.20352066e+02 2.23352066e+02 2.04352066e+02]]\n",
            "\n",
            "  ...\n",
            "\n",
            "  [[3.58779564e+01 3.02298965e+01 1.48726864e+01]\n",
            "   [2.52757225e+01 2.03470631e+01 6.48989868e+00]\n",
            "   [1.41225452e+01 1.27653151e+01 1.68371931e-01]\n",
            "   ...\n",
            "   [1.09020416e+02 8.08061218e+01 4.07142944e+01]\n",
            "   [1.04612160e+02 7.56121597e+01 3.51836319e+01]\n",
            "   [1.06933640e+02 7.39234161e+01 3.50000000e+01]]\n",
            "\n",
            "  [[7.00715179e+01 5.35255547e+01 3.30969696e+01]\n",
            "   [5.93062706e+01 4.62296982e+01 2.68878136e+01]\n",
            "   [4.75716248e+01 3.64542580e+01 1.77858448e+01]\n",
            "   ...\n",
            "   [1.14647957e+02 8.63877335e+01 4.71887512e+01]\n",
            "   [1.10637779e+02 7.88367081e+01 3.97704010e+01]\n",
            "   [1.07071503e+02 7.30715027e+01 3.50715027e+01]]\n",
            "\n",
            "  [[7.96173782e+01 5.71581497e+01 3.38009720e+01]\n",
            "   [7.57857132e+01 5.52652397e+01 3.16887398e+01]\n",
            "   [7.25511322e+01 5.55612793e+01 3.29031296e+01]\n",
            "   ...\n",
            "   [1.10285583e+02 8.14284058e+01 4.26427002e+01]\n",
            "   [1.13617195e+02 8.16171951e+01 4.36171951e+01]\n",
            "   [1.09055939e+02 7.50559387e+01 3.80559387e+01]]]\n",
            "\n",
            "\n",
            " [[[1.00000000e+00 2.00000000e+00 0.00000000e+00]\n",
            "   [1.00000000e+00 2.00000000e+00 0.00000000e+00]\n",
            "   [3.00000000e+00 2.00000000e+00 0.00000000e+00]\n",
            "   ...\n",
            "   [0.00000000e+00 1.00000000e+00 3.00000000e+00]\n",
            "   [0.00000000e+00 1.00000000e+00 3.00000000e+00]\n",
            "   [0.00000000e+00 2.00000000e+00 3.00000000e+00]]\n",
            "\n",
            "  [[1.00000000e+00 2.00000000e+00 0.00000000e+00]\n",
            "   [2.06632662e+00 1.06632650e+00 0.00000000e+00]\n",
            "   [3.00000000e+00 2.00000000e+00 0.00000000e+00]\n",
            "   ...\n",
            "   [0.00000000e+00 1.00000000e+00 3.00000000e+00]\n",
            "   [0.00000000e+00 1.00000000e+00 3.00000000e+00]\n",
            "   [0.00000000e+00 1.00000000e+00 3.00000000e+00]]\n",
            "\n",
            "  [[2.29081655e+00 1.71938777e+00 0.00000000e+00]\n",
            "   [2.98469400e+00 1.98469388e+00 0.00000000e+00]\n",
            "   [3.00000000e+00 2.00000000e+00 0.00000000e+00]\n",
            "   ...\n",
            "   [0.00000000e+00 1.00000000e+00 3.00000000e+00]\n",
            "   [0.00000000e+00 1.00000000e+00 3.00000000e+00]\n",
            "   [0.00000000e+00 1.00000000e+00 3.00000000e+00]]\n",
            "\n",
            "  ...\n",
            "\n",
            "  [[8.21429443e+00 2.14294434e-01 0.00000000e+00]\n",
            "   [8.41328239e+00 4.13282186e-01 0.00000000e+00]\n",
            "   [9.21429443e+00 1.21429443e+00 0.00000000e+00]\n",
            "   ...\n",
            "   [2.09999695e+01 2.19999695e+01 1.39999695e+01]\n",
            "   [1.87142639e+01 1.97142639e+01 1.17142639e+01]\n",
            "   [1.69234581e+01 1.79234581e+01 9.92345905e+00]]\n",
            "\n",
            "  [[9.92858887e+00 1.92858887e+00 0.00000000e+00]\n",
            "   [9.99489880e+00 1.99489927e+00 0.00000000e+00]\n",
            "   [1.09285889e+01 2.92858887e+00 9.28588867e-01]\n",
            "   ...\n",
            "   [2.02142639e+01 2.12142639e+01 1.32142639e+01]\n",
            "   [1.79285583e+01 1.89285583e+01 1.09285583e+01]\n",
            "   [1.60459042e+01 1.70459042e+01 9.04590511e+00]]\n",
            "\n",
            "  [[9.00000000e+00 1.00000000e+00 0.00000000e+00]\n",
            "   [9.35714722e+00 1.35714722e+00 0.00000000e+00]\n",
            "   [1.00000000e+01 2.00000000e+00 0.00000000e+00]\n",
            "   ...\n",
            "   [2.02142639e+01 2.12142639e+01 1.32142639e+01]\n",
            "   [1.79285583e+01 1.89285583e+01 1.09285583e+01]\n",
            "   [1.60000000e+01 1.70000000e+01 9.00000000e+00]]]\n",
            "\n",
            "\n",
            " [[[4.41603966e+01 3.67442589e+01 2.12783813e+01]\n",
            "   [4.27413902e+01 3.57413902e+01 1.90271053e+01]\n",
            "   [4.57726402e+01 3.75184937e+01 2.00408173e+01]\n",
            "   ...\n",
            "   [7.00000000e+00 6.00000000e+00 1.24732666e+01]\n",
            "   [6.66357660e+00 5.66357660e+00 1.36635761e+01]\n",
            "   [7.41614628e+00 5.41614628e+00 1.84161472e+01]]\n",
            "\n",
            "  [[2.07337360e+01 9.87659168e+00 6.81409264e+00]\n",
            "   [3.51393509e+01 2.42107773e+01 1.97417088e+01]\n",
            "   [4.80650482e+01 3.56096954e+01 2.77971935e+01]\n",
            "   ...\n",
            "   [7.78026915e+00 6.78026915e+00 1.32535353e+01]\n",
            "   [7.00414371e+00 5.12944221e+00 1.57535467e+01]\n",
            "   [7.04623842e+00 5.04623842e+00 1.73912964e+01]]\n",
            "\n",
            "  [[1.77735996e+01 2.83641744e+00 2.77423620e-01]\n",
            "   [2.00637779e+01 4.84949207e+00 3.19197118e-01]\n",
            "   [3.90838661e+01 2.25063782e+01 1.30793991e+01]\n",
            "   ...\n",
            "   [6.97765255e+00 5.57744074e+00 1.47780762e+01]\n",
            "   [5.27229977e+00 3.27229977e+00 1.42722998e+01]\n",
            "   [5.00000000e+00 3.00000000e+00 1.40000000e+01]]\n",
            "\n",
            "  ...\n",
            "\n",
            "  [[2.49566940e+02 2.36428238e+02 2.04290115e+02]\n",
            "   [2.50987564e+02 2.37785736e+02 2.06300018e+02]\n",
            "   [2.50785736e+02 2.37622162e+02 2.05741043e+02]\n",
            "   ...\n",
            "   [2.32244354e+02 1.94534454e+02 1.12663750e+02]\n",
            "   [2.33513458e+02 1.92773300e+02 1.00445442e+02]\n",
            "   [2.31045258e+02 1.88906555e+02 8.73344727e+01]]\n",
            "\n",
            "  [[2.47575882e+02 2.35575882e+02 1.97382614e+02]\n",
            "   [2.47973190e+02 2.35973190e+02 1.97830307e+02]\n",
            "   [2.51438431e+02 2.39438431e+02 2.01295547e+02]\n",
            "   ...\n",
            "   [2.30345703e+02 1.95598175e+02 1.23282043e+02]\n",
            "   [2.31000000e+02 1.93129456e+02 1.08821320e+02]\n",
            "   [2.31680130e+02 1.91306412e+02 9.83765411e+01]]\n",
            "\n",
            "  [[2.46168686e+02 2.34752563e+02 1.91000900e+02]\n",
            "   [2.43758896e+02 2.32116074e+02 1.89044540e+02]\n",
            "   [2.48696396e+02 2.36780899e+02 1.96054153e+02]\n",
            "   ...\n",
            "   [2.37205063e+02 2.01156570e+02 1.40062378e+02]\n",
            "   [2.36377899e+02 1.98415192e+02 1.24556366e+02]\n",
            "   [2.33158722e+02 1.92826767e+02 1.10409683e+02]]]], shape=(32, 224, 224, 3), dtype=float32) tf.Tensor(\n",
            "[[0. 0. 0. 0. 0. 0. 0. 0. 0. 1.]\n",
            " [0. 0. 0. 0. 0. 0. 0. 0. 1. 0.]\n",
            " [0. 0. 0. 1. 0. 0. 0. 0. 0. 0.]\n",
            " [0. 0. 0. 0. 0. 0. 0. 0. 1. 0.]\n",
            " [0. 1. 0. 0. 0. 0. 0. 0. 0. 0.]\n",
            " [0. 0. 0. 0. 0. 0. 1. 0. 0. 0.]\n",
            " [1. 0. 0. 0. 0. 0. 0. 0. 0. 0.]\n",
            " [0. 0. 0. 1. 0. 0. 0. 0. 0. 0.]\n",
            " [0. 0. 0. 0. 0. 1. 0. 0. 0. 0.]\n",
            " [1. 0. 0. 0. 0. 0. 0. 0. 0. 0.]\n",
            " [0. 0. 0. 0. 0. 0. 1. 0. 0. 0.]\n",
            " [0. 0. 1. 0. 0. 0. 0. 0. 0. 0.]\n",
            " [0. 0. 1. 0. 0. 0. 0. 0. 0. 0.]\n",
            " [0. 0. 0. 0. 1. 0. 0. 0. 0. 0.]\n",
            " [0. 0. 1. 0. 0. 0. 0. 0. 0. 0.]\n",
            " [0. 0. 1. 0. 0. 0. 0. 0. 0. 0.]\n",
            " [0. 0. 0. 0. 0. 1. 0. 0. 0. 0.]\n",
            " [1. 0. 0. 0. 0. 0. 0. 0. 0. 0.]\n",
            " [0. 0. 0. 0. 0. 0. 0. 0. 0. 1.]\n",
            " [0. 0. 0. 0. 1. 0. 0. 0. 0. 0.]\n",
            " [0. 0. 0. 0. 0. 0. 1. 0. 0. 0.]\n",
            " [0. 0. 0. 0. 0. 0. 0. 1. 0. 0.]\n",
            " [0. 0. 0. 0. 0. 0. 0. 1. 0. 0.]\n",
            " [0. 1. 0. 0. 0. 0. 0. 0. 0. 0.]\n",
            " [0. 0. 0. 0. 0. 0. 0. 0. 0. 1.]\n",
            " [0. 1. 0. 0. 0. 0. 0. 0. 0. 0.]\n",
            " [0. 0. 0. 0. 0. 0. 0. 0. 1. 0.]\n",
            " [0. 0. 1. 0. 0. 0. 0. 0. 0. 0.]\n",
            " [0. 0. 1. 0. 0. 0. 0. 0. 0. 0.]\n",
            " [0. 0. 0. 0. 0. 0. 0. 0. 1. 0.]\n",
            " [0. 0. 0. 0. 0. 1. 0. 0. 0. 0.]\n",
            " [0. 0. 0. 0. 0. 0. 0. 0. 0. 1.]], shape=(32, 10), dtype=float32)\n"
          ]
        }
      ]
    },
    {
      "cell_type": "markdown",
      "metadata": {
        "id": "fFaM6tO-l3YM"
      },
      "source": [
        "## Model 0: Building a transfer learning feature extraction model using the Keras Functional API\n",
        "\n",
        "The sequential API is straight-forward, it euns layers in sequential order.\n",
        "\n",
        "But the functional API gives more flexibility with our models.\n",
        "https://www.tensorflow.org/guide/keras/functional"
      ]
    },
    {
      "cell_type": "code",
      "metadata": {
        "colab": {
          "base_uri": "https://localhost:8080/"
        },
        "id": "3m6g4i47GkX9",
        "outputId": "db013044-2e06-4065-e4e7-d339508806ab"
      },
      "source": [
        "# 1. Create base model with tf.keras.applications\n",
        "base_model = tf.keras.applications.EfficientNetB0(include_top=False)\n",
        "\n",
        "# 2. Freeze the base model (so the underlying pre-trained  aren't updated during training)\n",
        "base_model.trainable = False\n",
        "\n",
        "# 3. Create inputs into our model\n",
        "inputs = tf.keras.layers.Input(shape=(224,224,3), name=\"input_layer\")\n",
        "\n",
        "# 4. If using model like ResNet50v2 we will need to normalize inputs(you don't have to for EfficientNet(s))\n",
        "# x = tf.keras.layers.experimental.preprocessing.Rescaling(1./255)(input)\n",
        "\n",
        "# 5. Pass the input to the base_model\n",
        "x = base_model(inputs)\n",
        "print(f\" Shape after passing inputs through base model: {x.shape}\")\n",
        "\n",
        "# 6. Average pool the outputs of the base model (aggregate all the most important information, reduce number of computations)\n",
        "x = tf.keras.layers.GlobalAveragePooling2D(name = \"gobal_average_pooling_layer\")(x)\n",
        "print(f\"Shape after GlobalAveragePooling2D: {x.shape} \")\n",
        "\n",
        "# 7. Create the output  activation layer\n",
        "outputs = tf.keras.layers.Dense(10, activation='softmax', name='output_layer')(x)\n",
        "\n",
        "# 8. Combine the inputs with the outputs into a model\n",
        "model_0 = tf.keras.Model(inputs, outputs)\n",
        "\n",
        "# 9. Compile the model\n",
        "model_0.compile(loss='categorical_crossentropy',\n",
        "                optimizer='Adam',\n",
        "                metrics = ['accuracy'])\n",
        "# 10. Fit our model and save its history\n",
        "history_10_percent = model_0.fit(train_data_10_percent,\n",
        "                                  epochs=5, \n",
        "                                  steps_per_epoch =len(train_data_10_percent),\n",
        "                                  validation_data = test_data,\n",
        "                                  validation_steps= int(0.25 * len(test_data)),\n",
        "                                  callbacks=[create_tensorboard_callback(dir_name=\"transfer_learning\",\n",
        "                                                                          experiment_name=\"10_percent_feature_extraction\")])"
      ],
      "execution_count": 11,
      "outputs": [
        {
          "output_type": "stream",
          "name": "stdout",
          "text": [
            "Downloading data from https://storage.googleapis.com/keras-applications/efficientnetb0_notop.h5\n",
            "16711680/16705208 [==============================] - 0s 0us/step\n",
            "16719872/16705208 [==============================] - 0s 0us/step\n",
            " Shape after passing inputs through base model: (None, 7, 7, 1280)\n",
            "Shape after GlobalAveragePooling2D: (None, 1280) \n",
            "Saving TensorBoard log files to: transfer_learning/10_percent_feature_extraction/20211128-161951\n",
            "Epoch 1/5\n"
          ]
        },
        {
          "output_type": "stream",
          "name": "stderr",
          "text": [
            "/usr/local/lib/python3.7/dist-packages/keras/engine/functional.py:1410: CustomMaskWarning: Custom mask layers require a config and must override get_config. When loading, the custom mask layer must be passed to the custom_objects argument.\n",
            "  layer_config = serialize_layer_fn(layer)\n"
          ]
        },
        {
          "output_type": "stream",
          "name": "stdout",
          "text": [
            "24/24 [==============================] - 24s 359ms/step - loss: 1.9066 - accuracy: 0.4120 - val_loss: 1.3643 - val_accuracy: 0.7105\n",
            "Epoch 2/5\n",
            "24/24 [==============================] - 9s 363ms/step - loss: 1.1420 - accuracy: 0.7453 - val_loss: 0.9572 - val_accuracy: 0.7780\n",
            "Epoch 3/5\n",
            "24/24 [==============================] - 9s 359ms/step - loss: 0.8338 - accuracy: 0.8120 - val_loss: 0.7784 - val_accuracy: 0.8109\n",
            "Epoch 4/5\n",
            "24/24 [==============================] - 9s 357ms/step - loss: 0.6852 - accuracy: 0.8387 - val_loss: 0.6802 - val_accuracy: 0.8339\n",
            "Epoch 5/5\n",
            "24/24 [==============================] - 7s 269ms/step - loss: 0.5847 - accuracy: 0.8667 - val_loss: 0.5944 - val_accuracy: 0.8635\n"
          ]
        }
      ]
    },
    {
      "cell_type": "code",
      "metadata": {
        "colab": {
          "base_uri": "https://localhost:8080/"
        },
        "id": "5IG8-rwqNCHd",
        "outputId": "7a3b4094-fd0c-45cc-9ddd-aa0f6064564e"
      },
      "source": [
        "# Evaluate on the ful test data\n",
        "model_0.evaluate(test_data)"
      ],
      "execution_count": 12,
      "outputs": [
        {
          "output_type": "stream",
          "name": "stdout",
          "text": [
            "79/79 [==============================] - 11s 136ms/step - loss: 0.6062 - accuracy: 0.8484\n"
          ]
        },
        {
          "output_type": "execute_result",
          "data": {
            "text/plain": [
              "[0.6062365770339966, 0.8483999967575073]"
            ]
          },
          "metadata": {},
          "execution_count": 12
        }
      ]
    },
    {
      "cell_type": "code",
      "metadata": {
        "colab": {
          "base_uri": "https://localhost:8080/"
        },
        "id": "TCDQGownNkK9",
        "outputId": "e7f91e03-a99b-491e-db3a-f2cc58080ff0"
      },
      "source": [
        "# Check the layers in out base model\n",
        "for layer_number, layer in enumerate(base_model.layers):\n",
        "  print(layer_number, layer.name)"
      ],
      "execution_count": 13,
      "outputs": [
        {
          "output_type": "stream",
          "name": "stdout",
          "text": [
            "0 input_1\n",
            "1 rescaling\n",
            "2 normalization\n",
            "3 stem_conv_pad\n",
            "4 stem_conv\n",
            "5 stem_bn\n",
            "6 stem_activation\n",
            "7 block1a_dwconv\n",
            "8 block1a_bn\n",
            "9 block1a_activation\n",
            "10 block1a_se_squeeze\n",
            "11 block1a_se_reshape\n",
            "12 block1a_se_reduce\n",
            "13 block1a_se_expand\n",
            "14 block1a_se_excite\n",
            "15 block1a_project_conv\n",
            "16 block1a_project_bn\n",
            "17 block2a_expand_conv\n",
            "18 block2a_expand_bn\n",
            "19 block2a_expand_activation\n",
            "20 block2a_dwconv_pad\n",
            "21 block2a_dwconv\n",
            "22 block2a_bn\n",
            "23 block2a_activation\n",
            "24 block2a_se_squeeze\n",
            "25 block2a_se_reshape\n",
            "26 block2a_se_reduce\n",
            "27 block2a_se_expand\n",
            "28 block2a_se_excite\n",
            "29 block2a_project_conv\n",
            "30 block2a_project_bn\n",
            "31 block2b_expand_conv\n",
            "32 block2b_expand_bn\n",
            "33 block2b_expand_activation\n",
            "34 block2b_dwconv\n",
            "35 block2b_bn\n",
            "36 block2b_activation\n",
            "37 block2b_se_squeeze\n",
            "38 block2b_se_reshape\n",
            "39 block2b_se_reduce\n",
            "40 block2b_se_expand\n",
            "41 block2b_se_excite\n",
            "42 block2b_project_conv\n",
            "43 block2b_project_bn\n",
            "44 block2b_drop\n",
            "45 block2b_add\n",
            "46 block3a_expand_conv\n",
            "47 block3a_expand_bn\n",
            "48 block3a_expand_activation\n",
            "49 block3a_dwconv_pad\n",
            "50 block3a_dwconv\n",
            "51 block3a_bn\n",
            "52 block3a_activation\n",
            "53 block3a_se_squeeze\n",
            "54 block3a_se_reshape\n",
            "55 block3a_se_reduce\n",
            "56 block3a_se_expand\n",
            "57 block3a_se_excite\n",
            "58 block3a_project_conv\n",
            "59 block3a_project_bn\n",
            "60 block3b_expand_conv\n",
            "61 block3b_expand_bn\n",
            "62 block3b_expand_activation\n",
            "63 block3b_dwconv\n",
            "64 block3b_bn\n",
            "65 block3b_activation\n",
            "66 block3b_se_squeeze\n",
            "67 block3b_se_reshape\n",
            "68 block3b_se_reduce\n",
            "69 block3b_se_expand\n",
            "70 block3b_se_excite\n",
            "71 block3b_project_conv\n",
            "72 block3b_project_bn\n",
            "73 block3b_drop\n",
            "74 block3b_add\n",
            "75 block4a_expand_conv\n",
            "76 block4a_expand_bn\n",
            "77 block4a_expand_activation\n",
            "78 block4a_dwconv_pad\n",
            "79 block4a_dwconv\n",
            "80 block4a_bn\n",
            "81 block4a_activation\n",
            "82 block4a_se_squeeze\n",
            "83 block4a_se_reshape\n",
            "84 block4a_se_reduce\n",
            "85 block4a_se_expand\n",
            "86 block4a_se_excite\n",
            "87 block4a_project_conv\n",
            "88 block4a_project_bn\n",
            "89 block4b_expand_conv\n",
            "90 block4b_expand_bn\n",
            "91 block4b_expand_activation\n",
            "92 block4b_dwconv\n",
            "93 block4b_bn\n",
            "94 block4b_activation\n",
            "95 block4b_se_squeeze\n",
            "96 block4b_se_reshape\n",
            "97 block4b_se_reduce\n",
            "98 block4b_se_expand\n",
            "99 block4b_se_excite\n",
            "100 block4b_project_conv\n",
            "101 block4b_project_bn\n",
            "102 block4b_drop\n",
            "103 block4b_add\n",
            "104 block4c_expand_conv\n",
            "105 block4c_expand_bn\n",
            "106 block4c_expand_activation\n",
            "107 block4c_dwconv\n",
            "108 block4c_bn\n",
            "109 block4c_activation\n",
            "110 block4c_se_squeeze\n",
            "111 block4c_se_reshape\n",
            "112 block4c_se_reduce\n",
            "113 block4c_se_expand\n",
            "114 block4c_se_excite\n",
            "115 block4c_project_conv\n",
            "116 block4c_project_bn\n",
            "117 block4c_drop\n",
            "118 block4c_add\n",
            "119 block5a_expand_conv\n",
            "120 block5a_expand_bn\n",
            "121 block5a_expand_activation\n",
            "122 block5a_dwconv\n",
            "123 block5a_bn\n",
            "124 block5a_activation\n",
            "125 block5a_se_squeeze\n",
            "126 block5a_se_reshape\n",
            "127 block5a_se_reduce\n",
            "128 block5a_se_expand\n",
            "129 block5a_se_excite\n",
            "130 block5a_project_conv\n",
            "131 block5a_project_bn\n",
            "132 block5b_expand_conv\n",
            "133 block5b_expand_bn\n",
            "134 block5b_expand_activation\n",
            "135 block5b_dwconv\n",
            "136 block5b_bn\n",
            "137 block5b_activation\n",
            "138 block5b_se_squeeze\n",
            "139 block5b_se_reshape\n",
            "140 block5b_se_reduce\n",
            "141 block5b_se_expand\n",
            "142 block5b_se_excite\n",
            "143 block5b_project_conv\n",
            "144 block5b_project_bn\n",
            "145 block5b_drop\n",
            "146 block5b_add\n",
            "147 block5c_expand_conv\n",
            "148 block5c_expand_bn\n",
            "149 block5c_expand_activation\n",
            "150 block5c_dwconv\n",
            "151 block5c_bn\n",
            "152 block5c_activation\n",
            "153 block5c_se_squeeze\n",
            "154 block5c_se_reshape\n",
            "155 block5c_se_reduce\n",
            "156 block5c_se_expand\n",
            "157 block5c_se_excite\n",
            "158 block5c_project_conv\n",
            "159 block5c_project_bn\n",
            "160 block5c_drop\n",
            "161 block5c_add\n",
            "162 block6a_expand_conv\n",
            "163 block6a_expand_bn\n",
            "164 block6a_expand_activation\n",
            "165 block6a_dwconv_pad\n",
            "166 block6a_dwconv\n",
            "167 block6a_bn\n",
            "168 block6a_activation\n",
            "169 block6a_se_squeeze\n",
            "170 block6a_se_reshape\n",
            "171 block6a_se_reduce\n",
            "172 block6a_se_expand\n",
            "173 block6a_se_excite\n",
            "174 block6a_project_conv\n",
            "175 block6a_project_bn\n",
            "176 block6b_expand_conv\n",
            "177 block6b_expand_bn\n",
            "178 block6b_expand_activation\n",
            "179 block6b_dwconv\n",
            "180 block6b_bn\n",
            "181 block6b_activation\n",
            "182 block6b_se_squeeze\n",
            "183 block6b_se_reshape\n",
            "184 block6b_se_reduce\n",
            "185 block6b_se_expand\n",
            "186 block6b_se_excite\n",
            "187 block6b_project_conv\n",
            "188 block6b_project_bn\n",
            "189 block6b_drop\n",
            "190 block6b_add\n",
            "191 block6c_expand_conv\n",
            "192 block6c_expand_bn\n",
            "193 block6c_expand_activation\n",
            "194 block6c_dwconv\n",
            "195 block6c_bn\n",
            "196 block6c_activation\n",
            "197 block6c_se_squeeze\n",
            "198 block6c_se_reshape\n",
            "199 block6c_se_reduce\n",
            "200 block6c_se_expand\n",
            "201 block6c_se_excite\n",
            "202 block6c_project_conv\n",
            "203 block6c_project_bn\n",
            "204 block6c_drop\n",
            "205 block6c_add\n",
            "206 block6d_expand_conv\n",
            "207 block6d_expand_bn\n",
            "208 block6d_expand_activation\n",
            "209 block6d_dwconv\n",
            "210 block6d_bn\n",
            "211 block6d_activation\n",
            "212 block6d_se_squeeze\n",
            "213 block6d_se_reshape\n",
            "214 block6d_se_reduce\n",
            "215 block6d_se_expand\n",
            "216 block6d_se_excite\n",
            "217 block6d_project_conv\n",
            "218 block6d_project_bn\n",
            "219 block6d_drop\n",
            "220 block6d_add\n",
            "221 block7a_expand_conv\n",
            "222 block7a_expand_bn\n",
            "223 block7a_expand_activation\n",
            "224 block7a_dwconv\n",
            "225 block7a_bn\n",
            "226 block7a_activation\n",
            "227 block7a_se_squeeze\n",
            "228 block7a_se_reshape\n",
            "229 block7a_se_reduce\n",
            "230 block7a_se_expand\n",
            "231 block7a_se_excite\n",
            "232 block7a_project_conv\n",
            "233 block7a_project_bn\n",
            "234 top_conv\n",
            "235 top_bn\n",
            "236 top_activation\n"
          ]
        }
      ]
    },
    {
      "cell_type": "code",
      "metadata": {
        "colab": {
          "base_uri": "https://localhost:8080/"
        },
        "id": "0A4Yw-2HN3ZG",
        "outputId": "c69eae5d-d39f-44e7-f64b-933e65a8a9cb"
      },
      "source": [
        "# How about we get summary of base model\n",
        "base_model.summary()"
      ],
      "execution_count": 14,
      "outputs": [
        {
          "output_type": "stream",
          "name": "stdout",
          "text": [
            "Model: \"efficientnetb0\"\n",
            "__________________________________________________________________________________________________\n",
            " Layer (type)                   Output Shape         Param #     Connected to                     \n",
            "==================================================================================================\n",
            " input_1 (InputLayer)           [(None, None, None,  0           []                               \n",
            "                                 3)]                                                              \n",
            "                                                                                                  \n",
            " rescaling (Rescaling)          (None, None, None,   0           ['input_1[0][0]']                \n",
            "                                3)                                                                \n",
            "                                                                                                  \n",
            " normalization (Normalization)  (None, None, None,   7           ['rescaling[0][0]']              \n",
            "                                3)                                                                \n",
            "                                                                                                  \n",
            " stem_conv_pad (ZeroPadding2D)  (None, None, None,   0           ['normalization[0][0]']          \n",
            "                                3)                                                                \n",
            "                                                                                                  \n",
            " stem_conv (Conv2D)             (None, None, None,   864         ['stem_conv_pad[0][0]']          \n",
            "                                32)                                                               \n",
            "                                                                                                  \n",
            " stem_bn (BatchNormalization)   (None, None, None,   128         ['stem_conv[0][0]']              \n",
            "                                32)                                                               \n",
            "                                                                                                  \n",
            " stem_activation (Activation)   (None, None, None,   0           ['stem_bn[0][0]']                \n",
            "                                32)                                                               \n",
            "                                                                                                  \n",
            " block1a_dwconv (DepthwiseConv2  (None, None, None,   288        ['stem_activation[0][0]']        \n",
            " D)                             32)                                                               \n",
            "                                                                                                  \n",
            " block1a_bn (BatchNormalization  (None, None, None,   128        ['block1a_dwconv[0][0]']         \n",
            " )                              32)                                                               \n",
            "                                                                                                  \n",
            " block1a_activation (Activation  (None, None, None,   0          ['block1a_bn[0][0]']             \n",
            " )                              32)                                                               \n",
            "                                                                                                  \n",
            " block1a_se_squeeze (GlobalAver  (None, 32)          0           ['block1a_activation[0][0]']     \n",
            " agePooling2D)                                                                                    \n",
            "                                                                                                  \n",
            " block1a_se_reshape (Reshape)   (None, 1, 1, 32)     0           ['block1a_se_squeeze[0][0]']     \n",
            "                                                                                                  \n",
            " block1a_se_reduce (Conv2D)     (None, 1, 1, 8)      264         ['block1a_se_reshape[0][0]']     \n",
            "                                                                                                  \n",
            " block1a_se_expand (Conv2D)     (None, 1, 1, 32)     288         ['block1a_se_reduce[0][0]']      \n",
            "                                                                                                  \n",
            " block1a_se_excite (Multiply)   (None, None, None,   0           ['block1a_activation[0][0]',     \n",
            "                                32)                               'block1a_se_expand[0][0]']      \n",
            "                                                                                                  \n",
            " block1a_project_conv (Conv2D)  (None, None, None,   512         ['block1a_se_excite[0][0]']      \n",
            "                                16)                                                               \n",
            "                                                                                                  \n",
            " block1a_project_bn (BatchNorma  (None, None, None,   64         ['block1a_project_conv[0][0]']   \n",
            " lization)                      16)                                                               \n",
            "                                                                                                  \n",
            " block2a_expand_conv (Conv2D)   (None, None, None,   1536        ['block1a_project_bn[0][0]']     \n",
            "                                96)                                                               \n",
            "                                                                                                  \n",
            " block2a_expand_bn (BatchNormal  (None, None, None,   384        ['block2a_expand_conv[0][0]']    \n",
            " ization)                       96)                                                               \n",
            "                                                                                                  \n",
            " block2a_expand_activation (Act  (None, None, None,   0          ['block2a_expand_bn[0][0]']      \n",
            " ivation)                       96)                                                               \n",
            "                                                                                                  \n",
            " block2a_dwconv_pad (ZeroPaddin  (None, None, None,   0          ['block2a_expand_activation[0][0]\n",
            " g2D)                           96)                              ']                               \n",
            "                                                                                                  \n",
            " block2a_dwconv (DepthwiseConv2  (None, None, None,   864        ['block2a_dwconv_pad[0][0]']     \n",
            " D)                             96)                                                               \n",
            "                                                                                                  \n",
            " block2a_bn (BatchNormalization  (None, None, None,   384        ['block2a_dwconv[0][0]']         \n",
            " )                              96)                                                               \n",
            "                                                                                                  \n",
            " block2a_activation (Activation  (None, None, None,   0          ['block2a_bn[0][0]']             \n",
            " )                              96)                                                               \n",
            "                                                                                                  \n",
            " block2a_se_squeeze (GlobalAver  (None, 96)          0           ['block2a_activation[0][0]']     \n",
            " agePooling2D)                                                                                    \n",
            "                                                                                                  \n",
            " block2a_se_reshape (Reshape)   (None, 1, 1, 96)     0           ['block2a_se_squeeze[0][0]']     \n",
            "                                                                                                  \n",
            " block2a_se_reduce (Conv2D)     (None, 1, 1, 4)      388         ['block2a_se_reshape[0][0]']     \n",
            "                                                                                                  \n",
            " block2a_se_expand (Conv2D)     (None, 1, 1, 96)     480         ['block2a_se_reduce[0][0]']      \n",
            "                                                                                                  \n",
            " block2a_se_excite (Multiply)   (None, None, None,   0           ['block2a_activation[0][0]',     \n",
            "                                96)                               'block2a_se_expand[0][0]']      \n",
            "                                                                                                  \n",
            " block2a_project_conv (Conv2D)  (None, None, None,   2304        ['block2a_se_excite[0][0]']      \n",
            "                                24)                                                               \n",
            "                                                                                                  \n",
            " block2a_project_bn (BatchNorma  (None, None, None,   96         ['block2a_project_conv[0][0]']   \n",
            " lization)                      24)                                                               \n",
            "                                                                                                  \n",
            " block2b_expand_conv (Conv2D)   (None, None, None,   3456        ['block2a_project_bn[0][0]']     \n",
            "                                144)                                                              \n",
            "                                                                                                  \n",
            " block2b_expand_bn (BatchNormal  (None, None, None,   576        ['block2b_expand_conv[0][0]']    \n",
            " ization)                       144)                                                              \n",
            "                                                                                                  \n",
            " block2b_expand_activation (Act  (None, None, None,   0          ['block2b_expand_bn[0][0]']      \n",
            " ivation)                       144)                                                              \n",
            "                                                                                                  \n",
            " block2b_dwconv (DepthwiseConv2  (None, None, None,   1296       ['block2b_expand_activation[0][0]\n",
            " D)                             144)                             ']                               \n",
            "                                                                                                  \n",
            " block2b_bn (BatchNormalization  (None, None, None,   576        ['block2b_dwconv[0][0]']         \n",
            " )                              144)                                                              \n",
            "                                                                                                  \n",
            " block2b_activation (Activation  (None, None, None,   0          ['block2b_bn[0][0]']             \n",
            " )                              144)                                                              \n",
            "                                                                                                  \n",
            " block2b_se_squeeze (GlobalAver  (None, 144)         0           ['block2b_activation[0][0]']     \n",
            " agePooling2D)                                                                                    \n",
            "                                                                                                  \n",
            " block2b_se_reshape (Reshape)   (None, 1, 1, 144)    0           ['block2b_se_squeeze[0][0]']     \n",
            "                                                                                                  \n",
            " block2b_se_reduce (Conv2D)     (None, 1, 1, 6)      870         ['block2b_se_reshape[0][0]']     \n",
            "                                                                                                  \n",
            " block2b_se_expand (Conv2D)     (None, 1, 1, 144)    1008        ['block2b_se_reduce[0][0]']      \n",
            "                                                                                                  \n",
            " block2b_se_excite (Multiply)   (None, None, None,   0           ['block2b_activation[0][0]',     \n",
            "                                144)                              'block2b_se_expand[0][0]']      \n",
            "                                                                                                  \n",
            " block2b_project_conv (Conv2D)  (None, None, None,   3456        ['block2b_se_excite[0][0]']      \n",
            "                                24)                                                               \n",
            "                                                                                                  \n",
            " block2b_project_bn (BatchNorma  (None, None, None,   96         ['block2b_project_conv[0][0]']   \n",
            " lization)                      24)                                                               \n",
            "                                                                                                  \n",
            " block2b_drop (Dropout)         (None, None, None,   0           ['block2b_project_bn[0][0]']     \n",
            "                                24)                                                               \n",
            "                                                                                                  \n",
            " block2b_add (Add)              (None, None, None,   0           ['block2b_drop[0][0]',           \n",
            "                                24)                               'block2a_project_bn[0][0]']     \n",
            "                                                                                                  \n",
            " block3a_expand_conv (Conv2D)   (None, None, None,   3456        ['block2b_add[0][0]']            \n",
            "                                144)                                                              \n",
            "                                                                                                  \n",
            " block3a_expand_bn (BatchNormal  (None, None, None,   576        ['block3a_expand_conv[0][0]']    \n",
            " ization)                       144)                                                              \n",
            "                                                                                                  \n",
            " block3a_expand_activation (Act  (None, None, None,   0          ['block3a_expand_bn[0][0]']      \n",
            " ivation)                       144)                                                              \n",
            "                                                                                                  \n",
            " block3a_dwconv_pad (ZeroPaddin  (None, None, None,   0          ['block3a_expand_activation[0][0]\n",
            " g2D)                           144)                             ']                               \n",
            "                                                                                                  \n",
            " block3a_dwconv (DepthwiseConv2  (None, None, None,   3600       ['block3a_dwconv_pad[0][0]']     \n",
            " D)                             144)                                                              \n",
            "                                                                                                  \n",
            " block3a_bn (BatchNormalization  (None, None, None,   576        ['block3a_dwconv[0][0]']         \n",
            " )                              144)                                                              \n",
            "                                                                                                  \n",
            " block3a_activation (Activation  (None, None, None,   0          ['block3a_bn[0][0]']             \n",
            " )                              144)                                                              \n",
            "                                                                                                  \n",
            " block3a_se_squeeze (GlobalAver  (None, 144)         0           ['block3a_activation[0][0]']     \n",
            " agePooling2D)                                                                                    \n",
            "                                                                                                  \n",
            " block3a_se_reshape (Reshape)   (None, 1, 1, 144)    0           ['block3a_se_squeeze[0][0]']     \n",
            "                                                                                                  \n",
            " block3a_se_reduce (Conv2D)     (None, 1, 1, 6)      870         ['block3a_se_reshape[0][0]']     \n",
            "                                                                                                  \n",
            " block3a_se_expand (Conv2D)     (None, 1, 1, 144)    1008        ['block3a_se_reduce[0][0]']      \n",
            "                                                                                                  \n",
            " block3a_se_excite (Multiply)   (None, None, None,   0           ['block3a_activation[0][0]',     \n",
            "                                144)                              'block3a_se_expand[0][0]']      \n",
            "                                                                                                  \n",
            " block3a_project_conv (Conv2D)  (None, None, None,   5760        ['block3a_se_excite[0][0]']      \n",
            "                                40)                                                               \n",
            "                                                                                                  \n",
            " block3a_project_bn (BatchNorma  (None, None, None,   160        ['block3a_project_conv[0][0]']   \n",
            " lization)                      40)                                                               \n",
            "                                                                                                  \n",
            " block3b_expand_conv (Conv2D)   (None, None, None,   9600        ['block3a_project_bn[0][0]']     \n",
            "                                240)                                                              \n",
            "                                                                                                  \n",
            " block3b_expand_bn (BatchNormal  (None, None, None,   960        ['block3b_expand_conv[0][0]']    \n",
            " ization)                       240)                                                              \n",
            "                                                                                                  \n",
            " block3b_expand_activation (Act  (None, None, None,   0          ['block3b_expand_bn[0][0]']      \n",
            " ivation)                       240)                                                              \n",
            "                                                                                                  \n",
            " block3b_dwconv (DepthwiseConv2  (None, None, None,   6000       ['block3b_expand_activation[0][0]\n",
            " D)                             240)                             ']                               \n",
            "                                                                                                  \n",
            " block3b_bn (BatchNormalization  (None, None, None,   960        ['block3b_dwconv[0][0]']         \n",
            " )                              240)                                                              \n",
            "                                                                                                  \n",
            " block3b_activation (Activation  (None, None, None,   0          ['block3b_bn[0][0]']             \n",
            " )                              240)                                                              \n",
            "                                                                                                  \n",
            " block3b_se_squeeze (GlobalAver  (None, 240)         0           ['block3b_activation[0][0]']     \n",
            " agePooling2D)                                                                                    \n",
            "                                                                                                  \n",
            " block3b_se_reshape (Reshape)   (None, 1, 1, 240)    0           ['block3b_se_squeeze[0][0]']     \n",
            "                                                                                                  \n",
            " block3b_se_reduce (Conv2D)     (None, 1, 1, 10)     2410        ['block3b_se_reshape[0][0]']     \n",
            "                                                                                                  \n",
            " block3b_se_expand (Conv2D)     (None, 1, 1, 240)    2640        ['block3b_se_reduce[0][0]']      \n",
            "                                                                                                  \n",
            " block3b_se_excite (Multiply)   (None, None, None,   0           ['block3b_activation[0][0]',     \n",
            "                                240)                              'block3b_se_expand[0][0]']      \n",
            "                                                                                                  \n",
            " block3b_project_conv (Conv2D)  (None, None, None,   9600        ['block3b_se_excite[0][0]']      \n",
            "                                40)                                                               \n",
            "                                                                                                  \n",
            " block3b_project_bn (BatchNorma  (None, None, None,   160        ['block3b_project_conv[0][0]']   \n",
            " lization)                      40)                                                               \n",
            "                                                                                                  \n",
            " block3b_drop (Dropout)         (None, None, None,   0           ['block3b_project_bn[0][0]']     \n",
            "                                40)                                                               \n",
            "                                                                                                  \n",
            " block3b_add (Add)              (None, None, None,   0           ['block3b_drop[0][0]',           \n",
            "                                40)                               'block3a_project_bn[0][0]']     \n",
            "                                                                                                  \n",
            " block4a_expand_conv (Conv2D)   (None, None, None,   9600        ['block3b_add[0][0]']            \n",
            "                                240)                                                              \n",
            "                                                                                                  \n",
            " block4a_expand_bn (BatchNormal  (None, None, None,   960        ['block4a_expand_conv[0][0]']    \n",
            " ization)                       240)                                                              \n",
            "                                                                                                  \n",
            " block4a_expand_activation (Act  (None, None, None,   0          ['block4a_expand_bn[0][0]']      \n",
            " ivation)                       240)                                                              \n",
            "                                                                                                  \n",
            " block4a_dwconv_pad (ZeroPaddin  (None, None, None,   0          ['block4a_expand_activation[0][0]\n",
            " g2D)                           240)                             ']                               \n",
            "                                                                                                  \n",
            " block4a_dwconv (DepthwiseConv2  (None, None, None,   2160       ['block4a_dwconv_pad[0][0]']     \n",
            " D)                             240)                                                              \n",
            "                                                                                                  \n",
            " block4a_bn (BatchNormalization  (None, None, None,   960        ['block4a_dwconv[0][0]']         \n",
            " )                              240)                                                              \n",
            "                                                                                                  \n",
            " block4a_activation (Activation  (None, None, None,   0          ['block4a_bn[0][0]']             \n",
            " )                              240)                                                              \n",
            "                                                                                                  \n",
            " block4a_se_squeeze (GlobalAver  (None, 240)         0           ['block4a_activation[0][0]']     \n",
            " agePooling2D)                                                                                    \n",
            "                                                                                                  \n",
            " block4a_se_reshape (Reshape)   (None, 1, 1, 240)    0           ['block4a_se_squeeze[0][0]']     \n",
            "                                                                                                  \n",
            " block4a_se_reduce (Conv2D)     (None, 1, 1, 10)     2410        ['block4a_se_reshape[0][0]']     \n",
            "                                                                                                  \n",
            " block4a_se_expand (Conv2D)     (None, 1, 1, 240)    2640        ['block4a_se_reduce[0][0]']      \n",
            "                                                                                                  \n",
            " block4a_se_excite (Multiply)   (None, None, None,   0           ['block4a_activation[0][0]',     \n",
            "                                240)                              'block4a_se_expand[0][0]']      \n",
            "                                                                                                  \n",
            " block4a_project_conv (Conv2D)  (None, None, None,   19200       ['block4a_se_excite[0][0]']      \n",
            "                                80)                                                               \n",
            "                                                                                                  \n",
            " block4a_project_bn (BatchNorma  (None, None, None,   320        ['block4a_project_conv[0][0]']   \n",
            " lization)                      80)                                                               \n",
            "                                                                                                  \n",
            " block4b_expand_conv (Conv2D)   (None, None, None,   38400       ['block4a_project_bn[0][0]']     \n",
            "                                480)                                                              \n",
            "                                                                                                  \n",
            " block4b_expand_bn (BatchNormal  (None, None, None,   1920       ['block4b_expand_conv[0][0]']    \n",
            " ization)                       480)                                                              \n",
            "                                                                                                  \n",
            " block4b_expand_activation (Act  (None, None, None,   0          ['block4b_expand_bn[0][0]']      \n",
            " ivation)                       480)                                                              \n",
            "                                                                                                  \n",
            " block4b_dwconv (DepthwiseConv2  (None, None, None,   4320       ['block4b_expand_activation[0][0]\n",
            " D)                             480)                             ']                               \n",
            "                                                                                                  \n",
            " block4b_bn (BatchNormalization  (None, None, None,   1920       ['block4b_dwconv[0][0]']         \n",
            " )                              480)                                                              \n",
            "                                                                                                  \n",
            " block4b_activation (Activation  (None, None, None,   0          ['block4b_bn[0][0]']             \n",
            " )                              480)                                                              \n",
            "                                                                                                  \n",
            " block4b_se_squeeze (GlobalAver  (None, 480)         0           ['block4b_activation[0][0]']     \n",
            " agePooling2D)                                                                                    \n",
            "                                                                                                  \n",
            " block4b_se_reshape (Reshape)   (None, 1, 1, 480)    0           ['block4b_se_squeeze[0][0]']     \n",
            "                                                                                                  \n",
            " block4b_se_reduce (Conv2D)     (None, 1, 1, 20)     9620        ['block4b_se_reshape[0][0]']     \n",
            "                                                                                                  \n",
            " block4b_se_expand (Conv2D)     (None, 1, 1, 480)    10080       ['block4b_se_reduce[0][0]']      \n",
            "                                                                                                  \n",
            " block4b_se_excite (Multiply)   (None, None, None,   0           ['block4b_activation[0][0]',     \n",
            "                                480)                              'block4b_se_expand[0][0]']      \n",
            "                                                                                                  \n",
            " block4b_project_conv (Conv2D)  (None, None, None,   38400       ['block4b_se_excite[0][0]']      \n",
            "                                80)                                                               \n",
            "                                                                                                  \n",
            " block4b_project_bn (BatchNorma  (None, None, None,   320        ['block4b_project_conv[0][0]']   \n",
            " lization)                      80)                                                               \n",
            "                                                                                                  \n",
            " block4b_drop (Dropout)         (None, None, None,   0           ['block4b_project_bn[0][0]']     \n",
            "                                80)                                                               \n",
            "                                                                                                  \n",
            " block4b_add (Add)              (None, None, None,   0           ['block4b_drop[0][0]',           \n",
            "                                80)                               'block4a_project_bn[0][0]']     \n",
            "                                                                                                  \n",
            " block4c_expand_conv (Conv2D)   (None, None, None,   38400       ['block4b_add[0][0]']            \n",
            "                                480)                                                              \n",
            "                                                                                                  \n",
            " block4c_expand_bn (BatchNormal  (None, None, None,   1920       ['block4c_expand_conv[0][0]']    \n",
            " ization)                       480)                                                              \n",
            "                                                                                                  \n",
            " block4c_expand_activation (Act  (None, None, None,   0          ['block4c_expand_bn[0][0]']      \n",
            " ivation)                       480)                                                              \n",
            "                                                                                                  \n",
            " block4c_dwconv (DepthwiseConv2  (None, None, None,   4320       ['block4c_expand_activation[0][0]\n",
            " D)                             480)                             ']                               \n",
            "                                                                                                  \n",
            " block4c_bn (BatchNormalization  (None, None, None,   1920       ['block4c_dwconv[0][0]']         \n",
            " )                              480)                                                              \n",
            "                                                                                                  \n",
            " block4c_activation (Activation  (None, None, None,   0          ['block4c_bn[0][0]']             \n",
            " )                              480)                                                              \n",
            "                                                                                                  \n",
            " block4c_se_squeeze (GlobalAver  (None, 480)         0           ['block4c_activation[0][0]']     \n",
            " agePooling2D)                                                                                    \n",
            "                                                                                                  \n",
            " block4c_se_reshape (Reshape)   (None, 1, 1, 480)    0           ['block4c_se_squeeze[0][0]']     \n",
            "                                                                                                  \n",
            " block4c_se_reduce (Conv2D)     (None, 1, 1, 20)     9620        ['block4c_se_reshape[0][0]']     \n",
            "                                                                                                  \n",
            " block4c_se_expand (Conv2D)     (None, 1, 1, 480)    10080       ['block4c_se_reduce[0][0]']      \n",
            "                                                                                                  \n",
            " block4c_se_excite (Multiply)   (None, None, None,   0           ['block4c_activation[0][0]',     \n",
            "                                480)                              'block4c_se_expand[0][0]']      \n",
            "                                                                                                  \n",
            " block4c_project_conv (Conv2D)  (None, None, None,   38400       ['block4c_se_excite[0][0]']      \n",
            "                                80)                                                               \n",
            "                                                                                                  \n",
            " block4c_project_bn (BatchNorma  (None, None, None,   320        ['block4c_project_conv[0][0]']   \n",
            " lization)                      80)                                                               \n",
            "                                                                                                  \n",
            " block4c_drop (Dropout)         (None, None, None,   0           ['block4c_project_bn[0][0]']     \n",
            "                                80)                                                               \n",
            "                                                                                                  \n",
            " block4c_add (Add)              (None, None, None,   0           ['block4c_drop[0][0]',           \n",
            "                                80)                               'block4b_add[0][0]']            \n",
            "                                                                                                  \n",
            " block5a_expand_conv (Conv2D)   (None, None, None,   38400       ['block4c_add[0][0]']            \n",
            "                                480)                                                              \n",
            "                                                                                                  \n",
            " block5a_expand_bn (BatchNormal  (None, None, None,   1920       ['block5a_expand_conv[0][0]']    \n",
            " ization)                       480)                                                              \n",
            "                                                                                                  \n",
            " block5a_expand_activation (Act  (None, None, None,   0          ['block5a_expand_bn[0][0]']      \n",
            " ivation)                       480)                                                              \n",
            "                                                                                                  \n",
            " block5a_dwconv (DepthwiseConv2  (None, None, None,   12000      ['block5a_expand_activation[0][0]\n",
            " D)                             480)                             ']                               \n",
            "                                                                                                  \n",
            " block5a_bn (BatchNormalization  (None, None, None,   1920       ['block5a_dwconv[0][0]']         \n",
            " )                              480)                                                              \n",
            "                                                                                                  \n",
            " block5a_activation (Activation  (None, None, None,   0          ['block5a_bn[0][0]']             \n",
            " )                              480)                                                              \n",
            "                                                                                                  \n",
            " block5a_se_squeeze (GlobalAver  (None, 480)         0           ['block5a_activation[0][0]']     \n",
            " agePooling2D)                                                                                    \n",
            "                                                                                                  \n",
            " block5a_se_reshape (Reshape)   (None, 1, 1, 480)    0           ['block5a_se_squeeze[0][0]']     \n",
            "                                                                                                  \n",
            " block5a_se_reduce (Conv2D)     (None, 1, 1, 20)     9620        ['block5a_se_reshape[0][0]']     \n",
            "                                                                                                  \n",
            " block5a_se_expand (Conv2D)     (None, 1, 1, 480)    10080       ['block5a_se_reduce[0][0]']      \n",
            "                                                                                                  \n",
            " block5a_se_excite (Multiply)   (None, None, None,   0           ['block5a_activation[0][0]',     \n",
            "                                480)                              'block5a_se_expand[0][0]']      \n",
            "                                                                                                  \n",
            " block5a_project_conv (Conv2D)  (None, None, None,   53760       ['block5a_se_excite[0][0]']      \n",
            "                                112)                                                              \n",
            "                                                                                                  \n",
            " block5a_project_bn (BatchNorma  (None, None, None,   448        ['block5a_project_conv[0][0]']   \n",
            " lization)                      112)                                                              \n",
            "                                                                                                  \n",
            " block5b_expand_conv (Conv2D)   (None, None, None,   75264       ['block5a_project_bn[0][0]']     \n",
            "                                672)                                                              \n",
            "                                                                                                  \n",
            " block5b_expand_bn (BatchNormal  (None, None, None,   2688       ['block5b_expand_conv[0][0]']    \n",
            " ization)                       672)                                                              \n",
            "                                                                                                  \n",
            " block5b_expand_activation (Act  (None, None, None,   0          ['block5b_expand_bn[0][0]']      \n",
            " ivation)                       672)                                                              \n",
            "                                                                                                  \n",
            " block5b_dwconv (DepthwiseConv2  (None, None, None,   16800      ['block5b_expand_activation[0][0]\n",
            " D)                             672)                             ']                               \n",
            "                                                                                                  \n",
            " block5b_bn (BatchNormalization  (None, None, None,   2688       ['block5b_dwconv[0][0]']         \n",
            " )                              672)                                                              \n",
            "                                                                                                  \n",
            " block5b_activation (Activation  (None, None, None,   0          ['block5b_bn[0][0]']             \n",
            " )                              672)                                                              \n",
            "                                                                                                  \n",
            " block5b_se_squeeze (GlobalAver  (None, 672)         0           ['block5b_activation[0][0]']     \n",
            " agePooling2D)                                                                                    \n",
            "                                                                                                  \n",
            " block5b_se_reshape (Reshape)   (None, 1, 1, 672)    0           ['block5b_se_squeeze[0][0]']     \n",
            "                                                                                                  \n",
            " block5b_se_reduce (Conv2D)     (None, 1, 1, 28)     18844       ['block5b_se_reshape[0][0]']     \n",
            "                                                                                                  \n",
            " block5b_se_expand (Conv2D)     (None, 1, 1, 672)    19488       ['block5b_se_reduce[0][0]']      \n",
            "                                                                                                  \n",
            " block5b_se_excite (Multiply)   (None, None, None,   0           ['block5b_activation[0][0]',     \n",
            "                                672)                              'block5b_se_expand[0][0]']      \n",
            "                                                                                                  \n",
            " block5b_project_conv (Conv2D)  (None, None, None,   75264       ['block5b_se_excite[0][0]']      \n",
            "                                112)                                                              \n",
            "                                                                                                  \n",
            " block5b_project_bn (BatchNorma  (None, None, None,   448        ['block5b_project_conv[0][0]']   \n",
            " lization)                      112)                                                              \n",
            "                                                                                                  \n",
            " block5b_drop (Dropout)         (None, None, None,   0           ['block5b_project_bn[0][0]']     \n",
            "                                112)                                                              \n",
            "                                                                                                  \n",
            " block5b_add (Add)              (None, None, None,   0           ['block5b_drop[0][0]',           \n",
            "                                112)                              'block5a_project_bn[0][0]']     \n",
            "                                                                                                  \n",
            " block5c_expand_conv (Conv2D)   (None, None, None,   75264       ['block5b_add[0][0]']            \n",
            "                                672)                                                              \n",
            "                                                                                                  \n",
            " block5c_expand_bn (BatchNormal  (None, None, None,   2688       ['block5c_expand_conv[0][0]']    \n",
            " ization)                       672)                                                              \n",
            "                                                                                                  \n",
            " block5c_expand_activation (Act  (None, None, None,   0          ['block5c_expand_bn[0][0]']      \n",
            " ivation)                       672)                                                              \n",
            "                                                                                                  \n",
            " block5c_dwconv (DepthwiseConv2  (None, None, None,   16800      ['block5c_expand_activation[0][0]\n",
            " D)                             672)                             ']                               \n",
            "                                                                                                  \n",
            " block5c_bn (BatchNormalization  (None, None, None,   2688       ['block5c_dwconv[0][0]']         \n",
            " )                              672)                                                              \n",
            "                                                                                                  \n",
            " block5c_activation (Activation  (None, None, None,   0          ['block5c_bn[0][0]']             \n",
            " )                              672)                                                              \n",
            "                                                                                                  \n",
            " block5c_se_squeeze (GlobalAver  (None, 672)         0           ['block5c_activation[0][0]']     \n",
            " agePooling2D)                                                                                    \n",
            "                                                                                                  \n",
            " block5c_se_reshape (Reshape)   (None, 1, 1, 672)    0           ['block5c_se_squeeze[0][0]']     \n",
            "                                                                                                  \n",
            " block5c_se_reduce (Conv2D)     (None, 1, 1, 28)     18844       ['block5c_se_reshape[0][0]']     \n",
            "                                                                                                  \n",
            " block5c_se_expand (Conv2D)     (None, 1, 1, 672)    19488       ['block5c_se_reduce[0][0]']      \n",
            "                                                                                                  \n",
            " block5c_se_excite (Multiply)   (None, None, None,   0           ['block5c_activation[0][0]',     \n",
            "                                672)                              'block5c_se_expand[0][0]']      \n",
            "                                                                                                  \n",
            " block5c_project_conv (Conv2D)  (None, None, None,   75264       ['block5c_se_excite[0][0]']      \n",
            "                                112)                                                              \n",
            "                                                                                                  \n",
            " block5c_project_bn (BatchNorma  (None, None, None,   448        ['block5c_project_conv[0][0]']   \n",
            " lization)                      112)                                                              \n",
            "                                                                                                  \n",
            " block5c_drop (Dropout)         (None, None, None,   0           ['block5c_project_bn[0][0]']     \n",
            "                                112)                                                              \n",
            "                                                                                                  \n",
            " block5c_add (Add)              (None, None, None,   0           ['block5c_drop[0][0]',           \n",
            "                                112)                              'block5b_add[0][0]']            \n",
            "                                                                                                  \n",
            " block6a_expand_conv (Conv2D)   (None, None, None,   75264       ['block5c_add[0][0]']            \n",
            "                                672)                                                              \n",
            "                                                                                                  \n",
            " block6a_expand_bn (BatchNormal  (None, None, None,   2688       ['block6a_expand_conv[0][0]']    \n",
            " ization)                       672)                                                              \n",
            "                                                                                                  \n",
            " block6a_expand_activation (Act  (None, None, None,   0          ['block6a_expand_bn[0][0]']      \n",
            " ivation)                       672)                                                              \n",
            "                                                                                                  \n",
            " block6a_dwconv_pad (ZeroPaddin  (None, None, None,   0          ['block6a_expand_activation[0][0]\n",
            " g2D)                           672)                             ']                               \n",
            "                                                                                                  \n",
            " block6a_dwconv (DepthwiseConv2  (None, None, None,   16800      ['block6a_dwconv_pad[0][0]']     \n",
            " D)                             672)                                                              \n",
            "                                                                                                  \n",
            " block6a_bn (BatchNormalization  (None, None, None,   2688       ['block6a_dwconv[0][0]']         \n",
            " )                              672)                                                              \n",
            "                                                                                                  \n",
            " block6a_activation (Activation  (None, None, None,   0          ['block6a_bn[0][0]']             \n",
            " )                              672)                                                              \n",
            "                                                                                                  \n",
            " block6a_se_squeeze (GlobalAver  (None, 672)         0           ['block6a_activation[0][0]']     \n",
            " agePooling2D)                                                                                    \n",
            "                                                                                                  \n",
            " block6a_se_reshape (Reshape)   (None, 1, 1, 672)    0           ['block6a_se_squeeze[0][0]']     \n",
            "                                                                                                  \n",
            " block6a_se_reduce (Conv2D)     (None, 1, 1, 28)     18844       ['block6a_se_reshape[0][0]']     \n",
            "                                                                                                  \n",
            " block6a_se_expand (Conv2D)     (None, 1, 1, 672)    19488       ['block6a_se_reduce[0][0]']      \n",
            "                                                                                                  \n",
            " block6a_se_excite (Multiply)   (None, None, None,   0           ['block6a_activation[0][0]',     \n",
            "                                672)                              'block6a_se_expand[0][0]']      \n",
            "                                                                                                  \n",
            " block6a_project_conv (Conv2D)  (None, None, None,   129024      ['block6a_se_excite[0][0]']      \n",
            "                                192)                                                              \n",
            "                                                                                                  \n",
            " block6a_project_bn (BatchNorma  (None, None, None,   768        ['block6a_project_conv[0][0]']   \n",
            " lization)                      192)                                                              \n",
            "                                                                                                  \n",
            " block6b_expand_conv (Conv2D)   (None, None, None,   221184      ['block6a_project_bn[0][0]']     \n",
            "                                1152)                                                             \n",
            "                                                                                                  \n",
            " block6b_expand_bn (BatchNormal  (None, None, None,   4608       ['block6b_expand_conv[0][0]']    \n",
            " ization)                       1152)                                                             \n",
            "                                                                                                  \n",
            " block6b_expand_activation (Act  (None, None, None,   0          ['block6b_expand_bn[0][0]']      \n",
            " ivation)                       1152)                                                             \n",
            "                                                                                                  \n",
            " block6b_dwconv (DepthwiseConv2  (None, None, None,   28800      ['block6b_expand_activation[0][0]\n",
            " D)                             1152)                            ']                               \n",
            "                                                                                                  \n",
            " block6b_bn (BatchNormalization  (None, None, None,   4608       ['block6b_dwconv[0][0]']         \n",
            " )                              1152)                                                             \n",
            "                                                                                                  \n",
            " block6b_activation (Activation  (None, None, None,   0          ['block6b_bn[0][0]']             \n",
            " )                              1152)                                                             \n",
            "                                                                                                  \n",
            " block6b_se_squeeze (GlobalAver  (None, 1152)        0           ['block6b_activation[0][0]']     \n",
            " agePooling2D)                                                                                    \n",
            "                                                                                                  \n",
            " block6b_se_reshape (Reshape)   (None, 1, 1, 1152)   0           ['block6b_se_squeeze[0][0]']     \n",
            "                                                                                                  \n",
            " block6b_se_reduce (Conv2D)     (None, 1, 1, 48)     55344       ['block6b_se_reshape[0][0]']     \n",
            "                                                                                                  \n",
            " block6b_se_expand (Conv2D)     (None, 1, 1, 1152)   56448       ['block6b_se_reduce[0][0]']      \n",
            "                                                                                                  \n",
            " block6b_se_excite (Multiply)   (None, None, None,   0           ['block6b_activation[0][0]',     \n",
            "                                1152)                             'block6b_se_expand[0][0]']      \n",
            "                                                                                                  \n",
            " block6b_project_conv (Conv2D)  (None, None, None,   221184      ['block6b_se_excite[0][0]']      \n",
            "                                192)                                                              \n",
            "                                                                                                  \n",
            " block6b_project_bn (BatchNorma  (None, None, None,   768        ['block6b_project_conv[0][0]']   \n",
            " lization)                      192)                                                              \n",
            "                                                                                                  \n",
            " block6b_drop (Dropout)         (None, None, None,   0           ['block6b_project_bn[0][0]']     \n",
            "                                192)                                                              \n",
            "                                                                                                  \n",
            " block6b_add (Add)              (None, None, None,   0           ['block6b_drop[0][0]',           \n",
            "                                192)                              'block6a_project_bn[0][0]']     \n",
            "                                                                                                  \n",
            " block6c_expand_conv (Conv2D)   (None, None, None,   221184      ['block6b_add[0][0]']            \n",
            "                                1152)                                                             \n",
            "                                                                                                  \n",
            " block6c_expand_bn (BatchNormal  (None, None, None,   4608       ['block6c_expand_conv[0][0]']    \n",
            " ization)                       1152)                                                             \n",
            "                                                                                                  \n",
            " block6c_expand_activation (Act  (None, None, None,   0          ['block6c_expand_bn[0][0]']      \n",
            " ivation)                       1152)                                                             \n",
            "                                                                                                  \n",
            " block6c_dwconv (DepthwiseConv2  (None, None, None,   28800      ['block6c_expand_activation[0][0]\n",
            " D)                             1152)                            ']                               \n",
            "                                                                                                  \n",
            " block6c_bn (BatchNormalization  (None, None, None,   4608       ['block6c_dwconv[0][0]']         \n",
            " )                              1152)                                                             \n",
            "                                                                                                  \n",
            " block6c_activation (Activation  (None, None, None,   0          ['block6c_bn[0][0]']             \n",
            " )                              1152)                                                             \n",
            "                                                                                                  \n",
            " block6c_se_squeeze (GlobalAver  (None, 1152)        0           ['block6c_activation[0][0]']     \n",
            " agePooling2D)                                                                                    \n",
            "                                                                                                  \n",
            " block6c_se_reshape (Reshape)   (None, 1, 1, 1152)   0           ['block6c_se_squeeze[0][0]']     \n",
            "                                                                                                  \n",
            " block6c_se_reduce (Conv2D)     (None, 1, 1, 48)     55344       ['block6c_se_reshape[0][0]']     \n",
            "                                                                                                  \n",
            " block6c_se_expand (Conv2D)     (None, 1, 1, 1152)   56448       ['block6c_se_reduce[0][0]']      \n",
            "                                                                                                  \n",
            " block6c_se_excite (Multiply)   (None, None, None,   0           ['block6c_activation[0][0]',     \n",
            "                                1152)                             'block6c_se_expand[0][0]']      \n",
            "                                                                                                  \n",
            " block6c_project_conv (Conv2D)  (None, None, None,   221184      ['block6c_se_excite[0][0]']      \n",
            "                                192)                                                              \n",
            "                                                                                                  \n",
            " block6c_project_bn (BatchNorma  (None, None, None,   768        ['block6c_project_conv[0][0]']   \n",
            " lization)                      192)                                                              \n",
            "                                                                                                  \n",
            " block6c_drop (Dropout)         (None, None, None,   0           ['block6c_project_bn[0][0]']     \n",
            "                                192)                                                              \n",
            "                                                                                                  \n",
            " block6c_add (Add)              (None, None, None,   0           ['block6c_drop[0][0]',           \n",
            "                                192)                              'block6b_add[0][0]']            \n",
            "                                                                                                  \n",
            " block6d_expand_conv (Conv2D)   (None, None, None,   221184      ['block6c_add[0][0]']            \n",
            "                                1152)                                                             \n",
            "                                                                                                  \n",
            " block6d_expand_bn (BatchNormal  (None, None, None,   4608       ['block6d_expand_conv[0][0]']    \n",
            " ization)                       1152)                                                             \n",
            "                                                                                                  \n",
            " block6d_expand_activation (Act  (None, None, None,   0          ['block6d_expand_bn[0][0]']      \n",
            " ivation)                       1152)                                                             \n",
            "                                                                                                  \n",
            " block6d_dwconv (DepthwiseConv2  (None, None, None,   28800      ['block6d_expand_activation[0][0]\n",
            " D)                             1152)                            ']                               \n",
            "                                                                                                  \n",
            " block6d_bn (BatchNormalization  (None, None, None,   4608       ['block6d_dwconv[0][0]']         \n",
            " )                              1152)                                                             \n",
            "                                                                                                  \n",
            " block6d_activation (Activation  (None, None, None,   0          ['block6d_bn[0][0]']             \n",
            " )                              1152)                                                             \n",
            "                                                                                                  \n",
            " block6d_se_squeeze (GlobalAver  (None, 1152)        0           ['block6d_activation[0][0]']     \n",
            " agePooling2D)                                                                                    \n",
            "                                                                                                  \n",
            " block6d_se_reshape (Reshape)   (None, 1, 1, 1152)   0           ['block6d_se_squeeze[0][0]']     \n",
            "                                                                                                  \n",
            " block6d_se_reduce (Conv2D)     (None, 1, 1, 48)     55344       ['block6d_se_reshape[0][0]']     \n",
            "                                                                                                  \n",
            " block6d_se_expand (Conv2D)     (None, 1, 1, 1152)   56448       ['block6d_se_reduce[0][0]']      \n",
            "                                                                                                  \n",
            " block6d_se_excite (Multiply)   (None, None, None,   0           ['block6d_activation[0][0]',     \n",
            "                                1152)                             'block6d_se_expand[0][0]']      \n",
            "                                                                                                  \n",
            " block6d_project_conv (Conv2D)  (None, None, None,   221184      ['block6d_se_excite[0][0]']      \n",
            "                                192)                                                              \n",
            "                                                                                                  \n",
            " block6d_project_bn (BatchNorma  (None, None, None,   768        ['block6d_project_conv[0][0]']   \n",
            " lization)                      192)                                                              \n",
            "                                                                                                  \n",
            " block6d_drop (Dropout)         (None, None, None,   0           ['block6d_project_bn[0][0]']     \n",
            "                                192)                                                              \n",
            "                                                                                                  \n",
            " block6d_add (Add)              (None, None, None,   0           ['block6d_drop[0][0]',           \n",
            "                                192)                              'block6c_add[0][0]']            \n",
            "                                                                                                  \n",
            " block7a_expand_conv (Conv2D)   (None, None, None,   221184      ['block6d_add[0][0]']            \n",
            "                                1152)                                                             \n",
            "                                                                                                  \n",
            " block7a_expand_bn (BatchNormal  (None, None, None,   4608       ['block7a_expand_conv[0][0]']    \n",
            " ization)                       1152)                                                             \n",
            "                                                                                                  \n",
            " block7a_expand_activation (Act  (None, None, None,   0          ['block7a_expand_bn[0][0]']      \n",
            " ivation)                       1152)                                                             \n",
            "                                                                                                  \n",
            " block7a_dwconv (DepthwiseConv2  (None, None, None,   10368      ['block7a_expand_activation[0][0]\n",
            " D)                             1152)                            ']                               \n",
            "                                                                                                  \n",
            " block7a_bn (BatchNormalization  (None, None, None,   4608       ['block7a_dwconv[0][0]']         \n",
            " )                              1152)                                                             \n",
            "                                                                                                  \n",
            " block7a_activation (Activation  (None, None, None,   0          ['block7a_bn[0][0]']             \n",
            " )                              1152)                                                             \n",
            "                                                                                                  \n",
            " block7a_se_squeeze (GlobalAver  (None, 1152)        0           ['block7a_activation[0][0]']     \n",
            " agePooling2D)                                                                                    \n",
            "                                                                                                  \n",
            " block7a_se_reshape (Reshape)   (None, 1, 1, 1152)   0           ['block7a_se_squeeze[0][0]']     \n",
            "                                                                                                  \n",
            " block7a_se_reduce (Conv2D)     (None, 1, 1, 48)     55344       ['block7a_se_reshape[0][0]']     \n",
            "                                                                                                  \n",
            " block7a_se_expand (Conv2D)     (None, 1, 1, 1152)   56448       ['block7a_se_reduce[0][0]']      \n",
            "                                                                                                  \n",
            " block7a_se_excite (Multiply)   (None, None, None,   0           ['block7a_activation[0][0]',     \n",
            "                                1152)                             'block7a_se_expand[0][0]']      \n",
            "                                                                                                  \n",
            " block7a_project_conv (Conv2D)  (None, None, None,   368640      ['block7a_se_excite[0][0]']      \n",
            "                                320)                                                              \n",
            "                                                                                                  \n",
            " block7a_project_bn (BatchNorma  (None, None, None,   1280       ['block7a_project_conv[0][0]']   \n",
            " lization)                      320)                                                              \n",
            "                                                                                                  \n",
            " top_conv (Conv2D)              (None, None, None,   409600      ['block7a_project_bn[0][0]']     \n",
            "                                1280)                                                             \n",
            "                                                                                                  \n",
            " top_bn (BatchNormalization)    (None, None, None,   5120        ['top_conv[0][0]']               \n",
            "                                1280)                                                             \n",
            "                                                                                                  \n",
            " top_activation (Activation)    (None, None, None,   0           ['top_bn[0][0]']                 \n",
            "                                1280)                                                             \n",
            "                                                                                                  \n",
            "==================================================================================================\n",
            "Total params: 4,049,571\n",
            "Trainable params: 0\n",
            "Non-trainable params: 4,049,571\n",
            "__________________________________________________________________________________________________\n"
          ]
        }
      ]
    },
    {
      "cell_type": "code",
      "metadata": {
        "colab": {
          "base_uri": "https://localhost:8080/"
        },
        "id": "aXc_-svIOJNO",
        "outputId": "be9d4aa6-fa2d-4590-f47a-8607cb0cae50"
      },
      "source": [
        "# How about a summary of our model\n",
        "model_0.summary()"
      ],
      "execution_count": 15,
      "outputs": [
        {
          "output_type": "stream",
          "name": "stdout",
          "text": [
            "Model: \"model\"\n",
            "_________________________________________________________________\n",
            " Layer (type)                Output Shape              Param #   \n",
            "=================================================================\n",
            " input_layer (InputLayer)    [(None, 224, 224, 3)]     0         \n",
            "                                                                 \n",
            " efficientnetb0 (Functional)  (None, None, None, 1280)  4049571  \n",
            "                                                                 \n",
            " gobal_average_pooling_layer  (None, 1280)             0         \n",
            "  (GlobalAveragePooling2D)                                       \n",
            "                                                                 \n",
            " output_layer (Dense)        (None, 10)                12810     \n",
            "                                                                 \n",
            "=================================================================\n",
            "Total params: 4,062,381\n",
            "Trainable params: 12,810\n",
            "Non-trainable params: 4,049,571\n",
            "_________________________________________________________________\n"
          ]
        }
      ]
    },
    {
      "cell_type": "code",
      "metadata": {
        "colab": {
          "base_uri": "https://localhost:8080/",
          "height": 573
        },
        "id": "1Ytz14rHOWX8",
        "outputId": "165b651a-6f17-4b64-e574-9d1f2489b9a0"
      },
      "source": [
        "# Check out our model's training curve\n",
        "plot_loss_curves(history_10_percent)"
      ],
      "execution_count": 16,
      "outputs": [
        {
          "output_type": "display_data",
          "data": {
            "image/png": "[encoded data removed]",
            "text/plain": [
              "<Figure size 432x288 with 1 Axes>"
            ]
          },
          "metadata": {
            "needs_background": "light"
          }
        },
        {
          "output_type": "display_data",
          "data": {
            "image/png": "[encoded data removed]",
            "text/plain": [
              "<Figure size 432x288 with 1 Axes>"
            ]
          },
          "metadata": {
            "needs_background": "light"
          }
        }
      ]
    },
    {
      "cell_type": "markdown",
      "metadata": {
        "id": "ASe67E0bQKQe"
      },
      "source": [
        "## Getting a feature vector from a trained model \n",
        "\n",
        "Let's demonstrate the Gobal Average Pooling 2D layer..\n",
        "\n",
        "WE have a tensor after our model goes through `base_model` of shape (None, 7,7,1280).\n",
        "\n",
        "But then whet it passes  through GlobalAveragePooling2D, it turns into (None, 1280).\n",
        "\n",
        "Let's use a similar shaped tensor of (1,4,4,3) and then pass it to GobalAveragePooling2D."
      ]
    },
    {
      "cell_type": "code",
      "metadata": {
        "id": "JOqaTe7ISTF7",
        "colab": {
          "base_uri": "https://localhost:8080/"
        },
        "outputId": "2ff899fd-55da-417f-f032-076ffb3a8642"
      },
      "source": [
        "# Define the input shape\n",
        "input_shape =(1,4,4,3)\n",
        "\n",
        "# Create a random tensor\n",
        "tf.random.set_seed(42)\n",
        "input_tensor =tf.random.normal(input_shape)\n",
        "print(f\"Random input tensor:\\n {input_tensor}\\n\")\n",
        "\n",
        "# Pass the random tenosr through a gobal average pooling 2D layer\n",
        "global_average_pooled_tensor = tf.keras.layers.GlobalAveragePooling2D()(input_tensor)\n",
        "print(f\"2D  global average pooled random tensor:\\n{global_average_pooled_tensor}\\n\")\n",
        "\n",
        "# Check the shape of the differerent tensors\n",
        "print(f\"Shape of input tensor: {input_tensor.shape}\")\n",
        "print(f\"shape of Global Average Pooled 2D tensor:{global_average_pooled_tensor.shape}\")"
      ],
      "execution_count": 17,
      "outputs": [
        {
          "output_type": "stream",
          "name": "stdout",
          "text": [
            "Random input tensor:\n",
            " [[[[ 0.3274685  -0.8426258   0.3194337 ]\n",
            "   [-1.4075519  -2.3880599  -1.0392479 ]\n",
            "   [-0.5573232   0.539707    1.6994323 ]\n",
            "   [ 0.28893656 -1.5066116  -0.2645474 ]]\n",
            "\n",
            "  [[-0.59722406 -1.9171132  -0.62044144]\n",
            "   [ 0.8504023  -0.40604794 -3.0258412 ]\n",
            "   [ 0.9058464   0.29855987 -0.22561555]\n",
            "   [-0.7616443  -1.8917141  -0.93847126]]\n",
            "\n",
            "  [[ 0.77852213 -0.47338897  0.97772694]\n",
            "   [ 0.24694404  0.20573747 -0.5256233 ]\n",
            "   [ 0.32410017  0.02545409 -0.10638497]\n",
            "   [-0.6369475   1.1603122   0.2507359 ]]\n",
            "\n",
            "  [[-0.41728503  0.4012578  -1.4145443 ]\n",
            "   [-0.5931857  -1.6617213   0.33567193]\n",
            "   [ 0.10815629  0.23479682 -0.56668764]\n",
            "   [-0.35819843  0.88698614  0.52744764]]]]\n",
            "\n",
            "2D  global average pooled random tensor:\n",
            "[[-0.09368646 -0.45840448 -0.2885598 ]]\n",
            "\n",
            "Shape of input tensor: (1, 4, 4, 3)\n",
            "shape of Global Average Pooled 2D tensor:(1, 3)\n"
          ]
        }
      ]
    },
    {
      "cell_type": "code",
      "metadata": {
        "id": "xTQZovzvSsxm",
        "colab": {
          "base_uri": "https://localhost:8080/"
        },
        "outputId": "95001fc4-4c7c-461a-d7ba-d3d72291282e"
      },
      "source": [
        "# Let's replicate the GobalAveragePoole2D layer\n",
        "tf.reduce_mean(input_tensor,axis=[1,2])"
      ],
      "execution_count": 18,
      "outputs": [
        {
          "output_type": "execute_result",
          "data": {
            "text/plain": [
              "<tf.Tensor: shape=(1, 3), dtype=float32, numpy=array([[-0.09368646, -0.45840448, -0.2885598 ]], dtype=float32)>"
            ]
          },
          "metadata": {},
          "execution_count": 18
        }
      ]
    },
    {
      "cell_type": "markdown",
      "metadata": {
        "id": "F3CCTqI2Vd_Y"
      },
      "source": [
        "**Practice** Try to do the same with the above two cells but this time use `GobalMaxPool2D`..and see what happens."
      ]
    },
    {
      "cell_type": "markdown",
      "metadata": {
        "id": "UiHUYOwcV3wT"
      },
      "source": [
        "**Note:** One of the reasins feature extraction transfer learning is named how it is is because what often happens is pretrained model outputs a **feature vector** (a long tensor of numbers which represents the learned representation of the model on a particular sample, in our case, this is the output of the `tf.keras.layer.GobalAveragePooled2D()` layer) which can then be used to extract patterns out of for own specific problem."
      ]
    },
    {
      "cell_type": "markdown",
      "metadata": {
        "id": "mK5HSGRYVCsS"
      },
      "source": [
        "## Running a series of transfer learning experiments\n",
        "\n",
        "We've have seen the incredible results transfer learning can get with only 10% of the training data, but how does it go with 1% of the training data... how about we set up a bunch of experiments to find out:\n",
        "\n",
        "1. `model_1` - use feature extraction transfer learning with 1% of the training data with data augmentation.\n",
        "\n",
        "2. `model_2` - use feature extraction transfer learning with 10% of the training with data augmentation\n",
        "\n",
        "3. `model_3` - use fine-tuning transfer learning on 10% of the training data with data augmentation.\n",
        "\n",
        "4. `model_4` - use fine-tuning transfer learning on 100% of the training data with data augmentation.\n",
        "\n",
        "**Note:** Throughout all experiments the same test dataset will be used to evaluate our model.. this ensures consistency across evaluation metrics."
      ]
    },
    {
      "cell_type": "markdown",
      "metadata": {
        "id": "wA6mXadcbt1c"
      },
      "source": [
        "## Getting and preprocessing data for model_1"
      ]
    },
    {
      "cell_type": "code",
      "metadata": {
        "id": "UQT5-P-BZLqA",
        "colab": {
          "base_uri": "https://localhost:8080/"
        },
        "outputId": "4ab1eabc-fd4d-421c-fe99-21a8607c21ff"
      },
      "source": [
        "# Download and unzip data - preprocess fro Food101\n",
        "!wget https://storage.googleapis.com/ztm_tf_course/food_vision/10_food_classes_1_percent.zip\n",
        "unzip_data(\"10_food_classes_1_percent.zip\")"
      ],
      "execution_count": 19,
      "outputs": [
        {
          "output_type": "stream",
          "name": "stdout",
          "text": [
            "--2021-11-28 16:21:18--  https://storage.googleapis.com/ztm_tf_course/food_vision/10_food_classes_1_percent.zip\n",
            "Resolving storage.googleapis.com (storage.googleapis.com)... 142.251.5.128, 74.125.133.128, 74.125.140.128, ...\n",
            "Connecting to storage.googleapis.com (storage.googleapis.com)|142.251.5.128|:443... connected.\n",
            "HTTP request sent, awaiting response... 200 OK\n",
            "Length: 133612354 (127M) [application/zip]\n",
            "Saving to: ‘10_food_classes_1_percent.zip’\n",
            "\n",
            "10_food_classes_1_p 100%[===================>] 127.42M  57.8MB/s    in 2.2s    \n",
            "\n",
            "2021-11-28 16:21:21 (57.8 MB/s) - ‘10_food_classes_1_percent.zip’ saved [133612354/133612354]\n",
            "\n"
          ]
        }
      ]
    },
    {
      "cell_type": "code",
      "metadata": {
        "id": "bIY_gAIgbBMu"
      },
      "source": [
        "# Creatinf training and test dirs\n",
        "train_dir_1_percent = \"10_food_classes_1_percent/train\"\n",
        "test_dir = \"10_food_classes_1_percent/test\""
      ],
      "execution_count": 20,
      "outputs": []
    },
    {
      "cell_type": "code",
      "metadata": {
        "id": "eL8S0iS9bSrV",
        "colab": {
          "base_uri": "https://localhost:8080/"
        },
        "outputId": "37545ca8-45b8-4171-e0ee-a308eb21d759"
      },
      "source": [
        "# How many images are we working with?\n",
        "walk_through_dir(\"10_food_classes_1_percent\")"
      ],
      "execution_count": 21,
      "outputs": [
        {
          "output_type": "stream",
          "name": "stdout",
          "text": [
            "There are 2 directories and 0 images in '10_food_classes_1_percent'.\n",
            "There are 10 directories and 0 images in '10_food_classes_1_percent/train'.\n",
            "There are 0 directories and 7 images in '10_food_classes_1_percent/train/sushi'.\n",
            "There are 0 directories and 7 images in '10_food_classes_1_percent/train/pizza'.\n",
            "There are 0 directories and 7 images in '10_food_classes_1_percent/train/fried_rice'.\n",
            "There are 0 directories and 7 images in '10_food_classes_1_percent/train/chicken_curry'.\n",
            "There are 0 directories and 7 images in '10_food_classes_1_percent/train/steak'.\n",
            "There are 0 directories and 7 images in '10_food_classes_1_percent/train/grilled_salmon'.\n",
            "There are 0 directories and 7 images in '10_food_classes_1_percent/train/ice_cream'.\n",
            "There are 0 directories and 7 images in '10_food_classes_1_percent/train/hamburger'.\n",
            "There are 0 directories and 7 images in '10_food_classes_1_percent/train/chicken_wings'.\n",
            "There are 0 directories and 7 images in '10_food_classes_1_percent/train/ramen'.\n",
            "There are 10 directories and 0 images in '10_food_classes_1_percent/test'.\n",
            "There are 0 directories and 250 images in '10_food_classes_1_percent/test/sushi'.\n",
            "There are 0 directories and 250 images in '10_food_classes_1_percent/test/pizza'.\n",
            "There are 0 directories and 250 images in '10_food_classes_1_percent/test/fried_rice'.\n",
            "There are 0 directories and 250 images in '10_food_classes_1_percent/test/chicken_curry'.\n",
            "There are 0 directories and 250 images in '10_food_classes_1_percent/test/steak'.\n",
            "There are 0 directories and 250 images in '10_food_classes_1_percent/test/grilled_salmon'.\n",
            "There are 0 directories and 250 images in '10_food_classes_1_percent/test/ice_cream'.\n",
            "There are 0 directories and 250 images in '10_food_classes_1_percent/test/hamburger'.\n",
            "There are 0 directories and 250 images in '10_food_classes_1_percent/test/chicken_wings'.\n",
            "There are 0 directories and 250 images in '10_food_classes_1_percent/test/ramen'.\n"
          ]
        }
      ]
    },
    {
      "cell_type": "code",
      "metadata": {
        "id": "aqr_Rh2wbddC",
        "colab": {
          "base_uri": "https://localhost:8080/"
        },
        "outputId": "78844fc8-cfb5-4256-c52e-4337a3a1c05a"
      },
      "source": [
        "# Setup data loaders\n",
        "IMG_SIZE = (224,224)\n",
        "train_data_1_percent = tf.keras.preprocessing.image_dataset_from_directory(train_dir_1_percent,\n",
        "                                                                           label_mode='categorical',\n",
        "                                                                           image_size=IMG_SIZE,\n",
        "                                                                           batch_size= BATCH_SIZE) # default = 32\n",
        "test_data = tf.keras.preprocessing.image_dataset_from_directory(test_dir,\n",
        "                                                                label_mode='categorical',\n",
        "                                                                image_size=IMG_SIZE,\n",
        "                                                                batch_size= BATCH_SIZE) # default = 32"
      ],
      "execution_count": 22,
      "outputs": [
        {
          "output_type": "stream",
          "name": "stdout",
          "text": [
            "Found 70 files belonging to 10 classes.\n",
            "Found 2500 files belonging to 10 classes.\n"
          ]
        }
      ]
    },
    {
      "cell_type": "markdown",
      "metadata": {
        "id": "orv9uYSgcpQE"
      },
      "source": [
        "## Adding data augmentation right into the model\n",
        "\n",
        "To add data augmentation right into our model, we can use layers inside:\n",
        "\n",
        "* `tf.keras.layers.experimental.preprocessing()`\n",
        "\n",
        "we can see the benifits of doing this within the Tensorfow Data augmentation documentation:https://www.tensorflow.org/tutorials/images/data_augmentation\n",
        "\n",
        "Off the top our of heads, after reading the docs, the benefits of using data augmentation inside the model are:\n",
        "* Preprocessing of images (augmentating them)happens on the GPU (much faster) rrather the CPU\n",
        "\n",
        "* Image data augmentation only happens during training, so we can still export our modle and use it elsewhere."
      ]
    },
    {
      "cell_type": "code",
      "metadata": {
        "id": "qpDjJzYFdt4P"
      },
      "source": [
        "import tensorflow as tf\n",
        "from tensorflow import keras\n",
        "from tensorflow.keras import layers\n",
        "from tensorflow.keras.layers.experimental import preprocessing\n",
        "\n",
        "# Create data augmentation stage with horizontal flipping, rotations, zooms, etc\n",
        "data_augmentation = keras.Sequential([\n",
        "    preprocessing.RandomFlip(\"horizontal\"),\n",
        "    preprocessing. RandomRotation(0.2),\n",
        "    preprocessing.RandomZoom(0.2),\n",
        "    preprocessing.RandomHeight(0.2),\n",
        "    preprocessing.RandomWidth(0.2)\n",
        "    # preprocessing.Rescale(1./255) # Keep for models like ResNet50V2 but EfficientNet's having rescaling built-in\n",
        "], name=\"data_augmentation\")"
      ],
      "execution_count": 23,
      "outputs": []
    },
    {
      "cell_type": "markdown",
      "metadata": {
        "id": "7wh3chMQl85D"
      },
      "source": [
        "### Visualise our data augmentation layer (and see what happens to our data)"
      ]
    },
    {
      "cell_type": "code",
      "metadata": {
        "id": "j-I7SfQ1mPg0",
        "colab": {
          "base_uri": "https://localhost:8080/",
          "height": 511
        },
        "outputId": "049a351e-2295-48cd-b317-e784e00bbd4d"
      },
      "source": [
        "# View a random image and comapre it to its augmented version\n",
        "import matplotlib.pyplot as plt\n",
        "import matplotlib.image as mpimg\n",
        "import os\n",
        "import random\n",
        "target_class = random.choice(train_data_1_percent.class_names)\n",
        "target_dir = \"10_food_classes_1_percent/train/\" + target_class\n",
        "random_image = random.choice(os.listdir(target_dir))\n",
        "random_image_path = target_dir + \"/\" + random_image\n",
        "\n",
        "# Read in the random image\n",
        "img = mpimg.imread(random_image_path)\n",
        "plt.imshow(img)\n",
        "plt.title(f\"Original random image from class {target_class}\")\n",
        "plt.axis(False);\n",
        "\n",
        "# Now let's plot our augmented random image\n",
        "augmented_img = data_augmentation(tf.expand_dims(img, axis=0))\n",
        "plt.figure()\n",
        "plt.imshow(tf.squeeze(augmented_img)/255.)\n",
        "plt.title(f\"Augmented random image from class:{target_class}\")\n",
        "plt.axis(False);"
      ],
      "execution_count": 24,
      "outputs": [
        {
          "output_type": "display_data",
          "data": {
            "image/png": "[encoded data removed]",
            "text/plain": [
              "<Figure size 432x288 with 1 Axes>"
            ]
          },
          "metadata": {
            "needs_background": "light"
          }
        },
        {
          "output_type": "display_data",
          "data": {
            "image/png": "[encoded data removed]",
            "text/plain": [
              "<Figure size 432x288 with 1 Axes>"
            ]
          },
          "metadata": {
            "needs_background": "light"
          }
        }
      ]
    },
    {
      "cell_type": "code",
      "metadata": {
        "id": "teAycAW5mtfI",
        "colab": {
          "base_uri": "https://localhost:8080/"
        },
        "outputId": "cbb213bf-3938-484d-8d1b-f05ad852c4f2"
      },
      "source": [
        "train_data_1_percent.class_names"
      ],
      "execution_count": 25,
      "outputs": [
        {
          "output_type": "execute_result",
          "data": {
            "text/plain": [
              "['chicken_curry',\n",
              " 'chicken_wings',\n",
              " 'fried_rice',\n",
              " 'grilled_salmon',\n",
              " 'hamburger',\n",
              " 'ice_cream',\n",
              " 'pizza',\n",
              " 'ramen',\n",
              " 'steak',\n",
              " 'sushi']"
            ]
          },
          "metadata": {},
          "execution_count": 25
        }
      ]
    },
    {
      "cell_type": "markdown",
      "metadata": {
        "id": "pnASRbAjmxWB"
      },
      "source": [
        "## Model 1: Feautre extraction Transfer Learning on 1% of the data with data augmentation"
      ]
    },
    {
      "cell_type": "code",
      "metadata": {
        "id": "CCnDej_S4f-A",
        "colab": {
          "base_uri": "https://localhost:8080/"
        },
        "outputId": "40968278-5dbd-45c1-90d8-a414db0cd646"
      },
      "source": [
        "# Setup input shape and base model, freezing the base model layers\n",
        "input_shape = (224,224,3)\n",
        "base_model = tf.keras.applications.EfficientNetB0(include_top=False)\n",
        "base_model.trainable = False\n",
        "\n",
        "# Create input layer\n",
        "inputs = layers.Input(shape=input_shape, name='input_layer')\n",
        "\n",
        "#Add in data augmentation Sequential model as a layer\n",
        "x = data_augmentation(inputs)\n",
        "\n",
        "# Give base_mosel the inputs (after augmentation) and don't train it\n",
        "\n",
        "x = base_model(x, training=False)\n",
        "\n",
        "# Pool output features of the base model\n",
        "x = layers.GlobalAveragePooling2D()(x)\n",
        "\n",
        "# Put a Ddense layer on as the output\n",
        "outputs = layers.Dense(10, activation=\"softmax\", name=\"output_layer\")(x)\n",
        "\n",
        "# make a model using the inputs and outputs\n",
        "model_1 =  keras.Model(inputs,outputs)\n",
        "\n",
        "# Compile the model\n",
        "model_1.compile(loss=\"categorical_crossentropy\",\n",
        "                optimizer=tf.keras.optimizers.Adam(),\n",
        "                metrics=[\"accuracy\"])\n",
        "\n",
        "# Fit the model\n",
        "history_1_percent = model_1.fit(train_data_1_percent,\n",
        "                                epochs=5,\n",
        "                                steps_per_epoch=len(train_data_1_percent),\n",
        "                                validation_data=test_data,\n",
        "                                validation_steps=int(0.25 * len(test_data)),\n",
        "                                # track model training logs\n",
        "                                callbacks=[create_tensorboard_callback(dir_name=\"transfer_learning\",\n",
        "                                                                       experiment_name=\"1_percent_data_aug\")])"
      ],
      "execution_count": 26,
      "outputs": [
        {
          "output_type": "stream",
          "name": "stdout",
          "text": [
            "Saving TensorBoard log files to: transfer_learning/1_percent_data_aug/20211128-162127\n",
            "Epoch 1/5\n"
          ]
        },
        {
          "output_type": "stream",
          "name": "stderr",
          "text": [
            "/usr/local/lib/python3.7/dist-packages/keras/engine/functional.py:1410: CustomMaskWarning: Custom mask layers require a config and must override get_config. When loading, the custom mask layer must be passed to the custom_objects argument.\n",
            "  layer_config = serialize_layer_fn(layer)\n"
          ]
        },
        {
          "output_type": "stream",
          "name": "stdout",
          "text": [
            "3/3 [==============================] - 14s 3s/step - loss: 2.3945 - accuracy: 0.0714 - val_loss: 2.2615 - val_accuracy: 0.1414\n",
            "Epoch 2/5\n",
            "3/3 [==============================] - 5s 2s/step - loss: 2.1746 - accuracy: 0.2143 - val_loss: 2.1218 - val_accuracy: 0.2401\n",
            "Epoch 3/5\n",
            "3/3 [==============================] - 5s 2s/step - loss: 2.0252 - accuracy: 0.3286 - val_loss: 2.0210 - val_accuracy: 0.3010\n",
            "Epoch 4/5\n",
            "3/3 [==============================] - 5s 2s/step - loss: 1.7841 - accuracy: 0.5286 - val_loss: 1.9242 - val_accuracy: 0.3701\n",
            "Epoch 5/5\n",
            "3/3 [==============================] - 5s 2s/step - loss: 1.6789 - accuracy: 0.6143 - val_loss: 1.8488 - val_accuracy: 0.3898\n"
          ]
        }
      ]
    },
    {
      "cell_type": "code",
      "metadata": {
        "id": "Wb0ycSAM7mJJ",
        "colab": {
          "base_uri": "https://localhost:8080/"
        },
        "outputId": "90a94cb5-8af8-4348-abfb-4659745f4e79"
      },
      "source": [
        "# Check out outr modle summary\n",
        "model_1.summary()"
      ],
      "execution_count": 27,
      "outputs": [
        {
          "output_type": "stream",
          "name": "stdout",
          "text": [
            "Model: \"model_1\"\n",
            "_________________________________________________________________\n",
            " Layer (type)                Output Shape              Param #   \n",
            "=================================================================\n",
            " input_layer (InputLayer)    [(None, 224, 224, 3)]     0         \n",
            "                                                                 \n",
            " data_augmentation (Sequenti  (None, None, None, 3)    0         \n",
            " al)                                                             \n",
            "                                                                 \n",
            " efficientnetb0 (Functional)  (None, None, None, 1280)  4049571  \n",
            "                                                                 \n",
            " global_average_pooling2d_1   (None, 1280)             0         \n",
            " (GlobalAveragePooling2D)                                        \n",
            "                                                                 \n",
            " output_layer (Dense)        (None, 10)                12810     \n",
            "                                                                 \n",
            "=================================================================\n",
            "Total params: 4,062,381\n",
            "Trainable params: 12,810\n",
            "Non-trainable params: 4,049,571\n",
            "_________________________________________________________________\n"
          ]
        }
      ]
    },
    {
      "cell_type": "code",
      "metadata": {
        "id": "9vSlTS9X8UZp",
        "colab": {
          "base_uri": "https://localhost:8080/"
        },
        "outputId": "7ddd4fb9-f314-4233-f7a1-8862dcfc4287"
      },
      "source": [
        "# Evaluate on the full test dataset\n",
        "results_1_percent_data_aug = model_1.evaluate(test_data)\n",
        "results_1_percent_data_aug"
      ],
      "execution_count": 28,
      "outputs": [
        {
          "output_type": "stream",
          "name": "stdout",
          "text": [
            "79/79 [==============================] - 11s 131ms/step - loss: 1.8464 - accuracy: 0.4000\n"
          ]
        },
        {
          "output_type": "execute_result",
          "data": {
            "text/plain": [
              "[1.8463801145553589, 0.4000000059604645]"
            ]
          },
          "metadata": {},
          "execution_count": 28
        }
      ]
    },
    {
      "cell_type": "code",
      "metadata": {
        "id": "ngSDw7p48cXT",
        "colab": {
          "base_uri": "https://localhost:8080/",
          "height": 573
        },
        "outputId": "112815d0-f5f8-4040-f56b-5bc5f71239ab"
      },
      "source": [
        "# How do the model with 1% of the and data augmentation loss curves look? \n",
        "plot_loss_curves(history_1_percent)"
      ],
      "execution_count": 29,
      "outputs": [
        {
          "output_type": "display_data",
          "data": {
            "image/png": "[encoded data removed]",
            "text/plain": [
              "<Figure size 432x288 with 1 Axes>"
            ]
          },
          "metadata": {
            "needs_background": "light"
          }
        },
        {
          "output_type": "display_data",
          "data": {
            "image/png": "[encoded data removed]",
            "text/plain": [
              "<Figure size 432x288 with 1 Axes>"
            ]
          },
          "metadata": {
            "needs_background": "light"
          }
        }
      ]
    },
    {
      "cell_type": "markdown",
      "metadata": {
        "id": "yzNgxaKH9GwY"
      },
      "source": [
        "## Model 2: Feature extraction transfer learing with 10% of data and data augmentation"
      ]
    },
    {
      "cell_type": "code",
      "metadata": {
        "id": "pQa3Iple96pH"
      },
      "source": [
        "# Get 10% of data\n",
        "train_dir_10_percent = \"10_food_classes_10_percent/train\"\n",
        "test_dir = \"10_food_classes_10_percent/test\""
      ],
      "execution_count": 30,
      "outputs": []
    },
    {
      "cell_type": "code",
      "metadata": {
        "id": "BTjMY084_gnM",
        "colab": {
          "base_uri": "https://localhost:8080/"
        },
        "outputId": "9fb6507b-a303-4c5d-d13e-a4accaf66ee6"
      },
      "source": [
        "#  How many images are in our directories?\n",
        "walk_through_dir(train_dir_10_percent)"
      ],
      "execution_count": 31,
      "outputs": [
        {
          "output_type": "stream",
          "name": "stdout",
          "text": [
            "There are 10 directories and 0 images in '10_food_classes_10_percent/train'.\n",
            "There are 0 directories and 75 images in '10_food_classes_10_percent/train/sushi'.\n",
            "There are 0 directories and 75 images in '10_food_classes_10_percent/train/pizza'.\n",
            "There are 0 directories and 75 images in '10_food_classes_10_percent/train/fried_rice'.\n",
            "There are 0 directories and 75 images in '10_food_classes_10_percent/train/chicken_curry'.\n",
            "There are 0 directories and 75 images in '10_food_classes_10_percent/train/steak'.\n",
            "There are 0 directories and 75 images in '10_food_classes_10_percent/train/grilled_salmon'.\n",
            "There are 0 directories and 75 images in '10_food_classes_10_percent/train/ice_cream'.\n",
            "There are 0 directories and 75 images in '10_food_classes_10_percent/train/hamburger'.\n",
            "There are 0 directories and 75 images in '10_food_classes_10_percent/train/chicken_wings'.\n",
            "There are 0 directories and 75 images in '10_food_classes_10_percent/train/ramen'.\n"
          ]
        }
      ]
    },
    {
      "cell_type": "code",
      "metadata": {
        "id": "pw7ALf-e-f5z",
        "colab": {
          "base_uri": "https://localhost:8080/"
        },
        "outputId": "e608ee6d-5947-44be-b019-1aeb65edec82"
      },
      "source": [
        "# Set data inputs\n",
        "import tensorflow as tf\n",
        "IMG_SIZE =(224,224)\n",
        "train_data_10_percent = tf.keras.preprocessing.image_dataset_from_directory(train_dir_10_percent,\n",
        "                                                                            label_mode=\"categorical\",\n",
        "                                                                            image_size=IMG_SIZE)\n",
        "test_data = tf.keras.preprocessing.image_dataset_from_directory(test_dir,\n",
        "                                                                label_mode=\"categorical\",\n",
        "                                                                image_size=IMG_SIZE)"
      ],
      "execution_count": 32,
      "outputs": [
        {
          "output_type": "stream",
          "name": "stdout",
          "text": [
            "Found 750 files belonging to 10 classes.\n",
            "Found 2500 files belonging to 10 classes.\n"
          ]
        }
      ]
    },
    {
      "cell_type": "code",
      "metadata": {
        "id": "0R1f200P_PvB"
      },
      "source": [
        "# Create model 2 with data augmentation built in\n",
        "from tensorflow.keras import layers\n",
        "from tensorflow.keras.layers.experimental import preprocessing\n",
        "from tensorflow.keras.models import Sequential\n",
        "\n",
        "# Build data augmentation layer\n",
        "data_augmentation = Sequential([\n",
        "  preprocessing.RandomFlip(\"horizontal\"),\n",
        "  preprocessing.RandomHeight(0.2),\n",
        "  preprocessing.RandomWidth(0.2),\n",
        "  preprocessing.RandomZoom(0.2),\n",
        "  preprocessing.RandomRotation(0.2),\n",
        "  # preprocessing.Rescale(1./255), If your are using model such as ResNet50V2, you'll need to rescale your data, efficientnet has rescaling built in.\n",
        "], name=\"data_augmentation\")\n",
        "\n",
        "# Setup the input shape to our model\n",
        "input_shape = (224,224, 3)\n",
        "\n",
        "# Create a frozen model(also called the backbone)\n",
        "base_model = tf.keras.applications.EfficientNetB0(include_top=False)\n",
        "base_model.trainable = False\n",
        "\n",
        "# Create the inputs and outputs (including the layers in between)\n",
        "inputs = layers.Input(shape=input_shape, name=\"input_layer\")\n",
        "x = data_augmentation(inputs) # augment out training images (augmentation doesn't occure on test data)\n",
        "x = base_model(x, training=False) # We pass the augmented images to base model but keep it in inference mode, this also insures batchnorm layers don't get updated\n",
        "x = layers.GlobalAveragePooling2D(name=\"global_average_pooling_2D\")(x)\n",
        "outputs = layers.Dense(10, activation=\"softmax\", name=\"output_layer\")(x)\n",
        "model_2 = tf.keras.Model(inputs, outputs)\n",
        "\n",
        "# Compile\n",
        "model_2.compile(loss=\"categorical_crossentropy\",\n",
        "                optimizer= tf.keras.optimizers.Adam(),\n",
        "                metrics=[\"accuracy\"])"
      ],
      "execution_count": 33,
      "outputs": []
    },
    {
      "cell_type": "code",
      "metadata": {
        "id": "dOHmo4GyBCmw",
        "colab": {
          "base_uri": "https://localhost:8080/"
        },
        "outputId": "87f752ca-f709-488e-e93a-e4aac9431c6f"
      },
      "source": [
        "model_2.summary()"
      ],
      "execution_count": 34,
      "outputs": [
        {
          "output_type": "stream",
          "name": "stdout",
          "text": [
            "Model: \"model_2\"\n",
            "_________________________________________________________________\n",
            " Layer (type)                Output Shape              Param #   \n",
            "=================================================================\n",
            " input_layer (InputLayer)    [(None, 224, 224, 3)]     0         \n",
            "                                                                 \n",
            " data_augmentation (Sequenti  (None, None, None, 3)    0         \n",
            " al)                                                             \n",
            "                                                                 \n",
            " efficientnetb0 (Functional)  (None, None, None, 1280)  4049571  \n",
            "                                                                 \n",
            " global_average_pooling_2D (  (None, 1280)             0         \n",
            " GlobalAveragePooling2D)                                         \n",
            "                                                                 \n",
            " output_layer (Dense)        (None, 10)                12810     \n",
            "                                                                 \n",
            "=================================================================\n",
            "Total params: 4,062,381\n",
            "Trainable params: 12,810\n",
            "Non-trainable params: 4,049,571\n",
            "_________________________________________________________________\n"
          ]
        }
      ]
    },
    {
      "cell_type": "markdown",
      "metadata": {
        "id": "swy70LeMEJpq"
      },
      "source": [
        "### Create a ModelCheckpoint Callback\n",
        "\n",
        "The modelCheckpoint callback intermediately saves out model (the full model or just the weights) during training. This is useful so we can come and start where we left off."
      ]
    },
    {
      "cell_type": "code",
      "metadata": {
        "id": "TR9xvhmoFeZY"
      },
      "source": [
        " # Set checkpoint path\n",
        "\n",
        " checkpoint_path = \"ten_percent_model_checkpoints_weights/checkpoint.ckpt\"\n",
        "\n",
        " # Create a ModelCheckpoint callback that saves the model's weight only\n",
        " checkpoint_callback =tf.keras.callbacks.ModelCheckpoint(filepath=checkpoint_path,\n",
        "                                                                    save_weights_only=True,\n",
        "                                                                    save_best_only=False,\n",
        "                                                                    save_freq=\"epoch\", #save every epoch\n",
        "                                                                    verbose=1)"
      ],
      "execution_count": 35,
      "outputs": []
    },
    {
      "cell_type": "markdown",
      "metadata": {
        "id": "xVbCgjAVYKVh"
      },
      "source": [
        "##Fit model 2 passing in the ModelCheckpoint callback"
      ]
    },
    {
      "cell_type": "code",
      "metadata": {
        "id": "jRUJPTHZG6YV",
        "colab": {
          "base_uri": "https://localhost:8080/"
        },
        "outputId": "30c7f881-b26d-4a5d-bae5-c81849d2065c"
      },
      "source": [
        "# fit the model 2 passing in the ModelCheckpoint callback\n",
        "initial_epochs = 5\n",
        "history_10_percent_data_aug = model_2.fit(train_data_10_percent,\n",
        "                                          epochs=initial_epochs,\n",
        "                                          validation_data=test_data,\n",
        "                                          validation_steps=int(0.25 * len(test_data)),\n",
        "                                          callbacks=[create_tensorboard_callback(dir_name=\"transfer_learning\", \n",
        "                                                                                 experiment_name=\"10_percent_data_aug\"),\n",
        "                                                     checkpoint_callback])"
      ],
      "execution_count": 36,
      "outputs": [
        {
          "output_type": "stream",
          "name": "stdout",
          "text": [
            "Saving TensorBoard log files to: transfer_learning/10_percent_data_aug/20211128-162230\n",
            "Epoch 1/5\n"
          ]
        },
        {
          "output_type": "stream",
          "name": "stderr",
          "text": [
            "/usr/local/lib/python3.7/dist-packages/keras/engine/functional.py:1410: CustomMaskWarning: Custom mask layers require a config and must override get_config. When loading, the custom mask layer must be passed to the custom_objects argument.\n",
            "  layer_config = serialize_layer_fn(layer)\n"
          ]
        },
        {
          "output_type": "stream",
          "name": "stdout",
          "text": [
            "24/24 [==============================] - ETA: 0s - loss: 2.0224 - accuracy: 0.3413\n",
            "Epoch 00001: saving model to ten_percent_model_checkpoints_weights/checkpoint.ckpt\n",
            "24/24 [==============================] - 27s 809ms/step - loss: 2.0224 - accuracy: 0.3413 - val_loss: 1.4885 - val_accuracy: 0.6711\n",
            "Epoch 2/5\n",
            "24/24 [==============================] - ETA: 0s - loss: 1.3692 - accuracy: 0.6813\n",
            "Epoch 00002: saving model to ten_percent_model_checkpoints_weights/checkpoint.ckpt\n",
            "24/24 [==============================] - 16s 639ms/step - loss: 1.3692 - accuracy: 0.6813 - val_loss: 1.0157 - val_accuracy: 0.7895\n",
            "Epoch 3/5\n",
            "24/24 [==============================] - ETA: 0s - loss: 1.0909 - accuracy: 0.7400\n",
            "Epoch 00003: saving model to ten_percent_model_checkpoints_weights/checkpoint.ckpt\n",
            "24/24 [==============================] - 14s 557ms/step - loss: 1.0909 - accuracy: 0.7400 - val_loss: 0.8216 - val_accuracy: 0.8207\n",
            "Epoch 4/5\n",
            "24/24 [==============================] - ETA: 0s - loss: 0.9243 - accuracy: 0.7507\n",
            "Epoch 00004: saving model to ten_percent_model_checkpoints_weights/checkpoint.ckpt\n",
            "24/24 [==============================] - 14s 555ms/step - loss: 0.9243 - accuracy: 0.7507 - val_loss: 0.7504 - val_accuracy: 0.8141\n",
            "Epoch 5/5\n",
            "24/24 [==============================] - ETA: 0s - loss: 0.8171 - accuracy: 0.7773\n",
            "Epoch 00005: saving model to ten_percent_model_checkpoints_weights/checkpoint.ckpt\n",
            "24/24 [==============================] - 13s 524ms/step - loss: 0.8171 - accuracy: 0.7773 - val_loss: 0.6789 - val_accuracy: 0.8174\n"
          ]
        }
      ]
    },
    {
      "cell_type": "code",
      "metadata": {
        "id": "UOYWoz0SIFfn",
        "colab": {
          "base_uri": "https://localhost:8080/"
        },
        "outputId": "e163424b-5df8-43f4-ca2d-c6a063408398"
      },
      "source": [
        "# What were model_0 results?\n",
        "model_0.evaluate(test_data)"
      ],
      "execution_count": 37,
      "outputs": [
        {
          "output_type": "stream",
          "name": "stdout",
          "text": [
            "79/79 [==============================] - 11s 131ms/step - loss: 0.6062 - accuracy: 0.8484\n"
          ]
        },
        {
          "output_type": "execute_result",
          "data": {
            "text/plain": [
              "[0.6062366366386414, 0.8483999967575073]"
            ]
          },
          "metadata": {},
          "execution_count": 37
        }
      ]
    },
    {
      "cell_type": "code",
      "metadata": {
        "id": "74o5Gd4YIxZR",
        "colab": {
          "base_uri": "https://localhost:8080/"
        },
        "outputId": "c4bb8efd-357a-444c-aa6c-bb73e2239829"
      },
      "source": [
        "# Check model_2 results on all test_data\n",
        "result_10_percent_data_aug = model_2.evaluate(test_data)\n",
        "result_10_percent_data_aug"
      ],
      "execution_count": 38,
      "outputs": [
        {
          "output_type": "stream",
          "name": "stdout",
          "text": [
            "79/79 [==============================] - 11s 133ms/step - loss: 0.7034 - accuracy: 0.8032\n"
          ]
        },
        {
          "output_type": "execute_result",
          "data": {
            "text/plain": [
              "[0.7034122347831726, 0.8032000064849854]"
            ]
          },
          "metadata": {},
          "execution_count": 38
        }
      ]
    },
    {
      "cell_type": "code",
      "metadata": {
        "id": "Z4ySHd74JE7F",
        "colab": {
          "base_uri": "https://localhost:8080/",
          "height": 573
        },
        "outputId": "e5a4c505-e7df-4bfc-ea16-1f15ec436c2a"
      },
      "source": [
        "# Plot model loss curves\n",
        "plot_loss_curves(history_10_percent_data_aug)"
      ],
      "execution_count": 39,
      "outputs": [
        {
          "output_type": "display_data",
          "data": {
            "image/png": "[encoded data removed]",
            "text/plain": [
              "<Figure size 432x288 with 1 Axes>"
            ]
          },
          "metadata": {
            "needs_background": "light"
          }
        },
        {
          "output_type": "display_data",
          "data": {
            "image/png": "[encoded data removed]",
            "text/plain": [
              "<Figure size 432x288 with 1 Axes>"
            ]
          },
          "metadata": {
            "needs_background": "light"
          }
        }
      ]
    },
    {
      "cell_type": "markdown",
      "metadata": {
        "id": "2V13Z9CzJTts"
      },
      "source": [
        "### Loading in checkpointed weights\n",
        "\n",
        "Loading in checkpointed weights returns a model to a specific checkpoint"
      ]
    },
    {
      "cell_type": "code",
      "metadata": {
        "id": "yea2rydpZ1cV",
        "outputId": "cfd5cc19-cad5-43f7-a1cd-ab672924f7d6",
        "colab": {
          "base_uri": "https://localhost:8080/"
        }
      },
      "source": [
        "# Loading save model weight and evaluate model\n",
        "\n",
        "model_2.load_weights(checkpoint_path)"
      ],
      "execution_count": 40,
      "outputs": [
        {
          "output_type": "execute_result",
          "data": {
            "text/plain": [
              "<tensorflow.python.training.tracking.util.CheckpointLoadStatus at 0x7ff48f1e3110>"
            ]
          },
          "metadata": {},
          "execution_count": 40
        }
      ]
    },
    {
      "cell_type": "code",
      "metadata": {
        "id": "B028NoYCaILu",
        "outputId": "0bb46dbd-9fc3-4dad-8944-0e3f389034bc",
        "colab": {
          "base_uri": "https://localhost:8080/"
        }
      },
      "source": [
        "# Evaluate model_2 with loaded weights\n",
        "loaded_weights_model_results = model_2.evaluate(test_data)"
      ],
      "execution_count": 41,
      "outputs": [
        {
          "output_type": "stream",
          "name": "stdout",
          "text": [
            "79/79 [==============================] - 11s 133ms/step - loss: 0.7034 - accuracy: 0.8032\n"
          ]
        }
      ]
    },
    {
      "cell_type": "code",
      "metadata": {
        "id": "HBkGTo0KadGv",
        "outputId": "3ba0107c-c576-44ce-ddf9-354bb9dd8a09",
        "colab": {
          "base_uri": "https://localhost:8080/"
        }
      },
      "source": [
        "# If the results from our previously evaluated model_2 match the loaded weights, everything has worked!\n",
        "result_10_percent_data_aug == loaded_weights_model_results"
      ],
      "execution_count": 42,
      "outputs": [
        {
          "output_type": "execute_result",
          "data": {
            "text/plain": [
              "False"
            ]
          },
          "metadata": {},
          "execution_count": 42
        }
      ]
    },
    {
      "cell_type": "code",
      "metadata": {
        "id": "moee2Jgwa3G5",
        "outputId": "73ea8c08-e4e6-424e-a4f7-10fe5bac4a40",
        "colab": {
          "base_uri": "https://localhost:8080/"
        }
      },
      "source": [
        "result_10_percent_data_aug"
      ],
      "execution_count": 43,
      "outputs": [
        {
          "output_type": "execute_result",
          "data": {
            "text/plain": [
              "[0.7034122347831726, 0.8032000064849854]"
            ]
          },
          "metadata": {},
          "execution_count": 43
        }
      ]
    },
    {
      "cell_type": "code",
      "metadata": {
        "id": "BT_RhXt2a7xW",
        "outputId": "aecbc3d1-165b-400a-b081-d1a35f179bf5",
        "colab": {
          "base_uri": "https://localhost:8080/"
        }
      },
      "source": [
        "loaded_weights_model_results"
      ],
      "execution_count": 44,
      "outputs": [
        {
          "output_type": "execute_result",
          "data": {
            "text/plain": [
              "[0.7034124732017517, 0.8032000064849854]"
            ]
          },
          "metadata": {},
          "execution_count": 44
        }
      ]
    },
    {
      "cell_type": "markdown",
      "metadata": {
        "id": "_NxSNBuDbXrh"
      },
      "source": [
        "np.isclose: https://numpy.org/doc/stable/reference/generated/numpy.isclose.html"
      ]
    },
    {
      "cell_type": "code",
      "metadata": {
        "id": "aw_oVK9Ra92F",
        "outputId": "310ccd3a-ee77-4ea8-cd59-09a6fd03761e",
        "colab": {
          "base_uri": "https://localhost:8080/"
        }
      },
      "source": [
        "# Check to see if loaded model results are very close to our previous non-loaded model results\n",
        "import numpy as np\n",
        "np.isclose(np.array(result_10_percent_data_aug),np.array(loaded_weights_model_results))"
      ],
      "execution_count": 46,
      "outputs": [
        {
          "output_type": "execute_result",
          "data": {
            "text/plain": [
              "array([ True,  True])"
            ]
          },
          "metadata": {},
          "execution_count": 46
        }
      ]
    },
    {
      "cell_type": "code",
      "metadata": {
        "id": "p0GRyCNLbeXF",
        "outputId": "d1724fc1-7559-4b7f-a8d7-6650b2eac4b4",
        "colab": {
          "base_uri": "https://localhost:8080/"
        }
      },
      "source": [
        "# Check the difference between the two results\n",
        "print(np.array(result_10_percent_data_aug) - np.array(loaded_weights_model_results))"
      ],
      "execution_count": 47,
      "outputs": [
        {
          "output_type": "stream",
          "name": "stdout",
          "text": [
            "[-2.38418579e-07  0.00000000e+00]\n"
          ]
        }
      ]
    },
    {
      "cell_type": "markdown",
      "metadata": {
        "id": "4joSrCjOb2b1"
      },
      "source": [
        "## Model: Fine-tuning on existing model on 10 percent of data\n",
        "\n",
        "**Note:** Fine-tuning usually works best after training a feature extraction model for a few epochs with large amounts of custom data."
      ]
    },
    {
      "cell_type": "code",
      "metadata": {
        "id": "DsHPZWCAgEKC",
        "outputId": "61eb4b0e-aa27-4d1f-93ec-0eceb9f0af52",
        "colab": {
          "base_uri": "https://localhost:8080/"
        }
      },
      "source": [
        " # Layers in loaded model\n",
        " model_2.layers"
      ],
      "execution_count": 48,
      "outputs": [
        {
          "output_type": "execute_result",
          "data": {
            "text/plain": [
              "[<keras.engine.input_layer.InputLayer at 0x7ff48f227e10>,\n",
              " <keras.engine.sequential.Sequential at 0x7ff48f19e910>,\n",
              " <keras.engine.functional.Functional at 0x7ff48ece8c10>,\n",
              " <keras.layers.pooling.GlobalAveragePooling2D at 0x7ff48ecebb90>,\n",
              " <keras.layers.core.dense.Dense at 0x7ff48f1df050>]"
            ]
          },
          "metadata": {},
          "execution_count": 48
        }
      ]
    },
    {
      "cell_type": "code",
      "metadata": {
        "id": "oKXIc06BhlNR",
        "outputId": "7feb1585-77c5-48e3-9282-b7b77d485d8a",
        "colab": {
          "base_uri": "https://localhost:8080/"
        }
      },
      "source": [
        "# Are these layers trainable?\n",
        "for layer in model_2.layers:\n",
        "  print(layer, layer.trainable)"
      ],
      "execution_count": 49,
      "outputs": [
        {
          "output_type": "stream",
          "name": "stdout",
          "text": [
            "<keras.engine.input_layer.InputLayer object at 0x7ff48f227e10> True\n",
            "<keras.engine.sequential.Sequential object at 0x7ff48f19e910> True\n",
            "<keras.engine.functional.Functional object at 0x7ff48ece8c10> False\n",
            "<keras.layers.pooling.GlobalAveragePooling2D object at 0x7ff48ecebb90> True\n",
            "<keras.layers.core.dense.Dense object at 0x7ff48f1df050> True\n"
          ]
        }
      ]
    },
    {
      "cell_type": "code",
      "metadata": {
        "id": "ApGS7b1Ehz6f",
        "outputId": "d6e80673-da40-40a2-f51e-8d1a8719d72e",
        "colab": {
          "base_uri": "https://localhost:8080/"
        }
      },
      "source": [
        "# What layers are in our base_model (EfficientNetB0) and are they trainable?\n",
        "for i,layer in enumerate(model_2.layers[2].layers):\n",
        "  print(i,layer.name, layer.trainable)"
      ],
      "execution_count": 51,
      "outputs": [
        {
          "output_type": "stream",
          "name": "stdout",
          "text": [
            "0 input_3 False\n",
            "1 rescaling_2 False\n",
            "2 normalization_2 False\n",
            "3 stem_conv_pad False\n",
            "4 stem_conv False\n",
            "5 stem_bn False\n",
            "6 stem_activation False\n",
            "7 block1a_dwconv False\n",
            "8 block1a_bn False\n",
            "9 block1a_activation False\n",
            "10 block1a_se_squeeze False\n",
            "11 block1a_se_reshape False\n",
            "12 block1a_se_reduce False\n",
            "13 block1a_se_expand False\n",
            "14 block1a_se_excite False\n",
            "15 block1a_project_conv False\n",
            "16 block1a_project_bn False\n",
            "17 block2a_expand_conv False\n",
            "18 block2a_expand_bn False\n",
            "19 block2a_expand_activation False\n",
            "20 block2a_dwconv_pad False\n",
            "21 block2a_dwconv False\n",
            "22 block2a_bn False\n",
            "23 block2a_activation False\n",
            "24 block2a_se_squeeze False\n",
            "25 block2a_se_reshape False\n",
            "26 block2a_se_reduce False\n",
            "27 block2a_se_expand False\n",
            "28 block2a_se_excite False\n",
            "29 block2a_project_conv False\n",
            "30 block2a_project_bn False\n",
            "31 block2b_expand_conv False\n",
            "32 block2b_expand_bn False\n",
            "33 block2b_expand_activation False\n",
            "34 block2b_dwconv False\n",
            "35 block2b_bn False\n",
            "36 block2b_activation False\n",
            "37 block2b_se_squeeze False\n",
            "38 block2b_se_reshape False\n",
            "39 block2b_se_reduce False\n",
            "40 block2b_se_expand False\n",
            "41 block2b_se_excite False\n",
            "42 block2b_project_conv False\n",
            "43 block2b_project_bn False\n",
            "44 block2b_drop False\n",
            "45 block2b_add False\n",
            "46 block3a_expand_conv False\n",
            "47 block3a_expand_bn False\n",
            "48 block3a_expand_activation False\n",
            "49 block3a_dwconv_pad False\n",
            "50 block3a_dwconv False\n",
            "51 block3a_bn False\n",
            "52 block3a_activation False\n",
            "53 block3a_se_squeeze False\n",
            "54 block3a_se_reshape False\n",
            "55 block3a_se_reduce False\n",
            "56 block3a_se_expand False\n",
            "57 block3a_se_excite False\n",
            "58 block3a_project_conv False\n",
            "59 block3a_project_bn False\n",
            "60 block3b_expand_conv False\n",
            "61 block3b_expand_bn False\n",
            "62 block3b_expand_activation False\n",
            "63 block3b_dwconv False\n",
            "64 block3b_bn False\n",
            "65 block3b_activation False\n",
            "66 block3b_se_squeeze False\n",
            "67 block3b_se_reshape False\n",
            "68 block3b_se_reduce False\n",
            "69 block3b_se_expand False\n",
            "70 block3b_se_excite False\n",
            "71 block3b_project_conv False\n",
            "72 block3b_project_bn False\n",
            "73 block3b_drop False\n",
            "74 block3b_add False\n",
            "75 block4a_expand_conv False\n",
            "76 block4a_expand_bn False\n",
            "77 block4a_expand_activation False\n",
            "78 block4a_dwconv_pad False\n",
            "79 block4a_dwconv False\n",
            "80 block4a_bn False\n",
            "81 block4a_activation False\n",
            "82 block4a_se_squeeze False\n",
            "83 block4a_se_reshape False\n",
            "84 block4a_se_reduce False\n",
            "85 block4a_se_expand False\n",
            "86 block4a_se_excite False\n",
            "87 block4a_project_conv False\n",
            "88 block4a_project_bn False\n",
            "89 block4b_expand_conv False\n",
            "90 block4b_expand_bn False\n",
            "91 block4b_expand_activation False\n",
            "92 block4b_dwconv False\n",
            "93 block4b_bn False\n",
            "94 block4b_activation False\n",
            "95 block4b_se_squeeze False\n",
            "96 block4b_se_reshape False\n",
            "97 block4b_se_reduce False\n",
            "98 block4b_se_expand False\n",
            "99 block4b_se_excite False\n",
            "100 block4b_project_conv False\n",
            "101 block4b_project_bn False\n",
            "102 block4b_drop False\n",
            "103 block4b_add False\n",
            "104 block4c_expand_conv False\n",
            "105 block4c_expand_bn False\n",
            "106 block4c_expand_activation False\n",
            "107 block4c_dwconv False\n",
            "108 block4c_bn False\n",
            "109 block4c_activation False\n",
            "110 block4c_se_squeeze False\n",
            "111 block4c_se_reshape False\n",
            "112 block4c_se_reduce False\n",
            "113 block4c_se_expand False\n",
            "114 block4c_se_excite False\n",
            "115 block4c_project_conv False\n",
            "116 block4c_project_bn False\n",
            "117 block4c_drop False\n",
            "118 block4c_add False\n",
            "119 block5a_expand_conv False\n",
            "120 block5a_expand_bn False\n",
            "121 block5a_expand_activation False\n",
            "122 block5a_dwconv False\n",
            "123 block5a_bn False\n",
            "124 block5a_activation False\n",
            "125 block5a_se_squeeze False\n",
            "126 block5a_se_reshape False\n",
            "127 block5a_se_reduce False\n",
            "128 block5a_se_expand False\n",
            "129 block5a_se_excite False\n",
            "130 block5a_project_conv False\n",
            "131 block5a_project_bn False\n",
            "132 block5b_expand_conv False\n",
            "133 block5b_expand_bn False\n",
            "134 block5b_expand_activation False\n",
            "135 block5b_dwconv False\n",
            "136 block5b_bn False\n",
            "137 block5b_activation False\n",
            "138 block5b_se_squeeze False\n",
            "139 block5b_se_reshape False\n",
            "140 block5b_se_reduce False\n",
            "141 block5b_se_expand False\n",
            "142 block5b_se_excite False\n",
            "143 block5b_project_conv False\n",
            "144 block5b_project_bn False\n",
            "145 block5b_drop False\n",
            "146 block5b_add False\n",
            "147 block5c_expand_conv False\n",
            "148 block5c_expand_bn False\n",
            "149 block5c_expand_activation False\n",
            "150 block5c_dwconv False\n",
            "151 block5c_bn False\n",
            "152 block5c_activation False\n",
            "153 block5c_se_squeeze False\n",
            "154 block5c_se_reshape False\n",
            "155 block5c_se_reduce False\n",
            "156 block5c_se_expand False\n",
            "157 block5c_se_excite False\n",
            "158 block5c_project_conv False\n",
            "159 block5c_project_bn False\n",
            "160 block5c_drop False\n",
            "161 block5c_add False\n",
            "162 block6a_expand_conv False\n",
            "163 block6a_expand_bn False\n",
            "164 block6a_expand_activation False\n",
            "165 block6a_dwconv_pad False\n",
            "166 block6a_dwconv False\n",
            "167 block6a_bn False\n",
            "168 block6a_activation False\n",
            "169 block6a_se_squeeze False\n",
            "170 block6a_se_reshape False\n",
            "171 block6a_se_reduce False\n",
            "172 block6a_se_expand False\n",
            "173 block6a_se_excite False\n",
            "174 block6a_project_conv False\n",
            "175 block6a_project_bn False\n",
            "176 block6b_expand_conv False\n",
            "177 block6b_expand_bn False\n",
            "178 block6b_expand_activation False\n",
            "179 block6b_dwconv False\n",
            "180 block6b_bn False\n",
            "181 block6b_activation False\n",
            "182 block6b_se_squeeze False\n",
            "183 block6b_se_reshape False\n",
            "184 block6b_se_reduce False\n",
            "185 block6b_se_expand False\n",
            "186 block6b_se_excite False\n",
            "187 block6b_project_conv False\n",
            "188 block6b_project_bn False\n",
            "189 block6b_drop False\n",
            "190 block6b_add False\n",
            "191 block6c_expand_conv False\n",
            "192 block6c_expand_bn False\n",
            "193 block6c_expand_activation False\n",
            "194 block6c_dwconv False\n",
            "195 block6c_bn False\n",
            "196 block6c_activation False\n",
            "197 block6c_se_squeeze False\n",
            "198 block6c_se_reshape False\n",
            "199 block6c_se_reduce False\n",
            "200 block6c_se_expand False\n",
            "201 block6c_se_excite False\n",
            "202 block6c_project_conv False\n",
            "203 block6c_project_bn False\n",
            "204 block6c_drop False\n",
            "205 block6c_add False\n",
            "206 block6d_expand_conv False\n",
            "207 block6d_expand_bn False\n",
            "208 block6d_expand_activation False\n",
            "209 block6d_dwconv False\n",
            "210 block6d_bn False\n",
            "211 block6d_activation False\n",
            "212 block6d_se_squeeze False\n",
            "213 block6d_se_reshape False\n",
            "214 block6d_se_reduce False\n",
            "215 block6d_se_expand False\n",
            "216 block6d_se_excite False\n",
            "217 block6d_project_conv False\n",
            "218 block6d_project_bn False\n",
            "219 block6d_drop False\n",
            "220 block6d_add False\n",
            "221 block7a_expand_conv False\n",
            "222 block7a_expand_bn False\n",
            "223 block7a_expand_activation False\n",
            "224 block7a_dwconv False\n",
            "225 block7a_bn False\n",
            "226 block7a_activation False\n",
            "227 block7a_se_squeeze False\n",
            "228 block7a_se_reshape False\n",
            "229 block7a_se_reduce False\n",
            "230 block7a_se_expand False\n",
            "231 block7a_se_excite False\n",
            "232 block7a_project_conv False\n",
            "233 block7a_project_bn False\n",
            "234 top_conv False\n",
            "235 top_bn False\n",
            "236 top_activation False\n"
          ]
        }
      ]
    },
    {
      "cell_type": "code",
      "metadata": {
        "id": "D7NhaiCHiXBn",
        "outputId": "12ad17e0-196f-401e-c2c6-009b1cbc8817",
        "colab": {
          "base_uri": "https://localhost:8080/"
        }
      },
      "source": [
        "# How many trainable variables are in our base model?\n",
        "print(len(model_2.layers[2].trainable_variables))"
      ],
      "execution_count": 56,
      "outputs": [
        {
          "output_type": "stream",
          "name": "stdout",
          "text": [
            "211\n"
          ]
        }
      ]
    },
    {
      "cell_type": "code",
      "metadata": {
        "id": "1oI_Q9H8iz9E",
        "outputId": "a13232d3-e9b6-4b72-b8b4-040f59ebd873",
        "colab": {
          "base_uri": "https://localhost:8080/"
        }
      },
      "source": [
        "# To begin fine tuning lerts start by setting the last 10 layers of our base_model.trainable = True\n",
        "base_model.trainable = True\n",
        "\n",
        "# Freeze all layers except for the last 10\n",
        "for layer in base_model.layers[:-10]:\n",
        "  layer.trainable = False\n",
        "\n",
        "# Recompile (we have to recompile our models every time we make a change)\n",
        "model_2.compile(loss=\"categorical_crossentropy\",\n",
        "                optimizer=tf.keras.optimizers.Adam(lr=0.0001), # When fine-tuning you typically want to  lower the learning rate by 10X*\n",
        "                metrics=[\"accuracy\"])"
      ],
      "execution_count": 57,
      "outputs": [
        {
          "output_type": "stream",
          "name": "stderr",
          "text": [
            "/usr/local/lib/python3.7/dist-packages/keras/optimizer_v2/adam.py:105: UserWarning: The `lr` argument is deprecated, use `learning_rate` instead.\n",
            "  super(Adam, self).__init__(name, **kwargs)\n"
          ]
        }
      ]
    },
    {
      "cell_type": "markdown",
      "metadata": {
        "id": "azW02-FzlCAQ"
      },
      "source": [
        ">🔑 **Note:** When using fine-tuning it's best practice to lower your learning rate by some amount. How much? This is a hyperparameter you can tune. But a good rule of thumb is at least 10X (though different sources will calim other values).\n",
        "A good resource for information on this is the UMFIT paper:https://arxiv.org/abs/1801.06146"
      ]
    },
    {
      "cell_type": "code",
      "metadata": {
        "id": "aTyHHLolj80m",
        "outputId": "a084e657-939c-4e5d-f151-a51e330d80d3",
        "colab": {
          "base_uri": "https://localhost:8080/"
        }
      },
      "source": [
        "# Check which layer are trainable (trainable)\n",
        "for layer_number, layer in enumerate(model_2.layers[2].layers):\n",
        "  print(layer_number, layer.name, layer.trainable)"
      ],
      "execution_count": 58,
      "outputs": [
        {
          "output_type": "stream",
          "name": "stdout",
          "text": [
            "0 input_3 False\n",
            "1 rescaling_2 False\n",
            "2 normalization_2 False\n",
            "3 stem_conv_pad False\n",
            "4 stem_conv False\n",
            "5 stem_bn False\n",
            "6 stem_activation False\n",
            "7 block1a_dwconv False\n",
            "8 block1a_bn False\n",
            "9 block1a_activation False\n",
            "10 block1a_se_squeeze False\n",
            "11 block1a_se_reshape False\n",
            "12 block1a_se_reduce False\n",
            "13 block1a_se_expand False\n",
            "14 block1a_se_excite False\n",
            "15 block1a_project_conv False\n",
            "16 block1a_project_bn False\n",
            "17 block2a_expand_conv False\n",
            "18 block2a_expand_bn False\n",
            "19 block2a_expand_activation False\n",
            "20 block2a_dwconv_pad False\n",
            "21 block2a_dwconv False\n",
            "22 block2a_bn False\n",
            "23 block2a_activation False\n",
            "24 block2a_se_squeeze False\n",
            "25 block2a_se_reshape False\n",
            "26 block2a_se_reduce False\n",
            "27 block2a_se_expand False\n",
            "28 block2a_se_excite False\n",
            "29 block2a_project_conv False\n",
            "30 block2a_project_bn False\n",
            "31 block2b_expand_conv False\n",
            "32 block2b_expand_bn False\n",
            "33 block2b_expand_activation False\n",
            "34 block2b_dwconv False\n",
            "35 block2b_bn False\n",
            "36 block2b_activation False\n",
            "37 block2b_se_squeeze False\n",
            "38 block2b_se_reshape False\n",
            "39 block2b_se_reduce False\n",
            "40 block2b_se_expand False\n",
            "41 block2b_se_excite False\n",
            "42 block2b_project_conv False\n",
            "43 block2b_project_bn False\n",
            "44 block2b_drop False\n",
            "45 block2b_add False\n",
            "46 block3a_expand_conv False\n",
            "47 block3a_expand_bn False\n",
            "48 block3a_expand_activation False\n",
            "49 block3a_dwconv_pad False\n",
            "50 block3a_dwconv False\n",
            "51 block3a_bn False\n",
            "52 block3a_activation False\n",
            "53 block3a_se_squeeze False\n",
            "54 block3a_se_reshape False\n",
            "55 block3a_se_reduce False\n",
            "56 block3a_se_expand False\n",
            "57 block3a_se_excite False\n",
            "58 block3a_project_conv False\n",
            "59 block3a_project_bn False\n",
            "60 block3b_expand_conv False\n",
            "61 block3b_expand_bn False\n",
            "62 block3b_expand_activation False\n",
            "63 block3b_dwconv False\n",
            "64 block3b_bn False\n",
            "65 block3b_activation False\n",
            "66 block3b_se_squeeze False\n",
            "67 block3b_se_reshape False\n",
            "68 block3b_se_reduce False\n",
            "69 block3b_se_expand False\n",
            "70 block3b_se_excite False\n",
            "71 block3b_project_conv False\n",
            "72 block3b_project_bn False\n",
            "73 block3b_drop False\n",
            "74 block3b_add False\n",
            "75 block4a_expand_conv False\n",
            "76 block4a_expand_bn False\n",
            "77 block4a_expand_activation False\n",
            "78 block4a_dwconv_pad False\n",
            "79 block4a_dwconv False\n",
            "80 block4a_bn False\n",
            "81 block4a_activation False\n",
            "82 block4a_se_squeeze False\n",
            "83 block4a_se_reshape False\n",
            "84 block4a_se_reduce False\n",
            "85 block4a_se_expand False\n",
            "86 block4a_se_excite False\n",
            "87 block4a_project_conv False\n",
            "88 block4a_project_bn False\n",
            "89 block4b_expand_conv False\n",
            "90 block4b_expand_bn False\n",
            "91 block4b_expand_activation False\n",
            "92 block4b_dwconv False\n",
            "93 block4b_bn False\n",
            "94 block4b_activation False\n",
            "95 block4b_se_squeeze False\n",
            "96 block4b_se_reshape False\n",
            "97 block4b_se_reduce False\n",
            "98 block4b_se_expand False\n",
            "99 block4b_se_excite False\n",
            "100 block4b_project_conv False\n",
            "101 block4b_project_bn False\n",
            "102 block4b_drop False\n",
            "103 block4b_add False\n",
            "104 block4c_expand_conv False\n",
            "105 block4c_expand_bn False\n",
            "106 block4c_expand_activation False\n",
            "107 block4c_dwconv False\n",
            "108 block4c_bn False\n",
            "109 block4c_activation False\n",
            "110 block4c_se_squeeze False\n",
            "111 block4c_se_reshape False\n",
            "112 block4c_se_reduce False\n",
            "113 block4c_se_expand False\n",
            "114 block4c_se_excite False\n",
            "115 block4c_project_conv False\n",
            "116 block4c_project_bn False\n",
            "117 block4c_drop False\n",
            "118 block4c_add False\n",
            "119 block5a_expand_conv False\n",
            "120 block5a_expand_bn False\n",
            "121 block5a_expand_activation False\n",
            "122 block5a_dwconv False\n",
            "123 block5a_bn False\n",
            "124 block5a_activation False\n",
            "125 block5a_se_squeeze False\n",
            "126 block5a_se_reshape False\n",
            "127 block5a_se_reduce False\n",
            "128 block5a_se_expand False\n",
            "129 block5a_se_excite False\n",
            "130 block5a_project_conv False\n",
            "131 block5a_project_bn False\n",
            "132 block5b_expand_conv False\n",
            "133 block5b_expand_bn False\n",
            "134 block5b_expand_activation False\n",
            "135 block5b_dwconv False\n",
            "136 block5b_bn False\n",
            "137 block5b_activation False\n",
            "138 block5b_se_squeeze False\n",
            "139 block5b_se_reshape False\n",
            "140 block5b_se_reduce False\n",
            "141 block5b_se_expand False\n",
            "142 block5b_se_excite False\n",
            "143 block5b_project_conv False\n",
            "144 block5b_project_bn False\n",
            "145 block5b_drop False\n",
            "146 block5b_add False\n",
            "147 block5c_expand_conv False\n",
            "148 block5c_expand_bn False\n",
            "149 block5c_expand_activation False\n",
            "150 block5c_dwconv False\n",
            "151 block5c_bn False\n",
            "152 block5c_activation False\n",
            "153 block5c_se_squeeze False\n",
            "154 block5c_se_reshape False\n",
            "155 block5c_se_reduce False\n",
            "156 block5c_se_expand False\n",
            "157 block5c_se_excite False\n",
            "158 block5c_project_conv False\n",
            "159 block5c_project_bn False\n",
            "160 block5c_drop False\n",
            "161 block5c_add False\n",
            "162 block6a_expand_conv False\n",
            "163 block6a_expand_bn False\n",
            "164 block6a_expand_activation False\n",
            "165 block6a_dwconv_pad False\n",
            "166 block6a_dwconv False\n",
            "167 block6a_bn False\n",
            "168 block6a_activation False\n",
            "169 block6a_se_squeeze False\n",
            "170 block6a_se_reshape False\n",
            "171 block6a_se_reduce False\n",
            "172 block6a_se_expand False\n",
            "173 block6a_se_excite False\n",
            "174 block6a_project_conv False\n",
            "175 block6a_project_bn False\n",
            "176 block6b_expand_conv False\n",
            "177 block6b_expand_bn False\n",
            "178 block6b_expand_activation False\n",
            "179 block6b_dwconv False\n",
            "180 block6b_bn False\n",
            "181 block6b_activation False\n",
            "182 block6b_se_squeeze False\n",
            "183 block6b_se_reshape False\n",
            "184 block6b_se_reduce False\n",
            "185 block6b_se_expand False\n",
            "186 block6b_se_excite False\n",
            "187 block6b_project_conv False\n",
            "188 block6b_project_bn False\n",
            "189 block6b_drop False\n",
            "190 block6b_add False\n",
            "191 block6c_expand_conv False\n",
            "192 block6c_expand_bn False\n",
            "193 block6c_expand_activation False\n",
            "194 block6c_dwconv False\n",
            "195 block6c_bn False\n",
            "196 block6c_activation False\n",
            "197 block6c_se_squeeze False\n",
            "198 block6c_se_reshape False\n",
            "199 block6c_se_reduce False\n",
            "200 block6c_se_expand False\n",
            "201 block6c_se_excite False\n",
            "202 block6c_project_conv False\n",
            "203 block6c_project_bn False\n",
            "204 block6c_drop False\n",
            "205 block6c_add False\n",
            "206 block6d_expand_conv False\n",
            "207 block6d_expand_bn False\n",
            "208 block6d_expand_activation False\n",
            "209 block6d_dwconv False\n",
            "210 block6d_bn False\n",
            "211 block6d_activation False\n",
            "212 block6d_se_squeeze False\n",
            "213 block6d_se_reshape False\n",
            "214 block6d_se_reduce False\n",
            "215 block6d_se_expand False\n",
            "216 block6d_se_excite False\n",
            "217 block6d_project_conv False\n",
            "218 block6d_project_bn False\n",
            "219 block6d_drop False\n",
            "220 block6d_add False\n",
            "221 block7a_expand_conv False\n",
            "222 block7a_expand_bn False\n",
            "223 block7a_expand_activation False\n",
            "224 block7a_dwconv False\n",
            "225 block7a_bn False\n",
            "226 block7a_activation False\n",
            "227 block7a_se_squeeze True\n",
            "228 block7a_se_reshape True\n",
            "229 block7a_se_reduce True\n",
            "230 block7a_se_expand True\n",
            "231 block7a_se_excite True\n",
            "232 block7a_project_conv True\n",
            "233 block7a_project_bn True\n",
            "234 top_conv True\n",
            "235 top_bn True\n",
            "236 top_activation True\n"
          ]
        }
      ]
    },
    {
      "cell_type": "code",
      "metadata": {
        "id": "GcYmIHJ4mRbf",
        "outputId": "73379189-3c85-4087-9c11-574579cebb56",
        "colab": {
          "base_uri": "https://localhost:8080/"
        }
      },
      "source": [
        "# Now we've unfrozen some of the layers closer to the top, how many trainable variable are present\n",
        "print(len(model_2.trainable_variables))"
      ],
      "execution_count": 59,
      "outputs": [
        {
          "output_type": "stream",
          "name": "stdout",
          "text": [
            "12\n"
          ]
        }
      ]
    },
    {
      "cell_type": "code",
      "metadata": {
        "id": "HS2HlLzvnbVx",
        "outputId": "74224532-d2cb-433e-db25-8ba8dec872b0",
        "colab": {
          "base_uri": "https://localhost:8080/"
        }
      },
      "source": [
        "# Fine tune for another 5 epochs\n",
        "fine_tune_epochs = initial_epochs + 5\n",
        "\n",
        "# Refit the model (same as model_2 except with more trainable layers)\n",
        "history_fine_10_percent_data_aug = model_2.fit(train_data_10_percent,\n",
        "                                               epochs=fine_tune_epochs,\n",
        "                                               validation_data=test_data,\n",
        "                                               validation_steps = int(0.25 * len(test_data)),\n",
        "                                               initial_epoch=history_10_percent_data_aug.epoch[-1], # start training from previous last epoch\n",
        "                                               callbacks=[create_tensorboard_callback(dir_name= \"transfer_learning\",\n",
        "                                                                                      experiment_name=\"10_percent_fine_tune_last_10\")])"
      ],
      "execution_count": 63,
      "outputs": [
        {
          "output_type": "stream",
          "name": "stdout",
          "text": [
            "Saving TensorBoard log files to: transfer_learning/10_percent_fine_tune_last_10/20211128-174531\n",
            "Epoch 5/10\n"
          ]
        },
        {
          "output_type": "stream",
          "name": "stderr",
          "text": [
            "/usr/local/lib/python3.7/dist-packages/keras/engine/functional.py:1410: CustomMaskWarning: Custom mask layers require a config and must override get_config. When loading, the custom mask layer must be passed to the custom_objects argument.\n",
            "  layer_config = serialize_layer_fn(layer)\n"
          ]
        },
        {
          "output_type": "stream",
          "name": "stdout",
          "text": [
            "24/24 [==============================] - 25s 677ms/step - loss: 0.7137 - accuracy: 0.8027 - val_loss: 0.5475 - val_accuracy: 0.8207\n",
            "Epoch 6/10\n",
            "24/24 [==============================] - 15s 616ms/step - loss: 0.5724 - accuracy: 0.8240 - val_loss: 0.5131 - val_accuracy: 0.8257\n",
            "Epoch 7/10\n",
            "24/24 [==============================] - 14s 581ms/step - loss: 0.4991 - accuracy: 0.8507 - val_loss: 0.4996 - val_accuracy: 0.8355\n",
            "Epoch 8/10\n",
            "24/24 [==============================] - 12s 497ms/step - loss: 0.4529 - accuracy: 0.8613 - val_loss: 0.4602 - val_accuracy: 0.8536\n",
            "Epoch 9/10\n",
            "24/24 [==============================] - 14s 578ms/step - loss: 0.3937 - accuracy: 0.8733 - val_loss: 0.5077 - val_accuracy: 0.8207\n",
            "Epoch 10/10\n",
            "24/24 [==============================] - 13s 537ms/step - loss: 0.3652 - accuracy: 0.8920 - val_loss: 0.5005 - val_accuracy: 0.8339\n"
          ]
        }
      ]
    },
    {
      "cell_type": "code",
      "metadata": {
        "id": "YT9s8SbTpnmt",
        "outputId": "b4ea7a33-3c44-4bab-f360-027f9805da77",
        "colab": {
          "base_uri": "https://localhost:8080/"
        }
      },
      "source": [
        "# Evaluate the fine tuned model(model_3 which is actually model_2 fine-tuned for another 5 epochs)\n",
        "results_fine_tune_10_percent = model_2.evaluate(test_data)"
      ],
      "execution_count": 65,
      "outputs": [
        {
          "output_type": "stream",
          "name": "stdout",
          "text": [
            "79/79 [==============================] - 11s 132ms/step - loss: 0.5037 - accuracy: 0.8276\n"
          ]
        }
      ]
    },
    {
      "cell_type": "code",
      "metadata": {
        "id": "A0UUsr-hqTFG",
        "outputId": "c7100b7b-18a8-4abb-c658-f173d3ee71b9",
        "colab": {
          "base_uri": "https://localhost:8080/",
          "height": 573
        }
      },
      "source": [
        "# Check out the lost curves of our fine-tuned model\n",
        "plot_loss_curves(history_fine_10_percent_data_aug)"
      ],
      "execution_count": 67,
      "outputs": [
        {
          "output_type": "display_data",
          "data": {
            "image/png": "[encoded data removed]",
            "text/plain": [
              "<Figure size 432x288 with 1 Axes>"
            ]
          },
          "metadata": {
            "needs_background": "light"
          }
        },
        {
          "output_type": "display_data",
          "data": {
            "image/png": "[encoded data removed]",
            "text/plain": [
              "<Figure size 432x288 with 1 Axes>"
            ]
          },
          "metadata": {
            "needs_background": "light"
          }
        }
      ]
    },
    {
      "cell_type": "markdown",
      "metadata": {
        "id": "e-ZPJHlDrS3o"
      },
      "source": [
        "The `plot_loss_curve` function works great with models which have onlty been fit once, however, we want something to compare one series of running `fit()` with another (e.g before and after fine_tuning).\n"
      ]
    },
    {
      "cell_type": "code",
      "metadata": {
        "id": "Ra2JvoBmrBZy"
      },
      "source": [
        "# Let create a function to caompare training histories\n",
        "def compare_historys(original_history, new_history , initial_epochs=5):\n",
        "  \"\"\"\n",
        "  comapares two TensorFlow History objects.\n",
        "  \"\"\"\n",
        "  # Get original history mesurements\n",
        "  acc = original_history.history[\"accuracy\"]\n",
        "  loss = original_history.history[\"loss\"]\n",
        "\n",
        "  val_acc = original_history.history[\"val_accuracy\"]\n",
        "  val_loss = original_history.history[\"val_loss\"]\n",
        "\n",
        "  # Combine original history metics with new_history metrics\n",
        "  total_acc = acc + new_history.history[\"accuracy\"]\n",
        "  total_loss = loss + new_history.history[\"loss\"]\n",
        "\n",
        "  total_val_acc = val_acc + new_history.history[\"val_accuracy\"]\n",
        "  total_val_loss = val_loss + new_history.history[\"val_loss\"]\n",
        "\n",
        "  # make plots for accuracy\n",
        "  plt.figure(figsize=(8,8))\n",
        "  plt.subplot(2,1,1)\n",
        "  plt.plot(total_acc, label=\"Training Accuracy\")\n",
        "  plt.plot(total_val_acc , label=\"val Accuracy\")\n",
        "\n",
        "  plt.plot([initial_epochs-1, initial_epochs-1],plt.ylim(),label= \"Start Fine Tuning\")\n",
        "  plt.legend(loc=\"lower right\")\n",
        "  plt.title(\"Training and Validation Accuracy\")\n",
        "\n",
        "   # make plots for loss\n",
        "  plt.figure(figsize=(8,8))\n",
        "  plt.subplot(2,1,2)\n",
        "  plt.plot(total_loss, label=\"Training Loss\")\n",
        "  plt.plot(total_val_loss , label=\"val Loss\")\n",
        "\n",
        "  plt.plot([initial_epochs-1, initial_epochs-1],plt.ylim(),label= \"Start Fine Tuning\")\n",
        "  plt.legend(loc=\"upper right\")\n",
        "  plt.title(\"Training and Validation LOss\")"
      ],
      "execution_count": 78,
      "outputs": []
    },
    {
      "cell_type": "code",
      "metadata": {
        "id": "fQcBG8Fut8ov",
        "outputId": "acc12ce4-e485-4a15-9831-b35eb6433d18",
        "colab": {
          "base_uri": "https://localhost:8080/",
          "height": 507
        }
      },
      "source": [
        "compare_historys(history_10_percent_data_aug, history_fine_10_percent_data_aug , initial_epochs=5)"
      ],
      "execution_count": 79,
      "outputs": [
        {
          "output_type": "display_data",
          "data": {
            "image/png": "[encoded data removed]",
            "text/plain": [
              "<Figure size 576x576 with 1 Axes>"
            ]
          },
          "metadata": {
            "needs_background": "light"
          }
        },
        {
          "output_type": "display_data",
          "data": {
            "image/png": "[encoded data removed]",
            "text/plain": [
              "<Figure size 576x576 with 1 Axes>"
            ]
          },
          "metadata": {
            "needs_background": "light"
          }
        }
      ]
    },
    {
      "cell_type": "code",
      "metadata": {
        "id": "WzXLMfnYuFqs"
      },
      "source": [
        ""
      ],
      "execution_count": null,
      "outputs": []
    }
  ]
}