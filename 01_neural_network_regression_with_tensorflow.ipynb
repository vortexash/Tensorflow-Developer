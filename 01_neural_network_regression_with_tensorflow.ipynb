{
  "nbformat": 4,
  "nbformat_minor": 0,
  "metadata": {
    "colab": {
      "name": "01_neural_network_regression_with_tensorflow.ipynb",
      "provenance": [],
      "authorship_tag": "ABX9TyMYXmB+rXaDt/LbANRCrBgc",
      "include_colab_link": true
    },
    "kernelspec": {
      "name": "python3",
      "display_name": "Python 3"
    },
    "language_info": {
      "name": "python"
    }
  },
  "cells": [
    {
      "cell_type": "markdown",
      "metadata": {
        "id": "view-in-github",
        "colab_type": "text"
      },
      "source": [
        "<a href=\"https://colab.research.google.com/github/vortexash/Tensorflow-Developer/blob/main/01_neural_network_regression_with_tensorflow.ipynb\" target=\"_parent\"><img src=\"https://colab.research.google.com/assets/colab-badge.svg\" alt=\"Open In Colab\"/></a>"
      ]
    },
    {
      "cell_type": "markdown",
      "metadata": {
        "id": "t9xnDRouIOro"
      },
      "source": [
        "# Introduction to Regression with Neural Networks in Tensorflow\n",
        "\n",
        "Ther are many defination for regression problem but in our case, we're going to simplify it: predicting a numerical variable based on some other combination of variables, even shorter.. predicting a number."
      ]
    },
    {
      "cell_type": "code",
      "metadata": {
        "colab": {
          "base_uri": "https://localhost:8080/"
        },
        "id": "MxcaMDO6KTG9",
        "outputId": "9f749700-64c4-4684-ba47-eae4b07846f7"
      },
      "source": [
        "# Import TensorFlow\n",
        "import tensorflow as tf\n",
        "print(tf.__version__)"
      ],
      "execution_count": 1,
      "outputs": [
        {
          "output_type": "stream",
          "text": [
            "2.5.0\n"
          ],
          "name": "stdout"
        }
      ]
    },
    {
      "cell_type": "markdown",
      "metadata": {
        "id": "haaHtqb-KfUo"
      },
      "source": [
        "## Creating data to view and fit"
      ]
    },
    {
      "cell_type": "code",
      "metadata": {
        "colab": {
          "base_uri": "https://localhost:8080/",
          "height": 286
        },
        "id": "AwmcdAOJKnk0",
        "outputId": "b7395ac8-1bd2-40e0-e5b6-94fad75faf89"
      },
      "source": [
        "import numpy as np\n",
        "import matplotlib.pyplot as plt\n",
        "\n",
        "# Create features\n",
        "X= np.array([-7.0, -4.0, -1.0, 2.0, 5.0, 8.0, 11.0 ,14.0])\n",
        "\n",
        "# Create labels\n",
        "y = np.array([3.0, 6.0, 9.0, 12.0, 15.0, 18.0, 21.0, 24.0])\n",
        "\n",
        "# Visualize it\n",
        "plt.scatter(X,y)"
      ],
      "execution_count": 2,
      "outputs": [
        {
          "output_type": "execute_result",
          "data": {
            "text/plain": [
              "<matplotlib.collections.PathCollection at 0x7f8d33ce67d0>"
            ]
          },
          "metadata": {
            "tags": []
          },
          "execution_count": 2
        },
        {
          "output_type": "display_data",
          "data": {
            "image/png": "[encoded data removed]",
            "text/plain": [
              "<Figure size 432x288 with 1 Axes>"
            ]
          },
          "metadata": {
            "tags": [],
            "needs_background": "light"
          }
        }
      ]
    },
    {
      "cell_type": "code",
      "metadata": {
        "colab": {
          "base_uri": "https://localhost:8080/"
        },
        "id": "4o-DasRKLO1x",
        "outputId": "4049985e-f34d-4a17-b7fc-207bef0d10d4"
      },
      "source": [
        "y == X+10"
      ],
      "execution_count": 3,
      "outputs": [
        {
          "output_type": "execute_result",
          "data": {
            "text/plain": [
              "array([ True,  True,  True,  True,  True,  True,  True,  True])"
            ]
          },
          "metadata": {
            "tags": []
          },
          "execution_count": 3
        }
      ]
    },
    {
      "cell_type": "markdown",
      "metadata": {
        "id": "t7K6ck9pLhQ0"
      },
      "source": [
        "## Input and output Shape"
      ]
    },
    {
      "cell_type": "code",
      "metadata": {
        "colab": {
          "base_uri": "https://localhost:8080/"
        },
        "id": "XhNsW9AZLtLo",
        "outputId": "c995ad5b-3e82-41e5-93dc-73382f04cf57"
      },
      "source": [
        "# Create a demo tensor for our housing price prediction problem.\n",
        "house_info =tf.constant([\"bedroom\",\"bathroom\", \"garage\"])\n",
        "house_price = tf.constant([939700])\n",
        "house_info, house_price"
      ],
      "execution_count": 4,
      "outputs": [
        {
          "output_type": "execute_result",
          "data": {
            "text/plain": [
              "(<tf.Tensor: shape=(3,), dtype=string, numpy=array([b'bedroom', b'bathroom', b'garage'], dtype=object)>,\n",
              " <tf.Tensor: shape=(1,), dtype=int32, numpy=array([939700], dtype=int32)>)"
            ]
          },
          "metadata": {
            "tags": []
          },
          "execution_count": 4
        }
      ]
    },
    {
      "cell_type": "code",
      "metadata": {
        "colab": {
          "base_uri": "https://localhost:8080/"
        },
        "id": "UpeSZ2-PMUVb",
        "outputId": "e91a4a03-a751-4127-963e-5e0af2d88b76"
      },
      "source": [
        "input_shape = X.shape\n",
        "output_shape = y.shape\n",
        "input_shape, output_shape"
      ],
      "execution_count": 5,
      "outputs": [
        {
          "output_type": "execute_result",
          "data": {
            "text/plain": [
              "((8,), (8,))"
            ]
          },
          "metadata": {
            "tags": []
          },
          "execution_count": 5
        }
      ]
    },
    {
      "cell_type": "code",
      "metadata": {
        "colab": {
          "base_uri": "https://localhost:8080/"
        },
        "id": "tj3RKrwMMuEJ",
        "outputId": "67f6e131-dd38-4ce9-b73c-1cc815e02c6d"
      },
      "source": [
        "X[0].ndim"
      ],
      "execution_count": 6,
      "outputs": [
        {
          "output_type": "execute_result",
          "data": {
            "text/plain": [
              "0"
            ]
          },
          "metadata": {
            "tags": []
          },
          "execution_count": 6
        }
      ]
    },
    {
      "cell_type": "code",
      "metadata": {
        "colab": {
          "base_uri": "https://localhost:8080/"
        },
        "id": "4zX6G6L2NEay",
        "outputId": "22a0a68a-0b1b-419d-b75e-be7308143649"
      },
      "source": [
        "X[0], y[0]"
      ],
      "execution_count": 7,
      "outputs": [
        {
          "output_type": "execute_result",
          "data": {
            "text/plain": [
              "(-7.0, 3.0)"
            ]
          },
          "metadata": {
            "tags": []
          },
          "execution_count": 7
        }
      ]
    },
    {
      "cell_type": "code",
      "metadata": {
        "id": "eP4ob_ihNG4m",
        "colab": {
          "base_uri": "https://localhost:8080/"
        },
        "outputId": "a799c5e8-34c4-4bde-c1d4-0267d89eac55"
      },
      "source": [
        "# Turn our NumPy arrays into tensors\n",
        "X = tf.cast(tf.constant(X), dtype=tf.float32)\n",
        "y = tf.cast(tf.constant(y), dtype=tf.float32)\n",
        "X,y"
      ],
      "execution_count": 8,
      "outputs": [
        {
          "output_type": "execute_result",
          "data": {
            "text/plain": [
              "(<tf.Tensor: shape=(8,), dtype=float32, numpy=array([-7., -4., -1.,  2.,  5.,  8., 11., 14.], dtype=float32)>,\n",
              " <tf.Tensor: shape=(8,), dtype=float32, numpy=array([ 3.,  6.,  9., 12., 15., 18., 21., 24.], dtype=float32)>)"
            ]
          },
          "metadata": {
            "tags": []
          },
          "execution_count": 8
        }
      ]
    },
    {
      "cell_type": "code",
      "metadata": {
        "id": "reU3LLQLTvQ7",
        "colab": {
          "base_uri": "https://localhost:8080/"
        },
        "outputId": "ffbfacd2-59b4-4060-d4c9-d482a54cbd65"
      },
      "source": [
        "input_shape = X[0].shape\n",
        "output_shape = y[0].shape\n",
        "input_shape, output_shape"
      ],
      "execution_count": 9,
      "outputs": [
        {
          "output_type": "execute_result",
          "data": {
            "text/plain": [
              "(TensorShape([]), TensorShape([]))"
            ]
          },
          "metadata": {
            "tags": []
          },
          "execution_count": 9
        }
      ]
    },
    {
      "cell_type": "code",
      "metadata": {
        "id": "LwVe6aA-TzRL",
        "colab": {
          "base_uri": "https://localhost:8080/",
          "height": 286
        },
        "outputId": "d73a9863-c279-4d1a-ec70-b3b0aa0d6700"
      },
      "source": [
        "plt.scatter(X,y)"
      ],
      "execution_count": 10,
      "outputs": [
        {
          "output_type": "execute_result",
          "data": {
            "text/plain": [
              "<matplotlib.collections.PathCollection at 0x7f8d33d0e290>"
            ]
          },
          "metadata": {
            "tags": []
          },
          "execution_count": 10
        },
        {
          "output_type": "display_data",
          "data": {
            "image/png": "[encoded data removed]",
            "text/plain": [
              "<Figure size 432x288 with 1 Axes>"
            ]
          },
          "metadata": {
            "tags": [],
            "needs_background": "light"
          }
        }
      ]
    },
    {
      "cell_type": "markdown",
      "metadata": {
        "id": "mRUedKr8UCA0"
      },
      "source": [
        "## Steps in modelling with Tensorflow\n",
        "\n",
        "1. **Creating  a model** - define the input and output layers, as well as the hidden layers of a deep learning model.\n",
        "\n",
        "2. **Compiling a model** - define the loss function (in other words, the function which tells our model how wrong ir is) and the optimizer (tells our model how to improve the patterbs its learning) and evaluation metrics ( what we can use to interpret the performance of our model).\n",
        "\n",
        "3. **Fitting a model** - letting the model try to find patterns between X & y(Features labels)"
      ]
    },
    {
      "cell_type": "code",
      "metadata": {
        "id": "AOf4sMPsUIjh",
        "colab": {
          "base_uri": "https://localhost:8080/"
        },
        "outputId": "86a90589-ab63-4e95-8d6c-bfbcd8a474c2"
      },
      "source": [
        "# set random seed\n",
        "tf.random.set_seed(42)\n",
        "\n",
        "# 1. Create a model using the Sequential API\n",
        "model = tf.keras.Sequential([tf.keras.layers.Dense(1)\n",
        "])\n",
        "# 2. Compile the model\n",
        "model.compile(loss= tf.keras.losses.mae,\n",
        "              optimizer = tf.keras.optimizers.SGD(),\n",
        "              metrics=[\"mae\"])\n",
        "# 3. Fit the model\n",
        "model.fit(X, y, epochs=5)\n"
      ],
      "execution_count": 11,
      "outputs": [
        {
          "output_type": "stream",
          "text": [
            "Epoch 1/5\n",
            "1/1 [==============================] - 1s 534ms/step - loss: 11.5048 - mae: 11.5048\n",
            "Epoch 2/5\n",
            "1/1 [==============================] - 0s 3ms/step - loss: 11.3723 - mae: 11.3723\n",
            "Epoch 3/5\n",
            "1/1 [==============================] - 0s 4ms/step - loss: 11.2398 - mae: 11.2398\n",
            "Epoch 4/5\n",
            "1/1 [==============================] - 0s 6ms/step - loss: 11.1073 - mae: 11.1073\n",
            "Epoch 5/5\n",
            "1/1 [==============================] - 0s 5ms/step - loss: 10.9748 - mae: 10.9748\n"
          ],
          "name": "stdout"
        },
        {
          "output_type": "execute_result",
          "data": {
            "text/plain": [
              "<tensorflow.python.keras.callbacks.History at 0x7f8d33d22090>"
            ]
          },
          "metadata": {
            "tags": []
          },
          "execution_count": 11
        }
      ]
    },
    {
      "cell_type": "code",
      "metadata": {
        "id": "p4iVFb6zYpnj",
        "colab": {
          "base_uri": "https://localhost:8080/"
        },
        "outputId": "a8d905e8-8827-42b1-dfcb-6992dff9fce5"
      },
      "source": [
        "# Check out X and y\n",
        "X,y"
      ],
      "execution_count": 12,
      "outputs": [
        {
          "output_type": "execute_result",
          "data": {
            "text/plain": [
              "(<tf.Tensor: shape=(8,), dtype=float32, numpy=array([-7., -4., -1.,  2.,  5.,  8., 11., 14.], dtype=float32)>,\n",
              " <tf.Tensor: shape=(8,), dtype=float32, numpy=array([ 3.,  6.,  9., 12., 15., 18., 21., 24.], dtype=float32)>)"
            ]
          },
          "metadata": {
            "tags": []
          },
          "execution_count": 12
        }
      ]
    },
    {
      "cell_type": "code",
      "metadata": {
        "id": "znADNtHmZrGh",
        "colab": {
          "base_uri": "https://localhost:8080/"
        },
        "outputId": "4ffddf26-5d27-4de9-dfb2-d3a9de4e40c0"
      },
      "source": [
        "# Try and make a prediction using our model\n",
        "y_pred = model.predict([17.0])\n",
        "y_pred"
      ],
      "execution_count": 13,
      "outputs": [
        {
          "output_type": "execute_result",
          "data": {
            "text/plain": [
              "array([[12.716021]], dtype=float32)"
            ]
          },
          "metadata": {
            "tags": []
          },
          "execution_count": 13
        }
      ]
    },
    {
      "cell_type": "markdown",
      "metadata": {
        "id": "qk4lNID4Z0r4"
      },
      "source": [
        "## Improving our model performance\n",
        "\n",
        "We can improve our model , by aaltering the steps we took to create a model.\n",
        "\n",
        "1.**Creating a model** - here we might ass more layers, to increase the number of hidden units (all called neurons) within each of the hidden layers, change the activation function of each layer.\n",
        "\n",
        "2.**Compiling a model** - here we might change the optimization function or perhaps the **learning rate** of the optimization function.\n",
        "\n",
        "3.**Fitting a model** - here we might fit a model for more **epochs** (leave it training for longer) or on more data (give the model more example to learn form)"
      ]
    },
    {
      "cell_type": "code",
      "metadata": {
        "id": "mOknqZElaR4k",
        "colab": {
          "base_uri": "https://localhost:8080/"
        },
        "outputId": "db96dd13-13cf-465b-edda-1953a675719c"
      },
      "source": [
        "# Let's rebuild our model\n",
        "\n",
        "# 1. Create the moddel\n",
        "model = tf.keras.Sequential([\n",
        "                             tf.keras.layers.Dense(1)\n",
        "                             ])\n",
        "# 2. Compile the model\n",
        "model.compile(loss=tf.keras.losses.mae,\n",
        "              optimizer=tf.keras.optimizers.SGD(),metrics=['mae'])\n",
        "\n",
        "#3. Fitting our model (This time we will train for longer)\n",
        "model.fit(X,y, epochs=100)"
      ],
      "execution_count": 14,
      "outputs": [
        {
          "output_type": "stream",
          "text": [
            "Epoch 1/100\n",
            "1/1 [==============================] - 0s 265ms/step - loss: 11.2219 - mae: 11.2219\n",
            "Epoch 2/100\n",
            "1/1 [==============================] - 0s 5ms/step - loss: 11.0894 - mae: 11.0894\n",
            "Epoch 3/100\n",
            "1/1 [==============================] - 0s 4ms/step - loss: 10.9569 - mae: 10.9569\n",
            "Epoch 4/100\n",
            "1/1 [==============================] - 0s 8ms/step - loss: 10.8244 - mae: 10.8244\n",
            "Epoch 5/100\n",
            "1/1 [==============================] - 0s 8ms/step - loss: 10.6919 - mae: 10.6919\n",
            "Epoch 6/100\n",
            "1/1 [==============================] - 0s 6ms/step - loss: 10.5594 - mae: 10.5594\n",
            "Epoch 7/100\n",
            "1/1 [==============================] - 0s 6ms/step - loss: 10.4269 - mae: 10.4269\n",
            "Epoch 8/100\n",
            "1/1 [==============================] - 0s 4ms/step - loss: 10.2944 - mae: 10.2944\n",
            "Epoch 9/100\n",
            "1/1 [==============================] - 0s 4ms/step - loss: 10.1619 - mae: 10.1619\n",
            "Epoch 10/100\n",
            "1/1 [==============================] - 0s 5ms/step - loss: 10.0294 - mae: 10.0294\n",
            "Epoch 11/100\n",
            "1/1 [==============================] - 0s 4ms/step - loss: 9.8969 - mae: 9.8969\n",
            "Epoch 12/100\n",
            "1/1 [==============================] - 0s 3ms/step - loss: 9.7644 - mae: 9.7644\n",
            "Epoch 13/100\n",
            "1/1 [==============================] - 0s 5ms/step - loss: 9.6319 - mae: 9.6319\n",
            "Epoch 14/100\n",
            "1/1 [==============================] - 0s 4ms/step - loss: 9.4994 - mae: 9.4994\n",
            "Epoch 15/100\n",
            "1/1 [==============================] - 0s 4ms/step - loss: 9.3669 - mae: 9.3669\n",
            "Epoch 16/100\n",
            "1/1 [==============================] - 0s 7ms/step - loss: 9.2344 - mae: 9.2344\n",
            "Epoch 17/100\n",
            "1/1 [==============================] - 0s 3ms/step - loss: 9.1019 - mae: 9.1019\n",
            "Epoch 18/100\n",
            "1/1 [==============================] - 0s 6ms/step - loss: 8.9694 - mae: 8.9694\n",
            "Epoch 19/100\n",
            "1/1 [==============================] - 0s 4ms/step - loss: 8.8369 - mae: 8.8369\n",
            "Epoch 20/100\n",
            "1/1 [==============================] - 0s 4ms/step - loss: 8.7044 - mae: 8.7044\n",
            "Epoch 21/100\n",
            "1/1 [==============================] - 0s 4ms/step - loss: 8.5719 - mae: 8.5719\n",
            "Epoch 22/100\n",
            "1/1 [==============================] - 0s 8ms/step - loss: 8.4394 - mae: 8.4394\n",
            "Epoch 23/100\n",
            "1/1 [==============================] - 0s 4ms/step - loss: 8.3069 - mae: 8.3069\n",
            "Epoch 24/100\n",
            "1/1 [==============================] - 0s 4ms/step - loss: 8.1744 - mae: 8.1744\n",
            "Epoch 25/100\n",
            "1/1 [==============================] - 0s 3ms/step - loss: 8.0419 - mae: 8.0419\n",
            "Epoch 26/100\n",
            "1/1 [==============================] - 0s 4ms/step - loss: 7.9094 - mae: 7.9094\n",
            "Epoch 27/100\n",
            "1/1 [==============================] - 0s 7ms/step - loss: 7.7769 - mae: 7.7769\n",
            "Epoch 28/100\n",
            "1/1 [==============================] - 0s 5ms/step - loss: 7.6444 - mae: 7.6444\n",
            "Epoch 29/100\n",
            "1/1 [==============================] - 0s 4ms/step - loss: 7.5119 - mae: 7.5119\n",
            "Epoch 30/100\n",
            "1/1 [==============================] - 0s 5ms/step - loss: 7.3794 - mae: 7.3794\n",
            "Epoch 31/100\n",
            "1/1 [==============================] - 0s 4ms/step - loss: 7.2750 - mae: 7.2750\n",
            "Epoch 32/100\n",
            "1/1 [==============================] - 0s 4ms/step - loss: 7.2694 - mae: 7.2694\n",
            "Epoch 33/100\n",
            "1/1 [==============================] - 0s 4ms/step - loss: 7.2638 - mae: 7.2638\n",
            "Epoch 34/100\n",
            "1/1 [==============================] - 0s 4ms/step - loss: 7.2581 - mae: 7.2581\n",
            "Epoch 35/100\n",
            "1/1 [==============================] - 0s 5ms/step - loss: 7.2525 - mae: 7.2525\n",
            "Epoch 36/100\n",
            "1/1 [==============================] - 0s 3ms/step - loss: 7.2469 - mae: 7.2469\n",
            "Epoch 37/100\n",
            "1/1 [==============================] - 0s 4ms/step - loss: 7.2412 - mae: 7.2412\n",
            "Epoch 38/100\n",
            "1/1 [==============================] - 0s 5ms/step - loss: 7.2356 - mae: 7.2356\n",
            "Epoch 39/100\n",
            "1/1 [==============================] - 0s 4ms/step - loss: 7.2300 - mae: 7.2300\n",
            "Epoch 40/100\n",
            "1/1 [==============================] - 0s 4ms/step - loss: 7.2244 - mae: 7.2244\n",
            "Epoch 41/100\n",
            "1/1 [==============================] - 0s 4ms/step - loss: 7.2188 - mae: 7.2188\n",
            "Epoch 42/100\n",
            "1/1 [==============================] - 0s 4ms/step - loss: 7.2131 - mae: 7.2131\n",
            "Epoch 43/100\n",
            "1/1 [==============================] - 0s 4ms/step - loss: 7.2075 - mae: 7.2075\n",
            "Epoch 44/100\n",
            "1/1 [==============================] - 0s 3ms/step - loss: 7.2019 - mae: 7.2019\n",
            "Epoch 45/100\n",
            "1/1 [==============================] - 0s 4ms/step - loss: 7.1962 - mae: 7.1962\n",
            "Epoch 46/100\n",
            "1/1 [==============================] - 0s 4ms/step - loss: 7.1906 - mae: 7.1906\n",
            "Epoch 47/100\n",
            "1/1 [==============================] - 0s 6ms/step - loss: 7.1850 - mae: 7.1850\n",
            "Epoch 48/100\n",
            "1/1 [==============================] - 0s 4ms/step - loss: 7.1794 - mae: 7.1794\n",
            "Epoch 49/100\n",
            "1/1 [==============================] - 0s 4ms/step - loss: 7.1737 - mae: 7.1737\n",
            "Epoch 50/100\n",
            "1/1 [==============================] - 0s 4ms/step - loss: 7.1681 - mae: 7.1681\n",
            "Epoch 51/100\n",
            "1/1 [==============================] - 0s 4ms/step - loss: 7.1625 - mae: 7.1625\n",
            "Epoch 52/100\n",
            "1/1 [==============================] - 0s 4ms/step - loss: 7.1569 - mae: 7.1569\n",
            "Epoch 53/100\n",
            "1/1 [==============================] - 0s 4ms/step - loss: 7.1512 - mae: 7.1512\n",
            "Epoch 54/100\n",
            "1/1 [==============================] - 0s 4ms/step - loss: 7.1456 - mae: 7.1456\n",
            "Epoch 55/100\n",
            "1/1 [==============================] - 0s 4ms/step - loss: 7.1400 - mae: 7.1400\n",
            "Epoch 56/100\n",
            "1/1 [==============================] - 0s 6ms/step - loss: 7.1344 - mae: 7.1344\n",
            "Epoch 57/100\n",
            "1/1 [==============================] - 0s 4ms/step - loss: 7.1287 - mae: 7.1287\n",
            "Epoch 58/100\n",
            "1/1 [==============================] - 0s 3ms/step - loss: 7.1231 - mae: 7.1231\n",
            "Epoch 59/100\n",
            "1/1 [==============================] - 0s 3ms/step - loss: 7.1175 - mae: 7.1175\n",
            "Epoch 60/100\n",
            "1/1 [==============================] - 0s 4ms/step - loss: 7.1119 - mae: 7.1119\n",
            "Epoch 61/100\n",
            "1/1 [==============================] - 0s 6ms/step - loss: 7.1062 - mae: 7.1062\n",
            "Epoch 62/100\n",
            "1/1 [==============================] - 0s 5ms/step - loss: 7.1006 - mae: 7.1006\n",
            "Epoch 63/100\n",
            "1/1 [==============================] - 0s 4ms/step - loss: 7.0950 - mae: 7.0950\n",
            "Epoch 64/100\n",
            "1/1 [==============================] - 0s 6ms/step - loss: 7.0894 - mae: 7.0894\n",
            "Epoch 65/100\n",
            "1/1 [==============================] - 0s 5ms/step - loss: 7.0838 - mae: 7.0838\n",
            "Epoch 66/100\n",
            "1/1 [==============================] - 0s 8ms/step - loss: 7.0781 - mae: 7.0781\n",
            "Epoch 67/100\n",
            "1/1 [==============================] - 0s 6ms/step - loss: 7.0725 - mae: 7.0725\n",
            "Epoch 68/100\n",
            "1/1 [==============================] - 0s 4ms/step - loss: 7.0669 - mae: 7.0669\n",
            "Epoch 69/100\n",
            "1/1 [==============================] - 0s 6ms/step - loss: 7.0613 - mae: 7.0613\n",
            "Epoch 70/100\n",
            "1/1 [==============================] - 0s 4ms/step - loss: 7.0556 - mae: 7.0556\n",
            "Epoch 71/100\n",
            "1/1 [==============================] - 0s 7ms/step - loss: 7.0500 - mae: 7.0500\n",
            "Epoch 72/100\n",
            "1/1 [==============================] - 0s 5ms/step - loss: 7.0444 - mae: 7.0444\n",
            "Epoch 73/100\n",
            "1/1 [==============================] - 0s 14ms/step - loss: 7.0388 - mae: 7.0388\n",
            "Epoch 74/100\n",
            "1/1 [==============================] - 0s 5ms/step - loss: 7.0331 - mae: 7.0331\n",
            "Epoch 75/100\n",
            "1/1 [==============================] - 0s 6ms/step - loss: 7.0275 - mae: 7.0275\n",
            "Epoch 76/100\n",
            "1/1 [==============================] - 0s 6ms/step - loss: 7.0219 - mae: 7.0219\n",
            "Epoch 77/100\n",
            "1/1 [==============================] - 0s 6ms/step - loss: 7.0163 - mae: 7.0163\n",
            "Epoch 78/100\n",
            "1/1 [==============================] - 0s 6ms/step - loss: 7.0106 - mae: 7.0106\n",
            "Epoch 79/100\n",
            "1/1 [==============================] - 0s 6ms/step - loss: 7.0050 - mae: 7.0050\n",
            "Epoch 80/100\n",
            "1/1 [==============================] - 0s 4ms/step - loss: 6.9994 - mae: 6.9994\n",
            "Epoch 81/100\n",
            "1/1 [==============================] - 0s 5ms/step - loss: 6.9938 - mae: 6.9938\n",
            "Epoch 82/100\n",
            "1/1 [==============================] - 0s 7ms/step - loss: 6.9881 - mae: 6.9881\n",
            "Epoch 83/100\n",
            "1/1 [==============================] - 0s 7ms/step - loss: 6.9825 - mae: 6.9825\n",
            "Epoch 84/100\n",
            "1/1 [==============================] - 0s 6ms/step - loss: 6.9769 - mae: 6.9769\n",
            "Epoch 85/100\n",
            "1/1 [==============================] - 0s 5ms/step - loss: 6.9713 - mae: 6.9713\n",
            "Epoch 86/100\n",
            "1/1 [==============================] - 0s 5ms/step - loss: 6.9656 - mae: 6.9656\n",
            "Epoch 87/100\n",
            "1/1 [==============================] - 0s 4ms/step - loss: 6.9600 - mae: 6.9600\n",
            "Epoch 88/100\n",
            "1/1 [==============================] - 0s 17ms/step - loss: 6.9544 - mae: 6.9544\n",
            "Epoch 89/100\n",
            "1/1 [==============================] - 0s 7ms/step - loss: 6.9488 - mae: 6.9488\n",
            "Epoch 90/100\n",
            "1/1 [==============================] - 0s 9ms/step - loss: 6.9431 - mae: 6.9431\n",
            "Epoch 91/100\n",
            "1/1 [==============================] - 0s 6ms/step - loss: 6.9375 - mae: 6.9375\n",
            "Epoch 92/100\n",
            "1/1 [==============================] - 0s 6ms/step - loss: 6.9319 - mae: 6.9319\n",
            "Epoch 93/100\n",
            "1/1 [==============================] - 0s 4ms/step - loss: 6.9263 - mae: 6.9263\n",
            "Epoch 94/100\n",
            "1/1 [==============================] - 0s 6ms/step - loss: 6.9206 - mae: 6.9206\n",
            "Epoch 95/100\n",
            "1/1 [==============================] - 0s 4ms/step - loss: 6.9150 - mae: 6.9150\n",
            "Epoch 96/100\n",
            "1/1 [==============================] - 0s 4ms/step - loss: 6.9094 - mae: 6.9094\n",
            "Epoch 97/100\n",
            "1/1 [==============================] - 0s 4ms/step - loss: 6.9038 - mae: 6.9038\n",
            "Epoch 98/100\n",
            "1/1 [==============================] - 0s 11ms/step - loss: 6.8981 - mae: 6.8981\n",
            "Epoch 99/100\n",
            "1/1 [==============================] - 0s 4ms/step - loss: 6.8925 - mae: 6.8925\n",
            "Epoch 100/100\n",
            "1/1 [==============================] - 0s 4ms/step - loss: 6.8869 - mae: 6.8869\n"
          ],
          "name": "stdout"
        },
        {
          "output_type": "execute_result",
          "data": {
            "text/plain": [
              "<tensorflow.python.keras.callbacks.History at 0x7f8d2f6779d0>"
            ]
          },
          "metadata": {
            "tags": []
          },
          "execution_count": 14
        }
      ]
    },
    {
      "cell_type": "code",
      "metadata": {
        "id": "-KHDug3IlykL",
        "colab": {
          "base_uri": "https://localhost:8080/"
        },
        "outputId": "3784b8a7-a556-40ff-e5a3-278c3e5f6bb1"
      },
      "source": [
        "# Remind ourself of the data\n",
        "X, y \n"
      ],
      "execution_count": 15,
      "outputs": [
        {
          "output_type": "execute_result",
          "data": {
            "text/plain": [
              "(<tf.Tensor: shape=(8,), dtype=float32, numpy=array([-7., -4., -1.,  2.,  5.,  8., 11., 14.], dtype=float32)>,\n",
              " <tf.Tensor: shape=(8,), dtype=float32, numpy=array([ 3.,  6.,  9., 12., 15., 18., 21., 24.], dtype=float32)>)"
            ]
          },
          "metadata": {
            "tags": []
          },
          "execution_count": 15
        }
      ]
    },
    {
      "cell_type": "code",
      "metadata": {
        "id": "be6phHIRqoiQ",
        "colab": {
          "base_uri": "https://localhost:8080/"
        },
        "outputId": "35bfb12f-670d-4108-93fc-afa1ad8e323c"
      },
      "source": [
        "# Let's see if our model's  performance has improved..\n",
        "model.predict([17.0])"
      ],
      "execution_count": 16,
      "outputs": [
        {
          "output_type": "execute_result",
          "data": {
            "text/plain": [
              "array([[29.739855]], dtype=float32)"
            ]
          },
          "metadata": {
            "tags": []
          },
          "execution_count": 16
        }
      ]
    },
    {
      "cell_type": "code",
      "metadata": {
        "id": "eggXHWuPq0a_",
        "colab": {
          "base_uri": "https://localhost:8080/"
        },
        "outputId": "65720a68-edca-408e-feec-23d20635d5a4"
      },
      "source": [
        "# Let's see if we  can make another to improve our model\n",
        "# 1. Create the moddel\n",
        "model = tf.keras.Sequential(\n",
        "    [tf.keras.layers.Dense(50 , activation=None),\n",
        "    tf.keras.layers.Dense(1)\n",
        "    ])\n",
        "# 2. Compile the model\n",
        "model.compile(loss=\"mae\",\n",
        "              optimizer=tf.keras.optimizers.Adam(learning_rate=0.01),metrics=['mae'])\n",
        "\n",
        "#3. Fitting our model (This time we will train for longer)\n",
        "model.fit(X,y, epochs=100)"
      ],
      "execution_count": 17,
      "outputs": [
        {
          "output_type": "stream",
          "text": [
            "Epoch 1/100\n",
            "1/1 [==============================] - 0s 358ms/step - loss: 11.7682 - mae: 11.7682\n",
            "Epoch 2/100\n",
            "1/1 [==============================] - 0s 7ms/step - loss: 11.0963 - mae: 11.0963\n",
            "Epoch 3/100\n",
            "1/1 [==============================] - 0s 7ms/step - loss: 10.4150 - mae: 10.4150\n",
            "Epoch 4/100\n",
            "1/1 [==============================] - 0s 9ms/step - loss: 9.7212 - mae: 9.7212\n",
            "Epoch 5/100\n",
            "1/1 [==============================] - 0s 9ms/step - loss: 9.0104 - mae: 9.0104\n",
            "Epoch 6/100\n",
            "1/1 [==============================] - 0s 7ms/step - loss: 8.2778 - mae: 8.2778\n",
            "Epoch 7/100\n",
            "1/1 [==============================] - 0s 3ms/step - loss: 7.5198 - mae: 7.5198\n",
            "Epoch 8/100\n",
            "1/1 [==============================] - 0s 7ms/step - loss: 6.9648 - mae: 6.9648\n",
            "Epoch 9/100\n",
            "1/1 [==============================] - 0s 5ms/step - loss: 7.0672 - mae: 7.0672\n",
            "Epoch 10/100\n",
            "1/1 [==============================] - 0s 7ms/step - loss: 7.3315 - mae: 7.3315\n",
            "Epoch 11/100\n",
            "1/1 [==============================] - 0s 5ms/step - loss: 7.4673 - mae: 7.4673\n",
            "Epoch 12/100\n",
            "1/1 [==============================] - 0s 4ms/step - loss: 7.5285 - mae: 7.5285\n",
            "Epoch 13/100\n",
            "1/1 [==============================] - 0s 4ms/step - loss: 7.4011 - mae: 7.4011\n",
            "Epoch 14/100\n",
            "1/1 [==============================] - 0s 5ms/step - loss: 7.1923 - mae: 7.1923\n",
            "Epoch 15/100\n",
            "1/1 [==============================] - 0s 3ms/step - loss: 6.9575 - mae: 6.9575\n",
            "Epoch 16/100\n",
            "1/1 [==============================] - 0s 4ms/step - loss: 6.6953 - mae: 6.6953\n",
            "Epoch 17/100\n",
            "1/1 [==============================] - 0s 5ms/step - loss: 6.4127 - mae: 6.4127\n",
            "Epoch 18/100\n",
            "1/1 [==============================] - 0s 4ms/step - loss: 6.3048 - mae: 6.3048\n",
            "Epoch 19/100\n",
            "1/1 [==============================] - 0s 3ms/step - loss: 6.2575 - mae: 6.2575\n",
            "Epoch 20/100\n",
            "1/1 [==============================] - 0s 3ms/step - loss: 6.3982 - mae: 6.3982\n",
            "Epoch 21/100\n",
            "1/1 [==============================] - 0s 6ms/step - loss: 6.4551 - mae: 6.4551\n",
            "Epoch 22/100\n",
            "1/1 [==============================] - 0s 4ms/step - loss: 6.4000 - mae: 6.4000\n",
            "Epoch 23/100\n",
            "1/1 [==============================] - 0s 3ms/step - loss: 6.2482 - mae: 6.2482\n",
            "Epoch 24/100\n",
            "1/1 [==============================] - 0s 3ms/step - loss: 6.0105 - mae: 6.0105\n",
            "Epoch 25/100\n",
            "1/1 [==============================] - 0s 4ms/step - loss: 5.7876 - mae: 5.7876\n",
            "Epoch 26/100\n",
            "1/1 [==============================] - 0s 5ms/step - loss: 5.6809 - mae: 5.6809\n",
            "Epoch 27/100\n",
            "1/1 [==============================] - 0s 5ms/step - loss: 5.5715 - mae: 5.5715\n",
            "Epoch 28/100\n",
            "1/1 [==============================] - 0s 3ms/step - loss: 5.6122 - mae: 5.6122\n",
            "Epoch 29/100\n",
            "1/1 [==============================] - 0s 6ms/step - loss: 5.6074 - mae: 5.6074\n",
            "Epoch 30/100\n",
            "1/1 [==============================] - 0s 6ms/step - loss: 5.5541 - mae: 5.5541\n",
            "Epoch 31/100\n",
            "1/1 [==============================] - 0s 3ms/step - loss: 5.4568 - mae: 5.4568\n",
            "Epoch 32/100\n",
            "1/1 [==============================] - 0s 5ms/step - loss: 5.3199 - mae: 5.3199\n",
            "Epoch 33/100\n",
            "1/1 [==============================] - 0s 6ms/step - loss: 5.1477 - mae: 5.1477\n",
            "Epoch 34/100\n",
            "1/1 [==============================] - 0s 7ms/step - loss: 4.9442 - mae: 4.9442\n",
            "Epoch 35/100\n",
            "1/1 [==============================] - 0s 9ms/step - loss: 4.8239 - mae: 4.8239\n",
            "Epoch 36/100\n",
            "1/1 [==============================] - 0s 4ms/step - loss: 4.7389 - mae: 4.7389\n",
            "Epoch 37/100\n",
            "1/1 [==============================] - 0s 11ms/step - loss: 4.6657 - mae: 4.6657\n",
            "Epoch 38/100\n",
            "1/1 [==============================] - 0s 6ms/step - loss: 4.5846 - mae: 4.5846\n",
            "Epoch 39/100\n",
            "1/1 [==============================] - 0s 5ms/step - loss: 4.4027 - mae: 4.4027\n",
            "Epoch 40/100\n",
            "1/1 [==============================] - 0s 6ms/step - loss: 4.2653 - mae: 4.2653\n",
            "Epoch 41/100\n",
            "1/1 [==============================] - 0s 6ms/step - loss: 4.1212 - mae: 4.1212\n",
            "Epoch 42/100\n",
            "1/1 [==============================] - 0s 5ms/step - loss: 3.9702 - mae: 3.9702\n",
            "Epoch 43/100\n",
            "1/1 [==============================] - 0s 6ms/step - loss: 3.8272 - mae: 3.8272\n",
            "Epoch 44/100\n",
            "1/1 [==============================] - 0s 4ms/step - loss: 3.7041 - mae: 3.7041\n",
            "Epoch 45/100\n",
            "1/1 [==============================] - 0s 7ms/step - loss: 3.5320 - mae: 3.5320\n",
            "Epoch 46/100\n",
            "1/1 [==============================] - 0s 6ms/step - loss: 3.3664 - mae: 3.3664\n",
            "Epoch 47/100\n",
            "1/1 [==============================] - 0s 6ms/step - loss: 3.2116 - mae: 3.2116\n",
            "Epoch 48/100\n",
            "1/1 [==============================] - 0s 7ms/step - loss: 3.0463 - mae: 3.0463\n",
            "Epoch 49/100\n",
            "1/1 [==============================] - 0s 6ms/step - loss: 2.8705 - mae: 2.8705\n",
            "Epoch 50/100\n",
            "1/1 [==============================] - 0s 6ms/step - loss: 2.6840 - mae: 2.6840\n",
            "Epoch 51/100\n",
            "1/1 [==============================] - 0s 5ms/step - loss: 2.4868 - mae: 2.4868\n",
            "Epoch 52/100\n",
            "1/1 [==============================] - 0s 6ms/step - loss: 2.2787 - mae: 2.2787\n",
            "Epoch 53/100\n",
            "1/1 [==============================] - 0s 7ms/step - loss: 2.0596 - mae: 2.0596\n",
            "Epoch 54/100\n",
            "1/1 [==============================] - 0s 6ms/step - loss: 1.8293 - mae: 1.8293\n",
            "Epoch 55/100\n",
            "1/1 [==============================] - 0s 7ms/step - loss: 1.5876 - mae: 1.5876\n",
            "Epoch 56/100\n",
            "1/1 [==============================] - 0s 7ms/step - loss: 1.3530 - mae: 1.3530\n",
            "Epoch 57/100\n",
            "1/1 [==============================] - 0s 6ms/step - loss: 1.0849 - mae: 1.0849\n",
            "Epoch 58/100\n",
            "1/1 [==============================] - 0s 5ms/step - loss: 0.8224 - mae: 0.8224\n",
            "Epoch 59/100\n",
            "1/1 [==============================] - 0s 6ms/step - loss: 0.5467 - mae: 0.5467\n",
            "Epoch 60/100\n",
            "1/1 [==============================] - 0s 6ms/step - loss: 0.2758 - mae: 0.2758\n",
            "Epoch 61/100\n",
            "1/1 [==============================] - 0s 6ms/step - loss: 0.1354 - mae: 0.1354\n",
            "Epoch 62/100\n",
            "1/1 [==============================] - 0s 5ms/step - loss: 0.4494 - mae: 0.4494\n",
            "Epoch 63/100\n",
            "1/1 [==============================] - 0s 6ms/step - loss: 0.6498 - mae: 0.6498\n",
            "Epoch 64/100\n",
            "1/1 [==============================] - 0s 5ms/step - loss: 0.6216 - mae: 0.6216\n",
            "Epoch 65/100\n",
            "1/1 [==============================] - 0s 5ms/step - loss: 0.8036 - mae: 0.8036\n",
            "Epoch 66/100\n",
            "1/1 [==============================] - 0s 7ms/step - loss: 0.7995 - mae: 0.7995\n",
            "Epoch 67/100\n",
            "1/1 [==============================] - 0s 6ms/step - loss: 0.7409 - mae: 0.7409\n",
            "Epoch 68/100\n",
            "1/1 [==============================] - 0s 4ms/step - loss: 0.7806 - mae: 0.7806\n",
            "Epoch 69/100\n",
            "1/1 [==============================] - 0s 6ms/step - loss: 0.6305 - mae: 0.6305\n",
            "Epoch 70/100\n",
            "1/1 [==============================] - 0s 5ms/step - loss: 0.5556 - mae: 0.5556\n",
            "Epoch 71/100\n",
            "1/1 [==============================] - 0s 5ms/step - loss: 0.4306 - mae: 0.4306\n",
            "Epoch 72/100\n",
            "1/1 [==============================] - 0s 7ms/step - loss: 0.2786 - mae: 0.2786\n",
            "Epoch 73/100\n",
            "1/1 [==============================] - 0s 13ms/step - loss: 0.1378 - mae: 0.1378\n",
            "Epoch 74/100\n",
            "1/1 [==============================] - 0s 6ms/step - loss: 0.1193 - mae: 0.1193\n",
            "Epoch 75/100\n",
            "1/1 [==============================] - 0s 4ms/step - loss: 0.2777 - mae: 0.2777\n",
            "Epoch 76/100\n",
            "1/1 [==============================] - 0s 6ms/step - loss: 0.3245 - mae: 0.3245\n",
            "Epoch 77/100\n",
            "1/1 [==============================] - 0s 4ms/step - loss: 0.4157 - mae: 0.4157\n",
            "Epoch 78/100\n",
            "1/1 [==============================] - 0s 4ms/step - loss: 0.4319 - mae: 0.4319\n",
            "Epoch 79/100\n",
            "1/1 [==============================] - 0s 5ms/step - loss: 0.3391 - mae: 0.3391\n",
            "Epoch 80/100\n",
            "1/1 [==============================] - 0s 9ms/step - loss: 0.2968 - mae: 0.2968\n",
            "Epoch 81/100\n",
            "1/1 [==============================] - 0s 4ms/step - loss: 0.2355 - mae: 0.2355\n",
            "Epoch 82/100\n",
            "1/1 [==============================] - 0s 6ms/step - loss: 0.1633 - mae: 0.1633\n",
            "Epoch 83/100\n",
            "1/1 [==============================] - 0s 5ms/step - loss: 0.1339 - mae: 0.1339\n",
            "Epoch 84/100\n",
            "1/1 [==============================] - 0s 6ms/step - loss: 0.1262 - mae: 0.1262\n",
            "Epoch 85/100\n",
            "1/1 [==============================] - 0s 4ms/step - loss: 0.1702 - mae: 0.1702\n",
            "Epoch 86/100\n",
            "1/1 [==============================] - 0s 6ms/step - loss: 0.2124 - mae: 0.2124\n",
            "Epoch 87/100\n",
            "1/1 [==============================] - 0s 4ms/step - loss: 0.2288 - mae: 0.2288\n",
            "Epoch 88/100\n",
            "1/1 [==============================] - 0s 21ms/step - loss: 0.1901 - mae: 0.1901\n",
            "Epoch 89/100\n",
            "1/1 [==============================] - 0s 7ms/step - loss: 0.1354 - mae: 0.1354\n",
            "Epoch 90/100\n",
            "1/1 [==============================] - 0s 4ms/step - loss: 0.1218 - mae: 0.1218\n",
            "Epoch 91/100\n",
            "1/1 [==============================] - 0s 4ms/step - loss: 0.0382 - mae: 0.0382\n",
            "Epoch 92/100\n",
            "1/1 [==============================] - 0s 9ms/step - loss: 0.2197 - mae: 0.2197\n",
            "Epoch 93/100\n",
            "1/1 [==============================] - 0s 4ms/step - loss: 0.2189 - mae: 0.2189\n",
            "Epoch 94/100\n",
            "1/1 [==============================] - 0s 6ms/step - loss: 0.1427 - mae: 0.1427\n",
            "Epoch 95/100\n",
            "1/1 [==============================] - 0s 4ms/step - loss: 0.1168 - mae: 0.1168\n",
            "Epoch 96/100\n",
            "1/1 [==============================] - 0s 9ms/step - loss: 0.2069 - mae: 0.2069\n",
            "Epoch 97/100\n",
            "1/1 [==============================] - 0s 49ms/step - loss: 0.1524 - mae: 0.1524\n",
            "Epoch 98/100\n",
            "1/1 [==============================] - 0s 8ms/step - loss: 0.2133 - mae: 0.2133\n",
            "Epoch 99/100\n",
            "1/1 [==============================] - 0s 4ms/step - loss: 0.2329 - mae: 0.2329\n",
            "Epoch 100/100\n",
            "1/1 [==============================] - 0s 6ms/step - loss: 0.0780 - mae: 0.0780\n"
          ],
          "name": "stdout"
        },
        {
          "output_type": "execute_result",
          "data": {
            "text/plain": [
              "<tensorflow.python.keras.callbacks.History at 0x7f8d2dd46a90>"
            ]
          },
          "metadata": {
            "tags": []
          },
          "execution_count": 17
        }
      ]
    },
    {
      "cell_type": "code",
      "metadata": {
        "id": "Hz6l5Gaih2q8",
        "colab": {
          "base_uri": "https://localhost:8080/"
        },
        "outputId": "581f0b97-e343-43fc-feeb-41e8a7e05145"
      },
      "source": [
        "# Let's see if our model's  performance has improved..\n",
        "model.predict([17.0])"
      ],
      "execution_count": 18,
      "outputs": [
        {
          "output_type": "execute_result",
          "data": {
            "text/plain": [
              "array([[26.58353]], dtype=float32)"
            ]
          },
          "metadata": {
            "tags": []
          },
          "execution_count": 18
        }
      ]
    },
    {
      "cell_type": "markdown",
      "metadata": {
        "id": "9zfijR-4h9Vp"
      },
      "source": [
        "## Evaluating a Model\n",
        "\n",
        "In practice, a typical workflow you'll go through when building neural networks is:\n",
        "\n",
        "```\n",
        "\n",
        "Build a modle -> fit it -> evaluate it -> tweak a model -> fit it-> evaluate i -> tweak a model -> fit it -> evaluate it........\n",
        "\n",
        "```"
      ]
    },
    {
      "cell_type": "markdown",
      "metadata": {
        "id": "-Yru1b0xl6w8"
      },
      "source": [
        "# When it comes to evaluation... there are 3 words we should memorize:\n",
        "> \"Visualize, visualize, Visualize\"\n",
        "\n",
        "It's a good idea to visualize:\n",
        "* The data - What data are working with? What does it look like?\n",
        "* The model itself - What does our model look like?\n",
        "* The training of a model - jow does a model perform while it learns?\n",
        "* The predictions of the model - how do the predictions of a model line up against the grounfd truth (the original labels)?"
      ]
    },
    {
      "cell_type": "code",
      "metadata": {
        "id": "AEU5hT_MnwXe",
        "colab": {
          "base_uri": "https://localhost:8080/"
        },
        "outputId": "f80420e7-8c6f-4c7b-a9e4-997f9e5d88ae"
      },
      "source": [
        "# make a bigger dataset\n",
        "X = tf.range(-100,100,4)\n",
        "X"
      ],
      "execution_count": 19,
      "outputs": [
        {
          "output_type": "execute_result",
          "data": {
            "text/plain": [
              "<tf.Tensor: shape=(50,), dtype=int32, numpy=\n",
              "array([-100,  -96,  -92,  -88,  -84,  -80,  -76,  -72,  -68,  -64,  -60,\n",
              "        -56,  -52,  -48,  -44,  -40,  -36,  -32,  -28,  -24,  -20,  -16,\n",
              "        -12,   -8,   -4,    0,    4,    8,   12,   16,   20,   24,   28,\n",
              "         32,   36,   40,   44,   48,   52,   56,   60,   64,   68,   72,\n",
              "         76,   80,   84,   88,   92,   96], dtype=int32)>"
            ]
          },
          "metadata": {
            "tags": []
          },
          "execution_count": 19
        }
      ]
    },
    {
      "cell_type": "code",
      "metadata": {
        "id": "JbYOthXqn3jP",
        "colab": {
          "base_uri": "https://localhost:8080/"
        },
        "outputId": "156dc6ea-42d5-4891-c50c-949c99f45cfc"
      },
      "source": [
        "# make labels for the dataset\n",
        "y = X + 10\n",
        "y"
      ],
      "execution_count": 20,
      "outputs": [
        {
          "output_type": "execute_result",
          "data": {
            "text/plain": [
              "<tf.Tensor: shape=(50,), dtype=int32, numpy=\n",
              "array([-90, -86, -82, -78, -74, -70, -66, -62, -58, -54, -50, -46, -42,\n",
              "       -38, -34, -30, -26, -22, -18, -14, -10,  -6,  -2,   2,   6,  10,\n",
              "        14,  18,  22,  26,  30,  34,  38,  42,  46,  50,  54,  58,  62,\n",
              "        66,  70,  74,  78,  82,  86,  90,  94,  98, 102, 106], dtype=int32)>"
            ]
          },
          "metadata": {
            "tags": []
          },
          "execution_count": 20
        }
      ]
    },
    {
      "cell_type": "code",
      "metadata": {
        "id": "Hz6ufP1JoBmr",
        "colab": {
          "base_uri": "https://localhost:8080/",
          "height": 282
        },
        "outputId": "68bef2ee-7203-4b15-c066-2c81ead18066"
      },
      "source": [
        "# Visualize the data \n",
        "import matplotlib.pyplot as plt\n",
        "plt.scatter(X, y)"
      ],
      "execution_count": 21,
      "outputs": [
        {
          "output_type": "execute_result",
          "data": {
            "text/plain": [
              "<matplotlib.collections.PathCollection at 0x7f8d2ae60350>"
            ]
          },
          "metadata": {
            "tags": []
          },
          "execution_count": 21
        },
        {
          "output_type": "display_data",
          "data": {
            "image/png": "[encoded data removed]",
            "text/plain": [
              "<Figure size 432x288 with 1 Axes>"
            ]
          },
          "metadata": {
            "tags": [],
            "needs_background": "light"
          }
        }
      ]
    },
    {
      "cell_type": "markdown",
      "metadata": {
        "id": "TFmZfzvToVvI"
      },
      "source": [
        "## The 3 sets..\n",
        "\n",
        "* **Training set** - the model learns fro this data, which is typically 70-80% of the total data we have available.\n",
        "* **Vaidation set** - the model gets tuned on this data, which is typically 10-15% of the data available.\n",
        "* **Test set** - the model gets evaluated on this data to test what it has learned, this set is typically 10-15% of the total data available.\n"
      ]
    },
    {
      "cell_type": "code",
      "metadata": {
        "id": "lkNNBuM_yXDZ",
        "colab": {
          "base_uri": "https://localhost:8080/"
        },
        "outputId": "95a8d836-40dd-4987-e0b4-637b9171a5d7"
      },
      "source": [
        "# Check the length of how many samples we have\n",
        "len(X)"
      ],
      "execution_count": 22,
      "outputs": [
        {
          "output_type": "execute_result",
          "data": {
            "text/plain": [
              "50"
            ]
          },
          "metadata": {
            "tags": []
          },
          "execution_count": 22
        }
      ]
    },
    {
      "cell_type": "code",
      "metadata": {
        "id": "k8vSFo4nygmg",
        "colab": {
          "base_uri": "https://localhost:8080/"
        },
        "outputId": "acdcca55-f1f4-4989-83ed-445352378273"
      },
      "source": [
        "# Split the data into train and test set\n",
        "X_train = X[:40] # first 40 are training samples( 80% of the data) \n",
        "y_train = y[:40]\n",
        "X_test = X[40:] # last 10 are testing samples (20% of the data)\n",
        "y_test = y[40:]\n",
        "\n",
        "len(X_train), len(X_test), len(y_train),len(y_test)"
      ],
      "execution_count": 44,
      "outputs": [
        {
          "output_type": "execute_result",
          "data": {
            "text/plain": [
              "(40, 10, 40, 10)"
            ]
          },
          "metadata": {
            "tags": []
          },
          "execution_count": 44
        }
      ]
    },
    {
      "cell_type": "markdown",
      "metadata": {
        "id": "RGVlfuJezUgF"
      },
      "source": [
        "### Visualizing the data\n",
        "\n",
        "Now we ahve got our data in training and test sets... let's visualize it again!"
      ]
    },
    {
      "cell_type": "code",
      "metadata": {
        "id": "mV1pBaN3zfiM",
        "colab": {
          "base_uri": "https://localhost:8080/",
          "height": 428
        },
        "outputId": "c13bbbf9-aae8-4fb9-9dff-7754b24f96fa"
      },
      "source": [
        "plt.figure(figsize=(10, 7))\n",
        "# Plot training data in blue\n",
        "plt.scatter(X_train, y_train, c=\"b\", label = \"Training data\")\n",
        "\n",
        "# Plot test data in green\n",
        "plt.scatter(X_test, y_test, c=\"g\", label = \"Testing data\")\n",
        "\n",
        "# Show a legend\n",
        "plt.legend();"
      ],
      "execution_count": 45,
      "outputs": [
        {
          "output_type": "display_data",
          "data": {
            "image/png": "[encoded data removed]",
            "text/plain": [
              "<Figure size 720x504 with 1 Axes>"
            ]
          },
          "metadata": {
            "tags": [],
            "needs_background": "light"
          }
        }
      ]
    },
    {
      "cell_type": "code",
      "metadata": {
        "id": "70q2qAj5qOZq"
      },
      "source": [
        " # Lets's have a look at how to build a neural network for our data\n",
        " # 1. Create the moddel\n",
        "# model = tf.keras.Sequential([\n",
        "#                              tf.keras.layers.Dense(1)\n",
        "#                              ])\n",
        "# # 2. Compile the model\n",
        "# model.compile(loss=tf.keras.losses.mae,\n",
        "#               optimizer=tf.keras.optimizers.SGD(),metrics=['mae'])\n",
        "\n",
        "#3. Fitting our model (This time we will train for longer)\n",
        "# model.fit(X,y, epochs=100)"
      ],
      "execution_count": 33,
      "outputs": []
    },
    {
      "cell_type": "markdown",
      "metadata": {
        "id": "ft_hDvQy1FmQ"
      },
      "source": [
        "## Visualizing the model"
      ]
    },
    {
      "cell_type": "code",
      "metadata": {
        "id": "PHjBg6RM1ccj"
      },
      "source": [
        "# let's create a model which builds automatically by defining the input_shape argument in the first layer\n",
        "tf.random.set_seed(42)\n",
        "\n",
        "# Create a model  (same as above)\n",
        "model1= tf.keras.Sequential([ \n",
        "       tf.keras.layers.Dense(10, input_shape=[1], name=\"input_layer\"),\n",
        "       tf.keras.layers.Dense(1 , name=\"Output_layer\")\n",
        "       ])\n",
        "#2. Compile the model(same as above)\n",
        "model1.compile(loss=tf.keras.losses.mae, optimizer=tf.keras.optimizers.SGD(), metrics=[\"mae\"])"
      ],
      "execution_count": 101,
      "outputs": []
    },
    {
      "cell_type": "code",
      "metadata": {
        "id": "ijB1uKvM25tU",
        "colab": {
          "base_uri": "https://localhost:8080/"
        },
        "outputId": "116e1aa7-3e97-4fa0-8916-20896edeba81"
      },
      "source": [
        "model1.summary()"
      ],
      "execution_count": 102,
      "outputs": [
        {
          "output_type": "stream",
          "text": [
            "Model: \"sequential_7\"\n",
            "_________________________________________________________________\n",
            "Layer (type)                 Output Shape              Param #   \n",
            "=================================================================\n",
            "input_layer (Dense)          (None, 10)                20        \n",
            "_________________________________________________________________\n",
            "Output_layer (Dense)         (None, 1)                 11        \n",
            "=================================================================\n",
            "Total params: 31\n",
            "Trainable params: 31\n",
            "Non-trainable params: 0\n",
            "_________________________________________________________________\n"
          ],
          "name": "stdout"
        }
      ]
    },
    {
      "cell_type": "markdown",
      "metadata": {
        "id": "fhZB585V3SVi"
      },
      "source": [
        "* Total params - total number of parameters in the model\n",
        "* Trainable parameters - these are the parameters (patterns) the model can update as it trains\n",
        "* Non-trainable params - these parameters aren't updated during training (this is typical when we bring in already learn patterns or parameters from other models during transfer learning)\n",
        "\n",
        "\n",
        "**Resource:** For more in-depth overview of the trainable parameters within a layer, check out MIT's Introduction to deep learninig videos [here](https://www.youtube.com/watch?v=5tvmMX8r_OM)"
      ]
    },
    {
      "cell_type": "markdown",
      "metadata": {
        "id": "tSxZJr1X5i0g"
      },
      "source": [
        "**Exercise:** Tery playing arounf with number of hidden units in the dense layer, see how that effects the number of parameters(total and trainable) by calling `**model.summary()**`."
      ]
    },
    {
      "cell_type": "code",
      "metadata": {
        "id": "6LGEI2X62-zp"
      },
      "source": [
        "# # Create a model  (same as above)\n",
        "# model= tf.keras.Sequential([tf.keras.layers.Dense(30, input_shape=[1])\n",
        "# ])\n",
        "\n",
        "# #2. Compile the model(same as above)\n",
        "# model.compile(loss=tf.keras.losses.mae, optimizer=tf.keras.optimizers.SGD(), metrics=[\"mae\"])"
      ],
      "execution_count": 103,
      "outputs": []
    },
    {
      "cell_type": "code",
      "metadata": {
        "id": "nfVwGRXk564K",
        "colab": {
          "base_uri": "https://localhost:8080/"
        },
        "outputId": "47c01f4b-8be2-487c-d8f8-7201d28d03d5"
      },
      "source": [
        "model1.summary()"
      ],
      "execution_count": 104,
      "outputs": [
        {
          "output_type": "stream",
          "text": [
            "Model: \"sequential_7\"\n",
            "_________________________________________________________________\n",
            "Layer (type)                 Output Shape              Param #   \n",
            "=================================================================\n",
            "input_layer (Dense)          (None, 10)                20        \n",
            "_________________________________________________________________\n",
            "Output_layer (Dense)         (None, 1)                 11        \n",
            "=================================================================\n",
            "Total params: 31\n",
            "Trainable params: 31\n",
            "Non-trainable params: 0\n",
            "_________________________________________________________________\n"
          ],
          "name": "stdout"
        }
      ]
    },
    {
      "cell_type": "markdown",
      "metadata": {
        "id": "ujNWvFFz6Bmw"
      },
      "source": [
        "**Obsevation:** We can see that as we increase the hidden unit the `total params` and `trainable params` **doubled** the number of hidden units"
      ]
    },
    {
      "cell_type": "code",
      "metadata": {
        "id": "glTRe_ic58b-",
        "colab": {
          "base_uri": "https://localhost:8080/"
        },
        "outputId": "3694a2c6-b436-4706-cd78-462df6d42075"
      },
      "source": [
        "# Lets fit our model to the training data\n",
        "model1.fit(X_train,y_train, epochs=100, verbose=0)"
      ],
      "execution_count": 105,
      "outputs": [
        {
          "output_type": "execute_result",
          "data": {
            "text/plain": [
              "<tensorflow.python.keras.callbacks.History at 0x7f8d2ee68c10>"
            ]
          },
          "metadata": {
            "tags": []
          },
          "execution_count": 105
        }
      ]
    },
    {
      "cell_type": "code",
      "metadata": {
        "id": "wizsRp0r65VA",
        "colab": {
          "base_uri": "https://localhost:8080/",
          "height": 312
        },
        "outputId": "12b4caf8-49a5-4afe-a87d-93aaf8ecdef2"
      },
      "source": [
        "## Plotting our model\n",
        "from tensorflow.keras.utils import plot_model\n",
        "\n",
        "plot_model(model, show_shapes=True)"
      ],
      "execution_count": 106,
      "outputs": [
        {
          "output_type": "execute_result",
          "data": {
            "image/png": "[encoded data removed]",
            "text/plain": [
              "<IPython.core.display.Image object>"
            ]
          },
          "metadata": {
            "tags": []
          },
          "execution_count": 106
        }
      ]
    },
    {
      "cell_type": "markdown",
      "metadata": {
        "id": "XUgpRdT08JYo"
      },
      "source": [
        "##Visualizing our model's predicting\n",
        "\n",
        "To visualize predictions, it's a good idea to plot them against the ground truth labels.\n",
        "\n",
        "Often we'll see this in the form of `y_test` or `y_truth` versus `y_pred `(ground truth versus our model's predictions) "
      ]
    },
    {
      "cell_type": "code",
      "metadata": {
        "id": "8L7-2NGCDS3Z",
        "outputId": "6ed70199-3ca5-4fde-b7f7-a3f5ac1e7a50",
        "colab": {
          "base_uri": "https://localhost:8080/"
        }
      },
      "source": [
        "# make some predictions\n",
        "y_pred = model1.predict(X_test)\n",
        "y_pred"
      ],
      "execution_count": 107,
      "outputs": [
        {
          "output_type": "execute_result",
          "data": {
            "text/plain": [
              "array([[ 70.55218 ],\n",
              "       [ 75.13991 ],\n",
              "       [ 79.72763 ],\n",
              "       [ 84.31535 ],\n",
              "       [ 88.903076],\n",
              "       [ 93.49081 ],\n",
              "       [ 98.07853 ],\n",
              "       [102.66625 ],\n",
              "       [107.253975],\n",
              "       [111.8417  ]], dtype=float32)"
            ]
          },
          "metadata": {
            "tags": []
          },
          "execution_count": 107
        }
      ]
    },
    {
      "cell_type": "code",
      "metadata": {
        "id": "ZzA4bT4gAoho",
        "outputId": "f3a24093-20f9-425e-da01-40998244dd9a",
        "colab": {
          "base_uri": "https://localhost:8080/"
        }
      },
      "source": [
        "y_test"
      ],
      "execution_count": 108,
      "outputs": [
        {
          "output_type": "execute_result",
          "data": {
            "text/plain": [
              "<tf.Tensor: shape=(10,), dtype=int32, numpy=array([ 70,  74,  78,  82,  86,  90,  94,  98, 102, 106], dtype=int32)>"
            ]
          },
          "metadata": {
            "tags": []
          },
          "execution_count": 108
        }
      ]
    },
    {
      "cell_type": "markdown",
      "metadata": {
        "id": "iON9__48Cgu_"
      },
      "source": [
        "**Note:** If we feel like we are going to reuse some kind of functionality in the future, it's a good idea to turn it into a function."
      ]
    },
    {
      "cell_type": "code",
      "metadata": {
        "id": "EXFvqB9XCbnL"
      },
      "source": [
        "# Let's create a plotting function \n",
        "def plot_predictions(train_data=X_train,\n",
        "                     train_labels=y_train,\n",
        "                     test_data=X_test,\n",
        "                     test_labels=y_test,\n",
        "                     predictions=y_pred):\n",
        "    \"\"\"\n",
        "    Plots training data, test data and compares predictions to ground truth labels\n",
        "    \"\"\"\n",
        "    plt.figure(figsize=(10, 7))\n",
        "\n",
        "    # Plot training data in blue\n",
        "    plt.scatter(train_data, train_labels, c=\"b\", label = \"Training data\")\n",
        "\n",
        "    # Plot test data in green\n",
        "    plt.scatter(test_data, test_labels, c=\"g\", label = \"Testing data\")\n",
        "    # Plot model's predictions in red\n",
        "    plt.scatter(test_data, predictions, c=\"r\", label = \"Predictions\")\n",
        "    # Show a legend\n",
        "    plt.legend();\n"
      ],
      "execution_count": 109,
      "outputs": []
    },
    {
      "cell_type": "code",
      "metadata": {
        "id": "LI-tQu2HEcUW",
        "outputId": "32a37bad-74cb-4fa6-e593-90b04ef89d64",
        "colab": {
          "base_uri": "https://localhost:8080/",
          "height": 428
        }
      },
      "source": [
        "plot_predictions(train_data=X_train,\n",
        "                     train_labels=y_train,\n",
        "                     test_data=X_test,\n",
        "                     test_labels=y_test,\n",
        "                     predictions=y_pred)"
      ],
      "execution_count": 110,
      "outputs": [
        {
          "output_type": "display_data",
          "data": {
            "image/png": "[encoded data removed]",
            "text/plain": [
              "<Figure size 720x504 with 1 Axes>"
            ]
          },
          "metadata": {
            "tags": [],
            "needs_background": "light"
          }
        }
      ]
    },
    {
      "cell_type": "markdown",
      "metadata": {
        "id": "u5ri_MtYEpmf"
      },
      "source": [
        "### Evaluating our model's with Regression Evaluation metrics\n",
        "\n",
        "Depending on the problem we are working on, there will be different evaluation metrics to evaluate your model's performace.\n",
        "Since we are working on a regression, two of the main metrics:\n",
        "* MAE - mean absolute error, \"on average, how wrong is each of my model's predictions\"\n",
        "* MSE - mean square error, \"square the average errors\" "
      ]
    },
    {
      "cell_type": "code",
      "metadata": {
        "id": "UDrKsm4lFPBi",
        "outputId": "5e92ad6d-bc43-4338-ffaf-00263959dabb",
        "colab": {
          "base_uri": "https://localhost:8080/"
        }
      },
      "source": [
        "# Evaluate the model on the test\n",
        "model1.evaluate(X_test, y_test)"
      ],
      "execution_count": 113,
      "outputs": [
        {
          "output_type": "stream",
          "text": [
            "1/1 [==============================] - 0s 83ms/step - loss: 3.1969 - mae: 3.1969\n"
          ],
          "name": "stdout"
        },
        {
          "output_type": "execute_result",
          "data": {
            "text/plain": [
              "[3.196942090988159, 3.196942090988159]"
            ]
          },
          "metadata": {
            "tags": []
          },
          "execution_count": 113
        }
      ]
    },
    {
      "cell_type": "code",
      "metadata": {
        "id": "weY3b73vKtRz",
        "outputId": "68f42fc8-53a3-4e08-c5e8-772f87ea1735",
        "colab": {
          "base_uri": "https://localhost:8080/"
        }
      },
      "source": [
        "# Calculate the mean absolute error\n",
        "mae = tf.metrics.mean_absolute_error(y_test,tf.constant(y_pred))\n",
        "mae"
      ],
      "execution_count": 116,
      "outputs": [
        {
          "output_type": "execute_result",
          "data": {
            "text/plain": [
              "<tf.Tensor: shape=(10,), dtype=float32, numpy=\n",
              "array([17.558258 , 14.1160555, 11.708948 , 10.336929 , 10.       ,\n",
              "       10.698161 , 12.447118 , 15.333002 , 19.253975 , 23.841698 ],\n",
              "      dtype=float32)>"
            ]
          },
          "metadata": {
            "tags": []
          },
          "execution_count": 116
        }
      ]
    },
    {
      "cell_type": "code",
      "metadata": {
        "id": "EuPTRK9OLGpL",
        "outputId": "409ef394-7d43-4c32-ba44-ad722223da00",
        "colab": {
          "base_uri": "https://localhost:8080/"
        }
      },
      "source": [
        " # Calculate the mean absolute error\n",
        "mae = tf.metrics.mean_absolute_error(y_test, tf.squeeze(y_pred))\n",
        "mae"
      ],
      "execution_count": 117,
      "outputs": [
        {
          "output_type": "execute_result",
          "data": {
            "text/plain": [
              "<tf.Tensor: shape=(), dtype=float32, numpy=3.1969407>"
            ]
          },
          "metadata": {
            "tags": []
          },
          "execution_count": 117
        }
      ]
    },
    {
      "cell_type": "code",
      "metadata": {
        "id": "TNGMQH8KSfMG",
        "outputId": "44bdd9c2-04fd-4f01-b532-d08995a9fc20",
        "colab": {
          "base_uri": "https://localhost:8080/"
        }
      },
      "source": [
        " # Calculate the mean square error\n",
        "mse = tf.metrics.mean_squared_error(y_test, tf.squeeze(y_pred))\n",
        "mse"
      ],
      "execution_count": 119,
      "outputs": [
        {
          "output_type": "execute_result",
          "data": {
            "text/plain": [
              "<tf.Tensor: shape=(), dtype=float32, numpy=13.070143>"
            ]
          },
          "metadata": {
            "tags": []
          },
          "execution_count": 119
        }
      ]
    },
    {
      "cell_type": "code",
      "metadata": {
        "id": "dlLa8NkUSyQp"
      },
      "source": [
        "# Make some function to reuse MAE and MSE\n",
        "def mae(y_true, y_pred):\n",
        "  return tf.metrics.mean_absolute_error(y_true, tf.squeeze(y_pred))\n",
        "\n",
        "\n",
        "def mse(y_true, y_pred):\n",
        "  return tf.metrics.mean_squared_error(y_true, tf.squeeze(y_pred))"
      ],
      "execution_count": 130,
      "outputs": []
    },
    {
      "cell_type": "markdown",
      "metadata": {
        "id": "TIfIkVywTxTS"
      },
      "source": [
        "## Runninf experiments to improve our model\n",
        "\n",
        "```\n",
        "Build a model -> fit it -> evaluate it -> tweak it -> fit it -> evaluate it -> tweak it -> fit it -> evaluate it...\n",
        "```\n",
        "1. Get more data - get more examples for our model to train on (more opportunir=ties to learn patterns or relationships between features and labels).\n",
        "\n",
        "2. Makke our model larger (using more complex model) - this might come in the form of more layers or more hidden units in each layer.\n",
        "3. Train for longer - give our model more of a chance to find patterns in the data.\n",
        "\n",
        " Let's do 3 modelling experiments:\n",
        " 1. `model_1` - same as the original model, 1 layer, trained for 100 epochs.\n",
        " 2. `model_2` - 2 layers, trained for 100 epochs\n",
        " 3. `model_3` - 2 layers, trained for 500 epochs\n",
        "\n",
        "**Build `model_1`**\n",
        "\n"
      ]
    },
    {
      "cell_type": "code",
      "metadata": {
        "id": "2ejV3OpgWG1C",
        "outputId": "f6743e4e-e524-4cec-d7e2-9a608e3dd25e",
        "colab": {
          "base_uri": "https://localhost:8080/"
        }
      },
      "source": [
        "# Set random seed\n",
        "tf.random.set_seed(42)\n",
        "\n",
        "# 1. Create the model\n",
        "model_1 = tf.keras.Sequential([\n",
        "   tf.keras.layers.Dense(1)                              \n",
        "])\n",
        "\n",
        "#2. Compile the model\n",
        "model_1.compile(loss=tf.keras.losses.mae,\n",
        "                optimizer=tf.optimizers.SGD(),\n",
        "                metrics=['mae'])\n",
        "#3. Fit our model\n",
        "model_1.fit(X_train, y_train, epochs=100)"
      ],
      "execution_count": 124,
      "outputs": [
        {
          "output_type": "stream",
          "text": [
            "Epoch 1/100\n",
            "2/2 [==============================] - 0s 6ms/step - loss: 15.9024 - mae: 15.9024\n",
            "Epoch 2/100\n",
            "2/2 [==============================] - 0s 6ms/step - loss: 11.2837 - mae: 11.2837\n",
            "Epoch 3/100\n",
            "2/2 [==============================] - 0s 5ms/step - loss: 11.1074 - mae: 11.1074\n",
            "Epoch 4/100\n",
            "2/2 [==============================] - 0s 6ms/step - loss: 9.2991 - mae: 9.2991\n",
            "Epoch 5/100\n",
            "2/2 [==============================] - 0s 6ms/step - loss: 10.1677 - mae: 10.1677\n",
            "Epoch 6/100\n",
            "2/2 [==============================] - 0s 6ms/step - loss: 9.4303 - mae: 9.4303\n",
            "Epoch 7/100\n",
            "2/2 [==============================] - 0s 4ms/step - loss: 8.5704 - mae: 8.5704\n",
            "Epoch 8/100\n",
            "2/2 [==============================] - 0s 3ms/step - loss: 9.0442 - mae: 9.0442\n",
            "Epoch 9/100\n",
            "2/2 [==============================] - 0s 3ms/step - loss: 18.7517 - mae: 18.7517\n",
            "Epoch 10/100\n",
            "2/2 [==============================] - 0s 4ms/step - loss: 10.1142 - mae: 10.1142\n",
            "Epoch 11/100\n",
            "2/2 [==============================] - 0s 2ms/step - loss: 8.3980 - mae: 8.3980\n",
            "Epoch 12/100\n",
            "2/2 [==============================] - 0s 6ms/step - loss: 10.6639 - mae: 10.6639\n",
            "Epoch 13/100\n",
            "2/2 [==============================] - 0s 3ms/step - loss: 9.7977 - mae: 9.7977\n",
            "Epoch 14/100\n",
            "2/2 [==============================] - 0s 3ms/step - loss: 16.0103 - mae: 16.0103\n",
            "Epoch 15/100\n",
            "2/2 [==============================] - 0s 3ms/step - loss: 11.4068 - mae: 11.4068\n",
            "Epoch 16/100\n",
            "2/2 [==============================] - 0s 5ms/step - loss: 8.5393 - mae: 8.5393\n",
            "Epoch 17/100\n",
            "2/2 [==============================] - 0s 6ms/step - loss: 13.6348 - mae: 13.6348\n",
            "Epoch 18/100\n",
            "2/2 [==============================] - 0s 6ms/step - loss: 11.4629 - mae: 11.4629\n",
            "Epoch 19/100\n",
            "2/2 [==============================] - 0s 11ms/step - loss: 17.9148 - mae: 17.9148\n",
            "Epoch 20/100\n",
            "2/2 [==============================] - 0s 9ms/step - loss: 15.0494 - mae: 15.0494\n",
            "Epoch 21/100\n",
            "2/2 [==============================] - 0s 6ms/step - loss: 11.0216 - mae: 11.0216\n",
            "Epoch 22/100\n",
            "2/2 [==============================] - 0s 6ms/step - loss: 8.1558 - mae: 8.1558\n",
            "Epoch 23/100\n",
            "2/2 [==============================] - 0s 7ms/step - loss: 9.5138 - mae: 9.5138\n",
            "Epoch 24/100\n",
            "2/2 [==============================] - 0s 5ms/step - loss: 7.6617 - mae: 7.6617\n",
            "Epoch 25/100\n",
            "2/2 [==============================] - 0s 7ms/step - loss: 13.1859 - mae: 13.1859\n",
            "Epoch 26/100\n",
            "2/2 [==============================] - 0s 4ms/step - loss: 16.4211 - mae: 16.4211\n",
            "Epoch 27/100\n",
            "2/2 [==============================] - 0s 4ms/step - loss: 13.1660 - mae: 13.1660\n",
            "Epoch 28/100\n",
            "2/2 [==============================] - 0s 3ms/step - loss: 14.2559 - mae: 14.2559\n",
            "Epoch 29/100\n",
            "2/2 [==============================] - 0s 4ms/step - loss: 10.0670 - mae: 10.0670\n",
            "Epoch 30/100\n",
            "2/2 [==============================] - 0s 4ms/step - loss: 16.3409 - mae: 16.3409\n",
            "Epoch 31/100\n",
            "2/2 [==============================] - 0s 3ms/step - loss: 23.6444 - mae: 23.6444\n",
            "Epoch 32/100\n",
            "2/2 [==============================] - 0s 3ms/step - loss: 7.6215 - mae: 7.6215\n",
            "Epoch 33/100\n",
            "2/2 [==============================] - 0s 4ms/step - loss: 9.3221 - mae: 9.3221\n",
            "Epoch 34/100\n",
            "2/2 [==============================] - 0s 5ms/step - loss: 13.7313 - mae: 13.7313\n",
            "Epoch 35/100\n",
            "2/2 [==============================] - 0s 3ms/step - loss: 11.1276 - mae: 11.1276\n",
            "Epoch 36/100\n",
            "2/2 [==============================] - 0s 5ms/step - loss: 13.3222 - mae: 13.3222\n",
            "Epoch 37/100\n",
            "2/2 [==============================] - 0s 3ms/step - loss: 9.4763 - mae: 9.4763\n",
            "Epoch 38/100\n",
            "2/2 [==============================] - 0s 4ms/step - loss: 10.1381 - mae: 10.1381\n",
            "Epoch 39/100\n",
            "2/2 [==============================] - 0s 5ms/step - loss: 10.1793 - mae: 10.1793\n",
            "Epoch 40/100\n",
            "2/2 [==============================] - 0s 7ms/step - loss: 10.9137 - mae: 10.9137\n",
            "Epoch 41/100\n",
            "2/2 [==============================] - 0s 4ms/step - loss: 7.9063 - mae: 7.9063\n",
            "Epoch 42/100\n",
            "2/2 [==============================] - 0s 4ms/step - loss: 10.0914 - mae: 10.0914\n",
            "Epoch 43/100\n",
            "2/2 [==============================] - 0s 8ms/step - loss: 8.7006 - mae: 8.7006\n",
            "Epoch 44/100\n",
            "2/2 [==============================] - 0s 11ms/step - loss: 12.2047 - mae: 12.2047\n",
            "Epoch 45/100\n",
            "2/2 [==============================] - 0s 4ms/step - loss: 13.7970 - mae: 13.7970\n",
            "Epoch 46/100\n",
            "2/2 [==============================] - 0s 9ms/step - loss: 8.4687 - mae: 8.4687\n",
            "Epoch 47/100\n",
            "2/2 [==============================] - 0s 9ms/step - loss: 9.1330 - mae: 9.1330\n",
            "Epoch 48/100\n",
            "2/2 [==============================] - 0s 8ms/step - loss: 10.6190 - mae: 10.6190\n",
            "Epoch 49/100\n",
            "2/2 [==============================] - 0s 6ms/step - loss: 7.7503 - mae: 7.7503\n",
            "Epoch 50/100\n",
            "2/2 [==============================] - 0s 4ms/step - loss: 9.5407 - mae: 9.5407\n",
            "Epoch 51/100\n",
            "2/2 [==============================] - 0s 3ms/step - loss: 9.1584 - mae: 9.1584\n",
            "Epoch 52/100\n",
            "2/2 [==============================] - 0s 3ms/step - loss: 16.3630 - mae: 16.3630\n",
            "Epoch 53/100\n",
            "2/2 [==============================] - 0s 4ms/step - loss: 14.1299 - mae: 14.1299\n",
            "Epoch 54/100\n",
            "2/2 [==============================] - 0s 3ms/step - loss: 21.1247 - mae: 21.1247\n",
            "Epoch 55/100\n",
            "2/2 [==============================] - 0s 3ms/step - loss: 16.3961 - mae: 16.3961\n",
            "Epoch 56/100\n",
            "2/2 [==============================] - 0s 7ms/step - loss: 9.9806 - mae: 9.9806\n",
            "Epoch 57/100\n",
            "2/2 [==============================] - 0s 6ms/step - loss: 9.9606 - mae: 9.9606\n",
            "Epoch 58/100\n",
            "2/2 [==============================] - 0s 3ms/step - loss: 9.2209 - mae: 9.2209\n",
            "Epoch 59/100\n",
            "2/2 [==============================] - 0s 11ms/step - loss: 8.4239 - mae: 8.4239\n",
            "Epoch 60/100\n",
            "2/2 [==============================] - 0s 4ms/step - loss: 9.4869 - mae: 9.4869\n",
            "Epoch 61/100\n",
            "2/2 [==============================] - 0s 3ms/step - loss: 11.4355 - mae: 11.4355\n",
            "Epoch 62/100\n",
            "2/2 [==============================] - 0s 6ms/step - loss: 11.6887 - mae: 11.6887\n",
            "Epoch 63/100\n",
            "2/2 [==============================] - 0s 6ms/step - loss: 7.0838 - mae: 7.0838\n",
            "Epoch 64/100\n",
            "2/2 [==============================] - 0s 5ms/step - loss: 16.9675 - mae: 16.9675\n",
            "Epoch 65/100\n",
            "2/2 [==============================] - 0s 4ms/step - loss: 12.4599 - mae: 12.4599\n",
            "Epoch 66/100\n",
            "2/2 [==============================] - 0s 3ms/step - loss: 13.0184 - mae: 13.0184\n",
            "Epoch 67/100\n",
            "2/2 [==============================] - 0s 5ms/step - loss: 8.0600 - mae: 8.0600\n",
            "Epoch 68/100\n",
            "2/2 [==============================] - 0s 4ms/step - loss: 10.1888 - mae: 10.1888\n",
            "Epoch 69/100\n",
            "2/2 [==============================] - 0s 13ms/step - loss: 12.3633 - mae: 12.3633\n",
            "Epoch 70/100\n",
            "2/2 [==============================] - 0s 6ms/step - loss: 9.0516 - mae: 9.0516\n",
            "Epoch 71/100\n",
            "2/2 [==============================] - 0s 5ms/step - loss: 10.0378 - mae: 10.0378\n",
            "Epoch 72/100\n",
            "2/2 [==============================] - 0s 4ms/step - loss: 10.0516 - mae: 10.0516\n",
            "Epoch 73/100\n",
            "2/2 [==============================] - 0s 4ms/step - loss: 12.6151 - mae: 12.6151\n",
            "Epoch 74/100\n",
            "2/2 [==============================] - 0s 3ms/step - loss: 10.3819 - mae: 10.3819\n",
            "Epoch 75/100\n",
            "2/2 [==============================] - 0s 4ms/step - loss: 9.7229 - mae: 9.7229\n",
            "Epoch 76/100\n",
            "2/2 [==============================] - 0s 6ms/step - loss: 11.2252 - mae: 11.2252\n",
            "Epoch 77/100\n",
            "2/2 [==============================] - 0s 5ms/step - loss: 8.3642 - mae: 8.3642\n",
            "Epoch 78/100\n",
            "2/2 [==============================] - 0s 3ms/step - loss: 9.1274 - mae: 9.1274\n",
            "Epoch 79/100\n",
            "2/2 [==============================] - 0s 4ms/step - loss: 19.5039 - mae: 19.5039\n",
            "Epoch 80/100\n",
            "2/2 [==============================] - 0s 6ms/step - loss: 14.8945 - mae: 14.8945\n",
            "Epoch 81/100\n",
            "2/2 [==============================] - 0s 3ms/step - loss: 9.0034 - mae: 9.0034\n",
            "Epoch 82/100\n",
            "2/2 [==============================] - 0s 6ms/step - loss: 13.0206 - mae: 13.0206\n",
            "Epoch 83/100\n",
            "2/2 [==============================] - 0s 4ms/step - loss: 7.9299 - mae: 7.9299\n",
            "Epoch 84/100\n",
            "2/2 [==============================] - 0s 5ms/step - loss: 7.6872 - mae: 7.6872\n",
            "Epoch 85/100\n",
            "2/2 [==============================] - 0s 6ms/step - loss: 10.0328 - mae: 10.0328\n",
            "Epoch 86/100\n",
            "2/2 [==============================] - 0s 7ms/step - loss: 9.2433 - mae: 9.2433\n",
            "Epoch 87/100\n",
            "2/2 [==============================] - 0s 3ms/step - loss: 12.0209 - mae: 12.0209\n",
            "Epoch 88/100\n",
            "2/2 [==============================] - 0s 6ms/step - loss: 10.6389 - mae: 10.6389\n",
            "Epoch 89/100\n",
            "2/2 [==============================] - 0s 5ms/step - loss: 7.2667 - mae: 7.2667\n",
            "Epoch 90/100\n",
            "2/2 [==============================] - 0s 6ms/step - loss: 12.7786 - mae: 12.7786\n",
            "Epoch 91/100\n",
            "2/2 [==============================] - 0s 6ms/step - loss: 7.3481 - mae: 7.3481\n",
            "Epoch 92/100\n",
            "2/2 [==============================] - 0s 4ms/step - loss: 7.7175 - mae: 7.7175\n",
            "Epoch 93/100\n",
            "2/2 [==============================] - 0s 4ms/step - loss: 7.1263 - mae: 7.1263\n",
            "Epoch 94/100\n",
            "2/2 [==============================] - 0s 3ms/step - loss: 12.6190 - mae: 12.6190\n",
            "Epoch 95/100\n",
            "2/2 [==============================] - 0s 3ms/step - loss: 10.0912 - mae: 10.0912\n",
            "Epoch 96/100\n",
            "2/2 [==============================] - 0s 6ms/step - loss: 9.3558 - mae: 9.3558\n",
            "Epoch 97/100\n",
            "2/2 [==============================] - 0s 3ms/step - loss: 12.6834 - mae: 12.6834\n",
            "Epoch 98/100\n",
            "2/2 [==============================] - 0s 7ms/step - loss: 8.6762 - mae: 8.6762\n",
            "Epoch 99/100\n",
            "2/2 [==============================] - 0s 5ms/step - loss: 9.4693 - mae: 9.4693\n",
            "Epoch 100/100\n",
            "2/2 [==============================] - 0s 8ms/step - loss: 8.7067 - mae: 8.7067\n"
          ],
          "name": "stdout"
        },
        {
          "output_type": "execute_result",
          "data": {
            "text/plain": [
              "<tensorflow.python.keras.callbacks.History at 0x7f8d2cb5f810>"
            ]
          },
          "metadata": {
            "tags": []
          },
          "execution_count": 124
        }
      ]
    },
    {
      "cell_type": "code",
      "metadata": {
        "id": "Fp3Lez7OW4pu",
        "outputId": "48fc872d-4029-4c89-d0e2-f5c7c7e9ebde",
        "colab": {
          "base_uri": "https://localhost:8080/",
          "height": 428
        }
      },
      "source": [
        "# Make and plot predictions for model_1\n",
        "y_pred_1 = model_1.predict(X_test)\n",
        "plot_predictions(predictions = y_pred_1)\n"
      ],
      "execution_count": 127,
      "outputs": [
        {
          "output_type": "display_data",
          "data": {
            "image/png": "[encoded data removed]",
            "text/plain": [
              "<Figure size 720x504 with 1 Axes>"
            ]
          },
          "metadata": {
            "tags": [],
            "needs_background": "light"
          }
        }
      ]
    },
    {
      "cell_type": "code",
      "metadata": {
        "id": "hocR7A97VQ9T",
        "outputId": "6dd408dc-971b-4e9f-dfe5-dae40e2e3f2a",
        "colab": {
          "base_uri": "https://localhost:8080/"
        }
      },
      "source": [
        "# Calculate model_1 evaluation metrics\n",
        "mae_1 = mae(y_test, y_pred_1)\n",
        "mse_1 =mse(y_test, y_pred_1)\n",
        "\n",
        "mae_1, mse_1"
      ],
      "execution_count": 131,
      "outputs": [
        {
          "output_type": "execute_result",
          "data": {
            "text/plain": [
              "(<tf.Tensor: shape=(), dtype=float32, numpy=18.745327>,\n",
              " <tf.Tensor: shape=(), dtype=float32, numpy=353.57336>)"
            ]
          },
          "metadata": {
            "tags": []
          },
          "execution_count": 131
        }
      ]
    },
    {
      "cell_type": "markdown",
      "metadata": {
        "id": "0LBaD8czXocl"
      },
      "source": [
        "**Build `Model_2`**\n",
        "- 2 dense layers,trained for 100 epochs"
      ]
    },
    {
      "cell_type": "code",
      "metadata": {
        "id": "sYkYtMAkYb6s",
        "outputId": "b81016f9-ba4a-4864-bd62-0e638d952a86",
        "colab": {
          "base_uri": "https://localhost:8080/"
        }
      },
      "source": [
        "# set the random seed\n",
        "tf.random.set_seed(42)\n",
        "\n",
        "# Create model_2\n",
        "model_2 = tf.keras.Sequential([\n",
        "  tf.keras.layers.Dense(20,input_shape=[1]),\n",
        "  tf.keras.layers.Dense(1)      \n",
        "])\n",
        "\n",
        "# Compile the model\n",
        "model_2.compile(loss= tf.keras.losses.mae,\n",
        "                optimizer=tf.keras.optimizers.SGD(),\n",
        "                metrics=[\"mae\"])\n",
        "# Fit the model\n",
        "model_2.fit(X_train, y_train, epochs=100)"
      ],
      "execution_count": 134,
      "outputs": [
        {
          "output_type": "stream",
          "text": [
            "Epoch 1/100\n",
            "2/2 [==============================] - 0s 7ms/step - loss: 22.4660 - mae: 22.4660\n",
            "Epoch 2/100\n",
            "2/2 [==============================] - 0s 4ms/step - loss: 22.1294 - mae: 22.1294\n",
            "Epoch 3/100\n",
            "2/2 [==============================] - 0s 5ms/step - loss: 27.5095 - mae: 27.5095\n",
            "Epoch 4/100\n",
            "2/2 [==============================] - 0s 3ms/step - loss: 13.5509 - mae: 13.5509\n",
            "Epoch 5/100\n",
            "2/2 [==============================] - 0s 4ms/step - loss: 18.2156 - mae: 18.2156\n",
            "Epoch 6/100\n",
            "2/2 [==============================] - 0s 9ms/step - loss: 9.2239 - mae: 9.2239\n",
            "Epoch 7/100\n",
            "2/2 [==============================] - 0s 5ms/step - loss: 10.1858 - mae: 10.1858\n",
            "Epoch 8/100\n",
            "2/2 [==============================] - 0s 5ms/step - loss: 11.1702 - mae: 11.1702\n",
            "Epoch 9/100\n",
            "2/2 [==============================] - 0s 3ms/step - loss: 41.4637 - mae: 41.4637\n",
            "Epoch 10/100\n",
            "2/2 [==============================] - 0s 4ms/step - loss: 28.7305 - mae: 28.7305\n",
            "Epoch 11/100\n",
            "2/2 [==============================] - 0s 7ms/step - loss: 9.4023 - mae: 9.4023\n",
            "Epoch 12/100\n",
            "2/2 [==============================] - 0s 4ms/step - loss: 26.2428 - mae: 26.2428\n",
            "Epoch 13/100\n",
            "2/2 [==============================] - 0s 5ms/step - loss: 14.5065 - mae: 14.5065\n",
            "Epoch 14/100\n",
            "2/2 [==============================] - 0s 6ms/step - loss: 30.0358 - mae: 30.0358\n",
            "Epoch 15/100\n",
            "2/2 [==============================] - 0s 7ms/step - loss: 19.8502 - mae: 19.8502\n",
            "Epoch 16/100\n",
            "2/2 [==============================] - 0s 10ms/step - loss: 9.8748 - mae: 9.8748\n",
            "Epoch 17/100\n",
            "2/2 [==============================] - 0s 10ms/step - loss: 17.7398 - mae: 17.7398\n",
            "Epoch 18/100\n",
            "2/2 [==============================] - 0s 8ms/step - loss: 14.2162 - mae: 14.2162\n",
            "Epoch 19/100\n",
            "2/2 [==============================] - 0s 4ms/step - loss: 14.0589 - mae: 14.0589\n",
            "Epoch 20/100\n",
            "2/2 [==============================] - 0s 7ms/step - loss: 11.2525 - mae: 11.2525\n",
            "Epoch 21/100\n",
            "2/2 [==============================] - 0s 8ms/step - loss: 17.3890 - mae: 17.3890\n",
            "Epoch 22/100\n",
            "2/2 [==============================] - 0s 3ms/step - loss: 15.6248 - mae: 15.6248\n",
            "Epoch 23/100\n",
            "2/2 [==============================] - 0s 9ms/step - loss: 9.2291 - mae: 9.2291\n",
            "Epoch 24/100\n",
            "2/2 [==============================] - 0s 8ms/step - loss: 17.2193 - mae: 17.2193\n",
            "Epoch 25/100\n",
            "2/2 [==============================] - 0s 3ms/step - loss: 15.9058 - mae: 15.9058\n",
            "Epoch 26/100\n",
            "2/2 [==============================] - 0s 5ms/step - loss: 20.8547 - mae: 20.8547\n",
            "Epoch 27/100\n",
            "2/2 [==============================] - 0s 8ms/step - loss: 26.1320 - mae: 26.1320\n",
            "Epoch 28/100\n",
            "2/2 [==============================] - 0s 5ms/step - loss: 18.6074 - mae: 18.6074\n",
            "Epoch 29/100\n",
            "2/2 [==============================] - 0s 5ms/step - loss: 9.2449 - mae: 9.2449\n",
            "Epoch 30/100\n",
            "2/2 [==============================] - 0s 4ms/step - loss: 29.2351 - mae: 29.2351\n",
            "Epoch 31/100\n",
            "2/2 [==============================] - 0s 6ms/step - loss: 52.9667 - mae: 52.9667\n",
            "Epoch 32/100\n",
            "2/2 [==============================] - 0s 4ms/step - loss: 11.9834 - mae: 11.9834\n",
            "Epoch 33/100\n",
            "2/2 [==============================] - 0s 4ms/step - loss: 15.6171 - mae: 15.6171\n",
            "Epoch 34/100\n",
            "2/2 [==============================] - 0s 4ms/step - loss: 12.6797 - mae: 12.6797\n",
            "Epoch 35/100\n",
            "2/2 [==============================] - 0s 4ms/step - loss: 9.2339 - mae: 9.2339\n",
            "Epoch 36/100\n",
            "2/2 [==============================] - 0s 4ms/step - loss: 16.6287 - mae: 16.6287\n",
            "Epoch 37/100\n",
            "2/2 [==============================] - 0s 4ms/step - loss: 11.0433 - mae: 11.0433\n",
            "Epoch 38/100\n",
            "2/2 [==============================] - 0s 4ms/step - loss: 18.1689 - mae: 18.1689\n",
            "Epoch 39/100\n",
            "2/2 [==============================] - 0s 4ms/step - loss: 19.1059 - mae: 19.1059\n",
            "Epoch 40/100\n",
            "2/2 [==============================] - 0s 4ms/step - loss: 20.4405 - mae: 20.4405\n",
            "Epoch 41/100\n",
            "2/2 [==============================] - 0s 4ms/step - loss: 14.8993 - mae: 14.8993\n",
            "Epoch 42/100\n",
            "2/2 [==============================] - 0s 3ms/step - loss: 12.2730 - mae: 12.2730\n",
            "Epoch 43/100\n",
            "2/2 [==============================] - 0s 3ms/step - loss: 10.7288 - mae: 10.7288\n",
            "Epoch 44/100\n",
            "2/2 [==============================] - 0s 4ms/step - loss: 23.0075 - mae: 23.0075\n",
            "Epoch 45/100\n",
            "2/2 [==============================] - 0s 3ms/step - loss: 10.3839 - mae: 10.3839\n",
            "Epoch 46/100\n",
            "2/2 [==============================] - 0s 6ms/step - loss: 11.7825 - mae: 11.7825\n",
            "Epoch 47/100\n",
            "2/2 [==============================] - 0s 4ms/step - loss: 9.6462 - mae: 9.6462\n",
            "Epoch 48/100\n",
            "2/2 [==============================] - 0s 3ms/step - loss: 17.2388 - mae: 17.2388\n",
            "Epoch 49/100\n",
            "2/2 [==============================] - 0s 3ms/step - loss: 9.5689 - mae: 9.5689\n",
            "Epoch 50/100\n",
            "2/2 [==============================] - 0s 4ms/step - loss: 13.8119 - mae: 13.8119\n",
            "Epoch 51/100\n",
            "2/2 [==============================] - 0s 6ms/step - loss: 11.5931 - mae: 11.5931\n",
            "Epoch 52/100\n",
            "2/2 [==============================] - 0s 6ms/step - loss: 30.5413 - mae: 30.5413\n",
            "Epoch 53/100\n",
            "2/2 [==============================] - 0s 6ms/step - loss: 14.3482 - mae: 14.3482\n",
            "Epoch 54/100\n",
            "2/2 [==============================] - 0s 4ms/step - loss: 23.9616 - mae: 23.9616\n",
            "Epoch 55/100\n",
            "2/2 [==============================] - 0s 5ms/step - loss: 23.1833 - mae: 23.1833\n",
            "Epoch 56/100\n",
            "2/2 [==============================] - 0s 6ms/step - loss: 10.8801 - mae: 10.8801\n",
            "Epoch 57/100\n",
            "2/2 [==============================] - 0s 4ms/step - loss: 12.7403 - mae: 12.7403\n",
            "Epoch 58/100\n",
            "2/2 [==============================] - 0s 6ms/step - loss: 9.5973 - mae: 9.5973\n",
            "Epoch 59/100\n",
            "2/2 [==============================] - 0s 5ms/step - loss: 12.5142 - mae: 12.5142\n",
            "Epoch 60/100\n",
            "2/2 [==============================] - 0s 8ms/step - loss: 12.3177 - mae: 12.3177\n",
            "Epoch 61/100\n",
            "2/2 [==============================] - 0s 6ms/step - loss: 17.4572 - mae: 17.4572\n",
            "Epoch 62/100\n",
            "2/2 [==============================] - 0s 3ms/step - loss: 10.6037 - mae: 10.6037\n",
            "Epoch 63/100\n",
            "2/2 [==============================] - 0s 5ms/step - loss: 10.4882 - mae: 10.4882\n",
            "Epoch 64/100\n",
            "2/2 [==============================] - 0s 5ms/step - loss: 24.8435 - mae: 24.8435\n",
            "Epoch 65/100\n",
            "2/2 [==============================] - 0s 4ms/step - loss: 10.6753 - mae: 10.6753\n",
            "Epoch 66/100\n",
            "2/2 [==============================] - 0s 5ms/step - loss: 21.7808 - mae: 21.7808\n",
            "Epoch 67/100\n",
            "2/2 [==============================] - 0s 7ms/step - loss: 10.7133 - mae: 10.7133\n",
            "Epoch 68/100\n",
            "2/2 [==============================] - 0s 3ms/step - loss: 10.6395 - mae: 10.6395\n",
            "Epoch 69/100\n",
            "2/2 [==============================] - 0s 4ms/step - loss: 22.6944 - mae: 22.6944\n",
            "Epoch 70/100\n",
            "2/2 [==============================] - 0s 3ms/step - loss: 9.3307 - mae: 9.3307\n",
            "Epoch 71/100\n",
            "2/2 [==============================] - 0s 5ms/step - loss: 15.4338 - mae: 15.4338\n",
            "Epoch 72/100\n",
            "2/2 [==============================] - 0s 5ms/step - loss: 6.7431 - mae: 6.7431\n",
            "Epoch 73/100\n",
            "2/2 [==============================] - 0s 4ms/step - loss: 11.6900 - mae: 11.6900\n",
            "Epoch 74/100\n",
            "2/2 [==============================] - 0s 4ms/step - loss: 24.0477 - mae: 24.0477\n",
            "Epoch 75/100\n",
            "2/2 [==============================] - 0s 5ms/step - loss: 9.5915 - mae: 9.5915\n",
            "Epoch 76/100\n",
            "2/2 [==============================] - 0s 6ms/step - loss: 12.4397 - mae: 12.4397\n",
            "Epoch 77/100\n",
            "2/2 [==============================] - 0s 5ms/step - loss: 16.6560 - mae: 16.6560\n",
            "Epoch 78/100\n",
            "2/2 [==============================] - 0s 3ms/step - loss: 9.0622 - mae: 9.0622\n",
            "Epoch 79/100\n",
            "2/2 [==============================] - 0s 3ms/step - loss: 23.9775 - mae: 23.9775\n",
            "Epoch 80/100\n",
            "2/2 [==============================] - 0s 6ms/step - loss: 26.7585 - mae: 26.7585\n",
            "Epoch 81/100\n",
            "2/2 [==============================] - 0s 6ms/step - loss: 11.6773 - mae: 11.6773\n",
            "Epoch 82/100\n",
            "2/2 [==============================] - 0s 3ms/step - loss: 12.0189 - mae: 12.0189\n",
            "Epoch 83/100\n",
            "2/2 [==============================] - 0s 5ms/step - loss: 17.4161 - mae: 17.4161\n",
            "Epoch 84/100\n",
            "2/2 [==============================] - 0s 5ms/step - loss: 7.2620 - mae: 7.2620\n",
            "Epoch 85/100\n",
            "2/2 [==============================] - 0s 6ms/step - loss: 14.9602 - mae: 14.9602\n",
            "Epoch 86/100\n",
            "2/2 [==============================] - 0s 4ms/step - loss: 15.2822 - mae: 15.2822\n",
            "Epoch 87/100\n",
            "2/2 [==============================] - 0s 3ms/step - loss: 19.1001 - mae: 19.1001\n",
            "Epoch 88/100\n",
            "2/2 [==============================] - 0s 4ms/step - loss: 29.8450 - mae: 29.8450\n",
            "Epoch 89/100\n",
            "2/2 [==============================] - 0s 4ms/step - loss: 10.1777 - mae: 10.1777\n",
            "Epoch 90/100\n",
            "2/2 [==============================] - 0s 4ms/step - loss: 21.5433 - mae: 21.5433\n",
            "Epoch 91/100\n",
            "2/2 [==============================] - 0s 4ms/step - loss: 10.5766 - mae: 10.5766\n",
            "Epoch 92/100\n",
            "2/2 [==============================] - 0s 5ms/step - loss: 18.4161 - mae: 18.4161\n",
            "Epoch 93/100\n",
            "2/2 [==============================] - 0s 11ms/step - loss: 7.4156 - mae: 7.4156\n",
            "Epoch 94/100\n",
            "2/2 [==============================] - 0s 7ms/step - loss: 17.7554 - mae: 17.7554\n",
            "Epoch 95/100\n",
            "2/2 [==============================] - 0s 20ms/step - loss: 11.1216 - mae: 11.1216\n",
            "Epoch 96/100\n",
            "2/2 [==============================] - 0s 12ms/step - loss: 19.4529 - mae: 19.4529\n",
            "Epoch 97/100\n",
            "2/2 [==============================] - 0s 7ms/step - loss: 12.4936 - mae: 12.4936\n",
            "Epoch 98/100\n",
            "2/2 [==============================] - 0s 5ms/step - loss: 10.2907 - mae: 10.2907\n",
            "Epoch 99/100\n",
            "2/2 [==============================] - 0s 12ms/step - loss: 13.8270 - mae: 13.8270\n",
            "Epoch 100/100\n",
            "2/2 [==============================] - 0s 7ms/step - loss: 20.1259 - mae: 20.1259\n"
          ],
          "name": "stdout"
        },
        {
          "output_type": "execute_result",
          "data": {
            "text/plain": [
              "<tensorflow.python.keras.callbacks.History at 0x7f8d2ad37d90>"
            ]
          },
          "metadata": {
            "tags": []
          },
          "execution_count": 134
        }
      ]
    },
    {
      "cell_type": "code",
      "metadata": {
        "id": "5i9o4QU6ZZ-C",
        "outputId": "7ac23a6b-06de-4869-92cb-a76aedf622d0",
        "colab": {
          "base_uri": "https://localhost:8080/",
          "height": 428
        }
      },
      "source": [
        "# Make and plot predictions for model_1\n",
        "y_pred_2 = model_2.predict(X_test)\n",
        "plot_predictions(predictions = y_pred_2)\n"
      ],
      "execution_count": 135,
      "outputs": [
        {
          "output_type": "display_data",
          "data": {
            "image/png": "[encoded data removed]",
            "text/plain": [
              "<Figure size 720x504 with 1 Axes>"
            ]
          },
          "metadata": {
            "tags": [],
            "needs_background": "light"
          }
        }
      ]
    },
    {
      "cell_type": "code",
      "metadata": {
        "id": "p25sIKLeZvfJ",
        "outputId": "dbe38716-5fca-46a0-b388-b793430abf4a",
        "colab": {
          "base_uri": "https://localhost:8080/"
        }
      },
      "source": [
        "# Calculate model_1 evaluation metrics\n",
        "mae_2 = mae(y_test, y_pred_2)\n",
        "mse_2 =mse(y_test, y_pred_2)\n",
        "\n",
        "mae_2, mse_2"
      ],
      "execution_count": 136,
      "outputs": [
        {
          "output_type": "execute_result",
          "data": {
            "text/plain": [
              "(<tf.Tensor: shape=(), dtype=float32, numpy=2.9403756>,\n",
              " <tf.Tensor: shape=(), dtype=float32, numpy=11.373231>)"
            ]
          },
          "metadata": {
            "tags": []
          },
          "execution_count": 136
        }
      ]
    },
    {
      "cell_type": "markdown",
      "metadata": {
        "id": "vbQJC-oSZ7nf"
      },
      "source": [
        "**Build `model_3`**\n",
        "- 2 layer with 500 epochs"
      ]
    },
    {
      "cell_type": "code",
      "metadata": {
        "id": "aVRZV4CUaT6T",
        "outputId": "c379de6a-69b9-48c5-8135-7c758c0746ef",
        "colab": {
          "base_uri": "https://localhost:8080/"
        }
      },
      "source": [
        "# set the random seed\n",
        "tf.random.set_seed(42)\n",
        "\n",
        "# Create model\n",
        "model_3 = tf.keras.Sequential([\n",
        "  tf.keras.layers.Dense(20,input_shape=[1]),\n",
        "  tf.keras.layers.Dense(1)      \n",
        "])\n",
        "\n",
        "# Compile the model\n",
        "model_3.compile(loss= tf.keras.losses.mae,\n",
        "                optimizer=tf.keras.optimizers.SGD(),\n",
        "                metrics=[\"mae\"])\n",
        "# Fit the model\n",
        "model_3.fit(X_train, y_train, epochs=500)"
      ],
      "execution_count": 137,
      "outputs": [
        {
          "output_type": "stream",
          "text": [
            "Epoch 1/500\n",
            "2/2 [==============================] - 0s 5ms/step - loss: 22.4660 - mae: 22.4660\n",
            "Epoch 2/500\n",
            "2/2 [==============================] - 0s 4ms/step - loss: 22.1294 - mae: 22.1294\n",
            "Epoch 3/500\n",
            "2/2 [==============================] - 0s 4ms/step - loss: 27.5095 - mae: 27.5095\n",
            "Epoch 4/500\n",
            "2/2 [==============================] - 0s 4ms/step - loss: 13.5509 - mae: 13.5509\n",
            "Epoch 5/500\n",
            "2/2 [==============================] - 0s 3ms/step - loss: 18.2156 - mae: 18.2156\n",
            "Epoch 6/500\n",
            "2/2 [==============================] - 0s 2ms/step - loss: 9.2239 - mae: 9.2239\n",
            "Epoch 7/500\n",
            "2/2 [==============================] - 0s 5ms/step - loss: 10.1858 - mae: 10.1858\n",
            "Epoch 8/500\n",
            "2/2 [==============================] - 0s 9ms/step - loss: 11.1702 - mae: 11.1702\n",
            "Epoch 9/500\n",
            "2/2 [==============================] - 0s 4ms/step - loss: 41.4637 - mae: 41.4637\n",
            "Epoch 10/500\n",
            "2/2 [==============================] - 0s 5ms/step - loss: 28.7305 - mae: 28.7305\n",
            "Epoch 11/500\n",
            "2/2 [==============================] - 0s 6ms/step - loss: 9.4023 - mae: 9.4023\n",
            "Epoch 12/500\n",
            "2/2 [==============================] - 0s 6ms/step - loss: 26.2428 - mae: 26.2428\n",
            "Epoch 13/500\n",
            "2/2 [==============================] - 0s 6ms/step - loss: 14.5065 - mae: 14.5065\n",
            "Epoch 14/500\n",
            "2/2 [==============================] - 0s 4ms/step - loss: 30.0358 - mae: 30.0358\n",
            "Epoch 15/500\n",
            "2/2 [==============================] - 0s 6ms/step - loss: 19.8502 - mae: 19.8502\n",
            "Epoch 16/500\n",
            "2/2 [==============================] - 0s 7ms/step - loss: 9.8748 - mae: 9.8748\n",
            "Epoch 17/500\n",
            "2/2 [==============================] - 0s 6ms/step - loss: 17.7398 - mae: 17.7398\n",
            "Epoch 18/500\n",
            "2/2 [==============================] - 0s 4ms/step - loss: 14.2162 - mae: 14.2162\n",
            "Epoch 19/500\n",
            "2/2 [==============================] - 0s 4ms/step - loss: 14.0589 - mae: 14.0589\n",
            "Epoch 20/500\n",
            "2/2 [==============================] - 0s 3ms/step - loss: 11.2525 - mae: 11.2525\n",
            "Epoch 21/500\n",
            "2/2 [==============================] - 0s 3ms/step - loss: 17.3890 - mae: 17.3890\n",
            "Epoch 22/500\n",
            "2/2 [==============================] - 0s 3ms/step - loss: 15.6248 - mae: 15.6248\n",
            "Epoch 23/500\n",
            "2/2 [==============================] - 0s 6ms/step - loss: 9.2291 - mae: 9.2291\n",
            "Epoch 24/500\n",
            "2/2 [==============================] - 0s 3ms/step - loss: 17.2193 - mae: 17.2193\n",
            "Epoch 25/500\n",
            "2/2 [==============================] - 0s 5ms/step - loss: 15.9058 - mae: 15.9058\n",
            "Epoch 26/500\n",
            "2/2 [==============================] - 0s 3ms/step - loss: 20.8547 - mae: 20.8547\n",
            "Epoch 27/500\n",
            "2/2 [==============================] - 0s 4ms/step - loss: 26.1320 - mae: 26.1320\n",
            "Epoch 28/500\n",
            "2/2 [==============================] - 0s 3ms/step - loss: 18.6074 - mae: 18.6074\n",
            "Epoch 29/500\n",
            "2/2 [==============================] - 0s 3ms/step - loss: 9.2449 - mae: 9.2449\n",
            "Epoch 30/500\n",
            "2/2 [==============================] - 0s 4ms/step - loss: 29.2351 - mae: 29.2351\n",
            "Epoch 31/500\n",
            "2/2 [==============================] - 0s 3ms/step - loss: 52.9667 - mae: 52.9667\n",
            "Epoch 32/500\n",
            "2/2 [==============================] - 0s 3ms/step - loss: 11.9834 - mae: 11.9834\n",
            "Epoch 33/500\n",
            "2/2 [==============================] - 0s 4ms/step - loss: 15.6171 - mae: 15.6171\n",
            "Epoch 34/500\n",
            "2/2 [==============================] - 0s 3ms/step - loss: 12.6797 - mae: 12.6797\n",
            "Epoch 35/500\n",
            "2/2 [==============================] - 0s 3ms/step - loss: 9.2339 - mae: 9.2339\n",
            "Epoch 36/500\n",
            "2/2 [==============================] - 0s 3ms/step - loss: 16.6287 - mae: 16.6287\n",
            "Epoch 37/500\n",
            "2/2 [==============================] - 0s 3ms/step - loss: 11.0433 - mae: 11.0433\n",
            "Epoch 38/500\n",
            "2/2 [==============================] - 0s 4ms/step - loss: 18.1689 - mae: 18.1689\n",
            "Epoch 39/500\n",
            "2/2 [==============================] - 0s 3ms/step - loss: 19.1059 - mae: 19.1059\n",
            "Epoch 40/500\n",
            "2/2 [==============================] - 0s 3ms/step - loss: 20.4405 - mae: 20.4405\n",
            "Epoch 41/500\n",
            "2/2 [==============================] - 0s 3ms/step - loss: 14.8993 - mae: 14.8993\n",
            "Epoch 42/500\n",
            "2/2 [==============================] - 0s 3ms/step - loss: 12.2730 - mae: 12.2730\n",
            "Epoch 43/500\n",
            "2/2 [==============================] - 0s 3ms/step - loss: 10.7288 - mae: 10.7288\n",
            "Epoch 44/500\n",
            "2/2 [==============================] - 0s 3ms/step - loss: 23.0075 - mae: 23.0075\n",
            "Epoch 45/500\n",
            "2/2 [==============================] - 0s 3ms/step - loss: 10.3839 - mae: 10.3839\n",
            "Epoch 46/500\n",
            "2/2 [==============================] - 0s 3ms/step - loss: 11.7825 - mae: 11.7825\n",
            "Epoch 47/500\n",
            "2/2 [==============================] - 0s 3ms/step - loss: 9.6462 - mae: 9.6462\n",
            "Epoch 48/500\n",
            "2/2 [==============================] - 0s 3ms/step - loss: 17.2388 - mae: 17.2388\n",
            "Epoch 49/500\n",
            "2/2 [==============================] - 0s 4ms/step - loss: 9.5689 - mae: 9.5689\n",
            "Epoch 50/500\n",
            "2/2 [==============================] - 0s 4ms/step - loss: 13.8119 - mae: 13.8119\n",
            "Epoch 51/500\n",
            "2/2 [==============================] - 0s 3ms/step - loss: 11.5931 - mae: 11.5931\n",
            "Epoch 52/500\n",
            "2/2 [==============================] - 0s 4ms/step - loss: 30.5413 - mae: 30.5413\n",
            "Epoch 53/500\n",
            "2/2 [==============================] - 0s 4ms/step - loss: 14.3482 - mae: 14.3482\n",
            "Epoch 54/500\n",
            "2/2 [==============================] - 0s 4ms/step - loss: 23.9616 - mae: 23.9616\n",
            "Epoch 55/500\n",
            "2/2 [==============================] - 0s 4ms/step - loss: 23.1833 - mae: 23.1833\n",
            "Epoch 56/500\n",
            "2/2 [==============================] - 0s 3ms/step - loss: 10.8801 - mae: 10.8801\n",
            "Epoch 57/500\n",
            "2/2 [==============================] - 0s 7ms/step - loss: 12.7403 - mae: 12.7403\n",
            "Epoch 58/500\n",
            "2/2 [==============================] - 0s 4ms/step - loss: 9.5973 - mae: 9.5973\n",
            "Epoch 59/500\n",
            "2/2 [==============================] - 0s 5ms/step - loss: 12.5142 - mae: 12.5142\n",
            "Epoch 60/500\n",
            "2/2 [==============================] - 0s 3ms/step - loss: 12.3177 - mae: 12.3177\n",
            "Epoch 61/500\n",
            "2/2 [==============================] - 0s 3ms/step - loss: 17.4572 - mae: 17.4572\n",
            "Epoch 62/500\n",
            "2/2 [==============================] - 0s 4ms/step - loss: 10.6037 - mae: 10.6037\n",
            "Epoch 63/500\n",
            "2/2 [==============================] - 0s 3ms/step - loss: 10.4882 - mae: 10.4882\n",
            "Epoch 64/500\n",
            "2/2 [==============================] - 0s 3ms/step - loss: 24.8435 - mae: 24.8435\n",
            "Epoch 65/500\n",
            "2/2 [==============================] - 0s 3ms/step - loss: 10.6753 - mae: 10.6753\n",
            "Epoch 66/500\n",
            "2/2 [==============================] - 0s 3ms/step - loss: 21.7808 - mae: 21.7808\n",
            "Epoch 67/500\n",
            "2/2 [==============================] - 0s 3ms/step - loss: 10.7133 - mae: 10.7133\n",
            "Epoch 68/500\n",
            "2/2 [==============================] - 0s 4ms/step - loss: 10.6395 - mae: 10.6395\n",
            "Epoch 69/500\n",
            "2/2 [==============================] - 0s 3ms/step - loss: 22.6944 - mae: 22.6944\n",
            "Epoch 70/500\n",
            "2/2 [==============================] - 0s 3ms/step - loss: 9.3307 - mae: 9.3307\n",
            "Epoch 71/500\n",
            "2/2 [==============================] - 0s 3ms/step - loss: 15.4338 - mae: 15.4338\n",
            "Epoch 72/500\n",
            "2/2 [==============================] - 0s 3ms/step - loss: 6.7431 - mae: 6.7431\n",
            "Epoch 73/500\n",
            "2/2 [==============================] - 0s 4ms/step - loss: 11.6900 - mae: 11.6900\n",
            "Epoch 74/500\n",
            "2/2 [==============================] - 0s 7ms/step - loss: 24.0477 - mae: 24.0477\n",
            "Epoch 75/500\n",
            "2/2 [==============================] - 0s 4ms/step - loss: 9.5915 - mae: 9.5915\n",
            "Epoch 76/500\n",
            "2/2 [==============================] - 0s 3ms/step - loss: 12.4397 - mae: 12.4397\n",
            "Epoch 77/500\n",
            "2/2 [==============================] - 0s 3ms/step - loss: 16.6560 - mae: 16.6560\n",
            "Epoch 78/500\n",
            "2/2 [==============================] - 0s 3ms/step - loss: 9.0622 - mae: 9.0622\n",
            "Epoch 79/500\n",
            "2/2 [==============================] - 0s 4ms/step - loss: 23.9775 - mae: 23.9775\n",
            "Epoch 80/500\n",
            "2/2 [==============================] - 0s 7ms/step - loss: 26.7585 - mae: 26.7585\n",
            "Epoch 81/500\n",
            "2/2 [==============================] - 0s 4ms/step - loss: 11.6773 - mae: 11.6773\n",
            "Epoch 82/500\n",
            "2/2 [==============================] - 0s 4ms/step - loss: 12.0189 - mae: 12.0189\n",
            "Epoch 83/500\n",
            "2/2 [==============================] - 0s 3ms/step - loss: 17.4161 - mae: 17.4161\n",
            "Epoch 84/500\n",
            "2/2 [==============================] - 0s 4ms/step - loss: 7.2620 - mae: 7.2620\n",
            "Epoch 85/500\n",
            "2/2 [==============================] - 0s 4ms/step - loss: 14.9602 - mae: 14.9602\n",
            "Epoch 86/500\n",
            "2/2 [==============================] - 0s 12ms/step - loss: 15.2822 - mae: 15.2822\n",
            "Epoch 87/500\n",
            "2/2 [==============================] - 0s 4ms/step - loss: 19.1001 - mae: 19.1001\n",
            "Epoch 88/500\n",
            "2/2 [==============================] - 0s 3ms/step - loss: 29.8450 - mae: 29.8450\n",
            "Epoch 89/500\n",
            "2/2 [==============================] - 0s 6ms/step - loss: 10.1777 - mae: 10.1777\n",
            "Epoch 90/500\n",
            "2/2 [==============================] - 0s 7ms/step - loss: 21.5433 - mae: 21.5433\n",
            "Epoch 91/500\n",
            "2/2 [==============================] - 0s 5ms/step - loss: 10.5766 - mae: 10.5766\n",
            "Epoch 92/500\n",
            "2/2 [==============================] - 0s 6ms/step - loss: 18.4161 - mae: 18.4161\n",
            "Epoch 93/500\n",
            "2/2 [==============================] - 0s 6ms/step - loss: 7.4156 - mae: 7.4156\n",
            "Epoch 94/500\n",
            "2/2 [==============================] - 0s 3ms/step - loss: 17.7554 - mae: 17.7554\n",
            "Epoch 95/500\n",
            "2/2 [==============================] - 0s 5ms/step - loss: 11.1216 - mae: 11.1216\n",
            "Epoch 96/500\n",
            "2/2 [==============================] - 0s 5ms/step - loss: 19.4529 - mae: 19.4529\n",
            "Epoch 97/500\n",
            "2/2 [==============================] - 0s 4ms/step - loss: 12.4936 - mae: 12.4936\n",
            "Epoch 98/500\n",
            "2/2 [==============================] - 0s 6ms/step - loss: 10.2907 - mae: 10.2907\n",
            "Epoch 99/500\n",
            "2/2 [==============================] - 0s 3ms/step - loss: 13.8270 - mae: 13.8270\n",
            "Epoch 100/500\n",
            "2/2 [==============================] - 0s 9ms/step - loss: 20.1259 - mae: 20.1259\n",
            "Epoch 101/500\n",
            "2/2 [==============================] - 0s 3ms/step - loss: 11.4128 - mae: 11.4128\n",
            "Epoch 102/500\n",
            "2/2 [==============================] - 0s 6ms/step - loss: 17.3914 - mae: 17.3914\n",
            "Epoch 103/500\n",
            "2/2 [==============================] - 0s 8ms/step - loss: 7.7632 - mae: 7.7632\n",
            "Epoch 104/500\n",
            "2/2 [==============================] - 0s 4ms/step - loss: 22.1181 - mae: 22.1181\n",
            "Epoch 105/500\n",
            "2/2 [==============================] - 0s 6ms/step - loss: 20.6761 - mae: 20.6761\n",
            "Epoch 106/500\n",
            "2/2 [==============================] - 0s 5ms/step - loss: 10.0476 - mae: 10.0476\n",
            "Epoch 107/500\n",
            "2/2 [==============================] - 0s 6ms/step - loss: 24.6406 - mae: 24.6406\n",
            "Epoch 108/500\n",
            "2/2 [==============================] - 0s 4ms/step - loss: 15.4587 - mae: 15.4587\n",
            "Epoch 109/500\n",
            "2/2 [==============================] - 0s 10ms/step - loss: 8.1699 - mae: 8.1699\n",
            "Epoch 110/500\n",
            "2/2 [==============================] - 0s 6ms/step - loss: 6.7305 - mae: 6.7305\n",
            "Epoch 111/500\n",
            "2/2 [==============================] - 0s 5ms/step - loss: 11.0030 - mae: 11.0030\n",
            "Epoch 112/500\n",
            "2/2 [==============================] - 0s 6ms/step - loss: 19.8986 - mae: 19.8986\n",
            "Epoch 113/500\n",
            "2/2 [==============================] - 0s 6ms/step - loss: 14.6750 - mae: 14.6750\n",
            "Epoch 114/500\n",
            "2/2 [==============================] - 0s 6ms/step - loss: 18.4147 - mae: 18.4147\n",
            "Epoch 115/500\n",
            "2/2 [==============================] - 0s 3ms/step - loss: 10.8910 - mae: 10.8910\n",
            "Epoch 116/500\n",
            "2/2 [==============================] - 0s 4ms/step - loss: 22.3986 - mae: 22.3986\n",
            "Epoch 117/500\n",
            "2/2 [==============================] - 0s 5ms/step - loss: 9.3395 - mae: 9.3395\n",
            "Epoch 118/500\n",
            "2/2 [==============================] - 0s 6ms/step - loss: 10.3665 - mae: 10.3665\n",
            "Epoch 119/500\n",
            "2/2 [==============================] - 0s 7ms/step - loss: 8.0177 - mae: 8.0177\n",
            "Epoch 120/500\n",
            "2/2 [==============================] - 0s 3ms/step - loss: 37.8124 - mae: 37.8124\n",
            "Epoch 121/500\n",
            "2/2 [==============================] - 0s 5ms/step - loss: 10.6780 - mae: 10.6780\n",
            "Epoch 122/500\n",
            "2/2 [==============================] - 0s 4ms/step - loss: 28.3417 - mae: 28.3417\n",
            "Epoch 123/500\n",
            "2/2 [==============================] - 0s 8ms/step - loss: 32.9395 - mae: 32.9395\n",
            "Epoch 124/500\n",
            "2/2 [==============================] - 0s 3ms/step - loss: 19.6669 - mae: 19.6669\n",
            "Epoch 125/500\n",
            "2/2 [==============================] - 0s 5ms/step - loss: 7.0437 - mae: 7.0437\n",
            "Epoch 126/500\n",
            "2/2 [==============================] - 0s 6ms/step - loss: 21.8253 - mae: 21.8253\n",
            "Epoch 127/500\n",
            "2/2 [==============================] - 0s 4ms/step - loss: 8.0128 - mae: 8.0128\n",
            "Epoch 128/500\n",
            "2/2 [==============================] - 0s 7ms/step - loss: 21.0633 - mae: 21.0633\n",
            "Epoch 129/500\n",
            "2/2 [==============================] - 0s 5ms/step - loss: 9.0424 - mae: 9.0424\n",
            "Epoch 130/500\n",
            "2/2 [==============================] - 0s 4ms/step - loss: 24.0369 - mae: 24.0369\n",
            "Epoch 131/500\n",
            "2/2 [==============================] - 0s 6ms/step - loss: 9.7823 - mae: 9.7823\n",
            "Epoch 132/500\n",
            "2/2 [==============================] - 0s 5ms/step - loss: 18.2865 - mae: 18.2865\n",
            "Epoch 133/500\n",
            "2/2 [==============================] - 0s 6ms/step - loss: 7.6079 - mae: 7.6079\n",
            "Epoch 134/500\n",
            "2/2 [==============================] - 0s 5ms/step - loss: 18.5490 - mae: 18.5490\n",
            "Epoch 135/500\n",
            "2/2 [==============================] - 0s 6ms/step - loss: 10.5532 - mae: 10.5532\n",
            "Epoch 136/500\n",
            "2/2 [==============================] - 0s 4ms/step - loss: 18.2362 - mae: 18.2362\n",
            "Epoch 137/500\n",
            "2/2 [==============================] - 0s 3ms/step - loss: 23.1097 - mae: 23.1097\n",
            "Epoch 138/500\n",
            "2/2 [==============================] - 0s 5ms/step - loss: 9.1362 - mae: 9.1362\n",
            "Epoch 139/500\n",
            "2/2 [==============================] - 0s 4ms/step - loss: 8.9250 - mae: 8.9250\n",
            "Epoch 140/500\n",
            "2/2 [==============================] - 0s 3ms/step - loss: 16.4123 - mae: 16.4123\n",
            "Epoch 141/500\n",
            "2/2 [==============================] - 0s 3ms/step - loss: 8.4475 - mae: 8.4475\n",
            "Epoch 142/500\n",
            "2/2 [==============================] - 0s 6ms/step - loss: 36.7783 - mae: 36.7783\n",
            "Epoch 143/500\n",
            "2/2 [==============================] - 0s 5ms/step - loss: 25.4589 - mae: 25.4589\n",
            "Epoch 144/500\n",
            "2/2 [==============================] - 0s 6ms/step - loss: 9.5684 - mae: 9.5684\n",
            "Epoch 145/500\n",
            "2/2 [==============================] - 0s 8ms/step - loss: 26.6540 - mae: 26.6540\n",
            "Epoch 146/500\n",
            "2/2 [==============================] - 0s 14ms/step - loss: 8.6893 - mae: 8.6893\n",
            "Epoch 147/500\n",
            "2/2 [==============================] - 0s 9ms/step - loss: 15.6780 - mae: 15.6780\n",
            "Epoch 148/500\n",
            "2/2 [==============================] - 0s 18ms/step - loss: 18.3811 - mae: 18.3811\n",
            "Epoch 149/500\n",
            "2/2 [==============================] - 0s 7ms/step - loss: 8.1686 - mae: 8.1686\n",
            "Epoch 150/500\n",
            "2/2 [==============================] - 0s 4ms/step - loss: 7.5025 - mae: 7.5025\n",
            "Epoch 151/500\n",
            "2/2 [==============================] - 0s 4ms/step - loss: 18.1797 - mae: 18.1797\n",
            "Epoch 152/500\n",
            "2/2 [==============================] - 0s 6ms/step - loss: 10.2748 - mae: 10.2748\n",
            "Epoch 153/500\n",
            "2/2 [==============================] - 0s 12ms/step - loss: 29.3731 - mae: 29.3731\n",
            "Epoch 154/500\n",
            "2/2 [==============================] - 0s 15ms/step - loss: 10.6242 - mae: 10.6242\n",
            "Epoch 155/500\n",
            "2/2 [==============================] - 0s 3ms/step - loss: 15.5158 - mae: 15.5158\n",
            "Epoch 156/500\n",
            "2/2 [==============================] - 0s 7ms/step - loss: 17.1452 - mae: 17.1452\n",
            "Epoch 157/500\n",
            "2/2 [==============================] - 0s 4ms/step - loss: 32.4953 - mae: 32.4953\n",
            "Epoch 158/500\n",
            "2/2 [==============================] - 0s 4ms/step - loss: 10.6374 - mae: 10.6374\n",
            "Epoch 159/500\n",
            "2/2 [==============================] - 0s 3ms/step - loss: 8.8869 - mae: 8.8869\n",
            "Epoch 160/500\n",
            "2/2 [==============================] - 0s 4ms/step - loss: 21.8828 - mae: 21.8828\n",
            "Epoch 161/500\n",
            "2/2 [==============================] - 0s 3ms/step - loss: 11.1038 - mae: 11.1038\n",
            "Epoch 162/500\n",
            "2/2 [==============================] - 0s 3ms/step - loss: 21.4111 - mae: 21.4111\n",
            "Epoch 163/500\n",
            "2/2 [==============================] - 0s 4ms/step - loss: 18.8899 - mae: 18.8899\n",
            "Epoch 164/500\n",
            "2/2 [==============================] - 0s 4ms/step - loss: 12.7299 - mae: 12.7299\n",
            "Epoch 165/500\n",
            "2/2 [==============================] - 0s 4ms/step - loss: 12.7245 - mae: 12.7245\n",
            "Epoch 166/500\n",
            "2/2 [==============================] - 0s 3ms/step - loss: 18.8935 - mae: 18.8935\n",
            "Epoch 167/500\n",
            "2/2 [==============================] - 0s 3ms/step - loss: 26.8464 - mae: 26.8464\n",
            "Epoch 168/500\n",
            "2/2 [==============================] - 0s 3ms/step - loss: 9.9954 - mae: 9.9954\n",
            "Epoch 169/500\n",
            "2/2 [==============================] - 0s 3ms/step - loss: 23.0949 - mae: 23.0949\n",
            "Epoch 170/500\n",
            "2/2 [==============================] - 0s 3ms/step - loss: 10.0830 - mae: 10.0830\n",
            "Epoch 171/500\n",
            "2/2 [==============================] - 0s 3ms/step - loss: 17.8298 - mae: 17.8298\n",
            "Epoch 172/500\n",
            "2/2 [==============================] - 0s 3ms/step - loss: 29.3660 - mae: 29.3660\n",
            "Epoch 173/500\n",
            "2/2 [==============================] - 0s 3ms/step - loss: 16.9570 - mae: 16.9570\n",
            "Epoch 174/500\n",
            "2/2 [==============================] - 0s 3ms/step - loss: 11.1821 - mae: 11.1821\n",
            "Epoch 175/500\n",
            "2/2 [==============================] - 0s 3ms/step - loss: 27.4519 - mae: 27.4519\n",
            "Epoch 176/500\n",
            "2/2 [==============================] - 0s 9ms/step - loss: 8.4465 - mae: 8.4465\n",
            "Epoch 177/500\n",
            "2/2 [==============================] - 0s 5ms/step - loss: 9.4024 - mae: 9.4024\n",
            "Epoch 178/500\n",
            "2/2 [==============================] - 0s 11ms/step - loss: 18.5623 - mae: 18.5623\n",
            "Epoch 179/500\n",
            "2/2 [==============================] - 0s 4ms/step - loss: 10.4211 - mae: 10.4211\n",
            "Epoch 180/500\n",
            "2/2 [==============================] - 0s 4ms/step - loss: 8.0025 - mae: 8.0025\n",
            "Epoch 181/500\n",
            "2/2 [==============================] - 0s 3ms/step - loss: 17.7375 - mae: 17.7375\n",
            "Epoch 182/500\n",
            "2/2 [==============================] - 0s 3ms/step - loss: 11.1926 - mae: 11.1926\n",
            "Epoch 183/500\n",
            "2/2 [==============================] - 0s 8ms/step - loss: 12.3807 - mae: 12.3807\n",
            "Epoch 184/500\n",
            "2/2 [==============================] - 0s 6ms/step - loss: 27.3111 - mae: 27.3111\n",
            "Epoch 185/500\n",
            "2/2 [==============================] - 0s 6ms/step - loss: 7.5808 - mae: 7.5808\n",
            "Epoch 186/500\n",
            "2/2 [==============================] - 0s 12ms/step - loss: 15.9744 - mae: 15.9744\n",
            "Epoch 187/500\n",
            "2/2 [==============================] - 0s 3ms/step - loss: 8.6005 - mae: 8.6005\n",
            "Epoch 188/500\n",
            "2/2 [==============================] - 0s 4ms/step - loss: 28.7910 - mae: 28.7910\n",
            "Epoch 189/500\n",
            "2/2 [==============================] - 0s 5ms/step - loss: 13.1698 - mae: 13.1698\n",
            "Epoch 190/500\n",
            "2/2 [==============================] - 0s 5ms/step - loss: 18.3127 - mae: 18.3127\n",
            "Epoch 191/500\n",
            "2/2 [==============================] - 0s 10ms/step - loss: 13.7415 - mae: 13.7415\n",
            "Epoch 192/500\n",
            "2/2 [==============================] - 0s 14ms/step - loss: 13.7247 - mae: 13.7247\n",
            "Epoch 193/500\n",
            "2/2 [==============================] - 0s 3ms/step - loss: 28.5846 - mae: 28.5846\n",
            "Epoch 194/500\n",
            "2/2 [==============================] - 0s 6ms/step - loss: 7.0994 - mae: 7.0994\n",
            "Epoch 195/500\n",
            "2/2 [==============================] - 0s 3ms/step - loss: 7.0838 - mae: 7.0838\n",
            "Epoch 196/500\n",
            "2/2 [==============================] - 0s 5ms/step - loss: 22.0248 - mae: 22.0248\n",
            "Epoch 197/500\n",
            "2/2 [==============================] - 0s 5ms/step - loss: 20.8128 - mae: 20.8128\n",
            "Epoch 198/500\n",
            "2/2 [==============================] - 0s 3ms/step - loss: 12.4628 - mae: 12.4628\n",
            "Epoch 199/500\n",
            "2/2 [==============================] - 0s 4ms/step - loss: 17.8806 - mae: 17.8806\n",
            "Epoch 200/500\n",
            "2/2 [==============================] - 0s 3ms/step - loss: 13.7241 - mae: 13.7241\n",
            "Epoch 201/500\n",
            "2/2 [==============================] - 0s 7ms/step - loss: 5.5049 - mae: 5.5049\n",
            "Epoch 202/500\n",
            "2/2 [==============================] - 0s 4ms/step - loss: 13.6718 - mae: 13.6718\n",
            "Epoch 203/500\n",
            "2/2 [==============================] - 0s 6ms/step - loss: 9.4306 - mae: 9.4306\n",
            "Epoch 204/500\n",
            "2/2 [==============================] - 0s 3ms/step - loss: 20.8935 - mae: 20.8935\n",
            "Epoch 205/500\n",
            "2/2 [==============================] - 0s 4ms/step - loss: 9.5479 - mae: 9.5479\n",
            "Epoch 206/500\n",
            "2/2 [==============================] - 0s 4ms/step - loss: 11.1892 - mae: 11.1892\n",
            "Epoch 207/500\n",
            "2/2 [==============================] - 0s 3ms/step - loss: 17.7692 - mae: 17.7692\n",
            "Epoch 208/500\n",
            "2/2 [==============================] - 0s 6ms/step - loss: 14.4476 - mae: 14.4476\n",
            "Epoch 209/500\n",
            "2/2 [==============================] - 0s 6ms/step - loss: 16.7884 - mae: 16.7884\n",
            "Epoch 210/500\n",
            "2/2 [==============================] - 0s 5ms/step - loss: 18.3191 - mae: 18.3191\n",
            "Epoch 211/500\n",
            "2/2 [==============================] - 0s 14ms/step - loss: 9.9901 - mae: 9.9901\n",
            "Epoch 212/500\n",
            "2/2 [==============================] - 0s 6ms/step - loss: 18.8135 - mae: 18.8135\n",
            "Epoch 213/500\n",
            "2/2 [==============================] - 0s 9ms/step - loss: 14.9221 - mae: 14.9221\n",
            "Epoch 214/500\n",
            "2/2 [==============================] - 0s 10ms/step - loss: 14.5153 - mae: 14.5153\n",
            "Epoch 215/500\n",
            "2/2 [==============================] - 0s 4ms/step - loss: 23.1448 - mae: 23.1448\n",
            "Epoch 216/500\n",
            "2/2 [==============================] - 0s 4ms/step - loss: 13.6426 - mae: 13.6426\n",
            "Epoch 217/500\n",
            "2/2 [==============================] - 0s 5ms/step - loss: 10.0996 - mae: 10.0996\n",
            "Epoch 218/500\n",
            "2/2 [==============================] - 0s 5ms/step - loss: 12.3897 - mae: 12.3897\n",
            "Epoch 219/500\n",
            "2/2 [==============================] - 0s 7ms/step - loss: 6.4628 - mae: 6.4628\n",
            "Epoch 220/500\n",
            "2/2 [==============================] - 0s 5ms/step - loss: 7.1260 - mae: 7.1260\n",
            "Epoch 221/500\n",
            "2/2 [==============================] - 0s 4ms/step - loss: 37.1232 - mae: 37.1232\n",
            "Epoch 222/500\n",
            "2/2 [==============================] - 0s 4ms/step - loss: 36.8689 - mae: 36.8689\n",
            "Epoch 223/500\n",
            "2/2 [==============================] - 0s 10ms/step - loss: 6.6997 - mae: 6.6997\n",
            "Epoch 224/500\n",
            "2/2 [==============================] - 0s 3ms/step - loss: 13.8774 - mae: 13.8774\n",
            "Epoch 225/500\n",
            "2/2 [==============================] - 0s 5ms/step - loss: 16.0519 - mae: 16.0519\n",
            "Epoch 226/500\n",
            "2/2 [==============================] - 0s 7ms/step - loss: 15.2556 - mae: 15.2556\n",
            "Epoch 227/500\n",
            "2/2 [==============================] - 0s 4ms/step - loss: 15.5952 - mae: 15.5952\n",
            "Epoch 228/500\n",
            "2/2 [==============================] - 0s 13ms/step - loss: 13.6549 - mae: 13.6549\n",
            "Epoch 229/500\n",
            "2/2 [==============================] - 0s 19ms/step - loss: 17.7344 - mae: 17.7344\n",
            "Epoch 230/500\n",
            "2/2 [==============================] - 0s 14ms/step - loss: 15.1982 - mae: 15.1982\n",
            "Epoch 231/500\n",
            "2/2 [==============================] - 0s 42ms/step - loss: 21.0690 - mae: 21.0690\n",
            "Epoch 232/500\n",
            "2/2 [==============================] - 0s 6ms/step - loss: 25.5930 - mae: 25.5930\n",
            "Epoch 233/500\n",
            "2/2 [==============================] - 0s 4ms/step - loss: 16.5707 - mae: 16.5707\n",
            "Epoch 234/500\n",
            "2/2 [==============================] - 0s 6ms/step - loss: 7.3602 - mae: 7.3602\n",
            "Epoch 235/500\n",
            "2/2 [==============================] - 0s 5ms/step - loss: 17.2156 - mae: 17.2156\n",
            "Epoch 236/500\n",
            "2/2 [==============================] - 0s 5ms/step - loss: 7.2308 - mae: 7.2308\n",
            "Epoch 237/500\n",
            "2/2 [==============================] - 0s 5ms/step - loss: 9.3425 - mae: 9.3425\n",
            "Epoch 238/500\n",
            "2/2 [==============================] - 0s 15ms/step - loss: 8.1823 - mae: 8.1823\n",
            "Epoch 239/500\n",
            "2/2 [==============================] - 0s 5ms/step - loss: 17.2632 - mae: 17.2632\n",
            "Epoch 240/500\n",
            "2/2 [==============================] - 0s 9ms/step - loss: 8.9704 - mae: 8.9704\n",
            "Epoch 241/500\n",
            "2/2 [==============================] - 0s 4ms/step - loss: 13.3290 - mae: 13.3290\n",
            "Epoch 242/500\n",
            "2/2 [==============================] - 0s 7ms/step - loss: 8.8727 - mae: 8.8727\n",
            "Epoch 243/500\n",
            "2/2 [==============================] - 0s 3ms/step - loss: 19.1182 - mae: 19.1182\n",
            "Epoch 244/500\n",
            "2/2 [==============================] - 0s 4ms/step - loss: 13.9484 - mae: 13.9484\n",
            "Epoch 245/500\n",
            "2/2 [==============================] - 0s 3ms/step - loss: 14.5894 - mae: 14.5894\n",
            "Epoch 246/500\n",
            "2/2 [==============================] - 0s 5ms/step - loss: 15.7282 - mae: 15.7282\n",
            "Epoch 247/500\n",
            "2/2 [==============================] - 0s 7ms/step - loss: 17.5794 - mae: 17.5794\n",
            "Epoch 248/500\n",
            "2/2 [==============================] - 0s 4ms/step - loss: 13.1431 - mae: 13.1431\n",
            "Epoch 249/500\n",
            "2/2 [==============================] - 0s 5ms/step - loss: 14.4573 - mae: 14.4573\n",
            "Epoch 250/500\n",
            "2/2 [==============================] - 0s 6ms/step - loss: 23.1259 - mae: 23.1259\n",
            "Epoch 251/500\n",
            "2/2 [==============================] - 0s 5ms/step - loss: 10.0993 - mae: 10.0993\n",
            "Epoch 252/500\n",
            "2/2 [==============================] - 0s 5ms/step - loss: 32.5760 - mae: 32.5760\n",
            "Epoch 253/500\n",
            "2/2 [==============================] - 0s 13ms/step - loss: 18.6349 - mae: 18.6349\n",
            "Epoch 254/500\n",
            "2/2 [==============================] - 0s 7ms/step - loss: 6.3605 - mae: 6.3605\n",
            "Epoch 255/500\n",
            "2/2 [==============================] - 0s 10ms/step - loss: 19.4565 - mae: 19.4565\n",
            "Epoch 256/500\n",
            "2/2 [==============================] - 0s 15ms/step - loss: 33.4780 - mae: 33.4780\n",
            "Epoch 257/500\n",
            "2/2 [==============================] - 0s 10ms/step - loss: 16.5389 - mae: 16.5389\n",
            "Epoch 258/500\n",
            "2/2 [==============================] - 0s 5ms/step - loss: 5.8270 - mae: 5.8270\n",
            "Epoch 259/500\n",
            "2/2 [==============================] - 0s 5ms/step - loss: 14.8375 - mae: 14.8375\n",
            "Epoch 260/500\n",
            "2/2 [==============================] - 0s 13ms/step - loss: 14.9763 - mae: 14.9763\n",
            "Epoch 261/500\n",
            "2/2 [==============================] - 0s 6ms/step - loss: 17.4646 - mae: 17.4646\n",
            "Epoch 262/500\n",
            "2/2 [==============================] - 0s 10ms/step - loss: 15.5648 - mae: 15.5648\n",
            "Epoch 263/500\n",
            "2/2 [==============================] - 0s 4ms/step - loss: 10.0877 - mae: 10.0877\n",
            "Epoch 264/500\n",
            "2/2 [==============================] - 0s 3ms/step - loss: 20.2057 - mae: 20.2057\n",
            "Epoch 265/500\n",
            "2/2 [==============================] - 0s 6ms/step - loss: 9.7370 - mae: 9.7370\n",
            "Epoch 266/500\n",
            "2/2 [==============================] - 0s 4ms/step - loss: 7.8337 - mae: 7.8337\n",
            "Epoch 267/500\n",
            "2/2 [==============================] - 0s 7ms/step - loss: 7.5965 - mae: 7.5965\n",
            "Epoch 268/500\n",
            "2/2 [==============================] - 0s 4ms/step - loss: 18.4275 - mae: 18.4275\n",
            "Epoch 269/500\n",
            "2/2 [==============================] - 0s 5ms/step - loss: 21.8102 - mae: 21.8102\n",
            "Epoch 270/500\n",
            "2/2 [==============================] - 0s 4ms/step - loss: 5.4548 - mae: 5.4548\n",
            "Epoch 271/500\n",
            "2/2 [==============================] - 0s 6ms/step - loss: 12.0802 - mae: 12.0802\n",
            "Epoch 272/500\n",
            "2/2 [==============================] - 0s 5ms/step - loss: 26.1081 - mae: 26.1081\n",
            "Epoch 273/500\n",
            "2/2 [==============================] - 0s 4ms/step - loss: 12.2215 - mae: 12.2215\n",
            "Epoch 274/500\n",
            "2/2 [==============================] - 0s 3ms/step - loss: 13.3033 - mae: 13.3033\n",
            "Epoch 275/500\n",
            "2/2 [==============================] - 0s 5ms/step - loss: 29.3499 - mae: 29.3499\n",
            "Epoch 276/500\n",
            "2/2 [==============================] - 0s 5ms/step - loss: 7.3227 - mae: 7.3227\n",
            "Epoch 277/500\n",
            "2/2 [==============================] - 0s 6ms/step - loss: 31.1112 - mae: 31.1112\n",
            "Epoch 278/500\n",
            "2/2 [==============================] - 0s 3ms/step - loss: 12.2633 - mae: 12.2633\n",
            "Epoch 279/500\n",
            "2/2 [==============================] - 0s 6ms/step - loss: 16.3798 - mae: 16.3798\n",
            "Epoch 280/500\n",
            "2/2 [==============================] - 0s 5ms/step - loss: 21.8541 - mae: 21.8541\n",
            "Epoch 281/500\n",
            "2/2 [==============================] - 0s 5ms/step - loss: 22.2879 - mae: 22.2879\n",
            "Epoch 282/500\n",
            "2/2 [==============================] - 0s 4ms/step - loss: 7.7599 - mae: 7.7599\n",
            "Epoch 283/500\n",
            "2/2 [==============================] - 0s 6ms/step - loss: 8.1446 - mae: 8.1446\n",
            "Epoch 284/500\n",
            "2/2 [==============================] - 0s 6ms/step - loss: 25.0973 - mae: 25.0973\n",
            "Epoch 285/500\n",
            "2/2 [==============================] - 0s 19ms/step - loss: 13.8133 - mae: 13.8133\n",
            "Epoch 286/500\n",
            "2/2 [==============================] - 0s 9ms/step - loss: 6.8749 - mae: 6.8749\n",
            "Epoch 287/500\n",
            "2/2 [==============================] - 0s 5ms/step - loss: 24.4743 - mae: 24.4743\n",
            "Epoch 288/500\n",
            "2/2 [==============================] - 0s 32ms/step - loss: 20.3418 - mae: 20.3418\n",
            "Epoch 289/500\n",
            "2/2 [==============================] - 0s 6ms/step - loss: 11.9105 - mae: 11.9105\n",
            "Epoch 290/500\n",
            "2/2 [==============================] - 0s 11ms/step - loss: 16.4863 - mae: 16.4863\n",
            "Epoch 291/500\n",
            "2/2 [==============================] - 0s 6ms/step - loss: 16.7313 - mae: 16.7313\n",
            "Epoch 292/500\n",
            "2/2 [==============================] - 0s 10ms/step - loss: 8.8046 - mae: 8.8046\n",
            "Epoch 293/500\n",
            "2/2 [==============================] - 0s 5ms/step - loss: 15.6748 - mae: 15.6748\n",
            "Epoch 294/500\n",
            "2/2 [==============================] - 0s 5ms/step - loss: 23.5490 - mae: 23.5490\n",
            "Epoch 295/500\n",
            "2/2 [==============================] - 0s 6ms/step - loss: 16.0789 - mae: 16.0789\n",
            "Epoch 296/500\n",
            "2/2 [==============================] - 0s 3ms/step - loss: 5.3591 - mae: 5.3591\n",
            "Epoch 297/500\n",
            "2/2 [==============================] - 0s 5ms/step - loss: 12.5751 - mae: 12.5751\n",
            "Epoch 298/500\n",
            "2/2 [==============================] - 0s 4ms/step - loss: 24.3215 - mae: 24.3215\n",
            "Epoch 299/500\n",
            "2/2 [==============================] - 0s 8ms/step - loss: 17.6802 - mae: 17.6802\n",
            "Epoch 300/500\n",
            "2/2 [==============================] - 0s 6ms/step - loss: 6.9603 - mae: 6.9603\n",
            "Epoch 301/500\n",
            "2/2 [==============================] - 0s 6ms/step - loss: 25.1222 - mae: 25.1222\n",
            "Epoch 302/500\n",
            "2/2 [==============================] - 0s 8ms/step - loss: 8.8735 - mae: 8.8735\n",
            "Epoch 303/500\n",
            "2/2 [==============================] - 0s 3ms/step - loss: 17.7261 - mae: 17.7261\n",
            "Epoch 304/500\n",
            "2/2 [==============================] - 0s 5ms/step - loss: 10.9656 - mae: 10.9656\n",
            "Epoch 305/500\n",
            "2/2 [==============================] - 0s 10ms/step - loss: 12.8929 - mae: 12.8929\n",
            "Epoch 306/500\n",
            "2/2 [==============================] - 0s 6ms/step - loss: 8.3789 - mae: 8.3789\n",
            "Epoch 307/500\n",
            "2/2 [==============================] - 0s 10ms/step - loss: 13.5891 - mae: 13.5891\n",
            "Epoch 308/500\n",
            "2/2 [==============================] - 0s 9ms/step - loss: 7.4209 - mae: 7.4209\n",
            "Epoch 309/500\n",
            "2/2 [==============================] - 0s 11ms/step - loss: 9.4495 - mae: 9.4495\n",
            "Epoch 310/500\n",
            "2/2 [==============================] - 0s 4ms/step - loss: 10.7052 - mae: 10.7052\n",
            "Epoch 311/500\n",
            "2/2 [==============================] - 0s 9ms/step - loss: 13.2732 - mae: 13.2732\n",
            "Epoch 312/500\n",
            "2/2 [==============================] - 0s 8ms/step - loss: 29.9718 - mae: 29.9718\n",
            "Epoch 313/500\n",
            "2/2 [==============================] - 0s 6ms/step - loss: 7.6220 - mae: 7.6220\n",
            "Epoch 314/500\n",
            "2/2 [==============================] - 0s 5ms/step - loss: 9.8992 - mae: 9.8992\n",
            "Epoch 315/500\n",
            "2/2 [==============================] - 0s 8ms/step - loss: 23.7521 - mae: 23.7521\n",
            "Epoch 316/500\n",
            "2/2 [==============================] - 0s 4ms/step - loss: 16.4200 - mae: 16.4200\n",
            "Epoch 317/500\n",
            "2/2 [==============================] - 0s 6ms/step - loss: 21.1063 - mae: 21.1063\n",
            "Epoch 318/500\n",
            "2/2 [==============================] - 0s 7ms/step - loss: 7.9317 - mae: 7.9317\n",
            "Epoch 319/500\n",
            "2/2 [==============================] - 0s 6ms/step - loss: 18.0085 - mae: 18.0085\n",
            "Epoch 320/500\n",
            "2/2 [==============================] - 0s 13ms/step - loss: 10.5559 - mae: 10.5559\n",
            "Epoch 321/500\n",
            "2/2 [==============================] - 0s 6ms/step - loss: 6.9525 - mae: 6.9525\n",
            "Epoch 322/500\n",
            "2/2 [==============================] - 0s 6ms/step - loss: 9.2059 - mae: 9.2059\n",
            "Epoch 323/500\n",
            "2/2 [==============================] - 0s 8ms/step - loss: 17.8515 - mae: 17.8515\n",
            "Epoch 324/500\n",
            "2/2 [==============================] - 0s 5ms/step - loss: 15.9398 - mae: 15.9398\n",
            "Epoch 325/500\n",
            "2/2 [==============================] - 0s 9ms/step - loss: 17.6088 - mae: 17.6088\n",
            "Epoch 326/500\n",
            "2/2 [==============================] - 0s 3ms/step - loss: 23.9264 - mae: 23.9264\n",
            "Epoch 327/500\n",
            "2/2 [==============================] - 0s 6ms/step - loss: 10.2878 - mae: 10.2878\n",
            "Epoch 328/500\n",
            "2/2 [==============================] - 0s 7ms/step - loss: 13.1271 - mae: 13.1271\n",
            "Epoch 329/500\n",
            "2/2 [==============================] - 0s 16ms/step - loss: 15.9901 - mae: 15.9901\n",
            "Epoch 330/500\n",
            "2/2 [==============================] - 0s 4ms/step - loss: 14.3283 - mae: 14.3283\n",
            "Epoch 331/500\n",
            "2/2 [==============================] - 0s 4ms/step - loss: 25.7696 - mae: 25.7696\n",
            "Epoch 332/500\n",
            "2/2 [==============================] - 0s 5ms/step - loss: 17.1405 - mae: 17.1405\n",
            "Epoch 333/500\n",
            "2/2 [==============================] - 0s 4ms/step - loss: 8.4664 - mae: 8.4664\n",
            "Epoch 334/500\n",
            "2/2 [==============================] - 0s 11ms/step - loss: 13.3581 - mae: 13.3581\n",
            "Epoch 335/500\n",
            "2/2 [==============================] - 0s 7ms/step - loss: 13.0693 - mae: 13.0693\n",
            "Epoch 336/500\n",
            "2/2 [==============================] - 0s 6ms/step - loss: 32.5681 - mae: 32.5681\n",
            "Epoch 337/500\n",
            "2/2 [==============================] - 0s 5ms/step - loss: 11.1013 - mae: 11.1013\n",
            "Epoch 338/500\n",
            "2/2 [==============================] - 0s 8ms/step - loss: 20.0894 - mae: 20.0894\n",
            "Epoch 339/500\n",
            "2/2 [==============================] - 0s 7ms/step - loss: 33.9316 - mae: 33.9316\n",
            "Epoch 340/500\n",
            "2/2 [==============================] - 0s 5ms/step - loss: 8.6135 - mae: 8.6135\n",
            "Epoch 341/500\n",
            "2/2 [==============================] - 0s 5ms/step - loss: 21.6551 - mae: 21.6551\n",
            "Epoch 342/500\n",
            "2/2 [==============================] - 0s 4ms/step - loss: 14.0274 - mae: 14.0274\n",
            "Epoch 343/500\n",
            "2/2 [==============================] - 0s 8ms/step - loss: 11.5577 - mae: 11.5577\n",
            "Epoch 344/500\n",
            "2/2 [==============================] - 0s 5ms/step - loss: 10.6595 - mae: 10.6595\n",
            "Epoch 345/500\n",
            "2/2 [==============================] - 0s 4ms/step - loss: 30.8289 - mae: 30.8289\n",
            "Epoch 346/500\n",
            "2/2 [==============================] - 0s 4ms/step - loss: 10.5862 - mae: 10.5862\n",
            "Epoch 347/500\n",
            "2/2 [==============================] - 0s 4ms/step - loss: 25.4489 - mae: 25.4489\n",
            "Epoch 348/500\n",
            "2/2 [==============================] - 0s 3ms/step - loss: 13.5496 - mae: 13.5496\n",
            "Epoch 349/500\n",
            "2/2 [==============================] - 0s 3ms/step - loss: 12.9300 - mae: 12.9300\n",
            "Epoch 350/500\n",
            "2/2 [==============================] - 0s 4ms/step - loss: 15.3579 - mae: 15.3579\n",
            "Epoch 351/500\n",
            "2/2 [==============================] - 0s 3ms/step - loss: 32.8111 - mae: 32.8111\n",
            "Epoch 352/500\n",
            "2/2 [==============================] - 0s 3ms/step - loss: 13.8639 - mae: 13.8639\n",
            "Epoch 353/500\n",
            "2/2 [==============================] - 0s 4ms/step - loss: 15.8681 - mae: 15.8681\n",
            "Epoch 354/500\n",
            "2/2 [==============================] - 0s 4ms/step - loss: 18.9778 - mae: 18.9778\n",
            "Epoch 355/500\n",
            "2/2 [==============================] - 0s 3ms/step - loss: 34.4290 - mae: 34.4290\n",
            "Epoch 356/500\n",
            "2/2 [==============================] - 0s 4ms/step - loss: 8.3093 - mae: 8.3093\n",
            "Epoch 357/500\n",
            "2/2 [==============================] - 0s 9ms/step - loss: 21.9194 - mae: 21.9194\n",
            "Epoch 358/500\n",
            "2/2 [==============================] - 0s 12ms/step - loss: 20.0611 - mae: 20.0611\n",
            "Epoch 359/500\n",
            "2/2 [==============================] - 0s 11ms/step - loss: 11.0307 - mae: 11.0307\n",
            "Epoch 360/500\n",
            "2/2 [==============================] - 0s 8ms/step - loss: 20.2508 - mae: 20.2508\n",
            "Epoch 361/500\n",
            "2/2 [==============================] - 0s 14ms/step - loss: 11.0393 - mae: 11.0393\n",
            "Epoch 362/500\n",
            "2/2 [==============================] - 0s 11ms/step - loss: 6.8096 - mae: 6.8096\n",
            "Epoch 363/500\n",
            "2/2 [==============================] - 0s 8ms/step - loss: 24.0525 - mae: 24.0525\n",
            "Epoch 364/500\n",
            "2/2 [==============================] - 0s 12ms/step - loss: 29.8340 - mae: 29.8340\n",
            "Epoch 365/500\n",
            "2/2 [==============================] - 0s 7ms/step - loss: 8.3629 - mae: 8.3629\n",
            "Epoch 366/500\n",
            "2/2 [==============================] - 0s 6ms/step - loss: 6.0797 - mae: 6.0797\n",
            "Epoch 367/500\n",
            "2/2 [==============================] - 0s 10ms/step - loss: 35.0254 - mae: 35.0254\n",
            "Epoch 368/500\n",
            "2/2 [==============================] - 0s 13ms/step - loss: 7.4177 - mae: 7.4177\n",
            "Epoch 369/500\n",
            "2/2 [==============================] - 0s 9ms/step - loss: 9.2537 - mae: 9.2537\n",
            "Epoch 370/500\n",
            "2/2 [==============================] - 0s 3ms/step - loss: 10.9758 - mae: 10.9758\n",
            "Epoch 371/500\n",
            "2/2 [==============================] - 0s 12ms/step - loss: 9.0383 - mae: 9.0383\n",
            "Epoch 372/500\n",
            "2/2 [==============================] - 0s 7ms/step - loss: 6.9291 - mae: 6.9291\n",
            "Epoch 373/500\n",
            "2/2 [==============================] - 0s 8ms/step - loss: 25.9172 - mae: 25.9172\n",
            "Epoch 374/500\n",
            "2/2 [==============================] - 0s 8ms/step - loss: 11.0200 - mae: 11.0200\n",
            "Epoch 375/500\n",
            "2/2 [==============================] - 0s 8ms/step - loss: 10.7509 - mae: 10.7509\n",
            "Epoch 376/500\n",
            "2/2 [==============================] - 0s 6ms/step - loss: 13.5506 - mae: 13.5506\n",
            "Epoch 377/500\n",
            "2/2 [==============================] - 0s 7ms/step - loss: 15.2368 - mae: 15.2368\n",
            "Epoch 378/500\n",
            "2/2 [==============================] - 0s 4ms/step - loss: 16.3812 - mae: 16.3812\n",
            "Epoch 379/500\n",
            "2/2 [==============================] - 0s 6ms/step - loss: 21.1003 - mae: 21.1003\n",
            "Epoch 380/500\n",
            "2/2 [==============================] - 0s 7ms/step - loss: 32.7504 - mae: 32.7504\n",
            "Epoch 381/500\n",
            "2/2 [==============================] - 0s 4ms/step - loss: 7.9745 - mae: 7.9745\n",
            "Epoch 382/500\n",
            "2/2 [==============================] - 0s 6ms/step - loss: 12.4988 - mae: 12.4988\n",
            "Epoch 383/500\n",
            "2/2 [==============================] - 0s 6ms/step - loss: 7.2244 - mae: 7.2244\n",
            "Epoch 384/500\n",
            "2/2 [==============================] - 0s 4ms/step - loss: 6.4168 - mae: 6.4168\n",
            "Epoch 385/500\n",
            "2/2 [==============================] - 0s 12ms/step - loss: 11.5941 - mae: 11.5941\n",
            "Epoch 386/500\n",
            "2/2 [==============================] - 0s 14ms/step - loss: 19.9152 - mae: 19.9152\n",
            "Epoch 387/500\n",
            "2/2 [==============================] - 0s 20ms/step - loss: 24.5169 - mae: 24.5169\n",
            "Epoch 388/500\n",
            "2/2 [==============================] - 0s 7ms/step - loss: 8.1466 - mae: 8.1466\n",
            "Epoch 389/500\n",
            "2/2 [==============================] - 0s 9ms/step - loss: 10.7483 - mae: 10.7483\n",
            "Epoch 390/500\n",
            "2/2 [==============================] - 0s 5ms/step - loss: 4.7499 - mae: 4.7499\n",
            "Epoch 391/500\n",
            "2/2 [==============================] - 0s 4ms/step - loss: 18.8299 - mae: 18.8299\n",
            "Epoch 392/500\n",
            "2/2 [==============================] - 0s 5ms/step - loss: 26.9385 - mae: 26.9385\n",
            "Epoch 393/500\n",
            "2/2 [==============================] - 0s 4ms/step - loss: 12.2958 - mae: 12.2958\n",
            "Epoch 394/500\n",
            "2/2 [==============================] - 0s 4ms/step - loss: 11.8130 - mae: 11.8130\n",
            "Epoch 395/500\n",
            "2/2 [==============================] - 0s 3ms/step - loss: 25.2889 - mae: 25.2889\n",
            "Epoch 396/500\n",
            "2/2 [==============================] - 0s 4ms/step - loss: 18.2869 - mae: 18.2869\n",
            "Epoch 397/500\n",
            "2/2 [==============================] - 0s 3ms/step - loss: 11.7592 - mae: 11.7592\n",
            "Epoch 398/500\n",
            "2/2 [==============================] - 0s 4ms/step - loss: 19.6129 - mae: 19.6129\n",
            "Epoch 399/500\n",
            "2/2 [==============================] - 0s 8ms/step - loss: 25.0600 - mae: 25.0600\n",
            "Epoch 400/500\n",
            "2/2 [==============================] - 0s 11ms/step - loss: 14.7973 - mae: 14.7973\n",
            "Epoch 401/500\n",
            "2/2 [==============================] - 0s 11ms/step - loss: 14.9802 - mae: 14.9802\n",
            "Epoch 402/500\n",
            "2/2 [==============================] - 0s 11ms/step - loss: 24.3620 - mae: 24.3620\n",
            "Epoch 403/500\n",
            "2/2 [==============================] - 0s 14ms/step - loss: 16.0928 - mae: 16.0928\n",
            "Epoch 404/500\n",
            "2/2 [==============================] - 0s 14ms/step - loss: 10.2963 - mae: 10.2963\n",
            "Epoch 405/500\n",
            "2/2 [==============================] - 0s 7ms/step - loss: 6.3357 - mae: 6.3357\n",
            "Epoch 406/500\n",
            "2/2 [==============================] - 0s 9ms/step - loss: 17.5524 - mae: 17.5524\n",
            "Epoch 407/500\n",
            "2/2 [==============================] - 0s 5ms/step - loss: 11.0651 - mae: 11.0651\n",
            "Epoch 408/500\n",
            "2/2 [==============================] - 0s 5ms/step - loss: 21.1747 - mae: 21.1747\n",
            "Epoch 409/500\n",
            "2/2 [==============================] - 0s 5ms/step - loss: 30.0104 - mae: 30.0104\n",
            "Epoch 410/500\n",
            "2/2 [==============================] - 0s 6ms/step - loss: 9.8976 - mae: 9.8976\n",
            "Epoch 411/500\n",
            "2/2 [==============================] - 0s 6ms/step - loss: 14.7559 - mae: 14.7559\n",
            "Epoch 412/500\n",
            "2/2 [==============================] - 0s 6ms/step - loss: 21.5385 - mae: 21.5385\n",
            "Epoch 413/500\n",
            "2/2 [==============================] - 0s 4ms/step - loss: 13.1558 - mae: 13.1558\n",
            "Epoch 414/500\n",
            "2/2 [==============================] - 0s 4ms/step - loss: 8.2655 - mae: 8.2655\n",
            "Epoch 415/500\n",
            "2/2 [==============================] - 0s 6ms/step - loss: 11.6888 - mae: 11.6888\n",
            "Epoch 416/500\n",
            "2/2 [==============================] - 0s 5ms/step - loss: 25.6040 - mae: 25.6040\n",
            "Epoch 417/500\n",
            "2/2 [==============================] - 0s 4ms/step - loss: 15.7840 - mae: 15.7840\n",
            "Epoch 418/500\n",
            "2/2 [==============================] - 0s 5ms/step - loss: 12.5676 - mae: 12.5676\n",
            "Epoch 419/500\n",
            "2/2 [==============================] - 0s 4ms/step - loss: 15.7194 - mae: 15.7194\n",
            "Epoch 420/500\n",
            "2/2 [==============================] - 0s 5ms/step - loss: 24.4129 - mae: 24.4129\n",
            "Epoch 421/500\n",
            "2/2 [==============================] - 0s 7ms/step - loss: 18.3110 - mae: 18.3110\n",
            "Epoch 422/500\n",
            "2/2 [==============================] - 0s 5ms/step - loss: 8.6468 - mae: 8.6468\n",
            "Epoch 423/500\n",
            "2/2 [==============================] - 0s 4ms/step - loss: 24.6208 - mae: 24.6208\n",
            "Epoch 424/500\n",
            "2/2 [==============================] - 0s 11ms/step - loss: 16.9136 - mae: 16.9136\n",
            "Epoch 425/500\n",
            "2/2 [==============================] - 0s 6ms/step - loss: 7.3520 - mae: 7.3520\n",
            "Epoch 426/500\n",
            "2/2 [==============================] - 0s 10ms/step - loss: 21.1090 - mae: 21.1090\n",
            "Epoch 427/500\n",
            "2/2 [==============================] - 0s 6ms/step - loss: 6.5325 - mae: 6.5325\n",
            "Epoch 428/500\n",
            "2/2 [==============================] - 0s 10ms/step - loss: 13.5268 - mae: 13.5268\n",
            "Epoch 429/500\n",
            "2/2 [==============================] - 0s 6ms/step - loss: 11.5021 - mae: 11.5021\n",
            "Epoch 430/500\n",
            "2/2 [==============================] - 0s 17ms/step - loss: 10.2793 - mae: 10.2793\n",
            "Epoch 431/500\n",
            "2/2 [==============================] - 0s 6ms/step - loss: 11.5492 - mae: 11.5492\n",
            "Epoch 432/500\n",
            "2/2 [==============================] - 0s 4ms/step - loss: 9.9885 - mae: 9.9885\n",
            "Epoch 433/500\n",
            "2/2 [==============================] - 0s 17ms/step - loss: 3.8743 - mae: 3.8743\n",
            "Epoch 434/500\n",
            "2/2 [==============================] - 0s 5ms/step - loss: 28.3199 - mae: 28.3199\n",
            "Epoch 435/500\n",
            "2/2 [==============================] - 0s 7ms/step - loss: 5.3878 - mae: 5.3878\n",
            "Epoch 436/500\n",
            "2/2 [==============================] - 0s 20ms/step - loss: 41.3984 - mae: 41.3984\n",
            "Epoch 437/500\n",
            "2/2 [==============================] - 0s 13ms/step - loss: 5.1893 - mae: 5.1893\n",
            "Epoch 438/500\n",
            "2/2 [==============================] - 0s 6ms/step - loss: 13.8828 - mae: 13.8828\n",
            "Epoch 439/500\n",
            "2/2 [==============================] - 0s 6ms/step - loss: 31.8710 - mae: 31.8710\n",
            "Epoch 440/500\n",
            "2/2 [==============================] - 0s 12ms/step - loss: 12.2768 - mae: 12.2768\n",
            "Epoch 441/500\n",
            "2/2 [==============================] - 0s 7ms/step - loss: 15.6426 - mae: 15.6426\n",
            "Epoch 442/500\n",
            "2/2 [==============================] - 0s 12ms/step - loss: 23.4264 - mae: 23.4264\n",
            "Epoch 443/500\n",
            "2/2 [==============================] - 0s 14ms/step - loss: 20.8883 - mae: 20.8883\n",
            "Epoch 444/500\n",
            "2/2 [==============================] - 0s 4ms/step - loss: 8.6703 - mae: 8.6703\n",
            "Epoch 445/500\n",
            "2/2 [==============================] - 0s 12ms/step - loss: 14.0773 - mae: 14.0773\n",
            "Epoch 446/500\n",
            "2/2 [==============================] - 0s 4ms/step - loss: 16.7785 - mae: 16.7785\n",
            "Epoch 447/500\n",
            "2/2 [==============================] - 0s 9ms/step - loss: 6.7156 - mae: 6.7156\n",
            "Epoch 448/500\n",
            "2/2 [==============================] - 0s 8ms/step - loss: 6.7289 - mae: 6.7289\n",
            "Epoch 449/500\n",
            "2/2 [==============================] - 0s 9ms/step - loss: 15.6164 - mae: 15.6164\n",
            "Epoch 450/500\n",
            "2/2 [==============================] - 0s 9ms/step - loss: 16.5718 - mae: 16.5718\n",
            "Epoch 451/500\n",
            "2/2 [==============================] - 0s 3ms/step - loss: 14.2023 - mae: 14.2023\n",
            "Epoch 452/500\n",
            "2/2 [==============================] - 0s 20ms/step - loss: 30.4583 - mae: 30.4583\n",
            "Epoch 453/500\n",
            "2/2 [==============================] - 0s 8ms/step - loss: 5.1469 - mae: 5.1469\n",
            "Epoch 454/500\n",
            "2/2 [==============================] - 0s 4ms/step - loss: 30.0573 - mae: 30.0573\n",
            "Epoch 455/500\n",
            "2/2 [==============================] - 0s 10ms/step - loss: 4.3322 - mae: 4.3322\n",
            "Epoch 456/500\n",
            "2/2 [==============================] - 0s 4ms/step - loss: 14.6279 - mae: 14.6279\n",
            "Epoch 457/500\n",
            "2/2 [==============================] - 0s 6ms/step - loss: 17.7958 - mae: 17.7958\n",
            "Epoch 458/500\n",
            "2/2 [==============================] - 0s 14ms/step - loss: 14.0510 - mae: 14.0510\n",
            "Epoch 459/500\n",
            "2/2 [==============================] - 0s 4ms/step - loss: 26.0072 - mae: 26.0072\n",
            "Epoch 460/500\n",
            "2/2 [==============================] - 0s 8ms/step - loss: 14.8316 - mae: 14.8316\n",
            "Epoch 461/500\n",
            "2/2 [==============================] - 0s 15ms/step - loss: 12.1672 - mae: 12.1672\n",
            "Epoch 462/500\n",
            "2/2 [==============================] - 0s 3ms/step - loss: 13.2018 - mae: 13.2018\n",
            "Epoch 463/500\n",
            "2/2 [==============================] - 0s 6ms/step - loss: 29.3225 - mae: 29.3225\n",
            "Epoch 464/500\n",
            "2/2 [==============================] - 0s 13ms/step - loss: 6.9862 - mae: 6.9862\n",
            "Epoch 465/500\n",
            "2/2 [==============================] - 0s 7ms/step - loss: 14.2853 - mae: 14.2853\n",
            "Epoch 466/500\n",
            "2/2 [==============================] - 0s 4ms/step - loss: 10.1639 - mae: 10.1639\n",
            "Epoch 467/500\n",
            "2/2 [==============================] - 0s 3ms/step - loss: 21.5889 - mae: 21.5889\n",
            "Epoch 468/500\n",
            "2/2 [==============================] - 0s 4ms/step - loss: 23.6980 - mae: 23.6980\n",
            "Epoch 469/500\n",
            "2/2 [==============================] - 0s 4ms/step - loss: 21.1205 - mae: 21.1205\n",
            "Epoch 470/500\n",
            "2/2 [==============================] - 0s 4ms/step - loss: 9.5916 - mae: 9.5916\n",
            "Epoch 471/500\n",
            "2/2 [==============================] - 0s 8ms/step - loss: 15.8773 - mae: 15.8773\n",
            "Epoch 472/500\n",
            "2/2 [==============================] - 0s 8ms/step - loss: 14.9473 - mae: 14.9473\n",
            "Epoch 473/500\n",
            "2/2 [==============================] - 0s 6ms/step - loss: 18.3308 - mae: 18.3308\n",
            "Epoch 474/500\n",
            "2/2 [==============================] - 0s 4ms/step - loss: 41.8551 - mae: 41.8551\n",
            "Epoch 475/500\n",
            "2/2 [==============================] - 0s 3ms/step - loss: 17.7604 - mae: 17.7604\n",
            "Epoch 476/500\n",
            "2/2 [==============================] - 0s 3ms/step - loss: 13.2223 - mae: 13.2223\n",
            "Epoch 477/500\n",
            "2/2 [==============================] - 0s 4ms/step - loss: 29.3134 - mae: 29.3134\n",
            "Epoch 478/500\n",
            "2/2 [==============================] - 0s 5ms/step - loss: 5.6969 - mae: 5.6969\n",
            "Epoch 479/500\n",
            "2/2 [==============================] - 0s 4ms/step - loss: 7.7541 - mae: 7.7541\n",
            "Epoch 480/500\n",
            "2/2 [==============================] - 0s 4ms/step - loss: 18.4023 - mae: 18.4023\n",
            "Epoch 481/500\n",
            "2/2 [==============================] - 0s 4ms/step - loss: 16.2438 - mae: 16.2438\n",
            "Epoch 482/500\n",
            "2/2 [==============================] - 0s 12ms/step - loss: 15.0547 - mae: 15.0547\n",
            "Epoch 483/500\n",
            "2/2 [==============================] - 0s 8ms/step - loss: 20.5117 - mae: 20.5117\n",
            "Epoch 484/500\n",
            "2/2 [==============================] - 0s 3ms/step - loss: 35.2073 - mae: 35.2073\n",
            "Epoch 485/500\n",
            "2/2 [==============================] - 0s 4ms/step - loss: 13.8809 - mae: 13.8809\n",
            "Epoch 486/500\n",
            "2/2 [==============================] - 0s 6ms/step - loss: 6.9872 - mae: 6.9872\n",
            "Epoch 487/500\n",
            "2/2 [==============================] - 0s 8ms/step - loss: 6.2455 - mae: 6.2455\n",
            "Epoch 488/500\n",
            "2/2 [==============================] - 0s 8ms/step - loss: 29.7167 - mae: 29.7167\n",
            "Epoch 489/500\n",
            "2/2 [==============================] - 0s 7ms/step - loss: 12.6866 - mae: 12.6866\n",
            "Epoch 490/500\n",
            "2/2 [==============================] - 0s 7ms/step - loss: 13.1170 - mae: 13.1170\n",
            "Epoch 491/500\n",
            "2/2 [==============================] - 0s 7ms/step - loss: 24.3951 - mae: 24.3951\n",
            "Epoch 492/500\n",
            "2/2 [==============================] - 0s 5ms/step - loss: 18.5342 - mae: 18.5342\n",
            "Epoch 493/500\n",
            "2/2 [==============================] - 0s 11ms/step - loss: 4.7353 - mae: 4.7353\n",
            "Epoch 494/500\n",
            "2/2 [==============================] - 0s 7ms/step - loss: 11.9100 - mae: 11.9100\n",
            "Epoch 495/500\n",
            "2/2 [==============================] - 0s 9ms/step - loss: 13.7338 - mae: 13.7338\n",
            "Epoch 496/500\n",
            "2/2 [==============================] - 0s 6ms/step - loss: 12.9213 - mae: 12.9213\n",
            "Epoch 497/500\n",
            "2/2 [==============================] - 0s 5ms/step - loss: 18.0613 - mae: 18.0613\n",
            "Epoch 498/500\n",
            "2/2 [==============================] - 0s 12ms/step - loss: 22.5541 - mae: 22.5541\n",
            "Epoch 499/500\n",
            "2/2 [==============================] - 0s 5ms/step - loss: 8.3505 - mae: 8.3505\n",
            "Epoch 500/500\n",
            "2/2 [==============================] - 0s 7ms/step - loss: 14.1422 - mae: 14.1422\n"
          ],
          "name": "stdout"
        },
        {
          "output_type": "execute_result",
          "data": {
            "text/plain": [
              "<tensorflow.python.keras.callbacks.History at 0x7f8d2ca8e6d0>"
            ]
          },
          "metadata": {
            "tags": []
          },
          "execution_count": 137
        }
      ]
    },
    {
      "cell_type": "code",
      "metadata": {
        "id": "MKwd_U8maYEs",
        "outputId": "8983e345-7d25-4948-b674-f5e93ffbed2e",
        "colab": {
          "base_uri": "https://localhost:8080/",
          "height": 428
        }
      },
      "source": [
        "# Make and plot predictions for model_1\n",
        "y_pred_3 = model_3.predict(X_test)\n",
        "plot_predictions(predictions = y_pred_3)"
      ],
      "execution_count": 138,
      "outputs": [
        {
          "output_type": "display_data",
          "data": {
            "image/png": "[encoded data removed]",
            "text/plain": [
              "<Figure size 720x504 with 1 Axes>"
            ]
          },
          "metadata": {
            "tags": [],
            "needs_background": "light"
          }
        }
      ]
    },
    {
      "cell_type": "code",
      "metadata": {
        "id": "lQskYCQradee",
        "outputId": "115f774b-bf53-4e0e-9c07-575b043d7838",
        "colab": {
          "base_uri": "https://localhost:8080/"
        }
      },
      "source": [
        "# Calculate model_1 evaluation metrics\n",
        "mae_3 = mae(y_test, y_pred_3)\n",
        "mse_3 =mse(y_test, y_pred_3)\n",
        "\n",
        "mae_3, mse_3"
      ],
      "execution_count": 139,
      "outputs": [
        {
          "output_type": "execute_result",
          "data": {
            "text/plain": [
              "(<tf.Tensor: shape=(), dtype=float32, numpy=67.11937>,\n",
              " <tf.Tensor: shape=(), dtype=float32, numpy=4587.4634>)"
            ]
          },
          "metadata": {
            "tags": []
          },
          "execution_count": 139
        }
      ]
    },
    {
      "cell_type": "markdown",
      "metadata": {
        "id": "Yj2ABjtdcjfo"
      },
      "source": [
        "**Note:** We want to start with small experiments (small models) and make sure they work and then increase their scale when necessary."
      ]
    },
    {
      "cell_type": "markdown",
      "metadata": {
        "id": "0ptKvg1UalMj"
      },
      "source": [
        "### Comparing the results of our experiments\n",
        "\n",
        "we've run a few experiments, let's compare the results."
      ]
    },
    {
      "cell_type": "code",
      "metadata": {
        "id": "D-uWHLercgn_",
        "outputId": "9bbc4068-de2f-4bab-dbeb-4f7c0806b537",
        "colab": {
          "base_uri": "https://localhost:8080/",
          "height": 142
        }
      },
      "source": [
        "# Let's compare our model's results using a pandas DataFrame\n",
        "import pandas as pd\n",
        "\n",
        "model_results = [[\"model_1\", mae_1.numpy(), mse_1.numpy()],\n",
        "                 [\"model_2\", mae_2.numpy(), mse_2.numpy()],\n",
        "                 [\"model_3\", mae_3.numpy(), mse_3.numpy()]]\n",
        "all_results = pd.DataFrame(model_results , columns=[\"model\", \"mae\", \"mse\"])\n",
        "all_results"
      ],
      "execution_count": 143,
      "outputs": [
        {
          "output_type": "execute_result",
          "data": {
            "text/html": [
              "<div>\n",
              "<style scoped>\n",
              "    .dataframe tbody tr th:only-of-type {\n",
              "        vertical-align: middle;\n",
              "    }\n",
              "\n",
              "    .dataframe tbody tr th {\n",
              "        vertical-align: top;\n",
              "    }\n",
              "\n",
              "    .dataframe thead th {\n",
              "        text-align: right;\n",
              "    }\n",
              "</style>\n",
              "<table border=\"1\" class=\"dataframe\">\n",
              "  <thead>\n",
              "    <tr style=\"text-align: right;\">\n",
              "      <th></th>\n",
              "      <th>model</th>\n",
              "      <th>mae</th>\n",
              "      <th>mse</th>\n",
              "    </tr>\n",
              "  </thead>\n",
              "  <tbody>\n",
              "    <tr>\n",
              "      <th>0</th>\n",
              "      <td>model_1</td>\n",
              "      <td>18.745327</td>\n",
              "      <td>353.573364</td>\n",
              "    </tr>\n",
              "    <tr>\n",
              "      <th>1</th>\n",
              "      <td>model_2</td>\n",
              "      <td>2.940376</td>\n",
              "      <td>11.373231</td>\n",
              "    </tr>\n",
              "    <tr>\n",
              "      <th>2</th>\n",
              "      <td>model_3</td>\n",
              "      <td>67.119370</td>\n",
              "      <td>4587.463379</td>\n",
              "    </tr>\n",
              "  </tbody>\n",
              "</table>\n",
              "</div>"
            ],
            "text/plain": [
              "     model        mae          mse\n",
              "0  model_1  18.745327   353.573364\n",
              "1  model_2   2.940376    11.373231\n",
              "2  model_3  67.119370  4587.463379"
            ]
          },
          "metadata": {
            "tags": []
          },
          "execution_count": 143
        }
      ]
    },
    {
      "cell_type": "markdown",
      "metadata": {
        "id": "a8vCIFWWeOtn"
      },
      "source": [
        "**Observations:** looks like `model_2` performed the best."
      ]
    },
    {
      "cell_type": "code",
      "metadata": {
        "id": "hk1J5CTJd3if",
        "outputId": "8bd6112d-a8e4-411e-feae-76f919cc04df",
        "colab": {
          "base_uri": "https://localhost:8080/"
        }
      },
      "source": [
        "model_2.summary()"
      ],
      "execution_count": 144,
      "outputs": [
        {
          "output_type": "stream",
          "text": [
            "Model: \"sequential_13\"\n",
            "_________________________________________________________________\n",
            "Layer (type)                 Output Shape              Param #   \n",
            "=================================================================\n",
            "dense_12 (Dense)             (None, 20)                40        \n",
            "_________________________________________________________________\n",
            "dense_13 (Dense)             (None, 1)                 21        \n",
            "=================================================================\n",
            "Total params: 61\n",
            "Trainable params: 61\n",
            "Non-trainable params: 0\n",
            "_________________________________________________________________\n"
          ],
          "name": "stdout"
        }
      ]
    },
    {
      "cell_type": "markdown",
      "metadata": {
        "id": "XVn-bMJReWx5"
      },
      "source": [
        "**Note:** One of our main goals should be to minimize the time between our experiments. The more experiments we do , the more thing we will figure it out, which don't work and in turn, get closer to figuring out what does work. Remember the machine learning practioner's moto: \"Experiment , experiment, experiment\""
      ]
    },
    {
      "cell_type": "markdown",
      "metadata": {
        "id": "2A_m2rlweFBR"
      },
      "source": [
        "## Tracking your experiments\n",
        "one really good habit in machine learning experiments is to track the results of our experiments.\n",
        "\n",
        "And when doing so, it can be tedious if you're running lots of experiments.\n",
        "\n",
        "Luckly, ther are tools to help us!\n",
        "\n",
        "**Resource:** As we build more models, we'll want to look in using:\n",
        "\n",
        "* TensorBoard - a component of the Tensorflow library to help track modelling experiments (we'll see this one later)\n",
        "\n",
        "* Weights & Biases - atool for tracking all of kinds of machine learning experiments (plugs straight into TensorBoard)"
      ]
    },
    {
      "cell_type": "code",
      "metadata": {
        "id": "3IjvxXQGgXFO"
      },
      "source": [
        ""
      ],
      "execution_count": null,
      "outputs": []
    }
  ]
}