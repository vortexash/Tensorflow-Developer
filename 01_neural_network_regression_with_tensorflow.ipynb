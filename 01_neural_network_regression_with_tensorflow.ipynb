{
  "nbformat": 4,
  "nbformat_minor": 0,
  "metadata": {
    "colab": {
      "name": "01_neural_network_regression_with_tensorflow.ipynb",
      "provenance": [],
      "toc_visible": true,
      "mount_file_id": "https://github.com/vortexash/Tensorflow-Developer/blob/main/01_neural_network_regression_with_tensorflow.ipynb",
      "authorship_tag": "ABX9TyNO3TAnmLYWq5EpXwoiMPjZ",
      "include_colab_link": true
    },
    "kernelspec": {
      "name": "python3",
      "display_name": "Python 3"
    },
    "language_info": {
      "name": "python"
    }
  },
  "cells": [
    {
      "cell_type": "markdown",
      "metadata": {
        "id": "view-in-github",
        "colab_type": "text"
      },
      "source": [
        "<a href=\"https://colab.research.google.com/github/vortexash/Tensorflow-Developer/blob/main/01_neural_network_regression_with_tensorflow.ipynb\" target=\"_parent\"><img src=\"https://colab.research.google.com/assets/colab-badge.svg\" alt=\"Open In Colab\"/></a>"
      ]
    },
    {
      "cell_type": "markdown",
      "metadata": {
        "id": "t9xnDRouIOro"
      },
      "source": [
        "# Introduction to Regression with Neural Networks in Tensorflow\n",
        "\n",
        "Ther are many defination for regression problem but in our case, we're going to simplify it: predicting a numerical variable based on some other combination of variables, even shorter.. predicting a number."
      ]
    },
    {
      "cell_type": "code",
      "metadata": {
        "colab": {
          "base_uri": "https://localhost:8080/"
        },
        "id": "MxcaMDO6KTG9",
        "outputId": "d67546f2-1763-4c06-bb0b-6cc12e5b0a97"
      },
      "source": [
        "# Import TensorFlow\n",
        "import tensorflow as tf\n",
        "print(tf.__version__)"
      ],
      "execution_count": 1,
      "outputs": [
        {
          "output_type": "stream",
          "text": [
            "2.5.0\n"
          ],
          "name": "stdout"
        }
      ]
    },
    {
      "cell_type": "markdown",
      "metadata": {
        "id": "haaHtqb-KfUo"
      },
      "source": [
        "## Creating data to view and fit"
      ]
    },
    {
      "cell_type": "code",
      "metadata": {
        "colab": {
          "base_uri": "https://localhost:8080/",
          "height": 286
        },
        "id": "AwmcdAOJKnk0",
        "outputId": "e1945114-33d4-4b33-aebd-3f57d0f86932"
      },
      "source": [
        "import numpy as np\n",
        "import matplotlib.pyplot as plt\n",
        "\n",
        "# Create features\n",
        "X= np.array([-7.0, -4.0, -1.0, 2.0, 5.0, 8.0, 11.0 ,14.0])\n",
        "\n",
        "# Create labels\n",
        "y = np.array([3.0, 6.0, 9.0, 12.0, 15.0, 18.0, 21.0, 24.0])\n",
        "\n",
        "# Visualize it\n",
        "plt.scatter(X,y)"
      ],
      "execution_count": 2,
      "outputs": [
        {
          "output_type": "execute_result",
          "data": {
            "text/plain": [
              "<matplotlib.collections.PathCollection at 0x7f9464c44e90>"
            ]
          },
          "metadata": {
            "tags": []
          },
          "execution_count": 2
        },
        {
          "output_type": "display_data",
          "data": {
            "image/png": "[encoded data removed]",
            "text/plain": [
              "<Figure size 432x288 with 1 Axes>"
            ]
          },
          "metadata": {
            "tags": [],
            "needs_background": "light"
          }
        }
      ]
    },
    {
      "cell_type": "code",
      "metadata": {
        "colab": {
          "base_uri": "https://localhost:8080/"
        },
        "id": "4o-DasRKLO1x",
        "outputId": "01364a8f-7347-4b2f-d674-70c5fda22f45"
      },
      "source": [
        "y == X+10"
      ],
      "execution_count": 3,
      "outputs": [
        {
          "output_type": "execute_result",
          "data": {
            "text/plain": [
              "array([ True,  True,  True,  True,  True,  True,  True,  True])"
            ]
          },
          "metadata": {
            "tags": []
          },
          "execution_count": 3
        }
      ]
    },
    {
      "cell_type": "markdown",
      "metadata": {
        "id": "t7K6ck9pLhQ0"
      },
      "source": [
        "## Input and output Shape"
      ]
    },
    {
      "cell_type": "code",
      "metadata": {
        "colab": {
          "base_uri": "https://localhost:8080/"
        },
        "id": "XhNsW9AZLtLo",
        "outputId": "b27498e5-1d43-439b-ad22-565b18991a43"
      },
      "source": [
        "# Create a demo tensor for our housing price prediction problem.\n",
        "house_info =tf.constant([\"bedroom\",\"bathroom\", \"garage\"])\n",
        "house_price = tf.constant([939700])\n",
        "house_info, house_price"
      ],
      "execution_count": 4,
      "outputs": [
        {
          "output_type": "execute_result",
          "data": {
            "text/plain": [
              "(<tf.Tensor: shape=(3,), dtype=string, numpy=array([b'bedroom', b'bathroom', b'garage'], dtype=object)>,\n",
              " <tf.Tensor: shape=(1,), dtype=int32, numpy=array([939700], dtype=int32)>)"
            ]
          },
          "metadata": {
            "tags": []
          },
          "execution_count": 4
        }
      ]
    },
    {
      "cell_type": "code",
      "metadata": {
        "colab": {
          "base_uri": "https://localhost:8080/"
        },
        "id": "UpeSZ2-PMUVb",
        "outputId": "f6854856-bba2-412c-ff6a-04cbfc6336d7"
      },
      "source": [
        "input_shape = X.shape\n",
        "output_shape = y.shape\n",
        "input_shape, output_shape"
      ],
      "execution_count": 5,
      "outputs": [
        {
          "output_type": "execute_result",
          "data": {
            "text/plain": [
              "((8,), (8,))"
            ]
          },
          "metadata": {
            "tags": []
          },
          "execution_count": 5
        }
      ]
    },
    {
      "cell_type": "code",
      "metadata": {
        "colab": {
          "base_uri": "https://localhost:8080/"
        },
        "id": "tj3RKrwMMuEJ",
        "outputId": "a3bc5c26-fec6-4f66-af0f-6414d6570ca3"
      },
      "source": [
        "X[0].ndim"
      ],
      "execution_count": 6,
      "outputs": [
        {
          "output_type": "execute_result",
          "data": {
            "text/plain": [
              "0"
            ]
          },
          "metadata": {
            "tags": []
          },
          "execution_count": 6
        }
      ]
    },
    {
      "cell_type": "code",
      "metadata": {
        "colab": {
          "base_uri": "https://localhost:8080/"
        },
        "id": "4zX6G6L2NEay",
        "outputId": "87fe5159-eac0-4671-ebac-723de09791d6"
      },
      "source": [
        "X[0], y[0]"
      ],
      "execution_count": 7,
      "outputs": [
        {
          "output_type": "execute_result",
          "data": {
            "text/plain": [
              "(-7.0, 3.0)"
            ]
          },
          "metadata": {
            "tags": []
          },
          "execution_count": 7
        }
      ]
    },
    {
      "cell_type": "code",
      "metadata": {
        "id": "eP4ob_ihNG4m",
        "colab": {
          "base_uri": "https://localhost:8080/"
        },
        "outputId": "b2708158-86bb-4d3d-8476-00e43f83446e"
      },
      "source": [
        "# Turn our NumPy arrays into tensors\n",
        "X = tf.cast(tf.constant(X), dtype=tf.float32)\n",
        "y = tf.cast(tf.constant(y), dtype=tf.float32)\n",
        "X,y"
      ],
      "execution_count": 8,
      "outputs": [
        {
          "output_type": "execute_result",
          "data": {
            "text/plain": [
              "(<tf.Tensor: shape=(8,), dtype=float32, numpy=array([-7., -4., -1.,  2.,  5.,  8., 11., 14.], dtype=float32)>,\n",
              " <tf.Tensor: shape=(8,), dtype=float32, numpy=array([ 3.,  6.,  9., 12., 15., 18., 21., 24.], dtype=float32)>)"
            ]
          },
          "metadata": {
            "tags": []
          },
          "execution_count": 8
        }
      ]
    },
    {
      "cell_type": "code",
      "metadata": {
        "id": "reU3LLQLTvQ7",
        "colab": {
          "base_uri": "https://localhost:8080/"
        },
        "outputId": "dbc53548-3bee-4be4-96df-3004c5689170"
      },
      "source": [
        "input_shape = X[0].shape\n",
        "output_shape = y[0].shape\n",
        "input_shape, output_shape"
      ],
      "execution_count": 9,
      "outputs": [
        {
          "output_type": "execute_result",
          "data": {
            "text/plain": [
              "(TensorShape([]), TensorShape([]))"
            ]
          },
          "metadata": {
            "tags": []
          },
          "execution_count": 9
        }
      ]
    },
    {
      "cell_type": "code",
      "metadata": {
        "id": "LwVe6aA-TzRL",
        "colab": {
          "base_uri": "https://localhost:8080/",
          "height": 286
        },
        "outputId": "e51e7260-8fcb-47a1-9515-d144273f27b5"
      },
      "source": [
        "plt.scatter(X,y)"
      ],
      "execution_count": 10,
      "outputs": [
        {
          "output_type": "execute_result",
          "data": {
            "text/plain": [
              "<matplotlib.collections.PathCollection at 0x7f94a79fda10>"
            ]
          },
          "metadata": {
            "tags": []
          },
          "execution_count": 10
        },
        {
          "output_type": "display_data",
          "data": {
            "image/png": "[encoded data removed]",
            "text/plain": [
              "<Figure size 432x288 with 1 Axes>"
            ]
          },
          "metadata": {
            "tags": [],
            "needs_background": "light"
          }
        }
      ]
    },
    {
      "cell_type": "markdown",
      "metadata": {
        "id": "mRUedKr8UCA0"
      },
      "source": [
        "## Steps in modelling with Tensorflow\n",
        "\n",
        "1. **Creating  a model** - define the input and output layers, as well as the hidden layers of a deep learning model.\n",
        "\n",
        "2. **Compiling a model** - define the loss function (in other words, the function which tells our model how wrong ir is) and the optimizer (tells our model how to improve the patterbs its learning) and evaluation metrics ( what we can use to interpret the performance of our model).\n",
        "\n",
        "3. **Fitting a model** - letting the model try to find patterns between X & y(Features labels)"
      ]
    },
    {
      "cell_type": "code",
      "metadata": {
        "id": "AOf4sMPsUIjh",
        "colab": {
          "base_uri": "https://localhost:8080/"
        },
        "outputId": "c68b16fc-2cd1-412e-9825-f24a11f5a3a3"
      },
      "source": [
        "# set random seed\n",
        "tf.random.set_seed(42)\n",
        "\n",
        "# 1. Create a model using the Sequential API\n",
        "model = tf.keras.Sequential([tf.keras.layers.Dense(1)\n",
        "])\n",
        "# 2. Compile the model\n",
        "model.compile(loss= tf.keras.losses.mae,\n",
        "              optimizer = tf.keras.optimizers.SGD(),\n",
        "              metrics=[\"mae\"])\n",
        "# 3. Fit the model\n",
        "model.fit(X, y, epochs=5)\n"
      ],
      "execution_count": 11,
      "outputs": [
        {
          "output_type": "stream",
          "text": [
            "Epoch 1/5\n",
            "1/1 [==============================] - 1s 615ms/step - loss: 11.5048 - mae: 11.5048\n",
            "Epoch 2/5\n",
            "1/1 [==============================] - 0s 8ms/step - loss: 11.3723 - mae: 11.3723\n",
            "Epoch 3/5\n",
            "1/1 [==============================] - 0s 5ms/step - loss: 11.2398 - mae: 11.2398\n",
            "Epoch 4/5\n",
            "1/1 [==============================] - 0s 7ms/step - loss: 11.1073 - mae: 11.1073\n",
            "Epoch 5/5\n",
            "1/1 [==============================] - 0s 7ms/step - loss: 10.9748 - mae: 10.9748\n"
          ],
          "name": "stdout"
        },
        {
          "output_type": "execute_result",
          "data": {
            "text/plain": [
              "<tensorflow.python.keras.callbacks.History at 0x7f94606f2a50>"
            ]
          },
          "metadata": {
            "tags": []
          },
          "execution_count": 11
        }
      ]
    },
    {
      "cell_type": "code",
      "metadata": {
        "id": "p4iVFb6zYpnj",
        "colab": {
          "base_uri": "https://localhost:8080/"
        },
        "outputId": "561529bd-f491-4f00-ea87-d68326174ed3"
      },
      "source": [
        "# Check out X and y\n",
        "X,y"
      ],
      "execution_count": 12,
      "outputs": [
        {
          "output_type": "execute_result",
          "data": {
            "text/plain": [
              "(<tf.Tensor: shape=(8,), dtype=float32, numpy=array([-7., -4., -1.,  2.,  5.,  8., 11., 14.], dtype=float32)>,\n",
              " <tf.Tensor: shape=(8,), dtype=float32, numpy=array([ 3.,  6.,  9., 12., 15., 18., 21., 24.], dtype=float32)>)"
            ]
          },
          "metadata": {
            "tags": []
          },
          "execution_count": 12
        }
      ]
    },
    {
      "cell_type": "code",
      "metadata": {
        "id": "znADNtHmZrGh",
        "colab": {
          "base_uri": "https://localhost:8080/"
        },
        "outputId": "df6cb657-a12f-4ab8-8587-faebec93792a"
      },
      "source": [
        "# Try and make a prediction using our model\n",
        "y_pred = model.predict([17.0])\n",
        "y_pred"
      ],
      "execution_count": 13,
      "outputs": [
        {
          "output_type": "execute_result",
          "data": {
            "text/plain": [
              "array([[12.716021]], dtype=float32)"
            ]
          },
          "metadata": {
            "tags": []
          },
          "execution_count": 13
        }
      ]
    },
    {
      "cell_type": "markdown",
      "metadata": {
        "id": "qk4lNID4Z0r4"
      },
      "source": [
        "## Improving our model performance\n",
        "\n",
        "We can improve our model , by aaltering the steps we took to create a model.\n",
        "\n",
        "1.**Creating a model** - here we might ass more layers, to increase the number of hidden units (all called neurons) within each of the hidden layers, change the activation function of each layer.\n",
        "\n",
        "2.**Compiling a model** - here we might change the optimization function or perhaps the **learning rate** of the optimization function.\n",
        "\n",
        "3.**Fitting a model** - here we might fit a model for more **epochs** (leave it training for longer) or on more data (give the model more example to learn form)"
      ]
    },
    {
      "cell_type": "code",
      "metadata": {
        "id": "mOknqZElaR4k",
        "colab": {
          "base_uri": "https://localhost:8080/"
        },
        "outputId": "2ad6c507-a9c2-4e46-e300-2499951f354c"
      },
      "source": [
        "# Let's rebuild our model\n",
        "\n",
        "# 1. Create the moddel\n",
        "model = tf.keras.Sequential([\n",
        "                             tf.keras.layers.Dense(1)\n",
        "                             ])\n",
        "# 2. Compile the model\n",
        "model.compile(loss=tf.keras.losses.mae,\n",
        "              optimizer=tf.keras.optimizers.SGD(),metrics=['mae'])\n",
        "\n",
        "#3. Fitting our model (This time we will train for longer)\n",
        "model.fit(X,y, epochs=100)"
      ],
      "execution_count": 14,
      "outputs": [
        {
          "output_type": "stream",
          "text": [
            "Epoch 1/100\n",
            "1/1 [==============================] - 0s 283ms/step - loss: 11.2219 - mae: 11.2219\n",
            "Epoch 2/100\n",
            "1/1 [==============================] - 0s 6ms/step - loss: 11.0894 - mae: 11.0894\n",
            "Epoch 3/100\n",
            "1/1 [==============================] - 0s 11ms/step - loss: 10.9569 - mae: 10.9569\n",
            "Epoch 4/100\n",
            "1/1 [==============================] - 0s 7ms/step - loss: 10.8244 - mae: 10.8244\n",
            "Epoch 5/100\n",
            "1/1 [==============================] - 0s 7ms/step - loss: 10.6919 - mae: 10.6919\n",
            "Epoch 6/100\n",
            "1/1 [==============================] - 0s 12ms/step - loss: 10.5594 - mae: 10.5594\n",
            "Epoch 7/100\n",
            "1/1 [==============================] - 0s 10ms/step - loss: 10.4269 - mae: 10.4269\n",
            "Epoch 8/100\n",
            "1/1 [==============================] - 0s 6ms/step - loss: 10.2944 - mae: 10.2944\n",
            "Epoch 9/100\n",
            "1/1 [==============================] - 0s 6ms/step - loss: 10.1619 - mae: 10.1619\n",
            "Epoch 10/100\n",
            "1/1 [==============================] - 0s 10ms/step - loss: 10.0294 - mae: 10.0294\n",
            "Epoch 11/100\n",
            "1/1 [==============================] - 0s 7ms/step - loss: 9.8969 - mae: 9.8969\n",
            "Epoch 12/100\n",
            "1/1 [==============================] - 0s 7ms/step - loss: 9.7644 - mae: 9.7644\n",
            "Epoch 13/100\n",
            "1/1 [==============================] - 0s 5ms/step - loss: 9.6319 - mae: 9.6319\n",
            "Epoch 14/100\n",
            "1/1 [==============================] - 0s 4ms/step - loss: 9.4994 - mae: 9.4994\n",
            "Epoch 15/100\n",
            "1/1 [==============================] - 0s 5ms/step - loss: 9.3669 - mae: 9.3669\n",
            "Epoch 16/100\n",
            "1/1 [==============================] - 0s 5ms/step - loss: 9.2344 - mae: 9.2344\n",
            "Epoch 17/100\n",
            "1/1 [==============================] - 0s 5ms/step - loss: 9.1019 - mae: 9.1019\n",
            "Epoch 18/100\n",
            "1/1 [==============================] - 0s 5ms/step - loss: 8.9694 - mae: 8.9694\n",
            "Epoch 19/100\n",
            "1/1 [==============================] - 0s 5ms/step - loss: 8.8369 - mae: 8.8369\n",
            "Epoch 20/100\n",
            "1/1 [==============================] - 0s 4ms/step - loss: 8.7044 - mae: 8.7044\n",
            "Epoch 21/100\n",
            "1/1 [==============================] - 0s 4ms/step - loss: 8.5719 - mae: 8.5719\n",
            "Epoch 22/100\n",
            "1/1 [==============================] - 0s 5ms/step - loss: 8.4394 - mae: 8.4394\n",
            "Epoch 23/100\n",
            "1/1 [==============================] - 0s 5ms/step - loss: 8.3069 - mae: 8.3069\n",
            "Epoch 24/100\n",
            "1/1 [==============================] - 0s 4ms/step - loss: 8.1744 - mae: 8.1744\n",
            "Epoch 25/100\n",
            "1/1 [==============================] - 0s 6ms/step - loss: 8.0419 - mae: 8.0419\n",
            "Epoch 26/100\n",
            "1/1 [==============================] - 0s 4ms/step - loss: 7.9094 - mae: 7.9094\n",
            "Epoch 27/100\n",
            "1/1 [==============================] - 0s 5ms/step - loss: 7.7769 - mae: 7.7769\n",
            "Epoch 28/100\n",
            "1/1 [==============================] - 0s 4ms/step - loss: 7.6444 - mae: 7.6444\n",
            "Epoch 29/100\n",
            "1/1 [==============================] - 0s 4ms/step - loss: 7.5119 - mae: 7.5119\n",
            "Epoch 30/100\n",
            "1/1 [==============================] - 0s 4ms/step - loss: 7.3794 - mae: 7.3794\n",
            "Epoch 31/100\n",
            "1/1 [==============================] - 0s 4ms/step - loss: 7.2750 - mae: 7.2750\n",
            "Epoch 32/100\n",
            "1/1 [==============================] - 0s 4ms/step - loss: 7.2694 - mae: 7.2694\n",
            "Epoch 33/100\n",
            "1/1 [==============================] - 0s 6ms/step - loss: 7.2638 - mae: 7.2638\n",
            "Epoch 34/100\n",
            "1/1 [==============================] - 0s 4ms/step - loss: 7.2581 - mae: 7.2581\n",
            "Epoch 35/100\n",
            "1/1 [==============================] - 0s 4ms/step - loss: 7.2525 - mae: 7.2525\n",
            "Epoch 36/100\n",
            "1/1 [==============================] - 0s 5ms/step - loss: 7.2469 - mae: 7.2469\n",
            "Epoch 37/100\n",
            "1/1 [==============================] - 0s 4ms/step - loss: 7.2412 - mae: 7.2412\n",
            "Epoch 38/100\n",
            "1/1 [==============================] - 0s 4ms/step - loss: 7.2356 - mae: 7.2356\n",
            "Epoch 39/100\n",
            "1/1 [==============================] - 0s 5ms/step - loss: 7.2300 - mae: 7.2300\n",
            "Epoch 40/100\n",
            "1/1 [==============================] - 0s 4ms/step - loss: 7.2244 - mae: 7.2244\n",
            "Epoch 41/100\n",
            "1/1 [==============================] - 0s 5ms/step - loss: 7.2188 - mae: 7.2188\n",
            "Epoch 42/100\n",
            "1/1 [==============================] - 0s 4ms/step - loss: 7.2131 - mae: 7.2131\n",
            "Epoch 43/100\n",
            "1/1 [==============================] - 0s 5ms/step - loss: 7.2075 - mae: 7.2075\n",
            "Epoch 44/100\n",
            "1/1 [==============================] - 0s 4ms/step - loss: 7.2019 - mae: 7.2019\n",
            "Epoch 45/100\n",
            "1/1 [==============================] - 0s 5ms/step - loss: 7.1962 - mae: 7.1962\n",
            "Epoch 46/100\n",
            "1/1 [==============================] - 0s 4ms/step - loss: 7.1906 - mae: 7.1906\n",
            "Epoch 47/100\n",
            "1/1 [==============================] - 0s 5ms/step - loss: 7.1850 - mae: 7.1850\n",
            "Epoch 48/100\n",
            "1/1 [==============================] - 0s 4ms/step - loss: 7.1794 - mae: 7.1794\n",
            "Epoch 49/100\n",
            "1/1 [==============================] - 0s 5ms/step - loss: 7.1737 - mae: 7.1737\n",
            "Epoch 50/100\n",
            "1/1 [==============================] - 0s 4ms/step - loss: 7.1681 - mae: 7.1681\n",
            "Epoch 51/100\n",
            "1/1 [==============================] - 0s 4ms/step - loss: 7.1625 - mae: 7.1625\n",
            "Epoch 52/100\n",
            "1/1 [==============================] - 0s 5ms/step - loss: 7.1569 - mae: 7.1569\n",
            "Epoch 53/100\n",
            "1/1 [==============================] - 0s 4ms/step - loss: 7.1512 - mae: 7.1512\n",
            "Epoch 54/100\n",
            "1/1 [==============================] - 0s 9ms/step - loss: 7.1456 - mae: 7.1456\n",
            "Epoch 55/100\n",
            "1/1 [==============================] - 0s 5ms/step - loss: 7.1400 - mae: 7.1400\n",
            "Epoch 56/100\n",
            "1/1 [==============================] - 0s 5ms/step - loss: 7.1344 - mae: 7.1344\n",
            "Epoch 57/100\n",
            "1/1 [==============================] - 0s 5ms/step - loss: 7.1287 - mae: 7.1287\n",
            "Epoch 58/100\n",
            "1/1 [==============================] - 0s 6ms/step - loss: 7.1231 - mae: 7.1231\n",
            "Epoch 59/100\n",
            "1/1 [==============================] - 0s 9ms/step - loss: 7.1175 - mae: 7.1175\n",
            "Epoch 60/100\n",
            "1/1 [==============================] - 0s 5ms/step - loss: 7.1119 - mae: 7.1119\n",
            "Epoch 61/100\n",
            "1/1 [==============================] - 0s 5ms/step - loss: 7.1062 - mae: 7.1062\n",
            "Epoch 62/100\n",
            "1/1 [==============================] - 0s 5ms/step - loss: 7.1006 - mae: 7.1006\n",
            "Epoch 63/100\n",
            "1/1 [==============================] - 0s 5ms/step - loss: 7.0950 - mae: 7.0950\n",
            "Epoch 64/100\n",
            "1/1 [==============================] - 0s 6ms/step - loss: 7.0894 - mae: 7.0894\n",
            "Epoch 65/100\n",
            "1/1 [==============================] - 0s 6ms/step - loss: 7.0838 - mae: 7.0838\n",
            "Epoch 66/100\n",
            "1/1 [==============================] - 0s 5ms/step - loss: 7.0781 - mae: 7.0781\n",
            "Epoch 67/100\n",
            "1/1 [==============================] - 0s 9ms/step - loss: 7.0725 - mae: 7.0725\n",
            "Epoch 68/100\n",
            "1/1 [==============================] - 0s 15ms/step - loss: 7.0669 - mae: 7.0669\n",
            "Epoch 69/100\n",
            "1/1 [==============================] - 0s 7ms/step - loss: 7.0613 - mae: 7.0613\n",
            "Epoch 70/100\n",
            "1/1 [==============================] - 0s 7ms/step - loss: 7.0556 - mae: 7.0556\n",
            "Epoch 71/100\n",
            "1/1 [==============================] - 0s 6ms/step - loss: 7.0500 - mae: 7.0500\n",
            "Epoch 72/100\n",
            "1/1 [==============================] - 0s 7ms/step - loss: 7.0444 - mae: 7.0444\n",
            "Epoch 73/100\n",
            "1/1 [==============================] - 0s 7ms/step - loss: 7.0388 - mae: 7.0388\n",
            "Epoch 74/100\n",
            "1/1 [==============================] - 0s 5ms/step - loss: 7.0331 - mae: 7.0331\n",
            "Epoch 75/100\n",
            "1/1 [==============================] - 0s 7ms/step - loss: 7.0275 - mae: 7.0275\n",
            "Epoch 76/100\n",
            "1/1 [==============================] - 0s 5ms/step - loss: 7.0219 - mae: 7.0219\n",
            "Epoch 77/100\n",
            "1/1 [==============================] - 0s 7ms/step - loss: 7.0163 - mae: 7.0163\n",
            "Epoch 78/100\n",
            "1/1 [==============================] - 0s 5ms/step - loss: 7.0106 - mae: 7.0106\n",
            "Epoch 79/100\n",
            "1/1 [==============================] - 0s 7ms/step - loss: 7.0050 - mae: 7.0050\n",
            "Epoch 80/100\n",
            "1/1 [==============================] - 0s 6ms/step - loss: 6.9994 - mae: 6.9994\n",
            "Epoch 81/100\n",
            "1/1 [==============================] - 0s 7ms/step - loss: 6.9938 - mae: 6.9938\n",
            "Epoch 82/100\n",
            "1/1 [==============================] - 0s 6ms/step - loss: 6.9881 - mae: 6.9881\n",
            "Epoch 83/100\n",
            "1/1 [==============================] - 0s 8ms/step - loss: 6.9825 - mae: 6.9825\n",
            "Epoch 84/100\n",
            "1/1 [==============================] - 0s 5ms/step - loss: 6.9769 - mae: 6.9769\n",
            "Epoch 85/100\n",
            "1/1 [==============================] - 0s 6ms/step - loss: 6.9713 - mae: 6.9713\n",
            "Epoch 86/100\n",
            "1/1 [==============================] - 0s 7ms/step - loss: 6.9656 - mae: 6.9656\n",
            "Epoch 87/100\n",
            "1/1 [==============================] - 0s 6ms/step - loss: 6.9600 - mae: 6.9600\n",
            "Epoch 88/100\n",
            "1/1 [==============================] - 0s 7ms/step - loss: 6.9544 - mae: 6.9544\n",
            "Epoch 89/100\n",
            "1/1 [==============================] - 0s 5ms/step - loss: 6.9488 - mae: 6.9488\n",
            "Epoch 90/100\n",
            "1/1 [==============================] - 0s 7ms/step - loss: 6.9431 - mae: 6.9431\n",
            "Epoch 91/100\n",
            "1/1 [==============================] - 0s 5ms/step - loss: 6.9375 - mae: 6.9375\n",
            "Epoch 92/100\n",
            "1/1 [==============================] - 0s 7ms/step - loss: 6.9319 - mae: 6.9319\n",
            "Epoch 93/100\n",
            "1/1 [==============================] - 0s 5ms/step - loss: 6.9263 - mae: 6.9263\n",
            "Epoch 94/100\n",
            "1/1 [==============================] - 0s 5ms/step - loss: 6.9206 - mae: 6.9206\n",
            "Epoch 95/100\n",
            "1/1 [==============================] - 0s 7ms/step - loss: 6.9150 - mae: 6.9150\n",
            "Epoch 96/100\n",
            "1/1 [==============================] - 0s 5ms/step - loss: 6.9094 - mae: 6.9094\n",
            "Epoch 97/100\n",
            "1/1 [==============================] - 0s 7ms/step - loss: 6.9038 - mae: 6.9038\n",
            "Epoch 98/100\n",
            "1/1 [==============================] - 0s 5ms/step - loss: 6.8981 - mae: 6.8981\n",
            "Epoch 99/100\n",
            "1/1 [==============================] - 0s 89ms/step - loss: 6.8925 - mae: 6.8925\n",
            "Epoch 100/100\n",
            "1/1 [==============================] - 0s 4ms/step - loss: 6.8869 - mae: 6.8869\n"
          ],
          "name": "stdout"
        },
        {
          "output_type": "execute_result",
          "data": {
            "text/plain": [
              "<tensorflow.python.keras.callbacks.History at 0x7f945e4c1650>"
            ]
          },
          "metadata": {
            "tags": []
          },
          "execution_count": 14
        }
      ]
    },
    {
      "cell_type": "code",
      "metadata": {
        "id": "-KHDug3IlykL",
        "colab": {
          "base_uri": "https://localhost:8080/"
        },
        "outputId": "76eebc88-79c5-4b27-fd21-9bb9621c74cb"
      },
      "source": [
        "# Remind ourself of the data\n",
        "X, y \n"
      ],
      "execution_count": 15,
      "outputs": [
        {
          "output_type": "execute_result",
          "data": {
            "text/plain": [
              "(<tf.Tensor: shape=(8,), dtype=float32, numpy=array([-7., -4., -1.,  2.,  5.,  8., 11., 14.], dtype=float32)>,\n",
              " <tf.Tensor: shape=(8,), dtype=float32, numpy=array([ 3.,  6.,  9., 12., 15., 18., 21., 24.], dtype=float32)>)"
            ]
          },
          "metadata": {
            "tags": []
          },
          "execution_count": 15
        }
      ]
    },
    {
      "cell_type": "code",
      "metadata": {
        "id": "be6phHIRqoiQ",
        "colab": {
          "base_uri": "https://localhost:8080/"
        },
        "outputId": "140075a3-5647-4314-8218-05f1c6a62052"
      },
      "source": [
        "# Let's see if our model's  performance has improved..\n",
        "model.predict([17.0])"
      ],
      "execution_count": 16,
      "outputs": [
        {
          "output_type": "execute_result",
          "data": {
            "text/plain": [
              "array([[29.739855]], dtype=float32)"
            ]
          },
          "metadata": {
            "tags": []
          },
          "execution_count": 16
        }
      ]
    },
    {
      "cell_type": "code",
      "metadata": {
        "id": "eggXHWuPq0a_",
        "colab": {
          "base_uri": "https://localhost:8080/"
        },
        "outputId": "c1b0d36c-9f70-486f-d6ae-2adc6c1419bd"
      },
      "source": [
        "# Let's see if we  can make another to improve our model\n",
        "# 1. Create the moddel\n",
        "model = tf.keras.Sequential(\n",
        "    [tf.keras.layers.Dense(50 , activation=None),\n",
        "    tf.keras.layers.Dense(1)\n",
        "    ])\n",
        "# 2. Compile the model\n",
        "model.compile(loss=\"mae\",\n",
        "              optimizer=tf.keras.optimizers.Adam(learning_rate=0.01),metrics=['mae'])\n",
        "\n",
        "#3. Fitting our model (This time we will train for longer)\n",
        "model.fit(X,y, epochs=100)"
      ],
      "execution_count": 17,
      "outputs": [
        {
          "output_type": "stream",
          "text": [
            "Epoch 1/100\n",
            "1/1 [==============================] - 0s 432ms/step - loss: 11.7682 - mae: 11.7682\n",
            "Epoch 2/100\n",
            "1/1 [==============================] - 0s 10ms/step - loss: 11.0963 - mae: 11.0963\n",
            "Epoch 3/100\n",
            "1/1 [==============================] - 0s 11ms/step - loss: 10.4150 - mae: 10.4150\n",
            "Epoch 4/100\n",
            "1/1 [==============================] - 0s 8ms/step - loss: 9.7212 - mae: 9.7212\n",
            "Epoch 5/100\n",
            "1/1 [==============================] - 0s 7ms/step - loss: 9.0104 - mae: 9.0104\n",
            "Epoch 6/100\n",
            "1/1 [==============================] - 0s 5ms/step - loss: 8.2778 - mae: 8.2778\n",
            "Epoch 7/100\n",
            "1/1 [==============================] - 0s 8ms/step - loss: 7.5198 - mae: 7.5198\n",
            "Epoch 8/100\n",
            "1/1 [==============================] - 0s 5ms/step - loss: 6.9648 - mae: 6.9648\n",
            "Epoch 9/100\n",
            "1/1 [==============================] - 0s 4ms/step - loss: 7.0672 - mae: 7.0672\n",
            "Epoch 10/100\n",
            "1/1 [==============================] - 0s 5ms/step - loss: 7.3315 - mae: 7.3315\n",
            "Epoch 11/100\n",
            "1/1 [==============================] - 0s 5ms/step - loss: 7.4673 - mae: 7.4673\n",
            "Epoch 12/100\n",
            "1/1 [==============================] - 0s 8ms/step - loss: 7.5285 - mae: 7.5285\n",
            "Epoch 13/100\n",
            "1/1 [==============================] - 0s 6ms/step - loss: 7.4011 - mae: 7.4011\n",
            "Epoch 14/100\n",
            "1/1 [==============================] - 0s 10ms/step - loss: 7.1923 - mae: 7.1923\n",
            "Epoch 15/100\n",
            "1/1 [==============================] - 0s 6ms/step - loss: 6.9575 - mae: 6.9575\n",
            "Epoch 16/100\n",
            "1/1 [==============================] - 0s 5ms/step - loss: 6.6953 - mae: 6.6953\n",
            "Epoch 17/100\n",
            "1/1 [==============================] - 0s 6ms/step - loss: 6.4127 - mae: 6.4127\n",
            "Epoch 18/100\n",
            "1/1 [==============================] - 0s 5ms/step - loss: 6.3048 - mae: 6.3048\n",
            "Epoch 19/100\n",
            "1/1 [==============================] - 0s 6ms/step - loss: 6.2575 - mae: 6.2575\n",
            "Epoch 20/100\n",
            "1/1 [==============================] - 0s 14ms/step - loss: 6.3982 - mae: 6.3982\n",
            "Epoch 21/100\n",
            "1/1 [==============================] - 0s 9ms/step - loss: 6.4551 - mae: 6.4551\n",
            "Epoch 22/100\n",
            "1/1 [==============================] - 0s 8ms/step - loss: 6.4000 - mae: 6.4000\n",
            "Epoch 23/100\n",
            "1/1 [==============================] - 0s 7ms/step - loss: 6.2482 - mae: 6.2482\n",
            "Epoch 24/100\n",
            "1/1 [==============================] - 0s 8ms/step - loss: 6.0105 - mae: 6.0105\n",
            "Epoch 25/100\n",
            "1/1 [==============================] - 0s 9ms/step - loss: 5.7876 - mae: 5.7876\n",
            "Epoch 26/100\n",
            "1/1 [==============================] - 0s 7ms/step - loss: 5.6809 - mae: 5.6809\n",
            "Epoch 27/100\n",
            "1/1 [==============================] - 0s 6ms/step - loss: 5.5715 - mae: 5.5715\n",
            "Epoch 28/100\n",
            "1/1 [==============================] - 0s 6ms/step - loss: 5.6122 - mae: 5.6122\n",
            "Epoch 29/100\n",
            "1/1 [==============================] - 0s 9ms/step - loss: 5.6074 - mae: 5.6074\n",
            "Epoch 30/100\n",
            "1/1 [==============================] - 0s 7ms/step - loss: 5.5541 - mae: 5.5541\n",
            "Epoch 31/100\n",
            "1/1 [==============================] - 0s 9ms/step - loss: 5.4568 - mae: 5.4568\n",
            "Epoch 32/100\n",
            "1/1 [==============================] - 0s 8ms/step - loss: 5.3199 - mae: 5.3199\n",
            "Epoch 33/100\n",
            "1/1 [==============================] - 0s 8ms/step - loss: 5.1477 - mae: 5.1477\n",
            "Epoch 34/100\n",
            "1/1 [==============================] - 0s 6ms/step - loss: 4.9442 - mae: 4.9442\n",
            "Epoch 35/100\n",
            "1/1 [==============================] - 0s 9ms/step - loss: 4.8239 - mae: 4.8239\n",
            "Epoch 36/100\n",
            "1/1 [==============================] - 0s 8ms/step - loss: 4.7389 - mae: 4.7389\n",
            "Epoch 37/100\n",
            "1/1 [==============================] - 0s 8ms/step - loss: 4.6657 - mae: 4.6657\n",
            "Epoch 38/100\n",
            "1/1 [==============================] - 0s 11ms/step - loss: 4.5846 - mae: 4.5846\n",
            "Epoch 39/100\n",
            "1/1 [==============================] - 0s 14ms/step - loss: 4.4027 - mae: 4.4027\n",
            "Epoch 40/100\n",
            "1/1 [==============================] - 0s 16ms/step - loss: 4.2653 - mae: 4.2653\n",
            "Epoch 41/100\n",
            "1/1 [==============================] - 0s 8ms/step - loss: 4.1212 - mae: 4.1212\n",
            "Epoch 42/100\n",
            "1/1 [==============================] - 0s 10ms/step - loss: 3.9702 - mae: 3.9702\n",
            "Epoch 43/100\n",
            "1/1 [==============================] - 0s 16ms/step - loss: 3.8272 - mae: 3.8272\n",
            "Epoch 44/100\n",
            "1/1 [==============================] - 0s 13ms/step - loss: 3.7041 - mae: 3.7041\n",
            "Epoch 45/100\n",
            "1/1 [==============================] - 0s 12ms/step - loss: 3.5320 - mae: 3.5320\n",
            "Epoch 46/100\n",
            "1/1 [==============================] - 0s 9ms/step - loss: 3.3664 - mae: 3.3664\n",
            "Epoch 47/100\n",
            "1/1 [==============================] - 0s 9ms/step - loss: 3.2116 - mae: 3.2116\n",
            "Epoch 48/100\n",
            "1/1 [==============================] - 0s 8ms/step - loss: 3.0463 - mae: 3.0463\n",
            "Epoch 49/100\n",
            "1/1 [==============================] - 0s 10ms/step - loss: 2.8705 - mae: 2.8705\n",
            "Epoch 50/100\n",
            "1/1 [==============================] - 0s 7ms/step - loss: 2.6840 - mae: 2.6840\n",
            "Epoch 51/100\n",
            "1/1 [==============================] - 0s 9ms/step - loss: 2.4868 - mae: 2.4868\n",
            "Epoch 52/100\n",
            "1/1 [==============================] - 0s 7ms/step - loss: 2.2787 - mae: 2.2787\n",
            "Epoch 53/100\n",
            "1/1 [==============================] - 0s 8ms/step - loss: 2.0596 - mae: 2.0596\n",
            "Epoch 54/100\n",
            "1/1 [==============================] - 0s 4ms/step - loss: 1.8293 - mae: 1.8293\n",
            "Epoch 55/100\n",
            "1/1 [==============================] - 0s 9ms/step - loss: 1.5876 - mae: 1.5876\n",
            "Epoch 56/100\n",
            "1/1 [==============================] - 0s 31ms/step - loss: 1.3530 - mae: 1.3530\n",
            "Epoch 57/100\n",
            "1/1 [==============================] - 0s 7ms/step - loss: 1.0849 - mae: 1.0849\n",
            "Epoch 58/100\n",
            "1/1 [==============================] - 0s 51ms/step - loss: 0.8224 - mae: 0.8224\n",
            "Epoch 59/100\n",
            "1/1 [==============================] - 0s 5ms/step - loss: 0.5467 - mae: 0.5467\n",
            "Epoch 60/100\n",
            "1/1 [==============================] - 0s 5ms/step - loss: 0.2758 - mae: 0.2758\n",
            "Epoch 61/100\n",
            "1/1 [==============================] - 0s 6ms/step - loss: 0.1354 - mae: 0.1354\n",
            "Epoch 62/100\n",
            "1/1 [==============================] - 0s 10ms/step - loss: 0.4494 - mae: 0.4494\n",
            "Epoch 63/100\n",
            "1/1 [==============================] - 0s 14ms/step - loss: 0.6498 - mae: 0.6498\n",
            "Epoch 64/100\n",
            "1/1 [==============================] - 0s 4ms/step - loss: 0.6216 - mae: 0.6216\n",
            "Epoch 65/100\n",
            "1/1 [==============================] - 0s 11ms/step - loss: 0.8036 - mae: 0.8036\n",
            "Epoch 66/100\n",
            "1/1 [==============================] - 0s 4ms/step - loss: 0.7995 - mae: 0.7995\n",
            "Epoch 67/100\n",
            "1/1 [==============================] - 0s 4ms/step - loss: 0.7409 - mae: 0.7409\n",
            "Epoch 68/100\n",
            "1/1 [==============================] - 0s 4ms/step - loss: 0.7806 - mae: 0.7806\n",
            "Epoch 69/100\n",
            "1/1 [==============================] - 0s 13ms/step - loss: 0.6305 - mae: 0.6305\n",
            "Epoch 70/100\n",
            "1/1 [==============================] - 0s 5ms/step - loss: 0.5556 - mae: 0.5556\n",
            "Epoch 71/100\n",
            "1/1 [==============================] - 0s 7ms/step - loss: 0.4306 - mae: 0.4306\n",
            "Epoch 72/100\n",
            "1/1 [==============================] - 0s 4ms/step - loss: 0.2786 - mae: 0.2786\n",
            "Epoch 73/100\n",
            "1/1 [==============================] - 0s 7ms/step - loss: 0.1378 - mae: 0.1378\n",
            "Epoch 74/100\n",
            "1/1 [==============================] - 0s 5ms/step - loss: 0.1193 - mae: 0.1193\n",
            "Epoch 75/100\n",
            "1/1 [==============================] - 0s 6ms/step - loss: 0.2777 - mae: 0.2777\n",
            "Epoch 76/100\n",
            "1/1 [==============================] - 0s 9ms/step - loss: 0.3245 - mae: 0.3245\n",
            "Epoch 77/100\n",
            "1/1 [==============================] - 0s 7ms/step - loss: 0.4157 - mae: 0.4157\n",
            "Epoch 78/100\n",
            "1/1 [==============================] - 0s 8ms/step - loss: 0.4319 - mae: 0.4319\n",
            "Epoch 79/100\n",
            "1/1 [==============================] - 0s 5ms/step - loss: 0.3391 - mae: 0.3391\n",
            "Epoch 80/100\n",
            "1/1 [==============================] - 0s 6ms/step - loss: 0.2968 - mae: 0.2968\n",
            "Epoch 81/100\n",
            "1/1 [==============================] - 0s 7ms/step - loss: 0.2355 - mae: 0.2355\n",
            "Epoch 82/100\n",
            "1/1 [==============================] - 0s 7ms/step - loss: 0.1633 - mae: 0.1633\n",
            "Epoch 83/100\n",
            "1/1 [==============================] - 0s 9ms/step - loss: 0.1339 - mae: 0.1339\n",
            "Epoch 84/100\n",
            "1/1 [==============================] - 0s 9ms/step - loss: 0.1262 - mae: 0.1262\n",
            "Epoch 85/100\n",
            "1/1 [==============================] - 0s 19ms/step - loss: 0.1702 - mae: 0.1702\n",
            "Epoch 86/100\n",
            "1/1 [==============================] - 0s 8ms/step - loss: 0.2124 - mae: 0.2124\n",
            "Epoch 87/100\n",
            "1/1 [==============================] - 0s 12ms/step - loss: 0.2288 - mae: 0.2288\n",
            "Epoch 88/100\n",
            "1/1 [==============================] - 0s 7ms/step - loss: 0.1901 - mae: 0.1901\n",
            "Epoch 89/100\n",
            "1/1 [==============================] - 0s 5ms/step - loss: 0.1354 - mae: 0.1354\n",
            "Epoch 90/100\n",
            "1/1 [==============================] - 0s 5ms/step - loss: 0.1218 - mae: 0.1218\n",
            "Epoch 91/100\n",
            "1/1 [==============================] - 0s 6ms/step - loss: 0.0382 - mae: 0.0382\n",
            "Epoch 92/100\n",
            "1/1 [==============================] - 0s 4ms/step - loss: 0.2197 - mae: 0.2197\n",
            "Epoch 93/100\n",
            "1/1 [==============================] - 0s 5ms/step - loss: 0.2189 - mae: 0.2189\n",
            "Epoch 94/100\n",
            "1/1 [==============================] - 0s 6ms/step - loss: 0.1427 - mae: 0.1427\n",
            "Epoch 95/100\n",
            "1/1 [==============================] - 0s 11ms/step - loss: 0.1168 - mae: 0.1168\n",
            "Epoch 96/100\n",
            "1/1 [==============================] - 0s 5ms/step - loss: 0.2069 - mae: 0.2069\n",
            "Epoch 97/100\n",
            "1/1 [==============================] - 0s 4ms/step - loss: 0.1524 - mae: 0.1524\n",
            "Epoch 98/100\n",
            "1/1 [==============================] - 0s 5ms/step - loss: 0.2133 - mae: 0.2133\n",
            "Epoch 99/100\n",
            "1/1 [==============================] - 0s 6ms/step - loss: 0.2329 - mae: 0.2329\n",
            "Epoch 100/100\n",
            "1/1 [==============================] - 0s 9ms/step - loss: 0.0780 - mae: 0.0780\n"
          ],
          "name": "stdout"
        },
        {
          "output_type": "execute_result",
          "data": {
            "text/plain": [
              "<tensorflow.python.keras.callbacks.History at 0x7f946103d690>"
            ]
          },
          "metadata": {
            "tags": []
          },
          "execution_count": 17
        }
      ]
    },
    {
      "cell_type": "code",
      "metadata": {
        "id": "Hz6l5Gaih2q8",
        "colab": {
          "base_uri": "https://localhost:8080/"
        },
        "outputId": "05595a57-3bc7-4ccf-fdd3-1d60dd00cb84"
      },
      "source": [
        "# Let's see if our model's  performance has improved..\n",
        "model.predict([17.0])"
      ],
      "execution_count": 18,
      "outputs": [
        {
          "output_type": "execute_result",
          "data": {
            "text/plain": [
              "array([[26.58353]], dtype=float32)"
            ]
          },
          "metadata": {
            "tags": []
          },
          "execution_count": 18
        }
      ]
    },
    {
      "cell_type": "markdown",
      "metadata": {
        "id": "9zfijR-4h9Vp"
      },
      "source": [
        "## Evaluating a Model\n",
        "\n",
        "In practice, a typical workflow you'll go through when building neural networks is:\n",
        "\n",
        "```\n",
        "\n",
        "Build a modle -> fit it -> evaluate it -> tweak a model -> fit it-> evaluate i -> tweak a model -> fit it -> evaluate it........\n",
        "\n",
        "```"
      ]
    },
    {
      "cell_type": "markdown",
      "metadata": {
        "id": "-Yru1b0xl6w8"
      },
      "source": [
        "# When it comes to evaluation... there are 3 words we should memorize:\n",
        "> \"Visualize, visualize, Visualize\"\n",
        "\n",
        "It's a good idea to visualize:\n",
        "* The data - What data are working with? What does it look like?\n",
        "* The model itself - What does our model look like?\n",
        "* The training of a model - jow does a model perform while it learns?\n",
        "* The predictions of the model - how do the predictions of a model line up against the grounfd truth (the original labels)?"
      ]
    },
    {
      "cell_type": "code",
      "metadata": {
        "id": "AEU5hT_MnwXe",
        "colab": {
          "base_uri": "https://localhost:8080/"
        },
        "outputId": "e6185631-eabd-4d2b-eb64-303db9d17edc"
      },
      "source": [
        "# make a bigger dataset\n",
        "X = tf.range(-100,100,4)\n",
        "X"
      ],
      "execution_count": 19,
      "outputs": [
        {
          "output_type": "execute_result",
          "data": {
            "text/plain": [
              "<tf.Tensor: shape=(50,), dtype=int32, numpy=\n",
              "array([-100,  -96,  -92,  -88,  -84,  -80,  -76,  -72,  -68,  -64,  -60,\n",
              "        -56,  -52,  -48,  -44,  -40,  -36,  -32,  -28,  -24,  -20,  -16,\n",
              "        -12,   -8,   -4,    0,    4,    8,   12,   16,   20,   24,   28,\n",
              "         32,   36,   40,   44,   48,   52,   56,   60,   64,   68,   72,\n",
              "         76,   80,   84,   88,   92,   96], dtype=int32)>"
            ]
          },
          "metadata": {
            "tags": []
          },
          "execution_count": 19
        }
      ]
    },
    {
      "cell_type": "code",
      "metadata": {
        "id": "JbYOthXqn3jP",
        "colab": {
          "base_uri": "https://localhost:8080/"
        },
        "outputId": "d88ec38d-6fc4-40d6-e478-e9c6eb8a5e9d"
      },
      "source": [
        "# make labels for the dataset\n",
        "y = X + 10\n",
        "y"
      ],
      "execution_count": 20,
      "outputs": [
        {
          "output_type": "execute_result",
          "data": {
            "text/plain": [
              "<tf.Tensor: shape=(50,), dtype=int32, numpy=\n",
              "array([-90, -86, -82, -78, -74, -70, -66, -62, -58, -54, -50, -46, -42,\n",
              "       -38, -34, -30, -26, -22, -18, -14, -10,  -6,  -2,   2,   6,  10,\n",
              "        14,  18,  22,  26,  30,  34,  38,  42,  46,  50,  54,  58,  62,\n",
              "        66,  70,  74,  78,  82,  86,  90,  94,  98, 102, 106], dtype=int32)>"
            ]
          },
          "metadata": {
            "tags": []
          },
          "execution_count": 20
        }
      ]
    },
    {
      "cell_type": "code",
      "metadata": {
        "id": "Hz6ufP1JoBmr",
        "colab": {
          "base_uri": "https://localhost:8080/",
          "height": 282
        },
        "outputId": "93c37eee-7c70-48f7-c58f-38f44f53ba74"
      },
      "source": [
        "# Visualize the data \n",
        "import matplotlib.pyplot as plt\n",
        "plt.scatter(X, y)"
      ],
      "execution_count": 21,
      "outputs": [
        {
          "output_type": "execute_result",
          "data": {
            "text/plain": [
              "<matplotlib.collections.PathCollection at 0x7f945bdc1510>"
            ]
          },
          "metadata": {
            "tags": []
          },
          "execution_count": 21
        },
        {
          "output_type": "display_data",
          "data": {
            "image/png": "[encoded data removed]",
            "text/plain": [
              "<Figure size 432x288 with 1 Axes>"
            ]
          },
          "metadata": {
            "tags": [],
            "needs_background": "light"
          }
        }
      ]
    },
    {
      "cell_type": "markdown",
      "metadata": {
        "id": "TFmZfzvToVvI"
      },
      "source": [
        "## The 3 sets..\n",
        "\n",
        "* **Training set** - the model learns fro this data, which is typically 70-80% of the total data we have available.\n",
        "* **Vaidation set** - the model gets tuned on this data, which is typically 10-15% of the data available.\n",
        "* **Test set** - the model gets evaluated on this data to test what it has learned, this set is typically 10-15% of the total data available.\n"
      ]
    },
    {
      "cell_type": "code",
      "metadata": {
        "id": "lkNNBuM_yXDZ",
        "colab": {
          "base_uri": "https://localhost:8080/"
        },
        "outputId": "f4602d9b-baae-4620-dc61-a65e2f6ed132"
      },
      "source": [
        "# Check the length of how many samples we have\n",
        "len(X)"
      ],
      "execution_count": 22,
      "outputs": [
        {
          "output_type": "execute_result",
          "data": {
            "text/plain": [
              "50"
            ]
          },
          "metadata": {
            "tags": []
          },
          "execution_count": 22
        }
      ]
    },
    {
      "cell_type": "code",
      "metadata": {
        "id": "k8vSFo4nygmg",
        "colab": {
          "base_uri": "https://localhost:8080/"
        },
        "outputId": "ca820af5-fc2f-4fd7-a0c9-fab2a7ae60b3"
      },
      "source": [
        "# Split the data into train and test set\n",
        "X_train = X[:40] # first 40 are training samples( 80% of the data) \n",
        "y_train = y[:40]\n",
        "X_test = X[40:] # last 10 are testing samples (20% of the data)\n",
        "y_test = y[40:]\n",
        "\n",
        "len(X_train), len(X_test), len(y_train),len(y_test)"
      ],
      "execution_count": 23,
      "outputs": [
        {
          "output_type": "execute_result",
          "data": {
            "text/plain": [
              "(40, 10, 40, 10)"
            ]
          },
          "metadata": {
            "tags": []
          },
          "execution_count": 23
        }
      ]
    },
    {
      "cell_type": "markdown",
      "metadata": {
        "id": "RGVlfuJezUgF"
      },
      "source": [
        "### Visualizing the data\n",
        "\n",
        "Now we ahve got our data in training and test sets... let's visualize it again!"
      ]
    },
    {
      "cell_type": "code",
      "metadata": {
        "id": "mV1pBaN3zfiM",
        "colab": {
          "base_uri": "https://localhost:8080/",
          "height": 0
        },
        "outputId": "b746bc64-ff2c-42f0-ff63-fca4697ad30a"
      },
      "source": [
        "plt.figure(figsize=(10, 7))\n",
        "# Plot training data in blue\n",
        "plt.scatter(X_train, y_train, c=\"b\", label = \"Training data\")\n",
        "\n",
        "# Plot test data in green\n",
        "plt.scatter(X_test, y_test, c=\"g\", label = \"Testing data\")\n",
        "\n",
        "# Show a legend\n",
        "plt.legend();"
      ],
      "execution_count": 24,
      "outputs": [
        {
          "output_type": "display_data",
          "data": {
            "image/png": "[encoded data removed]",
            "text/plain": [
              "<Figure size 720x504 with 1 Axes>"
            ]
          },
          "metadata": {
            "tags": [],
            "needs_background": "light"
          }
        }
      ]
    },
    {
      "cell_type": "code",
      "metadata": {
        "id": "70q2qAj5qOZq"
      },
      "source": [
        " # Lets's have a look at how to build a neural network for our data\n",
        " # 1. Create the moddel\n",
        "# model = tf.keras.Sequential([\n",
        "#                              tf.keras.layers.Dense(1)\n",
        "#                              ])\n",
        "# # 2. Compile the model\n",
        "# model.compile(loss=tf.keras.losses.mae,\n",
        "#               optimizer=tf.keras.optimizers.SGD(),metrics=['mae'])\n",
        "\n",
        "#3. Fitting our model (This time we will train for longer)\n",
        "# model.fit(X,y, epochs=100)"
      ],
      "execution_count": 25,
      "outputs": []
    },
    {
      "cell_type": "markdown",
      "metadata": {
        "id": "ft_hDvQy1FmQ"
      },
      "source": [
        "## Visualizing the model"
      ]
    },
    {
      "cell_type": "code",
      "metadata": {
        "id": "PHjBg6RM1ccj"
      },
      "source": [
        "# let's create a model which builds automatically by defining the input_shape argument in the first layer\n",
        "tf.random.set_seed(42)\n",
        "\n",
        "# Create a model  (same as above)\n",
        "model1= tf.keras.Sequential([ \n",
        "       tf.keras.layers.Dense(10, input_shape=[1], name=\"input_layer\"),\n",
        "       tf.keras.layers.Dense(1 , name=\"Output_layer\")\n",
        "       ])\n",
        "#2. Compile the model(same as above)\n",
        "model1.compile(loss=tf.keras.losses.mae, optimizer=tf.keras.optimizers.SGD(), metrics=[\"mae\"])"
      ],
      "execution_count": 26,
      "outputs": []
    },
    {
      "cell_type": "code",
      "metadata": {
        "id": "ijB1uKvM25tU",
        "colab": {
          "base_uri": "https://localhost:8080/"
        },
        "outputId": "22459109-74ab-4c6d-89d2-6354612bd328"
      },
      "source": [
        "model1.summary()"
      ],
      "execution_count": 27,
      "outputs": [
        {
          "output_type": "stream",
          "text": [
            "Model: \"sequential_3\"\n",
            "_________________________________________________________________\n",
            "Layer (type)                 Output Shape              Param #   \n",
            "=================================================================\n",
            "input_layer (Dense)          (None, 10)                20        \n",
            "_________________________________________________________________\n",
            "Output_layer (Dense)         (None, 1)                 11        \n",
            "=================================================================\n",
            "Total params: 31\n",
            "Trainable params: 31\n",
            "Non-trainable params: 0\n",
            "_________________________________________________________________\n"
          ],
          "name": "stdout"
        }
      ]
    },
    {
      "cell_type": "markdown",
      "metadata": {
        "id": "fhZB585V3SVi"
      },
      "source": [
        "* Total params - total number of parameters in the model\n",
        "* Trainable parameters - these are the parameters (patterns) the model can update as it trains\n",
        "* Non-trainable params - these parameters aren't updated during training (this is typical when we bring in already learn patterns or parameters from other models during transfer learning)\n",
        "\n",
        "\n",
        "**Resource:** For more in-depth overview of the trainable parameters within a layer, check out MIT's Introduction to deep learninig videos [here](https://www.youtube.com/watch?v=5tvmMX8r_OM)"
      ]
    },
    {
      "cell_type": "markdown",
      "metadata": {
        "id": "tSxZJr1X5i0g"
      },
      "source": [
        "**Exercise:** Tery playing arounf with number of hidden units in the dense layer, see how that effects the number of parameters(total and trainable) by calling `**model.summary()**`."
      ]
    },
    {
      "cell_type": "code",
      "metadata": {
        "id": "6LGEI2X62-zp"
      },
      "source": [
        "# # Create a model  (same as above)\n",
        "# model= tf.keras.Sequential([tf.keras.layers.Dense(30, input_shape=[1])\n",
        "# ])\n",
        "\n",
        "# #2. Compile the model(same as above)\n",
        "# model.compile(loss=tf.keras.losses.mae, optimizer=tf.keras.optimizers.SGD(), metrics=[\"mae\"])"
      ],
      "execution_count": 28,
      "outputs": []
    },
    {
      "cell_type": "code",
      "metadata": {
        "id": "nfVwGRXk564K",
        "colab": {
          "base_uri": "https://localhost:8080/"
        },
        "outputId": "665e384e-4303-4cf5-94d8-3f3627470d22"
      },
      "source": [
        "model1.summary()"
      ],
      "execution_count": 29,
      "outputs": [
        {
          "output_type": "stream",
          "text": [
            "Model: \"sequential_3\"\n",
            "_________________________________________________________________\n",
            "Layer (type)                 Output Shape              Param #   \n",
            "=================================================================\n",
            "input_layer (Dense)          (None, 10)                20        \n",
            "_________________________________________________________________\n",
            "Output_layer (Dense)         (None, 1)                 11        \n",
            "=================================================================\n",
            "Total params: 31\n",
            "Trainable params: 31\n",
            "Non-trainable params: 0\n",
            "_________________________________________________________________\n"
          ],
          "name": "stdout"
        }
      ]
    },
    {
      "cell_type": "markdown",
      "metadata": {
        "id": "ujNWvFFz6Bmw"
      },
      "source": [
        "**Obsevation:** We can see that as we increase the hidden unit the `total params` and `trainable params` **doubled** the number of hidden units"
      ]
    },
    {
      "cell_type": "code",
      "metadata": {
        "id": "glTRe_ic58b-",
        "colab": {
          "base_uri": "https://localhost:8080/"
        },
        "outputId": "1fa2de17-132f-44a2-a72e-c45ac4a7bb85"
      },
      "source": [
        "# Lets fit our model to the training data\n",
        "model1.fit(X_train,y_train, epochs=100, verbose=0)"
      ],
      "execution_count": 30,
      "outputs": [
        {
          "output_type": "execute_result",
          "data": {
            "text/plain": [
              "<tensorflow.python.keras.callbacks.History at 0x7f945fcd6b50>"
            ]
          },
          "metadata": {
            "tags": []
          },
          "execution_count": 30
        }
      ]
    },
    {
      "cell_type": "code",
      "metadata": {
        "id": "wizsRp0r65VA",
        "colab": {
          "base_uri": "https://localhost:8080/",
          "height": 0
        },
        "outputId": "0372b20f-8da1-423f-bb12-1da8bb2f9061"
      },
      "source": [
        "## Plotting our model\n",
        "from tensorflow.keras.utils import plot_model\n",
        "\n",
        "plot_model(model, show_shapes=True)"
      ],
      "execution_count": 31,
      "outputs": [
        {
          "output_type": "execute_result",
          "data": {
            "image/png": "[encoded data removed]",
            "text/plain": [
              "<IPython.core.display.Image object>"
            ]
          },
          "metadata": {
            "tags": []
          },
          "execution_count": 31
        }
      ]
    },
    {
      "cell_type": "markdown",
      "metadata": {
        "id": "XUgpRdT08JYo"
      },
      "source": [
        "##Visualizing our model's predicting\n",
        "\n",
        "To visualize predictions, it's a good idea to plot them against the ground truth labels.\n",
        "\n",
        "Often we'll see this in the form of `y_test` or `y_truth` versus `y_pred `(ground truth versus our model's predictions) "
      ]
    },
    {
      "cell_type": "code",
      "metadata": {
        "id": "8L7-2NGCDS3Z",
        "colab": {
          "base_uri": "https://localhost:8080/"
        },
        "outputId": "b46465cc-dda8-483b-87ab-8884163e07db"
      },
      "source": [
        "# make some predictions\n",
        "y_pred = model1.predict(X_test)\n",
        "y_pred"
      ],
      "execution_count": 32,
      "outputs": [
        {
          "output_type": "execute_result",
          "data": {
            "text/plain": [
              "array([[ 70.55218 ],\n",
              "       [ 75.13991 ],\n",
              "       [ 79.72763 ],\n",
              "       [ 84.31535 ],\n",
              "       [ 88.903076],\n",
              "       [ 93.49081 ],\n",
              "       [ 98.07853 ],\n",
              "       [102.66625 ],\n",
              "       [107.253975],\n",
              "       [111.8417  ]], dtype=float32)"
            ]
          },
          "metadata": {
            "tags": []
          },
          "execution_count": 32
        }
      ]
    },
    {
      "cell_type": "code",
      "metadata": {
        "id": "ZzA4bT4gAoho",
        "colab": {
          "base_uri": "https://localhost:8080/"
        },
        "outputId": "92407fdf-065b-495b-e809-3e697989b986"
      },
      "source": [
        "y_test"
      ],
      "execution_count": 33,
      "outputs": [
        {
          "output_type": "execute_result",
          "data": {
            "text/plain": [
              "<tf.Tensor: shape=(10,), dtype=int32, numpy=array([ 70,  74,  78,  82,  86,  90,  94,  98, 102, 106], dtype=int32)>"
            ]
          },
          "metadata": {
            "tags": []
          },
          "execution_count": 33
        }
      ]
    },
    {
      "cell_type": "markdown",
      "metadata": {
        "id": "iON9__48Cgu_"
      },
      "source": [
        "**Note:** If we feel like we are going to reuse some kind of functionality in the future, it's a good idea to turn it into a function."
      ]
    },
    {
      "cell_type": "code",
      "metadata": {
        "id": "EXFvqB9XCbnL"
      },
      "source": [
        "# Let's create a plotting function \n",
        "def plot_predictions(train_data=X_train,\n",
        "                     train_labels=y_train,\n",
        "                     test_data=X_test,\n",
        "                     test_labels=y_test,\n",
        "                     predictions=y_pred):\n",
        "    \"\"\"\n",
        "    Plots training data, test data and compares predictions to ground truth labels\n",
        "    \"\"\"\n",
        "    plt.figure(figsize=(10, 7))\n",
        "\n",
        "    # Plot training data in blue\n",
        "    plt.scatter(train_data, train_labels, c=\"b\", label = \"Training data\")\n",
        "\n",
        "    # Plot test data in green\n",
        "    plt.scatter(test_data, test_labels, c=\"g\", label = \"Testing data\")\n",
        "    # Plot model's predictions in red\n",
        "    plt.scatter(test_data, predictions, c=\"r\", label = \"Predictions\")\n",
        "    # Show a legend\n",
        "    plt.legend();\n"
      ],
      "execution_count": 34,
      "outputs": []
    },
    {
      "cell_type": "code",
      "metadata": {
        "id": "LI-tQu2HEcUW",
        "colab": {
          "base_uri": "https://localhost:8080/",
          "height": 0
        },
        "outputId": "704a9a99-2dfd-47f7-84df-227ab08b3c45"
      },
      "source": [
        "plot_predictions(train_data=X_train,\n",
        "                     train_labels=y_train,\n",
        "                     test_data=X_test,\n",
        "                     test_labels=y_test,\n",
        "                     predictions=y_pred)"
      ],
      "execution_count": 35,
      "outputs": [
        {
          "output_type": "display_data",
          "data": {
            "image/png": "[encoded data removed]",
            "text/plain": [
              "<Figure size 720x504 with 1 Axes>"
            ]
          },
          "metadata": {
            "tags": [],
            "needs_background": "light"
          }
        }
      ]
    },
    {
      "cell_type": "markdown",
      "metadata": {
        "id": "u5ri_MtYEpmf"
      },
      "source": [
        "### Evaluating our model's with Regression Evaluation metrics\n",
        "\n",
        "Depending on the problem we are working on, there will be different evaluation metrics to evaluate your model's performace.\n",
        "Since we are working on a regression, two of the main metrics:\n",
        "* MAE - mean absolute error, \"on average, how wrong is each of my model's predictions\"\n",
        "* MSE - mean square error, \"square the average errors\" "
      ]
    },
    {
      "cell_type": "code",
      "metadata": {
        "id": "UDrKsm4lFPBi",
        "colab": {
          "base_uri": "https://localhost:8080/"
        },
        "outputId": "20650972-de10-4722-ce60-01151ea9f1bd"
      },
      "source": [
        "# Evaluate the model on the test\n",
        "model1.evaluate(X_test, y_test)"
      ],
      "execution_count": 36,
      "outputs": [
        {
          "output_type": "stream",
          "text": [
            "1/1 [==============================] - 0s 132ms/step - loss: 3.1969 - mae: 3.1969\n"
          ],
          "name": "stdout"
        },
        {
          "output_type": "execute_result",
          "data": {
            "text/plain": [
              "[3.196942090988159, 3.196942090988159]"
            ]
          },
          "metadata": {
            "tags": []
          },
          "execution_count": 36
        }
      ]
    },
    {
      "cell_type": "code",
      "metadata": {
        "id": "weY3b73vKtRz",
        "colab": {
          "base_uri": "https://localhost:8080/"
        },
        "outputId": "0fcc6cd4-3b7e-41dd-9eba-14da21568d1d"
      },
      "source": [
        "# Calculate the mean absolute error\n",
        "mae = tf.metrics.mean_absolute_error(y_test,tf.constant(y_pred))\n",
        "mae"
      ],
      "execution_count": 37,
      "outputs": [
        {
          "output_type": "execute_result",
          "data": {
            "text/plain": [
              "<tf.Tensor: shape=(10,), dtype=float32, numpy=\n",
              "array([17.558258 , 14.1160555, 11.708948 , 10.336929 , 10.       ,\n",
              "       10.698161 , 12.447118 , 15.333002 , 19.253975 , 23.841698 ],\n",
              "      dtype=float32)>"
            ]
          },
          "metadata": {
            "tags": []
          },
          "execution_count": 37
        }
      ]
    },
    {
      "cell_type": "code",
      "metadata": {
        "id": "EuPTRK9OLGpL",
        "colab": {
          "base_uri": "https://localhost:8080/"
        },
        "outputId": "2400eec2-766c-464e-d431-c8666482b33a"
      },
      "source": [
        " # Calculate the mean absolute error\n",
        "mae = tf.metrics.mean_absolute_error(y_test, tf.squeeze(y_pred))\n",
        "mae"
      ],
      "execution_count": 38,
      "outputs": [
        {
          "output_type": "execute_result",
          "data": {
            "text/plain": [
              "<tf.Tensor: shape=(), dtype=float32, numpy=3.1969407>"
            ]
          },
          "metadata": {
            "tags": []
          },
          "execution_count": 38
        }
      ]
    },
    {
      "cell_type": "code",
      "metadata": {
        "id": "TNGMQH8KSfMG",
        "colab": {
          "base_uri": "https://localhost:8080/"
        },
        "outputId": "ac7354ba-9791-495f-9898-d7a8b6800678"
      },
      "source": [
        " # Calculate the mean square error\n",
        "mse = tf.metrics.mean_squared_error(y_test, tf.squeeze(y_pred))\n",
        "mse"
      ],
      "execution_count": 39,
      "outputs": [
        {
          "output_type": "execute_result",
          "data": {
            "text/plain": [
              "<tf.Tensor: shape=(), dtype=float32, numpy=13.070143>"
            ]
          },
          "metadata": {
            "tags": []
          },
          "execution_count": 39
        }
      ]
    },
    {
      "cell_type": "code",
      "metadata": {
        "id": "dlLa8NkUSyQp"
      },
      "source": [
        "# Make some function to reuse MAE and MSE\n",
        "def mae(y_true, y_pred):\n",
        "  return tf.metrics.mean_absolute_error(y_true, tf.squeeze(y_pred))\n",
        "\n",
        "\n",
        "def mse(y_true, y_pred):\n",
        "  return tf.metrics.mean_squared_error(y_true, tf.squeeze(y_pred))"
      ],
      "execution_count": 40,
      "outputs": []
    },
    {
      "cell_type": "markdown",
      "metadata": {
        "id": "TIfIkVywTxTS"
      },
      "source": [
        "## Runninf experiments to improve our model\n",
        "\n",
        "```\n",
        "Build a model -> fit it -> evaluate it -> tweak it -> fit it -> evaluate it -> tweak it -> fit it -> evaluate it...\n",
        "```\n",
        "1. Get more data - get more examples for our model to train on (more opportunir=ties to learn patterns or relationships between features and labels).\n",
        "\n",
        "2. Makke our model larger (using more complex model) - this might come in the form of more layers or more hidden units in each layer.\n",
        "3. Train for longer - give our model more of a chance to find patterns in the data.\n",
        "\n",
        " Let's do 3 modelling experiments:\n",
        " 1. `model_1` - same as the original model, 1 layer, trained for 100 epochs.\n",
        " 2. `model_2` - 2 layers, trained for 100 epochs\n",
        " 3. `model_3` - 2 layers, trained for 500 epochs\n",
        "\n",
        "**Build `model_1`**\n",
        "\n"
      ]
    },
    {
      "cell_type": "code",
      "metadata": {
        "id": "2ejV3OpgWG1C",
        "colab": {
          "base_uri": "https://localhost:8080/"
        },
        "outputId": "f2704477-ced9-4ff2-cf04-60cb3041dfa6"
      },
      "source": [
        "# Set random seed\n",
        "tf.random.set_seed(42)\n",
        "\n",
        "# 1. Create the model\n",
        "model_1 = tf.keras.Sequential([\n",
        "   tf.keras.layers.Dense(1)                              \n",
        "])\n",
        "\n",
        "#2. Compile the model\n",
        "model_1.compile(loss=tf.keras.losses.mae,\n",
        "                optimizer=tf.optimizers.SGD(),\n",
        "                metrics=['mae'])\n",
        "#3. Fit our model\n",
        "model_1.fit(X_train, y_train, epochs=100)"
      ],
      "execution_count": 41,
      "outputs": [
        {
          "output_type": "stream",
          "text": [
            "Epoch 1/100\n",
            "2/2 [==============================] - 0s 7ms/step - loss: 15.9024 - mae: 15.9024\n",
            "Epoch 2/100\n",
            "2/2 [==============================] - 0s 3ms/step - loss: 11.2837 - mae: 11.2837\n",
            "Epoch 3/100\n",
            "2/2 [==============================] - 0s 3ms/step - loss: 11.1074 - mae: 11.1074\n",
            "Epoch 4/100\n",
            "2/2 [==============================] - 0s 3ms/step - loss: 9.2991 - mae: 9.2991\n",
            "Epoch 5/100\n",
            "2/2 [==============================] - 0s 9ms/step - loss: 10.1677 - mae: 10.1677\n",
            "Epoch 6/100\n",
            "2/2 [==============================] - 0s 7ms/step - loss: 9.4303 - mae: 9.4303\n",
            "Epoch 7/100\n",
            "2/2 [==============================] - 0s 4ms/step - loss: 8.5704 - mae: 8.5704\n",
            "Epoch 8/100\n",
            "2/2 [==============================] - 0s 7ms/step - loss: 9.0442 - mae: 9.0442\n",
            "Epoch 9/100\n",
            "2/2 [==============================] - 0s 4ms/step - loss: 18.7517 - mae: 18.7517\n",
            "Epoch 10/100\n",
            "2/2 [==============================] - 0s 8ms/step - loss: 10.1142 - mae: 10.1142\n",
            "Epoch 11/100\n",
            "2/2 [==============================] - 0s 8ms/step - loss: 8.3980 - mae: 8.3980\n",
            "Epoch 12/100\n",
            "2/2 [==============================] - 0s 8ms/step - loss: 10.6639 - mae: 10.6639\n",
            "Epoch 13/100\n",
            "2/2 [==============================] - 0s 8ms/step - loss: 9.7977 - mae: 9.7977\n",
            "Epoch 14/100\n",
            "2/2 [==============================] - 0s 11ms/step - loss: 16.0103 - mae: 16.0103\n",
            "Epoch 15/100\n",
            "2/2 [==============================] - 0s 4ms/step - loss: 11.4068 - mae: 11.4068\n",
            "Epoch 16/100\n",
            "2/2 [==============================] - 0s 10ms/step - loss: 8.5393 - mae: 8.5393\n",
            "Epoch 17/100\n",
            "2/2 [==============================] - 0s 6ms/step - loss: 13.6348 - mae: 13.6348\n",
            "Epoch 18/100\n",
            "2/2 [==============================] - 0s 9ms/step - loss: 11.4629 - mae: 11.4629\n",
            "Epoch 19/100\n",
            "2/2 [==============================] - 0s 12ms/step - loss: 17.9148 - mae: 17.9148\n",
            "Epoch 20/100\n",
            "2/2 [==============================] - 0s 7ms/step - loss: 15.0494 - mae: 15.0494\n",
            "Epoch 21/100\n",
            "2/2 [==============================] - 0s 6ms/step - loss: 11.0216 - mae: 11.0216\n",
            "Epoch 22/100\n",
            "2/2 [==============================] - 0s 4ms/step - loss: 8.1558 - mae: 8.1558\n",
            "Epoch 23/100\n",
            "2/2 [==============================] - 0s 5ms/step - loss: 9.5138 - mae: 9.5138\n",
            "Epoch 24/100\n",
            "2/2 [==============================] - 0s 5ms/step - loss: 7.6617 - mae: 7.6617\n",
            "Epoch 25/100\n",
            "2/2 [==============================] - 0s 10ms/step - loss: 13.1859 - mae: 13.1859\n",
            "Epoch 26/100\n",
            "2/2 [==============================] - 0s 9ms/step - loss: 16.4211 - mae: 16.4211\n",
            "Epoch 27/100\n",
            "2/2 [==============================] - 0s 9ms/step - loss: 13.1660 - mae: 13.1660\n",
            "Epoch 28/100\n",
            "2/2 [==============================] - 0s 7ms/step - loss: 14.2559 - mae: 14.2559\n",
            "Epoch 29/100\n",
            "2/2 [==============================] - 0s 11ms/step - loss: 10.0670 - mae: 10.0670\n",
            "Epoch 30/100\n",
            "2/2 [==============================] - 0s 8ms/step - loss: 16.3409 - mae: 16.3409\n",
            "Epoch 31/100\n",
            "2/2 [==============================] - 0s 11ms/step - loss: 23.6444 - mae: 23.6444\n",
            "Epoch 32/100\n",
            "2/2 [==============================] - 0s 4ms/step - loss: 7.6215 - mae: 7.6215\n",
            "Epoch 33/100\n",
            "2/2 [==============================] - 0s 10ms/step - loss: 9.3221 - mae: 9.3221\n",
            "Epoch 34/100\n",
            "2/2 [==============================] - 0s 8ms/step - loss: 13.7313 - mae: 13.7313\n",
            "Epoch 35/100\n",
            "2/2 [==============================] - 0s 6ms/step - loss: 11.1276 - mae: 11.1276\n",
            "Epoch 36/100\n",
            "2/2 [==============================] - 0s 5ms/step - loss: 13.3222 - mae: 13.3222\n",
            "Epoch 37/100\n",
            "2/2 [==============================] - 0s 4ms/step - loss: 9.4763 - mae: 9.4763\n",
            "Epoch 38/100\n",
            "2/2 [==============================] - 0s 4ms/step - loss: 10.1381 - mae: 10.1381\n",
            "Epoch 39/100\n",
            "2/2 [==============================] - 0s 10ms/step - loss: 10.1793 - mae: 10.1793\n",
            "Epoch 40/100\n",
            "2/2 [==============================] - 0s 4ms/step - loss: 10.9137 - mae: 10.9137\n",
            "Epoch 41/100\n",
            "2/2 [==============================] - 0s 5ms/step - loss: 7.9063 - mae: 7.9063\n",
            "Epoch 42/100\n",
            "2/2 [==============================] - 0s 5ms/step - loss: 10.0914 - mae: 10.0914\n",
            "Epoch 43/100\n",
            "2/2 [==============================] - 0s 18ms/step - loss: 8.7006 - mae: 8.7006\n",
            "Epoch 44/100\n",
            "2/2 [==============================] - 0s 4ms/step - loss: 12.2047 - mae: 12.2047\n",
            "Epoch 45/100\n",
            "2/2 [==============================] - 0s 4ms/step - loss: 13.7970 - mae: 13.7970\n",
            "Epoch 46/100\n",
            "2/2 [==============================] - 0s 4ms/step - loss: 8.4687 - mae: 8.4687\n",
            "Epoch 47/100\n",
            "2/2 [==============================] - 0s 4ms/step - loss: 9.1330 - mae: 9.1330\n",
            "Epoch 48/100\n",
            "2/2 [==============================] - 0s 10ms/step - loss: 10.6190 - mae: 10.6190\n",
            "Epoch 49/100\n",
            "2/2 [==============================] - 0s 6ms/step - loss: 7.7503 - mae: 7.7503\n",
            "Epoch 50/100\n",
            "2/2 [==============================] - 0s 4ms/step - loss: 9.5407 - mae: 9.5407\n",
            "Epoch 51/100\n",
            "2/2 [==============================] - 0s 4ms/step - loss: 9.1584 - mae: 9.1584\n",
            "Epoch 52/100\n",
            "2/2 [==============================] - 0s 5ms/step - loss: 16.3630 - mae: 16.3630\n",
            "Epoch 53/100\n",
            "2/2 [==============================] - 0s 10ms/step - loss: 14.1299 - mae: 14.1299\n",
            "Epoch 54/100\n",
            "2/2 [==============================] - 0s 14ms/step - loss: 21.1247 - mae: 21.1247\n",
            "Epoch 55/100\n",
            "2/2 [==============================] - 0s 6ms/step - loss: 16.3961 - mae: 16.3961\n",
            "Epoch 56/100\n",
            "2/2 [==============================] - 0s 9ms/step - loss: 9.9806 - mae: 9.9806\n",
            "Epoch 57/100\n",
            "2/2 [==============================] - 0s 3ms/step - loss: 9.9606 - mae: 9.9606\n",
            "Epoch 58/100\n",
            "2/2 [==============================] - 0s 5ms/step - loss: 9.2209 - mae: 9.2209\n",
            "Epoch 59/100\n",
            "2/2 [==============================] - 0s 4ms/step - loss: 8.4239 - mae: 8.4239\n",
            "Epoch 60/100\n",
            "2/2 [==============================] - 0s 12ms/step - loss: 9.4869 - mae: 9.4869\n",
            "Epoch 61/100\n",
            "2/2 [==============================] - 0s 5ms/step - loss: 11.4355 - mae: 11.4355\n",
            "Epoch 62/100\n",
            "2/2 [==============================] - 0s 7ms/step - loss: 11.6887 - mae: 11.6887\n",
            "Epoch 63/100\n",
            "2/2 [==============================] - 0s 7ms/step - loss: 7.0838 - mae: 7.0838\n",
            "Epoch 64/100\n",
            "2/2 [==============================] - 0s 4ms/step - loss: 16.9675 - mae: 16.9675\n",
            "Epoch 65/100\n",
            "2/2 [==============================] - 0s 5ms/step - loss: 12.4599 - mae: 12.4599\n",
            "Epoch 66/100\n",
            "2/2 [==============================] - 0s 4ms/step - loss: 13.0184 - mae: 13.0184\n",
            "Epoch 67/100\n",
            "2/2 [==============================] - 0s 5ms/step - loss: 8.0600 - mae: 8.0600\n",
            "Epoch 68/100\n",
            "2/2 [==============================] - 0s 4ms/step - loss: 10.1888 - mae: 10.1888\n",
            "Epoch 69/100\n",
            "2/2 [==============================] - 0s 5ms/step - loss: 12.3633 - mae: 12.3633\n",
            "Epoch 70/100\n",
            "2/2 [==============================] - 0s 5ms/step - loss: 9.0516 - mae: 9.0516\n",
            "Epoch 71/100\n",
            "2/2 [==============================] - 0s 5ms/step - loss: 10.0378 - mae: 10.0378\n",
            "Epoch 72/100\n",
            "2/2 [==============================] - 0s 5ms/step - loss: 10.0516 - mae: 10.0516\n",
            "Epoch 73/100\n",
            "2/2 [==============================] - 0s 4ms/step - loss: 12.6151 - mae: 12.6151\n",
            "Epoch 74/100\n",
            "2/2 [==============================] - 0s 4ms/step - loss: 10.3819 - mae: 10.3819\n",
            "Epoch 75/100\n",
            "2/2 [==============================] - 0s 8ms/step - loss: 9.7229 - mae: 9.7229\n",
            "Epoch 76/100\n",
            "2/2 [==============================] - 0s 5ms/step - loss: 11.2252 - mae: 11.2252\n",
            "Epoch 77/100\n",
            "2/2 [==============================] - 0s 4ms/step - loss: 8.3642 - mae: 8.3642\n",
            "Epoch 78/100\n",
            "2/2 [==============================] - 0s 5ms/step - loss: 9.1274 - mae: 9.1274\n",
            "Epoch 79/100\n",
            "2/2 [==============================] - 0s 5ms/step - loss: 19.5039 - mae: 19.5039\n",
            "Epoch 80/100\n",
            "2/2 [==============================] - 0s 5ms/step - loss: 14.8945 - mae: 14.8945\n",
            "Epoch 81/100\n",
            "2/2 [==============================] - 0s 6ms/step - loss: 9.0034 - mae: 9.0034\n",
            "Epoch 82/100\n",
            "2/2 [==============================] - 0s 5ms/step - loss: 13.0206 - mae: 13.0206\n",
            "Epoch 83/100\n",
            "2/2 [==============================] - 0s 4ms/step - loss: 7.9299 - mae: 7.9299\n",
            "Epoch 84/100\n",
            "2/2 [==============================] - 0s 4ms/step - loss: 7.6872 - mae: 7.6872\n",
            "Epoch 85/100\n",
            "2/2 [==============================] - 0s 5ms/step - loss: 10.0328 - mae: 10.0328\n",
            "Epoch 86/100\n",
            "2/2 [==============================] - 0s 4ms/step - loss: 9.2433 - mae: 9.2433\n",
            "Epoch 87/100\n",
            "2/2 [==============================] - 0s 5ms/step - loss: 12.0209 - mae: 12.0209\n",
            "Epoch 88/100\n",
            "2/2 [==============================] - 0s 6ms/step - loss: 10.6389 - mae: 10.6389\n",
            "Epoch 89/100\n",
            "2/2 [==============================] - 0s 4ms/step - loss: 7.2667 - mae: 7.2667\n",
            "Epoch 90/100\n",
            "2/2 [==============================] - 0s 5ms/step - loss: 12.7786 - mae: 12.7786\n",
            "Epoch 91/100\n",
            "2/2 [==============================] - 0s 5ms/step - loss: 7.3481 - mae: 7.3481\n",
            "Epoch 92/100\n",
            "2/2 [==============================] - 0s 5ms/step - loss: 7.7175 - mae: 7.7175\n",
            "Epoch 93/100\n",
            "2/2 [==============================] - 0s 7ms/step - loss: 7.1263 - mae: 7.1263\n",
            "Epoch 94/100\n",
            "2/2 [==============================] - 0s 9ms/step - loss: 12.6190 - mae: 12.6190\n",
            "Epoch 95/100\n",
            "2/2 [==============================] - 0s 6ms/step - loss: 10.0912 - mae: 10.0912\n",
            "Epoch 96/100\n",
            "2/2 [==============================] - 0s 4ms/step - loss: 9.3558 - mae: 9.3558\n",
            "Epoch 97/100\n",
            "2/2 [==============================] - 0s 6ms/step - loss: 12.6834 - mae: 12.6834\n",
            "Epoch 98/100\n",
            "2/2 [==============================] - 0s 5ms/step - loss: 8.6762 - mae: 8.6762\n",
            "Epoch 99/100\n",
            "2/2 [==============================] - 0s 4ms/step - loss: 9.4693 - mae: 9.4693\n",
            "Epoch 100/100\n",
            "2/2 [==============================] - 0s 8ms/step - loss: 8.7067 - mae: 8.7067\n"
          ],
          "name": "stdout"
        },
        {
          "output_type": "execute_result",
          "data": {
            "text/plain": [
              "<tensorflow.python.keras.callbacks.History at 0x7f945fe68250>"
            ]
          },
          "metadata": {
            "tags": []
          },
          "execution_count": 41
        }
      ]
    },
    {
      "cell_type": "code",
      "metadata": {
        "id": "Fp3Lez7OW4pu",
        "colab": {
          "base_uri": "https://localhost:8080/",
          "height": 0
        },
        "outputId": "b13c3210-a7b7-4949-cae5-29ccb4bafb17"
      },
      "source": [
        "# Make and plot predictions for model_1\n",
        "y_pred_1 = model_1.predict(X_test)\n",
        "plot_predictions(predictions = y_pred_1)\n"
      ],
      "execution_count": 42,
      "outputs": [
        {
          "output_type": "stream",
          "text": [
            "WARNING:tensorflow:5 out of the last 5 calls to <function Model.make_predict_function.<locals>.predict_function at 0x7f94605d45f0> triggered tf.function retracing. Tracing is expensive and the excessive number of tracings could be due to (1) creating @tf.function repeatedly in a loop, (2) passing tensors with different shapes, (3) passing Python objects instead of tensors. For (1), please define your @tf.function outside of the loop. For (2), @tf.function has experimental_relax_shapes=True option that relaxes argument shapes that can avoid unnecessary retracing. For (3), please refer to https://www.tensorflow.org/guide/function#controlling_retracing and https://www.tensorflow.org/api_docs/python/tf/function for  more details.\n"
          ],
          "name": "stdout"
        },
        {
          "output_type": "display_data",
          "data": {
            "image/png": "[encoded data removed]",
            "text/plain": [
              "<Figure size 720x504 with 1 Axes>"
            ]
          },
          "metadata": {
            "tags": [],
            "needs_background": "light"
          }
        }
      ]
    },
    {
      "cell_type": "code",
      "metadata": {
        "id": "hocR7A97VQ9T",
        "colab": {
          "base_uri": "https://localhost:8080/"
        },
        "outputId": "6013d51c-bb00-48d5-e676-5473a33b8c6a"
      },
      "source": [
        "# Calculate model_1 evaluation metrics\n",
        "mae_1 = mae(y_test, y_pred_1)\n",
        "mse_1 =mse(y_test, y_pred_1)\n",
        "\n",
        "mae_1, mse_1"
      ],
      "execution_count": 43,
      "outputs": [
        {
          "output_type": "execute_result",
          "data": {
            "text/plain": [
              "(<tf.Tensor: shape=(), dtype=float32, numpy=18.745327>,\n",
              " <tf.Tensor: shape=(), dtype=float32, numpy=353.57336>)"
            ]
          },
          "metadata": {
            "tags": []
          },
          "execution_count": 43
        }
      ]
    },
    {
      "cell_type": "markdown",
      "metadata": {
        "id": "0LBaD8czXocl"
      },
      "source": [
        "**Build `Model_2`**\n",
        "- 2 dense layers,trained for 100 epochs"
      ]
    },
    {
      "cell_type": "code",
      "metadata": {
        "id": "sYkYtMAkYb6s",
        "colab": {
          "base_uri": "https://localhost:8080/"
        },
        "outputId": "d5118753-2502-46a3-f302-d33e2084d0f7"
      },
      "source": [
        "# set the random seed\n",
        "tf.random.set_seed(42)\n",
        "\n",
        "# Create model_2\n",
        "model_2 = tf.keras.Sequential([\n",
        "  tf.keras.layers.Dense(20,input_shape=[1]),\n",
        "  tf.keras.layers.Dense(1)      \n",
        "])\n",
        "\n",
        "# Compile the model\n",
        "model_2.compile(loss= tf.keras.losses.mae,\n",
        "                optimizer=tf.keras.optimizers.SGD(),\n",
        "                metrics=[\"mae\"])\n",
        "# Fit the model\n",
        "model_2.fit(X_train, y_train, epochs=100)"
      ],
      "execution_count": 44,
      "outputs": [
        {
          "output_type": "stream",
          "text": [
            "Epoch 1/100\n",
            "2/2 [==============================] - 0s 7ms/step - loss: 22.4660 - mae: 22.4660\n",
            "Epoch 2/100\n",
            "2/2 [==============================] - 0s 6ms/step - loss: 22.1294 - mae: 22.1294\n",
            "Epoch 3/100\n",
            "2/2 [==============================] - 0s 6ms/step - loss: 27.5095 - mae: 27.5095\n",
            "Epoch 4/100\n",
            "2/2 [==============================] - 0s 7ms/step - loss: 13.5509 - mae: 13.5509\n",
            "Epoch 5/100\n",
            "2/2 [==============================] - 0s 4ms/step - loss: 18.2156 - mae: 18.2156\n",
            "Epoch 6/100\n",
            "2/2 [==============================] - 0s 4ms/step - loss: 9.2239 - mae: 9.2239\n",
            "Epoch 7/100\n",
            "2/2 [==============================] - 0s 4ms/step - loss: 10.1858 - mae: 10.1858\n",
            "Epoch 8/100\n",
            "2/2 [==============================] - 0s 5ms/step - loss: 11.1702 - mae: 11.1702\n",
            "Epoch 9/100\n",
            "2/2 [==============================] - 0s 7ms/step - loss: 41.4637 - mae: 41.4637\n",
            "Epoch 10/100\n",
            "2/2 [==============================] - 0s 4ms/step - loss: 28.7305 - mae: 28.7305\n",
            "Epoch 11/100\n",
            "2/2 [==============================] - 0s 5ms/step - loss: 9.4023 - mae: 9.4023\n",
            "Epoch 12/100\n",
            "2/2 [==============================] - 0s 7ms/step - loss: 26.2428 - mae: 26.2428\n",
            "Epoch 13/100\n",
            "2/2 [==============================] - 0s 5ms/step - loss: 14.5065 - mae: 14.5065\n",
            "Epoch 14/100\n",
            "2/2 [==============================] - 0s 5ms/step - loss: 30.0358 - mae: 30.0358\n",
            "Epoch 15/100\n",
            "2/2 [==============================] - 0s 6ms/step - loss: 19.8502 - mae: 19.8502\n",
            "Epoch 16/100\n",
            "2/2 [==============================] - 0s 7ms/step - loss: 9.8748 - mae: 9.8748\n",
            "Epoch 17/100\n",
            "2/2 [==============================] - 0s 6ms/step - loss: 17.7398 - mae: 17.7398\n",
            "Epoch 18/100\n",
            "2/2 [==============================] - 0s 8ms/step - loss: 14.2162 - mae: 14.2162\n",
            "Epoch 19/100\n",
            "2/2 [==============================] - 0s 11ms/step - loss: 14.0589 - mae: 14.0589\n",
            "Epoch 20/100\n",
            "2/2 [==============================] - 0s 6ms/step - loss: 11.2525 - mae: 11.2525\n",
            "Epoch 21/100\n",
            "2/2 [==============================] - 0s 12ms/step - loss: 17.3890 - mae: 17.3890\n",
            "Epoch 22/100\n",
            "2/2 [==============================] - 0s 8ms/step - loss: 15.6248 - mae: 15.6248\n",
            "Epoch 23/100\n",
            "2/2 [==============================] - 0s 11ms/step - loss: 9.2291 - mae: 9.2291\n",
            "Epoch 24/100\n",
            "2/2 [==============================] - 0s 8ms/step - loss: 17.2193 - mae: 17.2193\n",
            "Epoch 25/100\n",
            "2/2 [==============================] - 0s 7ms/step - loss: 15.9058 - mae: 15.9058\n",
            "Epoch 26/100\n",
            "2/2 [==============================] - 0s 11ms/step - loss: 20.8547 - mae: 20.8547\n",
            "Epoch 27/100\n",
            "2/2 [==============================] - 0s 6ms/step - loss: 26.1320 - mae: 26.1320\n",
            "Epoch 28/100\n",
            "2/2 [==============================] - 0s 9ms/step - loss: 18.6074 - mae: 18.6074\n",
            "Epoch 29/100\n",
            "2/2 [==============================] - 0s 13ms/step - loss: 9.2449 - mae: 9.2449\n",
            "Epoch 30/100\n",
            "2/2 [==============================] - 0s 5ms/step - loss: 29.2351 - mae: 29.2351\n",
            "Epoch 31/100\n",
            "2/2 [==============================] - 0s 5ms/step - loss: 52.9667 - mae: 52.9667\n",
            "Epoch 32/100\n",
            "2/2 [==============================] - 0s 4ms/step - loss: 11.9834 - mae: 11.9834\n",
            "Epoch 33/100\n",
            "2/2 [==============================] - 0s 4ms/step - loss: 15.6171 - mae: 15.6171\n",
            "Epoch 34/100\n",
            "2/2 [==============================] - 0s 10ms/step - loss: 12.6797 - mae: 12.6797\n",
            "Epoch 35/100\n",
            "2/2 [==============================] - 0s 4ms/step - loss: 9.2339 - mae: 9.2339\n",
            "Epoch 36/100\n",
            "2/2 [==============================] - 0s 4ms/step - loss: 16.6287 - mae: 16.6287\n",
            "Epoch 37/100\n",
            "2/2 [==============================] - 0s 10ms/step - loss: 11.0433 - mae: 11.0433\n",
            "Epoch 38/100\n",
            "2/2 [==============================] - 0s 5ms/step - loss: 18.1689 - mae: 18.1689\n",
            "Epoch 39/100\n",
            "2/2 [==============================] - 0s 4ms/step - loss: 19.1059 - mae: 19.1059\n",
            "Epoch 40/100\n",
            "2/2 [==============================] - 0s 6ms/step - loss: 20.4405 - mae: 20.4405\n",
            "Epoch 41/100\n",
            "2/2 [==============================] - 0s 5ms/step - loss: 14.8993 - mae: 14.8993\n",
            "Epoch 42/100\n",
            "2/2 [==============================] - 0s 7ms/step - loss: 12.2730 - mae: 12.2730\n",
            "Epoch 43/100\n",
            "2/2 [==============================] - 0s 5ms/step - loss: 10.7288 - mae: 10.7288\n",
            "Epoch 44/100\n",
            "2/2 [==============================] - 0s 4ms/step - loss: 23.0075 - mae: 23.0075\n",
            "Epoch 45/100\n",
            "2/2 [==============================] - 0s 7ms/step - loss: 10.3839 - mae: 10.3839\n",
            "Epoch 46/100\n",
            "2/2 [==============================] - 0s 4ms/step - loss: 11.7825 - mae: 11.7825\n",
            "Epoch 47/100\n",
            "2/2 [==============================] - 0s 9ms/step - loss: 9.6462 - mae: 9.6462\n",
            "Epoch 48/100\n",
            "2/2 [==============================] - 0s 4ms/step - loss: 17.2388 - mae: 17.2388\n",
            "Epoch 49/100\n",
            "2/2 [==============================] - 0s 6ms/step - loss: 9.5689 - mae: 9.5689\n",
            "Epoch 50/100\n",
            "2/2 [==============================] - 0s 4ms/step - loss: 13.8119 - mae: 13.8119\n",
            "Epoch 51/100\n",
            "2/2 [==============================] - 0s 4ms/step - loss: 11.5931 - mae: 11.5931\n",
            "Epoch 52/100\n",
            "2/2 [==============================] - 0s 8ms/step - loss: 30.5413 - mae: 30.5413\n",
            "Epoch 53/100\n",
            "2/2 [==============================] - 0s 9ms/step - loss: 14.3482 - mae: 14.3482\n",
            "Epoch 54/100\n",
            "2/2 [==============================] - 0s 4ms/step - loss: 23.9616 - mae: 23.9616\n",
            "Epoch 55/100\n",
            "2/2 [==============================] - 0s 7ms/step - loss: 23.1833 - mae: 23.1833\n",
            "Epoch 56/100\n",
            "2/2 [==============================] - 0s 9ms/step - loss: 10.8801 - mae: 10.8801\n",
            "Epoch 57/100\n",
            "2/2 [==============================] - 0s 4ms/step - loss: 12.7403 - mae: 12.7403\n",
            "Epoch 58/100\n",
            "2/2 [==============================] - 0s 4ms/step - loss: 9.5973 - mae: 9.5973\n",
            "Epoch 59/100\n",
            "2/2 [==============================] - 0s 8ms/step - loss: 12.5142 - mae: 12.5142\n",
            "Epoch 60/100\n",
            "2/2 [==============================] - 0s 7ms/step - loss: 12.3177 - mae: 12.3177\n",
            "Epoch 61/100\n",
            "2/2 [==============================] - 0s 7ms/step - loss: 17.4572 - mae: 17.4572\n",
            "Epoch 62/100\n",
            "2/2 [==============================] - 0s 5ms/step - loss: 10.6037 - mae: 10.6037\n",
            "Epoch 63/100\n",
            "2/2 [==============================] - 0s 8ms/step - loss: 10.4882 - mae: 10.4882\n",
            "Epoch 64/100\n",
            "2/2 [==============================] - 0s 4ms/step - loss: 24.8435 - mae: 24.8435\n",
            "Epoch 65/100\n",
            "2/2 [==============================] - 0s 5ms/step - loss: 10.6753 - mae: 10.6753\n",
            "Epoch 66/100\n",
            "2/2 [==============================] - 0s 7ms/step - loss: 21.7808 - mae: 21.7808\n",
            "Epoch 67/100\n",
            "2/2 [==============================] - 0s 7ms/step - loss: 10.7133 - mae: 10.7133\n",
            "Epoch 68/100\n",
            "2/2 [==============================] - 0s 5ms/step - loss: 10.6395 - mae: 10.6395\n",
            "Epoch 69/100\n",
            "2/2 [==============================] - 0s 12ms/step - loss: 22.6944 - mae: 22.6944\n",
            "Epoch 70/100\n",
            "2/2 [==============================] - 0s 5ms/step - loss: 9.3307 - mae: 9.3307\n",
            "Epoch 71/100\n",
            "2/2 [==============================] - 0s 11ms/step - loss: 15.4338 - mae: 15.4338\n",
            "Epoch 72/100\n",
            "2/2 [==============================] - 0s 4ms/step - loss: 6.7431 - mae: 6.7431\n",
            "Epoch 73/100\n",
            "2/2 [==============================] - 0s 4ms/step - loss: 11.6900 - mae: 11.6900\n",
            "Epoch 74/100\n",
            "2/2 [==============================] - 0s 4ms/step - loss: 24.0477 - mae: 24.0477\n",
            "Epoch 75/100\n",
            "2/2 [==============================] - 0s 7ms/step - loss: 9.5915 - mae: 9.5915\n",
            "Epoch 76/100\n",
            "2/2 [==============================] - 0s 7ms/step - loss: 12.4397 - mae: 12.4397\n",
            "Epoch 77/100\n",
            "2/2 [==============================] - 0s 5ms/step - loss: 16.6560 - mae: 16.6560\n",
            "Epoch 78/100\n",
            "2/2 [==============================] - 0s 4ms/step - loss: 9.0622 - mae: 9.0622\n",
            "Epoch 79/100\n",
            "2/2 [==============================] - 0s 5ms/step - loss: 23.9775 - mae: 23.9775\n",
            "Epoch 80/100\n",
            "2/2 [==============================] - 0s 6ms/step - loss: 26.7585 - mae: 26.7585\n",
            "Epoch 81/100\n",
            "2/2 [==============================] - 0s 5ms/step - loss: 11.6773 - mae: 11.6773\n",
            "Epoch 82/100\n",
            "2/2 [==============================] - 0s 5ms/step - loss: 12.0189 - mae: 12.0189\n",
            "Epoch 83/100\n",
            "2/2 [==============================] - 0s 8ms/step - loss: 17.4161 - mae: 17.4161\n",
            "Epoch 84/100\n",
            "2/2 [==============================] - 0s 5ms/step - loss: 7.2620 - mae: 7.2620\n",
            "Epoch 85/100\n",
            "2/2 [==============================] - 0s 12ms/step - loss: 14.9602 - mae: 14.9602\n",
            "Epoch 86/100\n",
            "2/2 [==============================] - 0s 5ms/step - loss: 15.2822 - mae: 15.2822\n",
            "Epoch 87/100\n",
            "2/2 [==============================] - 0s 6ms/step - loss: 19.1001 - mae: 19.1001\n",
            "Epoch 88/100\n",
            "2/2 [==============================] - 0s 6ms/step - loss: 29.8450 - mae: 29.8450\n",
            "Epoch 89/100\n",
            "2/2 [==============================] - 0s 4ms/step - loss: 10.1777 - mae: 10.1777\n",
            "Epoch 90/100\n",
            "2/2 [==============================] - 0s 4ms/step - loss: 21.5433 - mae: 21.5433\n",
            "Epoch 91/100\n",
            "2/2 [==============================] - 0s 4ms/step - loss: 10.5766 - mae: 10.5766\n",
            "Epoch 92/100\n",
            "2/2 [==============================] - 0s 4ms/step - loss: 18.4161 - mae: 18.4161\n",
            "Epoch 93/100\n",
            "2/2 [==============================] - 0s 5ms/step - loss: 7.4156 - mae: 7.4156\n",
            "Epoch 94/100\n",
            "2/2 [==============================] - 0s 4ms/step - loss: 17.7554 - mae: 17.7554\n",
            "Epoch 95/100\n",
            "2/2 [==============================] - 0s 9ms/step - loss: 11.1216 - mae: 11.1216\n",
            "Epoch 96/100\n",
            "2/2 [==============================] - 0s 5ms/step - loss: 19.4529 - mae: 19.4529\n",
            "Epoch 97/100\n",
            "2/2 [==============================] - 0s 4ms/step - loss: 12.4936 - mae: 12.4936\n",
            "Epoch 98/100\n",
            "2/2 [==============================] - 0s 4ms/step - loss: 10.2907 - mae: 10.2907\n",
            "Epoch 99/100\n",
            "2/2 [==============================] - 0s 4ms/step - loss: 13.8270 - mae: 13.8270\n",
            "Epoch 100/100\n",
            "2/2 [==============================] - 0s 4ms/step - loss: 20.1259 - mae: 20.1259\n"
          ],
          "name": "stdout"
        },
        {
          "output_type": "execute_result",
          "data": {
            "text/plain": [
              "<tensorflow.python.keras.callbacks.History at 0x7f9460559b90>"
            ]
          },
          "metadata": {
            "tags": []
          },
          "execution_count": 44
        }
      ]
    },
    {
      "cell_type": "code",
      "metadata": {
        "id": "5i9o4QU6ZZ-C",
        "colab": {
          "base_uri": "https://localhost:8080/",
          "height": 0
        },
        "outputId": "7ddf5b55-08de-4747-f72d-54ba0ef2c1ba"
      },
      "source": [
        "# Make and plot predictions for model_1\n",
        "y_pred_2 = model_2.predict(X_test)\n",
        "plot_predictions(predictions = y_pred_2)\n"
      ],
      "execution_count": 45,
      "outputs": [
        {
          "output_type": "stream",
          "text": [
            "WARNING:tensorflow:6 out of the last 6 calls to <function Model.make_predict_function.<locals>.predict_function at 0x7f945fbcda70> triggered tf.function retracing. Tracing is expensive and the excessive number of tracings could be due to (1) creating @tf.function repeatedly in a loop, (2) passing tensors with different shapes, (3) passing Python objects instead of tensors. For (1), please define your @tf.function outside of the loop. For (2), @tf.function has experimental_relax_shapes=True option that relaxes argument shapes that can avoid unnecessary retracing. For (3), please refer to https://www.tensorflow.org/guide/function#controlling_retracing and https://www.tensorflow.org/api_docs/python/tf/function for  more details.\n"
          ],
          "name": "stdout"
        },
        {
          "output_type": "display_data",
          "data": {
            "image/png": "[encoded data removed]",
            "text/plain": [
              "<Figure size 720x504 with 1 Axes>"
            ]
          },
          "metadata": {
            "tags": [],
            "needs_background": "light"
          }
        }
      ]
    },
    {
      "cell_type": "code",
      "metadata": {
        "id": "p25sIKLeZvfJ",
        "colab": {
          "base_uri": "https://localhost:8080/"
        },
        "outputId": "e330057c-c539-4317-d6e4-162e7c0c09f1"
      },
      "source": [
        "# Calculate model_1 evaluation metrics\n",
        "mae_2 = mae(y_test, y_pred_2)\n",
        "mse_2 =mse(y_test, y_pred_2)\n",
        "\n",
        "mae_2, mse_2"
      ],
      "execution_count": 46,
      "outputs": [
        {
          "output_type": "execute_result",
          "data": {
            "text/plain": [
              "(<tf.Tensor: shape=(), dtype=float32, numpy=2.9403756>,\n",
              " <tf.Tensor: shape=(), dtype=float32, numpy=11.373231>)"
            ]
          },
          "metadata": {
            "tags": []
          },
          "execution_count": 46
        }
      ]
    },
    {
      "cell_type": "markdown",
      "metadata": {
        "id": "vbQJC-oSZ7nf"
      },
      "source": [
        "**Build `model_3`**\n",
        "- 2 layer with 500 epochs"
      ]
    },
    {
      "cell_type": "code",
      "metadata": {
        "id": "aVRZV4CUaT6T",
        "colab": {
          "base_uri": "https://localhost:8080/"
        },
        "outputId": "dd2a2145-2273-4fff-dc5d-96c093419d85"
      },
      "source": [
        "# set the random seed\n",
        "tf.random.set_seed(42)\n",
        "\n",
        "# Create model\n",
        "model_3 = tf.keras.Sequential([\n",
        "  tf.keras.layers.Dense(20,input_shape=[1]),\n",
        "  tf.keras.layers.Dense(1)      \n",
        "])\n",
        "\n",
        "# Compile the model\n",
        "model_3.compile(loss= tf.keras.losses.mae,\n",
        "                optimizer=tf.keras.optimizers.SGD(),\n",
        "                metrics=[\"mae\"])\n",
        "# Fit the model\n",
        "model_3.fit(X_train, y_train, epochs=500)"
      ],
      "execution_count": 47,
      "outputs": [
        {
          "output_type": "stream",
          "text": [
            "Epoch 1/500\n",
            "2/2 [==============================] - 0s 7ms/step - loss: 22.4660 - mae: 22.4660\n",
            "Epoch 2/500\n",
            "2/2 [==============================] - 0s 5ms/step - loss: 22.1294 - mae: 22.1294\n",
            "Epoch 3/500\n",
            "2/2 [==============================] - 0s 8ms/step - loss: 27.5095 - mae: 27.5095\n",
            "Epoch 4/500\n",
            "2/2 [==============================] - 0s 7ms/step - loss: 13.5509 - mae: 13.5509\n",
            "Epoch 5/500\n",
            "2/2 [==============================] - 0s 9ms/step - loss: 18.2156 - mae: 18.2156\n",
            "Epoch 6/500\n",
            "2/2 [==============================] - 0s 8ms/step - loss: 9.2239 - mae: 9.2239\n",
            "Epoch 7/500\n",
            "2/2 [==============================] - 0s 10ms/step - loss: 10.1858 - mae: 10.1858\n",
            "Epoch 8/500\n",
            "2/2 [==============================] - 0s 7ms/step - loss: 11.1702 - mae: 11.1702\n",
            "Epoch 9/500\n",
            "2/2 [==============================] - 0s 6ms/step - loss: 41.4637 - mae: 41.4637\n",
            "Epoch 10/500\n",
            "2/2 [==============================] - 0s 8ms/step - loss: 28.7305 - mae: 28.7305\n",
            "Epoch 11/500\n",
            "2/2 [==============================] - 0s 9ms/step - loss: 9.4023 - mae: 9.4023\n",
            "Epoch 12/500\n",
            "2/2 [==============================] - 0s 9ms/step - loss: 26.2428 - mae: 26.2428\n",
            "Epoch 13/500\n",
            "2/2 [==============================] - 0s 7ms/step - loss: 14.5065 - mae: 14.5065\n",
            "Epoch 14/500\n",
            "2/2 [==============================] - 0s 11ms/step - loss: 30.0358 - mae: 30.0358\n",
            "Epoch 15/500\n",
            "2/2 [==============================] - 0s 4ms/step - loss: 19.8502 - mae: 19.8502\n",
            "Epoch 16/500\n",
            "2/2 [==============================] - 0s 7ms/step - loss: 9.8748 - mae: 9.8748\n",
            "Epoch 17/500\n",
            "2/2 [==============================] - 0s 11ms/step - loss: 17.7398 - mae: 17.7398\n",
            "Epoch 18/500\n",
            "2/2 [==============================] - 0s 8ms/step - loss: 14.2162 - mae: 14.2162\n",
            "Epoch 19/500\n",
            "2/2 [==============================] - 0s 5ms/step - loss: 14.0589 - mae: 14.0589\n",
            "Epoch 20/500\n",
            "2/2 [==============================] - 0s 5ms/step - loss: 11.2525 - mae: 11.2525\n",
            "Epoch 21/500\n",
            "2/2 [==============================] - 0s 4ms/step - loss: 17.3890 - mae: 17.3890\n",
            "Epoch 22/500\n",
            "2/2 [==============================] - 0s 6ms/step - loss: 15.6248 - mae: 15.6248\n",
            "Epoch 23/500\n",
            "2/2 [==============================] - 0s 4ms/step - loss: 9.2291 - mae: 9.2291\n",
            "Epoch 24/500\n",
            "2/2 [==============================] - 0s 4ms/step - loss: 17.2193 - mae: 17.2193\n",
            "Epoch 25/500\n",
            "2/2 [==============================] - 0s 4ms/step - loss: 15.9058 - mae: 15.9058\n",
            "Epoch 26/500\n",
            "2/2 [==============================] - 0s 4ms/step - loss: 20.8547 - mae: 20.8547\n",
            "Epoch 27/500\n",
            "2/2 [==============================] - 0s 8ms/step - loss: 26.1320 - mae: 26.1320\n",
            "Epoch 28/500\n",
            "2/2 [==============================] - 0s 4ms/step - loss: 18.6074 - mae: 18.6074\n",
            "Epoch 29/500\n",
            "2/2 [==============================] - 0s 4ms/step - loss: 9.2449 - mae: 9.2449\n",
            "Epoch 30/500\n",
            "2/2 [==============================] - 0s 7ms/step - loss: 29.2351 - mae: 29.2351\n",
            "Epoch 31/500\n",
            "2/2 [==============================] - 0s 4ms/step - loss: 52.9667 - mae: 52.9667\n",
            "Epoch 32/500\n",
            "2/2 [==============================] - 0s 5ms/step - loss: 11.9834 - mae: 11.9834\n",
            "Epoch 33/500\n",
            "2/2 [==============================] - 0s 10ms/step - loss: 15.6171 - mae: 15.6171\n",
            "Epoch 34/500\n",
            "2/2 [==============================] - 0s 4ms/step - loss: 12.6797 - mae: 12.6797\n",
            "Epoch 35/500\n",
            "2/2 [==============================] - 0s 5ms/step - loss: 9.2339 - mae: 9.2339\n",
            "Epoch 36/500\n",
            "2/2 [==============================] - 0s 4ms/step - loss: 16.6287 - mae: 16.6287\n",
            "Epoch 37/500\n",
            "2/2 [==============================] - 0s 5ms/step - loss: 11.0433 - mae: 11.0433\n",
            "Epoch 38/500\n",
            "2/2 [==============================] - 0s 5ms/step - loss: 18.1689 - mae: 18.1689\n",
            "Epoch 39/500\n",
            "2/2 [==============================] - 0s 6ms/step - loss: 19.1059 - mae: 19.1059\n",
            "Epoch 40/500\n",
            "2/2 [==============================] - 0s 5ms/step - loss: 20.4405 - mae: 20.4405\n",
            "Epoch 41/500\n",
            "2/2 [==============================] - 0s 4ms/step - loss: 14.8993 - mae: 14.8993\n",
            "Epoch 42/500\n",
            "2/2 [==============================] - 0s 5ms/step - loss: 12.2730 - mae: 12.2730\n",
            "Epoch 43/500\n",
            "2/2 [==============================] - 0s 4ms/step - loss: 10.7288 - mae: 10.7288\n",
            "Epoch 44/500\n",
            "2/2 [==============================] - 0s 5ms/step - loss: 23.0075 - mae: 23.0075\n",
            "Epoch 45/500\n",
            "2/2 [==============================] - 0s 7ms/step - loss: 10.3839 - mae: 10.3839\n",
            "Epoch 46/500\n",
            "2/2 [==============================] - 0s 4ms/step - loss: 11.7825 - mae: 11.7825\n",
            "Epoch 47/500\n",
            "2/2 [==============================] - 0s 4ms/step - loss: 9.6462 - mae: 9.6462\n",
            "Epoch 48/500\n",
            "2/2 [==============================] - 0s 4ms/step - loss: 17.2388 - mae: 17.2388\n",
            "Epoch 49/500\n",
            "2/2 [==============================] - 0s 5ms/step - loss: 9.5689 - mae: 9.5689\n",
            "Epoch 50/500\n",
            "2/2 [==============================] - 0s 4ms/step - loss: 13.8119 - mae: 13.8119\n",
            "Epoch 51/500\n",
            "2/2 [==============================] - 0s 5ms/step - loss: 11.5931 - mae: 11.5931\n",
            "Epoch 52/500\n",
            "2/2 [==============================] - 0s 5ms/step - loss: 30.5413 - mae: 30.5413\n",
            "Epoch 53/500\n",
            "2/2 [==============================] - 0s 4ms/step - loss: 14.3482 - mae: 14.3482\n",
            "Epoch 54/500\n",
            "2/2 [==============================] - 0s 5ms/step - loss: 23.9616 - mae: 23.9616\n",
            "Epoch 55/500\n",
            "2/2 [==============================] - 0s 4ms/step - loss: 23.1833 - mae: 23.1833\n",
            "Epoch 56/500\n",
            "2/2 [==============================] - 0s 5ms/step - loss: 10.8801 - mae: 10.8801\n",
            "Epoch 57/500\n",
            "2/2 [==============================] - 0s 5ms/step - loss: 12.7403 - mae: 12.7403\n",
            "Epoch 58/500\n",
            "2/2 [==============================] - 0s 5ms/step - loss: 9.5973 - mae: 9.5973\n",
            "Epoch 59/500\n",
            "2/2 [==============================] - 0s 4ms/step - loss: 12.5142 - mae: 12.5142\n",
            "Epoch 60/500\n",
            "2/2 [==============================] - 0s 4ms/step - loss: 12.3177 - mae: 12.3177\n",
            "Epoch 61/500\n",
            "2/2 [==============================] - 0s 4ms/step - loss: 17.4572 - mae: 17.4572\n",
            "Epoch 62/500\n",
            "2/2 [==============================] - 0s 4ms/step - loss: 10.6037 - mae: 10.6037\n",
            "Epoch 63/500\n",
            "2/2 [==============================] - 0s 5ms/step - loss: 10.4882 - mae: 10.4882\n",
            "Epoch 64/500\n",
            "2/2 [==============================] - 0s 5ms/step - loss: 24.8435 - mae: 24.8435\n",
            "Epoch 65/500\n",
            "2/2 [==============================] - 0s 4ms/step - loss: 10.6753 - mae: 10.6753\n",
            "Epoch 66/500\n",
            "2/2 [==============================] - 0s 4ms/step - loss: 21.7808 - mae: 21.7808\n",
            "Epoch 67/500\n",
            "2/2 [==============================] - 0s 4ms/step - loss: 10.7133 - mae: 10.7133\n",
            "Epoch 68/500\n",
            "2/2 [==============================] - 0s 4ms/step - loss: 10.6395 - mae: 10.6395\n",
            "Epoch 69/500\n",
            "2/2 [==============================] - 0s 5ms/step - loss: 22.6944 - mae: 22.6944\n",
            "Epoch 70/500\n",
            "2/2 [==============================] - 0s 4ms/step - loss: 9.3307 - mae: 9.3307\n",
            "Epoch 71/500\n",
            "2/2 [==============================] - 0s 4ms/step - loss: 15.4338 - mae: 15.4338\n",
            "Epoch 72/500\n",
            "2/2 [==============================] - 0s 4ms/step - loss: 6.7431 - mae: 6.7431\n",
            "Epoch 73/500\n",
            "2/2 [==============================] - 0s 4ms/step - loss: 11.6900 - mae: 11.6900\n",
            "Epoch 74/500\n",
            "2/2 [==============================] - 0s 4ms/step - loss: 24.0477 - mae: 24.0477\n",
            "Epoch 75/500\n",
            "2/2 [==============================] - 0s 4ms/step - loss: 9.5915 - mae: 9.5915\n",
            "Epoch 76/500\n",
            "2/2 [==============================] - 0s 4ms/step - loss: 12.4397 - mae: 12.4397\n",
            "Epoch 77/500\n",
            "2/2 [==============================] - 0s 4ms/step - loss: 16.6560 - mae: 16.6560\n",
            "Epoch 78/500\n",
            "2/2 [==============================] - 0s 4ms/step - loss: 9.0622 - mae: 9.0622\n",
            "Epoch 79/500\n",
            "2/2 [==============================] - 0s 6ms/step - loss: 23.9775 - mae: 23.9775\n",
            "Epoch 80/500\n",
            "2/2 [==============================] - 0s 4ms/step - loss: 26.7585 - mae: 26.7585\n",
            "Epoch 81/500\n",
            "2/2 [==============================] - 0s 5ms/step - loss: 11.6773 - mae: 11.6773\n",
            "Epoch 82/500\n",
            "2/2 [==============================] - 0s 5ms/step - loss: 12.0189 - mae: 12.0189\n",
            "Epoch 83/500\n",
            "2/2 [==============================] - 0s 5ms/step - loss: 17.4161 - mae: 17.4161\n",
            "Epoch 84/500\n",
            "2/2 [==============================] - 0s 4ms/step - loss: 7.2620 - mae: 7.2620\n",
            "Epoch 85/500\n",
            "2/2 [==============================] - 0s 4ms/step - loss: 14.9602 - mae: 14.9602\n",
            "Epoch 86/500\n",
            "2/2 [==============================] - 0s 5ms/step - loss: 15.2822 - mae: 15.2822\n",
            "Epoch 87/500\n",
            "2/2 [==============================] - 0s 5ms/step - loss: 19.1001 - mae: 19.1001\n",
            "Epoch 88/500\n",
            "2/2 [==============================] - 0s 5ms/step - loss: 29.8450 - mae: 29.8450\n",
            "Epoch 89/500\n",
            "2/2 [==============================] - 0s 8ms/step - loss: 10.1777 - mae: 10.1777\n",
            "Epoch 90/500\n",
            "2/2 [==============================] - 0s 9ms/step - loss: 21.5433 - mae: 21.5433\n",
            "Epoch 91/500\n",
            "2/2 [==============================] - 0s 7ms/step - loss: 10.5766 - mae: 10.5766\n",
            "Epoch 92/500\n",
            "2/2 [==============================] - 0s 5ms/step - loss: 18.4161 - mae: 18.4161\n",
            "Epoch 93/500\n",
            "2/2 [==============================] - 0s 4ms/step - loss: 7.4156 - mae: 7.4156\n",
            "Epoch 94/500\n",
            "2/2 [==============================] - 0s 6ms/step - loss: 17.7554 - mae: 17.7554\n",
            "Epoch 95/500\n",
            "2/2 [==============================] - 0s 9ms/step - loss: 11.1216 - mae: 11.1216\n",
            "Epoch 96/500\n",
            "2/2 [==============================] - 0s 4ms/step - loss: 19.4529 - mae: 19.4529\n",
            "Epoch 97/500\n",
            "2/2 [==============================] - 0s 4ms/step - loss: 12.4936 - mae: 12.4936\n",
            "Epoch 98/500\n",
            "2/2 [==============================] - 0s 5ms/step - loss: 10.2907 - mae: 10.2907\n",
            "Epoch 99/500\n",
            "2/2 [==============================] - 0s 4ms/step - loss: 13.8270 - mae: 13.8270\n",
            "Epoch 100/500\n",
            "2/2 [==============================] - 0s 4ms/step - loss: 20.1259 - mae: 20.1259\n",
            "Epoch 101/500\n",
            "2/2 [==============================] - 0s 6ms/step - loss: 11.4128 - mae: 11.4128\n",
            "Epoch 102/500\n",
            "2/2 [==============================] - 0s 4ms/step - loss: 17.3914 - mae: 17.3914\n",
            "Epoch 103/500\n",
            "2/2 [==============================] - 0s 3ms/step - loss: 7.7632 - mae: 7.7632\n",
            "Epoch 104/500\n",
            "2/2 [==============================] - 0s 5ms/step - loss: 22.1181 - mae: 22.1181\n",
            "Epoch 105/500\n",
            "2/2 [==============================] - 0s 9ms/step - loss: 20.6761 - mae: 20.6761\n",
            "Epoch 106/500\n",
            "2/2 [==============================] - 0s 6ms/step - loss: 10.0476 - mae: 10.0476\n",
            "Epoch 107/500\n",
            "2/2 [==============================] - 0s 6ms/step - loss: 24.6406 - mae: 24.6406\n",
            "Epoch 108/500\n",
            "2/2 [==============================] - 0s 4ms/step - loss: 15.4587 - mae: 15.4587\n",
            "Epoch 109/500\n",
            "2/2 [==============================] - 0s 7ms/step - loss: 8.1699 - mae: 8.1699\n",
            "Epoch 110/500\n",
            "2/2 [==============================] - 0s 5ms/step - loss: 6.7305 - mae: 6.7305\n",
            "Epoch 111/500\n",
            "2/2 [==============================] - 0s 4ms/step - loss: 11.0030 - mae: 11.0030\n",
            "Epoch 112/500\n",
            "2/2 [==============================] - 0s 5ms/step - loss: 19.8986 - mae: 19.8986\n",
            "Epoch 113/500\n",
            "2/2 [==============================] - 0s 8ms/step - loss: 14.6750 - mae: 14.6750\n",
            "Epoch 114/500\n",
            "2/2 [==============================] - 0s 5ms/step - loss: 18.4147 - mae: 18.4147\n",
            "Epoch 115/500\n",
            "2/2 [==============================] - 0s 4ms/step - loss: 10.8910 - mae: 10.8910\n",
            "Epoch 116/500\n",
            "2/2 [==============================] - 0s 4ms/step - loss: 22.3986 - mae: 22.3986\n",
            "Epoch 117/500\n",
            "2/2 [==============================] - 0s 11ms/step - loss: 9.3395 - mae: 9.3395\n",
            "Epoch 118/500\n",
            "2/2 [==============================] - 0s 10ms/step - loss: 10.3665 - mae: 10.3665\n",
            "Epoch 119/500\n",
            "2/2 [==============================] - 0s 5ms/step - loss: 8.0177 - mae: 8.0177\n",
            "Epoch 120/500\n",
            "2/2 [==============================] - 0s 4ms/step - loss: 37.8124 - mae: 37.8124\n",
            "Epoch 121/500\n",
            "2/2 [==============================] - 0s 5ms/step - loss: 10.6780 - mae: 10.6780\n",
            "Epoch 122/500\n",
            "2/2 [==============================] - 0s 8ms/step - loss: 28.3417 - mae: 28.3417\n",
            "Epoch 123/500\n",
            "2/2 [==============================] - 0s 4ms/step - loss: 32.9395 - mae: 32.9395\n",
            "Epoch 124/500\n",
            "2/2 [==============================] - 0s 4ms/step - loss: 19.6669 - mae: 19.6669\n",
            "Epoch 125/500\n",
            "2/2 [==============================] - 0s 4ms/step - loss: 7.0437 - mae: 7.0437\n",
            "Epoch 126/500\n",
            "2/2 [==============================] - 0s 8ms/step - loss: 21.8253 - mae: 21.8253\n",
            "Epoch 127/500\n",
            "2/2 [==============================] - 0s 4ms/step - loss: 8.0128 - mae: 8.0128\n",
            "Epoch 128/500\n",
            "2/2 [==============================] - 0s 4ms/step - loss: 21.0633 - mae: 21.0633\n",
            "Epoch 129/500\n",
            "2/2 [==============================] - 0s 5ms/step - loss: 9.0424 - mae: 9.0424\n",
            "Epoch 130/500\n",
            "2/2 [==============================] - 0s 13ms/step - loss: 24.0369 - mae: 24.0369\n",
            "Epoch 131/500\n",
            "2/2 [==============================] - 0s 6ms/step - loss: 9.7823 - mae: 9.7823\n",
            "Epoch 132/500\n",
            "2/2 [==============================] - 0s 4ms/step - loss: 18.2865 - mae: 18.2865\n",
            "Epoch 133/500\n",
            "2/2 [==============================] - 0s 4ms/step - loss: 7.6079 - mae: 7.6079\n",
            "Epoch 134/500\n",
            "2/2 [==============================] - 0s 4ms/step - loss: 18.5490 - mae: 18.5490\n",
            "Epoch 135/500\n",
            "2/2 [==============================] - 0s 11ms/step - loss: 10.5532 - mae: 10.5532\n",
            "Epoch 136/500\n",
            "2/2 [==============================] - 0s 14ms/step - loss: 18.2362 - mae: 18.2362\n",
            "Epoch 137/500\n",
            "2/2 [==============================] - 0s 9ms/step - loss: 23.1097 - mae: 23.1097\n",
            "Epoch 138/500\n",
            "2/2 [==============================] - 0s 4ms/step - loss: 9.1362 - mae: 9.1362\n",
            "Epoch 139/500\n",
            "2/2 [==============================] - 0s 4ms/step - loss: 8.9250 - mae: 8.9250\n",
            "Epoch 140/500\n",
            "2/2 [==============================] - 0s 4ms/step - loss: 16.4123 - mae: 16.4123\n",
            "Epoch 141/500\n",
            "2/2 [==============================] - 0s 7ms/step - loss: 8.4475 - mae: 8.4475\n",
            "Epoch 142/500\n",
            "2/2 [==============================] - 0s 4ms/step - loss: 36.7783 - mae: 36.7783\n",
            "Epoch 143/500\n",
            "2/2 [==============================] - 0s 4ms/step - loss: 25.4589 - mae: 25.4589\n",
            "Epoch 144/500\n",
            "2/2 [==============================] - 0s 6ms/step - loss: 9.5684 - mae: 9.5684\n",
            "Epoch 145/500\n",
            "2/2 [==============================] - 0s 4ms/step - loss: 26.6540 - mae: 26.6540\n",
            "Epoch 146/500\n",
            "2/2 [==============================] - 0s 4ms/step - loss: 8.6893 - mae: 8.6893\n",
            "Epoch 147/500\n",
            "2/2 [==============================] - 0s 4ms/step - loss: 15.6780 - mae: 15.6780\n",
            "Epoch 148/500\n",
            "2/2 [==============================] - 0s 4ms/step - loss: 18.3811 - mae: 18.3811\n",
            "Epoch 149/500\n",
            "2/2 [==============================] - 0s 10ms/step - loss: 8.1686 - mae: 8.1686\n",
            "Epoch 150/500\n",
            "2/2 [==============================] - 0s 13ms/step - loss: 7.5025 - mae: 7.5025\n",
            "Epoch 151/500\n",
            "2/2 [==============================] - 0s 7ms/step - loss: 18.1797 - mae: 18.1797\n",
            "Epoch 152/500\n",
            "2/2 [==============================] - 0s 4ms/step - loss: 10.2748 - mae: 10.2748\n",
            "Epoch 153/500\n",
            "2/2 [==============================] - 0s 8ms/step - loss: 29.3731 - mae: 29.3731\n",
            "Epoch 154/500\n",
            "2/2 [==============================] - 0s 5ms/step - loss: 10.6242 - mae: 10.6242\n",
            "Epoch 155/500\n",
            "2/2 [==============================] - 0s 17ms/step - loss: 15.5158 - mae: 15.5158\n",
            "Epoch 156/500\n",
            "2/2 [==============================] - 0s 6ms/step - loss: 17.1452 - mae: 17.1452\n",
            "Epoch 157/500\n",
            "2/2 [==============================] - 0s 9ms/step - loss: 32.4953 - mae: 32.4953\n",
            "Epoch 158/500\n",
            "2/2 [==============================] - 0s 4ms/step - loss: 10.6374 - mae: 10.6374\n",
            "Epoch 159/500\n",
            "2/2 [==============================] - 0s 5ms/step - loss: 8.8869 - mae: 8.8869\n",
            "Epoch 160/500\n",
            "2/2 [==============================] - 0s 4ms/step - loss: 21.8828 - mae: 21.8828\n",
            "Epoch 161/500\n",
            "2/2 [==============================] - 0s 4ms/step - loss: 11.1038 - mae: 11.1038\n",
            "Epoch 162/500\n",
            "2/2 [==============================] - 0s 10ms/step - loss: 21.4111 - mae: 21.4111\n",
            "Epoch 163/500\n",
            "2/2 [==============================] - 0s 5ms/step - loss: 18.8899 - mae: 18.8899\n",
            "Epoch 164/500\n",
            "2/2 [==============================] - 0s 4ms/step - loss: 12.7299 - mae: 12.7299\n",
            "Epoch 165/500\n",
            "2/2 [==============================] - 0s 5ms/step - loss: 12.7245 - mae: 12.7245\n",
            "Epoch 166/500\n",
            "2/2 [==============================] - 0s 5ms/step - loss: 18.8935 - mae: 18.8935\n",
            "Epoch 167/500\n",
            "2/2 [==============================] - 0s 4ms/step - loss: 26.8464 - mae: 26.8464\n",
            "Epoch 168/500\n",
            "2/2 [==============================] - 0s 4ms/step - loss: 9.9954 - mae: 9.9954\n",
            "Epoch 169/500\n",
            "2/2 [==============================] - 0s 5ms/step - loss: 23.0949 - mae: 23.0949\n",
            "Epoch 170/500\n",
            "2/2 [==============================] - 0s 17ms/step - loss: 10.0830 - mae: 10.0830\n",
            "Epoch 171/500\n",
            "2/2 [==============================] - 0s 5ms/step - loss: 17.8298 - mae: 17.8298\n",
            "Epoch 172/500\n",
            "2/2 [==============================] - 0s 4ms/step - loss: 29.3660 - mae: 29.3660\n",
            "Epoch 173/500\n",
            "2/2 [==============================] - 0s 12ms/step - loss: 16.9570 - mae: 16.9570\n",
            "Epoch 174/500\n",
            "2/2 [==============================] - 0s 5ms/step - loss: 11.1821 - mae: 11.1821\n",
            "Epoch 175/500\n",
            "2/2 [==============================] - 0s 5ms/step - loss: 27.4519 - mae: 27.4519\n",
            "Epoch 176/500\n",
            "2/2 [==============================] - 0s 6ms/step - loss: 8.4465 - mae: 8.4465\n",
            "Epoch 177/500\n",
            "2/2 [==============================] - 0s 4ms/step - loss: 9.4024 - mae: 9.4024\n",
            "Epoch 178/500\n",
            "2/2 [==============================] - 0s 10ms/step - loss: 18.5623 - mae: 18.5623\n",
            "Epoch 179/500\n",
            "2/2 [==============================] - 0s 7ms/step - loss: 10.4211 - mae: 10.4211\n",
            "Epoch 180/500\n",
            "2/2 [==============================] - 0s 8ms/step - loss: 8.0025 - mae: 8.0025\n",
            "Epoch 181/500\n",
            "2/2 [==============================] - 0s 6ms/step - loss: 17.7375 - mae: 17.7375\n",
            "Epoch 182/500\n",
            "2/2 [==============================] - 0s 5ms/step - loss: 11.1926 - mae: 11.1926\n",
            "Epoch 183/500\n",
            "2/2 [==============================] - 0s 4ms/step - loss: 12.3807 - mae: 12.3807\n",
            "Epoch 184/500\n",
            "2/2 [==============================] - 0s 4ms/step - loss: 27.3111 - mae: 27.3111\n",
            "Epoch 185/500\n",
            "2/2 [==============================] - 0s 6ms/step - loss: 7.5808 - mae: 7.5808\n",
            "Epoch 186/500\n",
            "2/2 [==============================] - 0s 4ms/step - loss: 15.9744 - mae: 15.9744\n",
            "Epoch 187/500\n",
            "2/2 [==============================] - 0s 7ms/step - loss: 8.6005 - mae: 8.6005\n",
            "Epoch 188/500\n",
            "2/2 [==============================] - 0s 4ms/step - loss: 28.7910 - mae: 28.7910\n",
            "Epoch 189/500\n",
            "2/2 [==============================] - 0s 7ms/step - loss: 13.1698 - mae: 13.1698\n",
            "Epoch 190/500\n",
            "2/2 [==============================] - 0s 7ms/step - loss: 18.3127 - mae: 18.3127\n",
            "Epoch 191/500\n",
            "2/2 [==============================] - 0s 5ms/step - loss: 13.7415 - mae: 13.7415\n",
            "Epoch 192/500\n",
            "2/2 [==============================] - 0s 6ms/step - loss: 13.7247 - mae: 13.7247\n",
            "Epoch 193/500\n",
            "2/2 [==============================] - 0s 5ms/step - loss: 28.5846 - mae: 28.5846\n",
            "Epoch 194/500\n",
            "2/2 [==============================] - 0s 6ms/step - loss: 7.0994 - mae: 7.0994\n",
            "Epoch 195/500\n",
            "2/2 [==============================] - 0s 5ms/step - loss: 7.0838 - mae: 7.0838\n",
            "Epoch 196/500\n",
            "2/2 [==============================] - 0s 6ms/step - loss: 22.0248 - mae: 22.0248\n",
            "Epoch 197/500\n",
            "2/2 [==============================] - 0s 9ms/step - loss: 20.8128 - mae: 20.8128\n",
            "Epoch 198/500\n",
            "2/2 [==============================] - 0s 4ms/step - loss: 12.4628 - mae: 12.4628\n",
            "Epoch 199/500\n",
            "2/2 [==============================] - 0s 4ms/step - loss: 17.8806 - mae: 17.8806\n",
            "Epoch 200/500\n",
            "2/2 [==============================] - 0s 4ms/step - loss: 13.7241 - mae: 13.7241\n",
            "Epoch 201/500\n",
            "2/2 [==============================] - 0s 4ms/step - loss: 5.5049 - mae: 5.5049\n",
            "Epoch 202/500\n",
            "2/2 [==============================] - 0s 8ms/step - loss: 13.6718 - mae: 13.6718\n",
            "Epoch 203/500\n",
            "2/2 [==============================] - 0s 7ms/step - loss: 9.4306 - mae: 9.4306\n",
            "Epoch 204/500\n",
            "2/2 [==============================] - 0s 4ms/step - loss: 20.8935 - mae: 20.8935\n",
            "Epoch 205/500\n",
            "2/2 [==============================] - 0s 5ms/step - loss: 9.5479 - mae: 9.5479\n",
            "Epoch 206/500\n",
            "2/2 [==============================] - 0s 3ms/step - loss: 11.1892 - mae: 11.1892\n",
            "Epoch 207/500\n",
            "2/2 [==============================] - 0s 10ms/step - loss: 17.7692 - mae: 17.7692\n",
            "Epoch 208/500\n",
            "2/2 [==============================] - 0s 4ms/step - loss: 14.4476 - mae: 14.4476\n",
            "Epoch 209/500\n",
            "2/2 [==============================] - 0s 5ms/step - loss: 16.7884 - mae: 16.7884\n",
            "Epoch 210/500\n",
            "2/2 [==============================] - 0s 7ms/step - loss: 18.3191 - mae: 18.3191\n",
            "Epoch 211/500\n",
            "2/2 [==============================] - 0s 6ms/step - loss: 9.9901 - mae: 9.9901\n",
            "Epoch 212/500\n",
            "2/2 [==============================] - 0s 5ms/step - loss: 18.8135 - mae: 18.8135\n",
            "Epoch 213/500\n",
            "2/2 [==============================] - 0s 7ms/step - loss: 14.9221 - mae: 14.9221\n",
            "Epoch 214/500\n",
            "2/2 [==============================] - 0s 9ms/step - loss: 14.5153 - mae: 14.5153\n",
            "Epoch 215/500\n",
            "2/2 [==============================] - 0s 3ms/step - loss: 23.1448 - mae: 23.1448\n",
            "Epoch 216/500\n",
            "2/2 [==============================] - 0s 7ms/step - loss: 13.6426 - mae: 13.6426\n",
            "Epoch 217/500\n",
            "2/2 [==============================] - 0s 4ms/step - loss: 10.0996 - mae: 10.0996\n",
            "Epoch 218/500\n",
            "2/2 [==============================] - 0s 7ms/step - loss: 12.3897 - mae: 12.3897\n",
            "Epoch 219/500\n",
            "2/2 [==============================] - 0s 13ms/step - loss: 6.4628 - mae: 6.4628\n",
            "Epoch 220/500\n",
            "2/2 [==============================] - 0s 9ms/step - loss: 7.1260 - mae: 7.1260\n",
            "Epoch 221/500\n",
            "2/2 [==============================] - 0s 6ms/step - loss: 37.1232 - mae: 37.1232\n",
            "Epoch 222/500\n",
            "2/2 [==============================] - 0s 4ms/step - loss: 36.8689 - mae: 36.8689\n",
            "Epoch 223/500\n",
            "2/2 [==============================] - 0s 17ms/step - loss: 6.6997 - mae: 6.6997\n",
            "Epoch 224/500\n",
            "2/2 [==============================] - 0s 4ms/step - loss: 13.8774 - mae: 13.8774\n",
            "Epoch 225/500\n",
            "2/2 [==============================] - 0s 6ms/step - loss: 16.0519 - mae: 16.0519\n",
            "Epoch 226/500\n",
            "2/2 [==============================] - 0s 7ms/step - loss: 15.2556 - mae: 15.2556\n",
            "Epoch 227/500\n",
            "2/2 [==============================] - 0s 7ms/step - loss: 15.5952 - mae: 15.5952\n",
            "Epoch 228/500\n",
            "2/2 [==============================] - 0s 11ms/step - loss: 13.6549 - mae: 13.6549\n",
            "Epoch 229/500\n",
            "2/2 [==============================] - 0s 4ms/step - loss: 17.7344 - mae: 17.7344\n",
            "Epoch 230/500\n",
            "2/2 [==============================] - 0s 5ms/step - loss: 15.1982 - mae: 15.1982\n",
            "Epoch 231/500\n",
            "2/2 [==============================] - 0s 5ms/step - loss: 21.0690 - mae: 21.0690\n",
            "Epoch 232/500\n",
            "2/2 [==============================] - 0s 6ms/step - loss: 25.5930 - mae: 25.5930\n",
            "Epoch 233/500\n",
            "2/2 [==============================] - 0s 4ms/step - loss: 16.5707 - mae: 16.5707\n",
            "Epoch 234/500\n",
            "2/2 [==============================] - 0s 4ms/step - loss: 7.3602 - mae: 7.3602\n",
            "Epoch 235/500\n",
            "2/2 [==============================] - 0s 9ms/step - loss: 17.2156 - mae: 17.2156\n",
            "Epoch 236/500\n",
            "2/2 [==============================] - 0s 4ms/step - loss: 7.2308 - mae: 7.2308\n",
            "Epoch 237/500\n",
            "2/2 [==============================] - 0s 5ms/step - loss: 9.3425 - mae: 9.3425\n",
            "Epoch 238/500\n",
            "2/2 [==============================] - 0s 4ms/step - loss: 8.1823 - mae: 8.1823\n",
            "Epoch 239/500\n",
            "2/2 [==============================] - 0s 4ms/step - loss: 17.2632 - mae: 17.2632\n",
            "Epoch 240/500\n",
            "2/2 [==============================] - 0s 14ms/step - loss: 8.9704 - mae: 8.9704\n",
            "Epoch 241/500\n",
            "2/2 [==============================] - 0s 6ms/step - loss: 13.3290 - mae: 13.3290\n",
            "Epoch 242/500\n",
            "2/2 [==============================] - 0s 6ms/step - loss: 8.8727 - mae: 8.8727\n",
            "Epoch 243/500\n",
            "2/2 [==============================] - 0s 6ms/step - loss: 19.1182 - mae: 19.1182\n",
            "Epoch 244/500\n",
            "2/2 [==============================] - 0s 4ms/step - loss: 13.9484 - mae: 13.9484\n",
            "Epoch 245/500\n",
            "2/2 [==============================] - 0s 11ms/step - loss: 14.5894 - mae: 14.5894\n",
            "Epoch 246/500\n",
            "2/2 [==============================] - 0s 21ms/step - loss: 15.7282 - mae: 15.7282\n",
            "Epoch 247/500\n",
            "2/2 [==============================] - 0s 6ms/step - loss: 17.5794 - mae: 17.5794\n",
            "Epoch 248/500\n",
            "2/2 [==============================] - 0s 6ms/step - loss: 13.1431 - mae: 13.1431\n",
            "Epoch 249/500\n",
            "2/2 [==============================] - 0s 5ms/step - loss: 14.4573 - mae: 14.4573\n",
            "Epoch 250/500\n",
            "2/2 [==============================] - 0s 11ms/step - loss: 23.1259 - mae: 23.1259\n",
            "Epoch 251/500\n",
            "2/2 [==============================] - 0s 9ms/step - loss: 10.0993 - mae: 10.0993\n",
            "Epoch 252/500\n",
            "2/2 [==============================] - 0s 5ms/step - loss: 32.5760 - mae: 32.5760\n",
            "Epoch 253/500\n",
            "2/2 [==============================] - 0s 5ms/step - loss: 18.6349 - mae: 18.6349\n",
            "Epoch 254/500\n",
            "2/2 [==============================] - 0s 5ms/step - loss: 6.3605 - mae: 6.3605\n",
            "Epoch 255/500\n",
            "2/2 [==============================] - 0s 4ms/step - loss: 19.4565 - mae: 19.4565\n",
            "Epoch 256/500\n",
            "2/2 [==============================] - 0s 4ms/step - loss: 33.4780 - mae: 33.4780\n",
            "Epoch 257/500\n",
            "2/2 [==============================] - 0s 4ms/step - loss: 16.5389 - mae: 16.5389\n",
            "Epoch 258/500\n",
            "2/2 [==============================] - 0s 7ms/step - loss: 5.8270 - mae: 5.8270\n",
            "Epoch 259/500\n",
            "2/2 [==============================] - 0s 9ms/step - loss: 14.8375 - mae: 14.8375\n",
            "Epoch 260/500\n",
            "2/2 [==============================] - 0s 5ms/step - loss: 14.9763 - mae: 14.9763\n",
            "Epoch 261/500\n",
            "2/2 [==============================] - 0s 19ms/step - loss: 17.4646 - mae: 17.4646\n",
            "Epoch 262/500\n",
            "2/2 [==============================] - 0s 17ms/step - loss: 15.5648 - mae: 15.5648\n",
            "Epoch 263/500\n",
            "2/2 [==============================] - 0s 14ms/step - loss: 10.0877 - mae: 10.0877\n",
            "Epoch 264/500\n",
            "2/2 [==============================] - 0s 15ms/step - loss: 20.2057 - mae: 20.2057\n",
            "Epoch 265/500\n",
            "2/2 [==============================] - 0s 16ms/step - loss: 9.7370 - mae: 9.7370\n",
            "Epoch 266/500\n",
            "2/2 [==============================] - 0s 9ms/step - loss: 7.8337 - mae: 7.8337\n",
            "Epoch 267/500\n",
            "2/2 [==============================] - 0s 18ms/step - loss: 7.5965 - mae: 7.5965\n",
            "Epoch 268/500\n",
            "2/2 [==============================] - 0s 28ms/step - loss: 18.4275 - mae: 18.4275\n",
            "Epoch 269/500\n",
            "2/2 [==============================] - 0s 13ms/step - loss: 21.8102 - mae: 21.8102\n",
            "Epoch 270/500\n",
            "2/2 [==============================] - 0s 39ms/step - loss: 5.4548 - mae: 5.4548\n",
            "Epoch 271/500\n",
            "2/2 [==============================] - 0s 15ms/step - loss: 12.0802 - mae: 12.0802\n",
            "Epoch 272/500\n",
            "2/2 [==============================] - 0s 13ms/step - loss: 26.1081 - mae: 26.1081\n",
            "Epoch 273/500\n",
            "2/2 [==============================] - 0s 12ms/step - loss: 12.2215 - mae: 12.2215\n",
            "Epoch 274/500\n",
            "2/2 [==============================] - 0s 2ms/step - loss: 13.3033 - mae: 13.3033\n",
            "Epoch 275/500\n",
            "2/2 [==============================] - 0s 10ms/step - loss: 29.3499 - mae: 29.3499\n",
            "Epoch 276/500\n",
            "2/2 [==============================] - 0s 19ms/step - loss: 7.3227 - mae: 7.3227\n",
            "Epoch 277/500\n",
            "2/2 [==============================] - 0s 11ms/step - loss: 31.1112 - mae: 31.1112\n",
            "Epoch 278/500\n",
            "2/2 [==============================] - 0s 17ms/step - loss: 12.2633 - mae: 12.2633\n",
            "Epoch 279/500\n",
            "2/2 [==============================] - 0s 15ms/step - loss: 16.3798 - mae: 16.3798\n",
            "Epoch 280/500\n",
            "2/2 [==============================] - 0s 5ms/step - loss: 21.8541 - mae: 21.8541\n",
            "Epoch 281/500\n",
            "2/2 [==============================] - 0s 5ms/step - loss: 22.2879 - mae: 22.2879\n",
            "Epoch 282/500\n",
            "2/2 [==============================] - 0s 4ms/step - loss: 7.7599 - mae: 7.7599\n",
            "Epoch 283/500\n",
            "2/2 [==============================] - 0s 9ms/step - loss: 8.1446 - mae: 8.1446\n",
            "Epoch 284/500\n",
            "2/2 [==============================] - 0s 17ms/step - loss: 25.0973 - mae: 25.0973\n",
            "Epoch 285/500\n",
            "2/2 [==============================] - 0s 6ms/step - loss: 13.8133 - mae: 13.8133\n",
            "Epoch 286/500\n",
            "2/2 [==============================] - 0s 14ms/step - loss: 6.8749 - mae: 6.8749\n",
            "Epoch 287/500\n",
            "2/2 [==============================] - 0s 3ms/step - loss: 24.4743 - mae: 24.4743\n",
            "Epoch 288/500\n",
            "2/2 [==============================] - 0s 5ms/step - loss: 20.3418 - mae: 20.3418\n",
            "Epoch 289/500\n",
            "2/2 [==============================] - 0s 5ms/step - loss: 11.9105 - mae: 11.9105\n",
            "Epoch 290/500\n",
            "2/2 [==============================] - 0s 7ms/step - loss: 16.4863 - mae: 16.4863\n",
            "Epoch 291/500\n",
            "2/2 [==============================] - 0s 6ms/step - loss: 16.7313 - mae: 16.7313\n",
            "Epoch 292/500\n",
            "2/2 [==============================] - 0s 6ms/step - loss: 8.8046 - mae: 8.8046\n",
            "Epoch 293/500\n",
            "2/2 [==============================] - 0s 4ms/step - loss: 15.6748 - mae: 15.6748\n",
            "Epoch 294/500\n",
            "2/2 [==============================] - 0s 7ms/step - loss: 23.5490 - mae: 23.5490\n",
            "Epoch 295/500\n",
            "2/2 [==============================] - 0s 4ms/step - loss: 16.0789 - mae: 16.0789\n",
            "Epoch 296/500\n",
            "2/2 [==============================] - 0s 3ms/step - loss: 5.3591 - mae: 5.3591\n",
            "Epoch 297/500\n",
            "2/2 [==============================] - 0s 6ms/step - loss: 12.5751 - mae: 12.5751\n",
            "Epoch 298/500\n",
            "2/2 [==============================] - 0s 13ms/step - loss: 24.3215 - mae: 24.3215\n",
            "Epoch 299/500\n",
            "2/2 [==============================] - 0s 4ms/step - loss: 17.6802 - mae: 17.6802\n",
            "Epoch 300/500\n",
            "2/2 [==============================] - 0s 3ms/step - loss: 6.9603 - mae: 6.9603\n",
            "Epoch 301/500\n",
            "2/2 [==============================] - 0s 4ms/step - loss: 25.1222 - mae: 25.1222\n",
            "Epoch 302/500\n",
            "2/2 [==============================] - 0s 9ms/step - loss: 8.8735 - mae: 8.8735\n",
            "Epoch 303/500\n",
            "2/2 [==============================] - 0s 4ms/step - loss: 17.7261 - mae: 17.7261\n",
            "Epoch 304/500\n",
            "2/2 [==============================] - 0s 6ms/step - loss: 10.9656 - mae: 10.9656\n",
            "Epoch 305/500\n",
            "2/2 [==============================] - 0s 4ms/step - loss: 12.8929 - mae: 12.8929\n",
            "Epoch 306/500\n",
            "2/2 [==============================] - 0s 5ms/step - loss: 8.3789 - mae: 8.3789\n",
            "Epoch 307/500\n",
            "2/2 [==============================] - 0s 4ms/step - loss: 13.5891 - mae: 13.5891\n",
            "Epoch 308/500\n",
            "2/2 [==============================] - 0s 17ms/step - loss: 7.4209 - mae: 7.4209\n",
            "Epoch 309/500\n",
            "2/2 [==============================] - 0s 10ms/step - loss: 9.4495 - mae: 9.4495\n",
            "Epoch 310/500\n",
            "2/2 [==============================] - 0s 5ms/step - loss: 10.7052 - mae: 10.7052\n",
            "Epoch 311/500\n",
            "2/2 [==============================] - 0s 6ms/step - loss: 13.2732 - mae: 13.2732\n",
            "Epoch 312/500\n",
            "2/2 [==============================] - 0s 5ms/step - loss: 29.9718 - mae: 29.9718\n",
            "Epoch 313/500\n",
            "2/2 [==============================] - 0s 18ms/step - loss: 7.6220 - mae: 7.6220\n",
            "Epoch 314/500\n",
            "2/2 [==============================] - 0s 34ms/step - loss: 9.8992 - mae: 9.8992\n",
            "Epoch 315/500\n",
            "2/2 [==============================] - 0s 11ms/step - loss: 23.7521 - mae: 23.7521\n",
            "Epoch 316/500\n",
            "2/2 [==============================] - 0s 5ms/step - loss: 16.4200 - mae: 16.4200\n",
            "Epoch 317/500\n",
            "2/2 [==============================] - 0s 6ms/step - loss: 21.1063 - mae: 21.1063\n",
            "Epoch 318/500\n",
            "2/2 [==============================] - 0s 4ms/step - loss: 7.9317 - mae: 7.9317\n",
            "Epoch 319/500\n",
            "2/2 [==============================] - 0s 6ms/step - loss: 18.0085 - mae: 18.0085\n",
            "Epoch 320/500\n",
            "2/2 [==============================] - 0s 4ms/step - loss: 10.5559 - mae: 10.5559\n",
            "Epoch 321/500\n",
            "2/2 [==============================] - 0s 5ms/step - loss: 6.9525 - mae: 6.9525\n",
            "Epoch 322/500\n",
            "2/2 [==============================] - 0s 5ms/step - loss: 9.2059 - mae: 9.2059\n",
            "Epoch 323/500\n",
            "2/2 [==============================] - 0s 14ms/step - loss: 17.8515 - mae: 17.8515\n",
            "Epoch 324/500\n",
            "2/2 [==============================] - 0s 7ms/step - loss: 15.9398 - mae: 15.9398\n",
            "Epoch 325/500\n",
            "2/2 [==============================] - 0s 13ms/step - loss: 17.6088 - mae: 17.6088\n",
            "Epoch 326/500\n",
            "2/2 [==============================] - 0s 11ms/step - loss: 23.9264 - mae: 23.9264\n",
            "Epoch 327/500\n",
            "2/2 [==============================] - 0s 6ms/step - loss: 10.2878 - mae: 10.2878\n",
            "Epoch 328/500\n",
            "2/2 [==============================] - 0s 16ms/step - loss: 13.1271 - mae: 13.1271\n",
            "Epoch 329/500\n",
            "2/2 [==============================] - 0s 5ms/step - loss: 15.9901 - mae: 15.9901\n",
            "Epoch 330/500\n",
            "2/2 [==============================] - 0s 19ms/step - loss: 14.3283 - mae: 14.3283\n",
            "Epoch 331/500\n",
            "2/2 [==============================] - 0s 9ms/step - loss: 25.7696 - mae: 25.7696\n",
            "Epoch 332/500\n",
            "2/2 [==============================] - 0s 6ms/step - loss: 17.1405 - mae: 17.1405\n",
            "Epoch 333/500\n",
            "2/2 [==============================] - 0s 4ms/step - loss: 8.4664 - mae: 8.4664\n",
            "Epoch 334/500\n",
            "2/2 [==============================] - 0s 8ms/step - loss: 13.3581 - mae: 13.3581\n",
            "Epoch 335/500\n",
            "2/2 [==============================] - 0s 5ms/step - loss: 13.0693 - mae: 13.0693\n",
            "Epoch 336/500\n",
            "2/2 [==============================] - 0s 5ms/step - loss: 32.5681 - mae: 32.5681\n",
            "Epoch 337/500\n",
            "2/2 [==============================] - 0s 7ms/step - loss: 11.1013 - mae: 11.1013\n",
            "Epoch 338/500\n",
            "2/2 [==============================] - 0s 4ms/step - loss: 20.0894 - mae: 20.0894\n",
            "Epoch 339/500\n",
            "2/2 [==============================] - 0s 5ms/step - loss: 33.9316 - mae: 33.9316\n",
            "Epoch 340/500\n",
            "2/2 [==============================] - 0s 4ms/step - loss: 8.6135 - mae: 8.6135\n",
            "Epoch 341/500\n",
            "2/2 [==============================] - 0s 5ms/step - loss: 21.6551 - mae: 21.6551\n",
            "Epoch 342/500\n",
            "2/2 [==============================] - 0s 3ms/step - loss: 14.0274 - mae: 14.0274\n",
            "Epoch 343/500\n",
            "2/2 [==============================] - 0s 7ms/step - loss: 11.5577 - mae: 11.5577\n",
            "Epoch 344/500\n",
            "2/2 [==============================] - 0s 4ms/step - loss: 10.6595 - mae: 10.6595\n",
            "Epoch 345/500\n",
            "2/2 [==============================] - 0s 5ms/step - loss: 30.8289 - mae: 30.8289\n",
            "Epoch 346/500\n",
            "2/2 [==============================] - 0s 10ms/step - loss: 10.5862 - mae: 10.5862\n",
            "Epoch 347/500\n",
            "2/2 [==============================] - 0s 4ms/step - loss: 25.4489 - mae: 25.4489\n",
            "Epoch 348/500\n",
            "2/2 [==============================] - 0s 5ms/step - loss: 13.5496 - mae: 13.5496\n",
            "Epoch 349/500\n",
            "2/2 [==============================] - 0s 22ms/step - loss: 12.9300 - mae: 12.9300\n",
            "Epoch 350/500\n",
            "2/2 [==============================] - 0s 4ms/step - loss: 15.3579 - mae: 15.3579\n",
            "Epoch 351/500\n",
            "2/2 [==============================] - 0s 6ms/step - loss: 32.8111 - mae: 32.8111\n",
            "Epoch 352/500\n",
            "2/2 [==============================] - 0s 5ms/step - loss: 13.8639 - mae: 13.8639\n",
            "Epoch 353/500\n",
            "2/2 [==============================] - 0s 11ms/step - loss: 15.8681 - mae: 15.8681\n",
            "Epoch 354/500\n",
            "2/2 [==============================] - 0s 5ms/step - loss: 18.9778 - mae: 18.9778\n",
            "Epoch 355/500\n",
            "2/2 [==============================] - 0s 6ms/step - loss: 34.4290 - mae: 34.4290\n",
            "Epoch 356/500\n",
            "2/2 [==============================] - 0s 4ms/step - loss: 8.3093 - mae: 8.3093\n",
            "Epoch 357/500\n",
            "2/2 [==============================] - 0s 5ms/step - loss: 21.9194 - mae: 21.9194\n",
            "Epoch 358/500\n",
            "2/2 [==============================] - 0s 5ms/step - loss: 20.0611 - mae: 20.0611\n",
            "Epoch 359/500\n",
            "2/2 [==============================] - 0s 4ms/step - loss: 11.0307 - mae: 11.0307\n",
            "Epoch 360/500\n",
            "2/2 [==============================] - 0s 6ms/step - loss: 20.2508 - mae: 20.2508\n",
            "Epoch 361/500\n",
            "2/2 [==============================] - 0s 12ms/step - loss: 11.0393 - mae: 11.0393\n",
            "Epoch 362/500\n",
            "2/2 [==============================] - 0s 12ms/step - loss: 6.8096 - mae: 6.8096\n",
            "Epoch 363/500\n",
            "2/2 [==============================] - 0s 15ms/step - loss: 24.0525 - mae: 24.0525\n",
            "Epoch 364/500\n",
            "2/2 [==============================] - 0s 42ms/step - loss: 29.8340 - mae: 29.8340\n",
            "Epoch 365/500\n",
            "2/2 [==============================] - 0s 3ms/step - loss: 8.3629 - mae: 8.3629\n",
            "Epoch 366/500\n",
            "2/2 [==============================] - 0s 6ms/step - loss: 6.0797 - mae: 6.0797\n",
            "Epoch 367/500\n",
            "2/2 [==============================] - 0s 5ms/step - loss: 35.0254 - mae: 35.0254\n",
            "Epoch 368/500\n",
            "2/2 [==============================] - 0s 4ms/step - loss: 7.4177 - mae: 7.4177\n",
            "Epoch 369/500\n",
            "2/2 [==============================] - 0s 5ms/step - loss: 9.2537 - mae: 9.2537\n",
            "Epoch 370/500\n",
            "2/2 [==============================] - 0s 11ms/step - loss: 10.9758 - mae: 10.9758\n",
            "Epoch 371/500\n",
            "2/2 [==============================] - 0s 8ms/step - loss: 9.0383 - mae: 9.0383\n",
            "Epoch 372/500\n",
            "2/2 [==============================] - 0s 17ms/step - loss: 6.9291 - mae: 6.9291\n",
            "Epoch 373/500\n",
            "2/2 [==============================] - 0s 5ms/step - loss: 25.9172 - mae: 25.9172\n",
            "Epoch 374/500\n",
            "2/2 [==============================] - 0s 10ms/step - loss: 11.0200 - mae: 11.0200\n",
            "Epoch 375/500\n",
            "2/2 [==============================] - 0s 6ms/step - loss: 10.7509 - mae: 10.7509\n",
            "Epoch 376/500\n",
            "2/2 [==============================] - 0s 4ms/step - loss: 13.5506 - mae: 13.5506\n",
            "Epoch 377/500\n",
            "2/2 [==============================] - 0s 5ms/step - loss: 15.2368 - mae: 15.2368\n",
            "Epoch 378/500\n",
            "2/2 [==============================] - 0s 5ms/step - loss: 16.3812 - mae: 16.3812\n",
            "Epoch 379/500\n",
            "2/2 [==============================] - 0s 4ms/step - loss: 21.1003 - mae: 21.1003\n",
            "Epoch 380/500\n",
            "2/2 [==============================] - 0s 3ms/step - loss: 32.7504 - mae: 32.7504\n",
            "Epoch 381/500\n",
            "2/2 [==============================] - 0s 4ms/step - loss: 7.9745 - mae: 7.9745\n",
            "Epoch 382/500\n",
            "2/2 [==============================] - 0s 4ms/step - loss: 12.4988 - mae: 12.4988\n",
            "Epoch 383/500\n",
            "2/2 [==============================] - 0s 3ms/step - loss: 7.2244 - mae: 7.2244\n",
            "Epoch 384/500\n",
            "2/2 [==============================] - 0s 4ms/step - loss: 6.4168 - mae: 6.4168\n",
            "Epoch 385/500\n",
            "2/2 [==============================] - 0s 5ms/step - loss: 11.5941 - mae: 11.5941\n",
            "Epoch 386/500\n",
            "2/2 [==============================] - 0s 7ms/step - loss: 19.9152 - mae: 19.9152\n",
            "Epoch 387/500\n",
            "2/2 [==============================] - 0s 5ms/step - loss: 24.5169 - mae: 24.5169\n",
            "Epoch 388/500\n",
            "2/2 [==============================] - 0s 3ms/step - loss: 8.1466 - mae: 8.1466\n",
            "Epoch 389/500\n",
            "2/2 [==============================] - 0s 4ms/step - loss: 10.7483 - mae: 10.7483\n",
            "Epoch 390/500\n",
            "2/2 [==============================] - 0s 4ms/step - loss: 4.7499 - mae: 4.7499\n",
            "Epoch 391/500\n",
            "2/2 [==============================] - 0s 4ms/step - loss: 18.8299 - mae: 18.8299\n",
            "Epoch 392/500\n",
            "2/2 [==============================] - 0s 4ms/step - loss: 26.9385 - mae: 26.9385\n",
            "Epoch 393/500\n",
            "2/2 [==============================] - 0s 18ms/step - loss: 12.2958 - mae: 12.2958\n",
            "Epoch 394/500\n",
            "2/2 [==============================] - 0s 6ms/step - loss: 11.8130 - mae: 11.8130\n",
            "Epoch 395/500\n",
            "2/2 [==============================] - 0s 4ms/step - loss: 25.2889 - mae: 25.2889\n",
            "Epoch 396/500\n",
            "2/2 [==============================] - 0s 10ms/step - loss: 18.2869 - mae: 18.2869\n",
            "Epoch 397/500\n",
            "2/2 [==============================] - 0s 4ms/step - loss: 11.7592 - mae: 11.7592\n",
            "Epoch 398/500\n",
            "2/2 [==============================] - 0s 6ms/step - loss: 19.6129 - mae: 19.6129\n",
            "Epoch 399/500\n",
            "2/2 [==============================] - 0s 15ms/step - loss: 25.0600 - mae: 25.0600\n",
            "Epoch 400/500\n",
            "2/2 [==============================] - 0s 7ms/step - loss: 14.7973 - mae: 14.7973\n",
            "Epoch 401/500\n",
            "2/2 [==============================] - 0s 7ms/step - loss: 14.9802 - mae: 14.9802\n",
            "Epoch 402/500\n",
            "2/2 [==============================] - 0s 22ms/step - loss: 24.3620 - mae: 24.3620\n",
            "Epoch 403/500\n",
            "2/2 [==============================] - 0s 6ms/step - loss: 16.0928 - mae: 16.0928\n",
            "Epoch 404/500\n",
            "2/2 [==============================] - 0s 5ms/step - loss: 10.2963 - mae: 10.2963\n",
            "Epoch 405/500\n",
            "2/2 [==============================] - 0s 4ms/step - loss: 6.3357 - mae: 6.3357\n",
            "Epoch 406/500\n",
            "2/2 [==============================] - 0s 11ms/step - loss: 17.5524 - mae: 17.5524\n",
            "Epoch 407/500\n",
            "2/2 [==============================] - 0s 11ms/step - loss: 11.0651 - mae: 11.0651\n",
            "Epoch 408/500\n",
            "2/2 [==============================] - 0s 26ms/step - loss: 21.1747 - mae: 21.1747\n",
            "Epoch 409/500\n",
            "2/2 [==============================] - 0s 4ms/step - loss: 30.0104 - mae: 30.0104\n",
            "Epoch 410/500\n",
            "2/2 [==============================] - 0s 5ms/step - loss: 9.8976 - mae: 9.8976\n",
            "Epoch 411/500\n",
            "2/2 [==============================] - 0s 6ms/step - loss: 14.7559 - mae: 14.7559\n",
            "Epoch 412/500\n",
            "2/2 [==============================] - 0s 7ms/step - loss: 21.5385 - mae: 21.5385\n",
            "Epoch 413/500\n",
            "2/2 [==============================] - 0s 5ms/step - loss: 13.1558 - mae: 13.1558\n",
            "Epoch 414/500\n",
            "2/2 [==============================] - 0s 6ms/step - loss: 8.2655 - mae: 8.2655\n",
            "Epoch 415/500\n",
            "2/2 [==============================] - 0s 4ms/step - loss: 11.6888 - mae: 11.6888\n",
            "Epoch 416/500\n",
            "2/2 [==============================] - 0s 11ms/step - loss: 25.6040 - mae: 25.6040\n",
            "Epoch 417/500\n",
            "2/2 [==============================] - 0s 17ms/step - loss: 15.7840 - mae: 15.7840\n",
            "Epoch 418/500\n",
            "2/2 [==============================] - 0s 6ms/step - loss: 12.5676 - mae: 12.5676\n",
            "Epoch 419/500\n",
            "2/2 [==============================] - 0s 5ms/step - loss: 15.7194 - mae: 15.7194\n",
            "Epoch 420/500\n",
            "2/2 [==============================] - 0s 9ms/step - loss: 24.4129 - mae: 24.4129\n",
            "Epoch 421/500\n",
            "2/2 [==============================] - 0s 10ms/step - loss: 18.3110 - mae: 18.3110\n",
            "Epoch 422/500\n",
            "2/2 [==============================] - 0s 15ms/step - loss: 8.6468 - mae: 8.6468\n",
            "Epoch 423/500\n",
            "2/2 [==============================] - 0s 6ms/step - loss: 24.6208 - mae: 24.6208\n",
            "Epoch 424/500\n",
            "2/2 [==============================] - 0s 7ms/step - loss: 16.9136 - mae: 16.9136\n",
            "Epoch 425/500\n",
            "2/2 [==============================] - 0s 4ms/step - loss: 7.3520 - mae: 7.3520\n",
            "Epoch 426/500\n",
            "2/2 [==============================] - 0s 9ms/step - loss: 21.1090 - mae: 21.1090\n",
            "Epoch 427/500\n",
            "2/2 [==============================] - 0s 8ms/step - loss: 6.5325 - mae: 6.5325\n",
            "Epoch 428/500\n",
            "2/2 [==============================] - 0s 10ms/step - loss: 13.5268 - mae: 13.5268\n",
            "Epoch 429/500\n",
            "2/2 [==============================] - 0s 12ms/step - loss: 11.5021 - mae: 11.5021\n",
            "Epoch 430/500\n",
            "2/2 [==============================] - 0s 11ms/step - loss: 10.2793 - mae: 10.2793\n",
            "Epoch 431/500\n",
            "2/2 [==============================] - 0s 12ms/step - loss: 11.5492 - mae: 11.5492\n",
            "Epoch 432/500\n",
            "2/2 [==============================] - 0s 5ms/step - loss: 9.9885 - mae: 9.9885\n",
            "Epoch 433/500\n",
            "2/2 [==============================] - 0s 5ms/step - loss: 3.8743 - mae: 3.8743\n",
            "Epoch 434/500\n",
            "2/2 [==============================] - 0s 5ms/step - loss: 28.3199 - mae: 28.3199\n",
            "Epoch 435/500\n",
            "2/2 [==============================] - 0s 8ms/step - loss: 5.3878 - mae: 5.3878\n",
            "Epoch 436/500\n",
            "2/2 [==============================] - 0s 4ms/step - loss: 41.3984 - mae: 41.3984\n",
            "Epoch 437/500\n",
            "2/2 [==============================] - 0s 13ms/step - loss: 5.1893 - mae: 5.1893\n",
            "Epoch 438/500\n",
            "2/2 [==============================] - 0s 5ms/step - loss: 13.8828 - mae: 13.8828\n",
            "Epoch 439/500\n",
            "2/2 [==============================] - 0s 6ms/step - loss: 31.8710 - mae: 31.8710\n",
            "Epoch 440/500\n",
            "2/2 [==============================] - 0s 4ms/step - loss: 12.2768 - mae: 12.2768\n",
            "Epoch 441/500\n",
            "2/2 [==============================] - 0s 9ms/step - loss: 15.6426 - mae: 15.6426\n",
            "Epoch 442/500\n",
            "2/2 [==============================] - 0s 13ms/step - loss: 23.4264 - mae: 23.4264\n",
            "Epoch 443/500\n",
            "2/2 [==============================] - 0s 5ms/step - loss: 20.8883 - mae: 20.8883\n",
            "Epoch 444/500\n",
            "2/2 [==============================] - 0s 8ms/step - loss: 8.6703 - mae: 8.6703\n",
            "Epoch 445/500\n",
            "2/2 [==============================] - 0s 7ms/step - loss: 14.0773 - mae: 14.0773\n",
            "Epoch 446/500\n",
            "2/2 [==============================] - 0s 9ms/step - loss: 16.7785 - mae: 16.7785\n",
            "Epoch 447/500\n",
            "2/2 [==============================] - 0s 6ms/step - loss: 6.7156 - mae: 6.7156\n",
            "Epoch 448/500\n",
            "2/2 [==============================] - 0s 7ms/step - loss: 6.7289 - mae: 6.7289\n",
            "Epoch 449/500\n",
            "2/2 [==============================] - 0s 5ms/step - loss: 15.6164 - mae: 15.6164\n",
            "Epoch 450/500\n",
            "2/2 [==============================] - 0s 6ms/step - loss: 16.5718 - mae: 16.5718\n",
            "Epoch 451/500\n",
            "2/2 [==============================] - 0s 9ms/step - loss: 14.2023 - mae: 14.2023\n",
            "Epoch 452/500\n",
            "2/2 [==============================] - 0s 7ms/step - loss: 30.4583 - mae: 30.4583\n",
            "Epoch 453/500\n",
            "2/2 [==============================] - 0s 7ms/step - loss: 5.1469 - mae: 5.1469\n",
            "Epoch 454/500\n",
            "2/2 [==============================] - 0s 4ms/step - loss: 30.0573 - mae: 30.0573\n",
            "Epoch 455/500\n",
            "2/2 [==============================] - 0s 11ms/step - loss: 4.3322 - mae: 4.3322\n",
            "Epoch 456/500\n",
            "2/2 [==============================] - 0s 7ms/step - loss: 14.6279 - mae: 14.6279\n",
            "Epoch 457/500\n",
            "2/2 [==============================] - 0s 10ms/step - loss: 17.7958 - mae: 17.7958\n",
            "Epoch 458/500\n",
            "2/2 [==============================] - 0s 7ms/step - loss: 14.0510 - mae: 14.0510\n",
            "Epoch 459/500\n",
            "2/2 [==============================] - 0s 20ms/step - loss: 26.0072 - mae: 26.0072\n",
            "Epoch 460/500\n",
            "2/2 [==============================] - 0s 9ms/step - loss: 14.8316 - mae: 14.8316\n",
            "Epoch 461/500\n",
            "2/2 [==============================] - 0s 10ms/step - loss: 12.1672 - mae: 12.1672\n",
            "Epoch 462/500\n",
            "2/2 [==============================] - 0s 6ms/step - loss: 13.2018 - mae: 13.2018\n",
            "Epoch 463/500\n",
            "2/2 [==============================] - 0s 9ms/step - loss: 29.3225 - mae: 29.3225\n",
            "Epoch 464/500\n",
            "2/2 [==============================] - 0s 4ms/step - loss: 6.9862 - mae: 6.9862\n",
            "Epoch 465/500\n",
            "2/2 [==============================] - 0s 6ms/step - loss: 14.2853 - mae: 14.2853\n",
            "Epoch 466/500\n",
            "2/2 [==============================] - 0s 6ms/step - loss: 10.1639 - mae: 10.1639\n",
            "Epoch 467/500\n",
            "2/2 [==============================] - 0s 9ms/step - loss: 21.5889 - mae: 21.5889\n",
            "Epoch 468/500\n",
            "2/2 [==============================] - 0s 5ms/step - loss: 23.6980 - mae: 23.6980\n",
            "Epoch 469/500\n",
            "2/2 [==============================] - 0s 6ms/step - loss: 21.1205 - mae: 21.1205\n",
            "Epoch 470/500\n",
            "2/2 [==============================] - 0s 7ms/step - loss: 9.5916 - mae: 9.5916\n",
            "Epoch 471/500\n",
            "2/2 [==============================] - 0s 36ms/step - loss: 15.8773 - mae: 15.8773\n",
            "Epoch 472/500\n",
            "2/2 [==============================] - 0s 5ms/step - loss: 14.9473 - mae: 14.9473\n",
            "Epoch 473/500\n",
            "2/2 [==============================] - 0s 13ms/step - loss: 18.3308 - mae: 18.3308\n",
            "Epoch 474/500\n",
            "2/2 [==============================] - 0s 6ms/step - loss: 41.8551 - mae: 41.8551\n",
            "Epoch 475/500\n",
            "2/2 [==============================] - 0s 7ms/step - loss: 17.7604 - mae: 17.7604\n",
            "Epoch 476/500\n",
            "2/2 [==============================] - 0s 9ms/step - loss: 13.2223 - mae: 13.2223\n",
            "Epoch 477/500\n",
            "2/2 [==============================] - 0s 4ms/step - loss: 29.3134 - mae: 29.3134\n",
            "Epoch 478/500\n",
            "2/2 [==============================] - 0s 8ms/step - loss: 5.6969 - mae: 5.6969\n",
            "Epoch 479/500\n",
            "2/2 [==============================] - 0s 13ms/step - loss: 7.7541 - mae: 7.7541\n",
            "Epoch 480/500\n",
            "2/2 [==============================] - 0s 9ms/step - loss: 18.4023 - mae: 18.4023\n",
            "Epoch 481/500\n",
            "2/2 [==============================] - 0s 14ms/step - loss: 16.2438 - mae: 16.2438\n",
            "Epoch 482/500\n",
            "2/2 [==============================] - 0s 13ms/step - loss: 15.0547 - mae: 15.0547\n",
            "Epoch 483/500\n",
            "2/2 [==============================] - 0s 4ms/step - loss: 20.5117 - mae: 20.5117\n",
            "Epoch 484/500\n",
            "2/2 [==============================] - 0s 7ms/step - loss: 35.2073 - mae: 35.2073\n",
            "Epoch 485/500\n",
            "2/2 [==============================] - 0s 9ms/step - loss: 13.8809 - mae: 13.8809\n",
            "Epoch 486/500\n",
            "2/2 [==============================] - 0s 7ms/step - loss: 6.9872 - mae: 6.9872\n",
            "Epoch 487/500\n",
            "2/2 [==============================] - 0s 15ms/step - loss: 6.2455 - mae: 6.2455\n",
            "Epoch 488/500\n",
            "2/2 [==============================] - 0s 27ms/step - loss: 29.7167 - mae: 29.7167\n",
            "Epoch 489/500\n",
            "2/2 [==============================] - 0s 13ms/step - loss: 12.6866 - mae: 12.6866\n",
            "Epoch 490/500\n",
            "2/2 [==============================] - 0s 12ms/step - loss: 13.1170 - mae: 13.1170\n",
            "Epoch 491/500\n",
            "2/2 [==============================] - 0s 10ms/step - loss: 24.3951 - mae: 24.3951\n",
            "Epoch 492/500\n",
            "2/2 [==============================] - 0s 14ms/step - loss: 18.5342 - mae: 18.5342\n",
            "Epoch 493/500\n",
            "2/2 [==============================] - 0s 12ms/step - loss: 4.7353 - mae: 4.7353\n",
            "Epoch 494/500\n",
            "2/2 [==============================] - 0s 14ms/step - loss: 11.9100 - mae: 11.9100\n",
            "Epoch 495/500\n",
            "2/2 [==============================] - 0s 7ms/step - loss: 13.7338 - mae: 13.7338\n",
            "Epoch 496/500\n",
            "2/2 [==============================] - 0s 8ms/step - loss: 12.9213 - mae: 12.9213\n",
            "Epoch 497/500\n",
            "2/2 [==============================] - 0s 6ms/step - loss: 18.0613 - mae: 18.0613\n",
            "Epoch 498/500\n",
            "2/2 [==============================] - 0s 9ms/step - loss: 22.5541 - mae: 22.5541\n",
            "Epoch 499/500\n",
            "2/2 [==============================] - 0s 6ms/step - loss: 8.3505 - mae: 8.3505\n",
            "Epoch 500/500\n",
            "2/2 [==============================] - 0s 4ms/step - loss: 14.1422 - mae: 14.1422\n"
          ],
          "name": "stdout"
        },
        {
          "output_type": "execute_result",
          "data": {
            "text/plain": [
              "<tensorflow.python.keras.callbacks.History at 0x7f945fba9490>"
            ]
          },
          "metadata": {
            "tags": []
          },
          "execution_count": 47
        }
      ]
    },
    {
      "cell_type": "code",
      "metadata": {
        "id": "MKwd_U8maYEs",
        "colab": {
          "base_uri": "https://localhost:8080/",
          "height": 0
        },
        "outputId": "0e0f68f3-203a-4eaa-f0b5-91b16d983d8e"
      },
      "source": [
        "# Make and plot predictions for model_1\n",
        "y_pred_3 = model_3.predict(X_test)\n",
        "plot_predictions(predictions = y_pred_3)"
      ],
      "execution_count": 48,
      "outputs": [
        {
          "output_type": "display_data",
          "data": {
            "image/png": "[encoded data removed]",
            "text/plain": [
              "<Figure size 720x504 with 1 Axes>"
            ]
          },
          "metadata": {
            "tags": [],
            "needs_background": "light"
          }
        }
      ]
    },
    {
      "cell_type": "code",
      "metadata": {
        "id": "lQskYCQradee",
        "colab": {
          "base_uri": "https://localhost:8080/"
        },
        "outputId": "eba09812-88c4-4482-cc90-daecb16345aa"
      },
      "source": [
        "# Calculate model_1 evaluation metrics\n",
        "mae_3 = mae(y_test, y_pred_3)\n",
        "mse_3 =mse(y_test, y_pred_3)\n",
        "\n",
        "mae_3, mse_3"
      ],
      "execution_count": 49,
      "outputs": [
        {
          "output_type": "execute_result",
          "data": {
            "text/plain": [
              "(<tf.Tensor: shape=(), dtype=float32, numpy=67.11937>,\n",
              " <tf.Tensor: shape=(), dtype=float32, numpy=4587.4634>)"
            ]
          },
          "metadata": {
            "tags": []
          },
          "execution_count": 49
        }
      ]
    },
    {
      "cell_type": "markdown",
      "metadata": {
        "id": "Yj2ABjtdcjfo"
      },
      "source": [
        "**Note:** We want to start with small experiments (small models) and make sure they work and then increase their scale when necessary."
      ]
    },
    {
      "cell_type": "markdown",
      "metadata": {
        "id": "0ptKvg1UalMj"
      },
      "source": [
        "### Comparing the results of our experiments\n",
        "\n",
        "we've run a few experiments, let's compare the results."
      ]
    },
    {
      "cell_type": "code",
      "metadata": {
        "id": "D-uWHLercgn_",
        "colab": {
          "base_uri": "https://localhost:8080/",
          "height": 0
        },
        "outputId": "a838b192-15a5-462d-86b3-3f47cc94dc3b"
      },
      "source": [
        "# Let's compare our model's results using a pandas DataFrame\n",
        "import pandas as pd\n",
        "\n",
        "model_results = [[\"model_1\", mae_1.numpy(), mse_1.numpy()],\n",
        "                 [\"model_2\", mae_2.numpy(), mse_2.numpy()],\n",
        "                 [\"model_3\", mae_3.numpy(), mse_3.numpy()]]\n",
        "all_results = pd.DataFrame(model_results , columns=[\"model\", \"mae\", \"mse\"])\n",
        "all_results"
      ],
      "execution_count": 50,
      "outputs": [
        {
          "output_type": "execute_result",
          "data": {
            "text/html": [
              "<div>\n",
              "<style scoped>\n",
              "    .dataframe tbody tr th:only-of-type {\n",
              "        vertical-align: middle;\n",
              "    }\n",
              "\n",
              "    .dataframe tbody tr th {\n",
              "        vertical-align: top;\n",
              "    }\n",
              "\n",
              "    .dataframe thead th {\n",
              "        text-align: right;\n",
              "    }\n",
              "</style>\n",
              "<table border=\"1\" class=\"dataframe\">\n",
              "  <thead>\n",
              "    <tr style=\"text-align: right;\">\n",
              "      <th></th>\n",
              "      <th>model</th>\n",
              "      <th>mae</th>\n",
              "      <th>mse</th>\n",
              "    </tr>\n",
              "  </thead>\n",
              "  <tbody>\n",
              "    <tr>\n",
              "      <th>0</th>\n",
              "      <td>model_1</td>\n",
              "      <td>18.745327</td>\n",
              "      <td>353.573364</td>\n",
              "    </tr>\n",
              "    <tr>\n",
              "      <th>1</th>\n",
              "      <td>model_2</td>\n",
              "      <td>2.940376</td>\n",
              "      <td>11.373231</td>\n",
              "    </tr>\n",
              "    <tr>\n",
              "      <th>2</th>\n",
              "      <td>model_3</td>\n",
              "      <td>67.119370</td>\n",
              "      <td>4587.463379</td>\n",
              "    </tr>\n",
              "  </tbody>\n",
              "</table>\n",
              "</div>"
            ],
            "text/plain": [
              "     model        mae          mse\n",
              "0  model_1  18.745327   353.573364\n",
              "1  model_2   2.940376    11.373231\n",
              "2  model_3  67.119370  4587.463379"
            ]
          },
          "metadata": {
            "tags": []
          },
          "execution_count": 50
        }
      ]
    },
    {
      "cell_type": "markdown",
      "metadata": {
        "id": "a8vCIFWWeOtn"
      },
      "source": [
        "**Observations:** looks like `model_2` performed the best."
      ]
    },
    {
      "cell_type": "code",
      "metadata": {
        "id": "hk1J5CTJd3if",
        "colab": {
          "base_uri": "https://localhost:8080/"
        },
        "outputId": "3130b87e-b4bd-4d4c-b04b-7085f6b29d40"
      },
      "source": [
        "model_2.summary()"
      ],
      "execution_count": 51,
      "outputs": [
        {
          "output_type": "stream",
          "text": [
            "Model: \"sequential_5\"\n",
            "_________________________________________________________________\n",
            "Layer (type)                 Output Shape              Param #   \n",
            "=================================================================\n",
            "dense_5 (Dense)              (None, 20)                40        \n",
            "_________________________________________________________________\n",
            "dense_6 (Dense)              (None, 1)                 21        \n",
            "=================================================================\n",
            "Total params: 61\n",
            "Trainable params: 61\n",
            "Non-trainable params: 0\n",
            "_________________________________________________________________\n"
          ],
          "name": "stdout"
        }
      ]
    },
    {
      "cell_type": "markdown",
      "metadata": {
        "id": "XVn-bMJReWx5"
      },
      "source": [
        "**Note:** One of our main goals should be to minimize the time between our experiments. The more experiments we do , the more thing we will figure it out, which don't work and in turn, get closer to figuring out what does work. Remember the machine learning practioner's moto: \"Experiment , experiment, experiment\""
      ]
    },
    {
      "cell_type": "markdown",
      "metadata": {
        "id": "2A_m2rlweFBR"
      },
      "source": [
        "## Tracking your experiments\n",
        "one really good habit in machine learning experiments is to track the results of our experiments.\n",
        "\n",
        "And when doing so, it can be tedious if you're running lots of experiments.\n",
        "\n",
        "Luckly, ther are tools to help us!\n",
        "\n",
        "**Resource:** As we build more models, we'll want to look in using:\n",
        "\n",
        "* TensorBoard - a component of the Tensorflow library to help track modelling experiments (we'll see this one later)\n",
        "\n",
        "* Weights & Biases - atool for tracking all of kinds of machine learning experiments (plugs straight into TensorBoard)"
      ]
    },
    {
      "cell_type": "markdown",
      "metadata": {
        "id": "3IjvxXQGgXFO"
      },
      "source": [
        "### Save out models\n",
        "\n",
        "saving our models allows us to use them outside of the Google Colab (or wherever they were trained) such as in a web application or a mobile app.\n",
        "\n",
        "There are two main formats we can save our model's too:\n",
        "\n",
        "1. The SavedModel format\n",
        "2. The HDF5 format"
      ]
    },
    {
      "cell_type": "code",
      "metadata": {
        "id": "GPpbutIaNBLG",
        "colab": {
          "base_uri": "https://localhost:8080/"
        },
        "outputId": "9d9af964-2116-46a0-de5c-05c33c244536"
      },
      "source": [
        "# Save model using SaveModel Format\n",
        "model_2.save(\"Best_model_SavedModel_format\")"
      ],
      "execution_count": 52,
      "outputs": [
        {
          "output_type": "stream",
          "text": [
            "INFO:tensorflow:Assets written to: Best_model_SavedModel_format/assets\n"
          ],
          "name": "stdout"
        }
      ]
    },
    {
      "cell_type": "code",
      "metadata": {
        "id": "VZzwmy8aOOaF"
      },
      "source": [
        "# Save model using HDF5 format\n",
        "model_2.save(\"Best_model_SavedModel_format.h5\")"
      ],
      "execution_count": 53,
      "outputs": []
    },
    {
      "cell_type": "markdown",
      "metadata": {
        "id": "332t_BpLO5XM"
      },
      "source": [
        "##Loading in the Saved Model"
      ]
    },
    {
      "cell_type": "code",
      "metadata": {
        "id": "6F21HzcQQnmT",
        "colab": {
          "base_uri": "https://localhost:8080/"
        },
        "outputId": "d8e1a738-8fee-4c16-f2f8-c9129a4826ea"
      },
      "source": [
        "# Load in the SavedModel format model\n",
        "load_SavedModel_format =tf.keras.models.load_model(\"/content/Best_model_SavedModel_format\")\n",
        "load_SavedModel_format.summary()"
      ],
      "execution_count": 54,
      "outputs": [
        {
          "output_type": "stream",
          "text": [
            "Model: \"sequential_5\"\n",
            "_________________________________________________________________\n",
            "Layer (type)                 Output Shape              Param #   \n",
            "=================================================================\n",
            "dense_5 (Dense)              (None, 20)                40        \n",
            "_________________________________________________________________\n",
            "dense_6 (Dense)              (None, 1)                 21        \n",
            "=================================================================\n",
            "Total params: 61\n",
            "Trainable params: 61\n",
            "Non-trainable params: 0\n",
            "_________________________________________________________________\n"
          ],
          "name": "stdout"
        }
      ]
    },
    {
      "cell_type": "code",
      "metadata": {
        "id": "k2W7Ig9dQ8Mv",
        "colab": {
          "base_uri": "https://localhost:8080/"
        },
        "outputId": "d4c923dd-5a03-4663-f855-ec9891a8c9e8"
      },
      "source": [
        "# Compare model_2 predictions with SavedModel format model predictions\n",
        "model_2_preds = model_2.predict(X_test)\n",
        "load_SavedModel_format_preds = load_SavedModel_format.predict(X_test)\n",
        "model_2_preds == load_SavedModel_format_preds"
      ],
      "execution_count": 55,
      "outputs": [
        {
          "output_type": "execute_result",
          "data": {
            "text/plain": [
              "array([[ True],\n",
              "       [ True],\n",
              "       [ True],\n",
              "       [ True],\n",
              "       [ True],\n",
              "       [ True],\n",
              "       [ True],\n",
              "       [ True],\n",
              "       [ True],\n",
              "       [ True]])"
            ]
          },
          "metadata": {
            "tags": []
          },
          "execution_count": 55
        }
      ]
    },
    {
      "cell_type": "code",
      "metadata": {
        "id": "9THhvZ9XS3ys",
        "colab": {
          "base_uri": "https://localhost:8080/"
        },
        "outputId": "63451de3-d596-483c-a23c-acffbede062d"
      },
      "source": [
        "# Load in a model using the .h5 format\n",
        "load_h5_format =tf.keras.models.load_model(\"/content/Best_model_SavedModel_format.h5\")\n",
        "load_h5_format.summary()"
      ],
      "execution_count": 56,
      "outputs": [
        {
          "output_type": "stream",
          "text": [
            "Model: \"sequential_5\"\n",
            "_________________________________________________________________\n",
            "Layer (type)                 Output Shape              Param #   \n",
            "=================================================================\n",
            "dense_5 (Dense)              (None, 20)                40        \n",
            "_________________________________________________________________\n",
            "dense_6 (Dense)              (None, 1)                 21        \n",
            "=================================================================\n",
            "Total params: 61\n",
            "Trainable params: 61\n",
            "Non-trainable params: 0\n",
            "_________________________________________________________________\n"
          ],
          "name": "stdout"
        }
      ]
    },
    {
      "cell_type": "code",
      "metadata": {
        "id": "nCq0dE8BT1KZ",
        "colab": {
          "base_uri": "https://localhost:8080/"
        },
        "outputId": "e8f8a81f-3084-4624-b162-d2ce988f2282"
      },
      "source": [
        "# Compare model_2 predictions with HDF5 format model predictions\n",
        "model_2_preds = model_2.predict(X_test)\n",
        "load_h5_format_preds = load_h5_format.predict(X_test)\n",
        "model_2_preds == load_h5_format_preds"
      ],
      "execution_count": 57,
      "outputs": [
        {
          "output_type": "execute_result",
          "data": {
            "text/plain": [
              "array([[ True],\n",
              "       [ True],\n",
              "       [ True],\n",
              "       [ True],\n",
              "       [ True],\n",
              "       [ True],\n",
              "       [ True],\n",
              "       [ True],\n",
              "       [ True],\n",
              "       [ True]])"
            ]
          },
          "metadata": {
            "tags": []
          },
          "execution_count": 57
        }
      ]
    },
    {
      "cell_type": "markdown",
      "metadata": {
        "id": "1SLfhUImT-5a"
      },
      "source": [
        "## Download a model(or any other file) from Google Colab\n",
        "\n",
        "If yo want to download your files from Google Colab:\n",
        "1. You can go to the \"files\" tab and right click on the file you are after and download.\n",
        "\n",
        "2. use code (see the cell below)\n",
        "3. Save it to Google Drive by connecting Google Drive and copying it there(see 2n code cell below)"
      ]
    },
    {
      "cell_type": "code",
      "metadata": {
        "id": "tT-axVmJUlxD",
        "colab": {
          "base_uri": "https://localhost:8080/",
          "height": 0
        },
        "outputId": "c22f9406-2edd-4049-e66a-42fb94b688d3"
      },
      "source": [
        "# Download a file from Google Colab\n",
        "from google.colab import files\n",
        "files.download(\"/content/Best_model_SavedModel_format.h5\")"
      ],
      "execution_count": 58,
      "outputs": [
        {
          "output_type": "display_data",
          "data": {
            "application/javascript": [
              "\n",
              "    async function download(id, filename, size) {\n",
              "      if (!google.colab.kernel.accessAllowed) {\n",
              "        return;\n",
              "      }\n",
              "      const div = document.createElement('div');\n",
              "      const label = document.createElement('label');\n",
              "      label.textContent = `Downloading \"${filename}\": `;\n",
              "      div.appendChild(label);\n",
              "      const progress = document.createElement('progress');\n",
              "      progress.max = size;\n",
              "      div.appendChild(progress);\n",
              "      document.body.appendChild(div);\n",
              "\n",
              "      const buffers = [];\n",
              "      let downloaded = 0;\n",
              "\n",
              "      const channel = await google.colab.kernel.comms.open(id);\n",
              "      // Send a message to notify the kernel that we're ready.\n",
              "      channel.send({})\n",
              "\n",
              "      for await (const message of channel.messages) {\n",
              "        // Send a message to notify the kernel that we're ready.\n",
              "        channel.send({})\n",
              "        if (message.buffers) {\n",
              "          for (const buffer of message.buffers) {\n",
              "            buffers.push(buffer);\n",
              "            downloaded += buffer.byteLength;\n",
              "            progress.value = downloaded;\n",
              "          }\n",
              "        }\n",
              "      }\n",
              "      const blob = new Blob(buffers, {type: 'application/binary'});\n",
              "      const a = document.createElement('a');\n",
              "      a.href = window.URL.createObjectURL(blob);\n",
              "      a.download = filename;\n",
              "      div.appendChild(a);\n",
              "      a.click();\n",
              "      div.remove();\n",
              "    }\n",
              "  "
            ],
            "text/plain": [
              "<IPython.core.display.Javascript object>"
            ]
          },
          "metadata": {
            "tags": []
          }
        },
        {
          "output_type": "display_data",
          "data": {
            "application/javascript": [
              "download(\"download_584a26cb-bd39-4fe4-b3c9-c22fb44db7fc\", \"Best_model_SavedModel_format.h5\", 17040)"
            ],
            "text/plain": [
              "<IPython.core.display.Javascript object>"
            ]
          },
          "metadata": {
            "tags": []
          }
        }
      ]
    },
    {
      "cell_type": "code",
      "metadata": {
        "id": "Y3klviA7VSSo"
      },
      "source": [
        "# Save a file from Google Colab to Google Drive (requires mounting Google Drive)\n",
        "!cp /content/Best_model_SavedModel_format.h5 /content/drive/MyDrive"
      ],
      "execution_count": 59,
      "outputs": []
    },
    {
      "cell_type": "code",
      "metadata": {
        "id": "CH3Tg7diWCCq",
        "colab": {
          "base_uri": "https://localhost:8080/"
        },
        "outputId": "5fbed8d0-9bd0-4a3e-881d-2d6477f08e63"
      },
      "source": [
        "!ls /content/drive/MyDrive"
      ],
      "execution_count": 60,
      "outputs": [
        {
          "output_type": "stream",
          "text": [
            " 01_Components_of_DeepLearning.ipynb\t\t Post-reads.docx\n",
            " 9AF1E1E0-82F6-4E71-8DD1-BD006D402D55.jpeg\t Post-reads.pdf\n",
            " AC0122FE-5D49-465D-8C28-BAB150252DC3.jpeg\t'PPT (1).pdf'\n",
            "'Applications of Artificial Intelligence.pdf'\t'PPT (1).ppsx'\n",
            "'Applications of Artificial Intelligence.ppsx'\t'PPT (1).pptx'\n",
            "'Applications of Artificial Intelligence.pptx'\t'PPT (2).pdf'\n",
            " Best_model_SavedModel_format.h5\t\t'PPT (2).ppsx'\n",
            " certificates\t\t\t\t\t'PPT (2).pptx'\n",
            "'Colab Notebooks'\t\t\t\t'PPT (3).pdf'\n",
            "'Course Overview.pptx'\t\t\t\t'PPT (3).ppsx'\n",
            " CV2_Module1_Assignment_Problems.ipynb\t\t'PPT (3).pptx'\n",
            "' CV2_Module4_Assignment _Problems.ipynb'\t PPT.pdf\n",
            "'CV-II Overview.pdf'\t\t\t\t PPT.ppsx\n",
            "'CV-II Overview.pptx'\t\t\t\t PPT.pptx\n",
            "' DLF_Module4_Assignment_Problems.ipynb'\t'Pre-read (1).docx'\n",
            " DLF_Module5_Assignment_Problems.ipynb\t\t'Pre-read 1.docx'\n",
            " dogs-vs-cats.zip\t\t\t\t'Pre-read (1).pdf'\n",
            "'INSAID work'\t\t\t\t\t'Pre-read 1.pdf'\n",
            "'Introduction to Artificial Intelligence.pdf'\t'Pre-read (2).docx'\n",
            "'Introduction to Artificial Intelligence.ppsx'\t'Pre-read 2.docx'\n",
            "'Introduction to Artificial Intelligence.pptx'\t'Pre-read (2).pdf'\n",
            " NLP1_Module2_Assignment_Questions.ipynb\t'Pre-read 2.pdf'\n",
            " NLP1_Module4_Assignment_Questions.ipynb\t'Pre-read (3).docx'\n",
            "'Post-read (10).docx'\t\t\t\t'Pre-read (3).pdf'\n",
            "'Post-read (1).docx'\t\t\t\t'Pre-read (4).docx'\n",
            "'Post-read (1).pdf'\t\t\t\t'Pre-read (4).pdf'\n",
            "'Post-read (2).docx'\t\t\t\t'Pre-read (5).docx'\n",
            "'Post-read (2).pdf'\t\t\t\t'Pre-read (5).pdf'\n",
            "'Post-read (3).docx'\t\t\t\t'Pre-read (6).docx'\n",
            "'Post-read (3).pdf'\t\t\t\t'Pre-read (6).pdf'\n",
            "'Post-read (4).docx'\t\t\t\t'Pre-read (7).docx'\n",
            "'Post-read (4).pdf'\t\t\t\t'Pre-read (7).pdf'\n",
            "'Post-read (5).docx'\t\t\t\t'Pre-read (8).docx'\n",
            "'Post-read (5).pdf'\t\t\t\t'Pre-read (9).docx'\n",
            "'Post-read (6).docx'\t\t\t\t Pre-read.docx\n",
            "'Post-read (6).pdf'\t\t\t\t Pre-read.pdf\n",
            "'Post-read (7).docx'\t\t\t\t'Pre-reads (1).docx'\n",
            "'Post-read (7).pdf'\t\t\t\t'Pre-reads (1).pdf'\n",
            "'Post-read (8).docx'\t\t\t\t'Pre-reads (2).docx'\n",
            "'Post-read (8).pdf'\t\t\t\t'Pre-reads (2).pdf'\n",
            "'Post-read (9).docx'\t\t\t\t'Pre-reads (3).docx'\n",
            " Post-read.docx\t\t\t\t\t'Pre-reads (3).pdf'\n",
            " Post-read.pdf\t\t\t\t\t'Pre-reads (4).docx'\n",
            "'Post-reads (1).docx'\t\t\t\t'Pre-reads (4).pdf'\n",
            "'Post-reads (1).pdf'\t\t\t\t'Pre-reads (5).docx'\n",
            "'Post-reads (2).docx'\t\t\t\t'Pre-reads (5).pdf'\n",
            "'Post-reads (2).pdf'\t\t\t\t'Pre-reads (6).docx'\n",
            "'Post-reads (3).docx'\t\t\t\t'Pre-reads (6).pdf'\n",
            "'Post-reads (3).pdf'\t\t\t\t'Pre-reads (7).docx'\n",
            "'Post-reads (4).docx'\t\t\t\t'Pre-reads (7).pdf'\n",
            "'Post-reads (4).pdf'\t\t\t\t Pre-reads.docx\n",
            "'Post-reads (5).docx'\t\t\t\t Pre-reads.pdf\n",
            "'Post-reads (5).pdf'\t\t\t\t'Quiz (1).xlsx'\n",
            "'Post-reads (6).docx'\t\t\t\t'Quiz (2).xlsx'\n",
            "'Post-reads (6).pdf'\t\t\t\t Quiz.gsheet\n",
            "'Post-reads (7).docx'\t\t\t\t Quiz.xlsx\n",
            "'Post-reads (7).pdf'\t\t\t\t Upload_submission.png\n"
          ],
          "name": "stdout"
        }
      ]
    },
    {
      "cell_type": "markdown",
      "metadata": {
        "id": "jsDlG6NkWHks"
      },
      "source": [
        "## A Larger Example"
      ]
    },
    {
      "cell_type": "code",
      "metadata": {
        "id": "_lAjU8WOXUZU"
      },
      "source": [
        "# Import required libraries \n",
        "import tensorflow as tf\n",
        "import pandas as pd\n",
        "import matplotlib.pyplot as plt\n"
      ],
      "execution_count": 61,
      "outputs": []
    },
    {
      "cell_type": "code",
      "metadata": {
        "id": "jiV7OoQaYZ5r",
        "colab": {
          "base_uri": "https://localhost:8080/",
          "height": 423
        },
        "outputId": "598e4563-f8bc-40be-b4ba-77dd4e16eef0"
      },
      "source": [
        "insurance = pd.read_csv(\"https://raw.githubusercontent.com/stedy/Machine-Learning-with-R-datasets/master/insurance.csv\")\n",
        "insurance"
      ],
      "execution_count": 62,
      "outputs": [
        {
          "output_type": "execute_result",
          "data": {
            "text/html": [
              "<div>\n",
              "<style scoped>\n",
              "    .dataframe tbody tr th:only-of-type {\n",
              "        vertical-align: middle;\n",
              "    }\n",
              "\n",
              "    .dataframe tbody tr th {\n",
              "        vertical-align: top;\n",
              "    }\n",
              "\n",
              "    .dataframe thead th {\n",
              "        text-align: right;\n",
              "    }\n",
              "</style>\n",
              "<table border=\"1\" class=\"dataframe\">\n",
              "  <thead>\n",
              "    <tr style=\"text-align: right;\">\n",
              "      <th></th>\n",
              "      <th>age</th>\n",
              "      <th>sex</th>\n",
              "      <th>bmi</th>\n",
              "      <th>children</th>\n",
              "      <th>smoker</th>\n",
              "      <th>region</th>\n",
              "      <th>charges</th>\n",
              "    </tr>\n",
              "  </thead>\n",
              "  <tbody>\n",
              "    <tr>\n",
              "      <th>0</th>\n",
              "      <td>19</td>\n",
              "      <td>female</td>\n",
              "      <td>27.900</td>\n",
              "      <td>0</td>\n",
              "      <td>yes</td>\n",
              "      <td>southwest</td>\n",
              "      <td>16884.92400</td>\n",
              "    </tr>\n",
              "    <tr>\n",
              "      <th>1</th>\n",
              "      <td>18</td>\n",
              "      <td>male</td>\n",
              "      <td>33.770</td>\n",
              "      <td>1</td>\n",
              "      <td>no</td>\n",
              "      <td>southeast</td>\n",
              "      <td>1725.55230</td>\n",
              "    </tr>\n",
              "    <tr>\n",
              "      <th>2</th>\n",
              "      <td>28</td>\n",
              "      <td>male</td>\n",
              "      <td>33.000</td>\n",
              "      <td>3</td>\n",
              "      <td>no</td>\n",
              "      <td>southeast</td>\n",
              "      <td>4449.46200</td>\n",
              "    </tr>\n",
              "    <tr>\n",
              "      <th>3</th>\n",
              "      <td>33</td>\n",
              "      <td>male</td>\n",
              "      <td>22.705</td>\n",
              "      <td>0</td>\n",
              "      <td>no</td>\n",
              "      <td>northwest</td>\n",
              "      <td>21984.47061</td>\n",
              "    </tr>\n",
              "    <tr>\n",
              "      <th>4</th>\n",
              "      <td>32</td>\n",
              "      <td>male</td>\n",
              "      <td>28.880</td>\n",
              "      <td>0</td>\n",
              "      <td>no</td>\n",
              "      <td>northwest</td>\n",
              "      <td>3866.85520</td>\n",
              "    </tr>\n",
              "    <tr>\n",
              "      <th>...</th>\n",
              "      <td>...</td>\n",
              "      <td>...</td>\n",
              "      <td>...</td>\n",
              "      <td>...</td>\n",
              "      <td>...</td>\n",
              "      <td>...</td>\n",
              "      <td>...</td>\n",
              "    </tr>\n",
              "    <tr>\n",
              "      <th>1333</th>\n",
              "      <td>50</td>\n",
              "      <td>male</td>\n",
              "      <td>30.970</td>\n",
              "      <td>3</td>\n",
              "      <td>no</td>\n",
              "      <td>northwest</td>\n",
              "      <td>10600.54830</td>\n",
              "    </tr>\n",
              "    <tr>\n",
              "      <th>1334</th>\n",
              "      <td>18</td>\n",
              "      <td>female</td>\n",
              "      <td>31.920</td>\n",
              "      <td>0</td>\n",
              "      <td>no</td>\n",
              "      <td>northeast</td>\n",
              "      <td>2205.98080</td>\n",
              "    </tr>\n",
              "    <tr>\n",
              "      <th>1335</th>\n",
              "      <td>18</td>\n",
              "      <td>female</td>\n",
              "      <td>36.850</td>\n",
              "      <td>0</td>\n",
              "      <td>no</td>\n",
              "      <td>southeast</td>\n",
              "      <td>1629.83350</td>\n",
              "    </tr>\n",
              "    <tr>\n",
              "      <th>1336</th>\n",
              "      <td>21</td>\n",
              "      <td>female</td>\n",
              "      <td>25.800</td>\n",
              "      <td>0</td>\n",
              "      <td>no</td>\n",
              "      <td>southwest</td>\n",
              "      <td>2007.94500</td>\n",
              "    </tr>\n",
              "    <tr>\n",
              "      <th>1337</th>\n",
              "      <td>61</td>\n",
              "      <td>female</td>\n",
              "      <td>29.070</td>\n",
              "      <td>0</td>\n",
              "      <td>yes</td>\n",
              "      <td>northwest</td>\n",
              "      <td>29141.36030</td>\n",
              "    </tr>\n",
              "  </tbody>\n",
              "</table>\n",
              "<p>1338 rows × 7 columns</p>\n",
              "</div>"
            ],
            "text/plain": [
              "      age     sex     bmi  children smoker     region      charges\n",
              "0      19  female  27.900         0    yes  southwest  16884.92400\n",
              "1      18    male  33.770         1     no  southeast   1725.55230\n",
              "2      28    male  33.000         3     no  southeast   4449.46200\n",
              "3      33    male  22.705         0     no  northwest  21984.47061\n",
              "4      32    male  28.880         0     no  northwest   3866.85520\n",
              "...   ...     ...     ...       ...    ...        ...          ...\n",
              "1333   50    male  30.970         3     no  northwest  10600.54830\n",
              "1334   18  female  31.920         0     no  northeast   2205.98080\n",
              "1335   18  female  36.850         0     no  southeast   1629.83350\n",
              "1336   21  female  25.800         0     no  southwest   2007.94500\n",
              "1337   61  female  29.070         0    yes  northwest  29141.36030\n",
              "\n",
              "[1338 rows x 7 columns]"
            ]
          },
          "metadata": {
            "tags": []
          },
          "execution_count": 62
        }
      ]
    },
    {
      "cell_type": "code",
      "metadata": {
        "id": "xWqjrTGBYhpN",
        "colab": {
          "base_uri": "https://localhost:8080/",
          "height": 443
        },
        "outputId": "9aff102b-43da-417f-844b-20f6ade19ab0"
      },
      "source": [
        "# Let's try one-hot encode our DataFrame so it's all numbers \n",
        "insurance_one_hot = pd.get_dummies(insurance)\n",
        "insurance_one_hot "
      ],
      "execution_count": 63,
      "outputs": [
        {
          "output_type": "execute_result",
          "data": {
            "text/html": [
              "<div>\n",
              "<style scoped>\n",
              "    .dataframe tbody tr th:only-of-type {\n",
              "        vertical-align: middle;\n",
              "    }\n",
              "\n",
              "    .dataframe tbody tr th {\n",
              "        vertical-align: top;\n",
              "    }\n",
              "\n",
              "    .dataframe thead th {\n",
              "        text-align: right;\n",
              "    }\n",
              "</style>\n",
              "<table border=\"1\" class=\"dataframe\">\n",
              "  <thead>\n",
              "    <tr style=\"text-align: right;\">\n",
              "      <th></th>\n",
              "      <th>age</th>\n",
              "      <th>bmi</th>\n",
              "      <th>children</th>\n",
              "      <th>charges</th>\n",
              "      <th>sex_female</th>\n",
              "      <th>sex_male</th>\n",
              "      <th>smoker_no</th>\n",
              "      <th>smoker_yes</th>\n",
              "      <th>region_northeast</th>\n",
              "      <th>region_northwest</th>\n",
              "      <th>region_southeast</th>\n",
              "      <th>region_southwest</th>\n",
              "    </tr>\n",
              "  </thead>\n",
              "  <tbody>\n",
              "    <tr>\n",
              "      <th>0</th>\n",
              "      <td>19</td>\n",
              "      <td>27.900</td>\n",
              "      <td>0</td>\n",
              "      <td>16884.92400</td>\n",
              "      <td>1</td>\n",
              "      <td>0</td>\n",
              "      <td>0</td>\n",
              "      <td>1</td>\n",
              "      <td>0</td>\n",
              "      <td>0</td>\n",
              "      <td>0</td>\n",
              "      <td>1</td>\n",
              "    </tr>\n",
              "    <tr>\n",
              "      <th>1</th>\n",
              "      <td>18</td>\n",
              "      <td>33.770</td>\n",
              "      <td>1</td>\n",
              "      <td>1725.55230</td>\n",
              "      <td>0</td>\n",
              "      <td>1</td>\n",
              "      <td>1</td>\n",
              "      <td>0</td>\n",
              "      <td>0</td>\n",
              "      <td>0</td>\n",
              "      <td>1</td>\n",
              "      <td>0</td>\n",
              "    </tr>\n",
              "    <tr>\n",
              "      <th>2</th>\n",
              "      <td>28</td>\n",
              "      <td>33.000</td>\n",
              "      <td>3</td>\n",
              "      <td>4449.46200</td>\n",
              "      <td>0</td>\n",
              "      <td>1</td>\n",
              "      <td>1</td>\n",
              "      <td>0</td>\n",
              "      <td>0</td>\n",
              "      <td>0</td>\n",
              "      <td>1</td>\n",
              "      <td>0</td>\n",
              "    </tr>\n",
              "    <tr>\n",
              "      <th>3</th>\n",
              "      <td>33</td>\n",
              "      <td>22.705</td>\n",
              "      <td>0</td>\n",
              "      <td>21984.47061</td>\n",
              "      <td>0</td>\n",
              "      <td>1</td>\n",
              "      <td>1</td>\n",
              "      <td>0</td>\n",
              "      <td>0</td>\n",
              "      <td>1</td>\n",
              "      <td>0</td>\n",
              "      <td>0</td>\n",
              "    </tr>\n",
              "    <tr>\n",
              "      <th>4</th>\n",
              "      <td>32</td>\n",
              "      <td>28.880</td>\n",
              "      <td>0</td>\n",
              "      <td>3866.85520</td>\n",
              "      <td>0</td>\n",
              "      <td>1</td>\n",
              "      <td>1</td>\n",
              "      <td>0</td>\n",
              "      <td>0</td>\n",
              "      <td>1</td>\n",
              "      <td>0</td>\n",
              "      <td>0</td>\n",
              "    </tr>\n",
              "    <tr>\n",
              "      <th>...</th>\n",
              "      <td>...</td>\n",
              "      <td>...</td>\n",
              "      <td>...</td>\n",
              "      <td>...</td>\n",
              "      <td>...</td>\n",
              "      <td>...</td>\n",
              "      <td>...</td>\n",
              "      <td>...</td>\n",
              "      <td>...</td>\n",
              "      <td>...</td>\n",
              "      <td>...</td>\n",
              "      <td>...</td>\n",
              "    </tr>\n",
              "    <tr>\n",
              "      <th>1333</th>\n",
              "      <td>50</td>\n",
              "      <td>30.970</td>\n",
              "      <td>3</td>\n",
              "      <td>10600.54830</td>\n",
              "      <td>0</td>\n",
              "      <td>1</td>\n",
              "      <td>1</td>\n",
              "      <td>0</td>\n",
              "      <td>0</td>\n",
              "      <td>1</td>\n",
              "      <td>0</td>\n",
              "      <td>0</td>\n",
              "    </tr>\n",
              "    <tr>\n",
              "      <th>1334</th>\n",
              "      <td>18</td>\n",
              "      <td>31.920</td>\n",
              "      <td>0</td>\n",
              "      <td>2205.98080</td>\n",
              "      <td>1</td>\n",
              "      <td>0</td>\n",
              "      <td>1</td>\n",
              "      <td>0</td>\n",
              "      <td>1</td>\n",
              "      <td>0</td>\n",
              "      <td>0</td>\n",
              "      <td>0</td>\n",
              "    </tr>\n",
              "    <tr>\n",
              "      <th>1335</th>\n",
              "      <td>18</td>\n",
              "      <td>36.850</td>\n",
              "      <td>0</td>\n",
              "      <td>1629.83350</td>\n",
              "      <td>1</td>\n",
              "      <td>0</td>\n",
              "      <td>1</td>\n",
              "      <td>0</td>\n",
              "      <td>0</td>\n",
              "      <td>0</td>\n",
              "      <td>1</td>\n",
              "      <td>0</td>\n",
              "    </tr>\n",
              "    <tr>\n",
              "      <th>1336</th>\n",
              "      <td>21</td>\n",
              "      <td>25.800</td>\n",
              "      <td>0</td>\n",
              "      <td>2007.94500</td>\n",
              "      <td>1</td>\n",
              "      <td>0</td>\n",
              "      <td>1</td>\n",
              "      <td>0</td>\n",
              "      <td>0</td>\n",
              "      <td>0</td>\n",
              "      <td>0</td>\n",
              "      <td>1</td>\n",
              "    </tr>\n",
              "    <tr>\n",
              "      <th>1337</th>\n",
              "      <td>61</td>\n",
              "      <td>29.070</td>\n",
              "      <td>0</td>\n",
              "      <td>29141.36030</td>\n",
              "      <td>1</td>\n",
              "      <td>0</td>\n",
              "      <td>0</td>\n",
              "      <td>1</td>\n",
              "      <td>0</td>\n",
              "      <td>1</td>\n",
              "      <td>0</td>\n",
              "      <td>0</td>\n",
              "    </tr>\n",
              "  </tbody>\n",
              "</table>\n",
              "<p>1338 rows × 12 columns</p>\n",
              "</div>"
            ],
            "text/plain": [
              "      age     bmi  ...  region_southeast  region_southwest\n",
              "0      19  27.900  ...                 0                 1\n",
              "1      18  33.770  ...                 1                 0\n",
              "2      28  33.000  ...                 1                 0\n",
              "3      33  22.705  ...                 0                 0\n",
              "4      32  28.880  ...                 0                 0\n",
              "...   ...     ...  ...               ...               ...\n",
              "1333   50  30.970  ...                 0                 0\n",
              "1334   18  31.920  ...                 0                 0\n",
              "1335   18  36.850  ...                 1                 0\n",
              "1336   21  25.800  ...                 0                 1\n",
              "1337   61  29.070  ...                 0                 0\n",
              "\n",
              "[1338 rows x 12 columns]"
            ]
          },
          "metadata": {
            "tags": []
          },
          "execution_count": 63
        }
      ]
    },
    {
      "cell_type": "code",
      "metadata": {
        "id": "5Ldh2TMuaFA3"
      },
      "source": [
        "# Create X & y values (features and labels)\n",
        "# Create training and test sets\n",
        "# Build a neural network (sort of like model_2 above)\n",
        "X = insurance_one_hot.drop(columns=['charges'], axis=1)\n",
        "y = insurance_one_hot['charges']"
      ],
      "execution_count": 64,
      "outputs": []
    },
    {
      "cell_type": "code",
      "metadata": {
        "id": "XLS6_TtybOqP",
        "colab": {
          "base_uri": "https://localhost:8080/"
        },
        "outputId": "4f66ea05-6b0b-4c43-d469-7f387fd695b4"
      },
      "source": [
        "from sklearn.model_selection import train_test_split\n",
        "\n",
        "X_train,X_test,y_train,y_test = train_test_split(X, y, test_size = 0.20, random_state=42)\n",
        "len(X), len(X_train), len(X_test)"
      ],
      "execution_count": 65,
      "outputs": [
        {
          "output_type": "execute_result",
          "data": {
            "text/plain": [
              "(1338, 1070, 268)"
            ]
          },
          "metadata": {
            "tags": []
          },
          "execution_count": 65
        }
      ]
    },
    {
      "cell_type": "code",
      "metadata": {
        "id": "i2mhJ8zIcO7V",
        "colab": {
          "base_uri": "https://localhost:8080/"
        },
        "outputId": "fe740aed-a9f7-4fd7-b9a4-0fbb6ad6a213"
      },
      "source": [
        "# Build aneural network (sort of like model_2 above)\n",
        "tf.random.set_seed(42)\n",
        "\n",
        "# Create model\n",
        "insurance_model = tf.keras.Sequential([\n",
        "   tf.keras.layers.Dense(10),\n",
        "   tf.keras.layers.Dense(1)                                   \n",
        "])\n",
        "\n",
        "# 2. Compile the model\n",
        "insurance_model.compile(loss=tf.keras.losses.mae,\n",
        "                        optimizer=tf.keras.optimizers.SGD(),\n",
        "                        metrics=[\"mae\"])\n",
        "# 3. Fit the model\n",
        "insurance_model.fit(X_train,y_train,epochs=100)"
      ],
      "execution_count": 66,
      "outputs": [
        {
          "output_type": "stream",
          "text": [
            "Epoch 1/100\n",
            "34/34 [==============================] - 0s 1ms/step - loss: 8637.1006 - mae: 8637.1006\n",
            "Epoch 2/100\n",
            "34/34 [==============================] - 0s 1ms/step - loss: 7886.7759 - mae: 7886.7759\n",
            "Epoch 3/100\n",
            "34/34 [==============================] - 0s 2ms/step - loss: 7558.1470 - mae: 7558.1470\n",
            "Epoch 4/100\n",
            "34/34 [==============================] - 0s 1ms/step - loss: 7792.0220 - mae: 7792.0220\n",
            "Epoch 5/100\n",
            "34/34 [==============================] - 0s 1ms/step - loss: 7748.3887 - mae: 7748.3887\n",
            "Epoch 6/100\n",
            "34/34 [==============================] - 0s 1ms/step - loss: 7595.3940 - mae: 7595.3940\n",
            "Epoch 7/100\n",
            "34/34 [==============================] - 0s 1ms/step - loss: 7589.9844 - mae: 7589.9844\n",
            "Epoch 8/100\n",
            "34/34 [==============================] - 0s 1ms/step - loss: 7698.5576 - mae: 7698.5576\n",
            "Epoch 9/100\n",
            "34/34 [==============================] - 0s 1ms/step - loss: 7496.7778 - mae: 7496.7778\n",
            "Epoch 10/100\n",
            "34/34 [==============================] - 0s 1ms/step - loss: 7493.1743 - mae: 7493.1743\n",
            "Epoch 11/100\n",
            "34/34 [==============================] - 0s 2ms/step - loss: 7769.7295 - mae: 7769.7295\n",
            "Epoch 12/100\n",
            "34/34 [==============================] - 0s 1ms/step - loss: 7706.9028 - mae: 7706.9028\n",
            "Epoch 13/100\n",
            "34/34 [==============================] - 0s 1ms/step - loss: 7687.7231 - mae: 7687.7231\n",
            "Epoch 14/100\n",
            "34/34 [==============================] - 0s 1ms/step - loss: 7689.9004 - mae: 7689.9004\n",
            "Epoch 15/100\n",
            "34/34 [==============================] - 0s 1ms/step - loss: 7393.5327 - mae: 7393.5327\n",
            "Epoch 16/100\n",
            "34/34 [==============================] - 0s 1ms/step - loss: 7780.6987 - mae: 7780.6987\n",
            "Epoch 17/100\n",
            "34/34 [==============================] - 0s 1ms/step - loss: 7578.5098 - mae: 7578.5098\n",
            "Epoch 18/100\n",
            "34/34 [==============================] - 0s 2ms/step - loss: 7750.8354 - mae: 7750.8354\n",
            "Epoch 19/100\n",
            "34/34 [==============================] - 0s 1ms/step - loss: 7739.2144 - mae: 7739.2144\n",
            "Epoch 20/100\n",
            "34/34 [==============================] - 0s 2ms/step - loss: 7875.0654 - mae: 7875.0654\n",
            "Epoch 21/100\n",
            "34/34 [==============================] - 0s 1ms/step - loss: 7466.6768 - mae: 7466.6768\n",
            "Epoch 22/100\n",
            "34/34 [==============================] - 0s 1ms/step - loss: 7941.2329 - mae: 7941.2329\n",
            "Epoch 23/100\n",
            "34/34 [==============================] - 0s 1ms/step - loss: 7640.2725 - mae: 7640.2725\n",
            "Epoch 24/100\n",
            "34/34 [==============================] - 0s 1ms/step - loss: 7539.2671 - mae: 7539.2671\n",
            "Epoch 25/100\n",
            "34/34 [==============================] - 0s 1ms/step - loss: 7619.9653 - mae: 7619.9653\n",
            "Epoch 26/100\n",
            "34/34 [==============================] - 0s 1ms/step - loss: 7644.1719 - mae: 7644.1719\n",
            "Epoch 27/100\n",
            "34/34 [==============================] - 0s 1ms/step - loss: 7709.0371 - mae: 7709.0371\n",
            "Epoch 28/100\n",
            "34/34 [==============================] - 0s 1ms/step - loss: 7366.8662 - mae: 7366.8662\n",
            "Epoch 29/100\n",
            "34/34 [==============================] - 0s 1ms/step - loss: 7444.3154 - mae: 7444.3154\n",
            "Epoch 30/100\n",
            "34/34 [==============================] - 0s 1ms/step - loss: 7616.4077 - mae: 7616.4077\n",
            "Epoch 31/100\n",
            "34/34 [==============================] - 0s 2ms/step - loss: 7686.3853 - mae: 7686.3853\n",
            "Epoch 32/100\n",
            "34/34 [==============================] - 0s 2ms/step - loss: 7548.0977 - mae: 7548.0977\n",
            "Epoch 33/100\n",
            "34/34 [==============================] - 0s 2ms/step - loss: 7501.5532 - mae: 7501.5532\n",
            "Epoch 34/100\n",
            "34/34 [==============================] - 0s 1ms/step - loss: 7363.4160 - mae: 7363.4160\n",
            "Epoch 35/100\n",
            "34/34 [==============================] - 0s 1ms/step - loss: 7295.4478 - mae: 7295.4478\n",
            "Epoch 36/100\n",
            "34/34 [==============================] - 0s 1ms/step - loss: 7569.8813 - mae: 7569.8813\n",
            "Epoch 37/100\n",
            "34/34 [==============================] - 0s 1ms/step - loss: 7548.1997 - mae: 7548.1997\n",
            "Epoch 38/100\n",
            "34/34 [==============================] - 0s 1ms/step - loss: 7424.3975 - mae: 7424.3975\n",
            "Epoch 39/100\n",
            "34/34 [==============================] - 0s 2ms/step - loss: 7529.7734 - mae: 7529.7734\n",
            "Epoch 40/100\n",
            "34/34 [==============================] - 0s 1ms/step - loss: 7467.3232 - mae: 7467.3232\n",
            "Epoch 41/100\n",
            "34/34 [==============================] - 0s 1ms/step - loss: 7635.9292 - mae: 7635.9292\n",
            "Epoch 42/100\n",
            "34/34 [==============================] - 0s 1ms/step - loss: 7536.8398 - mae: 7536.8398\n",
            "Epoch 43/100\n",
            "34/34 [==============================] - 0s 1ms/step - loss: 7616.5859 - mae: 7616.5859\n",
            "Epoch 44/100\n",
            "34/34 [==============================] - 0s 1ms/step - loss: 7439.4941 - mae: 7439.4941\n",
            "Epoch 45/100\n",
            "34/34 [==============================] - 0s 1ms/step - loss: 7538.0151 - mae: 7538.0151\n",
            "Epoch 46/100\n",
            "34/34 [==============================] - 0s 1ms/step - loss: 7415.1470 - mae: 7415.1470\n",
            "Epoch 47/100\n",
            "34/34 [==============================] - 0s 1ms/step - loss: 7420.6938 - mae: 7420.6938\n",
            "Epoch 48/100\n",
            "34/34 [==============================] - 0s 1ms/step - loss: 7509.9839 - mae: 7509.9839\n",
            "Epoch 49/100\n",
            "34/34 [==============================] - 0s 1ms/step - loss: 7541.1133 - mae: 7541.1133\n",
            "Epoch 50/100\n",
            "34/34 [==============================] - 0s 2ms/step - loss: 7467.8643 - mae: 7467.8643\n",
            "Epoch 51/100\n",
            "34/34 [==============================] - 0s 1ms/step - loss: 7389.3560 - mae: 7389.3560\n",
            "Epoch 52/100\n",
            "34/34 [==============================] - 0s 1ms/step - loss: 7499.7749 - mae: 7499.7749\n",
            "Epoch 53/100\n",
            "34/34 [==============================] - 0s 1ms/step - loss: 7523.9282 - mae: 7523.9282\n",
            "Epoch 54/100\n",
            "34/34 [==============================] - 0s 1ms/step - loss: 7243.3115 - mae: 7243.3115\n",
            "Epoch 55/100\n",
            "34/34 [==============================] - 0s 1ms/step - loss: 7429.5864 - mae: 7429.5864\n",
            "Epoch 56/100\n",
            "34/34 [==============================] - 0s 1ms/step - loss: 7313.3999 - mae: 7313.3999\n",
            "Epoch 57/100\n",
            "34/34 [==============================] - 0s 1ms/step - loss: 7526.3877 - mae: 7526.3877\n",
            "Epoch 58/100\n",
            "34/34 [==============================] - 0s 1ms/step - loss: 7542.2666 - mae: 7542.2666\n",
            "Epoch 59/100\n",
            "34/34 [==============================] - 0s 1ms/step - loss: 7576.9277 - mae: 7576.9277\n",
            "Epoch 60/100\n",
            "34/34 [==============================] - 0s 1ms/step - loss: 7546.4048 - mae: 7546.4048\n",
            "Epoch 61/100\n",
            "34/34 [==============================] - 0s 1ms/step - loss: 7351.2261 - mae: 7351.2261\n",
            "Epoch 62/100\n",
            "34/34 [==============================] - 0s 1ms/step - loss: 7302.1436 - mae: 7302.1436\n",
            "Epoch 63/100\n",
            "34/34 [==============================] - 0s 1ms/step - loss: 7393.0879 - mae: 7393.0879\n",
            "Epoch 64/100\n",
            "34/34 [==============================] - 0s 1ms/step - loss: 7442.2881 - mae: 7442.2881\n",
            "Epoch 65/100\n",
            "34/34 [==============================] - 0s 1ms/step - loss: 7492.6782 - mae: 7492.6782\n",
            "Epoch 66/100\n",
            "34/34 [==============================] - 0s 1ms/step - loss: 7561.9165 - mae: 7561.9165\n",
            "Epoch 67/100\n",
            "34/34 [==============================] - 0s 1ms/step - loss: 7340.5137 - mae: 7340.5137\n",
            "Epoch 68/100\n",
            "34/34 [==============================] - 0s 1ms/step - loss: 7496.0845 - mae: 7496.0845\n",
            "Epoch 69/100\n",
            "34/34 [==============================] - 0s 2ms/step - loss: 7617.0303 - mae: 7617.0303\n",
            "Epoch 70/100\n",
            "34/34 [==============================] - 0s 1ms/step - loss: 7641.1948 - mae: 7641.1948\n",
            "Epoch 71/100\n",
            "34/34 [==============================] - 0s 1ms/step - loss: 7084.2744 - mae: 7084.2744\n",
            "Epoch 72/100\n",
            "34/34 [==============================] - 0s 1ms/step - loss: 7240.4902 - mae: 7240.4902\n",
            "Epoch 73/100\n",
            "34/34 [==============================] - 0s 1ms/step - loss: 7283.4888 - mae: 7283.4888\n",
            "Epoch 74/100\n",
            "34/34 [==============================] - 0s 1ms/step - loss: 7335.5083 - mae: 7335.5083\n",
            "Epoch 75/100\n",
            "34/34 [==============================] - 0s 2ms/step - loss: 7275.6392 - mae: 7275.6392\n",
            "Epoch 76/100\n",
            "34/34 [==============================] - 0s 2ms/step - loss: 7313.1860 - mae: 7313.1860\n",
            "Epoch 77/100\n",
            "34/34 [==============================] - 0s 2ms/step - loss: 7485.7588 - mae: 7485.7588\n",
            "Epoch 78/100\n",
            "34/34 [==============================] - 0s 1ms/step - loss: 7352.2803 - mae: 7352.2803\n",
            "Epoch 79/100\n",
            "34/34 [==============================] - 0s 1ms/step - loss: 7520.5703 - mae: 7520.5703\n",
            "Epoch 80/100\n",
            "34/34 [==============================] - 0s 1ms/step - loss: 7279.3779 - mae: 7279.3779\n",
            "Epoch 81/100\n",
            "34/34 [==============================] - 0s 1ms/step - loss: 7273.8477 - mae: 7273.8477\n",
            "Epoch 82/100\n",
            "34/34 [==============================] - 0s 1ms/step - loss: 7176.5215 - mae: 7176.5215\n",
            "Epoch 83/100\n",
            "34/34 [==============================] - 0s 1ms/step - loss: 7425.6289 - mae: 7425.6289\n",
            "Epoch 84/100\n",
            "34/34 [==============================] - 0s 1ms/step - loss: 7403.1294 - mae: 7403.1294\n",
            "Epoch 85/100\n",
            "34/34 [==============================] - 0s 1ms/step - loss: 7356.0088 - mae: 7356.0088\n",
            "Epoch 86/100\n",
            "34/34 [==============================] - 0s 2ms/step - loss: 7484.7271 - mae: 7484.7271\n",
            "Epoch 87/100\n",
            "34/34 [==============================] - 0s 1ms/step - loss: 7217.6074 - mae: 7217.6074\n",
            "Epoch 88/100\n",
            "34/34 [==============================] - 0s 2ms/step - loss: 7261.0000 - mae: 7261.0000\n",
            "Epoch 89/100\n",
            "34/34 [==============================] - 0s 1ms/step - loss: 7134.1562 - mae: 7134.1562\n",
            "Epoch 90/100\n",
            "34/34 [==============================] - 0s 1ms/step - loss: 7083.4360 - mae: 7083.4360\n",
            "Epoch 91/100\n",
            "34/34 [==============================] - 0s 1ms/step - loss: 7254.1782 - mae: 7254.1782\n",
            "Epoch 92/100\n",
            "34/34 [==============================] - 0s 1ms/step - loss: 7268.7456 - mae: 7268.7456\n",
            "Epoch 93/100\n",
            "34/34 [==============================] - 0s 1ms/step - loss: 7470.5220 - mae: 7470.5220\n",
            "Epoch 94/100\n",
            "34/34 [==============================] - 0s 1ms/step - loss: 7210.9536 - mae: 7210.9536\n",
            "Epoch 95/100\n",
            "34/34 [==============================] - 0s 2ms/step - loss: 7395.6816 - mae: 7395.6816\n",
            "Epoch 96/100\n",
            "34/34 [==============================] - 0s 1ms/step - loss: 7328.0884 - mae: 7328.0884\n",
            "Epoch 97/100\n",
            "34/34 [==============================] - 0s 1ms/step - loss: 7230.4380 - mae: 7230.4380\n",
            "Epoch 98/100\n",
            "34/34 [==============================] - 0s 1ms/step - loss: 7261.3936 - mae: 7261.3936\n",
            "Epoch 99/100\n",
            "34/34 [==============================] - 0s 1ms/step - loss: 7342.5684 - mae: 7342.5684\n",
            "Epoch 100/100\n",
            "34/34 [==============================] - 0s 1ms/step - loss: 7106.1714 - mae: 7106.1714\n"
          ],
          "name": "stdout"
        },
        {
          "output_type": "execute_result",
          "data": {
            "text/plain": [
              "<tensorflow.python.keras.callbacks.History at 0x7f94a81fd250>"
            ]
          },
          "metadata": {
            "tags": []
          },
          "execution_count": 66
        }
      ]
    },
    {
      "cell_type": "code",
      "metadata": {
        "id": "DT2ajzOmdT6i",
        "colab": {
          "base_uri": "https://localhost:8080/"
        },
        "outputId": "8959be59-d1b8-4354-ff81-bad57591873f"
      },
      "source": [
        "# Check the results of the insurance model on the test data\n",
        "insurance_model.evaluate(X_test,y_test)"
      ],
      "execution_count": 67,
      "outputs": [
        {
          "output_type": "stream",
          "text": [
            "9/9 [==============================] - 0s 2ms/step - loss: 7023.3291 - mae: 7023.3291\n"
          ],
          "name": "stdout"
        },
        {
          "output_type": "execute_result",
          "data": {
            "text/plain": [
              "[7023.3291015625, 7023.3291015625]"
            ]
          },
          "metadata": {
            "tags": []
          },
          "execution_count": 67
        }
      ]
    },
    {
      "cell_type": "code",
      "metadata": {
        "id": "whLIKWTieFBG",
        "colab": {
          "base_uri": "https://localhost:8080/"
        },
        "outputId": "81c1a04f-e397-48db-b982-56a80c8ac615"
      },
      "source": [
        "y_train.median(), y_train.mean()"
      ],
      "execution_count": 68,
      "outputs": [
        {
          "output_type": "execute_result",
          "data": {
            "text/plain": [
              "(9575.4421, 13346.089736364489)"
            ]
          },
          "metadata": {
            "tags": []
          },
          "execution_count": 68
        }
      ]
    },
    {
      "cell_type": "markdown",
      "metadata": {
        "id": "imby7OwReMS8"
      },
      "source": [
        "Right now it looks like our model isn't performing too well..let's try and improve it\n",
        "\n",
        "- To try improve our model, we'll run 2 experiments\n",
        "\n",
        "1. Add an extra layer with more hidden units an d use dthe adam optimizer\n",
        "2. asame as above Train for 200 epochs"
      ]
    },
    {
      "cell_type": "code",
      "metadata": {
        "id": "97KxFA5cepMK",
        "colab": {
          "base_uri": "https://localhost:8080/"
        },
        "outputId": "9f2fdfd1-3688-40cd-ee44-08906f3cd821"
      },
      "source": [
        "# Build aneural network (sort of like model_2 above)\n",
        "tf.random.set_seed(42)\n",
        "\n",
        "# Create model\n",
        "insurance_model_2 = tf.keras.Sequential([\n",
        "   tf.keras.layers.Dense(100),\n",
        "   tf.keras.layers.Dense(10),\n",
        "   tf.keras.layers.Dense(1)                                   \n",
        "])\n",
        "\n",
        "# 2. Compile the model\n",
        "insurance_model_2.compile(loss=tf.keras.losses.mae,\n",
        "                        optimizer=tf.keras.optimizers.Adam(),\n",
        "                        metrics=[\"mae\"])\n",
        "# 3. Fit the model\n",
        "insurance_model_2.fit(X_train,y_train,epochs=100, verbose=0)"
      ],
      "execution_count": 69,
      "outputs": [
        {
          "output_type": "execute_result",
          "data": {
            "text/plain": [
              "<tensorflow.python.keras.callbacks.History at 0x7f94a806ab50>"
            ]
          },
          "metadata": {
            "tags": []
          },
          "execution_count": 69
        }
      ]
    },
    {
      "cell_type": "code",
      "metadata": {
        "id": "U7DB6ls_fYE2",
        "colab": {
          "base_uri": "https://localhost:8080/"
        },
        "outputId": "f1cef572-cbb5-4c3e-a783-8af971482504"
      },
      "source": [
        "# Evaluate the larger model\n",
        "insurance_model_2.evaluate(X_test,y_test)"
      ],
      "execution_count": 70,
      "outputs": [
        {
          "output_type": "stream",
          "text": [
            "9/9 [==============================] - 0s 2ms/step - loss: 4924.3477 - mae: 4924.3477\n"
          ],
          "name": "stdout"
        },
        {
          "output_type": "execute_result",
          "data": {
            "text/plain": [
              "[4924.34765625, 4924.34765625]"
            ]
          },
          "metadata": {
            "tags": []
          },
          "execution_count": 70
        }
      ]
    },
    {
      "cell_type": "code",
      "metadata": {
        "id": "na_2z8aYfhAW",
        "colab": {
          "base_uri": "https://localhost:8080/"
        },
        "outputId": "bc13c430-7b52-4211-8929-dd1d0b3d8f74"
      },
      "source": [
        "insurance_model.evaluate(X_test,y_test)"
      ],
      "execution_count": 71,
      "outputs": [
        {
          "output_type": "stream",
          "text": [
            "9/9 [==============================] - 0s 2ms/step - loss: 7023.3291 - mae: 7023.3291\n"
          ],
          "name": "stdout"
        },
        {
          "output_type": "execute_result",
          "data": {
            "text/plain": [
              "[7023.3291015625, 7023.3291015625]"
            ]
          },
          "metadata": {
            "tags": []
          },
          "execution_count": 71
        }
      ]
    },
    {
      "cell_type": "code",
      "metadata": {
        "id": "8I_uwkrCgFQ-"
      },
      "source": [
        "# Build aneural network (sort of like model_2 above)\n",
        "tf.random.set_seed(42)\n",
        "\n",
        "# Create model\n",
        "insurance_model_3 = tf.keras.Sequential([\n",
        "   tf.keras.layers.Dense(100),\n",
        "   tf.keras.layers.Dense(10),\n",
        "   tf.keras.layers.Dense(1)                                   \n",
        "])\n",
        "\n",
        "# 2. Compile the model\n",
        "insurance_model_3.compile(loss=tf.keras.losses.mae,\n",
        "                        optimizer=tf.keras.optimizers.Adam(),\n",
        "                        metrics=[\"mae\"])\n",
        "# 3. Fit the model\n",
        "history = insurance_model_3.fit(X_train,y_train,epochs=200, verbose=0)"
      ],
      "execution_count": 72,
      "outputs": []
    },
    {
      "cell_type": "code",
      "metadata": {
        "id": "xOgW2KD9gX3h",
        "colab": {
          "base_uri": "https://localhost:8080/"
        },
        "outputId": "6fead0e1-9534-4da7-8c20-65240c84eb77"
      },
      "source": [
        "# Evaluate the larger model\n",
        "insurance_model_3.evaluate(X_test,y_test)"
      ],
      "execution_count": 73,
      "outputs": [
        {
          "output_type": "stream",
          "text": [
            "9/9 [==============================] - 0s 2ms/step - loss: 3491.2961 - mae: 3491.2961\n"
          ],
          "name": "stdout"
        },
        {
          "output_type": "execute_result",
          "data": {
            "text/plain": [
              "[3491.296142578125, 3491.296142578125]"
            ]
          },
          "metadata": {
            "tags": []
          },
          "execution_count": 73
        }
      ]
    },
    {
      "cell_type": "code",
      "metadata": {
        "id": "Gdn1HjlcgbW9",
        "colab": {
          "base_uri": "https://localhost:8080/",
          "height": 297
        },
        "outputId": "d986bc18-7d91-401a-841e-d343d39b1188"
      },
      "source": [
        "# Plot history (also knows as aloss curve or a training curve)\n",
        "pd.DataFrame(history.history).plot()\n",
        "plt.ylabel(\"loss\")\n",
        "plt.xlabel(\"epochs\")"
      ],
      "execution_count": 74,
      "outputs": [
        {
          "output_type": "execute_result",
          "data": {
            "text/plain": [
              "Text(0.5, 0, 'epochs')"
            ]
          },
          "metadata": {
            "tags": []
          },
          "execution_count": 74
        },
        {
          "output_type": "display_data",
          "data": {
            "image/png": "[encoded data removed]",
            "text/plain": [
              "<Figure size 432x288 with 1 Axes>"
            ]
          },
          "metadata": {
            "tags": [],
            "needs_background": "light"
          }
        }
      ]
    },
    {
      "cell_type": "markdown",
      "metadata": {
        "id": "CHF2MXqGhU_H"
      },
      "source": [
        "> **Question:** How long should you train for?\n",
        "\n",
        "It depends . Really .. it depends on the problem we're working on. However, many people have asked this question before.. so TensorFlow has asolution! It's called the EarlyStopping callbacks. \n",
        "Which is a TensorFlow component you can add to pur model to stop training once it stops improving a certain metrics."
      ]
    },
    {
      "cell_type": "markdown",
      "metadata": {
        "id": "UIRwXs0YiBPx"
      },
      "source": [
        "## Preprocessing data (normalization and standardization)\n",
        "\n",
        "In terms of scaling values, neural networks tend to prefer normalization.\n",
        "\n",
        "If we're not sure on which to use, we could try both and see which performs better."
      ]
    },
    {
      "cell_type": "code",
      "metadata": {
        "id": "RunXbmUwWlBn",
        "outputId": "767c153c-eb4d-46da-9406-35364379ef6f",
        "colab": {
          "base_uri": "https://localhost:8080/",
          "height": 283
        }
      },
      "source": [
        "X['age'].plot(kind=\"hist\")"
      ],
      "execution_count": 76,
      "outputs": [
        {
          "output_type": "execute_result",
          "data": {
            "text/plain": [
              "<matplotlib.axes._subplots.AxesSubplot at 0x7f9453a012d0>"
            ]
          },
          "metadata": {
            "tags": []
          },
          "execution_count": 76
        },
        {
          "output_type": "display_data",
          "data": {
            "image/png": "[encoded data removed]",
            "text/plain": [
              "<Figure size 432x288 with 1 Axes>"
            ]
          },
          "metadata": {
            "tags": [],
            "needs_background": "light"
          }
        }
      ]
    },
    {
      "cell_type": "code",
      "metadata": {
        "id": "PAXcAiM2Yrqr",
        "outputId": "92329890-4c7e-4017-c160-8e1f2ab97d9d",
        "colab": {
          "base_uri": "https://localhost:8080/",
          "height": 283
        }
      },
      "source": [
        "X['bmi'].plot(kind=\"hist\")"
      ],
      "execution_count": 77,
      "outputs": [
        {
          "output_type": "execute_result",
          "data": {
            "text/plain": [
              "<matplotlib.axes._subplots.AxesSubplot at 0x7f945dd97e10>"
            ]
          },
          "metadata": {
            "tags": []
          },
          "execution_count": 77
        },
        {
          "output_type": "display_data",
          "data": {
            "image/png": "[encoded data removed]",
            "text/plain": [
              "<Figure size 432x288 with 1 Axes>"
            ]
          },
          "metadata": {
            "tags": [],
            "needs_background": "light"
          }
        }
      ]
    },
    {
      "cell_type": "code",
      "metadata": {
        "id": "sA7CSlQyYx3r",
        "outputId": "1c36d726-b494-4755-852b-1c546aff19f0",
        "colab": {
          "base_uri": "https://localhost:8080/",
          "height": 423
        }
      },
      "source": [
        "import pandas as pd\n",
        "import matplotlib.pyplot as plt\n",
        "import tensorflow as tf\n",
        "\n",
        "# Read in the insurance data\n",
        "insurance = pd.read_csv(\"https://raw.githubusercontent.com/stedy/Machine-Learning-with-R-datasets/master/insurance.csv\")\n",
        "insurance"
      ],
      "execution_count": 79,
      "outputs": [
        {
          "output_type": "execute_result",
          "data": {
            "text/html": [
              "<div>\n",
              "<style scoped>\n",
              "    .dataframe tbody tr th:only-of-type {\n",
              "        vertical-align: middle;\n",
              "    }\n",
              "\n",
              "    .dataframe tbody tr th {\n",
              "        vertical-align: top;\n",
              "    }\n",
              "\n",
              "    .dataframe thead th {\n",
              "        text-align: right;\n",
              "    }\n",
              "</style>\n",
              "<table border=\"1\" class=\"dataframe\">\n",
              "  <thead>\n",
              "    <tr style=\"text-align: right;\">\n",
              "      <th></th>\n",
              "      <th>age</th>\n",
              "      <th>sex</th>\n",
              "      <th>bmi</th>\n",
              "      <th>children</th>\n",
              "      <th>smoker</th>\n",
              "      <th>region</th>\n",
              "      <th>charges</th>\n",
              "    </tr>\n",
              "  </thead>\n",
              "  <tbody>\n",
              "    <tr>\n",
              "      <th>0</th>\n",
              "      <td>19</td>\n",
              "      <td>female</td>\n",
              "      <td>27.900</td>\n",
              "      <td>0</td>\n",
              "      <td>yes</td>\n",
              "      <td>southwest</td>\n",
              "      <td>16884.92400</td>\n",
              "    </tr>\n",
              "    <tr>\n",
              "      <th>1</th>\n",
              "      <td>18</td>\n",
              "      <td>male</td>\n",
              "      <td>33.770</td>\n",
              "      <td>1</td>\n",
              "      <td>no</td>\n",
              "      <td>southeast</td>\n",
              "      <td>1725.55230</td>\n",
              "    </tr>\n",
              "    <tr>\n",
              "      <th>2</th>\n",
              "      <td>28</td>\n",
              "      <td>male</td>\n",
              "      <td>33.000</td>\n",
              "      <td>3</td>\n",
              "      <td>no</td>\n",
              "      <td>southeast</td>\n",
              "      <td>4449.46200</td>\n",
              "    </tr>\n",
              "    <tr>\n",
              "      <th>3</th>\n",
              "      <td>33</td>\n",
              "      <td>male</td>\n",
              "      <td>22.705</td>\n",
              "      <td>0</td>\n",
              "      <td>no</td>\n",
              "      <td>northwest</td>\n",
              "      <td>21984.47061</td>\n",
              "    </tr>\n",
              "    <tr>\n",
              "      <th>4</th>\n",
              "      <td>32</td>\n",
              "      <td>male</td>\n",
              "      <td>28.880</td>\n",
              "      <td>0</td>\n",
              "      <td>no</td>\n",
              "      <td>northwest</td>\n",
              "      <td>3866.85520</td>\n",
              "    </tr>\n",
              "    <tr>\n",
              "      <th>...</th>\n",
              "      <td>...</td>\n",
              "      <td>...</td>\n",
              "      <td>...</td>\n",
              "      <td>...</td>\n",
              "      <td>...</td>\n",
              "      <td>...</td>\n",
              "      <td>...</td>\n",
              "    </tr>\n",
              "    <tr>\n",
              "      <th>1333</th>\n",
              "      <td>50</td>\n",
              "      <td>male</td>\n",
              "      <td>30.970</td>\n",
              "      <td>3</td>\n",
              "      <td>no</td>\n",
              "      <td>northwest</td>\n",
              "      <td>10600.54830</td>\n",
              "    </tr>\n",
              "    <tr>\n",
              "      <th>1334</th>\n",
              "      <td>18</td>\n",
              "      <td>female</td>\n",
              "      <td>31.920</td>\n",
              "      <td>0</td>\n",
              "      <td>no</td>\n",
              "      <td>northeast</td>\n",
              "      <td>2205.98080</td>\n",
              "    </tr>\n",
              "    <tr>\n",
              "      <th>1335</th>\n",
              "      <td>18</td>\n",
              "      <td>female</td>\n",
              "      <td>36.850</td>\n",
              "      <td>0</td>\n",
              "      <td>no</td>\n",
              "      <td>southeast</td>\n",
              "      <td>1629.83350</td>\n",
              "    </tr>\n",
              "    <tr>\n",
              "      <th>1336</th>\n",
              "      <td>21</td>\n",
              "      <td>female</td>\n",
              "      <td>25.800</td>\n",
              "      <td>0</td>\n",
              "      <td>no</td>\n",
              "      <td>southwest</td>\n",
              "      <td>2007.94500</td>\n",
              "    </tr>\n",
              "    <tr>\n",
              "      <th>1337</th>\n",
              "      <td>61</td>\n",
              "      <td>female</td>\n",
              "      <td>29.070</td>\n",
              "      <td>0</td>\n",
              "      <td>yes</td>\n",
              "      <td>northwest</td>\n",
              "      <td>29141.36030</td>\n",
              "    </tr>\n",
              "  </tbody>\n",
              "</table>\n",
              "<p>1338 rows × 7 columns</p>\n",
              "</div>"
            ],
            "text/plain": [
              "      age     sex     bmi  children smoker     region      charges\n",
              "0      19  female  27.900         0    yes  southwest  16884.92400\n",
              "1      18    male  33.770         1     no  southeast   1725.55230\n",
              "2      28    male  33.000         3     no  southeast   4449.46200\n",
              "3      33    male  22.705         0     no  northwest  21984.47061\n",
              "4      32    male  28.880         0     no  northwest   3866.85520\n",
              "...   ...     ...     ...       ...    ...        ...          ...\n",
              "1333   50    male  30.970         3     no  northwest  10600.54830\n",
              "1334   18  female  31.920         0     no  northeast   2205.98080\n",
              "1335   18  female  36.850         0     no  southeast   1629.83350\n",
              "1336   21  female  25.800         0     no  southwest   2007.94500\n",
              "1337   61  female  29.070         0    yes  northwest  29141.36030\n",
              "\n",
              "[1338 rows x 7 columns]"
            ]
          },
          "metadata": {
            "tags": []
          },
          "execution_count": 79
        }
      ]
    },
    {
      "cell_type": "markdown",
      "metadata": {
        "id": "A8iXb1nja0XP"
      },
      "source": [
        "To prepare our data,we can borrow few class from sklearn."
      ]
    },
    {
      "cell_type": "code",
      "metadata": {
        "id": "dl2Wy2YFbT-c"
      },
      "source": [
        "from sklearn.compose import make_column_transformer\n",
        "from sklearn.preprocessing import MinMaxScaler, StandardScaler, OneHotEncoder\n",
        "from sklearn.model_selection import train_test_split\n",
        "\n",
        "# Create a column transformer\n",
        "\n",
        "ct = make_column_transformer(\n",
        "    (MinMaxScaler(),[\"age\", \"bmi\",\"children\"]), # turn all values in these columns between 0 and 1\n",
        "    (OneHotEncoder(handle_unknown=\"ignore\"),[\"sex\",\"smoker\",\"region\"])\n",
        ")\n",
        "\n",
        "# Create X & y\n",
        "X = insurance.drop(\"charges\", axis=1)\n",
        "y = insurance[\"charges\"]\n",
        "\n",
        "# Build our train and test set\n",
        "X_train , X_test, y_train, y_test = train_test_split(X, y, test_size=0.2, random_state=42)\n",
        "\n",
        "# Fit the column transformer to ourt training data\n",
        "\n",
        "ct.fit(X_train)\n",
        "\n",
        "# Transform training and test data with normalization (MinMaxScaler and OneHot encoder)\n",
        "\n",
        "X_train_normal = ct.transform(X_train)\n",
        "X_test_normal = ct.transform(X_test)"
      ],
      "execution_count": 80,
      "outputs": []
    },
    {
      "cell_type": "code",
      "metadata": {
        "id": "Way13_I5dcMi",
        "outputId": "7bcbe602-0f31-43c1-bd05-e883dbeca2f6",
        "colab": {
          "base_uri": "https://localhost:8080/"
        }
      },
      "source": [
        "# What does our data look like now?\n",
        "X_train.loc[0]"
      ],
      "execution_count": 81,
      "outputs": [
        {
          "output_type": "execute_result",
          "data": {
            "text/plain": [
              "age                19\n",
              "sex            female\n",
              "bmi              27.9\n",
              "children            0\n",
              "smoker            yes\n",
              "region      southwest\n",
              "Name: 0, dtype: object"
            ]
          },
          "metadata": {
            "tags": []
          },
          "execution_count": 81
        }
      ]
    },
    {
      "cell_type": "code",
      "metadata": {
        "id": "TiUVBx6fdjBz",
        "outputId": "a2efaa10-3c16-4e79-a058-933771c5dbd3",
        "colab": {
          "base_uri": "https://localhost:8080/"
        }
      },
      "source": [
        "X_train_normal[76]"
      ],
      "execution_count": 85,
      "outputs": [
        {
          "output_type": "execute_result",
          "data": {
            "text/plain": [
              "array([0.        , 0.38081786, 0.        , 1.        , 0.        ,\n",
              "       1.        , 0.        , 1.        , 0.        , 0.        ,\n",
              "       0.        ])"
            ]
          },
          "metadata": {
            "tags": []
          },
          "execution_count": 85
        }
      ]
    },
    {
      "cell_type": "markdown",
      "metadata": {
        "id": "qbq9cvpud-up"
      },
      "source": [
        "Beautiful! our dta has normalized and on hot encoded, now lets build a neural network model on ot and see how it goes."
      ]
    },
    {
      "cell_type": "code",
      "metadata": {
        "id": "664MM9kwdlxs",
        "outputId": "4e5ce801-ca2c-4a46-b58a-a9b28084bcac",
        "colab": {
          "base_uri": "https://localhost:8080/"
        }
      },
      "source": [
        "# Build neural network to fit on our normalized data\n",
        "# Set random seed\n",
        "tf.random.set_seed(42)\n",
        "# Build the model\n",
        "insurance_model_4 = tf.keras.Sequential([\n",
        "       tf.keras.layers.Dense(100),\n",
        "       tf.keras.layers.Dense(10),\n",
        "       tf.keras.layers.Dense(1)                  \n",
        "])\n",
        "\n",
        "# Compile the model\n",
        "insurance_model_4.compile(loss=tf.keras.losses.mae,\n",
        "                          optimizer=tf.keras.optimizers.Adam(),\n",
        "                          metrics=[\"mae\"])\n",
        "\n",
        "# Fit the model\n",
        "insurance_model_4.fit(X_train_normal, y_train, epochs=100)\n"
      ],
      "execution_count": 88,
      "outputs": [
        {
          "output_type": "stream",
          "text": [
            "Epoch 1/100\n",
            "34/34 [==============================] - 1s 2ms/step - loss: 13342.6475 - mae: 13342.6475\n",
            "Epoch 2/100\n",
            "34/34 [==============================] - 0s 2ms/step - loss: 13333.4785 - mae: 13333.4785\n",
            "Epoch 3/100\n",
            "34/34 [==============================] - 0s 2ms/step - loss: 13312.0234 - mae: 13312.0234\n",
            "Epoch 4/100\n",
            "34/34 [==============================] - 0s 2ms/step - loss: 13267.7930 - mae: 13267.7930\n",
            "Epoch 5/100\n",
            "34/34 [==============================] - 0s 2ms/step - loss: 13189.5850 - mae: 13189.5850\n",
            "Epoch 6/100\n",
            "34/34 [==============================] - 0s 2ms/step - loss: 13066.4502 - mae: 13066.4502\n",
            "Epoch 7/100\n",
            "34/34 [==============================] - 0s 2ms/step - loss: 12888.1953 - mae: 12888.1953\n",
            "Epoch 8/100\n",
            "34/34 [==============================] - 0s 2ms/step - loss: 12644.6523 - mae: 12644.6523\n",
            "Epoch 9/100\n",
            "34/34 [==============================] - 0s 2ms/step - loss: 12325.5469 - mae: 12325.5469\n",
            "Epoch 10/100\n",
            "34/34 [==============================] - 0s 2ms/step - loss: 11925.9658 - mae: 11925.9658\n",
            "Epoch 11/100\n",
            "34/34 [==============================] - 0s 2ms/step - loss: 11454.3350 - mae: 11454.3350\n",
            "Epoch 12/100\n",
            "34/34 [==============================] - 0s 2ms/step - loss: 10949.8086 - mae: 10949.8086\n",
            "Epoch 13/100\n",
            "34/34 [==============================] - 0s 2ms/step - loss: 10448.9404 - mae: 10448.9404\n",
            "Epoch 14/100\n",
            "34/34 [==============================] - 0s 2ms/step - loss: 9951.6250 - mae: 9951.6250\n",
            "Epoch 15/100\n",
            "34/34 [==============================] - 0s 2ms/step - loss: 9482.7422 - mae: 9482.7422\n",
            "Epoch 16/100\n",
            "34/34 [==============================] - 0s 2ms/step - loss: 9066.7461 - mae: 9066.7461\n",
            "Epoch 17/100\n",
            "34/34 [==============================] - 0s 2ms/step - loss: 8721.9854 - mae: 8721.9854\n",
            "Epoch 18/100\n",
            "34/34 [==============================] - 0s 2ms/step - loss: 8441.2002 - mae: 8441.2002\n",
            "Epoch 19/100\n",
            "34/34 [==============================] - 0s 2ms/step - loss: 8227.5117 - mae: 8227.5117\n",
            "Epoch 20/100\n",
            "34/34 [==============================] - 0s 2ms/step - loss: 8081.9775 - mae: 8081.9775\n",
            "Epoch 21/100\n",
            "34/34 [==============================] - 0s 2ms/step - loss: 7973.8945 - mae: 7973.8945\n",
            "Epoch 22/100\n",
            "34/34 [==============================] - 0s 2ms/step - loss: 7899.1597 - mae: 7899.1597\n",
            "Epoch 23/100\n",
            "34/34 [==============================] - 0s 2ms/step - loss: 7840.3916 - mae: 7840.3916\n",
            "Epoch 24/100\n",
            "34/34 [==============================] - 0s 2ms/step - loss: 7787.9619 - mae: 7787.9619\n",
            "Epoch 25/100\n",
            "34/34 [==============================] - 0s 2ms/step - loss: 7749.2622 - mae: 7749.2622\n",
            "Epoch 26/100\n",
            "34/34 [==============================] - 0s 2ms/step - loss: 7697.9595 - mae: 7697.9595\n",
            "Epoch 27/100\n",
            "34/34 [==============================] - 0s 2ms/step - loss: 7656.0273 - mae: 7656.0273\n",
            "Epoch 28/100\n",
            "34/34 [==============================] - 0s 2ms/step - loss: 7613.4780 - mae: 7613.4780\n",
            "Epoch 29/100\n",
            "34/34 [==============================] - 0s 2ms/step - loss: 7570.9482 - mae: 7570.9482\n",
            "Epoch 30/100\n",
            "34/34 [==============================] - 0s 2ms/step - loss: 7527.4175 - mae: 7527.4175\n",
            "Epoch 31/100\n",
            "34/34 [==============================] - 0s 2ms/step - loss: 7483.5947 - mae: 7483.5947\n",
            "Epoch 32/100\n",
            "34/34 [==============================] - 0s 2ms/step - loss: 7439.4424 - mae: 7439.4424\n",
            "Epoch 33/100\n",
            "34/34 [==============================] - 0s 2ms/step - loss: 7395.0552 - mae: 7395.0552\n",
            "Epoch 34/100\n",
            "34/34 [==============================] - 0s 2ms/step - loss: 7346.8125 - mae: 7346.8125\n",
            "Epoch 35/100\n",
            "34/34 [==============================] - 0s 2ms/step - loss: 7300.0493 - mae: 7300.0493\n",
            "Epoch 36/100\n",
            "34/34 [==============================] - 0s 2ms/step - loss: 7249.8452 - mae: 7249.8452\n",
            "Epoch 37/100\n",
            "34/34 [==============================] - 0s 2ms/step - loss: 7199.5303 - mae: 7199.5303\n",
            "Epoch 38/100\n",
            "34/34 [==============================] - 0s 2ms/step - loss: 7148.4805 - mae: 7148.4805\n",
            "Epoch 39/100\n",
            "34/34 [==============================] - 0s 2ms/step - loss: 7093.6660 - mae: 7093.6660\n",
            "Epoch 40/100\n",
            "34/34 [==============================] - 0s 2ms/step - loss: 7038.1797 - mae: 7038.1797\n",
            "Epoch 41/100\n",
            "34/34 [==============================] - 0s 2ms/step - loss: 6981.7393 - mae: 6981.7393\n",
            "Epoch 42/100\n",
            "34/34 [==============================] - 0s 2ms/step - loss: 6922.7847 - mae: 6922.7847\n",
            "Epoch 43/100\n",
            "34/34 [==============================] - 0s 2ms/step - loss: 6860.1724 - mae: 6860.1724\n",
            "Epoch 44/100\n",
            "34/34 [==============================] - 0s 2ms/step - loss: 6793.7979 - mae: 6793.7979\n",
            "Epoch 45/100\n",
            "34/34 [==============================] - 0s 2ms/step - loss: 6726.6201 - mae: 6726.6201\n",
            "Epoch 46/100\n",
            "34/34 [==============================] - 0s 2ms/step - loss: 6657.4683 - mae: 6657.4683\n",
            "Epoch 47/100\n",
            "34/34 [==============================] - 0s 2ms/step - loss: 6586.3086 - mae: 6586.3086\n",
            "Epoch 48/100\n",
            "34/34 [==============================] - 0s 2ms/step - loss: 6507.5063 - mae: 6507.5063\n",
            "Epoch 49/100\n",
            "34/34 [==============================] - 0s 2ms/step - loss: 6428.6025 - mae: 6428.6025\n",
            "Epoch 50/100\n",
            "34/34 [==============================] - 0s 2ms/step - loss: 6342.7100 - mae: 6342.7100\n",
            "Epoch 51/100\n",
            "34/34 [==============================] - 0s 2ms/step - loss: 6258.0718 - mae: 6258.0718\n",
            "Epoch 52/100\n",
            "34/34 [==============================] - 0s 2ms/step - loss: 6164.7046 - mae: 6164.7046\n",
            "Epoch 53/100\n",
            "34/34 [==============================] - 0s 2ms/step - loss: 6068.6748 - mae: 6068.6748\n",
            "Epoch 54/100\n",
            "34/34 [==============================] - 0s 2ms/step - loss: 5970.0981 - mae: 5970.0981\n",
            "Epoch 55/100\n",
            "34/34 [==============================] - 0s 2ms/step - loss: 5862.5625 - mae: 5862.5625\n",
            "Epoch 56/100\n",
            "34/34 [==============================] - 0s 2ms/step - loss: 5753.9531 - mae: 5753.9531\n",
            "Epoch 57/100\n",
            "34/34 [==============================] - 0s 2ms/step - loss: 5638.0942 - mae: 5638.0942\n",
            "Epoch 58/100\n",
            "34/34 [==============================] - 0s 2ms/step - loss: 5519.8687 - mae: 5519.8687\n",
            "Epoch 59/100\n",
            "34/34 [==============================] - 0s 2ms/step - loss: 5401.3198 - mae: 5401.3198\n",
            "Epoch 60/100\n",
            "34/34 [==============================] - 0s 2ms/step - loss: 5277.3506 - mae: 5277.3506\n",
            "Epoch 61/100\n",
            "34/34 [==============================] - 0s 2ms/step - loss: 5149.7642 - mae: 5149.7642\n",
            "Epoch 62/100\n",
            "34/34 [==============================] - 0s 2ms/step - loss: 5019.3540 - mae: 5019.3540\n",
            "Epoch 63/100\n",
            "34/34 [==============================] - 0s 2ms/step - loss: 4889.6865 - mae: 4889.6865\n",
            "Epoch 64/100\n",
            "34/34 [==============================] - 0s 2ms/step - loss: 4756.8560 - mae: 4756.8560\n",
            "Epoch 65/100\n",
            "34/34 [==============================] - 0s 2ms/step - loss: 4629.4370 - mae: 4629.4370\n",
            "Epoch 66/100\n",
            "34/34 [==============================] - 0s 2ms/step - loss: 4503.5991 - mae: 4503.5991\n",
            "Epoch 67/100\n",
            "34/34 [==============================] - 0s 2ms/step - loss: 4392.9922 - mae: 4392.9922\n",
            "Epoch 68/100\n",
            "34/34 [==============================] - 0s 2ms/step - loss: 4284.3862 - mae: 4284.3862\n",
            "Epoch 69/100\n",
            "34/34 [==============================] - 0s 2ms/step - loss: 4182.6182 - mae: 4182.6182\n",
            "Epoch 70/100\n",
            "34/34 [==============================] - 0s 2ms/step - loss: 4089.5720 - mae: 4089.5720\n",
            "Epoch 71/100\n",
            "34/34 [==============================] - 0s 2ms/step - loss: 4003.3901 - mae: 4003.3901\n",
            "Epoch 72/100\n",
            "34/34 [==============================] - 0s 2ms/step - loss: 3929.0093 - mae: 3929.0093\n",
            "Epoch 73/100\n",
            "34/34 [==============================] - 0s 2ms/step - loss: 3866.3110 - mae: 3866.3110\n",
            "Epoch 74/100\n",
            "34/34 [==============================] - 0s 2ms/step - loss: 3813.7144 - mae: 3813.7144\n",
            "Epoch 75/100\n",
            "34/34 [==============================] - 0s 2ms/step - loss: 3773.0317 - mae: 3773.0317\n",
            "Epoch 76/100\n",
            "34/34 [==============================] - 0s 2ms/step - loss: 3744.1995 - mae: 3744.1995\n",
            "Epoch 77/100\n",
            "34/34 [==============================] - 0s 2ms/step - loss: 3719.6870 - mae: 3719.6870\n",
            "Epoch 78/100\n",
            "34/34 [==============================] - 0s 2ms/step - loss: 3702.9109 - mae: 3702.9109\n",
            "Epoch 79/100\n",
            "34/34 [==============================] - 0s 2ms/step - loss: 3691.8792 - mae: 3691.8792\n",
            "Epoch 80/100\n",
            "34/34 [==============================] - 0s 2ms/step - loss: 3682.8350 - mae: 3682.8350\n",
            "Epoch 81/100\n",
            "34/34 [==============================] - 0s 2ms/step - loss: 3676.9763 - mae: 3676.9763\n",
            "Epoch 82/100\n",
            "34/34 [==============================] - 0s 2ms/step - loss: 3673.9492 - mae: 3673.9492\n",
            "Epoch 83/100\n",
            "34/34 [==============================] - 0s 2ms/step - loss: 3667.8452 - mae: 3667.8452\n",
            "Epoch 84/100\n",
            "34/34 [==============================] - 0s 2ms/step - loss: 3664.5757 - mae: 3664.5757\n",
            "Epoch 85/100\n",
            "34/34 [==============================] - 0s 2ms/step - loss: 3661.8562 - mae: 3661.8562\n",
            "Epoch 86/100\n",
            "34/34 [==============================] - 0s 2ms/step - loss: 3660.3049 - mae: 3660.3049\n",
            "Epoch 87/100\n",
            "34/34 [==============================] - 0s 2ms/step - loss: 3657.5134 - mae: 3657.5134\n",
            "Epoch 88/100\n",
            "34/34 [==============================] - 0s 2ms/step - loss: 3655.2200 - mae: 3655.2200\n",
            "Epoch 89/100\n",
            "34/34 [==============================] - 0s 2ms/step - loss: 3653.8831 - mae: 3653.8831\n",
            "Epoch 90/100\n",
            "34/34 [==============================] - 0s 2ms/step - loss: 3652.0195 - mae: 3652.0195\n",
            "Epoch 91/100\n",
            "34/34 [==============================] - 0s 2ms/step - loss: 3648.9990 - mae: 3648.9990\n",
            "Epoch 92/100\n",
            "34/34 [==============================] - 0s 2ms/step - loss: 3648.4463 - mae: 3648.4463\n",
            "Epoch 93/100\n",
            "34/34 [==============================] - 0s 2ms/step - loss: 3646.2297 - mae: 3646.2297\n",
            "Epoch 94/100\n",
            "34/34 [==============================] - 0s 2ms/step - loss: 3644.4377 - mae: 3644.4377\n",
            "Epoch 95/100\n",
            "34/34 [==============================] - 0s 2ms/step - loss: 3645.8772 - mae: 3645.8772\n",
            "Epoch 96/100\n",
            "34/34 [==============================] - 0s 2ms/step - loss: 3642.2573 - mae: 3642.2573\n",
            "Epoch 97/100\n",
            "34/34 [==============================] - 0s 2ms/step - loss: 3640.1184 - mae: 3640.1184\n",
            "Epoch 98/100\n",
            "34/34 [==============================] - 0s 2ms/step - loss: 3638.0649 - mae: 3638.0649\n",
            "Epoch 99/100\n",
            "34/34 [==============================] - 0s 2ms/step - loss: 3637.2051 - mae: 3637.2051\n",
            "Epoch 100/100\n",
            "34/34 [==============================] - 0s 2ms/step - loss: 3636.1707 - mae: 3636.1707\n"
          ],
          "name": "stdout"
        },
        {
          "output_type": "execute_result",
          "data": {
            "text/plain": [
              "<tensorflow.python.keras.callbacks.History at 0x7f94508547d0>"
            ]
          },
          "metadata": {
            "tags": []
          },
          "execution_count": 88
        }
      ]
    },
    {
      "cell_type": "code",
      "metadata": {
        "id": "O5CAssZ3fI_l",
        "outputId": "58d02fee-a118-473c-8f77-88691aa7df2d",
        "colab": {
          "base_uri": "https://localhost:8080/"
        }
      },
      "source": [
        "# Evaluate our unsurance our model trained on normalized data\n",
        "insurance_model_4.evaluate(X_test_normal, y_test)"
      ],
      "execution_count": 89,
      "outputs": [
        {
          "output_type": "stream",
          "text": [
            "9/9 [==============================] - 0s 2ms/step - loss: 3438.7844 - mae: 3438.7844\n"
          ],
          "name": "stdout"
        },
        {
          "output_type": "execute_result",
          "data": {
            "text/plain": [
              "[3438.784423828125, 3438.784423828125]"
            ]
          },
          "metadata": {
            "tags": []
          },
          "execution_count": 89
        }
      ]
    },
    {
      "cell_type": "code",
      "metadata": {
        "id": "bCkfWfFYfyJ3"
      },
      "source": [
        "# 9/9 [==============================] - 0s 2ms/step - loss: 4924.3477 - mae: 4924.3477"
      ],
      "execution_count": null,
      "outputs": []
    }
  ]
}