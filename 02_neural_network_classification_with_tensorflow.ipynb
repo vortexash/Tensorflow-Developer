{
  "nbformat": 4,
  "nbformat_minor": 0,
  "metadata": {
    "colab": {
      "name": "02_neural_network_classification_with_tensorflow.ipynb",
      "provenance": [],
      "authorship_tag": "ABX9TyNmT+FKohdLJf4haWTHaQ2h",
      "include_colab_link": true
    },
    "kernelspec": {
      "name": "python3",
      "display_name": "Python 3"
    },
    "language_info": {
      "name": "python"
    }
  },
  "cells": [
    {
      "cell_type": "markdown",
      "metadata": {
        "id": "view-in-github",
        "colab_type": "text"
      },
      "source": [
        "<a href=\"https://colab.research.google.com/github/vortexash/Tensorflow-Developer/blob/main/02_neural_network_classification_with_tensorflow.ipynb\" target=\"_parent\"><img src=\"https://colab.research.google.com/assets/colab-badge.svg\" alt=\"Open In Colab\"/></a>"
      ]
    },
    {
      "cell_type": "markdown",
      "metadata": {
        "id": "oB71bM5Vs6u2"
      },
      "source": [
        "# Introduction to Neural Network Classification with Tensorflow\n",
        "\n",
        "In this notebook we're going to learn how to write neural networks for classification problems.\n",
        "\n",
        "Classification is where we try to classify something as one thing or  another.\n",
        "A few types of classification problems:\n",
        "* Binary classification\n",
        "* Multiclass Classification\n",
        "* Multilable Classification\n",
        "\n"
      ]
    },
    {
      "cell_type": "markdown",
      "metadata": {
        "id": "g2qekr2TxFuG"
      },
      "source": [
        "## Creating data to view and fit"
      ]
    },
    {
      "cell_type": "code",
      "metadata": {
        "id": "Zqq_hO6ExJzh"
      },
      "source": [
        "from sklearn.datasets import make_circles\n",
        "\n",
        "# Make 1000 examples\n",
        "n_samples = 1000\n",
        "\n",
        "# Create circles\n",
        "X, y = make_circles(n_samples, \n",
        "             noise=0.03,\n",
        "             random_state=42)"
      ],
      "execution_count": 1,
      "outputs": []
    },
    {
      "cell_type": "code",
      "metadata": {
        "colab": {
          "base_uri": "https://localhost:8080/"
        },
        "id": "mzDpAVEixvOz",
        "outputId": "62db8701-1924-4fe5-90b2-ac105fd1f96a"
      },
      "source": [
        "# Check out features\n",
        "X"
      ],
      "execution_count": 2,
      "outputs": [
        {
          "output_type": "execute_result",
          "data": {
            "text/plain": [
              "array([[ 0.75424625,  0.23148074],\n",
              "       [-0.75615888,  0.15325888],\n",
              "       [-0.81539193,  0.17328203],\n",
              "       ...,\n",
              "       [-0.13690036, -0.81001183],\n",
              "       [ 0.67036156, -0.76750154],\n",
              "       [ 0.28105665,  0.96382443]])"
            ]
          },
          "metadata": {
            "tags": []
          },
          "execution_count": 2
        }
      ]
    },
    {
      "cell_type": "code",
      "metadata": {
        "colab": {
          "base_uri": "https://localhost:8080/"
        },
        "id": "bp9zJa31x35z",
        "outputId": "6029a20a-f080-4616-c040-da4bda2e90d8"
      },
      "source": [
        "# Checkout labels\n",
        "y[:10]"
      ],
      "execution_count": 3,
      "outputs": [
        {
          "output_type": "execute_result",
          "data": {
            "text/plain": [
              "array([1, 1, 1, 1, 0, 1, 1, 1, 1, 0])"
            ]
          },
          "metadata": {
            "tags": []
          },
          "execution_count": 3
        }
      ]
    },
    {
      "cell_type": "markdown",
      "metadata": {
        "id": "rLACd8r0x8I7"
      },
      "source": [
        "our data is a little hard to understand right now.. let's visualize it!"
      ]
    },
    {
      "cell_type": "code",
      "metadata": {
        "colab": {
          "base_uri": "https://localhost:8080/",
          "height": 423
        },
        "id": "k_DTvQFBydfE",
        "outputId": "4aa0f36a-23f7-4c74-f57f-ed4b4e9b7d33"
      },
      "source": [
        "import pandas as pd\n",
        "circles = pd.DataFrame({\"X0\":X[:, 1], \"X1\":X[:, 1],\"label\":y})\n",
        "circles"
      ],
      "execution_count": 4,
      "outputs": [
        {
          "output_type": "execute_result",
          "data": {
            "text/html": [
              "<div>\n",
              "<style scoped>\n",
              "    .dataframe tbody tr th:only-of-type {\n",
              "        vertical-align: middle;\n",
              "    }\n",
              "\n",
              "    .dataframe tbody tr th {\n",
              "        vertical-align: top;\n",
              "    }\n",
              "\n",
              "    .dataframe thead th {\n",
              "        text-align: right;\n",
              "    }\n",
              "</style>\n",
              "<table border=\"1\" class=\"dataframe\">\n",
              "  <thead>\n",
              "    <tr style=\"text-align: right;\">\n",
              "      <th></th>\n",
              "      <th>X0</th>\n",
              "      <th>X1</th>\n",
              "      <th>label</th>\n",
              "    </tr>\n",
              "  </thead>\n",
              "  <tbody>\n",
              "    <tr>\n",
              "      <th>0</th>\n",
              "      <td>0.231481</td>\n",
              "      <td>0.231481</td>\n",
              "      <td>1</td>\n",
              "    </tr>\n",
              "    <tr>\n",
              "      <th>1</th>\n",
              "      <td>0.153259</td>\n",
              "      <td>0.153259</td>\n",
              "      <td>1</td>\n",
              "    </tr>\n",
              "    <tr>\n",
              "      <th>2</th>\n",
              "      <td>0.173282</td>\n",
              "      <td>0.173282</td>\n",
              "      <td>1</td>\n",
              "    </tr>\n",
              "    <tr>\n",
              "      <th>3</th>\n",
              "      <td>0.692883</td>\n",
              "      <td>0.692883</td>\n",
              "      <td>1</td>\n",
              "    </tr>\n",
              "    <tr>\n",
              "      <th>4</th>\n",
              "      <td>-0.896723</td>\n",
              "      <td>-0.896723</td>\n",
              "      <td>0</td>\n",
              "    </tr>\n",
              "    <tr>\n",
              "      <th>...</th>\n",
              "      <td>...</td>\n",
              "      <td>...</td>\n",
              "      <td>...</td>\n",
              "    </tr>\n",
              "    <tr>\n",
              "      <th>995</th>\n",
              "      <td>0.944125</td>\n",
              "      <td>0.944125</td>\n",
              "      <td>0</td>\n",
              "    </tr>\n",
              "    <tr>\n",
              "      <th>996</th>\n",
              "      <td>-0.272373</td>\n",
              "      <td>-0.272373</td>\n",
              "      <td>0</td>\n",
              "    </tr>\n",
              "    <tr>\n",
              "      <th>997</th>\n",
              "      <td>-0.810012</td>\n",
              "      <td>-0.810012</td>\n",
              "      <td>1</td>\n",
              "    </tr>\n",
              "    <tr>\n",
              "      <th>998</th>\n",
              "      <td>-0.767502</td>\n",
              "      <td>-0.767502</td>\n",
              "      <td>0</td>\n",
              "    </tr>\n",
              "    <tr>\n",
              "      <th>999</th>\n",
              "      <td>0.963824</td>\n",
              "      <td>0.963824</td>\n",
              "      <td>0</td>\n",
              "    </tr>\n",
              "  </tbody>\n",
              "</table>\n",
              "<p>1000 rows × 3 columns</p>\n",
              "</div>"
            ],
            "text/plain": [
              "           X0        X1  label\n",
              "0    0.231481  0.231481      1\n",
              "1    0.153259  0.153259      1\n",
              "2    0.173282  0.173282      1\n",
              "3    0.692883  0.692883      1\n",
              "4   -0.896723 -0.896723      0\n",
              "..        ...       ...    ...\n",
              "995  0.944125  0.944125      0\n",
              "996 -0.272373 -0.272373      0\n",
              "997 -0.810012 -0.810012      1\n",
              "998 -0.767502 -0.767502      0\n",
              "999  0.963824  0.963824      0\n",
              "\n",
              "[1000 rows x 3 columns]"
            ]
          },
          "metadata": {
            "tags": []
          },
          "execution_count": 4
        }
      ]
    },
    {
      "cell_type": "code",
      "metadata": {
        "colab": {
          "base_uri": "https://localhost:8080/",
          "height": 265
        },
        "id": "LvjFdVbQyvdb",
        "outputId": "558aee78-b80f-4b8d-fd5d-109bacefe7cb"
      },
      "source": [
        "# Visualize wiith a plot\n",
        "import matplotlib.pyplot as plt\n",
        "plt.scatter(X[:, 0], X[:,1], c=y, cmap=plt.cm.RdYlBu);"
      ],
      "execution_count": 5,
      "outputs": [
        {
          "output_type": "display_data",
          "data": {
            "image/png": "[encoded data removed]",
            "text/plain": [
              "<Figure size 432x288 with 1 Axes>"
            ]
          },
          "metadata": {
            "tags": [],
            "needs_background": "light"
          }
        }
      ]
    },
    {
      "cell_type": "markdown",
      "metadata": {
        "id": "BNvs660vzXTd"
      },
      "source": [
        "## Input amd output shapes"
      ]
    },
    {
      "cell_type": "code",
      "metadata": {
        "colab": {
          "base_uri": "https://localhost:8080/"
        },
        "id": "WRiLgYEP0QCN",
        "outputId": "3d5bc92b-259e-4a68-8076-db994a7ff8e9"
      },
      "source": [
        "# Check the shapes of our features and labels\n",
        "X.shape, y.shape"
      ],
      "execution_count": 6,
      "outputs": [
        {
          "output_type": "execute_result",
          "data": {
            "text/plain": [
              "((1000, 2), (1000,))"
            ]
          },
          "metadata": {
            "tags": []
          },
          "execution_count": 6
        }
      ]
    },
    {
      "cell_type": "code",
      "metadata": {
        "colab": {
          "base_uri": "https://localhost:8080/"
        },
        "id": "b6lg7Hes0Wiw",
        "outputId": "bb3746e2-e0db-4a82-d84e-871e0832dfee"
      },
      "source": [
        "# How many samples we're working \n",
        "len(X), len(y)"
      ],
      "execution_count": 7,
      "outputs": [
        {
          "output_type": "execute_result",
          "data": {
            "text/plain": [
              "(1000, 1000)"
            ]
          },
          "metadata": {
            "tags": []
          },
          "execution_count": 7
        }
      ]
    },
    {
      "cell_type": "code",
      "metadata": {
        "colab": {
          "base_uri": "https://localhost:8080/"
        },
        "id": "NAqGIn7R0dZl",
        "outputId": "9794edff-ba02-4f58-df84-882103e28ced"
      },
      "source": [
        "# View the first example of features and labels\n",
        "X[5], y[0]"
      ],
      "execution_count": 8,
      "outputs": [
        {
          "output_type": "execute_result",
          "data": {
            "text/plain": [
              "(array([-0.47964637,  0.67643477]), 1)"
            ]
          },
          "metadata": {
            "tags": []
          },
          "execution_count": 8
        }
      ]
    },
    {
      "cell_type": "markdown",
      "metadata": {
        "id": "TqPu44-C0lBF"
      },
      "source": [
        "# Steps in modelling\n",
        "\n",
        "The steps in modelling with TensorFlow are typically:\n",
        "\n",
        "1. Create or import a model\n",
        "2. Compile the model\n",
        "3. Fit the model\n",
        "4.Evaluate the model\n",
        "5. Tweak\n",
        "6. Evaluate.."
      ]
    },
    {
      "cell_type": "code",
      "metadata": {
        "colab": {
          "base_uri": "https://localhost:8080/",
          "height": 35
        },
        "id": "h0HKZPMW2g1m",
        "outputId": "6dadd582-0598-4439-b51d-a2412fe68348"
      },
      "source": [
        "# Import TensorFlow\n",
        "import tensorflow as tf\n",
        "tf.__version__"
      ],
      "execution_count": 9,
      "outputs": [
        {
          "output_type": "execute_result",
          "data": {
            "application/vnd.google.colaboratory.intrinsic+json": {
              "type": "string"
            },
            "text/plain": [
              "'2.5.0'"
            ]
          },
          "metadata": {
            "tags": []
          },
          "execution_count": 9
        }
      ]
    },
    {
      "cell_type": "code",
      "metadata": {
        "colab": {
          "base_uri": "https://localhost:8080/"
        },
        "id": "ZghqKT310rsO",
        "outputId": "3dbb8465-f14e-4a2a-95e4-0c5fd49401e6"
      },
      "source": [
        "# Set the random seed\n",
        "tf.random.set_seed(42)\n",
        "\n",
        "# 1. Create the model\n",
        "model_1 = tf.keras.Sequential([\n",
        "          tf.keras.layers.Dense(1)\n",
        "])\n",
        "\n",
        "# 2. Compile the model\n",
        "model_1.compile(loss=tf.keras.losses.BinaryCrossentropy(),\n",
        "                 optimizer=tf.keras.optimizers.SGD(),\n",
        "                 metrics=[\"accuracy\"])\n",
        "# 3. Fit the Model\n",
        "\n",
        "model_1.fit(X,y,epochs=5)"
      ],
      "execution_count": 10,
      "outputs": [
        {
          "output_type": "stream",
          "text": [
            "Epoch 1/5\n",
            "32/32 [==============================] - 1s 990us/step - loss: 2.8544 - accuracy: 0.4600\n",
            "Epoch 2/5\n",
            "32/32 [==============================] - 0s 1ms/step - loss: 0.7131 - accuracy: 0.5430\n",
            "Epoch 3/5\n",
            "32/32 [==============================] - 0s 1ms/step - loss: 0.6973 - accuracy: 0.5090\n",
            "Epoch 4/5\n",
            "32/32 [==============================] - 0s 1ms/step - loss: 0.6950 - accuracy: 0.5010\n",
            "Epoch 5/5\n",
            "32/32 [==============================] - 0s 1ms/step - loss: 0.6942 - accuracy: 0.4830\n"
          ],
          "name": "stdout"
        },
        {
          "output_type": "execute_result",
          "data": {
            "text/plain": [
              "<tensorflow.python.keras.callbacks.History at 0x7f0103c802d0>"
            ]
          },
          "metadata": {
            "tags": []
          },
          "execution_count": 10
        }
      ]
    },
    {
      "cell_type": "code",
      "metadata": {
        "colab": {
          "base_uri": "https://localhost:8080/"
        },
        "id": "8-KXaulU2d_v",
        "outputId": "85ae0fb9-7c09-442d-f1c5-78cf3ea93242"
      },
      "source": [
        "# Let's try and improve our model by training for longer\n",
        "model_1.fit(X,y, epochs=200, verbose=0)\n",
        "model_1.evaluate(X,y)"
      ],
      "execution_count": 11,
      "outputs": [
        {
          "output_type": "stream",
          "text": [
            "32/32 [==============================] - 0s 1ms/step - loss: 0.6935 - accuracy: 0.5000\n"
          ],
          "name": "stdout"
        },
        {
          "output_type": "execute_result",
          "data": {
            "text/plain": [
              "[0.6934829950332642, 0.5]"
            ]
          },
          "metadata": {
            "tags": []
          },
          "execution_count": 11
        }
      ]
    },
    {
      "cell_type": "markdown",
      "metadata": {
        "id": "HtxJ_WkA3gPq"
      },
      "source": [
        "Since we're working on a binary classification problem and our model is getting arounf 50% accuracy .. its's performing as if it's guessing.\n",
        "\n",
        "So let's step things up a notch and add an extra layer\n"
      ]
    },
    {
      "cell_type": "code",
      "metadata": {
        "colab": {
          "base_uri": "https://localhost:8080/"
        },
        "id": "MCf3NdZB3YdF",
        "outputId": "e16fcf79-e715-4045-d6cd-5814cd01a3bd"
      },
      "source": [
        "# Set the random seed\n",
        "tf.random.set_seed(42)\n",
        "\n",
        "# 1. Create a model, this time with 2 layers\n",
        "model_2 = tf.keras.Sequential([\n",
        "         tf.keras.layers.Dense(1),\n",
        "         tf.keras.layers.Dense(1)\n",
        "])\n",
        "\n",
        "# 2. Compile the model\n",
        "model_2.compile(loss=tf.keras.losses.BinaryCrossentropy(),\n",
        "                optimizer=tf.keras.optimizers.SGD(),\n",
        "                metrics=[\"accuracy\"])\n",
        "# 3. Fitting the model\n",
        "\n",
        "model_2.fit(X, y, epochs=100, verbose=0)"
      ],
      "execution_count": 12,
      "outputs": [
        {
          "output_type": "execute_result",
          "data": {
            "text/plain": [
              "<tensorflow.python.keras.callbacks.History at 0x7f010343f590>"
            ]
          },
          "metadata": {
            "tags": []
          },
          "execution_count": 12
        }
      ]
    },
    {
      "cell_type": "code",
      "metadata": {
        "colab": {
          "base_uri": "https://localhost:8080/"
        },
        "id": "8eNCaQCO4sbJ",
        "outputId": "8cb8eca5-0b0a-4e48-cae6-f125a67aa51c"
      },
      "source": [
        "# 4.Evaluate the model\n",
        "model_2.evaluate(X, y)"
      ],
      "execution_count": 13,
      "outputs": [
        {
          "output_type": "stream",
          "text": [
            "32/32 [==============================] - 0s 974us/step - loss: 0.6933 - accuracy: 0.5000\n"
          ],
          "name": "stdout"
        },
        {
          "output_type": "execute_result",
          "data": {
            "text/plain": [
              "[0.6933314800262451, 0.5]"
            ]
          },
          "metadata": {
            "tags": []
          },
          "execution_count": 13
        }
      ]
    },
    {
      "cell_type": "markdown",
      "metadata": {
        "id": "fdDhiFaw48-x"
      },
      "source": [
        "## Improving our Model\n",
        "\n",
        " Let's look into our bag of tricks to see how we can improve our model.\n",
        "\n",
        " 1. Create a model- We might to add more layers or increase the number of hiden units within a layer.\n",
        " 2. Compiling a model - here we might want to choose a differernt optimization function such as Adam insted of SGD.\n",
        " 3. Fitting a model- perhaps we might fit our model for more epochs(leave it training for longer)"
      ]
    },
    {
      "cell_type": "code",
      "metadata": {
        "id": "YdznLmZT5OBn",
        "colab": {
          "base_uri": "https://localhost:8080/"
        },
        "outputId": "b3e80a74-c06e-4f03-e393-86f151c0342f"
      },
      "source": [
        "# Set the random seed\n",
        "tf.random.set_seed(42)\n",
        "\n",
        "# 1.create the model (this time 3 layers)\n",
        "model_3=tf.keras.Sequential([\n",
        "      tf.keras.layers.Dense(100), # Add 100 dense neurons\n",
        "      tf.keras.layers.Dense(10), # Add another layer with 10 neurons\n",
        "      tf.keras.layers.Dense(1)                       \n",
        "])\n",
        "\n",
        "# 2. Compile the model\n",
        "model_3.compile(loss=tf.keras.losses.BinaryCrossentropy(),optimizer=tf.keras.optimizers.Adam(),\n",
        "                metrics=['accuracy'])\n",
        "\n",
        "#3. Fit the model\n",
        "model_3.fit(X, y, epochs=100, verbose=0)"
      ],
      "execution_count": 14,
      "outputs": [
        {
          "output_type": "execute_result",
          "data": {
            "text/plain": [
              "<tensorflow.python.keras.callbacks.History at 0x7f0102a13650>"
            ]
          },
          "metadata": {
            "tags": []
          },
          "execution_count": 14
        }
      ]
    },
    {
      "cell_type": "code",
      "metadata": {
        "id": "r_fU_XkP7XZL",
        "colab": {
          "base_uri": "https://localhost:8080/"
        },
        "outputId": "b5ee641c-8483-4fbb-f75b-ff8470bc3efc"
      },
      "source": [
        "#4. Evaluate the model\n",
        "model_3.evaluate(X, y)"
      ],
      "execution_count": 15,
      "outputs": [
        {
          "output_type": "stream",
          "text": [
            "32/32 [==============================] - 0s 1ms/step - loss: 0.6980 - accuracy: 0.5080\n"
          ],
          "name": "stdout"
        },
        {
          "output_type": "execute_result",
          "data": {
            "text/plain": [
              "[0.6980254650115967, 0.5080000162124634]"
            ]
          },
          "metadata": {
            "tags": []
          },
          "execution_count": 15
        }
      ]
    },
    {
      "cell_type": "markdown",
      "metadata": {
        "id": "HQph7jKe7pAw"
      },
      "source": [
        "To visualize our model predition let's create a function `plot_decision_boundry()` this function will:\n",
        "* Take in a trained model, features (X) and labels(y)\n",
        "* Create a meshgrid of the different X values\n",
        "* Make predictions across the meshgrid\n",
        "* Plot the predictions as well as a line between zones(where each unique class falls)\n",
        "\n"
      ]
    },
    {
      "cell_type": "code",
      "metadata": {
        "id": "MbbmP9xN9Izs"
      },
      "source": [
        "import numpy as np\n",
        "\n",
        "def plot_decision_boundary(model, X, y):\n",
        "  \"\"\"\n",
        "  Plots the decision boundary created by a model predicting on X.\n",
        "  \"\"\"\n",
        "  # Define the axis boundaries of the plot and create a meshgrid\n",
        "  x_min, x_max = X[:, 0].min() - 0.1, X[:, 0].max() + 0.1\n",
        "  y_min, y_max = X[:, 1].min() - 0.1, X[:, 1].max() + 0.1\n",
        "  xx, yy = np.meshgrid(np.linspace(x_min, x_max , 100),\n",
        "                     np.linspace(y_min, y_max , 100))\n",
        "  # Create X value (we're going to make predictions on these)\n",
        "  x_in = np.c_[xx.ravel(), yy.ravel()] # stack 2D arrays together\n",
        "\n",
        "  # make Predictions\n",
        "  y_pred = model.predict(x_in)\n",
        "\n",
        "  # Check for multi-class\n",
        "  if len(y_pred[0]) > 1:\n",
        "    print(\"doing multiclass classification\")\n",
        "    # We have to reshape our prediction to get them ready for plotting\n",
        "    y_pred = np.argmax(y_pred, axis=1).reshape(xx.shape)\n",
        "  else:\n",
        "    print(\"doing binary classification\")\n",
        "    y_pred = np.round(y_pred).reshape(xx.shape)\n",
        "  \n",
        "  # Plot the dencision boundary\n",
        "  plt.contourf(xx, yy, y_pred, cmap=plt.cm.RdYlBu, alpha=0.7)\n",
        "  plt.scatter(X[:, 0], X[:, 1], c=y, s=40, cmap=plt.cm.RdYlBu)\n",
        "  plt.xlim(xx.min(), xx.max())\n",
        "  plt.ylim(yy.min(), yy.max())\n"
      ],
      "execution_count": 16,
      "outputs": []
    },
    {
      "cell_type": "code",
      "metadata": {
        "id": "vokukzQj-Uqa",
        "colab": {
          "base_uri": "https://localhost:8080/",
          "height": 282
        },
        "outputId": "a0fef7f4-a348-4867-af23-c6e09a2537a3"
      },
      "source": [
        "# Check out the predictions our model is making\n",
        "plot_decision_boundary(model_3,X=X,y=y)"
      ],
      "execution_count": 17,
      "outputs": [
        {
          "output_type": "stream",
          "text": [
            "doing binary classification\n"
          ],
          "name": "stdout"
        },
        {
          "output_type": "display_data",
          "data": {
            "image/png": "[encoded data removed]",
            "text/plain": [
              "<Figure size 432x288 with 1 Axes>"
            ]
          },
          "metadata": {
            "tags": [],
            "needs_background": "light"
          }
        }
      ]
    },
    {
      "cell_type": "code",
      "metadata": {
        "id": "NUyZ_dheCUVG"
      },
      "source": [
        "# Lets's see  if our model can be used for Regressiong problem\n",
        "\n",
        "tf.random.set_seed(42)\n",
        "\n",
        "# Create some regression data\n",
        "X_regression = tf.range(0, 1000, 5)\n",
        "y_regression = tf.range(100, 1100, 5) # y= X + 100\n",
        "\n",
        "# Split our regression data into training and test sets\n",
        "X_reg_train = X_regression[:150]\n",
        "X_reg_test = X_regression[150:]\n",
        "y_reg_train = y_regression[:150]\n",
        "y_reg_test = y_regression[150:]\n",
        "\n",
        "# Fit our model to the regression data\n",
        "#model_3.fit(X_reg_train,y_reg_train,epochs=100)"
      ],
      "execution_count": 24,
      "outputs": []
    },
    {
      "cell_type": "markdown",
      "metadata": {
        "id": "8WDqaYT31yCA"
      },
      "source": [
        "oh wait..We complied our model for binary classification problem\n",
        "\n",
        "But we're now working on aregression problem, let's change the model to suit our data\n",
        " "
      ]
    },
    {
      "cell_type": "code",
      "metadata": {
        "id": "sy00Kw4h0-53",
        "outputId": "e603bd28-511a-4e38-cc68-9640c2d9e424",
        "colab": {
          "base_uri": "https://localhost:8080/"
        }
      },
      "source": [
        "# Set the random seed\n",
        "tf.random.set_seed(42)\n",
        "\n",
        "# 1.create the model (this time 3 layers)\n",
        "model_3=tf.keras.Sequential([\n",
        "      tf.keras.layers.Dense(100), # Add 100 dense neurons\n",
        "      tf.keras.layers.Dense(10), # Add another layer with 10 neurons\n",
        "      tf.keras.layers.Dense(1)                       \n",
        "])\n",
        "\n",
        "# 2. Compile the model, this time with a regression-specific loss function\n",
        "model_3.compile(loss=tf.keras.losses.mae,optimizer=tf.keras.optimizers.Adam(),\n",
        "                metrics=['mae'])\n",
        "\n",
        "#3. Fit the model\n",
        "model_3.fit(X_reg_train,y_reg_train,epochs=100)"
      ],
      "execution_count": 25,
      "outputs": [
        {
          "output_type": "stream",
          "text": [
            "Epoch 1/100\n",
            "5/5 [==============================] - 0s 3ms/step - loss: 248.2155 - mae: 248.2155\n",
            "Epoch 2/100\n",
            "5/5 [==============================] - 0s 4ms/step - loss: 138.9005 - mae: 138.9005\n",
            "Epoch 3/100\n",
            "5/5 [==============================] - 0s 3ms/step - loss: 53.1039 - mae: 53.1039\n",
            "Epoch 4/100\n",
            "5/5 [==============================] - 0s 3ms/step - loss: 73.5170 - mae: 73.5170\n",
            "Epoch 5/100\n",
            "5/5 [==============================] - 0s 3ms/step - loss: 71.2358 - mae: 71.2358\n",
            "Epoch 6/100\n",
            "5/5 [==============================] - 0s 3ms/step - loss: 47.0040 - mae: 47.0040\n",
            "Epoch 7/100\n",
            "5/5 [==============================] - 0s 3ms/step - loss: 45.9386 - mae: 45.9386\n",
            "Epoch 8/100\n",
            "5/5 [==============================] - 0s 3ms/step - loss: 42.3638 - mae: 42.3638\n",
            "Epoch 9/100\n",
            "5/5 [==============================] - 0s 3ms/step - loss: 43.6831 - mae: 43.6831\n",
            "Epoch 10/100\n",
            "5/5 [==============================] - 0s 3ms/step - loss: 42.6198 - mae: 42.6198\n",
            "Epoch 11/100\n",
            "5/5 [==============================] - 0s 3ms/step - loss: 42.4797 - mae: 42.4797\n",
            "Epoch 12/100\n",
            "5/5 [==============================] - 0s 3ms/step - loss: 41.5537 - mae: 41.5537\n",
            "Epoch 13/100\n",
            "5/5 [==============================] - 0s 4ms/step - loss: 42.0972 - mae: 42.0972\n",
            "Epoch 14/100\n",
            "5/5 [==============================] - 0s 3ms/step - loss: 41.8647 - mae: 41.8647\n",
            "Epoch 15/100\n",
            "5/5 [==============================] - 0s 4ms/step - loss: 41.5342 - mae: 41.5342\n",
            "Epoch 16/100\n",
            "5/5 [==============================] - 0s 4ms/step - loss: 41.4028 - mae: 41.4028\n",
            "Epoch 17/100\n",
            "5/5 [==============================] - 0s 2ms/step - loss: 41.6887 - mae: 41.6887\n",
            "Epoch 18/100\n",
            "5/5 [==============================] - 0s 4ms/step - loss: 41.6137 - mae: 41.6137\n",
            "Epoch 19/100\n",
            "5/5 [==============================] - 0s 3ms/step - loss: 41.2796 - mae: 41.2796\n",
            "Epoch 20/100\n",
            "5/5 [==============================] - 0s 3ms/step - loss: 41.1947 - mae: 41.1947\n",
            "Epoch 21/100\n",
            "5/5 [==============================] - 0s 3ms/step - loss: 41.2130 - mae: 41.2130\n",
            "Epoch 22/100\n",
            "5/5 [==============================] - 0s 5ms/step - loss: 41.0893 - mae: 41.0893\n",
            "Epoch 23/100\n",
            "5/5 [==============================] - 0s 3ms/step - loss: 41.2019 - mae: 41.2019\n",
            "Epoch 24/100\n",
            "5/5 [==============================] - 0s 3ms/step - loss: 40.9989 - mae: 40.9989\n",
            "Epoch 25/100\n",
            "5/5 [==============================] - 0s 4ms/step - loss: 41.0131 - mae: 41.0131\n",
            "Epoch 26/100\n",
            "5/5 [==============================] - 0s 3ms/step - loss: 41.0654 - mae: 41.0654\n",
            "Epoch 27/100\n",
            "5/5 [==============================] - 0s 4ms/step - loss: 40.8764 - mae: 40.8764\n",
            "Epoch 28/100\n",
            "5/5 [==============================] - 0s 3ms/step - loss: 41.0545 - mae: 41.0545\n",
            "Epoch 29/100\n",
            "5/5 [==============================] - 0s 4ms/step - loss: 41.0480 - mae: 41.0480\n",
            "Epoch 30/100\n",
            "5/5 [==============================] - 0s 4ms/step - loss: 40.8807 - mae: 40.8807\n",
            "Epoch 31/100\n",
            "5/5 [==============================] - 0s 2ms/step - loss: 41.2695 - mae: 41.2695\n",
            "Epoch 32/100\n",
            "5/5 [==============================] - 0s 3ms/step - loss: 40.9949 - mae: 40.9949\n",
            "Epoch 33/100\n",
            "5/5 [==============================] - 0s 3ms/step - loss: 41.0760 - mae: 41.0760\n",
            "Epoch 34/100\n",
            "5/5 [==============================] - 0s 3ms/step - loss: 41.2471 - mae: 41.2471\n",
            "Epoch 35/100\n",
            "5/5 [==============================] - 0s 3ms/step - loss: 40.6102 - mae: 40.6102\n",
            "Epoch 36/100\n",
            "5/5 [==============================] - 0s 4ms/step - loss: 41.1093 - mae: 41.1093\n",
            "Epoch 37/100\n",
            "5/5 [==============================] - 0s 4ms/step - loss: 40.8191 - mae: 40.8191\n",
            "Epoch 38/100\n",
            "5/5 [==============================] - 0s 3ms/step - loss: 40.2485 - mae: 40.2485\n",
            "Epoch 39/100\n",
            "5/5 [==============================] - 0s 4ms/step - loss: 41.0625 - mae: 41.0625\n",
            "Epoch 40/100\n",
            "5/5 [==============================] - 0s 4ms/step - loss: 40.5311 - mae: 40.5311\n",
            "Epoch 41/100\n",
            "5/5 [==============================] - 0s 4ms/step - loss: 40.5497 - mae: 40.5497\n",
            "Epoch 42/100\n",
            "5/5 [==============================] - 0s 4ms/step - loss: 40.4322 - mae: 40.4322\n",
            "Epoch 43/100\n",
            "5/5 [==============================] - 0s 3ms/step - loss: 40.5367 - mae: 40.5367\n",
            "Epoch 44/100\n",
            "5/5 [==============================] - 0s 5ms/step - loss: 40.2487 - mae: 40.2487\n",
            "Epoch 45/100\n",
            "5/5 [==============================] - 0s 4ms/step - loss: 40.5152 - mae: 40.5152\n",
            "Epoch 46/100\n",
            "5/5 [==============================] - 0s 4ms/step - loss: 40.3702 - mae: 40.3702\n",
            "Epoch 47/100\n",
            "5/5 [==============================] - 0s 5ms/step - loss: 40.4769 - mae: 40.4769\n",
            "Epoch 48/100\n",
            "5/5 [==============================] - 0s 3ms/step - loss: 40.1532 - mae: 40.1532\n",
            "Epoch 49/100\n",
            "5/5 [==============================] - 0s 4ms/step - loss: 40.7291 - mae: 40.7291\n",
            "Epoch 50/100\n",
            "5/5 [==============================] - 0s 4ms/step - loss: 40.1536 - mae: 40.1536\n",
            "Epoch 51/100\n",
            "5/5 [==============================] - 0s 4ms/step - loss: 40.2711 - mae: 40.2711\n",
            "Epoch 52/100\n",
            "5/5 [==============================] - 0s 3ms/step - loss: 40.6572 - mae: 40.6572\n",
            "Epoch 53/100\n",
            "5/5 [==============================] - 0s 3ms/step - loss: 40.6573 - mae: 40.6573\n",
            "Epoch 54/100\n",
            "5/5 [==============================] - 0s 3ms/step - loss: 40.6894 - mae: 40.6894\n",
            "Epoch 55/100\n",
            "5/5 [==============================] - 0s 3ms/step - loss: 41.2771 - mae: 41.2771\n",
            "Epoch 56/100\n",
            "5/5 [==============================] - 0s 4ms/step - loss: 41.8519 - mae: 41.8519\n",
            "Epoch 57/100\n",
            "5/5 [==============================] - 0s 4ms/step - loss: 40.7903 - mae: 40.7903\n",
            "Epoch 58/100\n",
            "5/5 [==============================] - 0s 3ms/step - loss: 40.3128 - mae: 40.3128\n",
            "Epoch 59/100\n",
            "5/5 [==============================] - 0s 3ms/step - loss: 40.7198 - mae: 40.7198\n",
            "Epoch 60/100\n",
            "5/5 [==============================] - 0s 4ms/step - loss: 40.1478 - mae: 40.1478\n",
            "Epoch 61/100\n",
            "5/5 [==============================] - 0s 3ms/step - loss: 40.1116 - mae: 40.1116\n",
            "Epoch 62/100\n",
            "5/5 [==============================] - 0s 3ms/step - loss: 40.7800 - mae: 40.7800\n",
            "Epoch 63/100\n",
            "5/5 [==============================] - 0s 3ms/step - loss: 39.7242 - mae: 39.7242\n",
            "Epoch 64/100\n",
            "5/5 [==============================] - 0s 4ms/step - loss: 40.1465 - mae: 40.1465\n",
            "Epoch 65/100\n",
            "5/5 [==============================] - 0s 6ms/step - loss: 39.6887 - mae: 39.6887\n",
            "Epoch 66/100\n",
            "5/5 [==============================] - 0s 4ms/step - loss: 40.2840 - mae: 40.2840\n",
            "Epoch 67/100\n",
            "5/5 [==============================] - 0s 5ms/step - loss: 39.5541 - mae: 39.5541\n",
            "Epoch 68/100\n",
            "5/5 [==============================] - 0s 3ms/step - loss: 39.7378 - mae: 39.7378\n",
            "Epoch 69/100\n",
            "5/5 [==============================] - 0s 3ms/step - loss: 39.9784 - mae: 39.9784\n",
            "Epoch 70/100\n",
            "5/5 [==============================] - 0s 3ms/step - loss: 40.0016 - mae: 40.0016\n",
            "Epoch 71/100\n",
            "5/5 [==============================] - 0s 3ms/step - loss: 40.0913 - mae: 40.0913\n",
            "Epoch 72/100\n",
            "5/5 [==============================] - 0s 3ms/step - loss: 39.2547 - mae: 39.2547\n",
            "Epoch 73/100\n",
            "5/5 [==============================] - 0s 4ms/step - loss: 39.6828 - mae: 39.6828\n",
            "Epoch 74/100\n",
            "5/5 [==============================] - 0s 4ms/step - loss: 39.5373 - mae: 39.5373\n",
            "Epoch 75/100\n",
            "5/5 [==============================] - 0s 3ms/step - loss: 39.6265 - mae: 39.6265\n",
            "Epoch 76/100\n",
            "5/5 [==============================] - 0s 4ms/step - loss: 39.3110 - mae: 39.3110\n",
            "Epoch 77/100\n",
            "5/5 [==============================] - 0s 4ms/step - loss: 39.1599 - mae: 39.1599\n",
            "Epoch 78/100\n",
            "5/5 [==============================] - 0s 3ms/step - loss: 39.7550 - mae: 39.7550\n",
            "Epoch 79/100\n",
            "5/5 [==============================] - 0s 5ms/step - loss: 39.2542 - mae: 39.2542\n",
            "Epoch 80/100\n",
            "5/5 [==============================] - 0s 4ms/step - loss: 38.6968 - mae: 38.6968\n",
            "Epoch 81/100\n",
            "5/5 [==============================] - 0s 3ms/step - loss: 39.5442 - mae: 39.5442\n",
            "Epoch 82/100\n",
            "5/5 [==============================] - 0s 4ms/step - loss: 39.8686 - mae: 39.8686\n",
            "Epoch 83/100\n",
            "5/5 [==============================] - 0s 4ms/step - loss: 39.1693 - mae: 39.1693\n",
            "Epoch 84/100\n",
            "5/5 [==============================] - 0s 4ms/step - loss: 38.8840 - mae: 38.8840\n",
            "Epoch 85/100\n",
            "5/5 [==============================] - 0s 3ms/step - loss: 38.8887 - mae: 38.8887\n",
            "Epoch 86/100\n",
            "5/5 [==============================] - 0s 3ms/step - loss: 38.6614 - mae: 38.6614\n",
            "Epoch 87/100\n",
            "5/5 [==============================] - 0s 4ms/step - loss: 38.8399 - mae: 38.8399\n",
            "Epoch 88/100\n",
            "5/5 [==============================] - 0s 4ms/step - loss: 38.6604 - mae: 38.6604\n",
            "Epoch 89/100\n",
            "5/5 [==============================] - 0s 3ms/step - loss: 38.7559 - mae: 38.7559\n",
            "Epoch 90/100\n",
            "5/5 [==============================] - 0s 4ms/step - loss: 38.5442 - mae: 38.5442\n",
            "Epoch 91/100\n",
            "5/5 [==============================] - 0s 4ms/step - loss: 38.3247 - mae: 38.3247\n",
            "Epoch 92/100\n",
            "5/5 [==============================] - 0s 5ms/step - loss: 38.8431 - mae: 38.8431\n",
            "Epoch 93/100\n",
            "5/5 [==============================] - 0s 5ms/step - loss: 39.1137 - mae: 39.1137\n",
            "Epoch 94/100\n",
            "5/5 [==============================] - 0s 4ms/step - loss: 38.1463 - mae: 38.1463\n",
            "Epoch 95/100\n",
            "5/5 [==============================] - 0s 4ms/step - loss: 38.3998 - mae: 38.3998\n",
            "Epoch 96/100\n",
            "5/5 [==============================] - 0s 5ms/step - loss: 38.5599 - mae: 38.5599\n",
            "Epoch 97/100\n",
            "5/5 [==============================] - 0s 4ms/step - loss: 38.1038 - mae: 38.1038\n",
            "Epoch 98/100\n",
            "5/5 [==============================] - 0s 4ms/step - loss: 39.0081 - mae: 39.0081\n",
            "Epoch 99/100\n",
            "5/5 [==============================] - 0s 5ms/step - loss: 38.3056 - mae: 38.3056\n",
            "Epoch 100/100\n",
            "5/5 [==============================] - 0s 3ms/step - loss: 37.9976 - mae: 37.9976\n"
          ],
          "name": "stdout"
        },
        {
          "output_type": "execute_result",
          "data": {
            "text/plain": [
              "<tensorflow.python.keras.callbacks.History at 0x7f00fc9e3a90>"
            ]
          },
          "metadata": {
            "tags": []
          },
          "execution_count": 25
        }
      ]
    },
    {
      "cell_type": "code",
      "metadata": {
        "id": "HQcGBySb2STA",
        "outputId": "e82f1e49-2a32-4936-c50c-42068f3c6b43",
        "colab": {
          "base_uri": "https://localhost:8080/",
          "height": 428
        }
      },
      "source": [
        "# Make prediction with our trained model\n",
        "y_reg_preds = model_3.predict(X_reg_test) \n",
        "\n",
        "# Plot the model's  predictions against our regression data\n",
        "plt.figure(figsize=(10, 7))\n",
        "plt.scatter(X_reg_train,y_reg_train, c=\"b\" , label =\"Training data\")\n",
        "plt.scatter(X_reg_test,y_reg_test, c=\"g\" , label =\"Test data\")\n",
        "plt.scatter(X_reg_test,y_reg_preds, c=\"r\" , label =\"Predictions\")\n",
        "plt.legend();"
      ],
      "execution_count": 27,
      "outputs": [
        {
          "output_type": "display_data",
          "data": {
            "image/png": "[encoded data removed]",
            "text/plain": [
              "<Figure size 720x504 with 1 Axes>"
            ]
          },
          "metadata": {
            "tags": [],
            "needs_background": "light"
          }
        }
      ]
    },
    {
      "cell_type": "markdown",
      "metadata": {
        "id": "Kf6t22oS3KQh"
      },
      "source": [
        "## The missing piece: Non-linearity"
      ]
    },
    {
      "cell_type": "code",
      "metadata": {
        "id": "HwWTgYxA3Jmz",
        "outputId": "0ad2d5d2-a5bd-47c0-d09c-eff952fbefd1",
        "colab": {
          "base_uri": "https://localhost:8080/"
        }
      },
      "source": [
        "# Set the random seed\n",
        "tf.random.set_seed(42)\n",
        "\n",
        "#1. Create the model\n",
        "model_4 = tf.keras.Sequential([\n",
        "                               tf.keras.layers.Dense(1, activation=tf.keras.activations.linear)\n",
        "])\n",
        "\n",
        "#2. Compile model\n",
        "\n",
        "model_4.compile(loss=\"binary_crossentropy\", optimizer=tf.keras.optimizers.Adam(0.001),\n",
        "              metrics=[\"accuracy\"])\n",
        "\n",
        "#3.Fit the model\n",
        "history = model_4.fit(X,y,epochs=100)"
      ],
      "execution_count": 32,
      "outputs": [
        {
          "output_type": "stream",
          "text": [
            "Epoch 1/100\n",
            "32/32 [==============================] - 0s 1ms/step - loss: 4.2979 - accuracy: 0.4670\n",
            "Epoch 2/100\n",
            "32/32 [==============================] - 0s 1ms/step - loss: 4.2317 - accuracy: 0.4400\n",
            "Epoch 3/100\n",
            "32/32 [==============================] - 0s 986us/step - loss: 4.1610 - accuracy: 0.4310\n",
            "Epoch 4/100\n",
            "32/32 [==============================] - 0s 1ms/step - loss: 4.1183 - accuracy: 0.4270\n",
            "Epoch 5/100\n",
            "32/32 [==============================] - 0s 1ms/step - loss: 4.0784 - accuracy: 0.4240\n",
            "Epoch 6/100\n",
            "32/32 [==============================] - 0s 1ms/step - loss: 3.9604 - accuracy: 0.4170\n",
            "Epoch 7/100\n",
            "32/32 [==============================] - 0s 1ms/step - loss: 3.8936 - accuracy: 0.4110\n",
            "Epoch 8/100\n",
            "32/32 [==============================] - 0s 1ms/step - loss: 3.7818 - accuracy: 0.4140\n",
            "Epoch 9/100\n",
            "32/32 [==============================] - 0s 1ms/step - loss: 3.7564 - accuracy: 0.4140\n",
            "Epoch 10/100\n",
            "32/32 [==============================] - 0s 1ms/step - loss: 3.7547 - accuracy: 0.4150\n",
            "Epoch 11/100\n",
            "32/32 [==============================] - 0s 1ms/step - loss: 3.7537 - accuracy: 0.4140\n",
            "Epoch 12/100\n",
            "32/32 [==============================] - 0s 1ms/step - loss: 3.7526 - accuracy: 0.4140\n",
            "Epoch 13/100\n",
            "32/32 [==============================] - 0s 1ms/step - loss: 3.7518 - accuracy: 0.4140\n",
            "Epoch 14/100\n",
            "32/32 [==============================] - 0s 1ms/step - loss: 3.7510 - accuracy: 0.4140\n",
            "Epoch 15/100\n",
            "32/32 [==============================] - 0s 1ms/step - loss: 3.7503 - accuracy: 0.4130\n",
            "Epoch 16/100\n",
            "32/32 [==============================] - 0s 1ms/step - loss: 3.7497 - accuracy: 0.4130\n",
            "Epoch 17/100\n",
            "32/32 [==============================] - 0s 1ms/step - loss: 3.7490 - accuracy: 0.4130\n",
            "Epoch 18/100\n",
            "32/32 [==============================] - 0s 1ms/step - loss: 3.7484 - accuracy: 0.4130\n",
            "Epoch 19/100\n",
            "32/32 [==============================] - 0s 1ms/step - loss: 3.7478 - accuracy: 0.4120\n",
            "Epoch 20/100\n",
            "32/32 [==============================] - 0s 1ms/step - loss: 3.7472 - accuracy: 0.4120\n",
            "Epoch 21/100\n",
            "32/32 [==============================] - 0s 1ms/step - loss: 3.7466 - accuracy: 0.4110\n",
            "Epoch 22/100\n",
            "32/32 [==============================] - 0s 1ms/step - loss: 3.7461 - accuracy: 0.4110\n",
            "Epoch 23/100\n",
            "32/32 [==============================] - 0s 1ms/step - loss: 3.7455 - accuracy: 0.4110\n",
            "Epoch 24/100\n",
            "32/32 [==============================] - 0s 1ms/step - loss: 3.7450 - accuracy: 0.4110\n",
            "Epoch 25/100\n",
            "32/32 [==============================] - 0s 1ms/step - loss: 3.7366 - accuracy: 0.4120\n",
            "Epoch 26/100\n",
            "32/32 [==============================] - 0s 1ms/step - loss: 3.7256 - accuracy: 0.4120\n",
            "Epoch 27/100\n",
            "32/32 [==============================] - 0s 1ms/step - loss: 3.7230 - accuracy: 0.4140\n",
            "Epoch 28/100\n",
            "32/32 [==============================] - 0s 1ms/step - loss: 3.7215 - accuracy: 0.4140\n",
            "Epoch 29/100\n",
            "32/32 [==============================] - 0s 1ms/step - loss: 3.7204 - accuracy: 0.4150\n",
            "Epoch 30/100\n",
            "32/32 [==============================] - 0s 1ms/step - loss: 3.7196 - accuracy: 0.4160\n",
            "Epoch 31/100\n",
            "32/32 [==============================] - 0s 1ms/step - loss: 3.7188 - accuracy: 0.4170\n",
            "Epoch 32/100\n",
            "32/32 [==============================] - 0s 2ms/step - loss: 3.7181 - accuracy: 0.4170\n",
            "Epoch 33/100\n",
            "32/32 [==============================] - 0s 1ms/step - loss: 3.7174 - accuracy: 0.4170\n",
            "Epoch 34/100\n",
            "32/32 [==============================] - 0s 1ms/step - loss: 3.7167 - accuracy: 0.4170\n",
            "Epoch 35/100\n",
            "32/32 [==============================] - 0s 1ms/step - loss: 3.7161 - accuracy: 0.4160\n",
            "Epoch 36/100\n",
            "32/32 [==============================] - 0s 1ms/step - loss: 3.7153 - accuracy: 0.4150\n",
            "Epoch 37/100\n",
            "32/32 [==============================] - 0s 1ms/step - loss: 3.7147 - accuracy: 0.4150\n",
            "Epoch 38/100\n",
            "32/32 [==============================] - 0s 1ms/step - loss: 3.7141 - accuracy: 0.4150\n",
            "Epoch 39/100\n",
            "32/32 [==============================] - 0s 1ms/step - loss: 3.7135 - accuracy: 0.4150\n",
            "Epoch 40/100\n",
            "32/32 [==============================] - 0s 1ms/step - loss: 3.7129 - accuracy: 0.4150\n",
            "Epoch 41/100\n",
            "32/32 [==============================] - 0s 1ms/step - loss: 3.7123 - accuracy: 0.4150\n",
            "Epoch 42/100\n",
            "32/32 [==============================] - 0s 1ms/step - loss: 3.7118 - accuracy: 0.4160\n",
            "Epoch 43/100\n",
            "32/32 [==============================] - 0s 1ms/step - loss: 3.7112 - accuracy: 0.4160\n",
            "Epoch 44/100\n",
            "32/32 [==============================] - 0s 1ms/step - loss: 3.7107 - accuracy: 0.4160\n",
            "Epoch 45/100\n",
            "32/32 [==============================] - 0s 1ms/step - loss: 3.7101 - accuracy: 0.4150\n",
            "Epoch 46/100\n",
            "32/32 [==============================] - 0s 1ms/step - loss: 3.7096 - accuracy: 0.4170\n",
            "Epoch 47/100\n",
            "32/32 [==============================] - 0s 1ms/step - loss: 3.7091 - accuracy: 0.4170\n",
            "Epoch 48/100\n",
            "32/32 [==============================] - 0s 1ms/step - loss: 3.7014 - accuracy: 0.4170\n",
            "Epoch 49/100\n",
            "32/32 [==============================] - 0s 1ms/step - loss: 3.6892 - accuracy: 0.4190\n",
            "Epoch 50/100\n",
            "32/32 [==============================] - 0s 1ms/step - loss: 3.6856 - accuracy: 0.4190\n",
            "Epoch 51/100\n",
            "32/32 [==============================] - 0s 1ms/step - loss: 3.6846 - accuracy: 0.4190\n",
            "Epoch 52/100\n",
            "32/32 [==============================] - 0s 1ms/step - loss: 3.6837 - accuracy: 0.4190\n",
            "Epoch 53/100\n",
            "32/32 [==============================] - 0s 1ms/step - loss: 3.6829 - accuracy: 0.4190\n",
            "Epoch 54/100\n",
            "32/32 [==============================] - 0s 1ms/step - loss: 3.6821 - accuracy: 0.4190\n",
            "Epoch 55/100\n",
            "32/32 [==============================] - 0s 1ms/step - loss: 3.6814 - accuracy: 0.4190\n",
            "Epoch 56/100\n",
            "32/32 [==============================] - 0s 1ms/step - loss: 3.6807 - accuracy: 0.4200\n",
            "Epoch 57/100\n",
            "32/32 [==============================] - 0s 1ms/step - loss: 3.6727 - accuracy: 0.4210\n",
            "Epoch 58/100\n",
            "32/32 [==============================] - 0s 1ms/step - loss: 3.6690 - accuracy: 0.4190\n",
            "Epoch 59/100\n",
            "32/32 [==============================] - 0s 1ms/step - loss: 3.6677 - accuracy: 0.4190\n",
            "Epoch 60/100\n",
            "32/32 [==============================] - 0s 1ms/step - loss: 3.6585 - accuracy: 0.4190\n",
            "Epoch 61/100\n",
            "32/32 [==============================] - 0s 1ms/step - loss: 3.6489 - accuracy: 0.4200\n",
            "Epoch 62/100\n",
            "32/32 [==============================] - 0s 1ms/step - loss: 3.6330 - accuracy: 0.4190\n",
            "Epoch 63/100\n",
            "32/32 [==============================] - 0s 1ms/step - loss: 3.6282 - accuracy: 0.4200\n",
            "Epoch 64/100\n",
            "32/32 [==============================] - 0s 1ms/step - loss: 3.6162 - accuracy: 0.4220\n",
            "Epoch 65/100\n",
            "32/32 [==============================] - 0s 1ms/step - loss: 3.6062 - accuracy: 0.4240\n",
            "Epoch 66/100\n",
            "32/32 [==============================] - 0s 1ms/step - loss: 3.6031 - accuracy: 0.4260\n",
            "Epoch 67/100\n",
            "32/32 [==============================] - 0s 1ms/step - loss: 3.6012 - accuracy: 0.4280\n",
            "Epoch 68/100\n",
            "32/32 [==============================] - 0s 1ms/step - loss: 3.5999 - accuracy: 0.4280\n",
            "Epoch 69/100\n",
            "32/32 [==============================] - 0s 1ms/step - loss: 3.5904 - accuracy: 0.4290\n",
            "Epoch 70/100\n",
            "32/32 [==============================] - 0s 1ms/step - loss: 3.5858 - accuracy: 0.4300\n",
            "Epoch 71/100\n",
            "32/32 [==============================] - 0s 1ms/step - loss: 3.5846 - accuracy: 0.4300\n",
            "Epoch 72/100\n",
            "32/32 [==============================] - 0s 1ms/step - loss: 3.5836 - accuracy: 0.4300\n",
            "Epoch 73/100\n",
            "32/32 [==============================] - 0s 1ms/step - loss: 3.5826 - accuracy: 0.4310\n",
            "Epoch 74/100\n",
            "32/32 [==============================] - 0s 1ms/step - loss: 3.5817 - accuracy: 0.4330\n",
            "Epoch 75/100\n",
            "32/32 [==============================] - 0s 1ms/step - loss: 3.5656 - accuracy: 0.4360\n",
            "Epoch 76/100\n",
            "32/32 [==============================] - 0s 1ms/step - loss: 3.5355 - accuracy: 0.4410\n",
            "Epoch 77/100\n",
            "32/32 [==============================] - 0s 1ms/step - loss: 3.5335 - accuracy: 0.4410\n",
            "Epoch 78/100\n",
            "32/32 [==============================] - 0s 1ms/step - loss: 3.5319 - accuracy: 0.4420\n",
            "Epoch 79/100\n",
            "32/32 [==============================] - 0s 1ms/step - loss: 3.5306 - accuracy: 0.4420\n",
            "Epoch 80/100\n",
            "32/32 [==============================] - 0s 2ms/step - loss: 3.5208 - accuracy: 0.4420\n",
            "Epoch 81/100\n",
            "32/32 [==============================] - 0s 1ms/step - loss: 3.5172 - accuracy: 0.4420\n",
            "Epoch 82/100\n",
            "32/32 [==============================] - 0s 1ms/step - loss: 3.5157 - accuracy: 0.4430\n",
            "Epoch 83/100\n",
            "32/32 [==============================] - 0s 1ms/step - loss: 3.5144 - accuracy: 0.4450\n",
            "Epoch 84/100\n",
            "32/32 [==============================] - 0s 1ms/step - loss: 3.5132 - accuracy: 0.4450\n",
            "Epoch 85/100\n",
            "32/32 [==============================] - 0s 1ms/step - loss: 3.5043 - accuracy: 0.4460\n",
            "Epoch 86/100\n",
            "32/32 [==============================] - 0s 1ms/step - loss: 3.5002 - accuracy: 0.4470\n",
            "Epoch 87/100\n",
            "32/32 [==============================] - 0s 1ms/step - loss: 3.4905 - accuracy: 0.4470\n",
            "Epoch 88/100\n",
            "32/32 [==============================] - 0s 1ms/step - loss: 3.4788 - accuracy: 0.4470\n",
            "Epoch 89/100\n",
            "32/32 [==============================] - 0s 1ms/step - loss: 3.4661 - accuracy: 0.4470\n",
            "Epoch 90/100\n",
            "32/32 [==============================] - 0s 1ms/step - loss: 3.4452 - accuracy: 0.4490\n",
            "Epoch 91/100\n",
            "32/32 [==============================] - 0s 1ms/step - loss: 3.4198 - accuracy: 0.4560\n",
            "Epoch 92/100\n",
            "32/32 [==============================] - 0s 1ms/step - loss: 3.4176 - accuracy: 0.4550\n",
            "Epoch 93/100\n",
            "32/32 [==============================] - 0s 1ms/step - loss: 3.4072 - accuracy: 0.4580\n",
            "Epoch 94/100\n",
            "32/32 [==============================] - 0s 1ms/step - loss: 3.4036 - accuracy: 0.4580\n",
            "Epoch 95/100\n",
            "32/32 [==============================] - 0s 1ms/step - loss: 3.3944 - accuracy: 0.4590\n",
            "Epoch 96/100\n",
            "32/32 [==============================] - 0s 1ms/step - loss: 3.3290 - accuracy: 0.4590\n",
            "Epoch 97/100\n",
            "32/32 [==============================] - 0s 1ms/step - loss: 3.2727 - accuracy: 0.4600\n",
            "Epoch 98/100\n",
            "32/32 [==============================] - 0s 1ms/step - loss: 3.2636 - accuracy: 0.4580\n",
            "Epoch 99/100\n",
            "32/32 [==============================] - 0s 1ms/step - loss: 3.2509 - accuracy: 0.4570\n",
            "Epoch 100/100\n",
            "32/32 [==============================] - 0s 1ms/step - loss: 3.2459 - accuracy: 0.4570\n"
          ],
          "name": "stdout"
        }
      ]
    },
    {
      "cell_type": "code",
      "metadata": {
        "id": "YhEhtMaT6K1i",
        "outputId": "7ce90a73-62bb-4607-f85b-60174f6dff0c",
        "colab": {
          "base_uri": "https://localhost:8080/",
          "height": 282
        }
      },
      "source": [
        "# Check out our data\n",
        "plt.scatter(X[:, 0],X[:, 1], c=y, cmap=plt.cm.RdYlBu)"
      ],
      "execution_count": 33,
      "outputs": [
        {
          "output_type": "execute_result",
          "data": {
            "text/plain": [
              "<matplotlib.collections.PathCollection at 0x7f00fc674390>"
            ]
          },
          "metadata": {
            "tags": []
          },
          "execution_count": 33
        },
        {
          "output_type": "display_data",
          "data": {
            "image/png": "[encoded data removed]",
            "text/plain": [
              "<Figure size 432x288 with 1 Axes>"
            ]
          },
          "metadata": {
            "tags": [],
            "needs_background": "light"
          }
        }
      ]
    },
    {
      "cell_type": "code",
      "metadata": {
        "id": "n9hctb5l6nnh",
        "outputId": "4994dcdc-b339-45d8-de3e-bfe1e0b294ea",
        "colab": {
          "base_uri": "https://localhost:8080/",
          "height": 282
        }
      },
      "source": [
        "# Check the decision boundary for our lates model\n",
        "\n",
        "plot_decision_boundary(model=model_4,X=X,y=y)"
      ],
      "execution_count": 35,
      "outputs": [
        {
          "output_type": "stream",
          "text": [
            "doing binary classification\n"
          ],
          "name": "stdout"
        },
        {
          "output_type": "display_data",
          "data": {
            "image/png": "[encoded data removed]",
            "text/plain": [
              "<Figure size 432x288 with 1 Axes>"
            ]
          },
          "metadata": {
            "tags": [],
            "needs_background": "light"
          }
        }
      ]
    },
    {
      "cell_type": "markdown",
      "metadata": {
        "id": "AU9hkK9e8ZpS"
      },
      "source": [
        "Let's try build our first neural network using non linear activation function."
      ]
    },
    {
      "cell_type": "code",
      "metadata": {
        "id": "b3NqNLIU65vs",
        "outputId": "27f4a053-c2ce-40ad-c603-a51c2ba10951",
        "colab": {
          "base_uri": "https://localhost:8080/"
        }
      },
      "source": [
        "# Set random seed\n",
        "tf.random.set_seed(42)\n",
        "\n",
        "#1. Create a model with a non-linear activation\n",
        "model_5 = tf.keras.Sequential([\n",
        "    tf.keras.layers.Dense(1, activation=tf.keras.activations.relu)\n",
        "])\n",
        "\n",
        "#2. Compile the model\n",
        "model_5.compile(loss=tf.keras.losses.BinaryCrossentropy(),\n",
        "                optimizer=tf.keras.optimizers.Adam(0.001),\n",
        "                metrics=[\"accuracy\"])\n",
        "#3.fit the model\n",
        "\n",
        "history_1 = model_5.fit(X,y, epochs=100)"
      ],
      "execution_count": 41,
      "outputs": [
        {
          "output_type": "stream",
          "text": [
            "Epoch 1/100\n",
            "32/32 [==============================] - 0s 1ms/step - loss: 4.2979 - accuracy: 0.4670\n",
            "Epoch 2/100\n",
            "32/32 [==============================] - 0s 988us/step - loss: 4.2317 - accuracy: 0.4400\n",
            "Epoch 3/100\n",
            "32/32 [==============================] - 0s 1ms/step - loss: 4.1610 - accuracy: 0.4310\n",
            "Epoch 4/100\n",
            "32/32 [==============================] - 0s 1ms/step - loss: 4.1183 - accuracy: 0.4270\n",
            "Epoch 5/100\n",
            "32/32 [==============================] - 0s 1ms/step - loss: 4.0784 - accuracy: 0.4240\n",
            "Epoch 6/100\n",
            "32/32 [==============================] - 0s 1ms/step - loss: 3.9604 - accuracy: 0.4170\n",
            "Epoch 7/100\n",
            "32/32 [==============================] - 0s 1ms/step - loss: 3.8936 - accuracy: 0.4110\n",
            "Epoch 8/100\n",
            "32/32 [==============================] - 0s 1ms/step - loss: 3.7818 - accuracy: 0.4140\n",
            "Epoch 9/100\n",
            "32/32 [==============================] - 0s 1ms/step - loss: 3.7564 - accuracy: 0.4140\n",
            "Epoch 10/100\n",
            "32/32 [==============================] - 0s 1ms/step - loss: 3.7547 - accuracy: 0.4150\n",
            "Epoch 11/100\n",
            "32/32 [==============================] - 0s 1ms/step - loss: 3.7537 - accuracy: 0.4140\n",
            "Epoch 12/100\n",
            "32/32 [==============================] - 0s 1ms/step - loss: 3.7526 - accuracy: 0.4140\n",
            "Epoch 13/100\n",
            "32/32 [==============================] - 0s 1ms/step - loss: 3.7518 - accuracy: 0.4140\n",
            "Epoch 14/100\n",
            "32/32 [==============================] - 0s 1ms/step - loss: 3.7510 - accuracy: 0.4140\n",
            "Epoch 15/100\n",
            "32/32 [==============================] - 0s 1ms/step - loss: 3.7503 - accuracy: 0.4130\n",
            "Epoch 16/100\n",
            "32/32 [==============================] - 0s 1ms/step - loss: 3.7497 - accuracy: 0.4130\n",
            "Epoch 17/100\n",
            "32/32 [==============================] - 0s 1ms/step - loss: 3.7490 - accuracy: 0.4130\n",
            "Epoch 18/100\n",
            "32/32 [==============================] - 0s 1ms/step - loss: 3.7484 - accuracy: 0.4130\n",
            "Epoch 19/100\n",
            "32/32 [==============================] - 0s 1ms/step - loss: 3.7478 - accuracy: 0.4120\n",
            "Epoch 20/100\n",
            "32/32 [==============================] - 0s 1ms/step - loss: 3.7472 - accuracy: 0.4120\n",
            "Epoch 21/100\n",
            "32/32 [==============================] - 0s 1ms/step - loss: 3.7466 - accuracy: 0.4110\n",
            "Epoch 22/100\n",
            "32/32 [==============================] - 0s 1ms/step - loss: 3.7461 - accuracy: 0.4110\n",
            "Epoch 23/100\n",
            "32/32 [==============================] - 0s 2ms/step - loss: 3.7455 - accuracy: 0.4110\n",
            "Epoch 24/100\n",
            "32/32 [==============================] - 0s 1ms/step - loss: 3.7450 - accuracy: 0.4110\n",
            "Epoch 25/100\n",
            "32/32 [==============================] - 0s 1ms/step - loss: 3.7366 - accuracy: 0.4120\n",
            "Epoch 26/100\n",
            "32/32 [==============================] - 0s 1ms/step - loss: 3.7256 - accuracy: 0.4120\n",
            "Epoch 27/100\n",
            "32/32 [==============================] - 0s 1ms/step - loss: 3.7230 - accuracy: 0.4140\n",
            "Epoch 28/100\n",
            "32/32 [==============================] - 0s 1ms/step - loss: 3.7215 - accuracy: 0.4140\n",
            "Epoch 29/100\n",
            "32/32 [==============================] - 0s 1ms/step - loss: 3.7204 - accuracy: 0.4150\n",
            "Epoch 30/100\n",
            "32/32 [==============================] - 0s 1ms/step - loss: 3.7196 - accuracy: 0.4160\n",
            "Epoch 31/100\n",
            "32/32 [==============================] - 0s 1ms/step - loss: 3.7188 - accuracy: 0.4170\n",
            "Epoch 32/100\n",
            "32/32 [==============================] - 0s 1ms/step - loss: 3.7181 - accuracy: 0.4170\n",
            "Epoch 33/100\n",
            "32/32 [==============================] - 0s 1ms/step - loss: 3.7174 - accuracy: 0.4170\n",
            "Epoch 34/100\n",
            "32/32 [==============================] - 0s 1ms/step - loss: 3.7167 - accuracy: 0.4170\n",
            "Epoch 35/100\n",
            "32/32 [==============================] - 0s 1ms/step - loss: 3.7161 - accuracy: 0.4160\n",
            "Epoch 36/100\n",
            "32/32 [==============================] - 0s 1ms/step - loss: 3.7153 - accuracy: 0.4150\n",
            "Epoch 37/100\n",
            "32/32 [==============================] - 0s 1ms/step - loss: 3.7147 - accuracy: 0.4150\n",
            "Epoch 38/100\n",
            "32/32 [==============================] - 0s 1ms/step - loss: 3.7141 - accuracy: 0.4150\n",
            "Epoch 39/100\n",
            "32/32 [==============================] - 0s 1ms/step - loss: 3.7135 - accuracy: 0.4150\n",
            "Epoch 40/100\n",
            "32/32 [==============================] - 0s 1ms/step - loss: 3.7129 - accuracy: 0.4150\n",
            "Epoch 41/100\n",
            "32/32 [==============================] - 0s 1ms/step - loss: 3.7123 - accuracy: 0.4150\n",
            "Epoch 42/100\n",
            "32/32 [==============================] - 0s 1ms/step - loss: 3.7118 - accuracy: 0.4160\n",
            "Epoch 43/100\n",
            "32/32 [==============================] - 0s 1ms/step - loss: 3.7112 - accuracy: 0.4160\n",
            "Epoch 44/100\n",
            "32/32 [==============================] - 0s 1ms/step - loss: 3.7107 - accuracy: 0.4160\n",
            "Epoch 45/100\n",
            "32/32 [==============================] - 0s 1ms/step - loss: 3.7101 - accuracy: 0.4150\n",
            "Epoch 46/100\n",
            "32/32 [==============================] - 0s 2ms/step - loss: 3.7096 - accuracy: 0.4170\n",
            "Epoch 47/100\n",
            "32/32 [==============================] - 0s 1ms/step - loss: 3.7091 - accuracy: 0.4170\n",
            "Epoch 48/100\n",
            "32/32 [==============================] - 0s 1ms/step - loss: 3.7014 - accuracy: 0.4170\n",
            "Epoch 49/100\n",
            "32/32 [==============================] - 0s 1ms/step - loss: 3.6892 - accuracy: 0.4190\n",
            "Epoch 50/100\n",
            "32/32 [==============================] - 0s 1ms/step - loss: 3.6856 - accuracy: 0.4190\n",
            "Epoch 51/100\n",
            "32/32 [==============================] - 0s 2ms/step - loss: 3.6846 - accuracy: 0.4190\n",
            "Epoch 52/100\n",
            "32/32 [==============================] - 0s 1ms/step - loss: 3.6837 - accuracy: 0.4190\n",
            "Epoch 53/100\n",
            "32/32 [==============================] - 0s 1ms/step - loss: 3.6829 - accuracy: 0.4190\n",
            "Epoch 54/100\n",
            "32/32 [==============================] - 0s 1ms/step - loss: 3.6821 - accuracy: 0.4190\n",
            "Epoch 55/100\n",
            "32/32 [==============================] - 0s 1ms/step - loss: 3.6814 - accuracy: 0.4190\n",
            "Epoch 56/100\n",
            "32/32 [==============================] - 0s 1ms/step - loss: 3.6807 - accuracy: 0.4200\n",
            "Epoch 57/100\n",
            "32/32 [==============================] - 0s 1ms/step - loss: 3.6727 - accuracy: 0.4210\n",
            "Epoch 58/100\n",
            "32/32 [==============================] - 0s 1ms/step - loss: 3.6690 - accuracy: 0.4190\n",
            "Epoch 59/100\n",
            "32/32 [==============================] - 0s 1ms/step - loss: 3.6677 - accuracy: 0.4190\n",
            "Epoch 60/100\n",
            "32/32 [==============================] - 0s 1ms/step - loss: 3.6585 - accuracy: 0.4190\n",
            "Epoch 61/100\n",
            "32/32 [==============================] - 0s 1ms/step - loss: 3.6489 - accuracy: 0.4200\n",
            "Epoch 62/100\n",
            "32/32 [==============================] - 0s 1ms/step - loss: 3.6330 - accuracy: 0.4190\n",
            "Epoch 63/100\n",
            "32/32 [==============================] - 0s 1ms/step - loss: 3.6282 - accuracy: 0.4200\n",
            "Epoch 64/100\n",
            "32/32 [==============================] - 0s 1ms/step - loss: 3.6162 - accuracy: 0.4220\n",
            "Epoch 65/100\n",
            "32/32 [==============================] - 0s 1ms/step - loss: 3.6062 - accuracy: 0.4240\n",
            "Epoch 66/100\n",
            "32/32 [==============================] - 0s 1ms/step - loss: 3.6031 - accuracy: 0.4260\n",
            "Epoch 67/100\n",
            "32/32 [==============================] - 0s 1ms/step - loss: 3.6012 - accuracy: 0.4280\n",
            "Epoch 68/100\n",
            "32/32 [==============================] - 0s 1ms/step - loss: 3.5999 - accuracy: 0.4280\n",
            "Epoch 69/100\n",
            "32/32 [==============================] - 0s 1ms/step - loss: 3.5904 - accuracy: 0.4290\n",
            "Epoch 70/100\n",
            "32/32 [==============================] - 0s 1ms/step - loss: 3.5858 - accuracy: 0.4300\n",
            "Epoch 71/100\n",
            "32/32 [==============================] - 0s 1ms/step - loss: 3.5846 - accuracy: 0.4300\n",
            "Epoch 72/100\n",
            "32/32 [==============================] - 0s 1ms/step - loss: 3.5836 - accuracy: 0.4300\n",
            "Epoch 73/100\n",
            "32/32 [==============================] - 0s 1ms/step - loss: 3.5826 - accuracy: 0.4310\n",
            "Epoch 74/100\n",
            "32/32 [==============================] - 0s 1ms/step - loss: 3.5817 - accuracy: 0.4330\n",
            "Epoch 75/100\n",
            "32/32 [==============================] - 0s 1ms/step - loss: 3.5656 - accuracy: 0.4360\n",
            "Epoch 76/100\n",
            "32/32 [==============================] - 0s 1ms/step - loss: 3.5355 - accuracy: 0.4410\n",
            "Epoch 77/100\n",
            "32/32 [==============================] - 0s 1ms/step - loss: 3.5335 - accuracy: 0.4410\n",
            "Epoch 78/100\n",
            "32/32 [==============================] - 0s 1ms/step - loss: 3.5319 - accuracy: 0.4420\n",
            "Epoch 79/100\n",
            "32/32 [==============================] - 0s 1ms/step - loss: 3.5306 - accuracy: 0.4420\n",
            "Epoch 80/100\n",
            "32/32 [==============================] - 0s 1ms/step - loss: 3.5208 - accuracy: 0.4420\n",
            "Epoch 81/100\n",
            "32/32 [==============================] - 0s 1ms/step - loss: 3.5172 - accuracy: 0.4420\n",
            "Epoch 82/100\n",
            "32/32 [==============================] - 0s 2ms/step - loss: 3.5157 - accuracy: 0.4430\n",
            "Epoch 83/100\n",
            "32/32 [==============================] - 0s 1ms/step - loss: 3.5144 - accuracy: 0.4450\n",
            "Epoch 84/100\n",
            "32/32 [==============================] - 0s 1ms/step - loss: 3.5132 - accuracy: 0.4450\n",
            "Epoch 85/100\n",
            "32/32 [==============================] - 0s 2ms/step - loss: 3.5043 - accuracy: 0.4460\n",
            "Epoch 86/100\n",
            "32/32 [==============================] - 0s 1ms/step - loss: 3.5002 - accuracy: 0.4470\n",
            "Epoch 87/100\n",
            "32/32 [==============================] - 0s 1ms/step - loss: 3.4905 - accuracy: 0.4470\n",
            "Epoch 88/100\n",
            "32/32 [==============================] - 0s 1ms/step - loss: 3.4788 - accuracy: 0.4470\n",
            "Epoch 89/100\n",
            "32/32 [==============================] - 0s 1ms/step - loss: 3.4661 - accuracy: 0.4470\n",
            "Epoch 90/100\n",
            "32/32 [==============================] - 0s 1ms/step - loss: 3.4452 - accuracy: 0.4490\n",
            "Epoch 91/100\n",
            "32/32 [==============================] - 0s 1ms/step - loss: 3.4198 - accuracy: 0.4560\n",
            "Epoch 92/100\n",
            "32/32 [==============================] - 0s 1ms/step - loss: 3.4176 - accuracy: 0.4550\n",
            "Epoch 93/100\n",
            "32/32 [==============================] - 0s 1ms/step - loss: 3.4072 - accuracy: 0.4580\n",
            "Epoch 94/100\n",
            "32/32 [==============================] - 0s 1ms/step - loss: 3.4036 - accuracy: 0.4580\n",
            "Epoch 95/100\n",
            "32/32 [==============================] - 0s 1ms/step - loss: 3.3944 - accuracy: 0.4590\n",
            "Epoch 96/100\n",
            "32/32 [==============================] - 0s 1ms/step - loss: 3.3290 - accuracy: 0.4590\n",
            "Epoch 97/100\n",
            "32/32 [==============================] - 0s 1ms/step - loss: 3.2727 - accuracy: 0.4600\n",
            "Epoch 98/100\n",
            "32/32 [==============================] - 0s 1ms/step - loss: 3.2636 - accuracy: 0.4580\n",
            "Epoch 99/100\n",
            "32/32 [==============================] - 0s 1ms/step - loss: 3.2509 - accuracy: 0.4570\n",
            "Epoch 100/100\n",
            "32/32 [==============================] - 0s 1ms/step - loss: 3.2459 - accuracy: 0.4570\n"
          ],
          "name": "stdout"
        }
      ]
    },
    {
      "cell_type": "code",
      "metadata": {
        "id": "iGUYd7oU9h6c",
        "outputId": "97976cfc-9b2d-4c66-d9b4-2555a359b30b",
        "colab": {
          "base_uri": "https://localhost:8080/",
          "height": 282
        }
      },
      "source": [
        "# Check the decision boundary for our latest model\n",
        "\n",
        "plot_decision_boundary(model=model_5,X=X,y=y)"
      ],
      "execution_count": 42,
      "outputs": [
        {
          "output_type": "stream",
          "text": [
            "doing binary classification\n"
          ],
          "name": "stdout"
        },
        {
          "output_type": "display_data",
          "data": {
            "image/png": "[encoded data removed]",
            "text/plain": [
              "<Figure size 432x288 with 1 Axes>"
            ]
          },
          "metadata": {
            "tags": [],
            "needs_background": "light"
          }
        }
      ]
    },
    {
      "cell_type": "code",
      "metadata": {
        "id": "mWj-oVio92RO",
        "outputId": "45011d63-0cb1-40ef-b1f9-f4732406ec74",
        "colab": {
          "base_uri": "https://localhost:8080/"
        }
      },
      "source": [
        "# Time to replicate the multi-layer neural network form TensorFlow playground in code...\n",
        "\n",
        "# Set random seed\n",
        "tf.random.set_seed(42)\n",
        "\n",
        "#1. Create the model\n",
        "model_6 = tf.keras.Sequential([\n",
        "      tf.keras.layers.Dense(4, activation=\"relu\"),\n",
        "      tf.keras.layers.Dense(4, activation=\"relu\"),\n",
        "      tf.keras.layers.Dense(1)\n",
        "\n",
        "])\n",
        "# 2. compile the model\n",
        "model_6.compile(loss=\"binary_crossentropy\",\n",
        "                optimizer=tf.keras.optimizers.Adam(lr=0.001),\n",
        "                metrics=[\"accuracy\"])\n",
        "# 3. Fit the model\n",
        "\n",
        "history = model_6.fit(X,y,epochs=250)"
      ],
      "execution_count": 47,
      "outputs": [
        {
          "output_type": "stream",
          "text": [
            "/usr/local/lib/python3.7/dist-packages/tensorflow/python/keras/optimizer_v2/optimizer_v2.py:375: UserWarning: The `lr` argument is deprecated, use `learning_rate` instead.\n",
            "  \"The `lr` argument is deprecated, use `learning_rate` instead.\")\n"
          ],
          "name": "stderr"
        },
        {
          "output_type": "stream",
          "text": [
            "Epoch 1/250\n",
            "32/32 [==============================] - 1s 1ms/step - loss: 7.7125 - accuracy: 0.5000\n",
            "Epoch 2/250\n",
            "32/32 [==============================] - 0s 1ms/step - loss: 7.7125 - accuracy: 0.5000\n",
            "Epoch 3/250\n",
            "32/32 [==============================] - 0s 1ms/step - loss: 7.7125 - accuracy: 0.5000\n",
            "Epoch 4/250\n",
            "32/32 [==============================] - 0s 1ms/step - loss: 7.7125 - accuracy: 0.5000\n",
            "Epoch 5/250\n",
            "32/32 [==============================] - 0s 1ms/step - loss: 7.7125 - accuracy: 0.5000\n",
            "Epoch 6/250\n",
            "32/32 [==============================] - 0s 1ms/step - loss: 7.7125 - accuracy: 0.5000\n",
            "Epoch 7/250\n",
            "32/32 [==============================] - 0s 1ms/step - loss: 7.7125 - accuracy: 0.5000\n",
            "Epoch 8/250\n",
            "32/32 [==============================] - 0s 1ms/step - loss: 7.7125 - accuracy: 0.5000\n",
            "Epoch 9/250\n",
            "32/32 [==============================] - 0s 1ms/step - loss: 7.7125 - accuracy: 0.5000\n",
            "Epoch 10/250\n",
            "32/32 [==============================] - 0s 1ms/step - loss: 7.7125 - accuracy: 0.5000\n",
            "Epoch 11/250\n",
            "32/32 [==============================] - 0s 1ms/step - loss: 7.7125 - accuracy: 0.5000\n",
            "Epoch 12/250\n",
            "32/32 [==============================] - 0s 1ms/step - loss: 7.7125 - accuracy: 0.5000\n",
            "Epoch 13/250\n",
            "32/32 [==============================] - 0s 1ms/step - loss: 7.7125 - accuracy: 0.5000\n",
            "Epoch 14/250\n",
            "32/32 [==============================] - 0s 1ms/step - loss: 7.7125 - accuracy: 0.5000\n",
            "Epoch 15/250\n",
            "32/32 [==============================] - 0s 1ms/step - loss: 7.7125 - accuracy: 0.5000\n",
            "Epoch 16/250\n",
            "32/32 [==============================] - 0s 1ms/step - loss: 7.7125 - accuracy: 0.5000\n",
            "Epoch 17/250\n",
            "32/32 [==============================] - 0s 1ms/step - loss: 7.7125 - accuracy: 0.5000\n",
            "Epoch 18/250\n",
            "32/32 [==============================] - 0s 1ms/step - loss: 7.7125 - accuracy: 0.5000\n",
            "Epoch 19/250\n",
            "32/32 [==============================] - 0s 1ms/step - loss: 7.7125 - accuracy: 0.5000\n",
            "Epoch 20/250\n",
            "32/32 [==============================] - 0s 1ms/step - loss: 7.7125 - accuracy: 0.5000\n",
            "Epoch 21/250\n",
            "32/32 [==============================] - 0s 1ms/step - loss: 7.7125 - accuracy: 0.5000\n",
            "Epoch 22/250\n",
            "32/32 [==============================] - 0s 1ms/step - loss: 7.7125 - accuracy: 0.5000\n",
            "Epoch 23/250\n",
            "32/32 [==============================] - 0s 1ms/step - loss: 7.7125 - accuracy: 0.5000\n",
            "Epoch 24/250\n",
            "32/32 [==============================] - 0s 1ms/step - loss: 7.7125 - accuracy: 0.5000\n",
            "Epoch 25/250\n",
            "32/32 [==============================] - 0s 1ms/step - loss: 7.7125 - accuracy: 0.5000\n",
            "Epoch 26/250\n",
            "32/32 [==============================] - 0s 1ms/step - loss: 7.7125 - accuracy: 0.5000\n",
            "Epoch 27/250\n",
            "32/32 [==============================] - 0s 1ms/step - loss: 7.7125 - accuracy: 0.5000\n",
            "Epoch 28/250\n",
            "32/32 [==============================] - 0s 1ms/step - loss: 7.7125 - accuracy: 0.5000\n",
            "Epoch 29/250\n",
            "32/32 [==============================] - 0s 1ms/step - loss: 7.7125 - accuracy: 0.5000\n",
            "Epoch 30/250\n",
            "32/32 [==============================] - 0s 1ms/step - loss: 7.7125 - accuracy: 0.5000\n",
            "Epoch 31/250\n",
            "32/32 [==============================] - 0s 1ms/step - loss: 7.7125 - accuracy: 0.5000\n",
            "Epoch 32/250\n",
            "32/32 [==============================] - 0s 1ms/step - loss: 7.7125 - accuracy: 0.5000\n",
            "Epoch 33/250\n",
            "32/32 [==============================] - 0s 1ms/step - loss: 7.7125 - accuracy: 0.5000\n",
            "Epoch 34/250\n",
            "32/32 [==============================] - 0s 1ms/step - loss: 7.7125 - accuracy: 0.5000\n",
            "Epoch 35/250\n",
            "32/32 [==============================] - 0s 1ms/step - loss: 7.7125 - accuracy: 0.5000\n",
            "Epoch 36/250\n",
            "32/32 [==============================] - 0s 1ms/step - loss: 7.7125 - accuracy: 0.5000\n",
            "Epoch 37/250\n",
            "32/32 [==============================] - 0s 1ms/step - loss: 7.7125 - accuracy: 0.5000\n",
            "Epoch 38/250\n",
            "32/32 [==============================] - 0s 1ms/step - loss: 7.7125 - accuracy: 0.5000\n",
            "Epoch 39/250\n",
            "32/32 [==============================] - 0s 1ms/step - loss: 7.7125 - accuracy: 0.5000\n",
            "Epoch 40/250\n",
            "32/32 [==============================] - 0s 1ms/step - loss: 7.7125 - accuracy: 0.5000\n",
            "Epoch 41/250\n",
            "32/32 [==============================] - 0s 1ms/step - loss: 7.7125 - accuracy: 0.5000\n",
            "Epoch 42/250\n",
            "32/32 [==============================] - 0s 1ms/step - loss: 7.7125 - accuracy: 0.5000\n",
            "Epoch 43/250\n",
            "32/32 [==============================] - 0s 1ms/step - loss: 7.7125 - accuracy: 0.5000\n",
            "Epoch 44/250\n",
            "32/32 [==============================] - 0s 1ms/step - loss: 7.7125 - accuracy: 0.5000\n",
            "Epoch 45/250\n",
            "32/32 [==============================] - 0s 1ms/step - loss: 7.7125 - accuracy: 0.5000\n",
            "Epoch 46/250\n",
            "32/32 [==============================] - 0s 2ms/step - loss: 7.7125 - accuracy: 0.5000\n",
            "Epoch 47/250\n",
            "32/32 [==============================] - 0s 1ms/step - loss: 7.7125 - accuracy: 0.5000\n",
            "Epoch 48/250\n",
            "32/32 [==============================] - 0s 1ms/step - loss: 7.7125 - accuracy: 0.5000\n",
            "Epoch 49/250\n",
            "32/32 [==============================] - 0s 1ms/step - loss: 7.7125 - accuracy: 0.5000\n",
            "Epoch 50/250\n",
            "32/32 [==============================] - 0s 1ms/step - loss: 7.7125 - accuracy: 0.5000\n",
            "Epoch 51/250\n",
            "32/32 [==============================] - 0s 1ms/step - loss: 7.7125 - accuracy: 0.5000\n",
            "Epoch 52/250\n",
            "32/32 [==============================] - 0s 1ms/step - loss: 7.7125 - accuracy: 0.5000\n",
            "Epoch 53/250\n",
            "32/32 [==============================] - 0s 1ms/step - loss: 7.7125 - accuracy: 0.5000\n",
            "Epoch 54/250\n",
            "32/32 [==============================] - 0s 1ms/step - loss: 7.7125 - accuracy: 0.5000\n",
            "Epoch 55/250\n",
            "32/32 [==============================] - 0s 1ms/step - loss: 7.7125 - accuracy: 0.5000\n",
            "Epoch 56/250\n",
            "32/32 [==============================] - 0s 1ms/step - loss: 7.7125 - accuracy: 0.5000\n",
            "Epoch 57/250\n",
            "32/32 [==============================] - 0s 1ms/step - loss: 7.7125 - accuracy: 0.5000\n",
            "Epoch 58/250\n",
            "32/32 [==============================] - 0s 1ms/step - loss: 7.7125 - accuracy: 0.5000\n",
            "Epoch 59/250\n",
            "32/32 [==============================] - 0s 1ms/step - loss: 7.7125 - accuracy: 0.5000\n",
            "Epoch 60/250\n",
            "32/32 [==============================] - 0s 1ms/step - loss: 7.7125 - accuracy: 0.5000\n",
            "Epoch 61/250\n",
            "32/32 [==============================] - 0s 1ms/step - loss: 7.7125 - accuracy: 0.5000\n",
            "Epoch 62/250\n",
            "32/32 [==============================] - 0s 1ms/step - loss: 7.7125 - accuracy: 0.5000\n",
            "Epoch 63/250\n",
            "32/32 [==============================] - 0s 1ms/step - loss: 7.7125 - accuracy: 0.5000\n",
            "Epoch 64/250\n",
            "32/32 [==============================] - 0s 2ms/step - loss: 7.7125 - accuracy: 0.5000\n",
            "Epoch 65/250\n",
            "32/32 [==============================] - 0s 1ms/step - loss: 7.7125 - accuracy: 0.5000\n",
            "Epoch 66/250\n",
            "32/32 [==============================] - 0s 1ms/step - loss: 7.7125 - accuracy: 0.5000\n",
            "Epoch 67/250\n",
            "32/32 [==============================] - 0s 1ms/step - loss: 7.7125 - accuracy: 0.5000\n",
            "Epoch 68/250\n",
            "32/32 [==============================] - 0s 1ms/step - loss: 7.7125 - accuracy: 0.5000\n",
            "Epoch 69/250\n",
            "32/32 [==============================] - 0s 1ms/step - loss: 7.7125 - accuracy: 0.5000\n",
            "Epoch 70/250\n",
            "32/32 [==============================] - 0s 1ms/step - loss: 7.7125 - accuracy: 0.5000\n",
            "Epoch 71/250\n",
            "32/32 [==============================] - 0s 1ms/step - loss: 7.7125 - accuracy: 0.5000\n",
            "Epoch 72/250\n",
            "32/32 [==============================] - 0s 1ms/step - loss: 7.7125 - accuracy: 0.5000\n",
            "Epoch 73/250\n",
            "32/32 [==============================] - 0s 1ms/step - loss: 7.7125 - accuracy: 0.5000\n",
            "Epoch 74/250\n",
            "32/32 [==============================] - 0s 1ms/step - loss: 7.7125 - accuracy: 0.5000\n",
            "Epoch 75/250\n",
            "32/32 [==============================] - 0s 1ms/step - loss: 7.7125 - accuracy: 0.5000\n",
            "Epoch 76/250\n",
            "32/32 [==============================] - 0s 1ms/step - loss: 7.7125 - accuracy: 0.5000\n",
            "Epoch 77/250\n",
            "32/32 [==============================] - 0s 1ms/step - loss: 7.7125 - accuracy: 0.5000\n",
            "Epoch 78/250\n",
            "32/32 [==============================] - 0s 1ms/step - loss: 7.7125 - accuracy: 0.5000\n",
            "Epoch 79/250\n",
            "32/32 [==============================] - 0s 1ms/step - loss: 7.7125 - accuracy: 0.5000\n",
            "Epoch 80/250\n",
            "32/32 [==============================] - 0s 1ms/step - loss: 7.7125 - accuracy: 0.5000\n",
            "Epoch 81/250\n",
            "32/32 [==============================] - 0s 1ms/step - loss: 7.7125 - accuracy: 0.5000\n",
            "Epoch 82/250\n",
            "32/32 [==============================] - 0s 1ms/step - loss: 7.7125 - accuracy: 0.5000\n",
            "Epoch 83/250\n",
            "32/32 [==============================] - 0s 1ms/step - loss: 7.7125 - accuracy: 0.5000\n",
            "Epoch 84/250\n",
            "32/32 [==============================] - 0s 1ms/step - loss: 7.7125 - accuracy: 0.5000\n",
            "Epoch 85/250\n",
            "32/32 [==============================] - 0s 1ms/step - loss: 7.7125 - accuracy: 0.5000\n",
            "Epoch 86/250\n",
            "32/32 [==============================] - 0s 2ms/step - loss: 7.7125 - accuracy: 0.5000\n",
            "Epoch 87/250\n",
            "32/32 [==============================] - 0s 2ms/step - loss: 7.7125 - accuracy: 0.5000\n",
            "Epoch 88/250\n",
            "32/32 [==============================] - 0s 1ms/step - loss: 7.7125 - accuracy: 0.5000\n",
            "Epoch 89/250\n",
            "32/32 [==============================] - 0s 1ms/step - loss: 7.7125 - accuracy: 0.5000\n",
            "Epoch 90/250\n",
            "32/32 [==============================] - 0s 1ms/step - loss: 7.7125 - accuracy: 0.5000\n",
            "Epoch 91/250\n",
            "32/32 [==============================] - 0s 1ms/step - loss: 7.7125 - accuracy: 0.5000\n",
            "Epoch 92/250\n",
            "32/32 [==============================] - 0s 1ms/step - loss: 7.7125 - accuracy: 0.5000\n",
            "Epoch 93/250\n",
            "32/32 [==============================] - 0s 1ms/step - loss: 7.7125 - accuracy: 0.5000\n",
            "Epoch 94/250\n",
            "32/32 [==============================] - 0s 1ms/step - loss: 7.7125 - accuracy: 0.5000\n",
            "Epoch 95/250\n",
            "32/32 [==============================] - 0s 1ms/step - loss: 7.7125 - accuracy: 0.5000\n",
            "Epoch 96/250\n",
            "32/32 [==============================] - 0s 1ms/step - loss: 7.7125 - accuracy: 0.5000\n",
            "Epoch 97/250\n",
            "32/32 [==============================] - 0s 1ms/step - loss: 7.7125 - accuracy: 0.5000\n",
            "Epoch 98/250\n",
            "32/32 [==============================] - 0s 1ms/step - loss: 7.7125 - accuracy: 0.5000\n",
            "Epoch 99/250\n",
            "32/32 [==============================] - 0s 1ms/step - loss: 7.7125 - accuracy: 0.5000\n",
            "Epoch 100/250\n",
            "32/32 [==============================] - 0s 1ms/step - loss: 7.7125 - accuracy: 0.5000\n",
            "Epoch 101/250\n",
            "32/32 [==============================] - 0s 1ms/step - loss: 7.7125 - accuracy: 0.5000\n",
            "Epoch 102/250\n",
            "32/32 [==============================] - 0s 1ms/step - loss: 7.7125 - accuracy: 0.5000\n",
            "Epoch 103/250\n",
            "32/32 [==============================] - 0s 1ms/step - loss: 7.7125 - accuracy: 0.5000\n",
            "Epoch 104/250\n",
            "32/32 [==============================] - 0s 1ms/step - loss: 7.7125 - accuracy: 0.5000\n",
            "Epoch 105/250\n",
            "32/32 [==============================] - 0s 1ms/step - loss: 7.7125 - accuracy: 0.5000\n",
            "Epoch 106/250\n",
            "32/32 [==============================] - 0s 1ms/step - loss: 7.7125 - accuracy: 0.5000\n",
            "Epoch 107/250\n",
            "32/32 [==============================] - 0s 2ms/step - loss: 7.7125 - accuracy: 0.5000\n",
            "Epoch 108/250\n",
            "32/32 [==============================] - 0s 1ms/step - loss: 7.7125 - accuracy: 0.5000\n",
            "Epoch 109/250\n",
            "32/32 [==============================] - 0s 2ms/step - loss: 7.7125 - accuracy: 0.5000\n",
            "Epoch 110/250\n",
            "32/32 [==============================] - 0s 1ms/step - loss: 7.7125 - accuracy: 0.5000\n",
            "Epoch 111/250\n",
            "32/32 [==============================] - 0s 2ms/step - loss: 7.7125 - accuracy: 0.5000\n",
            "Epoch 112/250\n",
            "32/32 [==============================] - 0s 1ms/step - loss: 7.7125 - accuracy: 0.5000\n",
            "Epoch 113/250\n",
            "32/32 [==============================] - 0s 2ms/step - loss: 7.7125 - accuracy: 0.5000\n",
            "Epoch 114/250\n",
            "32/32 [==============================] - 0s 2ms/step - loss: 7.7125 - accuracy: 0.5000\n",
            "Epoch 115/250\n",
            "32/32 [==============================] - 0s 2ms/step - loss: 7.7125 - accuracy: 0.5000\n",
            "Epoch 116/250\n",
            "32/32 [==============================] - 0s 1ms/step - loss: 7.7125 - accuracy: 0.5000\n",
            "Epoch 117/250\n",
            "32/32 [==============================] - 0s 1ms/step - loss: 7.7125 - accuracy: 0.5000\n",
            "Epoch 118/250\n",
            "32/32 [==============================] - 0s 1ms/step - loss: 7.7125 - accuracy: 0.5000\n",
            "Epoch 119/250\n",
            "32/32 [==============================] - 0s 1ms/step - loss: 7.7125 - accuracy: 0.5000\n",
            "Epoch 120/250\n",
            "32/32 [==============================] - 0s 1ms/step - loss: 7.7125 - accuracy: 0.5000\n",
            "Epoch 121/250\n",
            "32/32 [==============================] - 0s 1ms/step - loss: 7.7125 - accuracy: 0.5000\n",
            "Epoch 122/250\n",
            "32/32 [==============================] - 0s 2ms/step - loss: 7.7125 - accuracy: 0.5000\n",
            "Epoch 123/250\n",
            "32/32 [==============================] - 0s 1ms/step - loss: 7.7125 - accuracy: 0.5000\n",
            "Epoch 124/250\n",
            "32/32 [==============================] - 0s 1ms/step - loss: 7.7125 - accuracy: 0.5000\n",
            "Epoch 125/250\n",
            "32/32 [==============================] - 0s 1ms/step - loss: 7.7125 - accuracy: 0.5000\n",
            "Epoch 126/250\n",
            "32/32 [==============================] - 0s 1ms/step - loss: 7.7125 - accuracy: 0.5000\n",
            "Epoch 127/250\n",
            "32/32 [==============================] - 0s 1ms/step - loss: 7.7125 - accuracy: 0.5000\n",
            "Epoch 128/250\n",
            "32/32 [==============================] - 0s 2ms/step - loss: 7.7125 - accuracy: 0.5000\n",
            "Epoch 129/250\n",
            "32/32 [==============================] - 0s 1ms/step - loss: 7.7125 - accuracy: 0.5000\n",
            "Epoch 130/250\n",
            "32/32 [==============================] - 0s 2ms/step - loss: 7.7125 - accuracy: 0.5000\n",
            "Epoch 131/250\n",
            "32/32 [==============================] - 0s 1ms/step - loss: 7.7125 - accuracy: 0.5000\n",
            "Epoch 132/250\n",
            "32/32 [==============================] - 0s 1ms/step - loss: 7.7125 - accuracy: 0.5000\n",
            "Epoch 133/250\n",
            "32/32 [==============================] - 0s 1ms/step - loss: 7.7125 - accuracy: 0.5000\n",
            "Epoch 134/250\n",
            "32/32 [==============================] - 0s 1ms/step - loss: 7.7125 - accuracy: 0.5000\n",
            "Epoch 135/250\n",
            "32/32 [==============================] - 0s 2ms/step - loss: 7.7125 - accuracy: 0.5000\n",
            "Epoch 136/250\n",
            "32/32 [==============================] - 0s 1ms/step - loss: 7.7125 - accuracy: 0.5000\n",
            "Epoch 137/250\n",
            "32/32 [==============================] - 0s 1ms/step - loss: 7.7125 - accuracy: 0.5000\n",
            "Epoch 138/250\n",
            "32/32 [==============================] - 0s 1ms/step - loss: 7.7125 - accuracy: 0.5000\n",
            "Epoch 139/250\n",
            "32/32 [==============================] - 0s 1ms/step - loss: 7.7125 - accuracy: 0.5000\n",
            "Epoch 140/250\n",
            "32/32 [==============================] - 0s 1ms/step - loss: 7.7125 - accuracy: 0.5000\n",
            "Epoch 141/250\n",
            "32/32 [==============================] - 0s 1ms/step - loss: 7.7125 - accuracy: 0.5000\n",
            "Epoch 142/250\n",
            "32/32 [==============================] - 0s 1ms/step - loss: 7.7125 - accuracy: 0.5000\n",
            "Epoch 143/250\n",
            "32/32 [==============================] - 0s 1ms/step - loss: 7.7125 - accuracy: 0.5000\n",
            "Epoch 144/250\n",
            "32/32 [==============================] - 0s 1ms/step - loss: 7.7125 - accuracy: 0.5000\n",
            "Epoch 145/250\n",
            "32/32 [==============================] - 0s 2ms/step - loss: 7.7125 - accuracy: 0.5000\n",
            "Epoch 146/250\n",
            "32/32 [==============================] - 0s 1ms/step - loss: 7.7125 - accuracy: 0.5000\n",
            "Epoch 147/250\n",
            "32/32 [==============================] - 0s 1ms/step - loss: 7.7125 - accuracy: 0.5000\n",
            "Epoch 148/250\n",
            "32/32 [==============================] - 0s 1ms/step - loss: 7.7125 - accuracy: 0.5000\n",
            "Epoch 149/250\n",
            "32/32 [==============================] - 0s 1ms/step - loss: 7.7125 - accuracy: 0.5000\n",
            "Epoch 150/250\n",
            "32/32 [==============================] - 0s 1ms/step - loss: 7.7125 - accuracy: 0.5000\n",
            "Epoch 151/250\n",
            "32/32 [==============================] - 0s 2ms/step - loss: 7.7125 - accuracy: 0.5000\n",
            "Epoch 152/250\n",
            "32/32 [==============================] - 0s 2ms/step - loss: 7.7125 - accuracy: 0.5000\n",
            "Epoch 153/250\n",
            "32/32 [==============================] - 0s 1ms/step - loss: 7.7125 - accuracy: 0.5000\n",
            "Epoch 154/250\n",
            "32/32 [==============================] - 0s 1ms/step - loss: 7.7125 - accuracy: 0.5000\n",
            "Epoch 155/250\n",
            "32/32 [==============================] - 0s 1ms/step - loss: 7.7125 - accuracy: 0.5000\n",
            "Epoch 156/250\n",
            "32/32 [==============================] - 0s 1ms/step - loss: 7.7125 - accuracy: 0.5000\n",
            "Epoch 157/250\n",
            "32/32 [==============================] - 0s 1ms/step - loss: 7.7125 - accuracy: 0.5000\n",
            "Epoch 158/250\n",
            "32/32 [==============================] - 0s 1ms/step - loss: 7.7125 - accuracy: 0.5000\n",
            "Epoch 159/250\n",
            "32/32 [==============================] - 0s 1ms/step - loss: 7.7125 - accuracy: 0.5000\n",
            "Epoch 160/250\n",
            "32/32 [==============================] - 0s 1ms/step - loss: 7.7125 - accuracy: 0.5000\n",
            "Epoch 161/250\n",
            "32/32 [==============================] - 0s 1ms/step - loss: 7.7125 - accuracy: 0.5000\n",
            "Epoch 162/250\n",
            "32/32 [==============================] - 0s 1ms/step - loss: 7.7125 - accuracy: 0.5000\n",
            "Epoch 163/250\n",
            "32/32 [==============================] - 0s 2ms/step - loss: 7.7125 - accuracy: 0.5000\n",
            "Epoch 164/250\n",
            "32/32 [==============================] - 0s 2ms/step - loss: 7.7125 - accuracy: 0.5000\n",
            "Epoch 165/250\n",
            "32/32 [==============================] - 0s 1ms/step - loss: 7.7125 - accuracy: 0.5000\n",
            "Epoch 166/250\n",
            "32/32 [==============================] - 0s 1ms/step - loss: 7.7125 - accuracy: 0.5000\n",
            "Epoch 167/250\n",
            "32/32 [==============================] - 0s 2ms/step - loss: 7.7125 - accuracy: 0.5000\n",
            "Epoch 168/250\n",
            "32/32 [==============================] - 0s 1ms/step - loss: 7.7125 - accuracy: 0.5000\n",
            "Epoch 169/250\n",
            "32/32 [==============================] - 0s 1ms/step - loss: 7.7125 - accuracy: 0.5000\n",
            "Epoch 170/250\n",
            "32/32 [==============================] - 0s 1ms/step - loss: 7.7125 - accuracy: 0.5000\n",
            "Epoch 171/250\n",
            "32/32 [==============================] - 0s 2ms/step - loss: 7.7125 - accuracy: 0.5000\n",
            "Epoch 172/250\n",
            "32/32 [==============================] - 0s 1ms/step - loss: 7.7125 - accuracy: 0.5000\n",
            "Epoch 173/250\n",
            "32/32 [==============================] - 0s 1ms/step - loss: 7.7125 - accuracy: 0.5000\n",
            "Epoch 174/250\n",
            "32/32 [==============================] - 0s 1ms/step - loss: 7.7125 - accuracy: 0.5000\n",
            "Epoch 175/250\n",
            "32/32 [==============================] - 0s 1ms/step - loss: 7.7125 - accuracy: 0.5000\n",
            "Epoch 176/250\n",
            "32/32 [==============================] - 0s 1ms/step - loss: 7.7125 - accuracy: 0.5000\n",
            "Epoch 177/250\n",
            "32/32 [==============================] - 0s 2ms/step - loss: 7.7125 - accuracy: 0.5000\n",
            "Epoch 178/250\n",
            "32/32 [==============================] - 0s 1ms/step - loss: 7.7125 - accuracy: 0.5000\n",
            "Epoch 179/250\n",
            "32/32 [==============================] - 0s 2ms/step - loss: 7.7125 - accuracy: 0.5000\n",
            "Epoch 180/250\n",
            "32/32 [==============================] - 0s 1ms/step - loss: 7.7125 - accuracy: 0.5000\n",
            "Epoch 181/250\n",
            "32/32 [==============================] - 0s 1ms/step - loss: 7.7125 - accuracy: 0.5000\n",
            "Epoch 182/250\n",
            "32/32 [==============================] - 0s 1ms/step - loss: 7.7125 - accuracy: 0.5000\n",
            "Epoch 183/250\n",
            "32/32 [==============================] - 0s 1ms/step - loss: 7.7125 - accuracy: 0.5000\n",
            "Epoch 184/250\n",
            "32/32 [==============================] - 0s 1ms/step - loss: 7.7125 - accuracy: 0.5000\n",
            "Epoch 185/250\n",
            "32/32 [==============================] - 0s 1ms/step - loss: 7.7125 - accuracy: 0.5000\n",
            "Epoch 186/250\n",
            "32/32 [==============================] - 0s 1ms/step - loss: 7.7125 - accuracy: 0.5000\n",
            "Epoch 187/250\n",
            "32/32 [==============================] - 0s 1ms/step - loss: 7.7125 - accuracy: 0.5000\n",
            "Epoch 188/250\n",
            "32/32 [==============================] - 0s 1ms/step - loss: 7.7125 - accuracy: 0.5000\n",
            "Epoch 189/250\n",
            "32/32 [==============================] - 0s 1ms/step - loss: 7.7125 - accuracy: 0.5000\n",
            "Epoch 190/250\n",
            "32/32 [==============================] - 0s 1ms/step - loss: 7.7125 - accuracy: 0.5000\n",
            "Epoch 191/250\n",
            "32/32 [==============================] - 0s 1ms/step - loss: 7.7125 - accuracy: 0.5000\n",
            "Epoch 192/250\n",
            "32/32 [==============================] - 0s 1ms/step - loss: 7.7125 - accuracy: 0.5000\n",
            "Epoch 193/250\n",
            "32/32 [==============================] - 0s 1ms/step - loss: 7.7125 - accuracy: 0.5000\n",
            "Epoch 194/250\n",
            "32/32 [==============================] - 0s 1ms/step - loss: 7.7125 - accuracy: 0.5000\n",
            "Epoch 195/250\n",
            "32/32 [==============================] - 0s 1ms/step - loss: 7.7125 - accuracy: 0.5000\n",
            "Epoch 196/250\n",
            "32/32 [==============================] - 0s 2ms/step - loss: 7.7125 - accuracy: 0.5000\n",
            "Epoch 197/250\n",
            "32/32 [==============================] - 0s 1ms/step - loss: 7.7125 - accuracy: 0.5000\n",
            "Epoch 198/250\n",
            "32/32 [==============================] - 0s 1ms/step - loss: 7.7125 - accuracy: 0.5000\n",
            "Epoch 199/250\n",
            "32/32 [==============================] - 0s 1ms/step - loss: 7.7125 - accuracy: 0.5000\n",
            "Epoch 200/250\n",
            "32/32 [==============================] - 0s 1ms/step - loss: 7.7125 - accuracy: 0.5000\n",
            "Epoch 201/250\n",
            "32/32 [==============================] - 0s 1ms/step - loss: 7.7125 - accuracy: 0.5000\n",
            "Epoch 202/250\n",
            "32/32 [==============================] - 0s 2ms/step - loss: 7.7125 - accuracy: 0.5000\n",
            "Epoch 203/250\n",
            "32/32 [==============================] - 0s 1ms/step - loss: 7.7125 - accuracy: 0.5000\n",
            "Epoch 204/250\n",
            "32/32 [==============================] - 0s 1ms/step - loss: 7.7125 - accuracy: 0.5000\n",
            "Epoch 205/250\n",
            "32/32 [==============================] - 0s 1ms/step - loss: 7.7125 - accuracy: 0.5000\n",
            "Epoch 206/250\n",
            "32/32 [==============================] - 0s 2ms/step - loss: 7.7125 - accuracy: 0.5000\n",
            "Epoch 207/250\n",
            "32/32 [==============================] - 0s 1ms/step - loss: 7.7125 - accuracy: 0.5000\n",
            "Epoch 208/250\n",
            "32/32 [==============================] - 0s 1ms/step - loss: 7.7125 - accuracy: 0.5000\n",
            "Epoch 209/250\n",
            "32/32 [==============================] - 0s 1ms/step - loss: 7.7125 - accuracy: 0.5000\n",
            "Epoch 210/250\n",
            "32/32 [==============================] - 0s 1ms/step - loss: 7.7125 - accuracy: 0.5000\n",
            "Epoch 211/250\n",
            "32/32 [==============================] - 0s 1ms/step - loss: 7.7125 - accuracy: 0.5000\n",
            "Epoch 212/250\n",
            "32/32 [==============================] - 0s 2ms/step - loss: 7.7125 - accuracy: 0.5000\n",
            "Epoch 213/250\n",
            "32/32 [==============================] - 0s 1ms/step - loss: 7.7125 - accuracy: 0.5000\n",
            "Epoch 214/250\n",
            "32/32 [==============================] - 0s 1ms/step - loss: 7.7125 - accuracy: 0.5000\n",
            "Epoch 215/250\n",
            "32/32 [==============================] - 0s 1ms/step - loss: 7.7125 - accuracy: 0.5000\n",
            "Epoch 216/250\n",
            "32/32 [==============================] - 0s 2ms/step - loss: 7.7125 - accuracy: 0.5000\n",
            "Epoch 217/250\n",
            "32/32 [==============================] - 0s 1ms/step - loss: 7.7125 - accuracy: 0.5000\n",
            "Epoch 218/250\n",
            "32/32 [==============================] - 0s 1ms/step - loss: 7.7125 - accuracy: 0.5000\n",
            "Epoch 219/250\n",
            "32/32 [==============================] - 0s 1ms/step - loss: 7.7125 - accuracy: 0.5000\n",
            "Epoch 220/250\n",
            "32/32 [==============================] - 0s 1ms/step - loss: 7.7125 - accuracy: 0.5000\n",
            "Epoch 221/250\n",
            "32/32 [==============================] - 0s 2ms/step - loss: 7.7125 - accuracy: 0.5000\n",
            "Epoch 222/250\n",
            "32/32 [==============================] - 0s 1ms/step - loss: 7.7125 - accuracy: 0.5000\n",
            "Epoch 223/250\n",
            "32/32 [==============================] - 0s 1ms/step - loss: 7.7125 - accuracy: 0.5000\n",
            "Epoch 224/250\n",
            "32/32 [==============================] - 0s 1ms/step - loss: 7.7125 - accuracy: 0.5000\n",
            "Epoch 225/250\n",
            "32/32 [==============================] - 0s 2ms/step - loss: 7.7125 - accuracy: 0.5000\n",
            "Epoch 226/250\n",
            "32/32 [==============================] - 0s 1ms/step - loss: 7.7125 - accuracy: 0.5000\n",
            "Epoch 227/250\n",
            "32/32 [==============================] - 0s 1ms/step - loss: 7.7125 - accuracy: 0.5000\n",
            "Epoch 228/250\n",
            "32/32 [==============================] - 0s 1ms/step - loss: 7.7125 - accuracy: 0.5000\n",
            "Epoch 229/250\n",
            "32/32 [==============================] - 0s 1ms/step - loss: 7.7125 - accuracy: 0.5000\n",
            "Epoch 230/250\n",
            "32/32 [==============================] - 0s 1ms/step - loss: 7.7125 - accuracy: 0.5000\n",
            "Epoch 231/250\n",
            "32/32 [==============================] - 0s 1ms/step - loss: 7.7125 - accuracy: 0.5000\n",
            "Epoch 232/250\n",
            "32/32 [==============================] - 0s 1ms/step - loss: 7.7125 - accuracy: 0.5000\n",
            "Epoch 233/250\n",
            "32/32 [==============================] - 0s 1ms/step - loss: 7.7125 - accuracy: 0.5000\n",
            "Epoch 234/250\n",
            "32/32 [==============================] - 0s 2ms/step - loss: 7.7125 - accuracy: 0.5000\n",
            "Epoch 235/250\n",
            "32/32 [==============================] - 0s 1ms/step - loss: 7.7125 - accuracy: 0.5000\n",
            "Epoch 236/250\n",
            "32/32 [==============================] - 0s 1ms/step - loss: 7.7125 - accuracy: 0.5000\n",
            "Epoch 237/250\n",
            "32/32 [==============================] - 0s 1ms/step - loss: 7.7125 - accuracy: 0.5000\n",
            "Epoch 238/250\n",
            "32/32 [==============================] - 0s 1ms/step - loss: 7.7125 - accuracy: 0.5000\n",
            "Epoch 239/250\n",
            "32/32 [==============================] - 0s 2ms/step - loss: 7.7125 - accuracy: 0.5000\n",
            "Epoch 240/250\n",
            "32/32 [==============================] - 0s 1ms/step - loss: 7.7125 - accuracy: 0.5000\n",
            "Epoch 241/250\n",
            "32/32 [==============================] - 0s 1ms/step - loss: 7.7125 - accuracy: 0.5000\n",
            "Epoch 242/250\n",
            "32/32 [==============================] - 0s 1ms/step - loss: 7.7125 - accuracy: 0.5000\n",
            "Epoch 243/250\n",
            "32/32 [==============================] - 0s 1ms/step - loss: 7.7125 - accuracy: 0.5000\n",
            "Epoch 244/250\n",
            "32/32 [==============================] - 0s 1ms/step - loss: 7.7125 - accuracy: 0.5000\n",
            "Epoch 245/250\n",
            "32/32 [==============================] - 0s 1ms/step - loss: 7.7125 - accuracy: 0.5000\n",
            "Epoch 246/250\n",
            "32/32 [==============================] - 0s 1ms/step - loss: 7.7125 - accuracy: 0.5000\n",
            "Epoch 247/250\n",
            "32/32 [==============================] - 0s 1ms/step - loss: 7.7125 - accuracy: 0.5000\n",
            "Epoch 248/250\n",
            "32/32 [==============================] - 0s 2ms/step - loss: 7.7125 - accuracy: 0.5000\n",
            "Epoch 249/250\n",
            "32/32 [==============================] - 0s 1ms/step - loss: 7.7125 - accuracy: 0.5000\n",
            "Epoch 250/250\n",
            "32/32 [==============================] - 0s 1ms/step - loss: 7.7125 - accuracy: 0.5000\n"
          ],
          "name": "stdout"
        }
      ]
    },
    {
      "cell_type": "code",
      "metadata": {
        "id": "y-n9ocz2_9lf",
        "outputId": "c5ed4faf-b69b-47c8-ad18-897618444fea",
        "colab": {
          "base_uri": "https://localhost:8080/"
        }
      },
      "source": [
        "# Evaluate the model\n",
        "model_6.evaluate(X, y)\n"
      ],
      "execution_count": 48,
      "outputs": [
        {
          "output_type": "stream",
          "text": [
            "32/32 [==============================] - 0s 1ms/step - loss: 7.7125 - accuracy: 0.5000\n"
          ],
          "name": "stdout"
        },
        {
          "output_type": "execute_result",
          "data": {
            "text/plain": [
              "[7.712474346160889, 0.5]"
            ]
          },
          "metadata": {
            "tags": []
          },
          "execution_count": 48
        }
      ]
    },
    {
      "cell_type": "code",
      "metadata": {
        "id": "-NtS8EUeAtFZ",
        "outputId": "939b4ece-6125-40e0-b774-4603f427d1e9",
        "colab": {
          "base_uri": "https://localhost:8080/",
          "height": 282
        }
      },
      "source": [
        "# How do our model predictions look?\n",
        "plot_decision_boundary(model=model_6,\n",
        "                       X=X,\n",
        "                       y=y)"
      ],
      "execution_count": 50,
      "outputs": [
        {
          "output_type": "stream",
          "text": [
            "doing binary classification\n"
          ],
          "name": "stdout"
        },
        {
          "output_type": "display_data",
          "data": {
            "image/png": "[encoded data removed]",
            "text/plain": [
              "<Figure size 432x288 with 1 Axes>"
            ]
          },
          "metadata": {
            "tags": [],
            "needs_background": "light"
          }
        }
      ]
    },
    {
      "cell_type": "code",
      "metadata": {
        "id": "AYyrZApkA1tS",
        "outputId": "d3aa5759-418d-4347-f661-28305fa52444",
        "colab": {
          "base_uri": "https://localhost:8080/"
        }
      },
      "source": [
        "# Set random seed\n",
        "tf.random.set_seed(42)\n",
        "\n",
        "#1. Create the model\n",
        "model_7 = tf.keras.Sequential([\n",
        "      tf.keras.layers.Dense(4, activation=\"relu\"),\n",
        "      tf.keras.layers.Dense(4, activation=\"relu\"),\n",
        "      tf.keras.layers.Dense(1,activation=\"sigmoid\")\n",
        "\n",
        "])\n",
        "# 2. compile the model\n",
        "model_7.compile(loss=\"binary_crossentropy\",\n",
        "                optimizer=tf.keras.optimizers.Adam(lr=0.001),\n",
        "                metrics=[\"accuracy\"])\n",
        "# 3. Fit the model\n",
        "\n",
        "history = model_7.fit(X,y,epochs=250)"
      ],
      "execution_count": 51,
      "outputs": [
        {
          "output_type": "stream",
          "text": [
            "/usr/local/lib/python3.7/dist-packages/tensorflow/python/keras/optimizer_v2/optimizer_v2.py:375: UserWarning: The `lr` argument is deprecated, use `learning_rate` instead.\n",
            "  \"The `lr` argument is deprecated, use `learning_rate` instead.\")\n"
          ],
          "name": "stderr"
        },
        {
          "output_type": "stream",
          "text": [
            "Epoch 1/250\n",
            "32/32 [==============================] - 0s 1ms/step - loss: 0.6891 - accuracy: 0.5020\n",
            "Epoch 2/250\n",
            "32/32 [==============================] - 0s 1ms/step - loss: 0.6848 - accuracy: 0.5170\n",
            "Epoch 3/250\n",
            "32/32 [==============================] - 0s 1ms/step - loss: 0.6824 - accuracy: 0.5160\n",
            "Epoch 4/250\n",
            "32/32 [==============================] - 0s 1ms/step - loss: 0.6813 - accuracy: 0.5300\n",
            "Epoch 5/250\n",
            "32/32 [==============================] - 0s 1ms/step - loss: 0.6802 - accuracy: 0.5390\n",
            "Epoch 6/250\n",
            "32/32 [==============================] - 0s 1ms/step - loss: 0.6794 - accuracy: 0.5380\n",
            "Epoch 7/250\n",
            "32/32 [==============================] - 0s 1ms/step - loss: 0.6785 - accuracy: 0.5500\n",
            "Epoch 8/250\n",
            "32/32 [==============================] - 0s 1ms/step - loss: 0.6778 - accuracy: 0.5480\n",
            "Epoch 9/250\n",
            "32/32 [==============================] - 0s 1ms/step - loss: 0.6772 - accuracy: 0.5530\n",
            "Epoch 10/250\n",
            "32/32 [==============================] - 0s 1ms/step - loss: 0.6766 - accuracy: 0.5510\n",
            "Epoch 11/250\n",
            "32/32 [==============================] - 0s 1ms/step - loss: 0.6760 - accuracy: 0.5500\n",
            "Epoch 12/250\n",
            "32/32 [==============================] - 0s 1ms/step - loss: 0.6754 - accuracy: 0.5550\n",
            "Epoch 13/250\n",
            "32/32 [==============================] - 0s 1ms/step - loss: 0.6747 - accuracy: 0.5560\n",
            "Epoch 14/250\n",
            "32/32 [==============================] - 0s 1ms/step - loss: 0.6741 - accuracy: 0.5540\n",
            "Epoch 15/250\n",
            "32/32 [==============================] - 0s 1ms/step - loss: 0.6734 - accuracy: 0.5580\n",
            "Epoch 16/250\n",
            "32/32 [==============================] - 0s 1ms/step - loss: 0.6727 - accuracy: 0.5550\n",
            "Epoch 17/250\n",
            "32/32 [==============================] - 0s 1ms/step - loss: 0.6722 - accuracy: 0.5550\n",
            "Epoch 18/250\n",
            "32/32 [==============================] - 0s 1ms/step - loss: 0.6716 - accuracy: 0.5550\n",
            "Epoch 19/250\n",
            "32/32 [==============================] - 0s 1ms/step - loss: 0.6710 - accuracy: 0.5590\n",
            "Epoch 20/250\n",
            "32/32 [==============================] - 0s 1ms/step - loss: 0.6702 - accuracy: 0.5600\n",
            "Epoch 21/250\n",
            "32/32 [==============================] - 0s 1ms/step - loss: 0.6696 - accuracy: 0.5640\n",
            "Epoch 22/250\n",
            "32/32 [==============================] - 0s 1ms/step - loss: 0.6688 - accuracy: 0.5600\n",
            "Epoch 23/250\n",
            "32/32 [==============================] - 0s 1ms/step - loss: 0.6682 - accuracy: 0.5700\n",
            "Epoch 24/250\n",
            "32/32 [==============================] - 0s 1ms/step - loss: 0.6679 - accuracy: 0.5570\n",
            "Epoch 25/250\n",
            "32/32 [==============================] - 0s 1ms/step - loss: 0.6671 - accuracy: 0.5670\n",
            "Epoch 26/250\n",
            "32/32 [==============================] - 0s 1ms/step - loss: 0.6662 - accuracy: 0.5750\n",
            "Epoch 27/250\n",
            "32/32 [==============================] - 0s 1ms/step - loss: 0.6657 - accuracy: 0.5810\n",
            "Epoch 28/250\n",
            "32/32 [==============================] - 0s 1ms/step - loss: 0.6645 - accuracy: 0.5700\n",
            "Epoch 29/250\n",
            "32/32 [==============================] - 0s 2ms/step - loss: 0.6642 - accuracy: 0.5700\n",
            "Epoch 30/250\n",
            "32/32 [==============================] - 0s 1ms/step - loss: 0.6634 - accuracy: 0.5790\n",
            "Epoch 31/250\n",
            "32/32 [==============================] - 0s 1ms/step - loss: 0.6627 - accuracy: 0.5760\n",
            "Epoch 32/250\n",
            "32/32 [==============================] - 0s 1ms/step - loss: 0.6619 - accuracy: 0.5760\n",
            "Epoch 33/250\n",
            "32/32 [==============================] - 0s 1ms/step - loss: 0.6610 - accuracy: 0.5760\n",
            "Epoch 34/250\n",
            "32/32 [==============================] - 0s 1ms/step - loss: 0.6606 - accuracy: 0.5760\n",
            "Epoch 35/250\n",
            "32/32 [==============================] - 0s 1ms/step - loss: 0.6597 - accuracy: 0.5790\n",
            "Epoch 36/250\n",
            "32/32 [==============================] - 0s 1ms/step - loss: 0.6586 - accuracy: 0.5780\n",
            "Epoch 37/250\n",
            "32/32 [==============================] - 0s 1ms/step - loss: 0.6580 - accuracy: 0.5780\n",
            "Epoch 38/250\n",
            "32/32 [==============================] - 0s 1ms/step - loss: 0.6573 - accuracy: 0.5790\n",
            "Epoch 39/250\n",
            "32/32 [==============================] - 0s 1ms/step - loss: 0.6564 - accuracy: 0.5790\n",
            "Epoch 40/250\n",
            "32/32 [==============================] - 0s 2ms/step - loss: 0.6556 - accuracy: 0.5760\n",
            "Epoch 41/250\n",
            "32/32 [==============================] - 0s 1ms/step - loss: 0.6548 - accuracy: 0.5780\n",
            "Epoch 42/250\n",
            "32/32 [==============================] - 0s 1ms/step - loss: 0.6540 - accuracy: 0.5750\n",
            "Epoch 43/250\n",
            "32/32 [==============================] - 0s 1ms/step - loss: 0.6530 - accuracy: 0.5780\n",
            "Epoch 44/250\n",
            "32/32 [==============================] - 0s 1ms/step - loss: 0.6521 - accuracy: 0.5810\n",
            "Epoch 45/250\n",
            "32/32 [==============================] - 0s 1ms/step - loss: 0.6496 - accuracy: 0.5810\n",
            "Epoch 46/250\n",
            "32/32 [==============================] - 0s 1ms/step - loss: 0.6481 - accuracy: 0.5830\n",
            "Epoch 47/250\n",
            "32/32 [==============================] - 0s 1ms/step - loss: 0.6472 - accuracy: 0.5850\n",
            "Epoch 48/250\n",
            "32/32 [==============================] - 0s 1ms/step - loss: 0.6451 - accuracy: 0.5880\n",
            "Epoch 49/250\n",
            "32/32 [==============================] - 0s 1ms/step - loss: 0.6426 - accuracy: 0.5880\n",
            "Epoch 50/250\n",
            "32/32 [==============================] - 0s 1ms/step - loss: 0.6404 - accuracy: 0.5940\n",
            "Epoch 51/250\n",
            "32/32 [==============================] - 0s 1ms/step - loss: 0.6384 - accuracy: 0.6010\n",
            "Epoch 52/250\n",
            "32/32 [==============================] - 0s 1ms/step - loss: 0.6364 - accuracy: 0.6130\n",
            "Epoch 53/250\n",
            "32/32 [==============================] - 0s 1ms/step - loss: 0.6344 - accuracy: 0.6110\n",
            "Epoch 54/250\n",
            "32/32 [==============================] - 0s 1ms/step - loss: 0.6312 - accuracy: 0.6280\n",
            "Epoch 55/250\n",
            "32/32 [==============================] - 0s 1ms/step - loss: 0.6287 - accuracy: 0.6380\n",
            "Epoch 56/250\n",
            "32/32 [==============================] - 0s 1ms/step - loss: 0.6259 - accuracy: 0.6840\n",
            "Epoch 57/250\n",
            "32/32 [==============================] - 0s 1ms/step - loss: 0.6227 - accuracy: 0.6950\n",
            "Epoch 58/250\n",
            "32/32 [==============================] - 0s 1ms/step - loss: 0.6200 - accuracy: 0.6990\n",
            "Epoch 59/250\n",
            "32/32 [==============================] - 0s 1ms/step - loss: 0.6168 - accuracy: 0.6950\n",
            "Epoch 60/250\n",
            "32/32 [==============================] - 0s 2ms/step - loss: 0.6133 - accuracy: 0.7240\n",
            "Epoch 61/250\n",
            "32/32 [==============================] - 0s 1ms/step - loss: 0.6101 - accuracy: 0.7200\n",
            "Epoch 62/250\n",
            "32/32 [==============================] - 0s 1ms/step - loss: 0.6059 - accuracy: 0.7330\n",
            "Epoch 63/250\n",
            "32/32 [==============================] - 0s 2ms/step - loss: 0.6014 - accuracy: 0.7400\n",
            "Epoch 64/250\n",
            "32/32 [==============================] - 0s 2ms/step - loss: 0.5966 - accuracy: 0.7460\n",
            "Epoch 65/250\n",
            "32/32 [==============================] - 0s 1ms/step - loss: 0.5905 - accuracy: 0.7440\n",
            "Epoch 66/250\n",
            "32/32 [==============================] - 0s 1ms/step - loss: 0.5830 - accuracy: 0.7450\n",
            "Epoch 67/250\n",
            "32/32 [==============================] - 0s 1ms/step - loss: 0.5757 - accuracy: 0.7460\n",
            "Epoch 68/250\n",
            "32/32 [==============================] - 0s 1ms/step - loss: 0.5683 - accuracy: 0.7800\n",
            "Epoch 69/250\n",
            "32/32 [==============================] - 0s 1ms/step - loss: 0.5614 - accuracy: 0.8010\n",
            "Epoch 70/250\n",
            "32/32 [==============================] - 0s 1ms/step - loss: 0.5548 - accuracy: 0.8010\n",
            "Epoch 71/250\n",
            "32/32 [==============================] - 0s 1ms/step - loss: 0.5474 - accuracy: 0.8240\n",
            "Epoch 72/250\n",
            "32/32 [==============================] - 0s 1ms/step - loss: 0.5406 - accuracy: 0.8460\n",
            "Epoch 73/250\n",
            "32/32 [==============================] - 0s 1ms/step - loss: 0.5327 - accuracy: 0.8470\n",
            "Epoch 74/250\n",
            "32/32 [==============================] - 0s 1ms/step - loss: 0.5243 - accuracy: 0.8620\n",
            "Epoch 75/250\n",
            "32/32 [==============================] - 0s 1ms/step - loss: 0.5148 - accuracy: 0.8870\n",
            "Epoch 76/250\n",
            "32/32 [==============================] - 0s 2ms/step - loss: 0.5042 - accuracy: 0.8820\n",
            "Epoch 77/250\n",
            "32/32 [==============================] - 0s 1ms/step - loss: 0.4927 - accuracy: 0.9300\n",
            "Epoch 78/250\n",
            "32/32 [==============================] - 0s 1ms/step - loss: 0.4824 - accuracy: 0.9090\n",
            "Epoch 79/250\n",
            "32/32 [==============================] - 0s 2ms/step - loss: 0.4733 - accuracy: 0.9460\n",
            "Epoch 80/250\n",
            "32/32 [==============================] - 0s 1ms/step - loss: 0.4632 - accuracy: 0.9600\n",
            "Epoch 81/250\n",
            "32/32 [==============================] - 0s 1ms/step - loss: 0.4546 - accuracy: 0.9600\n",
            "Epoch 82/250\n",
            "32/32 [==============================] - 0s 1ms/step - loss: 0.4456 - accuracy: 0.9580\n",
            "Epoch 83/250\n",
            "32/32 [==============================] - 0s 1ms/step - loss: 0.4360 - accuracy: 0.9630\n",
            "Epoch 84/250\n",
            "32/32 [==============================] - 0s 1ms/step - loss: 0.4260 - accuracy: 0.9690\n",
            "Epoch 85/250\n",
            "32/32 [==============================] - 0s 1ms/step - loss: 0.4145 - accuracy: 0.9700\n",
            "Epoch 86/250\n",
            "32/32 [==============================] - 0s 1ms/step - loss: 0.4059 - accuracy: 0.9740\n",
            "Epoch 87/250\n",
            "32/32 [==============================] - 0s 1ms/step - loss: 0.3962 - accuracy: 0.9750\n",
            "Epoch 88/250\n",
            "32/32 [==============================] - 0s 1ms/step - loss: 0.3873 - accuracy: 0.9720\n",
            "Epoch 89/250\n",
            "32/32 [==============================] - 0s 2ms/step - loss: 0.3795 - accuracy: 0.9750\n",
            "Epoch 90/250\n",
            "32/32 [==============================] - 0s 2ms/step - loss: 0.3716 - accuracy: 0.9750\n",
            "Epoch 91/250\n",
            "32/32 [==============================] - 0s 1ms/step - loss: 0.3635 - accuracy: 0.9840\n",
            "Epoch 92/250\n",
            "32/32 [==============================] - 0s 1ms/step - loss: 0.3554 - accuracy: 0.9830\n",
            "Epoch 93/250\n",
            "32/32 [==============================] - 0s 1ms/step - loss: 0.3482 - accuracy: 0.9800\n",
            "Epoch 94/250\n",
            "32/32 [==============================] - 0s 1ms/step - loss: 0.3404 - accuracy: 0.9820\n",
            "Epoch 95/250\n",
            "32/32 [==============================] - 0s 1ms/step - loss: 0.3329 - accuracy: 0.9880\n",
            "Epoch 96/250\n",
            "32/32 [==============================] - 0s 1ms/step - loss: 0.3268 - accuracy: 0.9870\n",
            "Epoch 97/250\n",
            "32/32 [==============================] - 0s 1ms/step - loss: 0.3190 - accuracy: 0.9870\n",
            "Epoch 98/250\n",
            "32/32 [==============================] - 0s 1ms/step - loss: 0.3122 - accuracy: 0.9890\n",
            "Epoch 99/250\n",
            "32/32 [==============================] - 0s 1ms/step - loss: 0.3059 - accuracy: 0.9880\n",
            "Epoch 100/250\n",
            "32/32 [==============================] - 0s 1ms/step - loss: 0.2993 - accuracy: 0.9890\n",
            "Epoch 101/250\n",
            "32/32 [==============================] - 0s 1ms/step - loss: 0.2931 - accuracy: 0.9900\n",
            "Epoch 102/250\n",
            "32/32 [==============================] - 0s 1ms/step - loss: 0.2871 - accuracy: 0.9900\n",
            "Epoch 103/250\n",
            "32/32 [==============================] - 0s 1ms/step - loss: 0.2805 - accuracy: 0.9900\n",
            "Epoch 104/250\n",
            "32/32 [==============================] - 0s 1ms/step - loss: 0.2749 - accuracy: 0.9920\n",
            "Epoch 105/250\n",
            "32/32 [==============================] - 0s 2ms/step - loss: 0.2698 - accuracy: 0.9910\n",
            "Epoch 106/250\n",
            "32/32 [==============================] - 0s 1ms/step - loss: 0.2639 - accuracy: 0.9910\n",
            "Epoch 107/250\n",
            "32/32 [==============================] - 0s 1ms/step - loss: 0.2589 - accuracy: 0.9900\n",
            "Epoch 108/250\n",
            "32/32 [==============================] - 0s 1ms/step - loss: 0.2539 - accuracy: 0.9890\n",
            "Epoch 109/250\n",
            "32/32 [==============================] - 0s 1ms/step - loss: 0.2483 - accuracy: 0.9920\n",
            "Epoch 110/250\n",
            "32/32 [==============================] - 0s 1ms/step - loss: 0.2433 - accuracy: 0.9920\n",
            "Epoch 111/250\n",
            "32/32 [==============================] - 0s 1ms/step - loss: 0.2390 - accuracy: 0.9900\n",
            "Epoch 112/250\n",
            "32/32 [==============================] - 0s 1ms/step - loss: 0.2354 - accuracy: 0.9900\n",
            "Epoch 113/250\n",
            "32/32 [==============================] - 0s 1ms/step - loss: 0.2293 - accuracy: 0.9910\n",
            "Epoch 114/250\n",
            "32/32 [==============================] - 0s 1ms/step - loss: 0.2251 - accuracy: 0.9910\n",
            "Epoch 115/250\n",
            "32/32 [==============================] - 0s 1ms/step - loss: 0.2209 - accuracy: 0.9920\n",
            "Epoch 116/250\n",
            "32/32 [==============================] - 0s 1ms/step - loss: 0.2164 - accuracy: 0.9920\n",
            "Epoch 117/250\n",
            "32/32 [==============================] - 0s 1ms/step - loss: 0.2130 - accuracy: 0.9900\n",
            "Epoch 118/250\n",
            "32/32 [==============================] - 0s 2ms/step - loss: 0.2092 - accuracy: 0.9910\n",
            "Epoch 119/250\n",
            "32/32 [==============================] - 0s 1ms/step - loss: 0.2050 - accuracy: 0.9910\n",
            "Epoch 120/250\n",
            "32/32 [==============================] - 0s 1ms/step - loss: 0.2016 - accuracy: 0.9890\n",
            "Epoch 121/250\n",
            "32/32 [==============================] - 0s 1ms/step - loss: 0.1979 - accuracy: 0.9920\n",
            "Epoch 122/250\n",
            "32/32 [==============================] - 0s 1ms/step - loss: 0.1938 - accuracy: 0.9910\n",
            "Epoch 123/250\n",
            "32/32 [==============================] - 0s 1ms/step - loss: 0.1906 - accuracy: 0.9920\n",
            "Epoch 124/250\n",
            "32/32 [==============================] - 0s 1ms/step - loss: 0.1872 - accuracy: 0.9910\n",
            "Epoch 125/250\n",
            "32/32 [==============================] - 0s 1ms/step - loss: 0.1839 - accuracy: 0.9900\n",
            "Epoch 126/250\n",
            "32/32 [==============================] - 0s 1ms/step - loss: 0.1809 - accuracy: 0.9920\n",
            "Epoch 127/250\n",
            "32/32 [==============================] - 0s 1ms/step - loss: 0.1771 - accuracy: 0.9910\n",
            "Epoch 128/250\n",
            "32/32 [==============================] - 0s 2ms/step - loss: 0.1747 - accuracy: 0.9920\n",
            "Epoch 129/250\n",
            "32/32 [==============================] - 0s 1ms/step - loss: 0.1712 - accuracy: 0.9930\n",
            "Epoch 130/250\n",
            "32/32 [==============================] - 0s 1ms/step - loss: 0.1682 - accuracy: 0.9930\n",
            "Epoch 131/250\n",
            "32/32 [==============================] - 0s 1ms/step - loss: 0.1662 - accuracy: 0.9910\n",
            "Epoch 132/250\n",
            "32/32 [==============================] - 0s 1ms/step - loss: 0.1630 - accuracy: 0.9930\n",
            "Epoch 133/250\n",
            "32/32 [==============================] - 0s 2ms/step - loss: 0.1603 - accuracy: 0.9910\n",
            "Epoch 134/250\n",
            "32/32 [==============================] - 0s 1ms/step - loss: 0.1578 - accuracy: 0.9910\n",
            "Epoch 135/250\n",
            "32/32 [==============================] - 0s 1ms/step - loss: 0.1552 - accuracy: 0.9940\n",
            "Epoch 136/250\n",
            "32/32 [==============================] - 0s 1ms/step - loss: 0.1530 - accuracy: 0.9920\n",
            "Epoch 137/250\n",
            "32/32 [==============================] - 0s 1ms/step - loss: 0.1510 - accuracy: 0.9920\n",
            "Epoch 138/250\n",
            "32/32 [==============================] - 0s 2ms/step - loss: 0.1480 - accuracy: 0.9930\n",
            "Epoch 139/250\n",
            "32/32 [==============================] - 0s 1ms/step - loss: 0.1459 - accuracy: 0.9920\n",
            "Epoch 140/250\n",
            "32/32 [==============================] - 0s 1ms/step - loss: 0.1439 - accuracy: 0.9910\n",
            "Epoch 141/250\n",
            "32/32 [==============================] - 0s 1ms/step - loss: 0.1420 - accuracy: 0.9930\n",
            "Epoch 142/250\n",
            "32/32 [==============================] - 0s 1ms/step - loss: 0.1392 - accuracy: 0.9940\n",
            "Epoch 143/250\n",
            "32/32 [==============================] - 0s 1ms/step - loss: 0.1376 - accuracy: 0.9920\n",
            "Epoch 144/250\n",
            "32/32 [==============================] - 0s 1ms/step - loss: 0.1356 - accuracy: 0.9930\n",
            "Epoch 145/250\n",
            "32/32 [==============================] - 0s 1ms/step - loss: 0.1332 - accuracy: 0.9920\n",
            "Epoch 146/250\n",
            "32/32 [==============================] - 0s 1ms/step - loss: 0.1314 - accuracy: 0.9910\n",
            "Epoch 147/250\n",
            "32/32 [==============================] - 0s 1ms/step - loss: 0.1295 - accuracy: 0.9900\n",
            "Epoch 148/250\n",
            "32/32 [==============================] - 0s 1ms/step - loss: 0.1276 - accuracy: 0.9930\n",
            "Epoch 149/250\n",
            "32/32 [==============================] - 0s 1ms/step - loss: 0.1257 - accuracy: 0.9930\n",
            "Epoch 150/250\n",
            "32/32 [==============================] - 0s 1ms/step - loss: 0.1242 - accuracy: 0.9920\n",
            "Epoch 151/250\n",
            "32/32 [==============================] - 0s 2ms/step - loss: 0.1229 - accuracy: 0.9910\n",
            "Epoch 152/250\n",
            "32/32 [==============================] - 0s 1ms/step - loss: 0.1208 - accuracy: 0.9920\n",
            "Epoch 153/250\n",
            "32/32 [==============================] - 0s 2ms/step - loss: 0.1190 - accuracy: 0.9930\n",
            "Epoch 154/250\n",
            "32/32 [==============================] - 0s 1ms/step - loss: 0.1174 - accuracy: 0.9920\n",
            "Epoch 155/250\n",
            "32/32 [==============================] - 0s 1ms/step - loss: 0.1156 - accuracy: 0.9940\n",
            "Epoch 156/250\n",
            "32/32 [==============================] - 0s 1ms/step - loss: 0.1143 - accuracy: 0.9930\n",
            "Epoch 157/250\n",
            "32/32 [==============================] - 0s 1ms/step - loss: 0.1128 - accuracy: 0.9920\n",
            "Epoch 158/250\n",
            "32/32 [==============================] - 0s 1ms/step - loss: 0.1112 - accuracy: 0.9930\n",
            "Epoch 159/250\n",
            "32/32 [==============================] - 0s 1ms/step - loss: 0.1099 - accuracy: 0.9920\n",
            "Epoch 160/250\n",
            "32/32 [==============================] - 0s 1ms/step - loss: 0.1090 - accuracy: 0.9900\n",
            "Epoch 161/250\n",
            "32/32 [==============================] - 0s 1ms/step - loss: 0.1079 - accuracy: 0.9930\n",
            "Epoch 162/250\n",
            "32/32 [==============================] - 0s 1ms/step - loss: 0.1058 - accuracy: 0.9930\n",
            "Epoch 163/250\n",
            "32/32 [==============================] - 0s 1ms/step - loss: 0.1046 - accuracy: 0.9940\n",
            "Epoch 164/250\n",
            "32/32 [==============================] - 0s 2ms/step - loss: 0.1031 - accuracy: 0.9930\n",
            "Epoch 165/250\n",
            "32/32 [==============================] - 0s 1ms/step - loss: 0.1027 - accuracy: 0.9890\n",
            "Epoch 166/250\n",
            "32/32 [==============================] - 0s 1ms/step - loss: 0.1010 - accuracy: 0.9930\n",
            "Epoch 167/250\n",
            "32/32 [==============================] - 0s 1ms/step - loss: 0.0996 - accuracy: 0.9930\n",
            "Epoch 168/250\n",
            "32/32 [==============================] - 0s 1ms/step - loss: 0.0986 - accuracy: 0.9920\n",
            "Epoch 169/250\n",
            "32/32 [==============================] - 0s 1ms/step - loss: 0.0970 - accuracy: 0.9930\n",
            "Epoch 170/250\n",
            "32/32 [==============================] - 0s 1ms/step - loss: 0.0959 - accuracy: 0.9920\n",
            "Epoch 171/250\n",
            "32/32 [==============================] - 0s 1ms/step - loss: 0.0949 - accuracy: 0.9920\n",
            "Epoch 172/250\n",
            "32/32 [==============================] - 0s 1ms/step - loss: 0.0937 - accuracy: 0.9920\n",
            "Epoch 173/250\n",
            "32/32 [==============================] - 0s 1ms/step - loss: 0.0926 - accuracy: 0.9930\n",
            "Epoch 174/250\n",
            "32/32 [==============================] - 0s 1ms/step - loss: 0.0915 - accuracy: 0.9920\n",
            "Epoch 175/250\n",
            "32/32 [==============================] - 0s 1ms/step - loss: 0.0913 - accuracy: 0.9910\n",
            "Epoch 176/250\n",
            "32/32 [==============================] - 0s 1ms/step - loss: 0.0900 - accuracy: 0.9930\n",
            "Epoch 177/250\n",
            "32/32 [==============================] - 0s 1ms/step - loss: 0.0885 - accuracy: 0.9940\n",
            "Epoch 178/250\n",
            "32/32 [==============================] - 0s 2ms/step - loss: 0.0882 - accuracy: 0.9900\n",
            "Epoch 179/250\n",
            "32/32 [==============================] - 0s 1ms/step - loss: 0.0869 - accuracy: 0.9920\n",
            "Epoch 180/250\n",
            "32/32 [==============================] - 0s 1ms/step - loss: 0.0859 - accuracy: 0.9930\n",
            "Epoch 181/250\n",
            "32/32 [==============================] - 0s 2ms/step - loss: 0.0851 - accuracy: 0.9930\n",
            "Epoch 182/250\n",
            "32/32 [==============================] - 0s 1ms/step - loss: 0.0840 - accuracy: 0.9920\n",
            "Epoch 183/250\n",
            "32/32 [==============================] - 0s 1ms/step - loss: 0.0831 - accuracy: 0.9920\n",
            "Epoch 184/250\n",
            "32/32 [==============================] - 0s 1ms/step - loss: 0.0823 - accuracy: 0.9920\n",
            "Epoch 185/250\n",
            "32/32 [==============================] - 0s 1ms/step - loss: 0.0816 - accuracy: 0.9940\n",
            "Epoch 186/250\n",
            "32/32 [==============================] - 0s 1ms/step - loss: 0.0809 - accuracy: 0.9930\n",
            "Epoch 187/250\n",
            "32/32 [==============================] - 0s 1ms/step - loss: 0.0801 - accuracy: 0.9940\n",
            "Epoch 188/250\n",
            "32/32 [==============================] - 0s 1ms/step - loss: 0.0786 - accuracy: 0.9920\n",
            "Epoch 189/250\n",
            "32/32 [==============================] - 0s 1ms/step - loss: 0.0780 - accuracy: 0.9930\n",
            "Epoch 190/250\n",
            "32/32 [==============================] - 0s 1ms/step - loss: 0.0773 - accuracy: 0.9930\n",
            "Epoch 191/250\n",
            "32/32 [==============================] - 0s 1ms/step - loss: 0.0767 - accuracy: 0.9920\n",
            "Epoch 192/250\n",
            "32/32 [==============================] - 0s 1ms/step - loss: 0.0759 - accuracy: 0.9910\n",
            "Epoch 193/250\n",
            "32/32 [==============================] - 0s 1ms/step - loss: 0.0748 - accuracy: 0.9910\n",
            "Epoch 194/250\n",
            "32/32 [==============================] - 0s 1ms/step - loss: 0.0742 - accuracy: 0.9920\n",
            "Epoch 195/250\n",
            "32/32 [==============================] - 0s 1ms/step - loss: 0.0735 - accuracy: 0.9930\n",
            "Epoch 196/250\n",
            "32/32 [==============================] - 0s 1ms/step - loss: 0.0728 - accuracy: 0.9920\n",
            "Epoch 197/250\n",
            "32/32 [==============================] - 0s 2ms/step - loss: 0.0719 - accuracy: 0.9920\n",
            "Epoch 198/250\n",
            "32/32 [==============================] - 0s 1ms/step - loss: 0.0716 - accuracy: 0.9930\n",
            "Epoch 199/250\n",
            "32/32 [==============================] - 0s 1ms/step - loss: 0.0704 - accuracy: 0.9920\n",
            "Epoch 200/250\n",
            "32/32 [==============================] - 0s 1ms/step - loss: 0.0702 - accuracy: 0.9920\n",
            "Epoch 201/250\n",
            "32/32 [==============================] - 0s 1ms/step - loss: 0.0695 - accuracy: 0.9930\n",
            "Epoch 202/250\n",
            "32/32 [==============================] - 0s 2ms/step - loss: 0.0686 - accuracy: 0.9930\n",
            "Epoch 203/250\n",
            "32/32 [==============================] - 0s 1ms/step - loss: 0.0682 - accuracy: 0.9930\n",
            "Epoch 204/250\n",
            "32/32 [==============================] - 0s 1ms/step - loss: 0.0671 - accuracy: 0.9920\n",
            "Epoch 205/250\n",
            "32/32 [==============================] - 0s 1ms/step - loss: 0.0668 - accuracy: 0.9930\n",
            "Epoch 206/250\n",
            "32/32 [==============================] - 0s 1ms/step - loss: 0.0666 - accuracy: 0.9930\n",
            "Epoch 207/250\n",
            "32/32 [==============================] - 0s 1ms/step - loss: 0.0654 - accuracy: 0.9920\n",
            "Epoch 208/250\n",
            "32/32 [==============================] - 0s 1ms/step - loss: 0.0654 - accuracy: 0.9930\n",
            "Epoch 209/250\n",
            "32/32 [==============================] - 0s 1ms/step - loss: 0.0647 - accuracy: 0.9920\n",
            "Epoch 210/250\n",
            "32/32 [==============================] - 0s 1ms/step - loss: 0.0641 - accuracy: 0.9920\n",
            "Epoch 211/250\n",
            "32/32 [==============================] - 0s 1ms/step - loss: 0.0643 - accuracy: 0.9920\n",
            "Epoch 212/250\n",
            "32/32 [==============================] - 0s 1ms/step - loss: 0.0627 - accuracy: 0.9920\n",
            "Epoch 213/250\n",
            "32/32 [==============================] - 0s 1ms/step - loss: 0.0623 - accuracy: 0.9920\n",
            "Epoch 214/250\n",
            "32/32 [==============================] - 0s 1ms/step - loss: 0.0615 - accuracy: 0.9930\n",
            "Epoch 215/250\n",
            "32/32 [==============================] - 0s 2ms/step - loss: 0.0610 - accuracy: 0.9920\n",
            "Epoch 216/250\n",
            "32/32 [==============================] - 0s 1ms/step - loss: 0.0610 - accuracy: 0.9910\n",
            "Epoch 217/250\n",
            "32/32 [==============================] - 0s 2ms/step - loss: 0.0599 - accuracy: 0.9930\n",
            "Epoch 218/250\n",
            "32/32 [==============================] - 0s 2ms/step - loss: 0.0594 - accuracy: 0.9910\n",
            "Epoch 219/250\n",
            "32/32 [==============================] - 0s 1ms/step - loss: 0.0591 - accuracy: 0.9930\n",
            "Epoch 220/250\n",
            "32/32 [==============================] - 0s 1ms/step - loss: 0.0589 - accuracy: 0.9920\n",
            "Epoch 221/250\n",
            "32/32 [==============================] - 0s 1ms/step - loss: 0.0583 - accuracy: 0.9930\n",
            "Epoch 222/250\n",
            "32/32 [==============================] - 0s 1ms/step - loss: 0.0575 - accuracy: 0.9920\n",
            "Epoch 223/250\n",
            "32/32 [==============================] - 0s 1ms/step - loss: 0.0574 - accuracy: 0.9930\n",
            "Epoch 224/250\n",
            "32/32 [==============================] - 0s 1ms/step - loss: 0.0569 - accuracy: 0.9930\n",
            "Epoch 225/250\n",
            "32/32 [==============================] - 0s 1ms/step - loss: 0.0567 - accuracy: 0.9950\n",
            "Epoch 226/250\n",
            "32/32 [==============================] - 0s 1ms/step - loss: 0.0560 - accuracy: 0.9920\n",
            "Epoch 227/250\n",
            "32/32 [==============================] - 0s 1ms/step - loss: 0.0554 - accuracy: 0.9950\n",
            "Epoch 228/250\n",
            "32/32 [==============================] - 0s 1ms/step - loss: 0.0549 - accuracy: 0.9920\n",
            "Epoch 229/250\n",
            "32/32 [==============================] - 0s 1ms/step - loss: 0.0543 - accuracy: 0.9920\n",
            "Epoch 230/250\n",
            "32/32 [==============================] - 0s 1ms/step - loss: 0.0538 - accuracy: 0.9930\n",
            "Epoch 231/250\n",
            "32/32 [==============================] - 0s 1ms/step - loss: 0.0533 - accuracy: 0.9930\n",
            "Epoch 232/250\n",
            "32/32 [==============================] - 0s 1ms/step - loss: 0.0531 - accuracy: 0.9920\n",
            "Epoch 233/250\n",
            "32/32 [==============================] - 0s 1ms/step - loss: 0.0529 - accuracy: 0.9930\n",
            "Epoch 234/250\n",
            "32/32 [==============================] - 0s 1ms/step - loss: 0.0523 - accuracy: 0.9930\n",
            "Epoch 235/250\n",
            "32/32 [==============================] - 0s 2ms/step - loss: 0.0519 - accuracy: 0.9930\n",
            "Epoch 236/250\n",
            "32/32 [==============================] - 0s 1ms/step - loss: 0.0515 - accuracy: 0.9930\n",
            "Epoch 237/250\n",
            "32/32 [==============================] - 0s 1ms/step - loss: 0.0513 - accuracy: 0.9900\n",
            "Epoch 238/250\n",
            "32/32 [==============================] - 0s 2ms/step - loss: 0.0512 - accuracy: 0.9920\n",
            "Epoch 239/250\n",
            "32/32 [==============================] - 0s 1ms/step - loss: 0.0503 - accuracy: 0.9930\n",
            "Epoch 240/250\n",
            "32/32 [==============================] - 0s 1ms/step - loss: 0.0503 - accuracy: 0.9940\n",
            "Epoch 241/250\n",
            "32/32 [==============================] - 0s 1ms/step - loss: 0.0500 - accuracy: 0.9920\n",
            "Epoch 242/250\n",
            "32/32 [==============================] - 0s 1ms/step - loss: 0.0494 - accuracy: 0.9930\n",
            "Epoch 243/250\n",
            "32/32 [==============================] - 0s 1ms/step - loss: 0.0491 - accuracy: 0.9930\n",
            "Epoch 244/250\n",
            "32/32 [==============================] - 0s 1ms/step - loss: 0.0492 - accuracy: 0.9920\n",
            "Epoch 245/250\n",
            "32/32 [==============================] - 0s 1ms/step - loss: 0.0487 - accuracy: 0.9940\n",
            "Epoch 246/250\n",
            "32/32 [==============================] - 0s 2ms/step - loss: 0.0483 - accuracy: 0.9930\n",
            "Epoch 247/250\n",
            "32/32 [==============================] - 0s 1ms/step - loss: 0.0479 - accuracy: 0.9950\n",
            "Epoch 248/250\n",
            "32/32 [==============================] - 0s 1ms/step - loss: 0.0475 - accuracy: 0.9930\n",
            "Epoch 249/250\n",
            "32/32 [==============================] - 0s 1ms/step - loss: 0.0471 - accuracy: 0.9950\n",
            "Epoch 250/250\n",
            "32/32 [==============================] - 0s 1ms/step - loss: 0.0471 - accuracy: 0.9940\n"
          ],
          "name": "stdout"
        }
      ]
    },
    {
      "cell_type": "code",
      "metadata": {
        "id": "u1AOAaSLCoKc",
        "outputId": "9d1fd453-95c3-47a9-ffe8-ad4b30ddc4b1",
        "colab": {
          "base_uri": "https://localhost:8080/"
        }
      },
      "source": [
        "# 4. Evaluate our model\n",
        "model_7.evaluate(X, y)"
      ],
      "execution_count": 53,
      "outputs": [
        {
          "output_type": "stream",
          "text": [
            "32/32 [==============================] - 0s 1ms/step - loss: 0.0459 - accuracy: 0.9920\n"
          ],
          "name": "stdout"
        },
        {
          "output_type": "execute_result",
          "data": {
            "text/plain": [
              "[0.04593363776803017, 0.9919999837875366]"
            ]
          },
          "metadata": {
            "tags": []
          },
          "execution_count": 53
        }
      ]
    },
    {
      "cell_type": "code",
      "metadata": {
        "id": "h2qAJjd8B4m2",
        "outputId": "18f5068c-dd14-4136-ad0c-dbf04e212ea2",
        "colab": {
          "base_uri": "https://localhost:8080/",
          "height": 282
        }
      },
      "source": [
        "# How do our model predictions look?\n",
        "plot_decision_boundary(model=model_7,\n",
        "                       X=X,\n",
        "                       y=y)"
      ],
      "execution_count": 52,
      "outputs": [
        {
          "output_type": "stream",
          "text": [
            "doing binary classification\n"
          ],
          "name": "stdout"
        },
        {
          "output_type": "display_data",
          "data": {
            "image/png": "[encoded data removed]",
            "text/plain": [
              "<Figure size 432x288 with 1 Axes>"
            ]
          },
          "metadata": {
            "tags": [],
            "needs_background": "light"
          }
        }
      ]
    },
    {
      "cell_type": "markdown",
      "metadata": {
        "id": "kSkekFCCDAWP"
      },
      "source": [
        "**Question:** What's wrong the predictions we've made? Are we really evaluating our model correctly?\n",
        "Hint: what data did the model learn on and what data  did we predict on?\n",
        "\n",
        "**Note:** The combination of **linear(straingt lines) and non-linear (non-straight lines) functions** is one of the key fundamentals of neural networks."
      ]
    },
    {
      "cell_type": "code",
      "metadata": {
        "id": "RMO_acWeCAzf"
      },
      "source": [
        " "
      ],
      "execution_count": null,
      "outputs": []
    }
  ]
}